{
 "cells": [
  {
   "cell_type": "markdown",
   "metadata": {},
   "source": [
    "$$\n",
    "\\newcommand{P}[1]{\\mathrm{P}\\left( #1 \\right)}\n",
    "\\newcommand{Pc}[2]{\\mathrm{P}\\left( #1 \\mid #2 \\right)}\n",
    "\\newcommand{In}[2]{ #1 \\perp\\!\\!\\!\\perp #2}\n",
    "\\newcommand{Cin}[3]{ #1 \\perp\\!\\!\\!\\perp #2 \\, | \\, #3}\n",
    "\\newcommand{do}[1]{\\mathrm{do}\\left( #1 \\right)}\n",
    "$$"
   ]
  },
  {
   "cell_type": "markdown",
   "metadata": {},
   "source": [
    "In a [previous blog post](http://www.degeneratestate.org/posts/2018/Mar/24/causal-inference-with-python-part-1-potential-outcomes/) I discussed how we can use the idea of [potential outcomes](https://en.wikipedia.org/wiki/Rubin_causal_model) to make causal inferences from observational data. Under the Potential Outcomes framework we treat the counterfactual outcome as if it were [missing data](https://en.wikipedia.org/wiki/Missing_data) and attempt to estimate these missing values from the observed data. To do this we needed to make strong assumptions about the data generating process, specifically \"Strong Ignorability\"\n",
    "\n",
    "$\\Cin{Y_{i}}{X}{Z}$\n",
    "\n",
    "Where $Y_{i}$ are the potential outcomes we are trying to estimate, $X$ is the intervention we are trying to measure and $Z$ are a set of covariates which allow us to \"correct\" our estimate. This statement should be read: \"$Y_{i}$ is conditional independent of $X$ given $Z$\".\n",
    "\n",
    "This is a strong statement about the process which generated our data. In order to understand where strong ignorability hold, we need to make some assumptions about the _structure_ of the data generating process itself. The language we will be using to express this structure is that of Causal Graphical Models. In this post I will try to give an light overview of causal graphical model using a [python package of the same name](https://github.com/ijmbarr/causalgraphicalmodels). \n",
    "\n",
    "Compared to my previous post, this post will be less about techniques to make causal inferences and more on gaining intuition about how we can describe data generating structure and what statements we can make once we have such a description. I am also not going to be playing fast and loose with some of the maths "
   ]
  },
  {
   "cell_type": "markdown",
   "metadata": {},
   "source": [
    "# What is Structure? \n",
    "\n",
    "One way we can try and model the world is through the idea of Structural Causal Models, or [Structural Equation Models](https://en.wikipedia.org/wiki/Structural_equation_modeling): that we can model the relationships between different variables is described by functions. \n",
    "\n",
    "For example, imagine a system of three variables, $x_{1}, x_{2}, x_{3}$. We could imagine they are related in the following way:\n",
    "\n",
    "$x_{1} \\sim \\hbox{Bernoulli}(0.3)$\n",
    "\n",
    "$x_{2} \\sim \\hbox{Normal}(x_{1}, 0.1)$\n",
    "\n",
    "$x_{3} = x_{3}^{2}$\n",
    "\n",
    "$X_{1}$ and $X_{2}$ are samples from random variables, and $X_{3}$ is a deterministic function of $X_{2}$. \n",
    "\n",
    "It is easy to simulate this system in python:"
   ]
  },
  {
   "cell_type": "code",
   "execution_count": 1,
   "metadata": {},
   "outputs": [
    {
     "name": "stdout",
     "output_type": "stream",
     "text": [
      "x1 = 0, x2 = 0.09, x3 = 0.01\n"
     ]
    }
   ],
   "source": [
    "# first, import some standard libraries\n",
    "\n",
    "import numpy as np\n",
    "import pandas as pd\n",
    "import matplotlib.pyplot as plt\n",
    "import seaborn as sns\n",
    "\n",
    "%matplotlib inline\n",
    "\n",
    "def f1(): \n",
    "    return np.random.binomial(n=1,p=0.3)\n",
    "\n",
    "def f2(x1):\n",
    "    return np.random.normal(loc=x1, scale=0.1)\n",
    "    \n",
    "def f3(x2):\n",
    "    return x2 ** 2\n",
    "\n",
    "x1 = f1()\n",
    "x2 = f2(x1)\n",
    "x3 = f3(x2)\n",
    "\n",
    "print(\"x1 = {}, x2 = {:.2f}, x3 = {:.2f}\".format(x1, x2, x3))"
   ]
  },
  {
   "cell_type": "markdown",
   "metadata": {},
   "source": [
    "Structure is the description of which variables are functions of which other variables. In the above example, `x1` can only influence `x3` _though_ `x2`, no matter what the actual functions are. \n",
    "\n",
    "This way of modeling structure is appealing because it has a natural way to describe interventions: we reach into the system and replace the value of one variable with one we choose. If we replace `x2` with some value `x2_intervention` the system would now be updated according to\n",
    "\n",
    "```python\n",
    "x1 = f1()\n",
    "x2 = x2_intervention\n",
    "x3 = f3(x2)\n",
    "```\n",
    "\n",
    "This has the very measurable consequence that if we intervene on `x2`, `x3` will be independent of `x1`. This wouldn't be the case if the structure had looked something like\n",
    "\n",
    "```python\n",
    "x1 = f1()\n",
    "x2 = f2(x1)\n",
    "x3 = f3(x2, x1)\n",
    "```\n",
    "\n",
    "Here there is no ambiguity about what intervention means, and what the structure of the system is. It might seem too far fetched to assume that _all_ relationships been things we measure can be described this way, but ultimately the justification is the universe is governed by the laws of physics. These functions might be very complicated, stochastic, or unknown, but they exist. \n",
    "\n",
    "The question then becomes: what can we say about interventions when we don't know the true functional relationships, only the structure. \n",
    "\n",
    "Note: This isn't _entirely_ true. Quantum mechanics has some interesting things to say about causality, and if I get the chance, I'll try and write about them. For most causal inference tasks, we can safely ignore quantum effects."
   ]
  },
  {
   "cell_type": "markdown",
   "metadata": {},
   "source": [
    "## Causal Graphical Models\n",
    "\n",
    "Let us begin with a classical example of a causal system: the sprinker. It is a system of five variable which indicate the conditions on a certain day:\n",
    "\n",
    " - $season$: indicates which season it is\n",
    " - $rain$: indicates whether it is raining\n",
    " - $sprinkler$: indicates whether our sprinkler is on\n",
    " - $wet$: indicates whether the group is wet\n",
    " - $slippery$: indicates whether the ground is slippery\n",
    " \n",
    "We know that when it rains, the ground will become wet, however the making the ground wet doesn't cause it to rain. This is exactly the kind of direct relationship that could be described by a function. In the absence of this actual function, we are left with a set of variables and directed relationships between then. A natural way to represent this structure is a directed graph, specifically a [Directed Acyclic Graph](https://en.wikipedia.org/wiki/Directed_acyclic_graph). We require the graph to be acyclic to prevent \"causal loops\".\n",
    "\n",
    "We can create a causal graphical model of this system by specifying the nodes and edges of this graph:"
   ]
  },
  {
   "cell_type": "code",
   "execution_count": 2,
   "metadata": {},
   "outputs": [
    {
     "data": {
      "image/svg+xml": [
       "<?xml version=\"1.0\" encoding=\"UTF-8\" standalone=\"no\"?>\n",
       "<!DOCTYPE svg PUBLIC \"-//W3C//DTD SVG 1.1//EN\"\n",
       " \"http://www.w3.org/Graphics/SVG/1.1/DTD/svg11.dtd\">\n",
       "<!-- Generated by graphviz version 2.40.1 (20161225.0304)\n",
       " -->\n",
       "<!-- Title: %3 Pages: 1 -->\n",
       "<svg width=\"150pt\" height=\"260pt\"\n",
       " viewBox=\"0.00 0.00 150.10 260.00\" xmlns=\"http://www.w3.org/2000/svg\" xmlns:xlink=\"http://www.w3.org/1999/xlink\">\n",
       "<g id=\"graph0\" class=\"graph\" transform=\"scale(1 1) rotate(0) translate(4 256)\">\n",
       "<title>%3</title>\n",
       "<polygon fill=\"#ffffff\" stroke=\"transparent\" points=\"-4,4 -4,-256 146.0969,-256 146.0969,4 -4,4\"/>\n",
       "<!-- season -->\n",
       "<g id=\"node1\" class=\"node\">\n",
       "<title>season</title>\n",
       "<ellipse fill=\"none\" stroke=\"#000000\" cx=\"67\" cy=\"-234\" rx=\"28.6953\" ry=\"18\"/>\n",
       "<text text-anchor=\"middle\" x=\"67\" y=\"-230.3\" font-family=\"Times,serif\" font-size=\"14.00\" fill=\"#000000\">season</text>\n",
       "</g>\n",
       "<!-- rain -->\n",
       "<g id=\"node2\" class=\"node\">\n",
       "<title>rain</title>\n",
       "<ellipse fill=\"none\" stroke=\"#000000\" cx=\"27\" cy=\"-162\" rx=\"27\" ry=\"18\"/>\n",
       "<text text-anchor=\"middle\" x=\"27\" y=\"-158.3\" font-family=\"Times,serif\" font-size=\"14.00\" fill=\"#000000\">rain</text>\n",
       "</g>\n",
       "<!-- season&#45;&gt;rain -->\n",
       "<g id=\"edge1\" class=\"edge\">\n",
       "<title>season&#45;&gt;rain</title>\n",
       "<path fill=\"none\" stroke=\"#000000\" d=\"M57.5206,-216.937C52.6885,-208.2393 46.7111,-197.4799 41.3304,-187.7948\"/>\n",
       "<polygon fill=\"#000000\" stroke=\"#000000\" points=\"44.3274,-185.9823 36.4114,-178.9405 38.2083,-189.3819 44.3274,-185.9823\"/>\n",
       "</g>\n",
       "<!-- sprinkler -->\n",
       "<g id=\"node3\" class=\"node\">\n",
       "<title>sprinkler</title>\n",
       "<ellipse fill=\"none\" stroke=\"#000000\" cx=\"107\" cy=\"-162\" rx=\"35.194\" ry=\"18\"/>\n",
       "<text text-anchor=\"middle\" x=\"107\" y=\"-158.3\" font-family=\"Times,serif\" font-size=\"14.00\" fill=\"#000000\">sprinkler</text>\n",
       "</g>\n",
       "<!-- season&#45;&gt;sprinkler -->\n",
       "<g id=\"edge2\" class=\"edge\">\n",
       "<title>season&#45;&gt;sprinkler</title>\n",
       "<path fill=\"none\" stroke=\"#000000\" d=\"M76.4794,-216.937C81.2415,-208.3654 87.1159,-197.7914 92.4353,-188.2165\"/>\n",
       "<polygon fill=\"#000000\" stroke=\"#000000\" points=\"95.5138,-189.882 97.3107,-179.4407 89.3947,-186.4825 95.5138,-189.882\"/>\n",
       "</g>\n",
       "<!-- wet -->\n",
       "<g id=\"node4\" class=\"node\">\n",
       "<title>wet</title>\n",
       "<ellipse fill=\"none\" stroke=\"#000000\" cx=\"67\" cy=\"-90\" rx=\"27\" ry=\"18\"/>\n",
       "<text text-anchor=\"middle\" x=\"67\" y=\"-86.3\" font-family=\"Times,serif\" font-size=\"14.00\" fill=\"#000000\">wet</text>\n",
       "</g>\n",
       "<!-- rain&#45;&gt;wet -->\n",
       "<g id=\"edge3\" class=\"edge\">\n",
       "<title>rain&#45;&gt;wet</title>\n",
       "<path fill=\"none\" stroke=\"#000000\" d=\"M36.4794,-144.937C41.3115,-136.2393 47.2889,-125.4799 52.6696,-115.7948\"/>\n",
       "<polygon fill=\"#000000\" stroke=\"#000000\" points=\"55.7917,-117.3819 57.5886,-106.9405 49.6726,-113.9823 55.7917,-117.3819\"/>\n",
       "</g>\n",
       "<!-- sprinkler&#45;&gt;wet -->\n",
       "<g id=\"edge4\" class=\"edge\">\n",
       "<title>sprinkler&#45;&gt;wet</title>\n",
       "<path fill=\"none\" stroke=\"#000000\" d=\"M97.3171,-144.5708C92.6004,-136.0807 86.8294,-125.6929 81.593,-116.2674\"/>\n",
       "<polygon fill=\"#000000\" stroke=\"#000000\" points=\"84.5097,-114.3105 76.5937,-107.2687 78.3906,-117.71 84.5097,-114.3105\"/>\n",
       "</g>\n",
       "<!-- slippery -->\n",
       "<g id=\"node5\" class=\"node\">\n",
       "<title>slippery</title>\n",
       "<ellipse fill=\"none\" stroke=\"#000000\" cx=\"67\" cy=\"-18\" rx=\"32.4942\" ry=\"18\"/>\n",
       "<text text-anchor=\"middle\" x=\"67\" y=\"-14.3\" font-family=\"Times,serif\" font-size=\"14.00\" fill=\"#000000\">slippery</text>\n",
       "</g>\n",
       "<!-- wet&#45;&gt;slippery -->\n",
       "<g id=\"edge5\" class=\"edge\">\n",
       "<title>wet&#45;&gt;slippery</title>\n",
       "<path fill=\"none\" stroke=\"#000000\" d=\"M67,-71.8314C67,-64.131 67,-54.9743 67,-46.4166\"/>\n",
       "<polygon fill=\"#000000\" stroke=\"#000000\" points=\"70.5001,-46.4132 67,-36.4133 63.5001,-46.4133 70.5001,-46.4132\"/>\n",
       "</g>\n",
       "</g>\n",
       "</svg>\n"
      ],
      "text/plain": [
       "<graphviz.dot.Digraph at 0x108312400>"
      ]
     },
     "execution_count": 2,
     "metadata": {},
     "output_type": "execute_result"
    }
   ],
   "source": [
    "from causalgraphicalmodels import CausalGraphicalModel\n",
    "\n",
    "sprinkler = CausalGraphicalModel(\n",
    "    nodes=[\"season\", \"rain\", \"sprinkler\", \"wet\", \"slippery\"],\n",
    "    edges=[\n",
    "        (\"season\", \"rain\"), \n",
    "        (\"season\", \"sprinkler\"), \n",
    "        (\"rain\", \"wet\"),\n",
    "        (\"sprinkler\", \"wet\"), \n",
    "        (\"wet\", \"slippery\")\n",
    "    ]\n",
    ")\n",
    "\n",
    "# draw return a graphviz `dot` object, which jupyter can render\n",
    "sprinkler.draw()"
   ]
  },
  {
   "cell_type": "markdown",
   "metadata": {},
   "source": [
    "This is a [Probabilistic Graphical Model](https://en.wikipedia.org/wiki/Graphical_model) description of the system (for more information, I recommend this excellent [Coursera Course](https://www.coursera.org/learn/probabilistic-graphical-models) on probabilistic graphical models): a non-parametric model of the structure which generates data.\n",
    "\n",
    "Describing a system in the way implies that the joint probability distribution over all variables can be factored in the following way:\n",
    "\n",
    "$\\P{\\mathbf{X}} = \\prod_{i}\\Pc{X_{i}}{\\hbox{PA}(X_{i})}$\n",
    "\n",
    "Where $\\hbox{PA}(X_{i})$ is the set of parents of the variable $X_{i}$, with respect to the graph.\n",
    "\n",
    "We can get the join probability distribution implied by our causal graphical model using"
   ]
  },
  {
   "cell_type": "code",
   "execution_count": 3,
   "metadata": {},
   "outputs": [
    {
     "name": "stdout",
     "output_type": "stream",
     "text": [
      "P(season)P(rain|season)P(sprinkler|season)P(wet|rain,sprinkler)P(slippery|wet)\n"
     ]
    }
   ],
   "source": [
    "print(sprinkler.get_distribution())"
   ]
  },
  {
   "cell_type": "markdown",
   "metadata": {},
   "source": [
    "This factorization of the joint probability distribution in implies certain [conditional independence](https://en.wikipedia.org/wiki/Conditional_independence) relationships between variables. For example, if we know whether or not the ground is wet, then whether or not it is slippery is independent of the season. In the language of probabilistic graphical models, two variables are conditionally independent given other variables if they are [d-separated](https://www.andrew.cmu.edu/user/scheines/tutor/d-sep.html).\n",
    "\n",
    "I'm not going to go into a full proof of d-separation, but to get some intuition about how it is calculated, consider the skeleton of our DAG (the graph with the same nodes and edges, but no notion of \"direction\"). Two variables can only be related if there are paths between them, so we can limit our attention to the paths between variables. If there is only a single edge between the variables, they cannot be conditionally independent. \n",
    "\n",
    "For paths of three nodes, there are three possible situations, a fork, a chain and a collider, shown below:"
   ]
  },
  {
   "cell_type": "code",
   "execution_count": 4,
   "metadata": {},
   "outputs": [
    {
     "name": "stdout",
     "output_type": "stream",
     "text": [
      "Implied conditional Independence Relationship:  [('x1', 'x3', {'x2'})]\n"
     ]
    },
    {
     "data": {
      "image/svg+xml": [
       "<?xml version=\"1.0\" encoding=\"UTF-8\" standalone=\"no\"?>\n",
       "<!DOCTYPE svg PUBLIC \"-//W3C//DTD SVG 1.1//EN\"\n",
       " \"http://www.w3.org/Graphics/SVG/1.1/DTD/svg11.dtd\">\n",
       "<!-- Generated by graphviz version 2.40.1 (20161225.0304)\n",
       " -->\n",
       "<!-- Title: %3 Pages: 1 -->\n",
       "<svg width=\"134pt\" height=\"116pt\"\n",
       " viewBox=\"0.00 0.00 134.00 116.00\" xmlns=\"http://www.w3.org/2000/svg\" xmlns:xlink=\"http://www.w3.org/1999/xlink\">\n",
       "<g id=\"graph0\" class=\"graph\" transform=\"scale(1 1) rotate(0) translate(4 112)\">\n",
       "<title>%3</title>\n",
       "<polygon fill=\"#ffffff\" stroke=\"transparent\" points=\"-4,4 -4,-112 130,-112 130,4 -4,4\"/>\n",
       "<!-- x1 -->\n",
       "<g id=\"node1\" class=\"node\">\n",
       "<title>x1</title>\n",
       "<ellipse fill=\"none\" stroke=\"#000000\" cx=\"27\" cy=\"-18\" rx=\"27\" ry=\"18\"/>\n",
       "<text text-anchor=\"middle\" x=\"27\" y=\"-14.3\" font-family=\"Times,serif\" font-size=\"14.00\" fill=\"#000000\">x1</text>\n",
       "</g>\n",
       "<!-- x2 -->\n",
       "<g id=\"node2\" class=\"node\">\n",
       "<title>x2</title>\n",
       "<ellipse fill=\"none\" stroke=\"#000000\" cx=\"63\" cy=\"-90\" rx=\"27\" ry=\"18\"/>\n",
       "<text text-anchor=\"middle\" x=\"63\" y=\"-86.3\" font-family=\"Times,serif\" font-size=\"14.00\" fill=\"#000000\">x2</text>\n",
       "</g>\n",
       "<!-- x2&#45;&gt;x1 -->\n",
       "<g id=\"edge1\" class=\"edge\">\n",
       "<title>x2&#45;&gt;x1</title>\n",
       "<path fill=\"none\" stroke=\"#000000\" d=\"M54.2854,-72.5708C50.0403,-64.0807 44.8464,-53.6929 40.1337,-44.2674\"/>\n",
       "<polygon fill=\"#000000\" stroke=\"#000000\" points=\"43.237,-42.6477 35.6343,-35.2687 36.976,-45.7782 43.237,-42.6477\"/>\n",
       "</g>\n",
       "<!-- x3 -->\n",
       "<g id=\"node3\" class=\"node\">\n",
       "<title>x3</title>\n",
       "<ellipse fill=\"none\" stroke=\"#000000\" cx=\"99\" cy=\"-18\" rx=\"27\" ry=\"18\"/>\n",
       "<text text-anchor=\"middle\" x=\"99\" y=\"-14.3\" font-family=\"Times,serif\" font-size=\"14.00\" fill=\"#000000\">x3</text>\n",
       "</g>\n",
       "<!-- x2&#45;&gt;x3 -->\n",
       "<g id=\"edge2\" class=\"edge\">\n",
       "<title>x2&#45;&gt;x3</title>\n",
       "<path fill=\"none\" stroke=\"#000000\" d=\"M71.7146,-72.5708C75.9597,-64.0807 81.1536,-53.6929 85.8663,-44.2674\"/>\n",
       "<polygon fill=\"#000000\" stroke=\"#000000\" points=\"89.024,-45.7782 90.3657,-35.2687 82.763,-42.6477 89.024,-45.7782\"/>\n",
       "</g>\n",
       "</g>\n",
       "</svg>\n"
      ],
      "text/plain": [
       "<graphviz.dot.Digraph at 0x108263be0>"
      ]
     },
     "execution_count": 4,
     "metadata": {},
     "output_type": "execute_result"
    }
   ],
   "source": [
    "from causalgraphicalmodels.examples import fork, chain, collider\n",
    "\n",
    "print(\"Implied conditional Independence Relationship: \", \n",
    "      fork.get_all_independence_relationships())\n",
    "fork.draw()"
   ]
  },
  {
   "cell_type": "code",
   "execution_count": 5,
   "metadata": {},
   "outputs": [
    {
     "name": "stdout",
     "output_type": "stream",
     "text": [
      "Implied conditional Independence Relationship:  [('x1', 'x3', {'x2'})]\n"
     ]
    },
    {
     "data": {
      "image/svg+xml": [
       "<?xml version=\"1.0\" encoding=\"UTF-8\" standalone=\"no\"?>\n",
       "<!DOCTYPE svg PUBLIC \"-//W3C//DTD SVG 1.1//EN\"\n",
       " \"http://www.w3.org/Graphics/SVG/1.1/DTD/svg11.dtd\">\n",
       "<!-- Generated by graphviz version 2.40.1 (20161225.0304)\n",
       " -->\n",
       "<!-- Title: %3 Pages: 1 -->\n",
       "<svg width=\"62pt\" height=\"188pt\"\n",
       " viewBox=\"0.00 0.00 62.00 188.00\" xmlns=\"http://www.w3.org/2000/svg\" xmlns:xlink=\"http://www.w3.org/1999/xlink\">\n",
       "<g id=\"graph0\" class=\"graph\" transform=\"scale(1 1) rotate(0) translate(4 184)\">\n",
       "<title>%3</title>\n",
       "<polygon fill=\"#ffffff\" stroke=\"transparent\" points=\"-4,4 -4,-184 58,-184 58,4 -4,4\"/>\n",
       "<!-- x1 -->\n",
       "<g id=\"node1\" class=\"node\">\n",
       "<title>x1</title>\n",
       "<ellipse fill=\"none\" stroke=\"#000000\" cx=\"27\" cy=\"-162\" rx=\"27\" ry=\"18\"/>\n",
       "<text text-anchor=\"middle\" x=\"27\" y=\"-158.3\" font-family=\"Times,serif\" font-size=\"14.00\" fill=\"#000000\">x1</text>\n",
       "</g>\n",
       "<!-- x2 -->\n",
       "<g id=\"node2\" class=\"node\">\n",
       "<title>x2</title>\n",
       "<ellipse fill=\"none\" stroke=\"#000000\" cx=\"27\" cy=\"-90\" rx=\"27\" ry=\"18\"/>\n",
       "<text text-anchor=\"middle\" x=\"27\" y=\"-86.3\" font-family=\"Times,serif\" font-size=\"14.00\" fill=\"#000000\">x2</text>\n",
       "</g>\n",
       "<!-- x1&#45;&gt;x2 -->\n",
       "<g id=\"edge1\" class=\"edge\">\n",
       "<title>x1&#45;&gt;x2</title>\n",
       "<path fill=\"none\" stroke=\"#000000\" d=\"M27,-143.8314C27,-136.131 27,-126.9743 27,-118.4166\"/>\n",
       "<polygon fill=\"#000000\" stroke=\"#000000\" points=\"30.5001,-118.4132 27,-108.4133 23.5001,-118.4133 30.5001,-118.4132\"/>\n",
       "</g>\n",
       "<!-- x3 -->\n",
       "<g id=\"node3\" class=\"node\">\n",
       "<title>x3</title>\n",
       "<ellipse fill=\"none\" stroke=\"#000000\" cx=\"27\" cy=\"-18\" rx=\"27\" ry=\"18\"/>\n",
       "<text text-anchor=\"middle\" x=\"27\" y=\"-14.3\" font-family=\"Times,serif\" font-size=\"14.00\" fill=\"#000000\">x3</text>\n",
       "</g>\n",
       "<!-- x2&#45;&gt;x3 -->\n",
       "<g id=\"edge2\" class=\"edge\">\n",
       "<title>x2&#45;&gt;x3</title>\n",
       "<path fill=\"none\" stroke=\"#000000\" d=\"M27,-71.8314C27,-64.131 27,-54.9743 27,-46.4166\"/>\n",
       "<polygon fill=\"#000000\" stroke=\"#000000\" points=\"30.5001,-46.4132 27,-36.4133 23.5001,-46.4133 30.5001,-46.4132\"/>\n",
       "</g>\n",
       "</g>\n",
       "</svg>\n"
      ],
      "text/plain": [
       "<graphviz.dot.Digraph at 0x1082f4748>"
      ]
     },
     "execution_count": 5,
     "metadata": {},
     "output_type": "execute_result"
    }
   ],
   "source": [
    "print(\"Implied conditional Independence Relationship: \", \n",
    "      chain.get_all_independence_relationships())\n",
    "chain.draw()"
   ]
  },
  {
   "cell_type": "markdown",
   "metadata": {},
   "source": [
    "In the fork and the chain imply the same independence relationships: $X_{1}$ and $X_{3}$ are not independent, unless we condition on $X_{2}$ when they become conditionally independent. (Although I should note they imply very different causal structures: In a chain $X_{1}$ has causal influence on $X_{3}$, but in a fork there is no causal influence)."
   ]
  },
  {
   "cell_type": "code",
   "execution_count": 6,
   "metadata": {},
   "outputs": [
    {
     "name": "stdout",
     "output_type": "stream",
     "text": [
      "Implied conditional Independence Relationship:  [('x1', 'x3', set())]\n"
     ]
    },
    {
     "data": {
      "image/svg+xml": [
       "<?xml version=\"1.0\" encoding=\"UTF-8\" standalone=\"no\"?>\n",
       "<!DOCTYPE svg PUBLIC \"-//W3C//DTD SVG 1.1//EN\"\n",
       " \"http://www.w3.org/Graphics/SVG/1.1/DTD/svg11.dtd\">\n",
       "<!-- Generated by graphviz version 2.40.1 (20161225.0304)\n",
       " -->\n",
       "<!-- Title: %3 Pages: 1 -->\n",
       "<svg width=\"134pt\" height=\"116pt\"\n",
       " viewBox=\"0.00 0.00 134.00 116.00\" xmlns=\"http://www.w3.org/2000/svg\" xmlns:xlink=\"http://www.w3.org/1999/xlink\">\n",
       "<g id=\"graph0\" class=\"graph\" transform=\"scale(1 1) rotate(0) translate(4 112)\">\n",
       "<title>%3</title>\n",
       "<polygon fill=\"#ffffff\" stroke=\"transparent\" points=\"-4,4 -4,-112 130,-112 130,4 -4,4\"/>\n",
       "<!-- x1 -->\n",
       "<g id=\"node1\" class=\"node\">\n",
       "<title>x1</title>\n",
       "<ellipse fill=\"none\" stroke=\"#000000\" cx=\"27\" cy=\"-90\" rx=\"27\" ry=\"18\"/>\n",
       "<text text-anchor=\"middle\" x=\"27\" y=\"-86.3\" font-family=\"Times,serif\" font-size=\"14.00\" fill=\"#000000\">x1</text>\n",
       "</g>\n",
       "<!-- x2 -->\n",
       "<g id=\"node2\" class=\"node\">\n",
       "<title>x2</title>\n",
       "<ellipse fill=\"none\" stroke=\"#000000\" cx=\"63\" cy=\"-18\" rx=\"27\" ry=\"18\"/>\n",
       "<text text-anchor=\"middle\" x=\"63\" y=\"-14.3\" font-family=\"Times,serif\" font-size=\"14.00\" fill=\"#000000\">x2</text>\n",
       "</g>\n",
       "<!-- x1&#45;&gt;x2 -->\n",
       "<g id=\"edge1\" class=\"edge\">\n",
       "<title>x1&#45;&gt;x2</title>\n",
       "<path fill=\"none\" stroke=\"#000000\" d=\"M35.7146,-72.5708C39.9597,-64.0807 45.1536,-53.6929 49.8663,-44.2674\"/>\n",
       "<polygon fill=\"#000000\" stroke=\"#000000\" points=\"53.024,-45.7782 54.3657,-35.2687 46.763,-42.6477 53.024,-45.7782\"/>\n",
       "</g>\n",
       "<!-- x3 -->\n",
       "<g id=\"node3\" class=\"node\">\n",
       "<title>x3</title>\n",
       "<ellipse fill=\"none\" stroke=\"#000000\" cx=\"99\" cy=\"-90\" rx=\"27\" ry=\"18\"/>\n",
       "<text text-anchor=\"middle\" x=\"99\" y=\"-86.3\" font-family=\"Times,serif\" font-size=\"14.00\" fill=\"#000000\">x3</text>\n",
       "</g>\n",
       "<!-- x3&#45;&gt;x2 -->\n",
       "<g id=\"edge2\" class=\"edge\">\n",
       "<title>x3&#45;&gt;x2</title>\n",
       "<path fill=\"none\" stroke=\"#000000\" d=\"M90.2854,-72.5708C86.0403,-64.0807 80.8464,-53.6929 76.1337,-44.2674\"/>\n",
       "<polygon fill=\"#000000\" stroke=\"#000000\" points=\"79.237,-42.6477 71.6343,-35.2687 72.976,-45.7782 79.237,-42.6477\"/>\n",
       "</g>\n",
       "</g>\n",
       "</svg>\n"
      ],
      "text/plain": [
       "<graphviz.dot.Digraph at 0x1082f47f0>"
      ]
     },
     "execution_count": 6,
     "metadata": {},
     "output_type": "execute_result"
    }
   ],
   "source": [
    "print(\"Implied conditional Independence Relationship: \", \n",
    "      collider.get_all_independence_relationships())\n",
    "collider.draw()"
   ]
  },
  {
   "cell_type": "markdown",
   "metadata": {},
   "source": [
    "For the collider, $x_{1}$ and $x_{3}$ are independent, unless $x_{2}$ or any of it's descendants are in the group we condition on. This is sometimes called [Berkson's Paradox](https://en.wikipedia.org/wiki/Berkson%27s_paradox). \n",
    "\n",
    "For paths longer then length 3, it turns out we can use the previous results to decide if two nodes are d-separated by examining each three structure along the paths: a path is d-separated if all sets of consecutive 3-nodes are d-separated. \n",
    "\n",
    "Consider the following path between $X_{1}$ and $X_{5}$:"
   ]
  },
  {
   "cell_type": "code",
   "execution_count": 7,
   "metadata": {},
   "outputs": [
    {
     "data": {
      "image/svg+xml": [
       "<?xml version=\"1.0\" encoding=\"UTF-8\" standalone=\"no\"?>\n",
       "<!DOCTYPE svg PUBLIC \"-//W3C//DTD SVG 1.1//EN\"\n",
       " \"http://www.w3.org/Graphics/SVG/1.1/DTD/svg11.dtd\">\n",
       "<!-- Generated by graphviz version 2.40.1 (20161225.0304)\n",
       " -->\n",
       "<!-- Title: %3 Pages: 1 -->\n",
       "<svg width=\"206pt\" height=\"188pt\"\n",
       " viewBox=\"0.00 0.00 206.00 188.00\" xmlns=\"http://www.w3.org/2000/svg\" xmlns:xlink=\"http://www.w3.org/1999/xlink\">\n",
       "<g id=\"graph0\" class=\"graph\" transform=\"scale(1 1) rotate(0) translate(4 184)\">\n",
       "<title>%3</title>\n",
       "<polygon fill=\"#ffffff\" stroke=\"transparent\" points=\"-4,4 -4,-184 202,-184 202,4 -4,4\"/>\n",
       "<!-- x1 -->\n",
       "<g id=\"node1\" class=\"node\">\n",
       "<title>x1</title>\n",
       "<ellipse fill=\"none\" stroke=\"#000000\" cx=\"27\" cy=\"-90\" rx=\"27\" ry=\"18\"/>\n",
       "<text text-anchor=\"middle\" x=\"27\" y=\"-86.3\" font-family=\"Times,serif\" font-size=\"14.00\" fill=\"#000000\">x1</text>\n",
       "</g>\n",
       "<!-- x2 -->\n",
       "<g id=\"node2\" class=\"node\">\n",
       "<title>x2</title>\n",
       "<ellipse fill=\"none\" stroke=\"#000000\" cx=\"63\" cy=\"-18\" rx=\"27\" ry=\"18\"/>\n",
       "<text text-anchor=\"middle\" x=\"63\" y=\"-14.3\" font-family=\"Times,serif\" font-size=\"14.00\" fill=\"#000000\">x2</text>\n",
       "</g>\n",
       "<!-- x1&#45;&gt;x2 -->\n",
       "<g id=\"edge1\" class=\"edge\">\n",
       "<title>x1&#45;&gt;x2</title>\n",
       "<path fill=\"none\" stroke=\"#000000\" d=\"M35.7146,-72.5708C39.9597,-64.0807 45.1536,-53.6929 49.8663,-44.2674\"/>\n",
       "<polygon fill=\"#000000\" stroke=\"#000000\" points=\"53.024,-45.7782 54.3657,-35.2687 46.763,-42.6477 53.024,-45.7782\"/>\n",
       "</g>\n",
       "<!-- x3 -->\n",
       "<g id=\"node3\" class=\"node\">\n",
       "<title>x3</title>\n",
       "<ellipse fill=\"none\" stroke=\"#000000\" cx=\"99\" cy=\"-90\" rx=\"27\" ry=\"18\"/>\n",
       "<text text-anchor=\"middle\" x=\"99\" y=\"-86.3\" font-family=\"Times,serif\" font-size=\"14.00\" fill=\"#000000\">x3</text>\n",
       "</g>\n",
       "<!-- x3&#45;&gt;x2 -->\n",
       "<g id=\"edge2\" class=\"edge\">\n",
       "<title>x3&#45;&gt;x2</title>\n",
       "<path fill=\"none\" stroke=\"#000000\" d=\"M90.2854,-72.5708C86.0403,-64.0807 80.8464,-53.6929 76.1337,-44.2674\"/>\n",
       "<polygon fill=\"#000000\" stroke=\"#000000\" points=\"79.237,-42.6477 71.6343,-35.2687 72.976,-45.7782 79.237,-42.6477\"/>\n",
       "</g>\n",
       "<!-- x4 -->\n",
       "<g id=\"node4\" class=\"node\">\n",
       "<title>x4</title>\n",
       "<ellipse fill=\"none\" stroke=\"#000000\" cx=\"135\" cy=\"-162\" rx=\"27\" ry=\"18\"/>\n",
       "<text text-anchor=\"middle\" x=\"135\" y=\"-158.3\" font-family=\"Times,serif\" font-size=\"14.00\" fill=\"#000000\">x4</text>\n",
       "</g>\n",
       "<!-- x4&#45;&gt;x3 -->\n",
       "<g id=\"edge3\" class=\"edge\">\n",
       "<title>x4&#45;&gt;x3</title>\n",
       "<path fill=\"none\" stroke=\"#000000\" d=\"M126.2854,-144.5708C122.0403,-136.0807 116.8464,-125.6929 112.1337,-116.2674\"/>\n",
       "<polygon fill=\"#000000\" stroke=\"#000000\" points=\"115.237,-114.6477 107.6343,-107.2687 108.976,-117.7782 115.237,-114.6477\"/>\n",
       "</g>\n",
       "<!-- x5 -->\n",
       "<g id=\"node5\" class=\"node\">\n",
       "<title>x5</title>\n",
       "<ellipse fill=\"none\" stroke=\"#000000\" cx=\"171\" cy=\"-90\" rx=\"27\" ry=\"18\"/>\n",
       "<text text-anchor=\"middle\" x=\"171\" y=\"-86.3\" font-family=\"Times,serif\" font-size=\"14.00\" fill=\"#000000\">x5</text>\n",
       "</g>\n",
       "<!-- x4&#45;&gt;x5 -->\n",
       "<g id=\"edge4\" class=\"edge\">\n",
       "<title>x4&#45;&gt;x5</title>\n",
       "<path fill=\"none\" stroke=\"#000000\" d=\"M143.7146,-144.5708C147.9597,-136.0807 153.1536,-125.6929 157.8663,-116.2674\"/>\n",
       "<polygon fill=\"#000000\" stroke=\"#000000\" points=\"161.024,-117.7782 162.3657,-107.2687 154.763,-114.6477 161.024,-117.7782\"/>\n",
       "</g>\n",
       "</g>\n",
       "</svg>\n"
      ],
      "text/plain": [
       "<graphviz.dot.Digraph at 0x10d281550>"
      ]
     },
     "execution_count": 7,
     "metadata": {},
     "output_type": "execute_result"
    }
   ],
   "source": [
    "path = CausalGraphicalModel(\n",
    "    nodes = [\"x1\", \"x2\", \"x3\", \"x4\", \"x5\"],\n",
    "    edges = [(\"x1\", \"x2\"), (\"x3\", \"x2\"), (\"x4\", \"x3\"), (\"x4\", \"x5\")]\n",
    ")\n",
    "\n",
    "path.draw()"
   ]
  },
  {
   "cell_type": "markdown",
   "metadata": {},
   "source": [
    "If we condition on nothing, they are d-separated because the collider ($X_{1}$, $X_{2}$, $X_{3}$) leaves the path blocked. However, if we condition on $X_{2}$ or any of it's descendants the path becomes unblocked, because the rest of the path is made up of forks ($X_{3}$, $X_{4}$, $X_{5}$) and chains ($X_{2}$, $X_{3}$, $X_{4}$). If we condition on $X_{2}$ _and_ $X_{3}$ the path becomes blocked again because the chain ($X_{2}$, $X_{3}$, $X_{4}$) is blocked.\n",
    "\n",
    "We can check this with the following code:"
   ]
  },
  {
   "cell_type": "code",
   "execution_count": 8,
   "metadata": {},
   "outputs": [
    {
     "name": "stdout",
     "output_type": "stream",
     "text": [
      "Are x1 and x5 unconditional independent? True \n",
      "Are x1 and x5 conditional independent when conditioning on x2? False \n",
      "Are x1 and x5 conditional independent when conditioning on x2 and x3? True \n"
     ]
    }
   ],
   "source": [
    "print(\"Are x1 and x5 unconditional independent? {} \"\n",
    "      .format(path.is_d_separated(\"x1\", \"x5\", {})))\n",
    "\n",
    "print(\"Are x1 and x5 conditional independent when conditioning on x2? {} \"\n",
    "      .format(path.is_d_separated(\"x1\", \"x5\", {\"x2\"})))\n",
    "\n",
    "print(\"Are x1 and x5 conditional independent when conditioning on x2 and x3? {} \"\n",
    "      .format(path.is_d_separated(\"x1\", \"x5\", {\"x2\", \"x3\"})))"
   ]
  },
  {
   "cell_type": "markdown",
   "metadata": {},
   "source": [
    "We can read off all independence relationships implied by the graph in the sprinkler system using:"
   ]
  },
  {
   "cell_type": "code",
   "execution_count": 9,
   "metadata": {},
   "outputs": [
    {
     "data": {
      "text/plain": [
       "[('season', 'wet', {'rain', 'sprinkler'}),\n",
       " ('season', 'wet', {'rain', 'slippery', 'sprinkler'}),\n",
       " ('season', 'slippery', {'wet'}),\n",
       " ('season', 'slippery', {'rain', 'sprinkler'}),\n",
       " ('season', 'slippery', {'sprinkler', 'wet'}),\n",
       " ('season', 'slippery', {'rain', 'wet'}),\n",
       " ('season', 'slippery', {'rain', 'sprinkler', 'wet'}),\n",
       " ('rain', 'sprinkler', {'season'}),\n",
       " ('rain', 'slippery', {'wet'}),\n",
       " ('rain', 'slippery', {'season', 'wet'}),\n",
       " ('rain', 'slippery', {'sprinkler', 'wet'}),\n",
       " ('rain', 'slippery', {'season', 'sprinkler', 'wet'}),\n",
       " ('sprinkler', 'slippery', {'wet'}),\n",
       " ('sprinkler', 'slippery', {'season', 'wet'}),\n",
       " ('sprinkler', 'slippery', {'rain', 'wet'}),\n",
       " ('sprinkler', 'slippery', {'rain', 'season', 'wet'})]"
      ]
     },
     "execution_count": 9,
     "metadata": {},
     "output_type": "execute_result"
    }
   ],
   "source": [
    "sprinkler.get_all_independence_relationships()"
   ]
  },
  {
   "cell_type": "markdown",
   "metadata": {},
   "source": [
    "At this point it is worth emphasising that causal graphical models are _non-parametric_: they do not make any assumptions about the functional form of relationships between variables, only that they exist. Because of this the only testable assumption these models make are the conditional independence relationships between the variables. Unfortunately, [testing conditional independence, in the general case, is impossible](https://arxiv.org/pdf/1804.07203.pdf). Combined with the fact that there are [many possible DAGs](http://arantxa.ii.uam.es/~ssantini/writing/notes/s649_dag_counting.pdf) for even a reasonable number of variables, discovering causal structure from observational data alone is very difficult. \n",
    "\n",
    "There are still some [interesting approaches](https://arxiv.org/abs/1501.01332) to identifying causal structure, but for these notes, it is best to think of the main use of causal graphical models as a way of explicitly encoding prior knowledge about the structure of a system, and to use this structure combined with observational data to make predictions about the effect of causal interventions."
   ]
  },
  {
   "cell_type": "markdown",
   "metadata": {},
   "source": [
    "# From Bayesian networks to Causal Graphical Models\n",
    "\n",
    "So far, our description of causal graphical models has been the same as those of general [Bayesian Networks](https://en.wikipedia.org/wiki/Bayesian_network). To endow these structures with a notion of causality, we some assumptions about what happens when an intervention occurs. In causal graphical models, this is the notion of \"**Stability**\" or \"**Invariance**\" - that when we make an intervention on one variable, the structure of the causal graph and the functional relationships between the remaining variables remain the same.\n",
    "\n",
    "If the assumption of invariance holds, the effect of an intervention on variable $X$ to remove the edges between the variable and it's parents. We typically denote a node with an intervention with a node with a double outline. \n",
    "\n",
    "Imagine that we had the power the control the weather. If use it to make an intervention on the \"rain\" node of our sprinkler model, we get the following system:"
   ]
  },
  {
   "cell_type": "code",
   "execution_count": 10,
   "metadata": {},
   "outputs": [
    {
     "name": "stdout",
     "output_type": "stream",
     "text": [
      "P(season)P(sprinkler|season)P(wet|do(rain),sprinkler)P(slippery|wet)\n"
     ]
    },
    {
     "data": {
      "image/svg+xml": [
       "<?xml version=\"1.0\" encoding=\"UTF-8\" standalone=\"no\"?>\n",
       "<!DOCTYPE svg PUBLIC \"-//W3C//DTD SVG 1.1//EN\"\n",
       " \"http://www.w3.org/Graphics/SVG/1.1/DTD/svg11.dtd\">\n",
       "<!-- Generated by graphviz version 2.40.1 (20161225.0304)\n",
       " -->\n",
       "<!-- Title: %3 Pages: 1 -->\n",
       "<svg width=\"158pt\" height=\"268pt\"\n",
       " viewBox=\"0.00 0.00 158.10 268.00\" xmlns=\"http://www.w3.org/2000/svg\" xmlns:xlink=\"http://www.w3.org/1999/xlink\">\n",
       "<g id=\"graph0\" class=\"graph\" transform=\"scale(1 1) rotate(0) translate(4 264)\">\n",
       "<title>%3</title>\n",
       "<polygon fill=\"#ffffff\" stroke=\"transparent\" points=\"-4,4 -4,-264 154.0969,-264 154.0969,4 -4,4\"/>\n",
       "<!-- season -->\n",
       "<g id=\"node1\" class=\"node\">\n",
       "<title>season</title>\n",
       "<ellipse fill=\"none\" stroke=\"#000000\" cx=\"35.0969\" cy=\"-242\" rx=\"28.6953\" ry=\"18\"/>\n",
       "<text text-anchor=\"middle\" x=\"35.0969\" y=\"-238.3\" font-family=\"Times,serif\" font-size=\"14.00\" fill=\"#000000\">season</text>\n",
       "</g>\n",
       "<!-- sprinkler -->\n",
       "<g id=\"node3\" class=\"node\">\n",
       "<title>sprinkler</title>\n",
       "<ellipse fill=\"none\" stroke=\"#000000\" cx=\"35.0969\" cy=\"-166\" rx=\"35.194\" ry=\"18\"/>\n",
       "<text text-anchor=\"middle\" x=\"35.0969\" y=\"-162.3\" font-family=\"Times,serif\" font-size=\"14.00\" fill=\"#000000\">sprinkler</text>\n",
       "</g>\n",
       "<!-- season&#45;&gt;sprinkler -->\n",
       "<g id=\"edge1\" class=\"edge\">\n",
       "<title>season&#45;&gt;sprinkler</title>\n",
       "<path fill=\"none\" stroke=\"#000000\" d=\"M35.0969,-223.9891C35.0969,-215.1566 35.0969,-204.3099 35.0969,-194.3965\"/>\n",
       "<polygon fill=\"#000000\" stroke=\"#000000\" points=\"38.597,-194.145 35.0969,-184.145 31.597,-194.1451 38.597,-194.145\"/>\n",
       "</g>\n",
       "<!-- rain -->\n",
       "<g id=\"node2\" class=\"node\">\n",
       "<title>rain</title>\n",
       "<ellipse fill=\"none\" stroke=\"#000000\" cx=\"119.0969\" cy=\"-166\" rx=\"27\" ry=\"18\"/>\n",
       "<ellipse fill=\"none\" stroke=\"#000000\" cx=\"119.0969\" cy=\"-166\" rx=\"31\" ry=\"22\"/>\n",
       "<text text-anchor=\"middle\" x=\"119.0969\" y=\"-162.3\" font-family=\"Times,serif\" font-size=\"14.00\" fill=\"#000000\">rain</text>\n",
       "</g>\n",
       "<!-- wet -->\n",
       "<g id=\"node4\" class=\"node\">\n",
       "<title>wet</title>\n",
       "<ellipse fill=\"none\" stroke=\"#000000\" cx=\"77.0969\" cy=\"-90\" rx=\"27\" ry=\"18\"/>\n",
       "<text text-anchor=\"middle\" x=\"77.0969\" y=\"-86.3\" font-family=\"Times,serif\" font-size=\"14.00\" fill=\"#000000\">wet</text>\n",
       "</g>\n",
       "<!-- rain&#45;&gt;wet -->\n",
       "<g id=\"edge2\" class=\"edge\">\n",
       "<title>rain&#45;&gt;wet</title>\n",
       "<path fill=\"none\" stroke=\"#000000\" d=\"M107.6202,-145.2327C102.6655,-136.2669 96.8134,-125.6775 91.5656,-116.1815\"/>\n",
       "<polygon fill=\"#000000\" stroke=\"#000000\" points=\"94.4751,-114.2102 86.5749,-107.1506 88.3484,-117.596 94.4751,-114.2102\"/>\n",
       "</g>\n",
       "<!-- sprinkler&#45;&gt;wet -->\n",
       "<g id=\"edge3\" class=\"edge\">\n",
       "<title>sprinkler&#45;&gt;wet</title>\n",
       "<path fill=\"none\" stroke=\"#000000\" d=\"M44.8381,-148.373C50.161,-138.7411 56.8541,-126.6299 62.7619,-115.9394\"/>\n",
       "<polygon fill=\"#000000\" stroke=\"#000000\" points=\"65.9239,-117.4539 67.6974,-107.0086 59.7972,-114.0681 65.9239,-117.4539\"/>\n",
       "</g>\n",
       "<!-- slippery -->\n",
       "<g id=\"node5\" class=\"node\">\n",
       "<title>slippery</title>\n",
       "<ellipse fill=\"none\" stroke=\"#000000\" cx=\"77.0969\" cy=\"-18\" rx=\"32.4942\" ry=\"18\"/>\n",
       "<text text-anchor=\"middle\" x=\"77.0969\" y=\"-14.3\" font-family=\"Times,serif\" font-size=\"14.00\" fill=\"#000000\">slippery</text>\n",
       "</g>\n",
       "<!-- wet&#45;&gt;slippery -->\n",
       "<g id=\"edge4\" class=\"edge\">\n",
       "<title>wet&#45;&gt;slippery</title>\n",
       "<path fill=\"none\" stroke=\"#000000\" d=\"M77.0969,-71.8314C77.0969,-64.131 77.0969,-54.9743 77.0969,-46.4166\"/>\n",
       "<polygon fill=\"#000000\" stroke=\"#000000\" points=\"80.597,-46.4132 77.0969,-36.4133 73.597,-46.4133 80.597,-46.4132\"/>\n",
       "</g>\n",
       "</g>\n",
       "</svg>\n"
      ],
      "text/plain": [
       "<graphviz.dot.Digraph at 0x10d2812e8>"
      ]
     },
     "execution_count": 10,
     "metadata": {},
     "output_type": "execute_result"
    }
   ],
   "source": [
    "sprinkler_do = sprinkler.do(\"rain\")\n",
    "\n",
    "print(sprinkler_do.get_distribution())\n",
    "\n",
    "sprinkler_do.draw()"
   ]
  },
  {
   "cell_type": "markdown",
   "metadata": {},
   "source": [
    "Because causal graphical models are non-parametric, they cannot tell us _what_ the relationship between two variables are, they only give us an idea _if_ there is a relationship between the two variables through the notion of conditional independence. It does this using the idea of \"paths\" between variables: if there are no unblocked paths between two variables, they are independent. It also means that if two causal graphical models share the same paths between two variables, the conditional relationship between these two variables are the same. \n",
    "\n",
    "For example, in the graph of out sprinkler system, $\\Pc{slippery}{wet}$ is the same whether or not we make an intervention on $rain$, but $\\Pc{slippery}{season}$ is not.\n",
    "\n",
    "Describing the interventions in the way has some immediate consequences:\n",
    "\n",
    "- $X$ can only have some causal inference on $Y$ if there is at least one directed path between $X$ and $Y$. This is because if there is no directed path, with respect to the interventional graph the parents of $X$ have been removed, so $\\In{X}{Y}$ in the intervential graph.\n",
    "- If there are _only_ directed paths between $X$ and $Y$, then the the causal influence of $X$ on $Y$ is given by the simply by the conditional distribution $\\Pc{Y}{X}$. This is because the interventional graph has the same paths between $X$ and $Y$ as the observational distribution.\n",
    "- If there is a unblocked, but not completely directed path between $X$ and $Y$, it means that both $X$ and $Y$ share a common ancestor. This common ancestor is what is called a [_confounder_](https://en.wikipedia.org/wiki/Confounding), and will mean that if we try to estimate $\\Pc{Y}{\\do{X}}$ from $\\Pc{Y}{X}$ of estimates will be biased.\n",
    " \n",
    "None of these results should be too surprising, but causal graphical models give us a way to quantify these understanding."
   ]
  },
  {
   "cell_type": "markdown",
   "metadata": {
    "collapsed": true
   },
   "source": [
    "# Causal Inference with  Causal Graphical Models\n",
    "\n",
    "Now that we have a way of describing how both observational and interventional distributions are generated and how they relate to each other, we can ask under what circumstances it is possible to make causal inferences from a system we only have observational samples from. This problem is often called \"Identifiability\". \n",
    "\n",
    "To be specific, the question is under what circumstances can we estimate\n",
    "\n",
    "$\\Pc{Y}{\\do{X}}$\n",
    "\n",
    "from observational data, given some assumed causal graphical model?\n",
    "\n",
    "It turns out we can do this via a set of manipulations known as [do-calculus](https://arxiv.org/pdf/1210.4852.pdf), a set of rules which together with the standard [rules of manipulating probability distributions](https://arxiv.org/pdf/1205.4446.pdf) can allow expressions involving distributions conditioned by $\\do{\\dots}$ to be transformed into a form which involves no interventions. \n",
    "\n",
    "I'm not going to cover the full score of do-calculus here, instead I'm going to explore some examples. \n",
    "\n",
    "Let's start with the following causal graphical model:"
   ]
  },
  {
   "cell_type": "code",
   "execution_count": 11,
   "metadata": {},
   "outputs": [
    {
     "data": {
      "image/svg+xml": [
       "<?xml version=\"1.0\" encoding=\"UTF-8\" standalone=\"no\"?>\n",
       "<!DOCTYPE svg PUBLIC \"-//W3C//DTD SVG 1.1//EN\"\n",
       " \"http://www.w3.org/Graphics/SVG/1.1/DTD/svg11.dtd\">\n",
       "<!-- Generated by graphviz version 2.40.1 (20161225.0304)\n",
       " -->\n",
       "<!-- Title: %3 Pages: 1 -->\n",
       "<svg width=\"89pt\" height=\"188pt\"\n",
       " viewBox=\"0.00 0.00 89.00 188.00\" xmlns=\"http://www.w3.org/2000/svg\" xmlns:xlink=\"http://www.w3.org/1999/xlink\">\n",
       "<g id=\"graph0\" class=\"graph\" transform=\"scale(1 1) rotate(0) translate(4 184)\">\n",
       "<title>%3</title>\n",
       "<polygon fill=\"#ffffff\" stroke=\"transparent\" points=\"-4,4 -4,-184 85,-184 85,4 -4,4\"/>\n",
       "<!-- x -->\n",
       "<g id=\"node1\" class=\"node\">\n",
       "<title>x</title>\n",
       "<ellipse fill=\"none\" stroke=\"#000000\" cx=\"27\" cy=\"-90\" rx=\"27\" ry=\"18\"/>\n",
       "<text text-anchor=\"middle\" x=\"27\" y=\"-86.3\" font-family=\"Times,serif\" font-size=\"14.00\" fill=\"#000000\">x</text>\n",
       "</g>\n",
       "<!-- y -->\n",
       "<g id=\"node2\" class=\"node\">\n",
       "<title>y</title>\n",
       "<ellipse fill=\"none\" stroke=\"#000000\" cx=\"54\" cy=\"-18\" rx=\"27\" ry=\"18\"/>\n",
       "<text text-anchor=\"middle\" x=\"54\" y=\"-14.3\" font-family=\"Times,serif\" font-size=\"14.00\" fill=\"#000000\">y</text>\n",
       "</g>\n",
       "<!-- x&#45;&gt;y -->\n",
       "<g id=\"edge1\" class=\"edge\">\n",
       "<title>x&#45;&gt;y</title>\n",
       "<path fill=\"none\" stroke=\"#000000\" d=\"M33.6742,-72.2022C36.7476,-64.0064 40.4616,-54.1024 43.8695,-45.0145\"/>\n",
       "<polygon fill=\"#000000\" stroke=\"#000000\" points=\"47.1685,-46.1853 47.4026,-35.593 40.6142,-43.7274 47.1685,-46.1853\"/>\n",
       "</g>\n",
       "<!-- z -->\n",
       "<g id=\"node3\" class=\"node\">\n",
       "<title>z</title>\n",
       "<ellipse fill=\"none\" stroke=\"#000000\" cx=\"54\" cy=\"-162\" rx=\"27\" ry=\"18\"/>\n",
       "<text text-anchor=\"middle\" x=\"54\" y=\"-158.3\" font-family=\"Times,serif\" font-size=\"14.00\" fill=\"#000000\">z</text>\n",
       "</g>\n",
       "<!-- z&#45;&gt;x -->\n",
       "<g id=\"edge2\" class=\"edge\">\n",
       "<title>z&#45;&gt;x</title>\n",
       "<path fill=\"none\" stroke=\"#000000\" d=\"M47.3258,-144.2022C44.2524,-136.0064 40.5384,-126.1024 37.1305,-117.0145\"/>\n",
       "<polygon fill=\"#000000\" stroke=\"#000000\" points=\"40.3858,-115.7274 33.5974,-107.593 33.8315,-118.1853 40.3858,-115.7274\"/>\n",
       "</g>\n",
       "<!-- z&#45;&gt;y -->\n",
       "<g id=\"edge3\" class=\"edge\">\n",
       "<title>z&#45;&gt;y</title>\n",
       "<path fill=\"none\" stroke=\"#000000\" d=\"M57.7474,-144.0931C59.7466,-133.6241 61.9966,-120.1241 63,-108 64.3197,-92.0545 64.3197,-87.9455 63,-72 62.2945,-63.4753 60.9727,-54.2703 59.5551,-45.917\"/>\n",
       "<polygon fill=\"#000000\" stroke=\"#000000\" points=\"62.9689,-45.1258 57.7474,-35.9069 56.0803,-46.3698 62.9689,-45.1258\"/>\n",
       "</g>\n",
       "</g>\n",
       "</svg>\n"
      ],
      "text/plain": [
       "<graphviz.dot.Digraph at 0x1082f49b0>"
      ]
     },
     "execution_count": 11,
     "metadata": {},
     "output_type": "execute_result"
    }
   ],
   "source": [
    "from causalgraphicalmodels.examples import simple_confounded\n",
    "\n",
    "simple_confounded.draw()"
   ]
  },
  {
   "cell_type": "markdown",
   "metadata": {},
   "source": [
    "Under intervention on $X$, the causal graphical model generating the data is "
   ]
  },
  {
   "cell_type": "code",
   "execution_count": 12,
   "metadata": {},
   "outputs": [
    {
     "data": {
      "image/svg+xml": [
       "<?xml version=\"1.0\" encoding=\"UTF-8\" standalone=\"no\"?>\n",
       "<!DOCTYPE svg PUBLIC \"-//W3C//DTD SVG 1.1//EN\"\n",
       " \"http://www.w3.org/Graphics/SVG/1.1/DTD/svg11.dtd\">\n",
       "<!-- Generated by graphviz version 2.40.1 (20161225.0304)\n",
       " -->\n",
       "<!-- Title: %3 Pages: 1 -->\n",
       "<svg width=\"142pt\" height=\"124pt\"\n",
       " viewBox=\"0.00 0.00 142.00 124.00\" xmlns=\"http://www.w3.org/2000/svg\" xmlns:xlink=\"http://www.w3.org/1999/xlink\">\n",
       "<g id=\"graph0\" class=\"graph\" transform=\"scale(1 1) rotate(0) translate(4 120)\">\n",
       "<title>%3</title>\n",
       "<polygon fill=\"#ffffff\" stroke=\"transparent\" points=\"-4,4 -4,-120 138,-120 138,4 -4,4\"/>\n",
       "<!-- x -->\n",
       "<g id=\"node1\" class=\"node\">\n",
       "<title>x</title>\n",
       "<ellipse fill=\"none\" stroke=\"#000000\" cx=\"31\" cy=\"-94\" rx=\"27\" ry=\"18\"/>\n",
       "<ellipse fill=\"none\" stroke=\"#000000\" cx=\"31\" cy=\"-94\" rx=\"31\" ry=\"22\"/>\n",
       "<text text-anchor=\"middle\" x=\"31\" y=\"-90.3\" font-family=\"Times,serif\" font-size=\"14.00\" fill=\"#000000\">x</text>\n",
       "</g>\n",
       "<!-- y -->\n",
       "<g id=\"node2\" class=\"node\">\n",
       "<title>y</title>\n",
       "<ellipse fill=\"none\" stroke=\"#000000\" cx=\"69\" cy=\"-18\" rx=\"27\" ry=\"18\"/>\n",
       "<text text-anchor=\"middle\" x=\"69\" y=\"-14.3\" font-family=\"Times,serif\" font-size=\"14.00\" fill=\"#000000\">y</text>\n",
       "</g>\n",
       "<!-- x&#45;&gt;y -->\n",
       "<g id=\"edge1\" class=\"edge\">\n",
       "<title>x&#45;&gt;y</title>\n",
       "<path fill=\"none\" stroke=\"#000000\" d=\"M41.3837,-73.2327C45.8665,-64.2669 51.1613,-53.6775 55.9093,-44.1815\"/>\n",
       "<polygon fill=\"#000000\" stroke=\"#000000\" points=\"59.083,-45.6602 60.4247,-35.1506 52.822,-42.5297 59.083,-45.6602\"/>\n",
       "</g>\n",
       "<!-- z -->\n",
       "<g id=\"node3\" class=\"node\">\n",
       "<title>z</title>\n",
       "<ellipse fill=\"none\" stroke=\"#000000\" cx=\"107\" cy=\"-94\" rx=\"27\" ry=\"18\"/>\n",
       "<text text-anchor=\"middle\" x=\"107\" y=\"-90.3\" font-family=\"Times,serif\" font-size=\"14.00\" fill=\"#000000\">z</text>\n",
       "</g>\n",
       "<!-- z&#45;&gt;y -->\n",
       "<g id=\"edge2\" class=\"edge\">\n",
       "<title>z&#45;&gt;y</title>\n",
       "<path fill=\"none\" stroke=\"#000000\" d=\"M98.3772,-76.7544C93.5673,-67.1345 87.4774,-54.9548 82.0911,-44.1822\"/>\n",
       "<polygon fill=\"#000000\" stroke=\"#000000\" points=\"85.1914,-42.5563 77.5887,-35.1773 78.9304,-45.6869 85.1914,-42.5563\"/>\n",
       "</g>\n",
       "</g>\n",
       "</svg>\n"
      ],
      "text/plain": [
       "<graphviz.dot.Digraph at 0x10d281390>"
      ]
     },
     "execution_count": 12,
     "metadata": {},
     "output_type": "execute_result"
    }
   ],
   "source": [
    "simple_confounded.do(\"x\").draw()"
   ]
  },
  {
   "cell_type": "markdown",
   "metadata": {
    "collapsed": true
   },
   "source": [
    "We are going to try and estimate the quantity\n",
    "\n",
    "$\\Pc{Y}{\\do{X}}$\n",
    "\n",
    "We can start by expanding this distribution using the standard rules of marginalization: \n",
    "\n",
    "$\\Pc{Y}{\\do{X}} = \\sum_{Z} \\Pc{Y}{\\do{X}, Z} \\Pc{Z}{\\do{X}}$\n",
    "\n",
    "And because in the interventional distribution $\\do{X}$ is independent of $Z$ we get \n",
    "\n",
    "$\\Pc{Y}{\\do{X}} = \\sum_{Z} \\Pc{Y}{\\do{X}, Z} \\P{Z}$\n",
    "\n",
    "Appealing to the assumption of stability, we assume that the conditional distribution of $Y$ given it's parents is takes the same form when an intervention takes place, we can write:\n",
    "\n",
    "$\\Pc{Y}{\\do{X}} = \\sum_{Z} \\Pc{Y}{X, Z} \\P{Z}$\n",
    "\n",
    "Where there are no more references to $\\do{\\dots}$ on the right hand side of the equation: we succeeded writing an interventional distribution in terms of a observational distribution. It is worth comparing this with a similar formula for the observational conditional distribution:\n",
    "\n",
    "$\\Pc{Y}{X} = \\sum_{Z} \\Pc{Y}{X, Z} \\Pc{Z}{X}$\n"
   ]
  },
  {
   "cell_type": "markdown",
   "metadata": {},
   "source": [
    "# When can we use the Adjustment Formula?\n",
    "\n",
    "The formula we found in the previous section appears in a number of areas, and is something called the adjustment formula, or g-formula or backdoor adjustment formula. It states that under certain circumstances, for a set of variables $W$, we can estimate the the causal influence of $X$ on $Y$ with respect to a causal graphical model using the equation\n",
    "\n",
    "$\\Pc{Y}{\\do{X}} = \\sum_{W} \\Pc{Y}{X, W} \\P{W}$\n",
    "\n",
    "The criterion for $W$ to exist is sometimes called the backdoor criterion. Graphically it states that\n",
    "\n",
    "1. $W$ blocks all backdoor paths between $X$ and $Y$ (all paths with arrows going into $X$)\n",
    "2. $W$ does not contain any descendants of $X$\n",
    "\n",
    "Like in the previous section, these criteria are met when $W$ are the parents of $X$, but these aren't the only variables which can be used as an adjustment set. Consider the following graph: "
   ]
  },
  {
   "cell_type": "code",
   "execution_count": 13,
   "metadata": {},
   "outputs": [
    {
     "data": {
      "image/svg+xml": [
       "<?xml version=\"1.0\" encoding=\"UTF-8\" standalone=\"no\"?>\n",
       "<!DOCTYPE svg PUBLIC \"-//W3C//DTD SVG 1.1//EN\"\n",
       " \"http://www.w3.org/Graphics/SVG/1.1/DTD/svg11.dtd\">\n",
       "<!-- Generated by graphviz version 2.40.1 (20161225.0304)\n",
       " -->\n",
       "<!-- Title: %3 Pages: 1 -->\n",
       "<svg width=\"189pt\" height=\"332pt\"\n",
       " viewBox=\"0.00 0.00 189.00 332.00\" xmlns=\"http://www.w3.org/2000/svg\" xmlns:xlink=\"http://www.w3.org/1999/xlink\">\n",
       "<g id=\"graph0\" class=\"graph\" transform=\"scale(1 1) rotate(0) translate(4 328)\">\n",
       "<title>%3</title>\n",
       "<polygon fill=\"#ffffff\" stroke=\"transparent\" points=\"-4,4 -4,-328 185,-328 185,4 -4,4\"/>\n",
       "<!-- a -->\n",
       "<g id=\"node1\" class=\"node\">\n",
       "<title>a</title>\n",
       "<ellipse fill=\"none\" stroke=\"#000000\" cx=\"41\" cy=\"-306\" rx=\"27\" ry=\"18\"/>\n",
       "<text text-anchor=\"middle\" x=\"41\" y=\"-302.3\" font-family=\"Times,serif\" font-size=\"14.00\" fill=\"#000000\">a</text>\n",
       "</g>\n",
       "<!-- x -->\n",
       "<g id=\"node3\" class=\"node\">\n",
       "<title>x</title>\n",
       "<ellipse fill=\"none\" stroke=\"#000000\" cx=\"82\" cy=\"-234\" rx=\"27\" ry=\"18\"/>\n",
       "<text text-anchor=\"middle\" x=\"82\" y=\"-230.3\" font-family=\"Times,serif\" font-size=\"14.00\" fill=\"#000000\">x</text>\n",
       "</g>\n",
       "<!-- a&#45;&gt;x -->\n",
       "<g id=\"edge1\" class=\"edge\">\n",
       "<title>a&#45;&gt;x</title>\n",
       "<path fill=\"none\" stroke=\"#000000\" d=\"M50.7164,-288.937C55.6693,-280.2393 61.7961,-269.4799 67.3113,-259.7948\"/>\n",
       "<polygon fill=\"#000000\" stroke=\"#000000\" points=\"70.4463,-261.3623 72.3533,-250.9405 64.3634,-257.8984 70.4463,-261.3623\"/>\n",
       "</g>\n",
       "<!-- h -->\n",
       "<g id=\"node9\" class=\"node\">\n",
       "<title>h</title>\n",
       "<ellipse fill=\"none\" stroke=\"#000000\" cx=\"27\" cy=\"-18\" rx=\"27\" ry=\"18\"/>\n",
       "<text text-anchor=\"middle\" x=\"27\" y=\"-14.3\" font-family=\"Times,serif\" font-size=\"14.00\" fill=\"#000000\">h</text>\n",
       "</g>\n",
       "<!-- a&#45;&gt;h -->\n",
       "<g id=\"edge2\" class=\"edge\">\n",
       "<title>a&#45;&gt;h</title>\n",
       "<path fill=\"none\" stroke=\"#000000\" d=\"M40.1242,-287.9843C37.7573,-239.2939 31.2193,-104.7961 28.3639,-46.0573\"/>\n",
       "<polygon fill=\"#000000\" stroke=\"#000000\" points=\"31.8569,-45.8271 27.8754,-36.0089 24.8652,-46.1671 31.8569,-45.8271\"/>\n",
       "</g>\n",
       "<!-- b -->\n",
       "<g id=\"node2\" class=\"node\">\n",
       "<title>b</title>\n",
       "<ellipse fill=\"none\" stroke=\"#000000\" cx=\"140\" cy=\"-306\" rx=\"27\" ry=\"18\"/>\n",
       "<text text-anchor=\"middle\" x=\"140\" y=\"-302.3\" font-family=\"Times,serif\" font-size=\"14.00\" fill=\"#000000\">b</text>\n",
       "</g>\n",
       "<!-- b&#45;&gt;x -->\n",
       "<g id=\"edge3\" class=\"edge\">\n",
       "<title>b&#45;&gt;x</title>\n",
       "<path fill=\"none\" stroke=\"#000000\" d=\"M127.1279,-290.0209C119.5438,-280.6061 109.8018,-268.5126 101.3116,-257.973\"/>\n",
       "<polygon fill=\"#000000\" stroke=\"#000000\" points=\"103.8351,-255.5264 94.8361,-249.9345 98.3838,-259.9177 103.8351,-255.5264\"/>\n",
       "</g>\n",
       "<!-- d -->\n",
       "<g id=\"node6\" class=\"node\">\n",
       "<title>d</title>\n",
       "<ellipse fill=\"none\" stroke=\"#000000\" cx=\"154\" cy=\"-234\" rx=\"27\" ry=\"18\"/>\n",
       "<text text-anchor=\"middle\" x=\"154\" y=\"-230.3\" font-family=\"Times,serif\" font-size=\"14.00\" fill=\"#000000\">d</text>\n",
       "</g>\n",
       "<!-- b&#45;&gt;d -->\n",
       "<g id=\"edge4\" class=\"edge\">\n",
       "<title>b&#45;&gt;d</title>\n",
       "<path fill=\"none\" stroke=\"#000000\" d=\"M143.5328,-287.8314C145.0698,-279.9266 146.9053,-270.4872 148.6068,-261.7365\"/>\n",
       "<polygon fill=\"#000000\" stroke=\"#000000\" points=\"152.0437,-262.3976 150.5168,-251.9134 145.1724,-261.0615 152.0437,-262.3976\"/>\n",
       "</g>\n",
       "<!-- c -->\n",
       "<g id=\"node4\" class=\"node\">\n",
       "<title>c</title>\n",
       "<ellipse fill=\"none\" stroke=\"#000000\" cx=\"82\" cy=\"-162\" rx=\"27\" ry=\"18\"/>\n",
       "<text text-anchor=\"middle\" x=\"82\" y=\"-158.3\" font-family=\"Times,serif\" font-size=\"14.00\" fill=\"#000000\">c</text>\n",
       "</g>\n",
       "<!-- x&#45;&gt;c -->\n",
       "<g id=\"edge5\" class=\"edge\">\n",
       "<title>x&#45;&gt;c</title>\n",
       "<path fill=\"none\" stroke=\"#000000\" d=\"M82,-215.8314C82,-208.131 82,-198.9743 82,-190.4166\"/>\n",
       "<polygon fill=\"#000000\" stroke=\"#000000\" points=\"85.5001,-190.4132 82,-180.4133 78.5001,-190.4133 85.5001,-190.4132\"/>\n",
       "</g>\n",
       "<!-- y -->\n",
       "<g id=\"node5\" class=\"node\">\n",
       "<title>y</title>\n",
       "<ellipse fill=\"none\" stroke=\"#000000\" cx=\"90\" cy=\"-90\" rx=\"27\" ry=\"18\"/>\n",
       "<text text-anchor=\"middle\" x=\"90\" y=\"-86.3\" font-family=\"Times,serif\" font-size=\"14.00\" fill=\"#000000\">y</text>\n",
       "</g>\n",
       "<!-- c&#45;&gt;y -->\n",
       "<g id=\"edge6\" class=\"edge\">\n",
       "<title>c&#45;&gt;y</title>\n",
       "<path fill=\"none\" stroke=\"#000000\" d=\"M84.0187,-143.8314C84.8743,-136.131 85.8917,-126.9743 86.8426,-118.4166\"/>\n",
       "<polygon fill=\"#000000\" stroke=\"#000000\" points=\"90.3283,-118.7386 87.9541,-108.4133 83.3711,-117.9656 90.3283,-118.7386\"/>\n",
       "</g>\n",
       "<!-- f -->\n",
       "<g id=\"node8\" class=\"node\">\n",
       "<title>f</title>\n",
       "<ellipse fill=\"none\" stroke=\"#000000\" cx=\"99\" cy=\"-18\" rx=\"27\" ry=\"18\"/>\n",
       "<text text-anchor=\"middle\" x=\"99\" y=\"-14.3\" font-family=\"Times,serif\" font-size=\"14.00\" fill=\"#000000\">f</text>\n",
       "</g>\n",
       "<!-- y&#45;&gt;f -->\n",
       "<g id=\"edge7\" class=\"edge\">\n",
       "<title>y&#45;&gt;f</title>\n",
       "<path fill=\"none\" stroke=\"#000000\" d=\"M92.2711,-71.8314C93.2336,-64.131 94.3782,-54.9743 95.4479,-46.4166\"/>\n",
       "<polygon fill=\"#000000\" stroke=\"#000000\" points=\"98.9309,-46.7702 96.6983,-36.4133 91.9849,-45.9019 98.9309,-46.7702\"/>\n",
       "</g>\n",
       "<!-- y&#45;&gt;h -->\n",
       "<g id=\"edge8\" class=\"edge\">\n",
       "<title>y&#45;&gt;h</title>\n",
       "<path fill=\"none\" stroke=\"#000000\" d=\"M76.3299,-74.3771C67.8266,-64.659 56.7387,-51.987 47.2292,-41.1191\"/>\n",
       "<polygon fill=\"#000000\" stroke=\"#000000\" points=\"49.8625,-38.8135 40.6434,-33.5924 44.5944,-43.423 49.8625,-38.8135\"/>\n",
       "</g>\n",
       "<!-- e -->\n",
       "<g id=\"node7\" class=\"node\">\n",
       "<title>e</title>\n",
       "<ellipse fill=\"none\" stroke=\"#000000\" cx=\"154\" cy=\"-162\" rx=\"27\" ry=\"18\"/>\n",
       "<text text-anchor=\"middle\" x=\"154\" y=\"-158.3\" font-family=\"Times,serif\" font-size=\"14.00\" fill=\"#000000\">e</text>\n",
       "</g>\n",
       "<!-- d&#45;&gt;e -->\n",
       "<g id=\"edge9\" class=\"edge\">\n",
       "<title>d&#45;&gt;e</title>\n",
       "<path fill=\"none\" stroke=\"#000000\" d=\"M154,-215.8314C154,-208.131 154,-198.9743 154,-190.4166\"/>\n",
       "<polygon fill=\"#000000\" stroke=\"#000000\" points=\"157.5001,-190.4132 154,-180.4133 150.5001,-190.4133 157.5001,-190.4132\"/>\n",
       "</g>\n",
       "<!-- e&#45;&gt;y -->\n",
       "<g id=\"edge10\" class=\"edge\">\n",
       "<title>e&#45;&gt;y</title>\n",
       "<path fill=\"none\" stroke=\"#000000\" d=\"M140.113,-146.3771C131.4747,-136.659 120.2107,-123.987 110.5503,-113.1191\"/>\n",
       "<polygon fill=\"#000000\" stroke=\"#000000\" points=\"113.1196,-110.7413 103.8599,-105.5924 107.8877,-115.3918 113.1196,-110.7413\"/>\n",
       "</g>\n",
       "</g>\n",
       "</svg>\n"
      ],
      "text/plain": [
       "<graphviz.dot.Digraph at 0x10d281048>"
      ]
     },
     "execution_count": 13,
     "metadata": {},
     "output_type": "execute_result"
    }
   ],
   "source": [
    "from causalgraphicalmodels.examples import big_csm\n",
    "\n",
    "example_cgm = big_csm.cgm\n",
    "example_cgm.draw()"
   ]
  },
  {
   "cell_type": "markdown",
   "metadata": {},
   "source": [
    "There are two backdoor paths between $X$ and $Y$:"
   ]
  },
  {
   "cell_type": "code",
   "execution_count": 14,
   "metadata": {},
   "outputs": [
    {
     "data": {
      "text/plain": [
       "[['x', 'a', 'h', 'y'], ['x', 'b', 'd', 'e', 'y']]"
      ]
     },
     "execution_count": 14,
     "metadata": {},
     "output_type": "execute_result"
    }
   ],
   "source": [
    "example_cgm.get_all_backdoor_paths(\"x\", \"y\")"
   ]
  },
  {
   "cell_type": "markdown",
   "metadata": {},
   "source": [
    "But because $h$ acts as a collider in the first path, it is blocked unless conditioned on. To find a valid adjustment set, we need a set which blocks this path. Any of the variables $B$, $D$, $E$ would work, as well as any combination of the above. We can also include any other variable in this set, as long as it doesn't create new paths. Adding $H$, $F$ or $C$ to the adjustment set would create a new path, making the adjustment set invalid: "
   ]
  },
  {
   "cell_type": "code",
   "execution_count": 15,
   "metadata": {},
   "outputs": [
    {
     "data": {
      "text/plain": [
       "True"
      ]
     },
     "execution_count": 15,
     "metadata": {},
     "output_type": "execute_result"
    }
   ],
   "source": [
    "example_cgm.is_valid_adjustment_set(\"x\", \"y\", {\"b\", \"d\", \"e\"})"
   ]
  },
  {
   "cell_type": "code",
   "execution_count": 16,
   "metadata": {},
   "outputs": [
    {
     "data": {
      "text/plain": [
       "False"
      ]
     },
     "execution_count": 16,
     "metadata": {},
     "output_type": "execute_result"
    }
   ],
   "source": [
    "example_cgm.is_valid_adjustment_set(\"x\", \"y\", {\"b\", \"d\", \"e\", \"h\"})"
   ]
  },
  {
   "cell_type": "markdown",
   "metadata": {},
   "source": [
    "We can compute all valid adjustment sets using the following:"
   ]
  },
  {
   "cell_type": "code",
   "execution_count": 17,
   "metadata": {},
   "outputs": [
    {
     "data": {
      "text/plain": [
       "frozenset({frozenset({'a', 'b'}),\n",
       "           frozenset({'d'}),\n",
       "           frozenset({'e'}),\n",
       "           frozenset({'d', 'e'}),\n",
       "           frozenset({'b', 'd'}),\n",
       "           frozenset({'b', 'd', 'e'}),\n",
       "           frozenset({'a', 'd'}),\n",
       "           frozenset({'a', 'd', 'e'}),\n",
       "           frozenset({'b'}),\n",
       "           frozenset({'a', 'b', 'd'}),\n",
       "           frozenset({'a', 'e'}),\n",
       "           frozenset({'b', 'e'}),\n",
       "           frozenset({'a', 'b', 'e'}),\n",
       "           frozenset({'a', 'b', 'd', 'e'})})"
      ]
     },
     "execution_count": 17,
     "metadata": {},
     "output_type": "execute_result"
    }
   ],
   "source": [
    "example_cgm.get_all_backdoor_adjustment_sets(\"x\", \"y\")"
   ]
  },
  {
   "cell_type": "markdown",
   "metadata": {},
   "source": [
    "For a full proof of the backdoor criteria, I suggest chapter 6 of the excellent book [Elements of Causal Inference](https://mitpress.mit.edu/books/elements-causal-inference), but some intuition about these requirements is that blocking all backdoor path accounts for any bias introduced by confounding variables, and the requirement that no descendants are conditioned on prevents any _new_ paths from being created.\n",
    "\n",
    "When all variables in a causal graphical model are observed, is alway a set which can be used for adjustment. If not all variables are observed, there can be causal statements which cannot be estimated from the observed data."
   ]
  },
  {
   "cell_type": "markdown",
   "metadata": {
    "collapsed": true
   },
   "source": [
    "# Relationship with Potential Outcomes\n",
    "\n",
    "Given the focus on potential outcomes that my previous post had, it is worth asking what the relationship between causal graphical models and them is. It turns out that the two approaches are exactly equivalent to each other, and a statement in one can be related to a statement in the other. \n",
    "\n",
    "There is a slight subtle point that so far I've treated causal graphical models as a way to make statements about _causal inference_ (how data would be generated if there is an intervention on the system), whereas potential outcomes describe _counterfactual inference_ (what would have happened to a system which had already been observed, if a different treatment had been applied), but it is possible to use CGMs/SCMs to reason about counterfactuals, although it is beyond these notes.\n",
    "\n",
    "That said, one of the main benefits of explicitly drawing out a causal graphical model of your system is that it makes clear whether or not conditional independence statements like\n",
    "\n",
    "$\\Cin{Y_{i}}{X}{Z}$\n",
    "\n",
    "are valid. \n",
    "\n",
    "To see how statements like this fit into CGMs, we need to start by expanding our system to include the potential outcomes:"
   ]
  },
  {
   "cell_type": "code",
   "execution_count": 18,
   "metadata": {},
   "outputs": [
    {
     "data": {
      "image/svg+xml": [
       "<?xml version=\"1.0\" encoding=\"UTF-8\" standalone=\"no\"?>\n",
       "<!DOCTYPE svg PUBLIC \"-//W3C//DTD SVG 1.1//EN\"\n",
       " \"http://www.w3.org/Graphics/SVG/1.1/DTD/svg11.dtd\">\n",
       "<!-- Generated by graphviz version 2.40.1 (20161225.0304)\n",
       " -->\n",
       "<!-- Title: %3 Pages: 1 -->\n",
       "<svg width=\"206pt\" height=\"188pt\"\n",
       " viewBox=\"0.00 0.00 206.00 188.00\" xmlns=\"http://www.w3.org/2000/svg\" xmlns:xlink=\"http://www.w3.org/1999/xlink\">\n",
       "<g id=\"graph0\" class=\"graph\" transform=\"scale(1 1) rotate(0) translate(4 184)\">\n",
       "<title>%3</title>\n",
       "<polygon fill=\"#ffffff\" stroke=\"transparent\" points=\"-4,4 -4,-184 202,-184 202,4 -4,4\"/>\n",
       "<!-- x -->\n",
       "<g id=\"node1\" class=\"node\">\n",
       "<title>x</title>\n",
       "<ellipse fill=\"none\" stroke=\"#000000\" cx=\"27\" cy=\"-90\" rx=\"27\" ry=\"18\"/>\n",
       "<text text-anchor=\"middle\" x=\"27\" y=\"-86.3\" font-family=\"Times,serif\" font-size=\"14.00\" fill=\"#000000\">x</text>\n",
       "</g>\n",
       "<!-- y -->\n",
       "<g id=\"node4\" class=\"node\">\n",
       "<title>y</title>\n",
       "<ellipse fill=\"none\" stroke=\"#000000\" cx=\"99\" cy=\"-18\" rx=\"27\" ry=\"18\"/>\n",
       "<text text-anchor=\"middle\" x=\"99\" y=\"-14.3\" font-family=\"Times,serif\" font-size=\"14.00\" fill=\"#000000\">y</text>\n",
       "</g>\n",
       "<!-- x&#45;&gt;y -->\n",
       "<g id=\"edge1\" class=\"edge\">\n",
       "<title>x&#45;&gt;y</title>\n",
       "<path fill=\"none\" stroke=\"#000000\" d=\"M42.2693,-74.7307C52.197,-64.803 65.3153,-51.6847 76.4363,-40.5637\"/>\n",
       "<polygon fill=\"#000000\" stroke=\"#000000\" points=\"79.1564,-42.7933 83.7527,-33.2473 74.2067,-37.8436 79.1564,-42.7933\"/>\n",
       "</g>\n",
       "<!-- y_0 -->\n",
       "<g id=\"node2\" class=\"node\">\n",
       "<title>y_0</title>\n",
       "<ellipse fill=\"none\" stroke=\"#000000\" cx=\"99\" cy=\"-90\" rx=\"27\" ry=\"18\"/>\n",
       "<text text-anchor=\"middle\" x=\"99\" y=\"-86.3\" font-family=\"Times,serif\" font-size=\"14.00\" fill=\"#000000\">y_0</text>\n",
       "</g>\n",
       "<!-- y_0&#45;&gt;y -->\n",
       "<g id=\"edge2\" class=\"edge\">\n",
       "<title>y_0&#45;&gt;y</title>\n",
       "<path fill=\"none\" stroke=\"#000000\" d=\"M99,-71.8314C99,-64.131 99,-54.9743 99,-46.4166\"/>\n",
       "<polygon fill=\"#000000\" stroke=\"#000000\" points=\"102.5001,-46.4132 99,-36.4133 95.5001,-46.4133 102.5001,-46.4132\"/>\n",
       "</g>\n",
       "<!-- y_1 -->\n",
       "<g id=\"node3\" class=\"node\">\n",
       "<title>y_1</title>\n",
       "<ellipse fill=\"none\" stroke=\"#000000\" cx=\"171\" cy=\"-90\" rx=\"27\" ry=\"18\"/>\n",
       "<text text-anchor=\"middle\" x=\"171\" y=\"-86.3\" font-family=\"Times,serif\" font-size=\"14.00\" fill=\"#000000\">y_1</text>\n",
       "</g>\n",
       "<!-- y_1&#45;&gt;y -->\n",
       "<g id=\"edge3\" class=\"edge\">\n",
       "<title>y_1&#45;&gt;y</title>\n",
       "<path fill=\"none\" stroke=\"#000000\" d=\"M155.7307,-74.7307C145.803,-64.803 132.6847,-51.6847 121.5637,-40.5637\"/>\n",
       "<polygon fill=\"#000000\" stroke=\"#000000\" points=\"123.7933,-37.8436 114.2473,-33.2473 118.8436,-42.7933 123.7933,-37.8436\"/>\n",
       "</g>\n",
       "<!-- z -->\n",
       "<g id=\"node5\" class=\"node\">\n",
       "<title>z</title>\n",
       "<ellipse fill=\"none\" stroke=\"#000000\" cx=\"99\" cy=\"-162\" rx=\"27\" ry=\"18\"/>\n",
       "<text text-anchor=\"middle\" x=\"99\" y=\"-158.3\" font-family=\"Times,serif\" font-size=\"14.00\" fill=\"#000000\">z</text>\n",
       "</g>\n",
       "<!-- z&#45;&gt;x -->\n",
       "<g id=\"edge4\" class=\"edge\">\n",
       "<title>z&#45;&gt;x</title>\n",
       "<path fill=\"none\" stroke=\"#000000\" d=\"M83.7307,-146.7307C73.803,-136.803 60.6847,-123.6847 49.5637,-112.5637\"/>\n",
       "<polygon fill=\"#000000\" stroke=\"#000000\" points=\"51.7933,-109.8436 42.2473,-105.2473 46.8436,-114.7933 51.7933,-109.8436\"/>\n",
       "</g>\n",
       "<!-- z&#45;&gt;y_0 -->\n",
       "<g id=\"edge5\" class=\"edge\">\n",
       "<title>z&#45;&gt;y_0</title>\n",
       "<path fill=\"none\" stroke=\"#000000\" d=\"M99,-143.8314C99,-136.131 99,-126.9743 99,-118.4166\"/>\n",
       "<polygon fill=\"#000000\" stroke=\"#000000\" points=\"102.5001,-118.4132 99,-108.4133 95.5001,-118.4133 102.5001,-118.4132\"/>\n",
       "</g>\n",
       "<!-- z&#45;&gt;y_1 -->\n",
       "<g id=\"edge6\" class=\"edge\">\n",
       "<title>z&#45;&gt;y_1</title>\n",
       "<path fill=\"none\" stroke=\"#000000\" d=\"M114.2693,-146.7307C124.197,-136.803 137.3153,-123.6847 148.4363,-112.5637\"/>\n",
       "<polygon fill=\"#000000\" stroke=\"#000000\" points=\"151.1564,-114.7933 155.7527,-105.2473 146.2067,-109.8436 151.1564,-114.7933\"/>\n",
       "</g>\n",
       "</g>\n",
       "</svg>\n"
      ],
      "text/plain": [
       "<graphviz.dot.Digraph at 0x10d2818d0>"
      ]
     },
     "execution_count": 18,
     "metadata": {},
     "output_type": "execute_result"
    }
   ],
   "source": [
    "from causalgraphicalmodels.examples import simple_confounded_potential_outcomes\n",
    "\n",
    "simple_confounded_potential_outcomes.draw()"
   ]
  },
  {
   "cell_type": "markdown",
   "metadata": {},
   "source": [
    "Here $Y_{i}$ is the potential outcome for $X=i$, and the node $Y$ now the deterministic function $Y(X, Y_{1}, Y_{0}) = Y_{X}$.\n",
    "\n",
    "By examination, it should be clear that $\\Cin{Y_{i}}{X}{Z}$ holds. \n",
    "\n",
    "Looking at the graph, we see that by construction there are no direct paths from $X$ to the potential outcomes $Y_{i}$, only backdoor paths. This means the conditional independence statement holds as long as the set $Z$ blocks all backdoor paths between $Y$ and $X$, and does not create any new one. This is exactly the backdoor criteria.  "
   ]
  },
  {
   "cell_type": "markdown",
   "metadata": {},
   "source": [
    "# Actually Estimating Causal Effects \n",
    "\n",
    "In our example of the `simple_confounding` causal graphical model, we showed that to make estimates of $\\Pc{Y}{\\do{X}}$ we need a way of estimating the quantity $\\Pc{Y}{X, Z}$ from our observational data. \n",
    "\n",
    "Causal graphical models don't offer a way of doing this. They are a tool for answering question about _if_ we can make causal inferences, given an assumed structure, and how we would do this _if_ we can estimate statistical quantities like $\\Pc{Y}{X, Z}$. However, there are a number of statistical techniques we can use to make this estimate. For example, my previous most covered a number of ways to estimate the quantity $E[Y|X,Z]$ from potentially biased observations, which is often what we care about instead of the full distribution."
   ]
  },
  {
   "cell_type": "markdown",
   "metadata": {},
   "source": [
    "# Example Use Case\n",
    "\n",
    "We've been though a lot to reach this point, so it is good to reflect on how we can actually use causal graphical models to do something useful.\n",
    "\n",
    "Let's take another look at the following structural causal model"
   ]
  },
  {
   "cell_type": "code",
   "execution_count": 19,
   "metadata": {},
   "outputs": [
    {
     "data": {
      "image/svg+xml": [
       "<?xml version=\"1.0\" encoding=\"UTF-8\" standalone=\"no\"?>\n",
       "<!DOCTYPE svg PUBLIC \"-//W3C//DTD SVG 1.1//EN\"\n",
       " \"http://www.w3.org/Graphics/SVG/1.1/DTD/svg11.dtd\">\n",
       "<!-- Generated by graphviz version 2.40.1 (20161225.0304)\n",
       " -->\n",
       "<!-- Title: %3 Pages: 1 -->\n",
       "<svg width=\"189pt\" height=\"332pt\"\n",
       " viewBox=\"0.00 0.00 189.00 332.00\" xmlns=\"http://www.w3.org/2000/svg\" xmlns:xlink=\"http://www.w3.org/1999/xlink\">\n",
       "<g id=\"graph0\" class=\"graph\" transform=\"scale(1 1) rotate(0) translate(4 328)\">\n",
       "<title>%3</title>\n",
       "<polygon fill=\"#ffffff\" stroke=\"transparent\" points=\"-4,4 -4,-328 185,-328 185,4 -4,4\"/>\n",
       "<!-- a -->\n",
       "<g id=\"node1\" class=\"node\">\n",
       "<title>a</title>\n",
       "<ellipse fill=\"none\" stroke=\"#000000\" cx=\"41\" cy=\"-306\" rx=\"27\" ry=\"18\"/>\n",
       "<text text-anchor=\"middle\" x=\"41\" y=\"-302.3\" font-family=\"Times,serif\" font-size=\"14.00\" fill=\"#000000\">a</text>\n",
       "</g>\n",
       "<!-- x -->\n",
       "<g id=\"node3\" class=\"node\">\n",
       "<title>x</title>\n",
       "<ellipse fill=\"none\" stroke=\"#000000\" cx=\"82\" cy=\"-234\" rx=\"27\" ry=\"18\"/>\n",
       "<text text-anchor=\"middle\" x=\"82\" y=\"-230.3\" font-family=\"Times,serif\" font-size=\"14.00\" fill=\"#000000\">x</text>\n",
       "</g>\n",
       "<!-- a&#45;&gt;x -->\n",
       "<g id=\"edge1\" class=\"edge\">\n",
       "<title>a&#45;&gt;x</title>\n",
       "<path fill=\"none\" stroke=\"#000000\" d=\"M50.7164,-288.937C55.6693,-280.2393 61.7961,-269.4799 67.3113,-259.7948\"/>\n",
       "<polygon fill=\"#000000\" stroke=\"#000000\" points=\"70.4463,-261.3623 72.3533,-250.9405 64.3634,-257.8984 70.4463,-261.3623\"/>\n",
       "</g>\n",
       "<!-- h -->\n",
       "<g id=\"node9\" class=\"node\">\n",
       "<title>h</title>\n",
       "<ellipse fill=\"none\" stroke=\"#000000\" cx=\"27\" cy=\"-18\" rx=\"27\" ry=\"18\"/>\n",
       "<text text-anchor=\"middle\" x=\"27\" y=\"-14.3\" font-family=\"Times,serif\" font-size=\"14.00\" fill=\"#000000\">h</text>\n",
       "</g>\n",
       "<!-- a&#45;&gt;h -->\n",
       "<g id=\"edge2\" class=\"edge\">\n",
       "<title>a&#45;&gt;h</title>\n",
       "<path fill=\"none\" stroke=\"#000000\" d=\"M40.1242,-287.9843C37.7573,-239.2939 31.2193,-104.7961 28.3639,-46.0573\"/>\n",
       "<polygon fill=\"#000000\" stroke=\"#000000\" points=\"31.8569,-45.8271 27.8754,-36.0089 24.8652,-46.1671 31.8569,-45.8271\"/>\n",
       "</g>\n",
       "<!-- b -->\n",
       "<g id=\"node2\" class=\"node\">\n",
       "<title>b</title>\n",
       "<ellipse fill=\"none\" stroke=\"#000000\" cx=\"140\" cy=\"-306\" rx=\"27\" ry=\"18\"/>\n",
       "<text text-anchor=\"middle\" x=\"140\" y=\"-302.3\" font-family=\"Times,serif\" font-size=\"14.00\" fill=\"#000000\">b</text>\n",
       "</g>\n",
       "<!-- b&#45;&gt;x -->\n",
       "<g id=\"edge3\" class=\"edge\">\n",
       "<title>b&#45;&gt;x</title>\n",
       "<path fill=\"none\" stroke=\"#000000\" d=\"M127.1279,-290.0209C119.5438,-280.6061 109.8018,-268.5126 101.3116,-257.973\"/>\n",
       "<polygon fill=\"#000000\" stroke=\"#000000\" points=\"103.8351,-255.5264 94.8361,-249.9345 98.3838,-259.9177 103.8351,-255.5264\"/>\n",
       "</g>\n",
       "<!-- d -->\n",
       "<g id=\"node6\" class=\"node\">\n",
       "<title>d</title>\n",
       "<ellipse fill=\"none\" stroke=\"#000000\" cx=\"154\" cy=\"-234\" rx=\"27\" ry=\"18\"/>\n",
       "<text text-anchor=\"middle\" x=\"154\" y=\"-230.3\" font-family=\"Times,serif\" font-size=\"14.00\" fill=\"#000000\">d</text>\n",
       "</g>\n",
       "<!-- b&#45;&gt;d -->\n",
       "<g id=\"edge4\" class=\"edge\">\n",
       "<title>b&#45;&gt;d</title>\n",
       "<path fill=\"none\" stroke=\"#000000\" d=\"M143.5328,-287.8314C145.0698,-279.9266 146.9053,-270.4872 148.6068,-261.7365\"/>\n",
       "<polygon fill=\"#000000\" stroke=\"#000000\" points=\"152.0437,-262.3976 150.5168,-251.9134 145.1724,-261.0615 152.0437,-262.3976\"/>\n",
       "</g>\n",
       "<!-- c -->\n",
       "<g id=\"node4\" class=\"node\">\n",
       "<title>c</title>\n",
       "<ellipse fill=\"none\" stroke=\"#000000\" cx=\"82\" cy=\"-162\" rx=\"27\" ry=\"18\"/>\n",
       "<text text-anchor=\"middle\" x=\"82\" y=\"-158.3\" font-family=\"Times,serif\" font-size=\"14.00\" fill=\"#000000\">c</text>\n",
       "</g>\n",
       "<!-- x&#45;&gt;c -->\n",
       "<g id=\"edge5\" class=\"edge\">\n",
       "<title>x&#45;&gt;c</title>\n",
       "<path fill=\"none\" stroke=\"#000000\" d=\"M82,-215.8314C82,-208.131 82,-198.9743 82,-190.4166\"/>\n",
       "<polygon fill=\"#000000\" stroke=\"#000000\" points=\"85.5001,-190.4132 82,-180.4133 78.5001,-190.4133 85.5001,-190.4132\"/>\n",
       "</g>\n",
       "<!-- y -->\n",
       "<g id=\"node5\" class=\"node\">\n",
       "<title>y</title>\n",
       "<ellipse fill=\"none\" stroke=\"#000000\" cx=\"90\" cy=\"-90\" rx=\"27\" ry=\"18\"/>\n",
       "<text text-anchor=\"middle\" x=\"90\" y=\"-86.3\" font-family=\"Times,serif\" font-size=\"14.00\" fill=\"#000000\">y</text>\n",
       "</g>\n",
       "<!-- c&#45;&gt;y -->\n",
       "<g id=\"edge6\" class=\"edge\">\n",
       "<title>c&#45;&gt;y</title>\n",
       "<path fill=\"none\" stroke=\"#000000\" d=\"M84.0187,-143.8314C84.8743,-136.131 85.8917,-126.9743 86.8426,-118.4166\"/>\n",
       "<polygon fill=\"#000000\" stroke=\"#000000\" points=\"90.3283,-118.7386 87.9541,-108.4133 83.3711,-117.9656 90.3283,-118.7386\"/>\n",
       "</g>\n",
       "<!-- f -->\n",
       "<g id=\"node8\" class=\"node\">\n",
       "<title>f</title>\n",
       "<ellipse fill=\"none\" stroke=\"#000000\" cx=\"99\" cy=\"-18\" rx=\"27\" ry=\"18\"/>\n",
       "<text text-anchor=\"middle\" x=\"99\" y=\"-14.3\" font-family=\"Times,serif\" font-size=\"14.00\" fill=\"#000000\">f</text>\n",
       "</g>\n",
       "<!-- y&#45;&gt;f -->\n",
       "<g id=\"edge7\" class=\"edge\">\n",
       "<title>y&#45;&gt;f</title>\n",
       "<path fill=\"none\" stroke=\"#000000\" d=\"M92.2711,-71.8314C93.2336,-64.131 94.3782,-54.9743 95.4479,-46.4166\"/>\n",
       "<polygon fill=\"#000000\" stroke=\"#000000\" points=\"98.9309,-46.7702 96.6983,-36.4133 91.9849,-45.9019 98.9309,-46.7702\"/>\n",
       "</g>\n",
       "<!-- y&#45;&gt;h -->\n",
       "<g id=\"edge8\" class=\"edge\">\n",
       "<title>y&#45;&gt;h</title>\n",
       "<path fill=\"none\" stroke=\"#000000\" d=\"M76.3299,-74.3771C67.8266,-64.659 56.7387,-51.987 47.2292,-41.1191\"/>\n",
       "<polygon fill=\"#000000\" stroke=\"#000000\" points=\"49.8625,-38.8135 40.6434,-33.5924 44.5944,-43.423 49.8625,-38.8135\"/>\n",
       "</g>\n",
       "<!-- e -->\n",
       "<g id=\"node7\" class=\"node\">\n",
       "<title>e</title>\n",
       "<ellipse fill=\"none\" stroke=\"#000000\" cx=\"154\" cy=\"-162\" rx=\"27\" ry=\"18\"/>\n",
       "<text text-anchor=\"middle\" x=\"154\" y=\"-158.3\" font-family=\"Times,serif\" font-size=\"14.00\" fill=\"#000000\">e</text>\n",
       "</g>\n",
       "<!-- d&#45;&gt;e -->\n",
       "<g id=\"edge9\" class=\"edge\">\n",
       "<title>d&#45;&gt;e</title>\n",
       "<path fill=\"none\" stroke=\"#000000\" d=\"M154,-215.8314C154,-208.131 154,-198.9743 154,-190.4166\"/>\n",
       "<polygon fill=\"#000000\" stroke=\"#000000\" points=\"157.5001,-190.4132 154,-180.4133 150.5001,-190.4133 157.5001,-190.4132\"/>\n",
       "</g>\n",
       "<!-- e&#45;&gt;y -->\n",
       "<g id=\"edge10\" class=\"edge\">\n",
       "<title>e&#45;&gt;y</title>\n",
       "<path fill=\"none\" stroke=\"#000000\" d=\"M140.113,-146.3771C131.4747,-136.659 120.2107,-123.987 110.5503,-113.1191\"/>\n",
       "<polygon fill=\"#000000\" stroke=\"#000000\" points=\"113.1196,-110.7413 103.8599,-105.5924 107.8877,-115.3918 113.1196,-110.7413\"/>\n",
       "</g>\n",
       "</g>\n",
       "</svg>\n"
      ],
      "text/plain": [
       "<graphviz.dot.Digraph at 0x10d281e48>"
      ]
     },
     "execution_count": 19,
     "metadata": {},
     "output_type": "execute_result"
    }
   ],
   "source": [
    "big_csm.cgm.draw()"
   ]
  },
  {
   "cell_type": "markdown",
   "metadata": {},
   "source": [
    "Our goal will be to estimate the Average Treatment Effect of $X$ on $Y$. I will be using the ['causalinference'](https://github.com/laurencium/Causalinference) package to do this. The main question is which covariants should we use to adjust?\n",
    "\n",
    "Let's start by defining a function which calculates the ATE given variable adjustment sets:"
   ]
  },
  {
   "cell_type": "code",
   "execution_count": 20,
   "metadata": {},
   "outputs": [],
   "source": [
    "from causalinference import CausalModel\n",
    "\n",
    "def estimate_ate(dataset, adjustment_set=None, method=\"matching\"):\n",
    "    \"\"\"\n",
    "    Estimate the ATE of X on Y from from dataset when \n",
    "    adjusting using adjustment_set.\n",
    "    \n",
    "    Arguments\n",
    "    ---------\n",
    "    dataset: pd.DateFrame\n",
    "        dataframe of observations\n",
    "        \n",
    "    adjustment_set: iterable of variables or None\n",
    "    \n",
    "    method: str\n",
    "        adjustment method to use.    \n",
    "    \"\"\"\n",
    "    \n",
    "    if adjustment_set is None:\n",
    "        y0 = dataset.loc[lambda df: df.x == 0].y.mean()\n",
    "        y1 = dataset.loc[lambda df: df.x == 1].y.mean()\n",
    "        \n",
    "        y0_var = dataset.loc[lambda df: df.x == 0].y.var()\n",
    "        y1_var = dataset.loc[lambda df: df.x == 1].y.var()\n",
    "        \n",
    "        y0_n = dataset.loc[lambda df: df.x == 0].shape[0]\n",
    "        y1_n = dataset.loc[lambda df: df.x == 1].shape[0]\n",
    "        \n",
    "        return {\n",
    "            \"ate\": y1 - y0,\n",
    "            \"ate_se\": 2 * np.sqrt(y0_var/y0_n + y1_var/y1_n)\n",
    "        }\n",
    "\n",
    "    cm = CausalModel(\n",
    "        Y=dataset.y.values, \n",
    "        D=dataset.x.values, \n",
    "        X=dataset[adjustment_set].values\n",
    "    )\n",
    "\n",
    "    cm.est_via_ols()\n",
    "    cm.est_via_matching()\n",
    "    cm.est_propensity_s()\n",
    "    cm.est_via_weighting()\n",
    "\n",
    "    cm.stratify_s()\n",
    "    cm.est_via_blocking()\n",
    "    \n",
    "    results = {\n",
    "        \"ate\": cm.estimates[method][\"ate\"],\n",
    "        \"ate_se\": cm.estimates[method][\"ate_se\"]\n",
    "    }\n",
    "\n",
    "    return results"
   ]
  },
  {
   "cell_type": "code",
   "execution_count": 22,
   "metadata": {},
   "outputs": [
    {
     "data": {
      "text/plain": [
       "<matplotlib.collections.LineCollection at 0x7fcfc1cac588>"
      ]
     },
     "execution_count": 22,
     "metadata": {},
     "output_type": "execute_result"
    },
    {
     "data": {
      "image/png": "[encoded data removed]",
      "text/plain": [
       "<matplotlib.figure.Figure at 0x7fcfc1cc4f60>"
      ]
     },
     "metadata": {},
     "output_type": "display_data"
    }
   ],
   "source": [
    "n_samples = 10000\n",
    "\n",
    "ds = big_csm.sample(n_samples)\n",
    "\n",
    "# this allows us to generate samples from an interventional distribution\n",
    "# where the value of X is assigned randomly as in an A/B test.\n",
    "ds_intervention = (\n",
    "    big_csm\n",
    "    .do(\"x\")\n",
    "    .sample(\n",
    "        n_samples=1000000, \n",
    "        set_values={\"x\": np.random.binomial(p=0.5, n=1, size=1000000)})\n",
    ")\n",
    "\n",
    "true_ate = estimate_ate(ds_intervention)[\"ate\"]\n",
    "\n",
    "# generate results for a number of different adjustment sets\n",
    "results = {\n",
    "    \"no_adjustment\": estimate_ate(ds),\n",
    "    \"adjustment_b\": estimate_ate(ds, [\"b\"]),\n",
    "    \"adjustment_bde\": estimate_ate(ds, [\"b\", \"d\", \"e\"]),\n",
    "    \"adjustment_bh\": estimate_ate(ds, [\"b\", \"h\"]),\n",
    "    \"adjustment_bc\": estimate_ate(ds, [\"b\", \"c\"]),\n",
    "    \"adjustment_everything\": estimate_ate(ds, [\"a\", \"b\", \"c\", \"d\", \"e\", \"f\", \"h\"]),\n",
    "\n",
    "}\n",
    "\n",
    "# plot the results\n",
    "x_label = list(results.keys())\n",
    "x = np.arange(len(x_label))\n",
    "y = [results[l][\"ate\"] for l in x_label]\n",
    "yerr = [results[l][\"ate_se\"] for l in x_label]\n",
    "\n",
    "plt.figure(figsize=(10,6))\n",
    "plt.errorbar(x=x, y=y, yerr=yerr, linestyle=\"none\", capsize=5, marker=\"o\")\n",
    "plt.xticks(x, x_label, rotation=45, fontsize=16)\n",
    "plt.title(\"Estimated ATE Size\", fontsize=18)\n",
    "xmin, xmax = plt.xlim()\n",
    "plt.hlines(true_ate, xmin, xmax, linestyles=\"dashed\")\n"
   ]
  },
  {
   "cell_type": "markdown",
   "metadata": {},
   "source": [
    "We can see that when we use the valid adjustment sets we get close to the true value, but excluding or including extra variables can make things worse. This is hopefully a warning about why it is not a good idea to use _all_ the features you have to correct for observational bias - you should always considering the structure that generated the data. Causal Graphical Models are an excellent way to do this."
   ]
  },
  {
   "cell_type": "markdown",
   "metadata": {},
   "source": [
    "# Conclusions\n",
    "\n",
    "Hopefully these notes have been a useful introduction Causal Graphical Models. There is still a lot that I haven't had a change to cover. Very loosely, work with them can be categorised in two area:\n",
    "\n",
    " - **Identification**: Given assumptions about the causal structure of a system, can we estimate influence of one variable on another.\n",
    " - **Learning**: Given data, how can we estimate the causal structure of a system.\n",
    " \n",
    "The backdoor adjustment method is one example of identification discussed in these notes - it is not the only one. [It has been shown](https://www.aaai.org/Papers/AAAI/2006/AAAI06-191.pdf) that for partly observed causal graphical models it is possible to decide exactly whether or not a causal statement is identifiable and the rules of do-calculus are complete. \n",
    "\n",
    "In the other direction, learning causal structure is much more difficult. There are [some tools](http://www.phil.cmu.edu/tetrad/) out there to estimate structure, but in my experience, when guided only by the data they tend to produce nonsensical results. I suspect this is because given only limited observational data there just isn't enough information to accurately estimate structure. There is some [interested work](https://arxiv.org/abs/1501.01332) on how to use combinations of observational data from different setting to try and infer structure, but I think in general this is an open problem."
   ]
  },
  {
   "cell_type": "markdown",
   "metadata": {
    "collapsed": true
   },
   "source": [
    "# Code\n",
    "\n",
    "You can find the notebook for this post on github [here](https://github.com/ijmbarr/notes-on-causal-inference)."
   ]
  }
 ],
 "metadata": {
  "kernelspec": {
   "display_name": "Python 3",
   "language": "python",
   "name": "python3"
  },
  "language_info": {
   "codemirror_mode": {
    "name": "ipython",
    "version": 3
   },
   "file_extension": ".py",
   "mimetype": "text/x-python",
   "name": "python",
   "nbconvert_exporter": "python",
   "pygments_lexer": "ipython3",
   "version": "3.6.3"
  }
 },
 "nbformat": 4,
 "nbformat_minor": 2
}
