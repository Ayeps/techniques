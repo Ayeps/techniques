{
 "cells": [
  {
   "cell_type": "code",
   "execution_count": 18,
   "metadata": {},
   "outputs": [],
   "source": [
    "import pandas as pd\n",
    "import numpy as np\n",
    "\n",
    "full_review_play = pd.read_csv(\"full_review_play.csv\").iloc[:,1:]\n",
    "\n",
    "full_review_play = full_review_play.sort_values(\"closedate_ifclose\")\n",
    "\n",
    "### This one looks just at the last few years, the effect is diminsihed\n",
    "full_review_play_2 = full_review_play[full_review_play[\"year\"]>2016]\n",
    "#full_review_play_2 = full_review_play_2[full_review_play_2[\"year\"]<2017]\n",
    "\n",
    "full_review_play_2[\"state\"].unique()\n",
    "\n",
    "# QC\n",
    "# BW\n",
    "\n",
    "full_review_new =  full_review_play_2.drop([\"business_id\",\"name\",\"year\",\"state\",\"closedate_ifclose\"],axis=1).copy()"
   ]
  },
  {
   "cell_type": "code",
   "execution_count": 19,
   "metadata": {},
   "outputs": [],
   "source": [
    "new = full_review_new[[\"is_open\",'oldest_review', 'oldest_review_chain_avg', 'useful_mean',\n",
    "       'stars_linear_coef', 'useful_sum', 'gender_std',\n",
    "       'restaurant_density', 'Connoisseur', 'rating_sum',\n",
    "       'reviews_per_week', 'latitude', 'compliment_plain_mean',\n",
    "       'zreview_count_all', 'average_stars_mean', 'zstar_all_chain_std',\n",
    "       'elite_count_mean', 'first_sent_mean', 'Male to Female',\n",
    "       'first_sent_std_chain_avg', 'zreview_per_week_all']]"
   ]
  },
  {
   "cell_type": "code",
   "execution_count": 22,
   "metadata": {},
   "outputs": [],
   "source": [
    "var_typ = {}\n",
    "for r in new.columns:\n",
    "    var_typ[r] = \"c\" "
   ]
  },
  {
   "cell_type": "code",
   "execution_count": 23,
   "metadata": {},
   "outputs": [
    {
     "name": "stderr",
     "output_type": "stream",
     "text": [
      "/Users/dereksnow/anaconda/envs/py36/lib/python3.6/site-packages/statsmodels/robust/robust_linear_model.py:284: RuntimeWarning: divide by zero encountered in true_divide\n",
      "  self.weights = self.M.weights(wls_results.resid/self.scale)\n",
      "/Users/dereksnow/anaconda/envs/py36/lib/python3.6/site-packages/statsmodels/robust/robust_linear_model.py:284: RuntimeWarning: invalid value encountered in true_divide\n",
      "  self.weights = self.M.weights(wls_results.resid/self.scale)\n",
      "/Users/dereksnow/anaconda/envs/py36/lib/python3.6/site-packages/statsmodels/robust/norms.py:190: RuntimeWarning: invalid value encountered in less_equal\n",
      "  return np.less_equal(np.fabs(z), self.t)\n",
      "/Users/dereksnow/anaconda/envs/py36/lib/python3.6/site-packages/numpy/lib/function_base.py:4033: RuntimeWarning: Invalid value encountered in median\n",
      "  r = func(a, **kwargs)\n",
      "/Users/dereksnow/anaconda/envs/py36/lib/python3.6/site-packages/statsmodels/robust/norms.py:267: RuntimeWarning: invalid value encountered in less_equal\n",
      "  return np.less_equal(np.fabs(z), self.t)\n",
      "/Users/dereksnow/anaconda/envs/py36/lib/python3.6/site-packages/statsmodels/robust/robust_linear_model.py:432: RuntimeWarning: invalid value encountered in double_scalars\n",
      "  k = 1 + (self.df_model+1)/self.nobs * var_psiprime/m**2\n"
     ]
    },
    {
     "data": {
      "text/plain": [
       "[('is_open',\n",
       "  'stars_linear_coef',\n",
       "  {'arrows': ['stars_linear_coef', 'stars_linear_coef'], 'marked': False}),\n",
       " ('oldest_review',\n",
       "  'elite_count_mean',\n",
       "  {'arrows': ['elite_count_mean'], 'marked': False}),\n",
       " ('oldest_review_chain_avg',\n",
       "  'rating_sum',\n",
       "  {'arrows': ['oldest_review_chain_avg',\n",
       "    'oldest_review_chain_avg',\n",
       "    'rating_sum',\n",
       "    'rating_sum'],\n",
       "   'marked': False}),\n",
       " ('oldest_review_chain_avg',\n",
       "  'first_sent_std_chain_avg',\n",
       "  {'arrows': ['oldest_review_chain_avg',\n",
       "    'first_sent_std_chain_avg',\n",
       "    'first_sent_std_chain_avg'],\n",
       "   'marked': False}),\n",
       " ('oldest_review_chain_avg',\n",
       "  'zreview_per_week_all',\n",
       "  {'arrows': ['oldest_review_chain_avg'], 'marked': False}),\n",
       " ('useful_mean', 'useful_sum', {'arrows': ['useful_sum'], 'marked': False}),\n",
       " ('stars_linear_coef',\n",
       "  'zreview_count_all',\n",
       "  {'arrows': ['stars_linear_coef', 'zreview_count_all', 'zreview_count_all'],\n",
       "   'marked': False}),\n",
       " ('stars_linear_coef',\n",
       "  'zstar_all_chain_std',\n",
       "  {'arrows': ['stars_linear_coef', 'zstar_all_chain_std'], 'marked': False}),\n",
       " ('useful_sum',\n",
       "  'rating_sum',\n",
       "  {'arrows': ['useful_sum', 'rating_sum', 'rating_sum'], 'marked': False}),\n",
       " ('gender_std', 'latitude', {'arrows': [], 'marked': False}),\n",
       " ('gender_std',\n",
       "  'average_stars_mean',\n",
       "  {'arrows': ['average_stars_mean'], 'marked': False}),\n",
       " ('restaurant_density',\n",
       "  'rating_sum',\n",
       "  {'arrows': ['rating_sum', 'rating_sum'], 'marked': False}),\n",
       " ('Connoisseur',\n",
       "  'average_stars_mean',\n",
       "  {'arrows': ['average_stars_mean'], 'marked': False}),\n",
       " ('Connoisseur', 'first_sent_mean', {'arrows': [], 'marked': False}),\n",
       " ('latitude', 'average_stars_mean', {'arrows': ['latitude'], 'marked': True}),\n",
       " ('compliment_plain_mean',\n",
       "  'elite_count_mean',\n",
       "  {'arrows': ['elite_count_mean'], 'marked': False}),\n",
       " ('zreview_count_all',\n",
       "  'zstar_all_chain_std',\n",
       "  {'arrows': ['zstar_all_chain_std'], 'marked': True}),\n",
       " ('zreview_count_all',\n",
       "  'first_sent_std_chain_avg',\n",
       "  {'arrows': ['zreview_count_all', 'first_sent_std_chain_avg'],\n",
       "   'marked': False}),\n",
       " ('zreview_count_all',\n",
       "  'zreview_per_week_all',\n",
       "  {'arrows': ['zreview_count_all'], 'marked': False}),\n",
       " ('zstar_all_chain_std',\n",
       "  'first_sent_std_chain_avg',\n",
       "  {'arrows': ['zstar_all_chain_std',\n",
       "    'first_sent_std_chain_avg',\n",
       "    'first_sent_std_chain_avg'],\n",
       "   'marked': False}),\n",
       " ('first_sent_std_chain_avg',\n",
       "  'zreview_per_week_all',\n",
       "  {'arrows': ['first_sent_std_chain_avg'], 'marked': False})]"
      ]
     },
     "execution_count": 23,
     "metadata": {},
     "output_type": "execute_result"
    }
   ],
   "source": [
    "ic_algorithm = IC(RobustRegressionTest)\n",
    "graph = ic_algorithm.search(full_review_new.iloc[:100,:], var_typ)\n",
    "\n",
    "graph.edges(data=True)"
   ]
  },
  {
   "cell_type": "code",
   "execution_count": 15,
   "metadata": {},
   "outputs": [],
   "source": [
    "Y = full_review_new.pop(\"is_open\")\n",
    "Y = Y.astype(int)\n",
    "X = full_review_new\n",
    "\n",
    "X = X.drop(X.filter(regex=\"days|diffs\").columns,axis=1)\n",
    "#X[\"diffs_mean\"] = full_review_new[\"diffs_mean\"]\n",
    "#X[\"days_mean\"] = full_review_new[\"days_mean\"]\n",
    "#X[\"lat_long\"] = full_review_new[\"latitude\"] + full_review_new[\"longitude\"]F"
   ]
  },
  {
   "cell_type": "code",
   "execution_count": 1,
   "metadata": {},
   "outputs": [
    {
     "name": "stderr",
     "output_type": "stream",
     "text": [
      "/Users/dereksnow/anaconda/envs/py36/lib/python3.6/site-packages/statsmodels/compat/pandas.py:56: FutureWarning: The pandas.core.datetools module is deprecated and will be removed in a future version. Please use the pandas.tseries module instead.\n",
      "  from pandas.core import datetools\n"
     ]
    }
   ],
   "source": [
    "import numpy\n",
    "import pandas as pd\n",
    "\n",
    "from causality.inference.search import IC\n",
    "from causality.inference.independence_tests import RobustRegressionTest\n",
    "\n",
    "# generate some toy data:\n",
    "SIZE = 2000\n",
    "x1 = numpy.random.normal(size=SIZE)\n",
    "x2 = x1 + numpy.random.normal(size=SIZE)\n",
    "x3 = x1 + numpy.random.normal(size=SIZE)\n",
    "x4 = x2 + x3 + numpy.random.normal(size=SIZE)\n",
    "x5 = x4 + numpy.random.normal(size=SIZE)\n",
    "\n",
    "# load the data into a dataframe:\n",
    "X = pd.DataFrame({'x1' : x1, 'x2' : x2, 'x3' : x3, 'x4' : x4, 'x5' : x5})\n",
    "\n",
    "# define the variable types: 'c' is 'continuous'.  The variables defined here\n",
    "# are the ones the search is performed over  -- NOT all the variables defined\n",
    "# in the data frame.\n",
    "variable_types = {'x1' : 'c', 'x2' : 'c', 'x3' : 'c', 'x4' : 'c', 'x5' : 'c'}\n",
    "\n",
    "# run the search\n",
    "ic_algorithm = IC(RobustRegressionTest)\n",
    "graph = ic_algorithm.search(X, variable_types)"
   ]
  },
  {
   "cell_type": "code",
   "execution_count": 4,
   "metadata": {},
   "outputs": [],
   "source": [
    "lucas = pd.read_csv(\"NUM_LUCAS.csv\")"
   ]
  },
  {
   "cell_type": "code",
   "execution_count": 8,
   "metadata": {},
   "outputs": [],
   "source": [
    "var_typ = {}\n",
    "for r in lucas.columns:\n",
    "    var_typ[r] = \"c\" "
   ]
  },
  {
   "cell_type": "code",
   "execution_count": 10,
   "metadata": {},
   "outputs": [
    {
     "data": {
      "text/plain": [
       "{'Allergy': 'c',\n",
       " 'Anxiety': 'c',\n",
       " 'Attention_Disorder': 'c',\n",
       " 'Car_Accident': 'c',\n",
       " 'Coughing': 'c',\n",
       " 'Fatigue': 'c',\n",
       " 'Genetics': 'c',\n",
       " 'Lung_Cancer': 'c',\n",
       " 'Peer_Pressure': 'c',\n",
       " 'Smoking': 'c',\n",
       " 'Yellow_Fingers': 'c'}"
      ]
     },
     "execution_count": 10,
     "metadata": {},
     "output_type": "execute_result"
    }
   ],
   "source": [
    "var_typ"
   ]
  },
  {
   "cell_type": "code",
   "execution_count": 12,
   "metadata": {},
   "outputs": [],
   "source": [
    "# What is nice about the french guys work is that it also gives a scorew which is interesting. \n",
    "# run the search, I think his algorithm is just bettet\n",
    "# Interesting, this is called inductive causlity, I like it. \n",
    "### This is simply a method of dumping a logt of things you tink is causal and finding a final outcome.\n",
    "\n",
    "ic_algorithm = IC(RobustRegressionTest)\n",
    "graph = ic_algorithm.search(lucas, var_typ)\n",
    "\n",
    "graph.edges(data=True)"
   ]
  },
  {
   "cell_type": "code",
   "execution_count": null,
   "metadata": {},
   "outputs": [],
   "source": []
  },
  {
   "cell_type": "code",
   "execution_count": 3,
   "metadata": {},
   "outputs": [
    {
     "data": {
      "text/plain": [
       "[('x1', 'x2', {'arrows': [], 'marked': False}),\n",
       " ('x1', 'x3', {'arrows': [], 'marked': False}),\n",
       " ('x2', 'x4', {'arrows': ['x4'], 'marked': False}),\n",
       " ('x3', 'x4', {'arrows': ['x4'], 'marked': False}),\n",
       " ('x4', 'x5', {'arrows': ['x5'], 'marked': True})]"
      ]
     },
     "execution_count": 3,
     "metadata": {},
     "output_type": "execute_result"
    }
   ],
   "source": [
    "# Marked means satisfaction of genuine caustion \n",
    "#then that directed edge will have marked=True\n",
    "graph.edges(data=True)"
   ]
  },
  {
   "cell_type": "code",
   "execution_count": null,
   "metadata": {},
   "outputs": [],
   "source": []
  }
 ],
 "metadata": {
  "kernelspec": {
   "display_name": "py36",
   "language": "python",
   "name": "py36"
  },
  "language_info": {
   "codemirror_mode": {
    "name": "ipython",
    "version": 3
   },
   "file_extension": ".py",
   "mimetype": "text/x-python",
   "name": "python",
   "nbconvert_exporter": "python",
   "pygments_lexer": "ipython3",
   "version": "3.6.3"
  }
 },
 "nbformat": 4,
 "nbformat_minor": 2
}
