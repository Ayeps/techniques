{
 "cells": [
  {
   "cell_type": "code",
   "execution_count": 1,
   "metadata": {},
   "outputs": [],
   "source": [
    "from __future__ import division\n",
    "\n",
    "import numpy as np\n",
    "import pandas as pd\n",
    "import matplotlib.pyplot as plt\n",
    "import seaborn as sns\n",
    "\n",
    "sns.set_style(\"whitegrid\")\n",
    "sns.set_palette(\"colorblind\")\n",
    "\n",
    "%matplotlib inline\n",
    "\n",
    "import datagenerators as dg"
   ]
  },
  {
   "cell_type": "markdown",
   "metadata": {},
   "source": [
    "In this post, I will be using the excellent [`CausalInference`](http://causalinferenceinpython.org/) package to give an overview of how we can use the [potential outcomes](https://en.wikipedia.org/wiki/Rubin_causal_model) framework to try and make causal inferences about situations where we only have observational data. The author has a good series of [blog posts](http://laurence-wong.com/software/) on it's functionality.\n",
    "\n",
    "Because most datasets you can download are static, throughout this post I will be using be using my own functions to generate data. This has two advantages: we can and will generate datasets with specific properties, and we have the ability to \"intervene\" in the data generating system directly, giving us the ability to check whether our inferences are correct. These data generators all generate [i.i.d.](https://en.wikipedia.org/wiki/Independent_and_identically_distributed_random_variables) samples from some distribution, returning the results as a pandas dataframe. You can the functions which generate these datasets in the accompanying file `datagenerators.py`.\n",
    "\n",
    "To begin, let's look at a motivating example.\n",
    "\n",
    "# Introduction\n",
    "\n",
    "One day a team lead notices that some members of their team wear cool hats, and that these members of the team tend to be less productive. Being data drive, the Team Lead starts to record whether or not a team member wears a cool hat ($X=1$ for a cool hat, $X=0$ for no cool hat) and whether or not they are productive ($Y=1$ for productive, $Y=0$ for unproductive).\n",
    "\n",
    "After making observations for a week, they end up with a dataset like the following:"
   ]
  },
  {
   "cell_type": "code",
   "execution_count": 2,
   "metadata": {},
   "outputs": [
    {
     "data": {
      "text/html": [
       "<div>\n",
       "<style scoped>\n",
       "    .dataframe tbody tr th:only-of-type {\n",
       "        vertical-align: middle;\n",
       "    }\n",
       "\n",
       "    .dataframe tbody tr th {\n",
       "        vertical-align: top;\n",
       "    }\n",
       "\n",
       "    .dataframe thead th {\n",
       "        text-align: right;\n",
       "    }\n",
       "</style>\n",
       "<table border=\"1\" class=\"dataframe\">\n",
       "  <thead>\n",
       "    <tr style=\"text-align: right;\">\n",
       "      <th></th>\n",
       "      <th>x</th>\n",
       "      <th>y</th>\n",
       "    </tr>\n",
       "  </thead>\n",
       "  <tbody>\n",
       "    <tr>\n",
       "      <th>0</th>\n",
       "      <td>1</td>\n",
       "      <td>1</td>\n",
       "    </tr>\n",
       "    <tr>\n",
       "      <th>1</th>\n",
       "      <td>1</td>\n",
       "      <td>0</td>\n",
       "    </tr>\n",
       "    <tr>\n",
       "      <th>2</th>\n",
       "      <td>0</td>\n",
       "      <td>0</td>\n",
       "    </tr>\n",
       "    <tr>\n",
       "      <th>3</th>\n",
       "      <td>1</td>\n",
       "      <td>1</td>\n",
       "    </tr>\n",
       "    <tr>\n",
       "      <th>4</th>\n",
       "      <td>1</td>\n",
       "      <td>0</td>\n",
       "    </tr>\n",
       "  </tbody>\n",
       "</table>\n",
       "</div>"
      ],
      "text/plain": [
       "   x  y\n",
       "0  1  1\n",
       "1  1  0\n",
       "2  0  0\n",
       "3  1  1\n",
       "4  1  0"
      ]
     },
     "execution_count": 2,
     "metadata": {},
     "output_type": "execute_result"
    }
   ],
   "source": [
    "observed_data_0 = dg.generate_dataset_0()\n",
    "\n",
    "observed_data_0.head()"
   ]
  },
  {
   "cell_type": "markdown",
   "metadata": {},
   "source": [
    "The first question the team lead asks is: are people wearing cool hats more likely to be productive that those who don't? This means estimating the quantity\n",
    "\n",
    "$P(Y=1|X=1) - (Y=1|X=0)$\n",
    "\n",
    "which we can do directly from the data:"
   ]
  },
  {
   "cell_type": "code",
   "execution_count": 3,
   "metadata": {},
   "outputs": [
    {
     "data": {
      "text/plain": [
       "{'estimated_effect': -0.1124449779911964, 'standard_error': 0.0872639534672425}"
      ]
     },
     "execution_count": 3,
     "metadata": {},
     "output_type": "execute_result"
    }
   ],
   "source": [
    "def estimate_uplift(ds):\n",
    "    \"\"\"\n",
    "    Estiamte the difference in means between two groups.\n",
    "    This is closer related to the z and t tests \n",
    "    \n",
    "    Parameters\n",
    "    ----------\n",
    "    ds: pandas.DataFrame\n",
    "        a dataframe of samples.\n",
    "        \n",
    "    Returns\n",
    "    -------\n",
    "    estimated_uplift: dict[Str: float] containing two items:\n",
    "        \"estimated_effect\" - the difference in mean values of $y$ for treated and untreated samples.\n",
    "        \"standard_error\" - 90% confidence intervals arround \"estimated_effect\"\n",
    "        \n",
    "        \n",
    "    \"\"\"\n",
    "    base = ds[ds.x == 0]\n",
    "    variant = ds[ds.x == 1]\n",
    "    \n",
    "    delta = variant.y.mean() - base.y.mean()\n",
    "    delta_err = 1.96 * np.sqrt(\n",
    "        variant.y.var() / variant.shape[0] + \n",
    "        base.y.var() / base.shape[0])\n",
    "    \n",
    "    return {\"estimated_effect\": delta, \"standard_error\": delta_err}\n",
    "\n",
    "estimate_uplift(observed_data_0)"
   ]
  },
  {
   "cell_type": "markdown",
   "metadata": {},
   "source": [
    "It looks like people with cool hats are less productive. \n",
    "\n",
    "To be sure, we can even run a statistical test:"
   ]
  },
  {
   "cell_type": "markdown",
   "metadata": {},
   "source": [
    "A chi-square test tests a null hypothesis about the relationship between two variables. For example, you could test the hypothesis that men and women are equally likely to vote \"Democratic,\" \"Republican,\" \"Other\" or \"not at all.\" A chi-square test requires categorical variables, usually only two, but each may have any number of levels, whereas A t-test requires two variables; one must be categorical and have exactly two levels, and the other must be quantitative and be estimable by a mean.   "
   ]
  },
  {
   "cell_type": "code",
   "execution_count": 4,
   "metadata": {},
   "outputs": [
    {
     "data": {
      "text/plain": [
       "0.015210293032033802"
      ]
     },
     "execution_count": 4,
     "metadata": {},
     "output_type": "execute_result"
    }
   ],
   "source": [
    "from scipy.stats import chi2_contingency\n",
    "\n",
    "contingency_table = (\n",
    "    observed_data_0\n",
    "    .assign(placeholder=1)\n",
    "    .pivot_table(index=\"x\", columns=\"y\", values=\"placeholder\", aggfunc=\"sum\")\n",
    "    .values\n",
    ")\n",
    "\n",
    "_, p, _, _ = chi2_contingency(contingency_table, lambda_=\"log-likelihood\")\n",
    "\n",
    "# p-value\n",
    "p"
   ]
  },
  {
   "cell_type": "markdown",
   "metadata": {},
   "source": [
    "That's one small p-value. [Staticians would be proud](https://www.nature.com/articles/s41562-017-0189-z).\n",
    "\n",
    "We can use this information to make statements about what we might think about someone's probability if we see them wearing a cool hat. As long as we believe that they are \"drawn from the same distribution\" as our previous observations, we expect the same correlations to exist. \n",
    "\n",
    "The problem comes if we try to use this information as an argument about whether or not the team lead should **force** people to wear cool hats. If the team lead does this they fundamentally change the system we are sampling from, potentially altering or even reversing any correlations we observed before.\n",
    "\n",
    "The cleanest way to actually measure the effect of some change in a system is by running a [randomized control trial](https://en.wikipedia.org/wiki/Randomized_controlled_trial). Specifically, we want to randomize who gets cool hats and who doesn't, and look at the different values of $y$ we receive. This removes the effect of any [confounding variables](https://en.wikipedia.org/wiki/Confounding) which might be influencing the metric we care about.\n",
    "\n",
    "Because we generated our dataset from a known process (in this case a function I wrote), we can intervene in it directly and measure the effect of an A/B test:"
   ]
  },
  {
   "cell_type": "code",
   "execution_count": 5,
   "metadata": {},
   "outputs": [
    {
     "data": {
      "text/plain": [
       "{'estimated_effect': 0.18280000000000002,\n",
       " 'standard_error': 0.01927109381522959}"
      ]
     },
     "execution_count": 5,
     "metadata": {},
     "output_type": "execute_result"
    }
   ],
   "source": [
    "## This is simply running the experiment, generating the data and\n",
    "## identifying the results\n",
    "def run_ab_test(datagenerator, n_samples=10000, filter_=None):\n",
    "    \"\"\"\n",
    "    Generates n_samples from datagenerator with the value of X randomized\n",
    "    so that 50% of the samples recieve treatment X=1 and 50% receive X=0,\n",
    "    and feeds the results into `estimate_uplift` to get an unbiased \n",
    "    estimate of the average treatment effect.\n",
    "    \n",
    "    Returns\n",
    "    -------\n",
    "    effect: dict\n",
    "    \"\"\"\n",
    "    n_samples_a = int(n_samples / 2)\n",
    "    n_samples_b = n_samples - n_samples_a\n",
    "    set_X = np.concatenate([np.ones(n_samples_a), np.zeros(n_samples_b)]).astype(np.int64)\n",
    "    ds = datagenerator(n_samples=n_samples, set_X=set_X)\n",
    "    if filter_ != None:\n",
    "        ds = ds[filter_(ds)].copy()\n",
    "    return estimate_uplift(ds)\n",
    "\n",
    "run_ab_test(dg.generate_dataset_0)"
   ]
  },
  {
   "cell_type": "markdown",
   "metadata": {},
   "source": [
    "Suddenly, it looks like the direction of the effect of wearing cool hats has reversed. \n",
    "\n",
    "What's going on?\n",
    "\n",
    "Note: In the above example, and in all following examples, I'm assuming that our samples are [i.i.d.](https://en.wikipedia.org/wiki/Independent_and_identically_distributed_random_variables), and obey the [Stable unit treatment value assumption (SUTVA)](https://en.wikipedia.org/wiki/Rubin_causal_model#Stable_unit_treatment_value_assumption_%28SUTVA%29). Basically this means that when one person chooses, or is forced to wear a really cool hat they have no influence on the choice or effect of another person wearing a really cool hat. By construction, the synthetic datagenerators I use all have this property. In reality it is yet another thing you have to assume to be true."
   ]
  },
  {
   "cell_type": "markdown",
   "metadata": {},
   "source": [
    "# Definitions of Causality \n",
    "\n",
    "The previous example demonstrates the old statistics saying: \n",
    "\n",
    "[**Correlation Does Not Imply Causation**](https://xkcd.com/552/).\n",
    "\n",
    "[\"Causality\"](https://plato.stanford.edu/entries/causation-metaphysics/) is a vague, philosophical sounding word. In the current context, I am using it to mean \"What is the effect on $Y$ of changing $X$?\"\n",
    "\n",
    "To be precise, $X$ and $Y$ are [random variables](http://mathworld.wolfram.com/RandomVariable.html) and the \"effect\" we want to know is how the distribution of $Y$ will change when we for $X$ to take a certain value. This act of forcing a variable to take a certain value is called an \"Intervention\".\n",
    "\n",
    "In the previous example, when we make no intervention on the system, we have an observational distribution of $Y$, conditioned on the fact we observe $X$:\n",
    "\n",
    "$P(Y|X)$\n",
    "\n",
    "When we force people to wear cool hats, we are making an intervention. The distribution of $Y$ is then given by the _interventional_ distribution \n",
    "\n",
    "$P(Y|\\hbox{do}(X))$\n",
    "\n",
    "In general these two are not the same.\n",
    "\n",
    "#### The question these notes will try and answer is how we can reason about the interventional distribution, when we only have access to observational data. \n",
    "This is a useful question because there are lots of situations where running an A/B test to directly measure the effects of an intervention is impractical, unfeasable or unethical. In these situations we still want to be able to say something about what the effect of an intervention is - to do this we need to make some assumptions about the data generating process we are investigating."
   ]
  },
  {
   "cell_type": "markdown",
   "metadata": {},
   "source": [
    "# Potential Outcomes \n",
    "\n",
    "One way to approach this problem is to introduce two new random variables to our system: $Y_{0}$ and $Y_{1}$, known as the [Potential Outcomes](http://www.stat.unipg.it/stanghellini/rubinjasa2005.pdf). We imagine that these variables exist, and can be treated as any other random variable - the only difference is that they are never directly observed. $Y$ is defined in terms of \n",
    "\n",
    " - $Y = Y_{1}$ when $X=1$\n",
    " - $Y = Y_{0}$ when $X=0$\n",
    " \n",
    "This shifts the problem from one about how distributions change under the intervention, to one about data drawn i.i.d. from some underlying distribution with [missing values](https://en.wikipedia.org/wiki/Missing_data). Under certain assumptions about why values are missing, there is well developed theory about how to estimate the missing values.\n",
    "\n",
    "# Goals\n",
    "\n",
    "Often we do not care about the full interventional distribution, $P(Y|\\hbox{do}(X))$, and it is enough to have an estimate of the difference in means between the two groups. This is a quantity known as the [Average Treatment Effect](https://en.wikipedia.org/wiki/Average_treatment_effect):\n",
    "\n",
    "$\\Delta = E[Y_{1} - Y_{0}]$\n",
    "\n",
    "When we run and A/B test and compare the means of each group, this is directly the quantity we are measuring \n",
    "\n",
    "If we just try and estimate this quantity from the observational distribution, we get:\n",
    "\n",
    "$\\Delta_{bad} = E[Y|X=1] - E[Y|X=0] \\\\\n",
    "= E[Y_{1}|X=1] - E[Y_{0}|X=0] \\\\\n",
    "\\neq \\Delta$\n",
    "\n",
    "This is not generally equal to the true ATE because:\n",
    "\n",
    "$E[Y_{i}|X=i] \\neq E[Y_{i}]$\n",
    "\n",
    "Two related quantities are \n",
    "\n",
    " - $ATT = E[Y_{1} - Y_{0}|X=1]$, the \"Average Treatment effect of the Treated\"\n",
    " - $ATC = E[Y_{1} - Y_{0}|X=0]$, the \"Average Treatment effect of the Control\"\n",
    "\n",
    "One way to interpret ATC is as a measure of the effect of treating only samples which wouldn't naturally be treated, and vice versa for ATT. Depending on your use case, they may be more natural measures of what you care about. The following techniques will allow us to estimate them all. "
   ]
  },
  {
   "cell_type": "markdown",
   "metadata": {},
   "source": [
    "$\\def\\ci{\\perp\\!\\!\\!\\perp}$\n",
    "# Making Assumptions\n",
    "\n",
    "When we A/B test, we randomize the assignment of $X$. This has the effect of allowing us to choose which variable of $Y_{1}$ or $Y_{0}$ is revealed to us. This makes the outcome independent of the value of $X$. We write this as\n",
    "\n",
    "$Y_{1}, Y_{0} \\ci X$\n",
    "\n",
    "Which means that the distribution of $X, Y_{0}, Y_{1}$ factorizes as\n",
    "\n",
    "$P(X, Y_{0}, Y_{1}) = P(X)P(Y_{0}, Y_{1})$\n",
    "\n",
    "If this independence holds then\n",
    "\n",
    "$E[Y_{1}|X=1] = E[Y_{1}]$\n",
    "\n",
    "If we want to estimate the ATE using observational data, we need to use other information we have about the samples - specifically we need to **assume** that we have enough additional information to completely explain the choice of treatment each subject.\n",
    "\n",
    "If we call the additional information the random variable $Z$, we can write this assumption as\n",
    "\n",
    "$Y_{1}, Y_{0} \\ci X \\, | \\, Z$\n",
    "\n",
    "or\n",
    "\n",
    "$P(X, Y_{0}, Y_{1}| Z) = P(X|Z)P(Y_{0}, Y_{1}|Z)$\n",
    "\n",
    "This means that the observed treatment a sample receives, $X$, is completely explained by $Z$. This is sometimes called the [\"ignorability\" assumption](https://en.wikipedia.org/wiki/Ignorability).\n",
    "\n",
    "In our motivating example about cool hats this would mean that there is some other factor - let's call it \"skill\" - which impacts both the productivity of the person and whether or not they wear a cool hat. In our example above, skilled people are more likely to be productive and also less likely to were cool hats. These facts together _could_ explain why the effect of cool hats seemed to reverse when ran an A/B test. \n",
    "\n",
    "If we split our data on whether or not the person is skilled, we find that for each subgroup there is a positive relationship between wearing cool hats and productivity:"
   ]
  },
  {
   "cell_type": "code",
   "execution_count": 6,
   "metadata": {},
   "outputs": [
    {
     "name": "stdout",
     "output_type": "stream",
     "text": [
      "{'estimated_effect': 0.27482993197278915, 'standard_error': 0.188445544210971}\n",
      "{'estimated_effect': 0.17722371967654982, 'standard_error': 0.1682049896229768}\n"
     ]
    }
   ],
   "source": [
    "observed_data_0_with_confounders = dg.generate_dataset_0(show_z=True)\n",
    "\n",
    "print(estimate_uplift(observed_data_0_with_confounders.loc[lambda df: df.z == 0]))\n",
    "print(estimate_uplift(observed_data_0_with_confounders.loc[lambda df: df.z == 1]))"
   ]
  },
  {
   "cell_type": "markdown",
   "metadata": {},
   "source": [
    "Unfortuntly, because we never observe $Y_{0}$ and $Y_{1}$ for the same sample, we cannot test the assumption that \n",
    "\n",
    "$Y_{1}, Y_{0} \\ci X \\, | \\, Z$\n",
    "\n",
    "It is something we have to use our knownledge of the system we are investigating to evaluate.\n",
    "\n",
    "The quality of any prediction you make depends on exactly how well this assumption holds. [Simpson's Paradox](http://www.degeneratestate.org/posts/2017/Oct/22/generating-examples-of-simpsons-paradox/) is an extreme example of the fact that if $Z$ does not give contain all confounding variables, then any inference we make could be wrong. [Facebook have a good paper comparing different causal inference approaches with direct A/B test that show how effects can be overestimated when conditional independence doesn't hold](https://www.kellogg.northwestern.edu/faculty/gordon_b/files/kellogg_fb_whitepaper.pdf).\n",
    "\n",
    "Once we have made this assumption there are a number of techniques for approaching this. I will outline a few of simpler approaches in the rest of the post, but keep in mind that this is a area of ongoing research."
   ]
  },
  {
   "cell_type": "markdown",
   "metadata": {},
   "source": [
    "In human speak you can investigate the counterfactual with an additional variable, but you should trust this apprach less than interventionist studies."
   ]
  },
  {
   "cell_type": "markdown",
   "metadata": {},
   "source": [
    "# Modeling the Counterfactual\n",
    "\n",
    "From the above, it should be clear that if know $Y_{0}$ and $Y_{1}$, we can estimate the ATE. So why not just try and model them directly? Specifically we can build estimators: \n",
    " \n",
    " - $\\hat{Y}_{0}(Z) = E[Y|Z, X=0]$\n",
    " - $\\hat{Y}_{1}(Z) = E[Y|Z, X=1]$. \n",
    " \n",
    "If we can model these two quantities, we can estimate the ATE as:\n",
    "\n",
    "$\\Delta = \\frac{1}{N}\\sum_{i}(\\hat{Y}_{1}(z_{i}) - \\hat{Y}_{0}(z_{i}))$\n",
    "\n",
    "The success of this approach depends on how well we can model the potential outcomes. To see it in action, let's use the following data generating process:"
   ]
  },
  {
   "cell_type": "code",
   "execution_count": 8,
   "metadata": {},
   "outputs": [
    {
     "data": {
      "image/png": "[encoded data removed]",
      "text/plain": [
       "<matplotlib.figure.Figure at 0x1a10ea8358>"
      ]
     },
     "metadata": {},
     "output_type": "display_data"
    }
   ],
   "source": [
    "observed_data_1 = dg.generate_dataset_1()\n",
    "\n",
    "observed_data_1.plot.scatter(x=\"z\", y=\"y\", c=\"x\", cmap=\"rainbow\", colorbar=False);"
   ]
  },
  {
   "cell_type": "markdown",
   "metadata": {},
   "source": [
    "Before jumping into modelling the counterfactual, let's look at the data. If we look at how $Y$ is distributed, there appears to be a small difference between the two groups:"
   ]
  },
  {
   "cell_type": "code",
   "execution_count": 15,
   "metadata": {},
   "outputs": [],
   "source": [
    "## Not really treated, just different"
   ]
  },
  {
   "cell_type": "code",
   "execution_count": 14,
   "metadata": {},
   "outputs": [
    {
     "data": {
      "text/plain": [
       "<matplotlib.axes._subplots.AxesSubplot at 0x10cb1c358>"
      ]
     },
     "execution_count": 14,
     "metadata": {},
     "output_type": "execute_result"
    },
    {
     "data": {
      "image/png": "[encoded data removed]",
      "text/plain": [
       "<matplotlib.figure.Figure at 0x10cbc1ef0>"
      ]
     },
     "metadata": {},
     "output_type": "display_data"
    }
   ],
   "source": [
    "sns.kdeplot(observed_data_1.loc[lambda df: df.x == 0].y, label=\"untreated\")\n",
    "sns.kdeplot(observed_data_1.loc[lambda df: df.x == 1].y, label=\"treated\")"
   ]
  },
  {
   "cell_type": "markdown",
   "metadata": {},
   "source": [
    "We can confirm this by looking at the difference in means between the two groups"
   ]
  },
  {
   "cell_type": "code",
   "execution_count": 16,
   "metadata": {},
   "outputs": [
    {
     "name": "stdout",
     "output_type": "stream",
     "text": [
      "Observed ATE: 0.088 (0.098)\n"
     ]
    }
   ],
   "source": [
    "print(\"Observed ATE: {estimated_effect:.3f} ({standard_error:.3f})\".format(**estimate_uplift(observed_data_1)))"
   ]
  },
  {
   "cell_type": "markdown",
   "metadata": {},
   "source": [
    "However, if we look at the distribution of the covariance, $Z$, it is clear that there is a difference between the groups. "
   ]
  },
  {
   "cell_type": "code",
   "execution_count": 17,
   "metadata": {},
   "outputs": [
    {
     "data": {
      "text/plain": [
       "<matplotlib.axes._subplots.AxesSubplot at 0x10cbdc9b0>"
      ]
     },
     "execution_count": 17,
     "metadata": {},
     "output_type": "execute_result"
    },
    {
     "data": {
      "image/png": "[encoded data removed]",
      "text/plain": [
       "<matplotlib.figure.Figure at 0x10caf3908>"
      ]
     },
     "metadata": {},
     "output_type": "display_data"
    }
   ],
   "source": [
    "sns.kdeplot(observed_data_1.loc[lambda df: df.x == 0].z, label=\"untreated\")\n",
    "sns.kdeplot(observed_data_1.loc[lambda df: df.x == 1].z, label=\"treated\")"
   ]
  },
  {
   "cell_type": "markdown",
   "metadata": {},
   "source": [
    "If we believe that $Z$ has some infulance on the metric $Y$, this should concern us. We need some way to disentangle the effect of $X$ on $Y$ and the effect of $Z$ on $Y$.\n",
    "\n",
    "We can check the actually ATE using our simulated A/B test and confirm that it is difference of the observed value:"
   ]
  },
  {
   "cell_type": "code",
   "execution_count": 18,
   "metadata": {},
   "outputs": [
    {
     "name": "stdout",
     "output_type": "stream",
     "text": [
      "Real ATE:  -0.488 (0.026)\n"
     ]
    }
   ],
   "source": [
    "print(\"Real ATE:  {estimated_effect:.3f} ({standard_error:.3f})\".format(**run_ab_test(dg.generate_dataset_1)))"
   ]
  },
  {
   "cell_type": "markdown",
   "metadata": {},
   "source": [
    "But what happens if we cannot run this A/B test? We need to resort to modelling the system.\n",
    "\n",
    "The simplest type of model we can use is a linear model. Specifically we could assume \n",
    "\n",
    "$Y_{0} = \\alpha + \\beta Z + \\epsilon$\n",
    "\n",
    "$Y_{1} = Y_{0} + \\gamma$\n",
    "\n",
    "If this is accurate, fitting the model\n",
    "\n",
    "$Y = \\alpha + \\beta Z + \\gamma X$\n",
    "\n",
    "to the data using linear regression will give us an estimate of the ATE.\n",
    "\n",
    "The `causalinference` package gives us a simple interface to do this:"
   ]
  },
  {
   "cell_type": "code",
   "execution_count": 37,
   "metadata": {},
   "outputs": [
    {
     "data": {
      "text/plain": [
       "array([[0.45977266, 1.45977266, 0.45977266, ..., 1.45977266, 0.45977266,\n",
       "        1.45977266],\n",
       "       [0.46528151, 1.46528151, 0.46528151, ..., 1.46528151, 0.46528151,\n",
       "        1.46528151],\n",
       "       [0.09362287, 1.09362287, 0.09362287, ..., 1.09362287, 0.09362287,\n",
       "        1.09362287],\n",
       "       ...,\n",
       "       [0.81179512, 1.81179512, 0.81179512, ..., 1.81179512, 0.81179512,\n",
       "        1.81179512],\n",
       "       [0.36630601, 1.36630601, 0.36630601, ..., 1.36630601, 0.36630601,\n",
       "        1.36630601],\n",
       "       [0.69544762, 1.69544762, 0.69544762, ..., 1.69544762, 0.69544762,\n",
       "        1.69544762]])"
      ]
     },
     "execution_count": 37,
     "metadata": {},
     "output_type": "execute_result"
    }
   ],
   "source": [
    "observed_data_1.x.values + observed_data_1.z.values"
   ]
  },
  {
   "cell_type": "code",
   "execution_count": 19,
   "metadata": {},
   "outputs": [],
   "source": [
    "df = pd.DataFrame()\n",
    "df[\"D\"] = observed_data_1.x.values "
   ]
  },
  {
   "cell_type": "code",
   "execution_count": 20,
   "metadata": {},
   "outputs": [],
   "source": [
    "df[\"X\"] = observed_data_1.z.values "
   ]
  },
  {
   "cell_type": "code",
   "execution_count": 23,
   "metadata": {},
   "outputs": [],
   "source": [
    "df[\"Y\"] = list(observed_data_1.y.values) "
   ]
  },
  {
   "cell_type": "code",
   "execution_count": 26,
   "metadata": {},
   "outputs": [
    {
     "data": {
      "text/html": [
       "<div>\n",
       "<style scoped>\n",
       "    .dataframe tbody tr th:only-of-type {\n",
       "        vertical-align: middle;\n",
       "    }\n",
       "\n",
       "    .dataframe tbody tr th {\n",
       "        vertical-align: top;\n",
       "    }\n",
       "\n",
       "    .dataframe thead th {\n",
       "        text-align: right;\n",
       "    }\n",
       "</style>\n",
       "<table border=\"1\" class=\"dataframe\">\n",
       "  <thead>\n",
       "    <tr style=\"text-align: right;\">\n",
       "      <th></th>\n",
       "      <th>const</th>\n",
       "      <th>D</th>\n",
       "      <th>X</th>\n",
       "      <th>Y</th>\n",
       "    </tr>\n",
       "  </thead>\n",
       "  <tbody>\n",
       "    <tr>\n",
       "      <th>0</th>\n",
       "      <td>1.0</td>\n",
       "      <td>0</td>\n",
       "      <td>0.167380</td>\n",
       "      <td>0.368381</td>\n",
       "    </tr>\n",
       "    <tr>\n",
       "      <th>1</th>\n",
       "      <td>1.0</td>\n",
       "      <td>1</td>\n",
       "      <td>0.650004</td>\n",
       "      <td>0.937025</td>\n",
       "    </tr>\n",
       "    <tr>\n",
       "      <th>2</th>\n",
       "      <td>1.0</td>\n",
       "      <td>1</td>\n",
       "      <td>0.724620</td>\n",
       "      <td>0.770558</td>\n",
       "    </tr>\n",
       "    <tr>\n",
       "      <th>3</th>\n",
       "      <td>1.0</td>\n",
       "      <td>1</td>\n",
       "      <td>0.986436</td>\n",
       "      <td>1.761892</td>\n",
       "    </tr>\n",
       "    <tr>\n",
       "      <th>4</th>\n",
       "      <td>1.0</td>\n",
       "      <td>1</td>\n",
       "      <td>0.328730</td>\n",
       "      <td>-0.048466</td>\n",
       "    </tr>\n",
       "    <tr>\n",
       "      <th>5</th>\n",
       "      <td>1.0</td>\n",
       "      <td>0</td>\n",
       "      <td>0.315979</td>\n",
       "      <td>1.113640</td>\n",
       "    </tr>\n",
       "    <tr>\n",
       "      <th>6</th>\n",
       "      <td>1.0</td>\n",
       "      <td>0</td>\n",
       "      <td>0.647366</td>\n",
       "      <td>1.302902</td>\n",
       "    </tr>\n",
       "    <tr>\n",
       "      <th>7</th>\n",
       "      <td>1.0</td>\n",
       "      <td>0</td>\n",
       "      <td>0.070309</td>\n",
       "      <td>0.012605</td>\n",
       "    </tr>\n",
       "    <tr>\n",
       "      <th>8</th>\n",
       "      <td>1.0</td>\n",
       "      <td>0</td>\n",
       "      <td>0.118775</td>\n",
       "      <td>0.821925</td>\n",
       "    </tr>\n",
       "    <tr>\n",
       "      <th>9</th>\n",
       "      <td>1.0</td>\n",
       "      <td>0</td>\n",
       "      <td>0.532817</td>\n",
       "      <td>0.984217</td>\n",
       "    </tr>\n",
       "    <tr>\n",
       "      <th>10</th>\n",
       "      <td>1.0</td>\n",
       "      <td>0</td>\n",
       "      <td>0.624578</td>\n",
       "      <td>1.180478</td>\n",
       "    </tr>\n",
       "    <tr>\n",
       "      <th>11</th>\n",
       "      <td>1.0</td>\n",
       "      <td>0</td>\n",
       "      <td>0.309598</td>\n",
       "      <td>0.939691</td>\n",
       "    </tr>\n",
       "    <tr>\n",
       "      <th>12</th>\n",
       "      <td>1.0</td>\n",
       "      <td>1</td>\n",
       "      <td>0.998245</td>\n",
       "      <td>1.158542</td>\n",
       "    </tr>\n",
       "    <tr>\n",
       "      <th>13</th>\n",
       "      <td>1.0</td>\n",
       "      <td>1</td>\n",
       "      <td>0.993266</td>\n",
       "      <td>1.060444</td>\n",
       "    </tr>\n",
       "    <tr>\n",
       "      <th>14</th>\n",
       "      <td>1.0</td>\n",
       "      <td>1</td>\n",
       "      <td>0.694032</td>\n",
       "      <td>0.856713</td>\n",
       "    </tr>\n",
       "    <tr>\n",
       "      <th>15</th>\n",
       "      <td>1.0</td>\n",
       "      <td>1</td>\n",
       "      <td>0.913767</td>\n",
       "      <td>0.893618</td>\n",
       "    </tr>\n",
       "    <tr>\n",
       "      <th>16</th>\n",
       "      <td>1.0</td>\n",
       "      <td>1</td>\n",
       "      <td>0.918416</td>\n",
       "      <td>1.316548</td>\n",
       "    </tr>\n",
       "    <tr>\n",
       "      <th>17</th>\n",
       "      <td>1.0</td>\n",
       "      <td>0</td>\n",
       "      <td>0.799792</td>\n",
       "      <td>1.844959</td>\n",
       "    </tr>\n",
       "    <tr>\n",
       "      <th>18</th>\n",
       "      <td>1.0</td>\n",
       "      <td>0</td>\n",
       "      <td>0.406454</td>\n",
       "      <td>0.710161</td>\n",
       "    </tr>\n",
       "    <tr>\n",
       "      <th>19</th>\n",
       "      <td>1.0</td>\n",
       "      <td>0</td>\n",
       "      <td>0.129117</td>\n",
       "      <td>-0.126673</td>\n",
       "    </tr>\n",
       "    <tr>\n",
       "      <th>20</th>\n",
       "      <td>1.0</td>\n",
       "      <td>1</td>\n",
       "      <td>0.614876</td>\n",
       "      <td>0.598525</td>\n",
       "    </tr>\n",
       "    <tr>\n",
       "      <th>21</th>\n",
       "      <td>1.0</td>\n",
       "      <td>1</td>\n",
       "      <td>0.532890</td>\n",
       "      <td>0.576439</td>\n",
       "    </tr>\n",
       "    <tr>\n",
       "      <th>22</th>\n",
       "      <td>1.0</td>\n",
       "      <td>0</td>\n",
       "      <td>0.133358</td>\n",
       "      <td>-0.207360</td>\n",
       "    </tr>\n",
       "    <tr>\n",
       "      <th>23</th>\n",
       "      <td>1.0</td>\n",
       "      <td>1</td>\n",
       "      <td>0.861342</td>\n",
       "      <td>1.548956</td>\n",
       "    </tr>\n",
       "    <tr>\n",
       "      <th>24</th>\n",
       "      <td>1.0</td>\n",
       "      <td>0</td>\n",
       "      <td>0.075510</td>\n",
       "      <td>0.004701</td>\n",
       "    </tr>\n",
       "    <tr>\n",
       "      <th>25</th>\n",
       "      <td>1.0</td>\n",
       "      <td>1</td>\n",
       "      <td>0.715937</td>\n",
       "      <td>0.315848</td>\n",
       "    </tr>\n",
       "    <tr>\n",
       "      <th>26</th>\n",
       "      <td>1.0</td>\n",
       "      <td>1</td>\n",
       "      <td>0.931438</td>\n",
       "      <td>1.039988</td>\n",
       "    </tr>\n",
       "    <tr>\n",
       "      <th>27</th>\n",
       "      <td>1.0</td>\n",
       "      <td>0</td>\n",
       "      <td>0.276856</td>\n",
       "      <td>0.705991</td>\n",
       "    </tr>\n",
       "    <tr>\n",
       "      <th>28</th>\n",
       "      <td>1.0</td>\n",
       "      <td>1</td>\n",
       "      <td>0.981846</td>\n",
       "      <td>1.385628</td>\n",
       "    </tr>\n",
       "    <tr>\n",
       "      <th>29</th>\n",
       "      <td>1.0</td>\n",
       "      <td>1</td>\n",
       "      <td>0.743115</td>\n",
       "      <td>0.676753</td>\n",
       "    </tr>\n",
       "    <tr>\n",
       "      <th>...</th>\n",
       "      <td>...</td>\n",
       "      <td>...</td>\n",
       "      <td>...</td>\n",
       "      <td>...</td>\n",
       "    </tr>\n",
       "    <tr>\n",
       "      <th>470</th>\n",
       "      <td>1.0</td>\n",
       "      <td>0</td>\n",
       "      <td>0.689503</td>\n",
       "      <td>0.950924</td>\n",
       "    </tr>\n",
       "    <tr>\n",
       "      <th>471</th>\n",
       "      <td>1.0</td>\n",
       "      <td>0</td>\n",
       "      <td>0.247772</td>\n",
       "      <td>0.933428</td>\n",
       "    </tr>\n",
       "    <tr>\n",
       "      <th>472</th>\n",
       "      <td>1.0</td>\n",
       "      <td>0</td>\n",
       "      <td>0.505720</td>\n",
       "      <td>1.027716</td>\n",
       "    </tr>\n",
       "    <tr>\n",
       "      <th>473</th>\n",
       "      <td>1.0</td>\n",
       "      <td>0</td>\n",
       "      <td>0.338084</td>\n",
       "      <td>0.785609</td>\n",
       "    </tr>\n",
       "    <tr>\n",
       "      <th>474</th>\n",
       "      <td>1.0</td>\n",
       "      <td>0</td>\n",
       "      <td>0.231931</td>\n",
       "      <td>0.913307</td>\n",
       "    </tr>\n",
       "    <tr>\n",
       "      <th>475</th>\n",
       "      <td>1.0</td>\n",
       "      <td>0</td>\n",
       "      <td>0.221997</td>\n",
       "      <td>1.020032</td>\n",
       "    </tr>\n",
       "    <tr>\n",
       "      <th>476</th>\n",
       "      <td>1.0</td>\n",
       "      <td>1</td>\n",
       "      <td>0.843777</td>\n",
       "      <td>0.590825</td>\n",
       "    </tr>\n",
       "    <tr>\n",
       "      <th>477</th>\n",
       "      <td>1.0</td>\n",
       "      <td>1</td>\n",
       "      <td>0.337148</td>\n",
       "      <td>0.368343</td>\n",
       "    </tr>\n",
       "    <tr>\n",
       "      <th>478</th>\n",
       "      <td>1.0</td>\n",
       "      <td>1</td>\n",
       "      <td>0.215253</td>\n",
       "      <td>0.337213</td>\n",
       "    </tr>\n",
       "    <tr>\n",
       "      <th>479</th>\n",
       "      <td>1.0</td>\n",
       "      <td>1</td>\n",
       "      <td>0.713321</td>\n",
       "      <td>1.015427</td>\n",
       "    </tr>\n",
       "    <tr>\n",
       "      <th>480</th>\n",
       "      <td>1.0</td>\n",
       "      <td>1</td>\n",
       "      <td>0.576238</td>\n",
       "      <td>0.749805</td>\n",
       "    </tr>\n",
       "    <tr>\n",
       "      <th>481</th>\n",
       "      <td>1.0</td>\n",
       "      <td>0</td>\n",
       "      <td>0.747840</td>\n",
       "      <td>1.364440</td>\n",
       "    </tr>\n",
       "    <tr>\n",
       "      <th>482</th>\n",
       "      <td>1.0</td>\n",
       "      <td>0</td>\n",
       "      <td>0.604314</td>\n",
       "      <td>1.164104</td>\n",
       "    </tr>\n",
       "    <tr>\n",
       "      <th>483</th>\n",
       "      <td>1.0</td>\n",
       "      <td>0</td>\n",
       "      <td>0.047950</td>\n",
       "      <td>0.206684</td>\n",
       "    </tr>\n",
       "    <tr>\n",
       "      <th>484</th>\n",
       "      <td>1.0</td>\n",
       "      <td>1</td>\n",
       "      <td>0.852207</td>\n",
       "      <td>0.979391</td>\n",
       "    </tr>\n",
       "    <tr>\n",
       "      <th>485</th>\n",
       "      <td>1.0</td>\n",
       "      <td>1</td>\n",
       "      <td>0.337565</td>\n",
       "      <td>-0.281377</td>\n",
       "    </tr>\n",
       "    <tr>\n",
       "      <th>486</th>\n",
       "      <td>1.0</td>\n",
       "      <td>0</td>\n",
       "      <td>0.523070</td>\n",
       "      <td>1.000419</td>\n",
       "    </tr>\n",
       "    <tr>\n",
       "      <th>487</th>\n",
       "      <td>1.0</td>\n",
       "      <td>0</td>\n",
       "      <td>0.492614</td>\n",
       "      <td>0.957809</td>\n",
       "    </tr>\n",
       "    <tr>\n",
       "      <th>488</th>\n",
       "      <td>1.0</td>\n",
       "      <td>0</td>\n",
       "      <td>0.145262</td>\n",
       "      <td>0.606536</td>\n",
       "    </tr>\n",
       "    <tr>\n",
       "      <th>489</th>\n",
       "      <td>1.0</td>\n",
       "      <td>1</td>\n",
       "      <td>0.883718</td>\n",
       "      <td>1.046602</td>\n",
       "    </tr>\n",
       "    <tr>\n",
       "      <th>490</th>\n",
       "      <td>1.0</td>\n",
       "      <td>1</td>\n",
       "      <td>0.850322</td>\n",
       "      <td>1.343214</td>\n",
       "    </tr>\n",
       "    <tr>\n",
       "      <th>491</th>\n",
       "      <td>1.0</td>\n",
       "      <td>1</td>\n",
       "      <td>0.794796</td>\n",
       "      <td>0.853977</td>\n",
       "    </tr>\n",
       "    <tr>\n",
       "      <th>492</th>\n",
       "      <td>1.0</td>\n",
       "      <td>0</td>\n",
       "      <td>0.501833</td>\n",
       "      <td>0.299981</td>\n",
       "    </tr>\n",
       "    <tr>\n",
       "      <th>493</th>\n",
       "      <td>1.0</td>\n",
       "      <td>0</td>\n",
       "      <td>0.130130</td>\n",
       "      <td>-0.183238</td>\n",
       "    </tr>\n",
       "    <tr>\n",
       "      <th>494</th>\n",
       "      <td>1.0</td>\n",
       "      <td>0</td>\n",
       "      <td>0.309492</td>\n",
       "      <td>0.821001</td>\n",
       "    </tr>\n",
       "    <tr>\n",
       "      <th>495</th>\n",
       "      <td>1.0</td>\n",
       "      <td>1</td>\n",
       "      <td>0.189327</td>\n",
       "      <td>-0.112395</td>\n",
       "    </tr>\n",
       "    <tr>\n",
       "      <th>496</th>\n",
       "      <td>1.0</td>\n",
       "      <td>1</td>\n",
       "      <td>0.878495</td>\n",
       "      <td>1.351421</td>\n",
       "    </tr>\n",
       "    <tr>\n",
       "      <th>497</th>\n",
       "      <td>1.0</td>\n",
       "      <td>1</td>\n",
       "      <td>0.679564</td>\n",
       "      <td>1.508809</td>\n",
       "    </tr>\n",
       "    <tr>\n",
       "      <th>498</th>\n",
       "      <td>1.0</td>\n",
       "      <td>0</td>\n",
       "      <td>0.716193</td>\n",
       "      <td>0.919747</td>\n",
       "    </tr>\n",
       "    <tr>\n",
       "      <th>499</th>\n",
       "      <td>1.0</td>\n",
       "      <td>0</td>\n",
       "      <td>0.860674</td>\n",
       "      <td>1.913388</td>\n",
       "    </tr>\n",
       "  </tbody>\n",
       "</table>\n",
       "<p>500 rows × 4 columns</p>\n",
       "</div>"
      ],
      "text/plain": [
       "     const  D         X         Y\n",
       "0      1.0  0  0.167380  0.368381\n",
       "1      1.0  1  0.650004  0.937025\n",
       "2      1.0  1  0.724620  0.770558\n",
       "3      1.0  1  0.986436  1.761892\n",
       "4      1.0  1  0.328730 -0.048466\n",
       "5      1.0  0  0.315979  1.113640\n",
       "6      1.0  0  0.647366  1.302902\n",
       "7      1.0  0  0.070309  0.012605\n",
       "8      1.0  0  0.118775  0.821925\n",
       "9      1.0  0  0.532817  0.984217\n",
       "10     1.0  0  0.624578  1.180478\n",
       "11     1.0  0  0.309598  0.939691\n",
       "12     1.0  1  0.998245  1.158542\n",
       "13     1.0  1  0.993266  1.060444\n",
       "14     1.0  1  0.694032  0.856713\n",
       "15     1.0  1  0.913767  0.893618\n",
       "16     1.0  1  0.918416  1.316548\n",
       "17     1.0  0  0.799792  1.844959\n",
       "18     1.0  0  0.406454  0.710161\n",
       "19     1.0  0  0.129117 -0.126673\n",
       "20     1.0  1  0.614876  0.598525\n",
       "21     1.0  1  0.532890  0.576439\n",
       "22     1.0  0  0.133358 -0.207360\n",
       "23     1.0  1  0.861342  1.548956\n",
       "24     1.0  0  0.075510  0.004701\n",
       "25     1.0  1  0.715937  0.315848\n",
       "26     1.0  1  0.931438  1.039988\n",
       "27     1.0  0  0.276856  0.705991\n",
       "28     1.0  1  0.981846  1.385628\n",
       "29     1.0  1  0.743115  0.676753\n",
       "..     ... ..       ...       ...\n",
       "470    1.0  0  0.689503  0.950924\n",
       "471    1.0  0  0.247772  0.933428\n",
       "472    1.0  0  0.505720  1.027716\n",
       "473    1.0  0  0.338084  0.785609\n",
       "474    1.0  0  0.231931  0.913307\n",
       "475    1.0  0  0.221997  1.020032\n",
       "476    1.0  1  0.843777  0.590825\n",
       "477    1.0  1  0.337148  0.368343\n",
       "478    1.0  1  0.215253  0.337213\n",
       "479    1.0  1  0.713321  1.015427\n",
       "480    1.0  1  0.576238  0.749805\n",
       "481    1.0  0  0.747840  1.364440\n",
       "482    1.0  0  0.604314  1.164104\n",
       "483    1.0  0  0.047950  0.206684\n",
       "484    1.0  1  0.852207  0.979391\n",
       "485    1.0  1  0.337565 -0.281377\n",
       "486    1.0  0  0.523070  1.000419\n",
       "487    1.0  0  0.492614  0.957809\n",
       "488    1.0  0  0.145262  0.606536\n",
       "489    1.0  1  0.883718  1.046602\n",
       "490    1.0  1  0.850322  1.343214\n",
       "491    1.0  1  0.794796  0.853977\n",
       "492    1.0  0  0.501833  0.299981\n",
       "493    1.0  0  0.130130 -0.183238\n",
       "494    1.0  0  0.309492  0.821001\n",
       "495    1.0  1  0.189327 -0.112395\n",
       "496    1.0  1  0.878495  1.351421\n",
       "497    1.0  1  0.679564  1.508809\n",
       "498    1.0  0  0.716193  0.919747\n",
       "499    1.0  0  0.860674  1.913388\n",
       "\n",
       "[500 rows x 4 columns]"
      ]
     },
     "execution_count": 26,
     "metadata": {},
     "output_type": "execute_result"
    }
   ],
   "source": [
    "import statsmodels.api as sm # i\n",
    "df_full = sm.add_constant(df[[\"D\",\"X\",\"Y\"]]); df_full"
   ]
  },
  {
   "cell_type": "code",
   "execution_count": 30,
   "metadata": {},
   "outputs": [],
   "source": [
    "from causality.inference.search import IC\n",
    "from causality.inference.independence_tests import RobustRegressionTest\n",
    "## The automated discovery might not work, but you know it exists\n",
    "variable_types = {'const' : 'u', 'D' : 'u', 'X' : 'c', 'Y': 'u'}\n",
    "\n",
    "ic_algorithm = IC(RobustRegressionTest)\n",
    "graph = ic_algorithm.search(df_full, variable_types)"
   ]
  },
  {
   "cell_type": "code",
   "execution_count": 31,
   "metadata": {},
   "outputs": [
    {
     "data": {
      "text/plain": [
       "[('const', 'X', {'arrows': [], 'marked': False}),\n",
       " ('D', 'X', {'arrows': [], 'marked': False}),\n",
       " ('D', 'Y', {'arrows': [], 'marked': False}),\n",
       " ('X', 'Y', {'arrows': [], 'marked': False})]"
      ]
     },
     "execution_count": 31,
     "metadata": {},
     "output_type": "execute_result"
    }
   ],
   "source": [
    "graph.edges(data=True)"
   ]
  },
  {
   "cell_type": "code",
   "execution_count": 32,
   "metadata": {},
   "outputs": [],
   "source": [
    "import pandas as pd\n",
    "import numpy as np\n",
    "from causality.estimation.parametric import PropensityScoreMatching\n"
   ]
  },
  {
   "cell_type": "code",
   "execution_count": 38,
   "metadata": {},
   "outputs": [],
   "source": [
    "import scipy.io as sio\n",
    "test = sio.loadmat('data/cina0_train.mat')"
   ]
  },
  {
   "cell_type": "code",
   "execution_count": 36,
   "metadata": {},
   "outputs": [
    {
     "data": {
      "text/plain": [
       "{'X': array([[1, 0, 0, ..., 1, 0, 0],\n",
       "        [0, 0, 0, ..., 0, 0, 0],\n",
       "        [0, 1, 0, ..., 0, 0, 0],\n",
       "        ...,\n",
       "        [0, 0, 0, ..., 0, 0, 0],\n",
       "        [1, 0, 0, ..., 0, 0, 0],\n",
       "        [0, 0, 0, ..., 0, 0, 0]], dtype=uint16),\n",
       " '__globals__': [],\n",
       " '__header__': b'MATLAB 5.0 MAT-file, Platform: PCWIN, Created on: Thu Jan 10 13:49:59 2008',\n",
       " '__version__': '1.0'}"
      ]
     },
     "execution_count": 36,
     "metadata": {},
     "output_type": "execute_result"
    }
   ],
   "source": [
    "test"
   ]
  },
  {
   "cell_type": "code",
   "execution_count": 45,
   "metadata": {},
   "outputs": [
    {
     "data": {
      "text/plain": [
       "(501, 500)"
      ]
     },
     "execution_count": 45,
     "metadata": {},
     "output_type": "execute_result"
    }
   ],
   "source": [
    "constants.shape"
   ]
  },
  {
   "cell_type": "code",
   "execution_count": 29,
   "metadata": {},
   "outputs": [
    {
     "data": {
      "text/html": [
       "<table class=\"simpletable\">\n",
       "<caption>OLS Regression Results</caption>\n",
       "<tr>\n",
       "  <th>Dep. Variable:</th>            <td>y</td>        <th>  R-squared:         </th>  <td>   1.000</td> \n",
       "</tr>\n",
       "<tr>\n",
       "  <th>Model:</th>                   <td>OLS</td>       <th>  Adj. R-squared:    </th>  <td>   1.000</td> \n",
       "</tr>\n",
       "<tr>\n",
       "  <th>Method:</th>             <td>Least Squares</td>  <th>  F-statistic:       </th>  <td>8.884e+31</td>\n",
       "</tr>\n",
       "<tr>\n",
       "  <th>Date:</th>             <td>Sun, 01 Jul 2018</td> <th>  Prob (F-statistic):</th>   <td>  0.00</td>  \n",
       "</tr>\n",
       "<tr>\n",
       "  <th>Time:</th>                 <td>07:51:21</td>     <th>  Log-Likelihood:    </th>  <td>  16689.</td> \n",
       "</tr>\n",
       "<tr>\n",
       "  <th>No. Observations:</th>      <td>   500</td>      <th>  AIC:               </th> <td>-3.337e+04</td>\n",
       "</tr>\n",
       "<tr>\n",
       "  <th>Df Residuals:</th>          <td>   496</td>      <th>  BIC:               </th> <td>-3.335e+04</td>\n",
       "</tr>\n",
       "<tr>\n",
       "  <th>Df Model:</th>              <td>     3</td>      <th>                     </th>      <td> </td>    \n",
       "</tr>\n",
       "<tr>\n",
       "  <th>Covariance Type:</th>      <td>nonrobust</td>    <th>                     </th>      <td> </td>    \n",
       "</tr>\n",
       "</table>\n",
       "<table class=\"simpletable\">\n",
       "<tr>\n",
       "    <td></td>       <th>coef</th>     <th>std err</th>      <th>t</th>      <th>P>|t|</th>  <th>[0.025</th>    <th>0.975]</th>  \n",
       "</tr>\n",
       "<tr>\n",
       "  <th>const</th> <td>-9.506e-16</td> <td> 7.05e-17</td> <td>  -13.479</td> <td> 0.000</td> <td>-1.09e-15</td> <td>-8.12e-16</td>\n",
       "</tr>\n",
       "<tr>\n",
       "  <th>D</th>     <td> 1.839e-16</td> <td> 1.03e-16</td> <td>    1.793</td> <td> 0.074</td> <td>-1.76e-17</td> <td> 3.85e-16</td>\n",
       "</tr>\n",
       "<tr>\n",
       "  <th>X</th>     <td> 5.412e-16</td> <td> 2.69e-16</td> <td>    2.011</td> <td> 0.045</td> <td> 1.26e-17</td> <td> 1.07e-15</td>\n",
       "</tr>\n",
       "<tr>\n",
       "  <th>Y</th>     <td>    1.0000</td> <td> 1.12e-16</td> <td> 8.93e+15</td> <td> 0.000</td> <td>    1.000</td> <td>    1.000</td>\n",
       "</tr>\n",
       "</table>\n",
       "<table class=\"simpletable\">\n",
       "<tr>\n",
       "  <th>Omnibus:</th>       <td>95.891</td> <th>  Durbin-Watson:     </th> <td>   0.108</td>\n",
       "</tr>\n",
       "<tr>\n",
       "  <th>Prob(Omnibus):</th> <td> 0.000</td> <th>  Jarque-Bera (JB):  </th> <td>  20.491</td>\n",
       "</tr>\n",
       "<tr>\n",
       "  <th>Skew:</th>          <td> 0.008</td> <th>  Prob(JB):          </th> <td>3.55e-05</td>\n",
       "</tr>\n",
       "<tr>\n",
       "  <th>Kurtosis:</th>      <td> 2.008</td> <th>  Cond. No.          </th> <td>    13.0</td>\n",
       "</tr>\n",
       "</table>"
      ],
      "text/plain": [
       "<class 'statsmodels.iolib.summary.Summary'>\n",
       "\"\"\"\n",
       "                            OLS Regression Results                            \n",
       "==============================================================================\n",
       "Dep. Variable:                      y   R-squared:                       1.000\n",
       "Model:                            OLS   Adj. R-squared:                  1.000\n",
       "Method:                 Least Squares   F-statistic:                 8.884e+31\n",
       "Date:                Sun, 01 Jul 2018   Prob (F-statistic):               0.00\n",
       "Time:                        07:51:21   Log-Likelihood:                 16689.\n",
       "No. Observations:                 500   AIC:                        -3.337e+04\n",
       "Df Residuals:                     496   BIC:                        -3.335e+04\n",
       "Df Model:                           3                                         \n",
       "Covariance Type:            nonrobust                                         \n",
       "==============================================================================\n",
       "                 coef    std err          t      P>|t|      [0.025      0.975]\n",
       "------------------------------------------------------------------------------\n",
       "const      -9.506e-16   7.05e-17    -13.479      0.000   -1.09e-15   -8.12e-16\n",
       "D           1.839e-16   1.03e-16      1.793      0.074   -1.76e-17    3.85e-16\n",
       "X           5.412e-16   2.69e-16      2.011      0.045    1.26e-17    1.07e-15\n",
       "Y              1.0000   1.12e-16   8.93e+15      0.000       1.000       1.000\n",
       "==============================================================================\n",
       "Omnibus:                       95.891   Durbin-Watson:                   0.108\n",
       "Prob(Omnibus):                  0.000   Jarque-Bera (JB):               20.491\n",
       "Skew:                           0.008   Prob(JB):                     3.55e-05\n",
       "Kurtosis:                       2.008   Cond. No.                         13.0\n",
       "==============================================================================\n",
       "\n",
       "Warnings:\n",
       "[1] Standard Errors assume that the covariance matrix of the errors is correctly specified.\n",
       "\"\"\""
      ]
     },
     "execution_count": 29,
     "metadata": {},
     "output_type": "execute_result"
    }
   ],
   "source": [
    "import statsmodels.api as sm # import statsmodels \n",
    "\n",
    "Y=observed_data_1.y.values\n",
    "D = observed_data_1.x.values\n",
    "X = observed_data_1.z.values\n",
    "# Note the difference in argument order\n",
    "model = sm.OLS(Y, df_full).fit() ## sm.OLS(output, input)\n",
    "\n",
    "# Print out the statistics\n",
    "model.summary()"
   ]
  },
  {
   "cell_type": "code",
   "execution_count": 20,
   "metadata": {},
   "outputs": [
    {
     "name": "stdout",
     "output_type": "stream",
     "text": [
      "\n",
      "Treatment Effect Estimates: OLS\n",
      "\n",
      "                     Est.       S.e.          z      P>|z|      [95% Conf. int.]\n",
      "--------------------------------------------------------------------------------\n",
      "           ATE     -0.533      0.030    -17.739      0.000     -0.592     -0.474\n",
      "\n"
     ]
    },
    {
     "name": "stderr",
     "output_type": "stream",
     "text": [
      "/Users/dereksnow/anaconda/envs/py36/lib/python3.6/site-packages/causalinference/estimators/ols.py:21: FutureWarning: `rcond` parameter will change to the default of machine precision times ``max(M, N)`` where M and N are the input matrix dimensions.\n",
      "To use the future default and silence this warning we advise to pass `rcond=None`, to keep using the old, explicitly pass `rcond=-1`.\n",
      "  olscoef = np.linalg.lstsq(Z, Y)[0]\n"
     ]
    }
   ],
   "source": [
    "## D is the determinant, the hat wearers, X is the Z (control)\n",
    "## There is no difference between runnig a normal linear regression and\n",
    "## runnning this causal model. \n",
    "from causalinference import CausalModel\n",
    "\n",
    "cm = CausalModel(\n",
    "    Y=observed_data_1.y.values, \n",
    "    D=observed_data_1.x.values, \n",
    "    X=observed_data_1.z.values)\n",
    "\n",
    "cm.est_via_ols(adj=1)\n",
    "\n",
    "print(cm.estimates)"
   ]
  },
  {
   "cell_type": "markdown",
   "metadata": {},
   "source": [
    "`causalinference` returns an estimate of the ATE, along with some statistical properties of the estimate. It is important to realise that the confidence intervals reported for the estimates are the confidence intervals _if we assume the model accurately describes the counterfactual_, not confidence intervals about how well the the model describes the counterfactual.\n",
    "\n",
    "In this case the package has done well in identifying the correct ATE - which is good, but the data generating process was specifically designed to meet the assumptions. Let's look at a few cases where it might fail.\n",
    "\n",
    "The first is when the effect is not simply additive:"
   ]
  },
  {
   "cell_type": "code",
   "execution_count": 52,
   "metadata": {},
   "outputs": [
    {
     "name": "stdout",
     "output_type": "stream",
     "text": [
      "Observed ATE: 0.684 (0.102)\n",
      "Real ATE:  0.539 (0.030)\n"
     ]
    },
    {
     "data": {
      "image/png": "[encoded data removed]",
      "text/plain": [
       "<matplotlib.figure.Figure at 0x10522cf98>"
      ]
     },
     "metadata": {},
     "output_type": "display_data"
    }
   ],
   "source": [
    "observed_data_2 = dg.generate_dataset_2()\n",
    "\n",
    "observed_data_2.plot.scatter(x=\"z\", y=\"y\", c=\"x\", cmap=\"rainbow\", colorbar=False)\n",
    "\n",
    "print(\"Observed ATE: {estimated_effect:.3f} ({standard_error:.3f})\".format(**estimate_uplift(observed_data_2)))\n",
    "print(\"Real ATE:  {estimated_effect:.3f} ({standard_error:.3f})\".format(**run_ab_test(dg.generate_dataset_2)))"
   ]
  },
  {
   "cell_type": "code",
   "execution_count": 53,
   "metadata": {},
   "outputs": [
    {
     "name": "stdout",
     "output_type": "stream",
     "text": [
      "\n",
      "Treatment Effect Estimates: OLS\n",
      "\n",
      "                     Est.       S.e.          z      P>|z|      [95% Conf. int.]\n",
      "--------------------------------------------------------------------------------\n",
      "           ATE      0.207      0.075      2.765      0.006      0.060      0.353\n",
      "\n"
     ]
    },
    {
     "name": "stderr",
     "output_type": "stream",
     "text": [
      "/Users/dereksnow/anaconda/envs/py36/lib/python3.6/site-packages/causalinference/estimators/ols.py:21: FutureWarning: `rcond` parameter will change to the default of machine precision times ``max(M, N)`` where M and N are the input matrix dimensions.\n",
      "To use the future default and silence this warning we advise to pass `rcond=None`, to keep using the old, explicitly pass `rcond=-1`.\n",
      "  olscoef = np.linalg.lstsq(Z, Y)[0]\n"
     ]
    }
   ],
   "source": [
    "# Linear Regression helps to decribe the countefactual. \n",
    "cm = CausalModel(\n",
    "    Y=observed_data_2.y.values, \n",
    "    D=observed_data_2.x.values, \n",
    "    X=observed_data_2.z.values)\n",
    "\n",
    "cm.est_via_ols(adj=1)\n",
    "\n",
    "print(cm.estimates)"
   ]
  },
  {
   "cell_type": "markdown",
   "metadata": {},
   "source": [
    "Usually this can be overcome by using more powerful estimators . A simple, non-parametric approach, is the technique of [matching](https://en.wikipedia.org/wiki/Matching_%28statistics%29). The idea is to find for each sample which received the treatment, a similar samples which did not receive the treatment, and to directly compare these values. Exactly what you mean by \"similar\" will depend on your specific usecase., \n",
    "\n",
    "The package `causalinference` implements matching by selecting for each unit, with replacement, the most similar unit from the other treatment group and using the difference between these two units to calculate the ATE. By default, the choice of match is chosen to be the nearest neighbour in covariate space $Z$, with the distances weighted by inverse variance of each dimension.\n",
    "\n",
    "There are options to change the number of units compared and the weighting of each dimension in the match. For more details, see the [documentation](http://laurence-wong.com/software/matching).\n",
    "\n",
    "We can compute the matching estimate with the following code"
   ]
  },
  {
   "cell_type": "code",
   "execution_count": 54,
   "metadata": {},
   "outputs": [
    {
     "name": "stdout",
     "output_type": "stream",
     "text": [
      "\n",
      "Treatment Effect Estimates: Matching\n",
      "\n",
      "                     Est.       S.e.          z      P>|z|      [95% Conf. int.]\n",
      "--------------------------------------------------------------------------------\n",
      "           ATE      0.460      0.130      3.537      0.000      0.205      0.715\n",
      "           ATC      0.866      0.128      6.772      0.000      0.615      1.117\n",
      "           ATT      0.041      0.188      0.216      0.829     -0.328      0.410\n",
      "\n"
     ]
    }
   ],
   "source": [
    "## Simply a better way to describe controls \n",
    "cm = CausalModel(\n",
    "    Y=observed_data_2.y.values, \n",
    "    D=observed_data_2.x.values, \n",
    "    X=observed_data_2.z.values)\n",
    "\n",
    "cm.est_via_matching()\n",
    "\n",
    "print(cm.estimates)"
   ]
  },
  {
   "cell_type": "markdown",
   "metadata": {},
   "source": [
    "The confidence intervals around our estimate now contain the true ATE."
   ]
  },
  {
   "cell_type": "markdown",
   "metadata": {},
   "source": [
    "# Covariate Imbalance\n",
    "\n",
    "A more difficult problem to deal with is when the covariates you are using are imbalanced: when there are areas of covariate space which contains only the treated or untreated samples. Here we have to extrapolate the effect of the treatment - which will depend heavily on assumptions model we use. \n",
    "\n",
    "The example below demonstrates this:"
   ]
  },
  {
   "cell_type": "code",
   "execution_count": 55,
   "metadata": {},
   "outputs": [
    {
     "name": "stdout",
     "output_type": "stream",
     "text": [
      "Observed ATE: 1.337 (0.085)\n",
      "Real ATE:  2.401 (0.033)\n"
     ]
    },
    {
     "data": {
      "image/png": "[encoded data removed]",
      "text/plain": [
       "<matplotlib.figure.Figure at 0x1c11049550>"
      ]
     },
     "metadata": {},
     "output_type": "display_data"
    }
   ],
   "source": [
    "observed_data_3 = dg.generate_dataset_3()\n",
    "\n",
    "observed_data_3.plot.scatter(x=\"z\", y=\"y\", c=\"x\", cmap=\"rainbow\", colorbar=False)\n",
    "\n",
    "# actual response curves\n",
    "z = np.linspace(0,1,100)\n",
    "y0 =  np.where(z >= 0.4, -4*(z - 0.4), 0)\n",
    "y1 =  np.where(z < 0.6,  -4*(z - 0.6), 0) + 1\n",
    "plt.plot(z,y0, \"b\")\n",
    "plt.plot(z,y1, \"r\")\n",
    "\n",
    "\n",
    "print(\"Observed ATE: {estimated_effect:.3f} ({standard_error:.3f})\".format(**estimate_uplift(observed_data_3)))\n",
    "print(\"Real ATE:  {estimated_effect:.3f} ({standard_error:.3f})\".format(**run_ab_test(dg.generate_dataset_3)))"
   ]
  },
  {
   "cell_type": "code",
   "execution_count": 56,
   "metadata": {},
   "outputs": [
    {
     "name": "stdout",
     "output_type": "stream",
     "text": [
      "\n",
      "Treatment Effect Estimates: OLS\n",
      "\n",
      "                     Est.       S.e.          z      P>|z|      [95% Conf. int.]\n",
      "--------------------------------------------------------------------------------\n",
      "           ATE      2.010      0.054     37.164      0.000      1.904      2.116\n",
      "           ATC      2.007      0.063     31.636      0.000      1.882      2.131\n",
      "           ATT      2.013      0.067     29.852      0.000      1.881      2.145\n",
      "\n"
     ]
    },
    {
     "name": "stderr",
     "output_type": "stream",
     "text": [
      "/Users/dereksnow/anaconda/envs/py36/lib/python3.6/site-packages/causalinference/estimators/ols.py:21: FutureWarning: `rcond` parameter will change to the default of machine precision times ``max(M, N)`` where M and N are the input matrix dimensions.\n",
      "To use the future default and silence this warning we advise to pass `rcond=None`, to keep using the old, explicitly pass `rcond=-1`.\n",
      "  olscoef = np.linalg.lstsq(Z, Y)[0]\n"
     ]
    }
   ],
   "source": [
    "# OLS estimator\n",
    "cm = CausalModel(\n",
    "    Y=observed_data_3.y.values, \n",
    "    D=observed_data_3.x.values, \n",
    "    X=observed_data_3.z.values)\n",
    "\n",
    "cm.est_via_ols()\n",
    "\n",
    "print(cm.estimates)"
   ]
  },
  {
   "cell_type": "code",
   "execution_count": 57,
   "metadata": {},
   "outputs": [
    {
     "name": "stdout",
     "output_type": "stream",
     "text": [
      "\n",
      "Treatment Effect Estimates: Matching\n",
      "\n",
      "                     Est.       S.e.          z      P>|z|      [95% Conf. int.]\n",
      "--------------------------------------------------------------------------------\n",
      "           ATE      2.114      0.181     11.710      0.000      1.760      2.468\n",
      "           ATC      2.241      0.291      7.705      0.000      1.671      2.811\n",
      "           ATT      2.007      0.220      9.143      0.000      1.577      2.438\n",
      "\n"
     ]
    }
   ],
   "source": [
    "# Matching estimator\n",
    "cm = CausalModel(\n",
    "    Y=observed_data_3.y.values, \n",
    "    D=observed_data_3.x.values, \n",
    "    X=observed_data_3.z.values)\n",
    "\n",
    "cm.est_via_matching()\n",
    "\n",
    "print(cm.estimates)"
   ]
  },
  {
   "cell_type": "markdown",
   "metadata": {},
   "source": [
    "The OLS estimator fails to capture the true effect, and while the matching estimator improves things a bit, there just isn't enough information in the data to extrapolate fully into areas where there isn't overlap.\n",
    "\n",
    "This example might seem contrived - that's because it is, but once we start looking covariates with higher dimensionality this issue can become much more common.\n",
    "\n",
    "`causalinference` provides a useful tool to quickly assess the overlap of the variables using the `summary_stats` property:"
   ]
  },
  {
   "cell_type": "code",
   "execution_count": 58,
   "metadata": {},
   "outputs": [
    {
     "name": "stdout",
     "output_type": "stream",
     "text": [
      "\n",
      "Summary Statistics\n",
      "\n",
      "                       Controls (N_c=229)         Treated (N_t=271)             \n",
      "       Variable         Mean         S.d.         Mean         S.d.     Raw-diff\n",
      "--------------------------------------------------------------------------------\n",
      "              Y       -0.139        0.483        1.198        0.484        1.337\n",
      "\n",
      "                       Controls (N_c=229)         Treated (N_t=271)             \n",
      "       Variable         Mean         S.d.         Mean         S.d.     Nor-diff\n",
      "--------------------------------------------------------------------------------\n",
      "             X0        0.266        0.197        0.675        0.196        2.082\n",
      "\n"
     ]
    }
   ],
   "source": [
    "print(cm.summary_stats)"
   ]
  },
  {
   "cell_type": "markdown",
   "metadata": {},
   "source": [
    "Where the Normalized difference is defined as\n",
    "\n",
    "$\\frac{\\bar{X}_{T} - \\bar{X}_{T}}{ (\\sigma^{2}_{T} + \\sigma^{2}_{C})/2 } $\n",
    "\n",
    "While it isn't a strict statistical test, it provides some indication how much overlap there is between each covariate. Values greater than one suggest there isn't much overlap."
   ]
  },
  {
   "cell_type": "markdown",
   "metadata": {},
   "source": [
    "# Propensity Score\n",
    "\n",
    "The Propensity score is a estimate of how likely it is for a subject to have ended up with the treatment, given the covariates:\n",
    "\n",
    "$\\hat{p}(Z) = P(X|Z)$\n",
    "\n",
    "We can estimate this however we like, but once we have it there are a number of things we can do with it.\n",
    "\n",
    "\n",
    "## Inverse Propensity Score Weighting\n",
    "\n",
    "Remember that the problem of measuring causal inference is that we want to know the quantity $E[Y_{i}]$, but we only have access to samples from $E[Y_{i}|X=i]$.\n",
    "\n",
    "The probability of a potential outcome can be expanded to give\n",
    "\n",
    "$P(Y_{i}) = P(Y_{i}| X = i)P(X = i)$\n",
    "\n",
    "This suggests that we can estimate the true \n",
    "\n",
    "$E[Y_{i}] = E[\\frac{Y_{i}}{P(X=i|Z)}P(X=i|Z)] = E[\\frac{Y_{i}}{P(X=i|Z)}|X=i, Z]$\n",
    "\n",
    "So if we weight each point by it's inverse propensity, we can recover the potential outcomes. The result is the [inverse propensity score weight estimator](https://en.wikipedia.org/wiki/Inverse_probability_weighting):\n",
    "\n",
    "$\\Delta_{IPS} = \\frac{1}{N}\\left(\\sum_{i \\in 1} \\frac{y_{i}}{\\hat{p}(z_{i})} - \\sum_{i \\in 0} \\frac{y_{i}}{1 - \\hat{p}(z_{i})}\\right)$\n",
    "\n",
    "Let's see how it does one of our previous datasets:"
   ]
  },
  {
   "cell_type": "code",
   "execution_count": 59,
   "metadata": {},
   "outputs": [
    {
     "name": "stdout",
     "output_type": "stream",
     "text": [
      "Observed ATE: 0.108 (0.101)\n",
      "Real ATE:  -0.504 (0.025)\n"
     ]
    },
    {
     "data": {
      "image/png": "[encoded data removed]",
      "text/plain": [
       "<matplotlib.figure.Figure at 0x10caf3860>"
      ]
     },
     "metadata": {},
     "output_type": "display_data"
    }
   ],
   "source": [
    "observed_data_1 = dg.generate_dataset_1()\n",
    "\n",
    "observed_data_1.plot.scatter(x=\"z\", y=\"y\", c=\"x\", cmap=\"rainbow\", colorbar=False)\n",
    "\n",
    "print(\"Observed ATE: {estimated_effect:.3f} ({standard_error:.3f})\".format(**estimate_uplift(observed_data_1)))\n",
    "print(\"Real ATE:  {estimated_effect:.3f} ({standard_error:.3f})\".format(**run_ab_test(dg.generate_dataset_1)))"
   ]
  },
  {
   "cell_type": "markdown",
   "metadata": {},
   "source": [
    "We can estimate the propensity using the `CausalInference` package's methods `est_propensity_s` or `est_propensity`, which uses logistic regression on the covariate to estimate propensity:"
   ]
  },
  {
   "cell_type": "code",
   "execution_count": 60,
   "metadata": {},
   "outputs": [
    {
     "data": {
      "text/plain": [
       "-0.448142318058761"
      ]
     },
     "execution_count": 60,
     "metadata": {},
     "output_type": "execute_result"
    }
   ],
   "source": [
    "cm = CausalModel(\n",
    "    Y=observed_data_1.y.values, \n",
    "    D=observed_data_1.x.values, \n",
    "    X=observed_data_1.z.values)\n",
    "\n",
    "cm.est_propensity_s()\n",
    "\n",
    "propensity = cm.propensity[\"fitted\"]\n",
    "\n",
    "df = observed_data_1\n",
    "\n",
    "df[\"ips\"] = np.where(\n",
    "    df.x == 1, \n",
    "    1 / propensity,\n",
    "    1 / (1 - propensity))\n",
    "df[\"ipsw\"] = df.y * df.ips\n",
    "\n",
    "ipse = (\n",
    "      df[df.x == 1][\"ipsw\"].sum() \n",
    "    - df[df.x == 0][\"ipsw\"].sum()\n",
    ") / df.shape[0]\n",
    "\n",
    "ipse"
   ]
  },
  {
   "cell_type": "markdown",
   "metadata": {},
   "source": [
    "This does well in our situation - by is very dependent on how good our estimate of the propensity score is - for the data generator we're using for this example the relationship can be described well by plain logistic regression. If we tried to estimate the propensity using, say, `sklean's` logistic regression function, which by default uses regularization, we would have got the wrong answer:"
   ]
  },
  {
   "cell_type": "code",
   "execution_count": 61,
   "metadata": {},
   "outputs": [
    {
     "data": {
      "text/plain": [
       "-0.34794980508652873"
      ]
     },
     "execution_count": 61,
     "metadata": {},
     "output_type": "execute_result"
    }
   ],
   "source": [
    "\n",
    "from sklearn.linear_model import LogisticRegression\n",
    "\n",
    "lg = LogisticRegression()\n",
    "X = df.z.values.reshape(-1,1)\n",
    "y = df.x.values\n",
    "lg.fit(X,y)\n",
    "\n",
    "propensity = lg.predict_proba(X)[:,1]\n",
    "\n",
    "df[\"ips\"] = np.where(\n",
    "    df.x == 1, \n",
    "    1 / propensity,\n",
    "    1 / (1 - propensity))\n",
    "df[\"ipsw\"] = df.y * df.ips\n",
    "\n",
    "ipse = (\n",
    "      df[df.x == 1][\"ipsw\"].sum() \n",
    "    - df[df.x == 0][\"ipsw\"].sum()\n",
    ") / df.shape[0]\n",
    "\n",
    "ipse"
   ]
  },
  {
   "cell_type": "markdown",
   "metadata": {},
   "source": [
    "It does better than our naive estimator, but is not correct."
   ]
  },
  {
   "cell_type": "markdown",
   "metadata": {},
   "source": [
    "# Doubly Robust Weighted Estimator\n",
    "\n",
    "We can combine the inverse propensity score weighting estimators and the linear estimator of effect size together to try and reduce the flaws in either model. This is done by preforming weighted linear regression on the data, with each point weighted by the inverse propensity score. The result is the [doubly robust weighted estimator](https://academic.oup.com/aje/article/173/7/761/103691). \n",
    "\n",
    "The idea is that points because there is an bias in which samples are treated in the observational data, the samples which were treated, but were unlikely to have been, are more import and should be given more weight.\n",
    "\n",
    "We can apply it using the following:"
   ]
  },
  {
   "cell_type": "code",
   "execution_count": 62,
   "metadata": {},
   "outputs": [
    {
     "name": "stdout",
     "output_type": "stream",
     "text": [
      "Observed ATE: 0.129 (0.100)\n",
      "Real ATE:  -0.505 (0.025)\n"
     ]
    },
    {
     "data": {
      "image/png": "[encoded data removed]",
      "text/plain": [
       "<matplotlib.figure.Figure at 0x10cb89550>"
      ]
     },
     "metadata": {},
     "output_type": "display_data"
    }
   ],
   "source": [
    "observed_data_1 = dg.generate_dataset_1()\n",
    "\n",
    "observed_data_1.plot.scatter(x=\"z\", y=\"y\", c=\"x\", cmap=\"rainbow\", colorbar=False)\n",
    "\n",
    "print(\"Observed ATE: {estimated_effect:.3f} ({standard_error:.3f})\".format(**estimate_uplift(observed_data_1)))\n",
    "print(\"Real ATE:  {estimated_effect:.3f} ({standard_error:.3f})\".format(**run_ab_test(dg.generate_dataset_1)))"
   ]
  },
  {
   "cell_type": "code",
   "execution_count": 63,
   "metadata": {},
   "outputs": [
    {
     "name": "stdout",
     "output_type": "stream",
     "text": [
      "\n",
      "Treatment Effect Estimates: Weighting\n",
      "\n",
      "                     Est.       S.e.          z      P>|z|      [95% Conf. int.]\n",
      "--------------------------------------------------------------------------------\n",
      "           ATE     -0.529      0.031    -16.865      0.000     -0.590     -0.467\n",
      "\n"
     ]
    },
    {
     "name": "stderr",
     "output_type": "stream",
     "text": [
      "/Users/dereksnow/anaconda/envs/py36/lib/python3.6/site-packages/causalinference/estimators/weighting.py:23: FutureWarning: `rcond` parameter will change to the default of machine precision times ``max(M, N)`` where M and N are the input matrix dimensions.\n",
      "To use the future default and silence this warning we advise to pass `rcond=None`, to keep using the old, explicitly pass `rcond=-1`.\n",
      "  wlscoef = np.linalg.lstsq(Z_w, Y_w)[0]\n"
     ]
    }
   ],
   "source": [
    "## I personally like the doubly robust weighted estimator\n",
    "\n",
    "cm = CausalModel(\n",
    "    Y=observed_data_1.y.values, \n",
    "    D=observed_data_1.x.values, \n",
    "    X=observed_data_1.z.values)\n",
    "\n",
    "cm.est_propensity_s()\n",
    "cm.est_via_weighting()\n",
    "\n",
    "print(cm.estimates)"
   ]
  },
  {
   "cell_type": "code",
   "execution_count": 64,
   "metadata": {},
   "outputs": [
    {
     "data": {
      "text/plain": [
       "{'weighting': {'ate': -0.5286028642808227, 'ate_se': 0.03134371324109197}}"
      ]
     },
     "execution_count": 64,
     "metadata": {},
     "output_type": "execute_result"
    }
   ],
   "source": [
    "cm.estimates"
   ]
  },
  {
   "cell_type": "markdown",
   "metadata": {},
   "source": [
    "# Unconfoundedness and the Propensity Score \n",
    "\n",
    "In the previous sections, we assumed that the outcomes and the treatment were independent given our covariates:\n",
    "\n",
    "$Y_{1}, Y_{0} \\ci X \\, | \\,Z$\n",
    "\n",
    "We can also assume something slightly stronger: that the outcomes are independent of the treatment, conditioned on the probability of the propensity:\n",
    "\n",
    "$Y_{1}, Y_{0} \\ci X \\, | \\,\\hat{p}(Z)$\n",
    "\n",
    "With this assumption, we potentially reduce the dimensionality of the confounding variables. This allows us to perform several techniques which may not work in higher dimensional settings. "
   ]
  },
  {
   "cell_type": "markdown",
   "metadata": {},
   "source": [
    "# Trimming\n",
    "\n",
    "We previously saw that imbalances in covariates can create issues. A simple solution is to only make predictions for the counterfactual in regions where there is a good overlap, or \"trim\" points where there is not good overlap. For high dimensional data \"good overlap\" can be difficult to define - using just the propensity score to define overlap is one way to solve this. \n",
    "\n",
    "Let's look at a dataset with low overlap:"
   ]
  },
  {
   "cell_type": "code",
   "execution_count": 65,
   "metadata": {},
   "outputs": [
    {
     "name": "stdout",
     "output_type": "stream",
     "text": [
      "Observed ATE: 1.360 (0.077)\n",
      "Real ATE:  2.461 (0.034)\n"
     ]
    },
    {
     "data": {
      "image/png": "[encoded data removed]",
      "text/plain": [
       "<matplotlib.figure.Figure at 0x1c170f0390>"
      ]
     },
     "metadata": {},
     "output_type": "display_data"
    }
   ],
   "source": [
    "observed_data_3 = dg.generate_dataset_3()\n",
    "\n",
    "observed_data_3.plot.scatter(x=\"z\", y=\"y\", c=\"x\", cmap=\"rainbow\", colorbar=False)\n",
    "\n",
    "# actual response curves\n",
    "z = np.linspace(0,1,100)\n",
    "y0 =  np.where(z >= 0.4, -4*(z - 0.4), 0)\n",
    "y1 =  np.where(z < 0.6,  -4*(z - 0.6), 0) + 1\n",
    "plt.plot(z,y0, \"b\")\n",
    "plt.plot(z,y1, \"r\")\n",
    "\n",
    "\n",
    "print(\"Observed ATE: {estimated_effect:.3f} ({standard_error:.3f})\".format(**estimate_uplift(observed_data_3)))\n",
    "print(\"Real ATE:  {estimated_effect:.3f} ({standard_error:.3f})\".format(**run_ab_test(dg.generate_dataset_3)))"
   ]
  },
  {
   "cell_type": "markdown",
   "metadata": {},
   "source": [
    "`CausalInference` offers a method to trim the data based on the propensity score"
   ]
  },
  {
   "cell_type": "code",
   "execution_count": 66,
   "metadata": {},
   "outputs": [
    {
     "name": "stdout",
     "output_type": "stream",
     "text": [
      "\n",
      "Treatment Effect Estimates: Matching\n",
      "\n",
      "                     Est.       S.e.          z      P>|z|      [95% Conf. int.]\n",
      "--------------------------------------------------------------------------------\n",
      "           ATE      1.952      0.139     14.065      0.000      1.680      2.224\n",
      "           ATC      2.083      0.261      7.971      0.000      1.571      2.595\n",
      "           ATT      1.842      0.100     18.421      0.000      1.646      2.037\n",
      "\n"
     ]
    }
   ],
   "source": [
    "# OLS estimator\n",
    "cm = CausalModel(\n",
    "    Y=observed_data_3.y.values, \n",
    "    D=observed_data_3.x.values, \n",
    "    X=observed_data_3.z.values)\n",
    "\n",
    "cm.est_propensity_s()\n",
    "cm.trim_s()\n",
    "cm.est_via_matching()\n",
    "\n",
    "print(cm.estimates)"
   ]
  },
  {
   "cell_type": "markdown",
   "metadata": {},
   "source": [
    "We can look at the remaining data in the following way"
   ]
  },
  {
   "cell_type": "code",
   "execution_count": 67,
   "metadata": {},
   "outputs": [
    {
     "name": "stdout",
     "output_type": "stream",
     "text": [
      "Observed ATE: 1.665 (0.119)\n",
      "Real ATE:  1.985 (0.030)\n"
     ]
    },
    {
     "data": {
      "image/png": "[encoded data removed]",
      "text/plain": [
       "<matplotlib.figure.Figure at 0x1c112445c0>"
      ]
     },
     "metadata": {},
     "output_type": "display_data"
    }
   ],
   "source": [
    "# mask out data ignored by the \n",
    "propensity = cm.propensity[\"fitted\"]\n",
    "cutoff = cm.cutoff\n",
    "mask = (propensity > cutoff) &  (propensity < 1 - cutoff)\n",
    "\n",
    "# plot the data\n",
    "observed_data_3[mask].plot.scatter(x=\"z\", y=\"y\", c=\"x\", cmap=\"rainbow\", colorbar=False)\n",
    "\n",
    "# actual response curves\n",
    "z = np.linspace(0,1,100)\n",
    "y0 =  np.where(z >= 0.4, -4*(z - 0.4), 0)\n",
    "y1 =  np.where(z < 0.6,  -4*(z - 0.6), 0) + 1\n",
    "plt.plot(z,y0, \"b\")\n",
    "plt.plot(z,y1, \"r\")\n",
    "\n",
    "# filter out data in regions we have trimmed when we calculate the true uplift\n",
    "filter_ = lambda df: (df.z > 0.2) & (df.z < 0.7)\n",
    "\n",
    "print(\"Observed ATE: {estimated_effect:.3f} ({standard_error:.3f})\".format(**estimate_uplift(observed_data_3[mask])))\n",
    "print(\"Real ATE:  {estimated_effect:.3f} ({standard_error:.3f})\".format(\n",
    "    **run_ab_test(dg.generate_dataset_3, filter_= filter_)))"
   ]
  },
  {
   "cell_type": "markdown",
   "metadata": {},
   "source": [
    "It does quite well in there cases.\n",
    "\n",
    "When we apply trimming, we are explicitly saying that it is only possible to make causal inferences for samples in some part of the covariate space. For samples outside these regions, we cannot say anything about the ATE."
   ]
  },
  {
   "cell_type": "markdown",
   "metadata": {},
   "source": [
    "# Stratification\n",
    "\n",
    "Another use of the propensity score is the stratification, or blocking, estimator. It consist of grouping the data points into groups of similar propensity, and to estimate the ATE within these groups. Again, `CausalInference` provides a nice interface to achieve this. \n",
    "\n",
    "We use the `stratify` (for user defined stata boundaries) or `stratify_s` (to automatically choose the boundaries) methods to determine the strata:"
   ]
  },
  {
   "cell_type": "code",
   "execution_count": 68,
   "metadata": {},
   "outputs": [
    {
     "name": "stdout",
     "output_type": "stream",
     "text": [
      "\n",
      "Stratification Summary\n",
      "\n",
      "              Propensity Score         Sample Size     Ave. Propensity   Outcome\n",
      "   Stratum      Min.      Max.  Controls   Treated  Controls   Treated  Raw-diff\n",
      "--------------------------------------------------------------------------------\n",
      "         1     0.079     0.188       111        15     0.125     0.137    -0.487\n",
      "         2     0.190     0.315        49        14     0.249     0.263    -0.611\n",
      "         3     0.321     0.447        30        32     0.377     0.395    -0.590\n",
      "         4     0.452     0.620        33        30     0.535     0.549    -0.532\n",
      "         5     0.621     0.692        13        18     0.652     0.653    -0.653\n",
      "         6     0.694     0.740         4        27     0.714     0.723    -0.716\n",
      "         7     0.743     0.827        18        44     0.783     0.784    -0.684\n",
      "         8     0.829     0.903         7        55     0.871     0.869    -0.632\n",
      "\n"
     ]
    }
   ],
   "source": [
    "observed_data_1 = dg.generate_dataset_1()\n",
    "\n",
    "cm = CausalModel(\n",
    "    Y=observed_data_1.y.values, \n",
    "    D=observed_data_1.x.values, \n",
    "    X=observed_data_1.z.values)\n",
    "\n",
    "cm.est_propensity_s()\n",
    "cm.stratify_s()\n",
    "\n",
    "print(cm.strata)"
   ]
  },
  {
   "cell_type": "markdown",
   "metadata": {},
   "source": [
    "and the `est_via_blocking` method to combine the estimates of these strata into one overall ATE:"
   ]
  },
  {
   "cell_type": "code",
   "execution_count": 69,
   "metadata": {},
   "outputs": [
    {
     "name": "stdout",
     "output_type": "stream",
     "text": [
      "\n",
      "Treatment Effect Estimates: Blocking\n",
      "\n",
      "                     Est.       S.e.          z      P>|z|      [95% Conf. int.]\n",
      "--------------------------------------------------------------------------------\n",
      "           ATE     -0.608      0.035    -17.332      0.000     -0.677     -0.539\n",
      "           ATC     -0.585      0.039    -14.899      0.000     -0.662     -0.508\n",
      "           ATT     -0.634      0.044    -14.272      0.000     -0.721     -0.547\n",
      "\n"
     ]
    },
    {
     "name": "stderr",
     "output_type": "stream",
     "text": [
      "/Users/dereksnow/anaconda/envs/py36/lib/python3.6/site-packages/causalinference/estimators/ols.py:21: FutureWarning: `rcond` parameter will change to the default of machine precision times ``max(M, N)`` where M and N are the input matrix dimensions.\n",
      "To use the future default and silence this warning we advise to pass `rcond=None`, to keep using the old, explicitly pass `rcond=-1`.\n",
      "  olscoef = np.linalg.lstsq(Z, Y)[0]\n"
     ]
    }
   ],
   "source": [
    "cm.est_via_blocking()\n",
    "print(cm.estimates)"
   ]
  },
  {
   "cell_type": "markdown",
   "metadata": {},
   "source": [
    "Which again works well.\n",
    "\n",
    "Stratify the data into groups by propensity score is useful when we don't have any prior knowledge of what constitutes \"similar\" units, however it is not the only way. If you have prior knowledge the different groups of your samples are likely to be affected by the intervention in similar ways, it makes sense to split you samples into these groups before estimating the ATE, then pooling the results to get a global ATE. "
   ]
  },
  {
   "cell_type": "markdown",
   "metadata": {},
   "source": [
    "# Which Technique to Use?\n",
    "\n",
    "I've now covered most the of the common techniques for causal inference from observational data. The remaining question is how to decide which method to use? This is not an easy question. While there are some automated techniques, like [this paper](https://arxiv.org/pdf/1711.00083.pdf), I haven't had a change to try them out. \n",
    "\n",
    "Ultimately, to choose your technique you need to make some assumptions about how you contruct you counter factual. If you trust you data to have good over in covariate space, matching is a good approach because there is always some nearby point with the opposite treatment. When this isn't the case, you need to either use a model you trust to extrapolate well into unexplored areas or make the assumption that something like the propensity score captures enough information to assume ignorability.\n",
    "\n",
    "To highlight that all these methods can fail, I have one more example. Unlike the previous examples, there is more than one covariate. Like all the previous datagenerators, this one also obeys the assumption \n",
    "\n",
    "$Y_{1}, Y_{0} \\ci X \\, | \\,Z$\n",
    "\n",
    "By design. \n",
    "\n",
    "Let's blindly try the methods we've discussed so far and see what happens"
   ]
  },
  {
   "cell_type": "code",
   "execution_count": 70,
   "metadata": {},
   "outputs": [
    {
     "name": "stdout",
     "output_type": "stream",
     "text": [
      "Observed ATE: 0.726 (0.714)\n",
      "Real ATE:  4.716 (0.184)\n"
     ]
    },
    {
     "name": "stderr",
     "output_type": "stream",
     "text": [
      "/Users/dereksnow/anaconda/envs/py36/lib/python3.6/site-packages/causalinference/estimators/ols.py:21: FutureWarning: `rcond` parameter will change to the default of machine precision times ``max(M, N)`` where M and N are the input matrix dimensions.\n",
      "To use the future default and silence this warning we advise to pass `rcond=None`, to keep using the old, explicitly pass `rcond=-1`.\n",
      "  olscoef = np.linalg.lstsq(Z, Y)[0]\n"
     ]
    },
    {
     "name": "stdout",
     "output_type": "stream",
     "text": [
      "\n",
      "Treatment Effect Estimates: OLS\n",
      "\n",
      "                     Est.       S.e.          z      P>|z|      [95% Conf. int.]\n",
      "--------------------------------------------------------------------------------\n",
      "           ATE      0.710      0.333      2.130      0.033      0.057      1.364\n",
      "           ATC      1.456      0.372      3.910      0.000      0.726      2.186\n",
      "           ATT      0.385      0.338      1.139      0.255     -0.277      1.046\n",
      "\n",
      "Treatment Effect Estimates: Matching\n",
      "\n",
      "                     Est.       S.e.          z      P>|z|      [95% Conf. int.]\n",
      "--------------------------------------------------------------------------------\n",
      "           ATE      2.026      0.513      3.949      0.000      1.020      3.032\n",
      "           ATC      2.115      0.668      3.168      0.002      0.807      3.424\n",
      "           ATT      1.987      0.559      3.554      0.000      0.891      3.083\n",
      "\n",
      "Treatment Effect Estimates: Weighting\n",
      "\n",
      "                     Est.       S.e.          z      P>|z|      [95% Conf. int.]\n",
      "--------------------------------------------------------------------------------\n",
      "           ATE      4.181      0.744      5.620      0.000      2.723      5.640\n",
      "\n",
      "Treatment Effect Estimates: Blocking\n",
      "\n",
      "                     Est.       S.e.          z      P>|z|      [95% Conf. int.]\n",
      "--------------------------------------------------------------------------------\n",
      "           ATE      2.293      0.558      4.112      0.000      1.200      3.385\n",
      "           ATC      3.110      0.876      3.552      0.000      1.394      4.827\n",
      "           ATT      1.936      0.629      3.076      0.002      0.702      3.169\n",
      "\n"
     ]
    },
    {
     "name": "stderr",
     "output_type": "stream",
     "text": [
      "/Users/dereksnow/anaconda/envs/py36/lib/python3.6/site-packages/causalinference/estimators/weighting.py:23: FutureWarning: `rcond` parameter will change to the default of machine precision times ``max(M, N)`` where M and N are the input matrix dimensions.\n",
      "To use the future default and silence this warning we advise to pass `rcond=None`, to keep using the old, explicitly pass `rcond=-1`.\n",
      "  wlscoef = np.linalg.lstsq(Z_w, Y_w)[0]\n"
     ]
    }
   ],
   "source": [
    "data_gen = dg.generate_exercise_dataset_2\n",
    "ds = data_gen()\n",
    "\n",
    "print(\"Observed ATE: {estimated_effect:.3f} ({standard_error:.3f})\".format(**estimate_uplift(ds)))\n",
    "print(\"Real ATE:  {estimated_effect:.3f} ({standard_error:.3f})\".format(**run_ab_test(data_gen)))\n",
    "\n",
    "zs = [c for c in ds.columns if c.startswith(\"z\")]\n",
    "\n",
    "cm = CausalModel(\n",
    "    Y=ds.y.values, \n",
    "    D=ds.x.values, \n",
    "    X=ds[zs].values)\n",
    "\n",
    "cm.est_via_ols()\n",
    "cm.est_via_matching()\n",
    "cm.est_propensity_s()\n",
    "cm.est_via_weighting()\n",
    "\n",
    "cm.stratify_s()\n",
    "cm.est_via_blocking()\n",
    "\n",
    "print(cm.estimates)"
   ]
  },
  {
   "cell_type": "code",
   "execution_count": 71,
   "metadata": {},
   "outputs": [
    {
     "data": {
      "image/png": "[encoded data removed]",
      "text/plain": [
       "<matplotlib.figure.Figure at 0x1c1114b5f8>"
      ]
     },
     "metadata": {},
     "output_type": "display_data"
    }
   ],
   "source": [
    "y = []\n",
    "yerr = []\n",
    "x_label = []\n",
    "\n",
    "for method, result in dict(cm.estimates).items():\n",
    "    y.append(result[\"ate\"])\n",
    "    yerr.append(result[\"ate_se\"])\n",
    "    x_label.append(method)\n",
    "    \n",
    "x = np.arange(len(y))\n",
    "\n",
    "plt.errorbar(x=x, y=y, yerr=yerr, linestyle=\"none\", capsize=5, marker=\"o\")\n",
    "plt.xticks(x, x_label)\n",
    "plt.title(\"Estimated Effect Size\", fontsize=18)\n",
    "plt.hlines(4.6, -0.5, 3.5, linestyles=\"dashed\")\n",
    "plt.xlim(-0.5,3.5);"
   ]
  },
  {
   "cell_type": "markdown",
   "metadata": {},
   "source": [
    "The horizontal dashed line shows the true ATE for this dataset.\n",
    "\n",
    "Not only do we have a range of different results from each technique, they all miss the true value. \n",
    "\n",
    "This should be a warning about the limitations of this kind of technique. It might be an intesteresting exercise for the reader to try and work about what properties of the dataset cause these methods to miss the true value."
   ]
  },
  {
   "cell_type": "markdown",
   "metadata": {},
   "source": [
    "# The Structure of Causal Inference\n",
    "\n",
    "Hopefully by this point, you will have realised the importance of the ignorability assumption\n",
    "\n",
    "$Y_{1}, Y_{0} \\ci X \\, | \\,Z$\n",
    "\n",
    "What I haven't talked about is how we choose $Z$ so that this is true. Ultimately this needs to come from domain knowledge about the system being studied. There are a set of powerful tools called [Causal Graphical Models](https://en.wikipedia.org/wiki/Causal_graph) which allow you to encode knowledge about the system being studied is a graphical model of the system and to reason about conditional independence assumptions like the one above.\n",
    "\n",
    "I hope to discuss this in a later post."
   ]
  }
 ],
 "metadata": {
  "kernelspec": {
   "display_name": "Python 3",
   "language": "python",
   "name": "python3"
  },
  "language_info": {
   "codemirror_mode": {
    "name": "ipython",
    "version": 3
   },
   "file_extension": ".py",
   "mimetype": "text/x-python",
   "name": "python",
   "nbconvert_exporter": "python",
   "pygments_lexer": "ipython3",
   "version": "3.6.3"
  }
 },
 "nbformat": 4,
 "nbformat_minor": 2
}
