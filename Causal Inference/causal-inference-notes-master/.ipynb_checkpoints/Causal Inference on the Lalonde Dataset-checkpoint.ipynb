{
 "cells": [
  {
   "cell_type": "code",
   "execution_count": 33,
   "metadata": {},
   "outputs": [],
   "source": [
    "import numpy as np\n",
    "import pandas as pd\n",
    "import seaborn as sns\n",
    "import matplotlib.pyplot as plt\n",
    "\n",
    "from patsy import dmatrices\n",
    "import pymc3 as pm\n",
    "\n",
    "from scipy.spatial.distance import cdist\n",
    "from scipy.optimize import linear_sum_assignment\n",
    "\n",
    "import statsmodels.api as sm\n",
    "import statsmodels.formula.api as smf\n",
    "\n",
    "%matplotlib inline"
   ]
  },
  {
   "cell_type": "markdown",
   "metadata": {},
   "source": [
    "#### Causal Effects in Non-Experimental Studies\n",
    "Rubin model of causal effects.\n",
    "Structural Equation Modeling. "
   ]
  },
  {
   "cell_type": "markdown",
   "metadata": {},
   "source": [
    "Randomised control experiments have two big issues, self-selection bias, cost prohibitiveness and ethcicality."
   ]
  },
  {
   "cell_type": "markdown",
   "metadata": {},
   "source": [
    "The goal of statistical adjustment is to approcimate what a randomised experiment would achieve. There is many statistical tools that can be used to adjust available data to be more conducive to causal estimation. \n",
    "\n",
    "Rubin Causal Model (Regression)\n",
    "\n",
    "Covariates are that which are being controlled for, treatment is the remaining input that changed as a result of some effect. Covariates can also be created by interacting with the treatment, this is automatically the case in most machine learning models. Using the rubin causal model you make an unconfoundedness assumption. The rubin causal models runs a regression to weed out the effect the treatment has on the outcome. Confounding variables are those that effect both the treatment and the outcome. Unconfoundedness mean that there are no such qualities on which you potential outcomes depend that also relate to the selection into treatment. Conditional on a sufficient set of covariates, X, the potential outcomes are independent of treatment, in which case there are no common causes of the potential oucomes and the treatment. Its important to note that this is an assumption that cannot be proven. Once this assumption holds, it is possible to identify the causal effect. Rubin came up with the term unconfoudedness. \n",
    "\n",
    "Matching (Non-parametric)\n",
    "\n",
    "Matching is a statistical adjustment technique used when you have imbalanced data sets. You normally have a lot of controls but limited amount of treatment samples. Then killing two birds with one stone, that is to remove the imbalance in these groups and to approximate what you might have got had you implemented a randomised control experiment you can use propensity score matching and distance matching. Propensity matching is the most common method but there are naturally criticisms against using it blindly. \n",
    "\n",
    "-- Propensity Score Matching \n",
    "\n",
    "Propensity scores, determine each subject’s probability of being assigned to the treatment that they received given the set of observed covarites. If you then match on these probabilities (propensity scores), then what you have done is taken subjects who were equally likely to be assigned to the each treatment and compared them with one another, effectively comparing apples to apples.You may ask why not exactly match on the covariates (e.g. make sure you match 40 year old men in good health in treatment 1 with 40 year old men in good health in treatment 2)? This works fine for large samples and a few covariates, but it becomes nearly impossible to do when the sample size is small. Once built, we can then estimate propensities for both of our treatment and control groups. Hopefully we'll find that there are some subjects in the treatment group with low propensity, but the majority have high propensity (they did actually end up in the treatment group), and the opposite for the control group.\n",
    "\n",
    "We would then find paired (or many) matches in the control group for each sample in the treatment group picking matches that minimize the differences in propensity score. Since we're dealing with estimates, it's ok if this isn't an optimal match, and we can usually use a simple algorithm like a greedy random match. Now, all this being said, the Achilles heel of propensity score is the assumption of no unobserved confounders. This assumption states that you have not failed to include in any covariates in your adjustment that are potential confounders.\n",
    "\n",
    "Lastly, matching has come a long way since 1983. Check out Jas Sekhon's webpage to learn about his genetic matching algorithm.\n",
    "\n",
    "\n",
    "The short answer is that propensity scores are normally not any better than the equivalent regression model, but have some statistical advantage. Propensity scores are best understood as a data reduction method. They are an effective means to reduce many covariates into a single score that can be used to adjust an effect of interest for a set of variables. In doing so, you save degrees of freedom by adjusting for a single propensity score rather than multiple covariates. This presents a statistical advantage, certainly, but nothing more.\n",
    "\n",
    "\n",
    "Distance Matching\n",
    "\n",
    "Using a measure like Mahalanobis distance is also an effective way to match groups, and has the bonus of not introducing an intermediate model. We would look at picking a match that minimizes distance between covariates. \n",
    "\n",
    "\n",
    "Difference Regression and Matching\n",
    "\n",
    "One big difference is that regression \"controls for\" those characteristics in a linear fashion. Matching by propensity scores eliminates the linearity assumption, but, as some observations may not be matched, you may not be able to say anything about certain groups.\n",
    "\n",
    "For example, if you are studying a worker training program, you may have all the enrollees be men, but the control, non-participant population be composed of men and women. Using regression, you could regress, income, say, on a participation indicator variable and a male indicator. You would use all your data and could estimate the income of a female had she participated in the program.\n",
    "\n",
    "If you were doing matching, you could only match men to men. As a result, you wouldn't be using any women in your analysis and your results wouldn't pertain to them.\n",
    "\n",
    "Regression can extrapolate using the linearity assumption, but matching cannot. All the other assumptions are essentially the same between regression and matching. The benefit of matching over regression is that it is non-parametric (except you do have to assume that you have the right propensity score, if that is how you are doing your matching).\n",
    "\n"
   ]
  },
  {
   "cell_type": "markdown",
   "metadata": {},
   "source": [
    "The data is a population survey including some basic demographics about each subject, and information about their salary. Our treatment group is filled with subjects who partook in an occupational training program. We expect to see that having gone through training has a positive end effect on salary."
   ]
  },
  {
   "cell_type": "code",
   "execution_count": 2,
   "metadata": {},
   "outputs": [
    {
     "name": "stderr",
     "output_type": "stream",
     "text": [
      "/Users/dereksnow/anaconda/envs/py36/lib/python3.6/site-packages/ipykernel/__main__.py:8: ParserWarning: Falling back to the 'python' engine because the 'c' engine does not support regex separators (separators > 1 char and different from '\\s+' are interpreted as regex); you can avoid this warning by specifying engine='python'.\n",
      "/Users/dereksnow/anaconda/envs/py36/lib/python3.6/site-packages/ipykernel/__main__.py:13: ParserWarning: Falling back to the 'python' engine because the 'c' engine does not support regex separators (separators > 1 char and different from '\\s+' are interpreted as regex); you can avoid this warning by specifying engine='python'.\n"
     ]
    },
    {
     "data": {
      "text/plain": [
       "(16177, 15)"
      ]
     },
     "execution_count": 2,
     "metadata": {},
     "output_type": "execute_result"
    }
   ],
   "source": [
    "import pandas as pd\n",
    "import numpy as np\n",
    "# NSW Data Files (Dehejia-Wahha Sample)\n",
    "# http://users.nber.org/~rdehejia/data/nswdata2.html\n",
    "\n",
    "cps = pd.read_csv('cps_controls.txt', delimiter='  ', names=[\n",
    "        'treat', 'age', 'educ', 'black', 'hisp', 'married', 'nodegr',\n",
    "        're74', 're75', 're78'\n",
    "    ])\n",
    "\n",
    "original_treatment = pd.read_csv('nswre74_treated.txt', delimiter='  ', names=[\n",
    "        'treat', 'age', 'educ', 'black', 'hisp', 'married', 'nodegr',\n",
    "        're74', 're75', 're78'        \n",
    "    ])\n",
    "\n",
    "unmatched_raw = pd.concat([\n",
    "        cps, original_treatment\n",
    "    ], axis=0)\n",
    "\n",
    "unmatched_raw['u74'] = (unmatched_raw.re74 == 0).astype(np.int32)\n",
    "unmatched_raw['u75'] = (unmatched_raw.re75 == 0).astype(np.int32)\n",
    "\n",
    "unmatched_raw[['re74_div', 're75_div', 're78_div']] = unmatched_raw[['re74', 're75', 're78']] / 1000\n",
    "\n",
    "unmatched_raw.shape"
   ]
  },
  {
   "cell_type": "code",
   "execution_count": 3,
   "metadata": {},
   "outputs": [
    {
     "data": {
      "text/html": [
       "<div>\n",
       "<style scoped>\n",
       "    .dataframe tbody tr th:only-of-type {\n",
       "        vertical-align: middle;\n",
       "    }\n",
       "\n",
       "    .dataframe tbody tr th {\n",
       "        vertical-align: top;\n",
       "    }\n",
       "\n",
       "    .dataframe thead th {\n",
       "        text-align: right;\n",
       "    }\n",
       "</style>\n",
       "<table border=\"1\" class=\"dataframe\">\n",
       "  <thead>\n",
       "    <tr style=\"text-align: right;\">\n",
       "      <th></th>\n",
       "      <th>treat</th>\n",
       "      <th>age</th>\n",
       "      <th>educ</th>\n",
       "      <th>black</th>\n",
       "      <th>hisp</th>\n",
       "      <th>married</th>\n",
       "      <th>nodegr</th>\n",
       "      <th>re74</th>\n",
       "      <th>re75</th>\n",
       "      <th>re78</th>\n",
       "    </tr>\n",
       "  </thead>\n",
       "  <tbody>\n",
       "    <tr>\n",
       "      <th>0</th>\n",
       "      <td>0.0</td>\n",
       "      <td>45.0</td>\n",
       "      <td>11.0</td>\n",
       "      <td>0.0</td>\n",
       "      <td>0.0</td>\n",
       "      <td>1.0</td>\n",
       "      <td>1.0</td>\n",
       "      <td>21516.670</td>\n",
       "      <td>25243.550</td>\n",
       "      <td>25564.670</td>\n",
       "    </tr>\n",
       "    <tr>\n",
       "      <th>1</th>\n",
       "      <td>0.0</td>\n",
       "      <td>21.0</td>\n",
       "      <td>14.0</td>\n",
       "      <td>0.0</td>\n",
       "      <td>0.0</td>\n",
       "      <td>0.0</td>\n",
       "      <td>0.0</td>\n",
       "      <td>3175.971</td>\n",
       "      <td>5852.565</td>\n",
       "      <td>13496.080</td>\n",
       "    </tr>\n",
       "    <tr>\n",
       "      <th>2</th>\n",
       "      <td>0.0</td>\n",
       "      <td>38.0</td>\n",
       "      <td>12.0</td>\n",
       "      <td>0.0</td>\n",
       "      <td>0.0</td>\n",
       "      <td>1.0</td>\n",
       "      <td>0.0</td>\n",
       "      <td>23039.020</td>\n",
       "      <td>25130.760</td>\n",
       "      <td>25564.670</td>\n",
       "    </tr>\n",
       "    <tr>\n",
       "      <th>3</th>\n",
       "      <td>0.0</td>\n",
       "      <td>48.0</td>\n",
       "      <td>6.0</td>\n",
       "      <td>0.0</td>\n",
       "      <td>0.0</td>\n",
       "      <td>1.0</td>\n",
       "      <td>1.0</td>\n",
       "      <td>24994.370</td>\n",
       "      <td>25243.550</td>\n",
       "      <td>25564.670</td>\n",
       "    </tr>\n",
       "    <tr>\n",
       "      <th>4</th>\n",
       "      <td>0.0</td>\n",
       "      <td>18.0</td>\n",
       "      <td>8.0</td>\n",
       "      <td>0.0</td>\n",
       "      <td>0.0</td>\n",
       "      <td>1.0</td>\n",
       "      <td>1.0</td>\n",
       "      <td>1669.295</td>\n",
       "      <td>10727.610</td>\n",
       "      <td>9860.869</td>\n",
       "    </tr>\n",
       "  </tbody>\n",
       "</table>\n",
       "</div>"
      ],
      "text/plain": [
       "   treat   age  educ  black  hisp  married  nodegr       re74       re75  \\\n",
       "0    0.0  45.0  11.0    0.0   0.0      1.0     1.0  21516.670  25243.550   \n",
       "1    0.0  21.0  14.0    0.0   0.0      0.0     0.0   3175.971   5852.565   \n",
       "2    0.0  38.0  12.0    0.0   0.0      1.0     0.0  23039.020  25130.760   \n",
       "3    0.0  48.0   6.0    0.0   0.0      1.0     1.0  24994.370  25243.550   \n",
       "4    0.0  18.0   8.0    0.0   0.0      1.0     1.0   1669.295  10727.610   \n",
       "\n",
       "        re78  \n",
       "0  25564.670  \n",
       "1  13496.080  \n",
       "2  25564.670  \n",
       "3  25564.670  \n",
       "4   9860.869  "
      ]
     },
     "execution_count": 3,
     "metadata": {},
     "output_type": "execute_result"
    }
   ],
   "source": [
    "cps.head()"
   ]
  },
  {
   "cell_type": "code",
   "execution_count": 4,
   "metadata": {},
   "outputs": [
    {
     "data": {
      "text/html": [
       "<div>\n",
       "<style scoped>\n",
       "    .dataframe tbody tr th:only-of-type {\n",
       "        vertical-align: middle;\n",
       "    }\n",
       "\n",
       "    .dataframe tbody tr th {\n",
       "        vertical-align: top;\n",
       "    }\n",
       "\n",
       "    .dataframe thead th {\n",
       "        text-align: right;\n",
       "    }\n",
       "</style>\n",
       "<table border=\"1\" class=\"dataframe\">\n",
       "  <thead>\n",
       "    <tr style=\"text-align: right;\">\n",
       "      <th></th>\n",
       "      <th>treat</th>\n",
       "      <th>age</th>\n",
       "      <th>educ</th>\n",
       "      <th>black</th>\n",
       "      <th>hisp</th>\n",
       "      <th>married</th>\n",
       "      <th>nodegr</th>\n",
       "      <th>re74</th>\n",
       "      <th>re75</th>\n",
       "      <th>re78</th>\n",
       "    </tr>\n",
       "  </thead>\n",
       "  <tbody>\n",
       "    <tr>\n",
       "      <th>0</th>\n",
       "      <td>1.0</td>\n",
       "      <td>37.0</td>\n",
       "      <td>11.0</td>\n",
       "      <td>1.0</td>\n",
       "      <td>0.0</td>\n",
       "      <td>1.0</td>\n",
       "      <td>1.0</td>\n",
       "      <td>0.0</td>\n",
       "      <td>0.0</td>\n",
       "      <td>9930.0460</td>\n",
       "    </tr>\n",
       "    <tr>\n",
       "      <th>1</th>\n",
       "      <td>1.0</td>\n",
       "      <td>22.0</td>\n",
       "      <td>9.0</td>\n",
       "      <td>0.0</td>\n",
       "      <td>1.0</td>\n",
       "      <td>0.0</td>\n",
       "      <td>1.0</td>\n",
       "      <td>0.0</td>\n",
       "      <td>0.0</td>\n",
       "      <td>3595.8940</td>\n",
       "    </tr>\n",
       "    <tr>\n",
       "      <th>2</th>\n",
       "      <td>1.0</td>\n",
       "      <td>30.0</td>\n",
       "      <td>12.0</td>\n",
       "      <td>1.0</td>\n",
       "      <td>0.0</td>\n",
       "      <td>0.0</td>\n",
       "      <td>0.0</td>\n",
       "      <td>0.0</td>\n",
       "      <td>0.0</td>\n",
       "      <td>24909.4500</td>\n",
       "    </tr>\n",
       "    <tr>\n",
       "      <th>3</th>\n",
       "      <td>1.0</td>\n",
       "      <td>27.0</td>\n",
       "      <td>11.0</td>\n",
       "      <td>1.0</td>\n",
       "      <td>0.0</td>\n",
       "      <td>0.0</td>\n",
       "      <td>1.0</td>\n",
       "      <td>0.0</td>\n",
       "      <td>0.0</td>\n",
       "      <td>7506.1460</td>\n",
       "    </tr>\n",
       "    <tr>\n",
       "      <th>4</th>\n",
       "      <td>1.0</td>\n",
       "      <td>33.0</td>\n",
       "      <td>8.0</td>\n",
       "      <td>1.0</td>\n",
       "      <td>0.0</td>\n",
       "      <td>0.0</td>\n",
       "      <td>1.0</td>\n",
       "      <td>0.0</td>\n",
       "      <td>0.0</td>\n",
       "      <td>289.7899</td>\n",
       "    </tr>\n",
       "  </tbody>\n",
       "</table>\n",
       "</div>"
      ],
      "text/plain": [
       "   treat   age  educ  black  hisp  married  nodegr  re74  re75        re78\n",
       "0    1.0  37.0  11.0    1.0   0.0      1.0     1.0   0.0   0.0   9930.0460\n",
       "1    1.0  22.0   9.0    0.0   1.0      0.0     1.0   0.0   0.0   3595.8940\n",
       "2    1.0  30.0  12.0    1.0   0.0      0.0     0.0   0.0   0.0  24909.4500\n",
       "3    1.0  27.0  11.0    1.0   0.0      0.0     1.0   0.0   0.0   7506.1460\n",
       "4    1.0  33.0   8.0    1.0   0.0      0.0     1.0   0.0   0.0    289.7899"
      ]
     },
     "execution_count": 4,
     "metadata": {},
     "output_type": "execute_result"
    }
   ],
   "source": [
    "original_treatment.head()"
   ]
  },
  {
   "cell_type": "code",
   "execution_count": 5,
   "metadata": {},
   "outputs": [
    {
     "data": {
      "text/html": [
       "<div>\n",
       "<style scoped>\n",
       "    .dataframe tbody tr th:only-of-type {\n",
       "        vertical-align: middle;\n",
       "    }\n",
       "\n",
       "    .dataframe tbody tr th {\n",
       "        vertical-align: top;\n",
       "    }\n",
       "\n",
       "    .dataframe thead th {\n",
       "        text-align: right;\n",
       "    }\n",
       "</style>\n",
       "<table border=\"1\" class=\"dataframe\">\n",
       "  <thead>\n",
       "    <tr style=\"text-align: right;\">\n",
       "      <th></th>\n",
       "      <th>treat</th>\n",
       "      <th>age</th>\n",
       "      <th>educ</th>\n",
       "      <th>black</th>\n",
       "      <th>hisp</th>\n",
       "      <th>married</th>\n",
       "      <th>nodegr</th>\n",
       "      <th>re74</th>\n",
       "      <th>re75</th>\n",
       "      <th>re78</th>\n",
       "      <th>u74</th>\n",
       "      <th>u75</th>\n",
       "      <th>re74_div</th>\n",
       "      <th>re75_div</th>\n",
       "      <th>re78_div</th>\n",
       "    </tr>\n",
       "  </thead>\n",
       "  <tbody>\n",
       "    <tr>\n",
       "      <th>0</th>\n",
       "      <td>0.0</td>\n",
       "      <td>45.0</td>\n",
       "      <td>11.0</td>\n",
       "      <td>0.0</td>\n",
       "      <td>0.0</td>\n",
       "      <td>1.0</td>\n",
       "      <td>1.0</td>\n",
       "      <td>21516.670</td>\n",
       "      <td>25243.550</td>\n",
       "      <td>25564.670</td>\n",
       "      <td>0</td>\n",
       "      <td>0</td>\n",
       "      <td>21.516670</td>\n",
       "      <td>25.243550</td>\n",
       "      <td>25.564670</td>\n",
       "    </tr>\n",
       "    <tr>\n",
       "      <th>1</th>\n",
       "      <td>0.0</td>\n",
       "      <td>21.0</td>\n",
       "      <td>14.0</td>\n",
       "      <td>0.0</td>\n",
       "      <td>0.0</td>\n",
       "      <td>0.0</td>\n",
       "      <td>0.0</td>\n",
       "      <td>3175.971</td>\n",
       "      <td>5852.565</td>\n",
       "      <td>13496.080</td>\n",
       "      <td>0</td>\n",
       "      <td>0</td>\n",
       "      <td>3.175971</td>\n",
       "      <td>5.852565</td>\n",
       "      <td>13.496080</td>\n",
       "    </tr>\n",
       "    <tr>\n",
       "      <th>2</th>\n",
       "      <td>0.0</td>\n",
       "      <td>38.0</td>\n",
       "      <td>12.0</td>\n",
       "      <td>0.0</td>\n",
       "      <td>0.0</td>\n",
       "      <td>1.0</td>\n",
       "      <td>0.0</td>\n",
       "      <td>23039.020</td>\n",
       "      <td>25130.760</td>\n",
       "      <td>25564.670</td>\n",
       "      <td>0</td>\n",
       "      <td>0</td>\n",
       "      <td>23.039020</td>\n",
       "      <td>25.130760</td>\n",
       "      <td>25.564670</td>\n",
       "    </tr>\n",
       "    <tr>\n",
       "      <th>3</th>\n",
       "      <td>0.0</td>\n",
       "      <td>48.0</td>\n",
       "      <td>6.0</td>\n",
       "      <td>0.0</td>\n",
       "      <td>0.0</td>\n",
       "      <td>1.0</td>\n",
       "      <td>1.0</td>\n",
       "      <td>24994.370</td>\n",
       "      <td>25243.550</td>\n",
       "      <td>25564.670</td>\n",
       "      <td>0</td>\n",
       "      <td>0</td>\n",
       "      <td>24.994370</td>\n",
       "      <td>25.243550</td>\n",
       "      <td>25.564670</td>\n",
       "    </tr>\n",
       "    <tr>\n",
       "      <th>4</th>\n",
       "      <td>0.0</td>\n",
       "      <td>18.0</td>\n",
       "      <td>8.0</td>\n",
       "      <td>0.0</td>\n",
       "      <td>0.0</td>\n",
       "      <td>1.0</td>\n",
       "      <td>1.0</td>\n",
       "      <td>1669.295</td>\n",
       "      <td>10727.610</td>\n",
       "      <td>9860.869</td>\n",
       "      <td>0</td>\n",
       "      <td>0</td>\n",
       "      <td>1.669295</td>\n",
       "      <td>10.727610</td>\n",
       "      <td>9.860869</td>\n",
       "    </tr>\n",
       "  </tbody>\n",
       "</table>\n",
       "</div>"
      ],
      "text/plain": [
       "   treat   age  educ  black  hisp  married  nodegr       re74       re75  \\\n",
       "0    0.0  45.0  11.0    0.0   0.0      1.0     1.0  21516.670  25243.550   \n",
       "1    0.0  21.0  14.0    0.0   0.0      0.0     0.0   3175.971   5852.565   \n",
       "2    0.0  38.0  12.0    0.0   0.0      1.0     0.0  23039.020  25130.760   \n",
       "3    0.0  48.0   6.0    0.0   0.0      1.0     1.0  24994.370  25243.550   \n",
       "4    0.0  18.0   8.0    0.0   0.0      1.0     1.0   1669.295  10727.610   \n",
       "\n",
       "        re78  u74  u75   re74_div   re75_div   re78_div  \n",
       "0  25564.670    0    0  21.516670  25.243550  25.564670  \n",
       "1  13496.080    0    0   3.175971   5.852565  13.496080  \n",
       "2  25564.670    0    0  23.039020  25.130760  25.564670  \n",
       "3  25564.670    0    0  24.994370  25.243550  25.564670  \n",
       "4   9860.869    0    0   1.669295  10.727610   9.860869  "
      ]
     },
     "execution_count": 5,
     "metadata": {},
     "output_type": "execute_result"
    }
   ],
   "source": [
    "unmatched_raw.head()"
   ]
  },
  {
   "cell_type": "code",
   "execution_count": 6,
   "metadata": {},
   "outputs": [
    {
     "name": "stdout",
     "output_type": "stream",
     "text": [
      "<table border=\"1\" class=\"dataframe\">\n",
      "  <thead>\n",
      "    <tr style=\"text-align: right;\">\n",
      "      <th></th>\n",
      "      <th>treat</th>\n",
      "      <th>age</th>\n",
      "      <th>educ</th>\n",
      "      <th>black</th>\n",
      "      <th>hisp</th>\n",
      "      <th>married</th>\n",
      "      <th>nodegr</th>\n",
      "      <th>re74</th>\n",
      "      <th>re75</th>\n",
      "      <th>re78</th>\n",
      "      <th>u74</th>\n",
      "      <th>u75</th>\n",
      "      <th>re74_div</th>\n",
      "      <th>re75_div</th>\n",
      "      <th>re78_div</th>\n",
      "    </tr>\n",
      "  </thead>\n",
      "  <tbody>\n",
      "    <tr>\n",
      "      <th>0</th>\n",
      "      <td>0.0</td>\n",
      "      <td>45.0</td>\n",
      "      <td>11.0</td>\n",
      "      <td>0.0</td>\n",
      "      <td>0.0</td>\n",
      "      <td>1.0</td>\n",
      "      <td>1.0</td>\n",
      "      <td>21516.670</td>\n",
      "      <td>25243.550</td>\n",
      "      <td>25564.670</td>\n",
      "      <td>0</td>\n",
      "      <td>0</td>\n",
      "      <td>21.516670</td>\n",
      "      <td>25.243550</td>\n",
      "      <td>25.564670</td>\n",
      "    </tr>\n",
      "    <tr>\n",
      "      <th>1</th>\n",
      "      <td>0.0</td>\n",
      "      <td>21.0</td>\n",
      "      <td>14.0</td>\n",
      "      <td>0.0</td>\n",
      "      <td>0.0</td>\n",
      "      <td>0.0</td>\n",
      "      <td>0.0</td>\n",
      "      <td>3175.971</td>\n",
      "      <td>5852.565</td>\n",
      "      <td>13496.080</td>\n",
      "      <td>0</td>\n",
      "      <td>0</td>\n",
      "      <td>3.175971</td>\n",
      "      <td>5.852565</td>\n",
      "      <td>13.496080</td>\n",
      "    </tr>\n",
      "    <tr>\n",
      "      <th>2</th>\n",
      "      <td>0.0</td>\n",
      "      <td>38.0</td>\n",
      "      <td>12.0</td>\n",
      "      <td>0.0</td>\n",
      "      <td>0.0</td>\n",
      "      <td>1.0</td>\n",
      "      <td>0.0</td>\n",
      "      <td>23039.020</td>\n",
      "      <td>25130.760</td>\n",
      "      <td>25564.670</td>\n",
      "      <td>0</td>\n",
      "      <td>0</td>\n",
      "      <td>23.039020</td>\n",
      "      <td>25.130760</td>\n",
      "      <td>25.564670</td>\n",
      "    </tr>\n",
      "    <tr>\n",
      "      <th>3</th>\n",
      "      <td>0.0</td>\n",
      "      <td>48.0</td>\n",
      "      <td>6.0</td>\n",
      "      <td>0.0</td>\n",
      "      <td>0.0</td>\n",
      "      <td>1.0</td>\n",
      "      <td>1.0</td>\n",
      "      <td>24994.370</td>\n",
      "      <td>25243.550</td>\n",
      "      <td>25564.670</td>\n",
      "      <td>0</td>\n",
      "      <td>0</td>\n",
      "      <td>24.994370</td>\n",
      "      <td>25.243550</td>\n",
      "      <td>25.564670</td>\n",
      "    </tr>\n",
      "    <tr>\n",
      "      <th>4</th>\n",
      "      <td>0.0</td>\n",
      "      <td>18.0</td>\n",
      "      <td>8.0</td>\n",
      "      <td>0.0</td>\n",
      "      <td>0.0</td>\n",
      "      <td>1.0</td>\n",
      "      <td>1.0</td>\n",
      "      <td>1669.295</td>\n",
      "      <td>10727.610</td>\n",
      "      <td>9860.869</td>\n",
      "      <td>0</td>\n",
      "      <td>0</td>\n",
      "      <td>1.669295</td>\n",
      "      <td>10.727610</td>\n",
      "      <td>9.860869</td>\n",
      "    </tr>\n",
      "  </tbody>\n",
      "</table>\n"
     ]
    }
   ],
   "source": [
    "## Good way to put in HTML table for markdown. \n",
    "print(unmatched_raw.head().to_html())"
   ]
  },
  {
   "cell_type": "code",
   "execution_count": 7,
   "metadata": {},
   "outputs": [
    {
     "data": {
      "text/html": [
       "<div>\n",
       "<style scoped>\n",
       "    .dataframe tbody tr th:only-of-type {\n",
       "        vertical-align: middle;\n",
       "    }\n",
       "\n",
       "    .dataframe tbody tr th {\n",
       "        vertical-align: top;\n",
       "    }\n",
       "\n",
       "    .dataframe thead th {\n",
       "        text-align: right;\n",
       "    }\n",
       "</style>\n",
       "<table border=\"1\" class=\"dataframe\">\n",
       "  <thead>\n",
       "    <tr style=\"text-align: right;\">\n",
       "      <th></th>\n",
       "      <th>treat</th>\n",
       "      <th>age</th>\n",
       "      <th>educ</th>\n",
       "      <th>black</th>\n",
       "      <th>hisp</th>\n",
       "      <th>married</th>\n",
       "      <th>nodegr</th>\n",
       "      <th>re74</th>\n",
       "      <th>re75</th>\n",
       "      <th>re78</th>\n",
       "      <th>u74</th>\n",
       "      <th>u75</th>\n",
       "      <th>re74_div</th>\n",
       "      <th>re75_div</th>\n",
       "      <th>re78_div</th>\n",
       "    </tr>\n",
       "  </thead>\n",
       "  <tbody>\n",
       "    <tr>\n",
       "      <th>180</th>\n",
       "      <td>1.0</td>\n",
       "      <td>33.0</td>\n",
       "      <td>12.0</td>\n",
       "      <td>1.0</td>\n",
       "      <td>0.0</td>\n",
       "      <td>1.0</td>\n",
       "      <td>0.0</td>\n",
       "      <td>20279.95</td>\n",
       "      <td>10941.35</td>\n",
       "      <td>15952.600</td>\n",
       "      <td>0</td>\n",
       "      <td>0</td>\n",
       "      <td>20.27995</td>\n",
       "      <td>10.94135</td>\n",
       "      <td>15.952600</td>\n",
       "    </tr>\n",
       "    <tr>\n",
       "      <th>181</th>\n",
       "      <td>1.0</td>\n",
       "      <td>25.0</td>\n",
       "      <td>14.0</td>\n",
       "      <td>1.0</td>\n",
       "      <td>0.0</td>\n",
       "      <td>1.0</td>\n",
       "      <td>0.0</td>\n",
       "      <td>35040.07</td>\n",
       "      <td>11536.57</td>\n",
       "      <td>36646.950</td>\n",
       "      <td>0</td>\n",
       "      <td>0</td>\n",
       "      <td>35.04007</td>\n",
       "      <td>11.53657</td>\n",
       "      <td>36.646950</td>\n",
       "    </tr>\n",
       "    <tr>\n",
       "      <th>182</th>\n",
       "      <td>1.0</td>\n",
       "      <td>35.0</td>\n",
       "      <td>9.0</td>\n",
       "      <td>1.0</td>\n",
       "      <td>0.0</td>\n",
       "      <td>1.0</td>\n",
       "      <td>1.0</td>\n",
       "      <td>13602.43</td>\n",
       "      <td>13830.64</td>\n",
       "      <td>12803.970</td>\n",
       "      <td>0</td>\n",
       "      <td>0</td>\n",
       "      <td>13.60243</td>\n",
       "      <td>13.83064</td>\n",
       "      <td>12.803970</td>\n",
       "    </tr>\n",
       "    <tr>\n",
       "      <th>183</th>\n",
       "      <td>1.0</td>\n",
       "      <td>35.0</td>\n",
       "      <td>8.0</td>\n",
       "      <td>1.0</td>\n",
       "      <td>0.0</td>\n",
       "      <td>1.0</td>\n",
       "      <td>1.0</td>\n",
       "      <td>13732.07</td>\n",
       "      <td>17976.15</td>\n",
       "      <td>3786.628</td>\n",
       "      <td>0</td>\n",
       "      <td>0</td>\n",
       "      <td>13.73207</td>\n",
       "      <td>17.97615</td>\n",
       "      <td>3.786628</td>\n",
       "    </tr>\n",
       "    <tr>\n",
       "      <th>184</th>\n",
       "      <td>1.0</td>\n",
       "      <td>33.0</td>\n",
       "      <td>11.0</td>\n",
       "      <td>1.0</td>\n",
       "      <td>0.0</td>\n",
       "      <td>1.0</td>\n",
       "      <td>1.0</td>\n",
       "      <td>14660.71</td>\n",
       "      <td>25142.24</td>\n",
       "      <td>4181.942</td>\n",
       "      <td>0</td>\n",
       "      <td>0</td>\n",
       "      <td>14.66071</td>\n",
       "      <td>25.14224</td>\n",
       "      <td>4.181942</td>\n",
       "    </tr>\n",
       "  </tbody>\n",
       "</table>\n",
       "</div>"
      ],
      "text/plain": [
       "     treat   age  educ  black  hisp  married  nodegr      re74      re75  \\\n",
       "180    1.0  33.0  12.0    1.0   0.0      1.0     0.0  20279.95  10941.35   \n",
       "181    1.0  25.0  14.0    1.0   0.0      1.0     0.0  35040.07  11536.57   \n",
       "182    1.0  35.0   9.0    1.0   0.0      1.0     1.0  13602.43  13830.64   \n",
       "183    1.0  35.0   8.0    1.0   0.0      1.0     1.0  13732.07  17976.15   \n",
       "184    1.0  33.0  11.0    1.0   0.0      1.0     1.0  14660.71  25142.24   \n",
       "\n",
       "          re78  u74  u75  re74_div  re75_div   re78_div  \n",
       "180  15952.600    0    0  20.27995  10.94135  15.952600  \n",
       "181  36646.950    0    0  35.04007  11.53657  36.646950  \n",
       "182  12803.970    0    0  13.60243  13.83064  12.803970  \n",
       "183   3786.628    0    0  13.73207  17.97615   3.786628  \n",
       "184   4181.942    0    0  14.66071  25.14224   4.181942  "
      ]
     },
     "execution_count": 7,
     "metadata": {},
     "output_type": "execute_result"
    }
   ],
   "source": [
    "unmatched_raw.tail()"
   ]
  },
  {
   "cell_type": "markdown",
   "metadata": {},
   "source": [
    "There are a lot of samples, and a lot of imbalance between the control and treatment group. We have only 185 treatment observations, and 15,992 control observations. It's likely that if we built a causal model on these all of these samples, that we'd see the large number of control samples wash out the value of the treatment indicator. Thus this is a great dataset to use with matching.\n",
    "\n",
    "If we look at the compared density plots of the controls and the treatments we see the following. The density plot (probability density function PDF) takes in continuous values. The cummulative distribution fuction takes in discrete or continuous values and accumulats so creates an S-curve. A Density Plot visualises the distribution of data over a continuous interval. An advantage Density Plots have over Histograms is that they're better at determining the distribution shape because they're not affected by the number of bins used "
   ]
  },
  {
   "cell_type": "code",
   "execution_count": 8,
   "metadata": {},
   "outputs": [
    {
     "data": {
      "image/png": "[encoded data removed]",
      "text/plain": [
       "<matplotlib.figure.Figure at 0x1c1dcc16a0>"
      ]
     },
     "metadata": {},
     "output_type": "display_data"
    }
   ],
   "source": [
    "import seaborn as sns\n",
    "## RE74 (earnings in 1974), RE75 (earnings in 1975), and RE78 (earnings in 1978)\n",
    "\n",
    "sns.kdeplot(unmatched_raw[unmatched_raw.treat == 0].re78, label='Control')\n",
    "sns.kdeplot(unmatched_raw[unmatched_raw.treat == 1].re78, label='Treatment');"
   ]
  },
  {
   "cell_type": "markdown",
   "metadata": {},
   "source": [
    "Unfortunately this hides how imbalanced these two sets are. If we look instead at a histogram of our data (which doesn't normalize like the above plot) we will see the actual imbalance."
   ]
  },
  {
   "cell_type": "code",
   "execution_count": 9,
   "metadata": {},
   "outputs": [
    {
     "data": {
      "image/png": "[encoded data removed]",
      "text/plain": [
       "<matplotlib.figure.Figure at 0x1a15645c18>"
      ]
     },
     "metadata": {},
     "output_type": "display_data"
    }
   ],
   "source": [
    "%matplotlib inline\n",
    "import matplotlib.pyplot as plt \n",
    "plt.hist(unmatched_raw[unmatched_raw.treat == 0].re78, label='Control', bins=60);\n",
    "plt.hist(unmatched_raw[unmatched_raw.treat == 1].re78, label='Treatment', bins=60);\n",
    "plt.legend();"
   ]
  },
  {
   "cell_type": "markdown",
   "metadata": {},
   "source": [
    "# Using the `causalinference` library"
   ]
  },
  {
   "cell_type": "markdown",
   "metadata": {},
   "source": [
    "The first thing we're going to do is look at a well made library implemented to specifically deal with this type of causal model, the causalinference package in python. It's very straightforward to run several models quickly."
   ]
  },
  {
   "cell_type": "code",
   "execution_count": 10,
   "metadata": {},
   "outputs": [],
   "source": [
    "from causalinference import CausalModel"
   ]
  },
  {
   "cell_type": "code",
   "execution_count": 11,
   "metadata": {
    "scrolled": false
   },
   "outputs": [
    {
     "name": "stdout",
     "output_type": "stream",
     "text": [
      "\n",
      "Summary Statistics\n",
      "\n",
      "                       Controls (N_c=373)         Treated (N_t=149)             \n",
      "       Variable         Mean         S.d.         Mean         S.d.     Raw-diff\n",
      "--------------------------------------------------------------------------------\n",
      "              Y        4.814        6.084        6.038        8.006        1.224\n",
      "\n",
      "                       Controls (N_c=373)         Treated (N_t=149)             \n",
      "       Variable         Mean         S.d.         Mean         S.d.     Nor-diff\n",
      "--------------------------------------------------------------------------------\n",
      "             X0       26.416       11.046       25.765        7.355       -0.069\n",
      "             X1       10.595        2.698       10.221        2.066       -0.156\n",
      "             X2        0.882        0.323        0.973        0.162        0.357\n",
      "             X3        0.118        0.323        0.027        0.162       -0.357\n",
      "             X4        0.214        0.411        0.134        0.342       -0.212\n",
      "             X5        0.611        0.488        0.745        0.437        0.289\n",
      "             X6        2.349        4.572        1.428        3.731       -0.221\n",
      "             X7        1.275        2.167        0.859        1.609       -0.218\n",
      "             X8        0.547        0.498        0.772        0.421        0.487\n",
      "             X9        0.491        0.501        0.671        0.471        0.371\n",
      "\n",
      "\n",
      "Treatment Effect Estimates: OLS\n",
      "\n",
      "                     Est.       S.e.          z      P>|z|      [95% Conf. int.]\n",
      "--------------------------------------------------------------------------------\n",
      "           ATE      1.960      9.055      0.216      0.829    -15.788     19.709\n",
      "           ATC      1.947     11.030      0.177      0.860    -19.672     23.566\n",
      "           ATT      1.993     15.035      0.133      0.895    -27.476     31.462\n",
      "\n",
      "Treatment Effect Estimates: Matching\n",
      "\n",
      "                     Est.       S.e.          z      P>|z|      [95% Conf. int.]\n",
      "--------------------------------------------------------------------------------\n",
      "           ATE      1.576      1.359      1.160      0.246     -1.087      4.239\n",
      "           ATC      1.357      1.632      0.832      0.406     -1.842      4.557\n",
      "           ATT      2.123      1.448      1.466      0.143     -0.716      4.962\n",
      "\n",
      "Treatment Effect Estimates: Weighting\n",
      "\n",
      "                     Est.       S.e.          z      P>|z|      [95% Conf. int.]\n",
      "--------------------------------------------------------------------------------\n",
      "           ATE      1.750      0.817      2.143      0.032      0.149      3.351\n",
      "\n",
      "\n",
      "Estimated Parameters of Propensity Score\n",
      "\n",
      "                    Coef.       S.e.          z      P>|z|      [95% Conf. int.]\n",
      "--------------------------------------------------------------------------------\n",
      "     Intercept     -6.341      0.812     -7.804      0.000     -7.933     -4.748\n",
      "            X0     -0.018      0.011     -1.683      0.092     -0.039      0.003\n",
      "            X1      0.019      0.049      0.401      0.688     -0.076      0.115\n",
      "            X2      4.286      0.263     16.319      0.000      3.771      4.801\n",
      "            X3      1.836      0.394      4.663      0.000      1.064      2.607\n",
      "            X4     -0.994      0.241     -4.120      0.000     -1.467     -0.521\n",
      "            X5      0.903      0.275      3.282      0.001      0.364      1.442\n",
      "            X6      0.063      0.028      2.197      0.028      0.007      0.118\n",
      "            X7     -0.177      0.036     -4.923      0.000     -0.248     -0.107\n",
      "            X8      1.572      0.264      5.956      0.000      1.055      2.089\n",
      "            X9      0.235      0.239      0.984      0.325     -0.233      0.702\n",
      "\n",
      "\n",
      "Stratification Summary\n",
      "\n",
      "              Propensity Score         Sample Size     Ave. Propensity   Outcome\n",
      "   Stratum      Min.      Max.  Controls   Treated  Controls   Treated  Raw-diff\n",
      "--------------------------------------------------------------------------------\n",
      "         1     0.077     0.193       229        33     0.128     0.127    -0.472\n",
      "         2     0.193     0.284        52        14     0.235     0.238     2.194\n",
      "         3     0.286     0.408        31        35     0.350     0.363     5.653\n",
      "         4     0.408     0.638        61        67     0.562     0.576     1.391\n",
      "\n"
     ]
    },
    {
     "name": "stderr",
     "output_type": "stream",
     "text": [
      "/Users/dereksnow/anaconda/envs/py36/lib/python3.6/site-packages/causalinference/estimators/ols.py:21: FutureWarning: `rcond` parameter will change to the default of machine precision times ``max(M, N)`` where M and N are the input matrix dimensions.\n",
      "To use the future default and silence this warning we advise to pass `rcond=None`, to keep using the old, explicitly pass `rcond=-1`.\n",
      "  olscoef = np.linalg.lstsq(Z, Y)[0]\n",
      "/Users/dereksnow/anaconda/envs/py36/lib/python3.6/site-packages/causalinference/estimators/matching.py:100: FutureWarning: `rcond` parameter will change to the default of machine precision times ``max(M, N)`` where M and N are the input matrix dimensions.\n",
      "To use the future default and silence this warning we advise to pass `rcond=None`, to keep using the old, explicitly pass `rcond=-1`.\n",
      "  return np.linalg.lstsq(X, Y)[0][1:]  # don't need intercept coef\n",
      "/Users/dereksnow/anaconda/envs/py36/lib/python3.6/site-packages/causalinference/estimators/weighting.py:23: FutureWarning: `rcond` parameter will change to the default of machine precision times ``max(M, N)`` where M and N are the input matrix dimensions.\n",
      "To use the future default and silence this warning we advise to pass `rcond=None`, to keep using the old, explicitly pass `rcond=-1`.\n",
      "  wlscoef = np.linalg.lstsq(Z_w, Y_w)[0]\n"
     ]
    }
   ],
   "source": [
    "causal_model = CausalModel(\n",
    "    X=unmatched_raw[['age', 'educ', 'black', 'hisp', 'married', 'nodegr', 're74_div', 're75_div', 'u74', 'u75']].values, \n",
    "    D=unmatched_raw.treat.values, # participant in occu. train prog. \n",
    "    Y=unmatched_raw.re78_div.values\n",
    ")\n",
    "causal_model.est_propensity()\n",
    "causal_model.trim_s()\n",
    "causal_model.stratify_s()\n",
    "causal_model.est_via_ols()\n",
    "causal_model.est_via_matching(bias_adj=True)\n",
    "causal_model.est_via_weighting()\n",
    "print(causal_model.summary_stats)\n",
    "print(causal_model.estimates)\n",
    "print(causal_model.propensity)\n",
    "print(causal_model.strata)"
   ]
  },
  {
   "cell_type": "markdown",
   "metadata": {},
   "source": [
    "## Using our own Bayesian Model\n",
    "\n",
    "For $y \\in \\mathbb{R}$, and $\\mathbf{x} \\in \\mathbb{R}^M$\n",
    "\n",
    "For $N$ data points, we have $(\\mathbf{X}, \\mathbf{y}) = \\{(\\mathbf{x}_n, y_n)\\}$.\n",
    "\n",
    "With the following distributions\n",
    "\n",
    "$$\n",
    "\\begin{align*}\n",
    "p(\\mathbf{w}) &= \\mathcal{N}(\\mathbf{w} | 0, \\sigma_w^2 \\mathbf{I}) \\\\\n",
    "p(b) &= \\mathcal{N}(b | 0, \\sigma_b^2) \\\\\n",
    "p(\\mathbf{y} | \\mathbf{w}, b, \\mathbf{X}) &= \\prod_{n=1}^N \\mathcal{N} (y_n | \\mathbf{x}_n^{\\intercal} \\mathbf{w} + b, \\sigma_y^2)\n",
    "\\end{align*}\n",
    "$$"
   ]
  },
  {
   "cell_type": "markdown",
   "metadata": {},
   "source": [
    "## Propensity Matching"
   ]
  },
  {
   "cell_type": "code",
   "execution_count": 12,
   "metadata": {},
   "outputs": [],
   "source": [
    "# without outcome\n",
    "propensity_formula = \"treat ~ age + educ + black + hisp + married + nodegr + u74 + u75 + re75_div + re74_div + I(re74_div*re75_div)\""
   ]
  },
  {
   "cell_type": "code",
   "execution_count": 13,
   "metadata": {},
   "outputs": [
    {
     "data": {
      "text/html": [
       "<table class=\"simpletable\">\n",
       "<caption>Generalized Linear Model Regression Results</caption>\n",
       "<tr>\n",
       "  <th>Dep. Variable:</th>        <td>treat</td>      <th>  No. Observations:  </th>  <td> 16177</td> \n",
       "</tr>\n",
       "<tr>\n",
       "  <th>Model:</th>                 <td>GLM</td>       <th>  Df Residuals:      </th>  <td> 16165</td> \n",
       "</tr>\n",
       "<tr>\n",
       "  <th>Model Family:</th>       <td>Binomial</td>     <th>  Df Model:          </th>  <td>    11</td> \n",
       "</tr>\n",
       "<tr>\n",
       "  <th>Link Function:</th>        <td>logit</td>      <th>  Scale:             </th>    <td>1.0</td>  \n",
       "</tr>\n",
       "<tr>\n",
       "  <th>Method:</th>               <td>IRLS</td>       <th>  Log-Likelihood:    </th> <td> -473.41</td>\n",
       "</tr>\n",
       "<tr>\n",
       "  <th>Date:</th>           <td>Mon, 16 Jul 2018</td> <th>  Deviance:          </th> <td>  946.82</td>\n",
       "</tr>\n",
       "<tr>\n",
       "  <th>Time:</th>               <td>17:30:18</td>     <th>  Pearson chi2:      </th> <td>8.10e+03</td>\n",
       "</tr>\n",
       "<tr>\n",
       "  <th>No. Iterations:</th>        <td>12</td>        <th>                     </th>     <td> </td>   \n",
       "</tr>\n",
       "</table>\n",
       "<table class=\"simpletable\">\n",
       "<tr>\n",
       "             <td></td>               <th>coef</th>     <th>std err</th>      <th>z</th>      <th>P>|z|</th>  <th>[0.025</th>    <th>0.975]</th>  \n",
       "</tr>\n",
       "<tr>\n",
       "  <th>Intercept</th>              <td>   -6.6364</td> <td>    0.825</td> <td>   -8.045</td> <td> 0.000</td> <td>   -8.253</td> <td>   -5.020</td>\n",
       "</tr>\n",
       "<tr>\n",
       "  <th>age</th>                    <td>   -0.0191</td> <td>    0.011</td> <td>   -1.788</td> <td> 0.074</td> <td>   -0.040</td> <td>    0.002</td>\n",
       "</tr>\n",
       "<tr>\n",
       "  <th>educ</th>                   <td>    0.0195</td> <td>    0.048</td> <td>    0.404</td> <td> 0.686</td> <td>   -0.075</td> <td>    0.114</td>\n",
       "</tr>\n",
       "<tr>\n",
       "  <th>black</th>                  <td>    4.2899</td> <td>    0.263</td> <td>   16.329</td> <td> 0.000</td> <td>    3.775</td> <td>    4.805</td>\n",
       "</tr>\n",
       "<tr>\n",
       "  <th>hisp</th>                   <td>    1.8322</td> <td>    0.394</td> <td>    4.655</td> <td> 0.000</td> <td>    1.061</td> <td>    2.604</td>\n",
       "</tr>\n",
       "<tr>\n",
       "  <th>married</th>                <td>   -0.9954</td> <td>    0.240</td> <td>   -4.147</td> <td> 0.000</td> <td>   -1.466</td> <td>   -0.525</td>\n",
       "</tr>\n",
       "<tr>\n",
       "  <th>nodegr</th>                 <td>    0.9100</td> <td>    0.274</td> <td>    3.318</td> <td> 0.001</td> <td>    0.372</td> <td>    1.448</td>\n",
       "</tr>\n",
       "<tr>\n",
       "  <th>u74</th>                    <td>    1.7318</td> <td>    0.280</td> <td>    6.178</td> <td> 0.000</td> <td>    1.182</td> <td>    2.281</td>\n",
       "</tr>\n",
       "<tr>\n",
       "  <th>u75</th>                    <td>    0.3934</td> <td>    0.253</td> <td>    1.555</td> <td> 0.120</td> <td>   -0.102</td> <td>    0.889</td>\n",
       "</tr>\n",
       "<tr>\n",
       "  <th>re75_div</th>               <td>   -0.0871</td> <td>    0.056</td> <td>   -1.559</td> <td> 0.119</td> <td>   -0.197</td> <td>    0.022</td>\n",
       "</tr>\n",
       "<tr>\n",
       "  <th>re74_div</th>               <td>    0.0985</td> <td>    0.033</td> <td>    2.968</td> <td> 0.003</td> <td>    0.033</td> <td>    0.164</td>\n",
       "</tr>\n",
       "<tr>\n",
       "  <th>I(re74_div * re75_div)</th> <td>   -0.0072</td> <td>    0.004</td> <td>   -1.800</td> <td> 0.072</td> <td>   -0.015</td> <td>    0.001</td>\n",
       "</tr>\n",
       "</table>"
      ],
      "text/plain": [
       "<class 'statsmodels.iolib.summary.Summary'>\n",
       "\"\"\"\n",
       "                 Generalized Linear Model Regression Results                  \n",
       "==============================================================================\n",
       "Dep. Variable:                  treat   No. Observations:                16177\n",
       "Model:                            GLM   Df Residuals:                    16165\n",
       "Model Family:                Binomial   Df Model:                           11\n",
       "Link Function:                  logit   Scale:                             1.0\n",
       "Method:                          IRLS   Log-Likelihood:                -473.41\n",
       "Date:                Mon, 16 Jul 2018   Deviance:                       946.82\n",
       "Time:                        17:30:18   Pearson chi2:                 8.10e+03\n",
       "No. Iterations:                    12                                         \n",
       "==========================================================================================\n",
       "                             coef    std err          z      P>|z|      [0.025      0.975]\n",
       "------------------------------------------------------------------------------------------\n",
       "Intercept                 -6.6364      0.825     -8.045      0.000      -8.253      -5.020\n",
       "age                       -0.0191      0.011     -1.788      0.074      -0.040       0.002\n",
       "educ                       0.0195      0.048      0.404      0.686      -0.075       0.114\n",
       "black                      4.2899      0.263     16.329      0.000       3.775       4.805\n",
       "hisp                       1.8322      0.394      4.655      0.000       1.061       2.604\n",
       "married                   -0.9954      0.240     -4.147      0.000      -1.466      -0.525\n",
       "nodegr                     0.9100      0.274      3.318      0.001       0.372       1.448\n",
       "u74                        1.7318      0.280      6.178      0.000       1.182       2.281\n",
       "u75                        0.3934      0.253      1.555      0.120      -0.102       0.889\n",
       "re75_div                  -0.0871      0.056     -1.559      0.119      -0.197       0.022\n",
       "re74_div                   0.0985      0.033      2.968      0.003       0.033       0.164\n",
       "I(re74_div * re75_div)    -0.0072      0.004     -1.800      0.072      -0.015       0.001\n",
       "==========================================================================================\n",
       "\"\"\""
      ]
     },
     "execution_count": 13,
     "metadata": {},
     "output_type": "execute_result"
    }
   ],
   "source": [
    "import statsmodels.formula.api as smf\n",
    "import statsmodels.api as sm\n",
    "\n",
    "# intermediate formula\n",
    "propensity_model = smf.glm(formula=propensity_formula, data=unmatched_raw, family=sm.families.Binomial()).fit()\n",
    "propensity_model.summary()"
   ]
  },
  {
   "cell_type": "code",
   "execution_count": 14,
   "metadata": {},
   "outputs": [],
   "source": [
    "from patsy import dmatrices\n",
    "\n",
    "_, X_propensity = dmatrices(propensity_formula, unmatched_raw, return_type='dataframe')"
   ]
  },
  {
   "cell_type": "code",
   "execution_count": 15,
   "metadata": {},
   "outputs": [],
   "source": [
    "propensities = propensity_model.predict(exog=X_propensity)"
   ]
  },
  {
   "cell_type": "code",
   "execution_count": 16,
   "metadata": {},
   "outputs": [
    {
     "data": {
      "text/plain": [
       "16069"
      ]
     },
     "execution_count": 16,
     "metadata": {},
     "output_type": "execute_result"
    }
   ],
   "source": [
    "(propensities < 0.5).sum()"
   ]
  },
  {
   "cell_type": "code",
   "execution_count": 17,
   "metadata": {},
   "outputs": [
    {
     "data": {
      "text/plain": [
       "108"
      ]
     },
     "execution_count": 17,
     "metadata": {},
     "output_type": "execute_result"
    }
   ],
   "source": [
    "(propensities > 0.5).sum()"
   ]
  },
  {
   "cell_type": "code",
   "execution_count": 18,
   "metadata": {},
   "outputs": [
    {
     "data": {
      "text/html": [
       "<div>\n",
       "<style scoped>\n",
       "    .dataframe tbody tr th:only-of-type {\n",
       "        vertical-align: middle;\n",
       "    }\n",
       "\n",
       "    .dataframe tbody tr th {\n",
       "        vertical-align: top;\n",
       "    }\n",
       "\n",
       "    .dataframe thead th {\n",
       "        text-align: right;\n",
       "    }\n",
       "</style>\n",
       "<table border=\"1\" class=\"dataframe\">\n",
       "  <thead>\n",
       "    <tr style=\"text-align: right;\">\n",
       "      <th></th>\n",
       "      <th>treat</th>\n",
       "      <th>age</th>\n",
       "      <th>educ</th>\n",
       "      <th>black</th>\n",
       "      <th>hisp</th>\n",
       "      <th>married</th>\n",
       "      <th>nodegr</th>\n",
       "      <th>re74</th>\n",
       "      <th>re75</th>\n",
       "      <th>re78</th>\n",
       "      <th>u74</th>\n",
       "      <th>u75</th>\n",
       "      <th>re74_div</th>\n",
       "      <th>re75_div</th>\n",
       "      <th>re78_div</th>\n",
       "    </tr>\n",
       "  </thead>\n",
       "  <tbody>\n",
       "    <tr>\n",
       "      <th>0</th>\n",
       "      <td>0.0</td>\n",
       "      <td>45.0</td>\n",
       "      <td>11.0</td>\n",
       "      <td>0.0</td>\n",
       "      <td>0.0</td>\n",
       "      <td>1.0</td>\n",
       "      <td>1.0</td>\n",
       "      <td>21516.670</td>\n",
       "      <td>25243.550</td>\n",
       "      <td>25564.670</td>\n",
       "      <td>0</td>\n",
       "      <td>0</td>\n",
       "      <td>21.516670</td>\n",
       "      <td>25.243550</td>\n",
       "      <td>25.564670</td>\n",
       "    </tr>\n",
       "    <tr>\n",
       "      <th>1</th>\n",
       "      <td>0.0</td>\n",
       "      <td>21.0</td>\n",
       "      <td>14.0</td>\n",
       "      <td>0.0</td>\n",
       "      <td>0.0</td>\n",
       "      <td>0.0</td>\n",
       "      <td>0.0</td>\n",
       "      <td>3175.971</td>\n",
       "      <td>5852.565</td>\n",
       "      <td>13496.080</td>\n",
       "      <td>0</td>\n",
       "      <td>0</td>\n",
       "      <td>3.175971</td>\n",
       "      <td>5.852565</td>\n",
       "      <td>13.496080</td>\n",
       "    </tr>\n",
       "    <tr>\n",
       "      <th>2</th>\n",
       "      <td>0.0</td>\n",
       "      <td>38.0</td>\n",
       "      <td>12.0</td>\n",
       "      <td>0.0</td>\n",
       "      <td>0.0</td>\n",
       "      <td>1.0</td>\n",
       "      <td>0.0</td>\n",
       "      <td>23039.020</td>\n",
       "      <td>25130.760</td>\n",
       "      <td>25564.670</td>\n",
       "      <td>0</td>\n",
       "      <td>0</td>\n",
       "      <td>23.039020</td>\n",
       "      <td>25.130760</td>\n",
       "      <td>25.564670</td>\n",
       "    </tr>\n",
       "    <tr>\n",
       "      <th>3</th>\n",
       "      <td>0.0</td>\n",
       "      <td>48.0</td>\n",
       "      <td>6.0</td>\n",
       "      <td>0.0</td>\n",
       "      <td>0.0</td>\n",
       "      <td>1.0</td>\n",
       "      <td>1.0</td>\n",
       "      <td>24994.370</td>\n",
       "      <td>25243.550</td>\n",
       "      <td>25564.670</td>\n",
       "      <td>0</td>\n",
       "      <td>0</td>\n",
       "      <td>24.994370</td>\n",
       "      <td>25.243550</td>\n",
       "      <td>25.564670</td>\n",
       "    </tr>\n",
       "    <tr>\n",
       "      <th>4</th>\n",
       "      <td>0.0</td>\n",
       "      <td>18.0</td>\n",
       "      <td>8.0</td>\n",
       "      <td>0.0</td>\n",
       "      <td>0.0</td>\n",
       "      <td>1.0</td>\n",
       "      <td>1.0</td>\n",
       "      <td>1669.295</td>\n",
       "      <td>10727.610</td>\n",
       "      <td>9860.869</td>\n",
       "      <td>0</td>\n",
       "      <td>0</td>\n",
       "      <td>1.669295</td>\n",
       "      <td>10.727610</td>\n",
       "      <td>9.860869</td>\n",
       "    </tr>\n",
       "  </tbody>\n",
       "</table>\n",
       "</div>"
      ],
      "text/plain": [
       "   treat   age  educ  black  hisp  married  nodegr       re74       re75  \\\n",
       "0    0.0  45.0  11.0    0.0   0.0      1.0     1.0  21516.670  25243.550   \n",
       "1    0.0  21.0  14.0    0.0   0.0      0.0     0.0   3175.971   5852.565   \n",
       "2    0.0  38.0  12.0    0.0   0.0      1.0     0.0  23039.020  25130.760   \n",
       "3    0.0  48.0   6.0    0.0   0.0      1.0     1.0  24994.370  25243.550   \n",
       "4    0.0  18.0   8.0    0.0   0.0      1.0     1.0   1669.295  10727.610   \n",
       "\n",
       "        re78  u74  u75   re74_div   re75_div   re78_div  \n",
       "0  25564.670    0    0  21.516670  25.243550  25.564670  \n",
       "1  13496.080    0    0   3.175971   5.852565  13.496080  \n",
       "2  25564.670    0    0  23.039020  25.130760  25.564670  \n",
       "3  25564.670    0    0  24.994370  25.243550  25.564670  \n",
       "4   9860.869    0    0   1.669295  10.727610   9.860869  "
      ]
     },
     "execution_count": 18,
     "metadata": {},
     "output_type": "execute_result"
    }
   ],
   "source": [
    "unmatched_raw.head()"
   ]
  },
  {
   "cell_type": "code",
   "execution_count": 19,
   "metadata": {},
   "outputs": [
    {
     "data": {
      "text/plain": [
       "59.0"
      ]
     },
     "execution_count": 19,
     "metadata": {},
     "output_type": "execute_result"
    }
   ],
   "source": [
    "## there are 59 TPs in treatment, enough to espouse valid matching.\n",
    "## thus 108-59, 59 in non-treatment (control, cps)\n",
    "unmatched_raw.loc[propensities > 0.5].treat.sum() # similar index"
   ]
  },
  {
   "cell_type": "code",
   "execution_count": 20,
   "metadata": {},
   "outputs": [],
   "source": [
    "split = cps.shape[0]"
   ]
  },
  {
   "cell_type": "code",
   "execution_count": 21,
   "metadata": {},
   "outputs": [
    {
     "data": {
      "text/plain": [
       "0    0.000011\n",
       "1    0.000829\n",
       "2    0.000005\n",
       "3    0.000007\n",
       "4    0.000406\n",
       "dtype: float64"
      ]
     },
     "execution_count": 21,
     "metadata": {},
     "output_type": "execute_result"
    }
   ],
   "source": [
    "propensities.head()"
   ]
  },
  {
   "cell_type": "code",
   "execution_count": 22,
   "metadata": {},
   "outputs": [
    {
     "data": {
      "text/plain": [
       "((185, 1), (15992, 1))"
      ]
     },
     "execution_count": 22,
     "metadata": {},
     "output_type": "execute_result"
    }
   ],
   "source": [
    "## simply reverses initial concatanation\n",
    "treatment = np.expand_dims(propensities[split:], 1)\n",
    "control = np.expand_dims(propensities[:split], 1)\n",
    "\n",
    "treatment.shape, control.shape"
   ]
  },
  {
   "cell_type": "markdown",
   "metadata": {},
   "source": [
    "Calculating the distance in propensity of each treatment sample to each control sample"
   ]
  },
  {
   "cell_type": "code",
   "execution_count": 23,
   "metadata": {},
   "outputs": [],
   "source": [
    "from scipy.spatial.distance import cdist\n",
    "distances = cdist(treatment, control)"
   ]
  },
  {
   "cell_type": "code",
   "execution_count": 24,
   "metadata": {},
   "outputs": [
    {
     "data": {
      "text/plain": [
       "(185, 15992)"
      ]
     },
     "execution_count": 24,
     "metadata": {},
     "output_type": "execute_result"
    }
   ],
   "source": [
    "distances.shape"
   ]
  },
  {
   "cell_type": "markdown",
   "metadata": {},
   "source": [
    "From this fitted model, we can then make propensity score estimates, and come up with some matches."
   ]
  },
  {
   "cell_type": "code",
   "execution_count": 25,
   "metadata": {},
   "outputs": [
    {
     "data": {
      "text/plain": [
       "(array([  0,   1,   2,   3,   4,   5,   6,   7,   8,   9,  10,  11,  12,\n",
       "         13,  14,  15,  16,  17,  18,  19,  20,  21,  22,  23,  24,  25,\n",
       "         26,  27,  28,  29,  30,  31,  32,  33,  34,  35,  36,  37,  38,\n",
       "         39,  40,  41,  42,  43,  44,  45,  46,  47,  48,  49,  50,  51,\n",
       "         52,  53,  54,  55,  56,  57,  58,  59,  60,  61,  62,  63,  64,\n",
       "         65,  66,  67,  68,  69,  70,  71,  72,  73,  74,  75,  76,  77,\n",
       "         78,  79,  80,  81,  82,  83,  84,  85,  86,  87,  88,  89,  90,\n",
       "         91,  92,  93,  94,  95,  96,  97,  98,  99, 100, 101, 102, 103,\n",
       "        104, 105, 106, 107, 108, 109, 110, 111, 112, 113, 114, 115, 116,\n",
       "        117, 118, 119, 120, 121, 122, 123, 124, 125, 126, 127, 128, 129,\n",
       "        130, 131, 132, 133, 134, 135, 136, 137, 138, 139, 140, 141, 142,\n",
       "        143, 144, 145, 146, 147, 148, 149, 150, 151, 152, 153, 154, 155,\n",
       "        156, 157, 158, 159, 160, 161, 162, 163, 164, 165, 166, 167, 168,\n",
       "        169, 170, 171, 172, 173, 174, 175, 176, 177, 178, 179, 180, 181,\n",
       "        182, 183, 184]),\n",
       " array([11544,  6044, 13363, 11345,  1431,  9230,  1796,  3513, 15638,\n",
       "          680, 12177,  5607, 11545, 15976,  2583, 13964, 10620, 15572,\n",
       "         1641,  8598, 13971, 13956,  1172, 11077,  2576, 13315,  5632,\n",
       "        10498, 11267,  5306,  9634, 10282, 13972,  7532, 15083, 12470,\n",
       "         7318,  3385, 10047, 14420, 11321, 11448,  5554,  8691,  7591,\n",
       "         8902,  9370,  9458,  9203,  5127,  2593, 12316,  9384, 13183,\n",
       "        12463,  8068,  6091, 13922, 15250,  1442,  1291,   974,    38,\n",
       "        11245,  6181, 11597,  6453,  2346,  2363,  9599,  9472,  4521,\n",
       "         6694,  8353,  1658,  8365,  6045,  2584, 15917,  3946,   328,\n",
       "         7869,  1809,  5193,  1308,  2362,  3947,  3268,  7939,  4019,\n",
       "         7527,  2596,  3360,  7518, 15249,  5688, 11924,  2597,  3994,\n",
       "        15887, 11524,  3421,  1206,  7592,  1663, 13561,  1135,   887,\n",
       "        13391, 11282,  3602, 15251,  9225, 11342, 13349,  2034, 12471,\n",
       "        11075, 12247, 10043,  5971,  2360,  1580, 10022,  2000,  7872,\n",
       "         5254,  3786,   114,    25, 11322,  8042,  9530, 11021,  5079,\n",
       "         7590, 10059,  5350,  7887,  9236, 10045,  1642,   576, 11003,\n",
       "         4184,  4551,  5326,  9460,  2331,  1515,  5315,  5493, 11102,\n",
       "         1730, 10722,  7679,  2594,  9233, 11022,  1717, 13059,  3993,\n",
       "        11923,  9432,  5472,  5776, 13251, 13573, 15310,  8606,  4562,\n",
       "         1114,  5881,  1139,  2333,  3089, 15190,  3079,  1119,  9910,\n",
       "         4826,  3744,  3846,  4307,  2395]))"
      ]
     },
     "execution_count": 25,
     "metadata": {},
     "output_type": "execute_result"
    }
   ],
   "source": [
    "from scipy.optimize import linear_sum_assignment\n",
    "# # Computing an optimal match between the two groups\n",
    "# # it is going to fit to the lenght of the smallest sample\n",
    "treatment_idx, control_idx = linear_sum_assignment(distances)\n",
    "treatment_idx, control_idx"
   ]
  },
  {
   "cell_type": "code",
   "execution_count": 26,
   "metadata": {},
   "outputs": [
    {
     "name": "stdout",
     "output_type": "stream",
     "text": [
      "   treat   age  educ  black  hisp  married  nodegr  re74  re75        re78  \\\n",
      "0    1.0  37.0  11.0    1.0   0.0      1.0     1.0   0.0   0.0   9930.0460   \n",
      "1    1.0  22.0   9.0    0.0   1.0      0.0     1.0   0.0   0.0   3595.8940   \n",
      "2    1.0  30.0  12.0    1.0   0.0      0.0     0.0   0.0   0.0  24909.4500   \n",
      "3    1.0  27.0  11.0    1.0   0.0      0.0     1.0   0.0   0.0   7506.1460   \n",
      "4    1.0  33.0   8.0    1.0   0.0      0.0     1.0   0.0   0.0    289.7899   \n",
      "\n",
      "   u74  u75  re74_div  re75_div   re78_div  \n",
      "0    1    1       0.0       0.0   9.930046  \n",
      "1    1    1       0.0       0.0   3.595894  \n",
      "2    1    1       0.0       0.0  24.909450  \n",
      "3    1    1       0.0       0.0   7.506146  \n",
      "4    1    1       0.0       0.0   0.289790  \n",
      "----\n",
      "       treat   age  educ  black  hisp  married  nodegr      re74        re75  \\\n",
      "11544    0.0  46.0  11.0    1.0   0.0      1.0     1.0     0.000     0.00000   \n",
      "6044     0.0  21.0  12.0    1.0   0.0      0.0     0.0  7012.216  1389.29000   \n",
      "13363    0.0  34.0  12.0    1.0   0.0      0.0     0.0     0.000     0.00000   \n",
      "11345    0.0  17.0  11.0    1.0   0.0      0.0     1.0     0.000    75.19355   \n",
      "1431     0.0  40.0  11.0    1.0   0.0      1.0     1.0     0.000     0.00000   \n",
      "\n",
      "            re78  u74  u75  re74_div  re75_div   re78_div  \n",
      "11544      0.000    1    1  0.000000  0.000000   0.000000  \n",
      "6044    3047.072    0    0  7.012216  1.389290   3.047072  \n",
      "13363      0.000    1    1  0.000000  0.000000   0.000000  \n",
      "11345  10769.670    1    0  0.000000  0.075194  10.769670  \n",
      "1431       0.000    1    1  0.000000  0.000000   0.000000  \n"
     ]
    }
   ],
   "source": [
    "## Selecting the matches by index\n",
    "treatment_data = unmatched_raw[split:].iloc[treatment_idx]\n",
    "control_data = unmatched_raw[:split].iloc[control_idx]\n",
    "print(treatment_data.head())\n",
    "print('----')\n",
    "print(control_data.head())"
   ]
  },
  {
   "cell_type": "markdown",
   "metadata": {},
   "source": [
    "Here, we compute an optimal match, though this is not always very efficient (or needed). As mentioned earlier typically we can compute a random greedy match with or without replacement and achieve similar results. This will run much faster since it's just a simple loop. Since our treatment group is small enough I wanted to try the optimal matching method.\n",
    "\n",
    "Now if we compare our density plots we see much more similarity in our groups,"
   ]
  },
  {
   "cell_type": "code",
   "execution_count": 27,
   "metadata": {},
   "outputs": [
    {
     "data": {
      "text/plain": [
       "<matplotlib.axes._subplots.AxesSubplot at 0x1c1eff4630>"
      ]
     },
     "execution_count": 27,
     "metadata": {},
     "output_type": "execute_result"
    },
    {
     "data": {
      "image/png": "[encoded data removed]",
      "text/plain": [
       "<matplotlib.figure.Figure at 0x1c1d48ef98>"
      ]
     },
     "metadata": {},
     "output_type": "display_data"
    }
   ],
   "source": [
    "sns.kdeplot(treatment_data.re78, label='Treatment')\n",
    "sns.kdeplot(control_data.re78, label='Control')"
   ]
  },
  {
   "cell_type": "code",
   "execution_count": 28,
   "metadata": {},
   "outputs": [
    {
     "data": {
      "image/png": "[encoded data removed]",
      "text/plain": [
       "<matplotlib.figure.Figure at 0x1c1d48e908>"
      ]
     },
     "metadata": {},
     "output_type": "display_data"
    }
   ],
   "source": [
    "plt.hist(treatment_data.re78, label='Treatment', bins=100)\n",
    "plt.hist(control_data.re78, label='Control', bins=100)\n",
    "plt.legend();"
   ]
  },
  {
   "cell_type": "markdown",
   "metadata": {},
   "source": [
    "Now that we've got a treatment & matched control group we can put these together and build a model to estimate treatment effect."
   ]
  },
  {
   "cell_type": "code",
   "execution_count": 29,
   "metadata": {},
   "outputs": [
    {
     "data": {
      "text/plain": [
       "(370, 15)"
      ]
     },
     "execution_count": 29,
     "metadata": {},
     "output_type": "execute_result"
    }
   ],
   "source": [
    "data_propensity_matched = pd.concat([\n",
    "        treatment_data,\n",
    "        control_data\n",
    "        ], axis=0)\n",
    "data_propensity_matched.shape"
   ]
  },
  {
   "cell_type": "code",
   "execution_count": 30,
   "metadata": {},
   "outputs": [],
   "source": [
    "causal_formula = \"re78_div ~ treat + age + educ + black + hisp + married + nodegr + u74 + u75 + re74_div + re75_div\""
   ]
  },
  {
   "cell_type": "raw",
   "metadata": {},
   "source": [
    "## This code is stale, I will stall development\n",
    "\n",
    "with pm.Model() as model:\n",
    "    pm.glm.GLM.from_formula(causal_formula, data_propensity_matched)\n",
    "\n",
    "    print('ADVI')\n",
    "    propensity_v_params = pm.fit(n=80000)\n",
    "    plt.plot(-np.log10(-propensity_v_params.hist))\n",
    "\n",
    "    print('Sampling')\n",
    "    propensity_samples = pm.sample(\n",
    "        2000, \n",
    "        step=pm.NUTS(scaling=propensity_v_params.means),\n",
    "        start=propensity_v_params.means, \n",
    "        progressbar=True,\n",
    "        njobs=3\n",
    "    )\n",
    "\n",
    "pm.traceplot(propensity_samples[1000:], varnames=['treat']);\n",
    "\n",
    "df_propensity_samples = pm.trace_to_dataframe(propensity_samples[1000:])\n",
    "df_propensity_samples.mean(0)\n",
    "\n",
    "(df_propensity_samples['treat'] > 0).mean()"
   ]
  },
  {
   "cell_type": "markdown",
   "metadata": {},
   "source": [
    "## Mahalanobis Distance Matching"
   ]
  },
  {
   "cell_type": "code",
   "execution_count": 45,
   "metadata": {},
   "outputs": [
    {
     "data": {
      "text/plain": [
       "((185, 12), (15992, 12))"
      ]
     },
     "execution_count": 45,
     "metadata": {},
     "output_type": "execute_result"
    }
   ],
   "source": [
    "treatment = X_propensity[split:]\n",
    "control = X_propensity[:split]\n",
    "\n",
    "treatment.shape, control.shape"
   ]
  },
  {
   "cell_type": "raw",
   "metadata": {},
   "source": [
    "## Similarly, this code is stall and is awaiting development \n",
    "\n",
    "VI = np.diag(X_propensity.var())\n",
    "\n",
    "distances = cdist(treatment, control, 'mahalanobis', VI=VI)\n",
    "\n",
    "distances.shape\n",
    "\n",
    "distances\n",
    "\n",
    "treatment_idx, control_idx = linear_sum_assignment(distances)\n",
    "treatment_idx, control_idx\n",
    "\n",
    "treatment_data = unmatched_raw[split:].iloc[treatment_idx]\n",
    "control_data = unmatched_raw[:split].iloc[control_idx]\n",
    "print(treatment_data.head())\n",
    "print('----')\n",
    "print(control_data.head())\n",
    "\n",
    "sns.kdeplot(treatment_data.re78, label='Treatment')\n",
    "sns.kdeplot(control_data.re78, label='Control');\n",
    "\n",
    "plt.hist(treatment_data.re78, label='Treatment', bins=100)\n",
    "plt.hist(control_data.re78, label='Control', bins=100)\n",
    "plt.legend();\n",
    "\n",
    "data_mahalanobis_matched = pd.concat([\n",
    "        treatment_data,\n",
    "        control_data\n",
    "        ], axis=0)\n",
    "data_mahalanobis_matched.shape\n",
    "\n",
    "with pm.Model() as model:\n",
    "    pm.glm.glm(causal_formula, data_propensity_matched)\n",
    "\n",
    "    print('ADVI')\n",
    "    mahalanobis_v_params = pm.variational.advi(n=80000)\n",
    "    plt.plot(-np.log10(-mahalanobis_v_params.elbo_vals))\n",
    "\n",
    "    print('Sampling')\n",
    "    mahalanobis_samples = pm.sample(\n",
    "        2000, \n",
    "        step=pm.NUTS(scaling=mahalanobis_v_params.means),\n",
    "        start=mahalanobis_v_params.means, \n",
    "        progressbar=True,\n",
    "        njobs=4\n",
    "    )\n",
    "\n",
    "pm.traceplot(mahalanobis_samples[1000:], varnames=['treat']);\n",
    "\n",
    "df_mahalanobis_samples = pm.trace_to_dataframe(mahalanobis_samples[1000:])\n",
    "df_mahalanobis_samples.mean(0)\n",
    "\n",
    "(df_mahalanobis_samples['treat'] > 0).mean()"
   ]
  },
  {
   "cell_type": "markdown",
   "metadata": {},
   "source": [
    "# Bonus - Estimating the counterfactual observations\n",
    "\n",
    "Suppose we build two models,\n",
    "\n",
    "$$\n",
    "\\begin{aligned}\n",
    "\\hat{Y}_1(1) &= \\alpha_1 + \\beta_1 X_i(1) + \\epsilon_i \\\\\n",
    "\\hat{Y}_0(0) &= \\alpha_0 + \\beta_0 X_i(0) + \\epsilon_i\n",
    "\\end{aligned}\n",
    "$$\n",
    "\n",
    "where the coefficients of $\\hat{Y}_1$ are learned exclusively on samples of $X$ where we've observed $Y(1)$, and those of $\\hat{Y}_2$ are likewise are learned from samples where $Y(0)$."
   ]
  },
  {
   "cell_type": "code",
   "execution_count": 51,
   "metadata": {},
   "outputs": [
    {
     "data": {
      "text/plain": [
       "(185, 15)"
      ]
     },
     "execution_count": 51,
     "metadata": {},
     "output_type": "execute_result"
    }
   ],
   "source": [
    "treatment_propensity.shape"
   ]
  },
  {
   "cell_type": "code",
   "execution_count": 52,
   "metadata": {},
   "outputs": [
    {
     "data": {
      "text/plain": [
       "(185, 15)"
      ]
     },
     "execution_count": 52,
     "metadata": {},
     "output_type": "execute_result"
    }
   ],
   "source": [
    "control_propensity.shape"
   ]
  },
  {
   "cell_type": "code",
   "execution_count": 46,
   "metadata": {
    "scrolled": true
   },
   "outputs": [],
   "source": [
    "treatment_propensity = data_propensity_matched[data_propensity_matched.treat == 1]\n",
    "control_propensity = data_propensity_matched[data_propensity_matched.treat == 0]"
   ]
  },
  {
   "cell_type": "code",
   "execution_count": 47,
   "metadata": {},
   "outputs": [],
   "source": [
    "formula = 're78_div ~ age + educ + black + hisp + married + nodegr + u74 + u75 + re74_div + re75_div'"
   ]
  },
  {
   "cell_type": "code",
   "execution_count": 48,
   "metadata": {},
   "outputs": [],
   "source": [
    "treatment_model = smf.glm(formula=formula, data=treatment_propensity).fit()"
   ]
  },
  {
   "cell_type": "code",
   "execution_count": 49,
   "metadata": {},
   "outputs": [],
   "source": [
    "control_model = smf.glm(formula=formula, data=control_propensity).fit()"
   ]
  },
  {
   "cell_type": "markdown",
   "metadata": {},
   "source": [
    "Now, looking back at the fundamental problem of causal inference, we want to estimate what the counterfactual outcomes would be, e.g. fill in the gaps.\n",
    "\n",
    "What if we swap our data and estimate the effect from the two groups using the corresponding models?\n",
    "\n",
    "$$\n",
    "\\begin{align*}\n",
    "\\hat{Y}_1(0) = \\alpha_1 + \\beta_1 X_i(0) + \\epsilon_i \\\\\n",
    "\\hat{Y}_0(1) = \\alpha_0 + \\beta_0 X_i(1) + \\epsilon_i\n",
    "\\end{align*}\n",
    "$$"
   ]
  },
  {
   "cell_type": "code",
   "execution_count": 53,
   "metadata": {},
   "outputs": [],
   "source": [
    "Y_treatment, X_treatment = dmatrices(causal_formula, treatment_propensity, return_type='dataframe')\n",
    "Y_control, X_control = dmatrices(causal_formula, control_propensity, return_type='dataframe')"
   ]
  },
  {
   "cell_type": "code",
   "execution_count": 54,
   "metadata": {},
   "outputs": [],
   "source": [
    "Y_0 = np.expand_dims(treatment_model.predict(exog=X_control), 1)\n",
    "Y_1 = np.expand_dims(control_model.predict(exog=X_treatment), 1)"
   ]
  },
  {
   "cell_type": "markdown",
   "metadata": {},
   "source": [
    "Now we can define $\\hat{\\tau}_i = Y_i - \\hat{Y}_1(0)$ for our control group, and $\\hat{\\tau}_i = \\hat{Y}_0(1) - Y_i$ for our treatment group.\n",
    "\n",
    "We can then calculate average treatment effect as $\\hat{\\tau} = \\frac{1}{N} \\sum_{i=1}^N \\hat{\\tau}_i$."
   ]
  },
  {
   "cell_type": "code",
   "execution_count": 55,
   "metadata": {
    "scrolled": true
   },
   "outputs": [
    {
     "data": {
      "text/plain": [
       "1.5483643168987677"
      ]
     },
     "execution_count": 55,
     "metadata": {},
     "output_type": "execute_result"
    }
   ],
   "source": [
    "## This matching method produces the same outcome as that in the causal inference module\n",
    "\n",
    "np.concatenate([\n",
    "    (Y_treatment - Y_1),    \n",
    "    (Y_0 - Y_control)        \n",
    "]).mean()"
   ]
  },
  {
   "cell_type": "markdown",
   "metadata": {},
   "source": [
    "Once again we get a very similar treatment effect. The rationale here is that our earlier regression models are largely derived from this idea.\n",
    "\n",
    "We've seen a few different implementations of the Rubin model of causal effect, and looked at matching with propensity scores, and Mahalanobis distance. With all of these models we've come up with similar positive treatment effects. Note, that if we had just used the OLS or Matching treatment effects from the causalinference library we might not have claimed any significance. However, given that each of these models comes up with similar treatment effects, we can be a bit more confident that there is in fact some positive treatment effect. In fact, with our Bayesian models we're relatively sure that there's a positive effect P(treat>0)≈0.97\n",
    "\n",
    "The difference between the propensity matching and Mahalanobis distance matching was very small. In other models this might not be the case and there might be good reasons to use one over the other. In general propensity matching is a very popular approach for matching, but one might want to be careful about understanding the strong ignorability assumption that goes along. (The ignorability assumption simply means that the choice to assign to the control group or the treatment group can be assumed to be effectively random when conditioned on observable characteristics of the study objects, and that missing data can be treated as occurring effectively at random) It in effect suffers a similar issue that confouding cause  in the rubin model. \n",
    "\n",
    "Lastly, the Rubin model of causal effect is relatively simple, and more advanced approaches have been studied with structural equation modeling. "
   ]
  },
  {
   "cell_type": "markdown",
   "metadata": {},
   "source": [
    "# References\n",
    "\n",
    "- Lalonde, R. J. (1986). Evaluating the Econometric Evaluations of Training Programs with Experimental Data. Journal of Chemical Information and Modeling, 76(4), 604–620. http://doi.org/10.1017/CBO9781107415324.004\n",
    "- Gelman, a, & Hill, J. (2007). Data analysis using regression and multilevel/hierarchical models. Policy Analysis, 1–651. http://doi.org/10.2277/0521867061\n",
    "- Imbens, G. W., & Rubin, D. B. (2015). Causal Inference for Statistics, Social, and Biomedical Sciences an Introduction. Cambridge University Press. Retrieved from http://www.cambridge.org/US/academic/subjects/statistics-probability/statistical-theory-and-methods/causal-inference-statistics-social-and-biomedical-sciences-introduction"
   ]
  }
 ],
 "metadata": {
  "kernelspec": {
   "display_name": "py36",
   "language": "python",
   "name": "py36"
  },
  "language_info": {
   "codemirror_mode": {
    "name": "ipython",
    "version": 3
   },
   "file_extension": ".py",
   "mimetype": "text/x-python",
   "name": "python",
   "nbconvert_exporter": "python",
   "pygments_lexer": "ipython3",
   "version": "3.6.3"
  }
 },
 "nbformat": 4,
 "nbformat_minor": 1
}
