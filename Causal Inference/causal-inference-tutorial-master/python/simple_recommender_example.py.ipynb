{
 "cells": [
  {
   "cell_type": "markdown",
   "metadata": {},
   "source": [
    "# Causal inference tutorial: A simple example\n",
    "Estimate the causal effect of a recommender system based on logs. "
   ]
  },
  {
   "cell_type": "code",
   "execution_count": 2,
   "metadata": {},
   "outputs": [],
   "source": [
    "## Script to estimate causal effect of recommendations on a website.\n",
    "\n",
    "# Library for easy manipulation of data frames.\n",
    "import numpy as np\n",
    "import pandas as pd\n",
    "\n",
    "# A parameter for the number of recommendations shown to the user\n",
    "MAX_SHOWN_RECS = 3"
   ]
  },
  {
   "cell_type": "markdown",
   "metadata": {},
   "source": [
    "## Different causal inference estimation methods"
   ]
  },
  {
   "cell_type": "code",
   "execution_count": 3,
   "metadata": {},
   "outputs": [],
   "source": [
    "def naive_observational_estimate(user_visits):\n",
    "  # Naive observational estimate\n",
    "  # Simply the fraction of visits that resulted in a recommendation click-through.\n",
    "  est = np.sum(user_visits[\"is_rec_visit\"])/len(user_visits[\"is_rec_visit\"])\n",
    "  print(\"Mean estimate: {0}\".format(est))\n",
    "  return(est)\n",
    "\n",
    "def stratified_by_activity_estimate(user_visits):\n",
    "  # Stratified observational estimate by activity level of each user.\n",
    "  grouped = user_visits.groupby('activity_level')\n",
    "  grouped = grouped.agg({'is_rec_visit': lambda x: np.sum(x)/x.size })\n",
    "  est = grouped.rename(columns= {'is_rec_visit':'stratified_estimate'})\n",
    "  print(\"Mean estimate: {0}\".format(np.mean(est['stratified_estimate'])))\n",
    "  return(est)\n",
    "\n",
    "def stratified_by_category_estimate(user_visits):\n",
    "  # Stratified observational estimate by app category \n",
    "  grouped = user_visits.groupby('category')\n",
    "  grouped = grouped.agg({'is_rec_visit': lambda x: np.sum(x)/x.size })\n",
    "  est = grouped.rename(columns= {'is_rec_visit':'stratified_estimate'})\n",
    "  print(\"Mean estimate: {0}\".format(np.mean(est['stratified_estimate'])))\n",
    "  return(est)\n",
    "\n",
    "def fully_conditioned_estimate(user_visits):\n",
    "  # Stratified observational estimate by both user activity level and app category.\n",
    "  grouped = user_visits.groupby(['activity_level', 'category'])\n",
    "  grouped = grouped.agg({'is_rec_visit': lambda x: np.sum(x)/x.size })\n",
    "  est = grouped.rename(columns= {'is_rec_visit':'stratified_estimate'})\n",
    "  print(\"Mean estimate: {0}\".format(np.mean(est['stratified_estimate'])))\n",
    "  return(est)\n",
    "\n",
    "def ranking_discontinuity_estimate(user_visits):\n",
    "  # Regression discontinuity estimate for the causal effect of recommendation system.\n",
    "  ctr_by_rank = user_visits.groupby('rec_rank')\n",
    "  ctr_by_rank = ctr_by_rank.agg({'product_id': lambda x: x.size})\n",
    "  ctr_by_rank = ctr_by_rank.rename(columns={'product_id':'num_clicks_by_rank'})\n",
    "  ctr_by_rank = ctr_by_rank.reset_index()\n",
    "  sum_num_clicks = np.sum(ctr_by_rank['num_clicks_by_rank'])\n",
    "  ctr_by_rank['ctr_estimate_by_rank'] = ctr_by_rank['num_clicks_by_rank']/sum_num_clicks\n",
    "\n",
    "  \n",
    "  # Comparing the last shown recommendation and the first not-shown recommendation.\n",
    "  # Assuming that there are no position order effects in recommendation click-throughs.\n",
    "  print(ctr_by_rank)\n",
    "  est1 = ctr_by_rank.loc[ctr_by_rank.rec_rank==MAX_SHOWN_RECS, 'ctr_estimate_by_rank']\n",
    "  est2 = ctr_by_rank.loc[ctr_by_rank.rec_rank==(MAX_SHOWN_RECS+1), 'ctr_estimate_by_rank']\n",
    "  est = est1.iloc[0] -est2.iloc[0]\n",
    "  upper_bound_est = est*MAX_SHOWN_RECS\n",
    "  print(\"Mean estimate: {0}\".format(upper_bound_est))\n",
    "  return(upper_bound_est)"
   ]
  },
  {
   "cell_type": "markdown",
   "metadata": {},
   "source": [
    "##  Reading app visit logs for two different algorithms."
   ]
  },
  {
   "cell_type": "code",
   "execution_count": 4,
   "metadata": {},
   "outputs": [],
   "source": [
    "user_app_visits_A = pd.read_csv(\"../datasets/user_app_visits_A.csv\")\n",
    "user_app_visits_B = pd.read_csv(\"../datasets/user_app_visits_B.csv\")"
   ]
  },
  {
   "cell_type": "markdown",
   "metadata": {},
   "source": [
    "### GOAL 1: COMPARE ALGORITHM A VERSUS B\n",
    "**Naive estimate**"
   ]
  },
  {
   "cell_type": "code",
   "execution_count": 5,
   "metadata": {},
   "outputs": [
    {
     "name": "stdout",
     "output_type": "stream",
     "text": [
      "Mean estimate: 0.201311\n",
      "Mean estimate: 0.225052\n"
     ]
    },
    {
     "data": {
      "text/plain": [
       "0.225052"
      ]
     },
     "execution_count": 5,
     "metadata": {},
     "output_type": "execute_result"
    }
   ],
   "source": [
    "naive_observational_estimate(user_app_visits_A)\n",
    "naive_observational_estimate(user_app_visits_B) "
   ]
  },
  {
   "cell_type": "markdown",
   "metadata": {},
   "source": [
    " **Stratified estimate** (by user activity level)"
   ]
  },
  {
   "cell_type": "code",
   "execution_count": 6,
   "metadata": {},
   "outputs": [
    {
     "name": "stdout",
     "output_type": "stream",
     "text": [
      "Mean estimate: 0.20035698127413026\n",
      "                stratified_estimate\n",
      "activity_level                     \n",
      "1                          0.125651\n",
      "2                          0.175509\n",
      "3                          0.225762\n",
      "4                          0.274506\n",
      "Mean estimate: 0.20012010666246788\n",
      "                stratified_estimate\n",
      "activity_level                     \n",
      "1                          0.124835\n",
      "2                          0.175152\n",
      "3                          0.225146\n",
      "4                          0.275348\n"
     ]
    }
   ],
   "source": [
    "\n",
    "print(stratified_by_activity_estimate(user_app_visits_A))\n",
    "print(stratified_by_activity_estimate(user_app_visits_B))"
   ]
  },
  {
   "cell_type": "markdown",
   "metadata": {},
   "source": [
    " **Stratified estimate** (by app category)"
   ]
  },
  {
   "cell_type": "code",
   "execution_count": 7,
   "metadata": {},
   "outputs": [
    {
     "name": "stdout",
     "output_type": "stream",
     "text": [
      "Mean estimate: 0.20126888085162636\n",
      "          stratified_estimate\n",
      "category                     \n",
      "1                    0.174848\n",
      "2                    0.224932\n",
      "3                    0.276092\n",
      "4                    0.127721\n",
      "5                    0.178281\n",
      "6                    0.227305\n",
      "7                    0.275923\n",
      "8                    0.123859\n",
      "9                    0.176174\n",
      "10                   0.227554\n",
      "Mean estimate: 0.22496994851719032\n",
      "          stratified_estimate\n",
      "category                     \n",
      "1                    0.200286\n",
      "2                    0.250328\n",
      "3                    0.297486\n",
      "4                    0.150637\n",
      "5                    0.200782\n",
      "6                    0.250557\n",
      "7                    0.301367\n",
      "8                    0.149972\n",
      "9                    0.198176\n",
      "10                   0.250108\n"
     ]
    }
   ],
   "source": [
    "print(stratified_by_category_estimate(user_app_visits_A))\n",
    "print(stratified_by_category_estimate(user_app_visits_B))"
   ]
  },
  {
   "cell_type": "code",
   "execution_count": 8,
   "metadata": {},
   "outputs": [
    {
     "name": "stdout",
     "output_type": "stream",
     "text": [
      "Mean estimate: 0.2003106574488021\n",
      "                         stratified_estimate\n",
      "activity_level category                     \n",
      "1              1                    0.100107\n",
      "               2                    0.151534\n",
      "               3                    0.197995\n",
      "               4                    0.050482\n",
      "               5                    0.101296\n",
      "               6                    0.151942\n",
      "               7                    0.196753\n",
      "               8                    0.050324\n",
      "               9                    0.101892\n",
      "               10                   0.155373\n",
      "2              1                    0.148901\n",
      "               2                    0.195862\n",
      "               3                    0.251806\n",
      "               4                    0.102751\n",
      "               5                    0.150518\n",
      "               6                    0.200401\n",
      "               7                    0.252204\n",
      "               8                    0.099486\n",
      "               9                    0.149651\n",
      "               10                   0.199944\n",
      "3              1                    0.197873\n",
      "               2                    0.250158\n",
      "               3                    0.303874\n",
      "               4                    0.150893\n",
      "               5                    0.202031\n",
      "               6                    0.255591\n",
      "               7                    0.300087\n",
      "               8                    0.146504\n",
      "               9                    0.201074\n",
      "               10                   0.249533\n",
      "4              1                    0.248100\n",
      "               2                    0.298295\n",
      "               3                    0.346864\n",
      "               4                    0.202945\n",
      "               5                    0.254687\n",
      "               6                    0.298155\n",
      "               7                    0.350591\n",
      "               8                    0.195731\n",
      "               9                    0.248037\n",
      "               10                   0.302183\n",
      "Mean estimate: 0.1999786810089586\n",
      "                         stratified_estimate\n",
      "activity_level category                     \n",
      "1              1                    0.100345\n",
      "               2                    0.148037\n",
      "               3                    0.197599\n",
      "               4                    0.051738\n",
      "               5                    0.104680\n",
      "               6                    0.148010\n",
      "               7                    0.202689\n",
      "               8                    0.048567\n",
      "               9                    0.094570\n",
      "               10                   0.148438\n",
      "2              1                    0.151885\n",
      "               2                    0.200273\n",
      "               3                    0.247231\n",
      "               4                    0.098523\n",
      "               5                    0.145892\n",
      "               6                    0.199612\n",
      "               7                    0.254640\n",
      "               8                    0.101333\n",
      "               9                    0.148834\n",
      "               10                   0.201678\n",
      "3              1                    0.200875\n",
      "               2                    0.252794\n",
      "               3                    0.296456\n",
      "               4                    0.147819\n",
      "               5                    0.204086\n",
      "               6                    0.251096\n",
      "               7                    0.298907\n",
      "               8                    0.148974\n",
      "               9                    0.199634\n",
      "               10                   0.250777\n",
      "4              1                    0.248780\n",
      "               2                    0.300040\n",
      "               3                    0.349213\n",
      "               4                    0.203663\n",
      "               5                    0.249907\n",
      "               6                    0.301532\n",
      "               7                    0.351707\n",
      "               8                    0.200333\n",
      "               9                    0.248435\n",
      "               10                   0.299545\n"
     ]
    }
   ],
   "source": [
    "print(fully_conditioned_estimate(user_app_visits_A))\n",
    "print(fully_conditioned_estimate(user_app_visits_B))  "
   ]
  },
  {
   "cell_type": "code",
   "execution_count": 10,
   "metadata": {},
   "outputs": [
    {
     "name": "stdout",
     "output_type": "stream",
     "text": [
      "Mean estimate: 0.201311\n",
      "0.201311\n",
      "   rec_rank  num_clicks_by_rank  ctr_estimate_by_rank\n",
      "0        -1              718766              0.718766\n",
      "1         1               66911              0.066911\n",
      "2         2               67216              0.067216\n",
      "3         3               67184              0.067184\n",
      "4         4               26741              0.026741\n",
      "5         5               26666              0.026666\n",
      "6         6               26516              0.026516\n",
      "Mean estimate: 0.12132899999999998\n"
     ]
    },
    {
     "data": {
      "text/plain": [
       "0.12132899999999998"
      ]
     },
     "execution_count": 10,
     "metadata": {},
     "output_type": "execute_result"
    }
   ],
   "source": [
    "### Ranking Discontinuity Estimate makes sense. \n",
    "### The last shown and first not shown item\n",
    "\n",
    "# GOAL 2: FIND THE CAUSAL EFFECT OF SHOWING RECOMMENDATIONS\n",
    "# Regression discontinuity estimate for Algorithm A\n",
    "print(naive_observational_estimate(user_app_visits_A))\n",
    "ranking_discontinuity_estimate(user_app_visits_A)\n"
   ]
  },
  {
   "cell_type": "code",
   "execution_count": null,
   "metadata": {},
   "outputs": [],
   "source": []
  }
 ],
 "metadata": {
  "kernelspec": {
   "display_name": "Python 3",
   "language": "python",
   "name": "python3"
  },
  "language_info": {
   "codemirror_mode": {
    "name": "ipython",
    "version": 3
   },
   "file_extension": ".py",
   "mimetype": "text/x-python",
   "name": "python",
   "nbconvert_exporter": "python",
   "pygments_lexer": "ipython3",
   "version": "3.6.3"
  }
 },
 "nbformat": 4,
 "nbformat_minor": 2
}
