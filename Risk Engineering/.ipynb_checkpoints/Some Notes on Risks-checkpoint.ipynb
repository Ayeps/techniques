{
 "cells": [
  {
   "cell_type": "markdown",
   "metadata": {},
   "source": [
    "### Hazard Models\n",
    "\n",
    "Hazard analysis involves the proactive identification of possible risks and the estimation of their possible consequences. This consists of identifying hazards that could lead to dangerous situations, analyzing a small number of accidental scenarios that could lead to maximal damage, and designing preventive or protective barriers that prevent unacceptable levels of damage from an accident. Important notions are the plausible worst case scenario and the maximum forseeable loss.\n",
    "\n",
    "Hazard analysis is a component of the deterministic approach to safety assessment. A conservative point estimate of possible exposure to the risk is compared with a threshold value to determine whether the activity is acceptable. Typically, safety factors or safety margins are used to incorporate uncertainty in the risk assessment.\n",
    "\n",
    "Deterministic methods for risk assessment are widely used in ecotoxicity, food safety and management of natural hazards such as earthquakes and floods."
   ]
  },
  {
   "cell_type": "markdown",
   "metadata": {},
   "source": [
    "**System safety** is the application of engineering and management principles, criteria, and techniques to optimize all aspects of safety within the constraints of operational effectiveness, time, and cost. It is a planned, disciplined and systematic approach to preventing or reducing accidents throughout the lifecycle of a system.\n",
    "\n",
    "Important principles applied in system safety include **inherent safety** and **defence in depth** (use of multiple, independent safety barriers).\n",
    "\n",
    "\n",
    "Many things can go wrong on a high-risk industrial facility, leading to an unintended release of hazardous material, an uncontrolled release of energy or some other accidental loss. **Consequence assessment** is a rigorous and methodical examination of the direct undesirable impacts of a loss of containment of material or energy, including fires and explosions. It consists of estimating impacts on people, the environment and the process equipment.\n",
    "\n",
    "Consequence assessment has applications in:\n",
    "\n",
    "    - the design of new facilities, for instance in suggesting optimal separation distances between units, to avoid domino effects\n",
    "\n",
    "    - risk assessment of a facility to provide input to a safety case\n",
    "\n",
    "    - emergency planning and land use planning: estimate impact distances for major accident scenarios\n",
    "    \n",
    "    \n",
    "    \n",
    " Rather than using point values to represent random quantities, as in deterministic approaches (Hazard Models), probabilistic approaches to risk assessment represent each random quantity by a probability distribution. Analysis results are presented as probability distributions, or as selected quantiles of a probability distribution.\n",
    "    \n",
    "    \n",
    "The probabilistic approach to risk analysis estimates risk as a function of:\n",
    "\n",
    "    - the severity — or magnitude — of each consequence\n",
    "    - the likelihood (probability) of the occurrence of each consequence\n",
    "\n",
    "In the safety domain, the consequences and types of events assessed are generally adverse (they represent losses, that we try to avoid). In other areas such as finance, events and their consequences may be either positive (profits) or negative (losses).\n",
    "\n",
    "Consequences are expressed quantatively (for instance, the number of people potentially injured) and their likelihoods of occurrence are expressed as probabilities.\n",
    "\n",
    "Copulæ are an interesting mathematical tool to represent correlations between probability distributions. They can be used to represent complex dependencies in multivariate risk models, when more basic tools such as multivariate gaussian distributions are inappropriate. One commonly used application is sampling from correlated random variables.\n",
    "\n",
    "Appropriate modelling of dependencies between model input variables is a very significant issue in risk models in a number of application areas. For example, an inappropriate (simplifying) assumption of gaussian dependencies between the risk of various financial instruments was one of the factors that led to the global financial crisis of 2008.\n",
    "\n",
    "Illustrations of the concept are provided in finance, where the method first reached prominence. We also show applications in other areas, including insurance, management of natural hazards, and quality management in manufacturing.\n",
    "\n",
    "This submodule is a part of the risk analysis module.\n"
   ]
  },
  {
   "cell_type": "code",
   "execution_count": null,
   "metadata": {},
   "outputs": [],
   "source": []
  }
 ],
 "metadata": {
  "kernelspec": {
   "display_name": "py36",
   "language": "python",
   "name": "py36"
  },
  "language_info": {
   "codemirror_mode": {
    "name": "ipython",
    "version": 3
   },
   "file_extension": ".py",
   "mimetype": "text/x-python",
   "name": "python",
   "nbconvert_exporter": "python",
   "pygments_lexer": "ipython3",
   "version": "3.6.3"
  }
 },
 "nbformat": 4,
 "nbformat_minor": 2
}
