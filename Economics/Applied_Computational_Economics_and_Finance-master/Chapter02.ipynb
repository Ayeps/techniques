{
 "cells": [
  {
   "cell_type": "markdown",
   "metadata": {},
   "source": [
    "# 2 Linear Equations and Computer Basics"
   ]
  },
  {
   "cell_type": "code",
   "execution_count": 76,
   "metadata": {},
   "outputs": [
    {
     "name": "stdout",
     "output_type": "stream",
     "text": [
      "Populating the interactive namespace from numpy and matplotlib\n"
     ]
    },
    {
     "name": "stderr",
     "output_type": "stream",
     "text": [
      "/opt/conda/lib/python3.5/site-packages/IPython/core/magics/pylab.py:161: UserWarning: pylab import has clobbered these variables: ['cos', 'invert', 'diff', 'trace', 'tan', 'sign', 'plotting', 'product', 'diag', 'roots', 'sinc', 'eye', 'zeros', 'sinh', 'poly', 'test', 'flatten', 'sqrt', 'cbrt', 'beta', 'source', 'cosh', 'tanh', 'binomial', 'ones', 'multinomial', 'vectorize', 'trunc', 'exp', 'interactive', 'pi', 'seterr', 'var', 'add', 'floor', 'reshape', 'gamma', 'take', 'conjugate', 'prod', 'sin', 'det', 'Circle', 'mod', 'nan', 'Polygon', 'solve', 'plot', 'transpose', 'log', 'power']\n",
      "`%matplotlib` prevents importing * from pylab and numpy\n",
      "  \"\\n`%matplotlib` prevents importing * from pylab and numpy\"\n"
     ]
    }
   ],
   "source": [
    "#%pylab inline\n",
    "%pylab notebook\n",
    "# pylab Populating the interactive namespace from numpy and matplotlib\n",
    "# numpy for numerical computation\n",
    "# matplotlib for ploting"
   ]
  },
  {
   "cell_type": "code",
   "execution_count": 77,
   "metadata": {},
   "outputs": [],
   "source": [
    "import numpy as np\n",
    "from numpy import append, array, diagonal, tril, triu\n",
    "from numpy.linalg import inv\n",
    "from numpy.linalg import norm\n",
    "from numpy.linalg import solve\n",
    "from scipy.linalg import lu\n",
    "#from scipy.linalg import solve\n",
    "from pprint import pprint\n",
    "from numpy import array, zeros, diag, diagflat, dot\n",
    "\n",
    "from sympy import *\n",
    "import sympy as sym"
   ]
  },
  {
   "cell_type": "code",
   "execution_count": 78,
   "metadata": {
    "collapsed": true
   },
   "outputs": [],
   "source": [
    "init_printing()"
   ]
  },
  {
   "cell_type": "markdown",
   "metadata": {},
   "source": [
    "## 2.1 Linear Equations and the L-U Factorization\n",
    "\n",
    "The linear equation is the most elementary problem that arises in computational\n",
    "economic analysis. In a linear equation, an $n \\times n$ matrix A and an n-vector b are\n",
    "given, and one must compute the n-vector x that satisfies\n",
    "\n",
    "$$A x = b$$"
   ]
  },
  {
   "cell_type": "markdown",
   "metadata": {
    "collapsed": true
   },
   "source": [
    "Most linear equations encountered in practice, however, do not have a triangular A matrix. In such cases, the linear equation is often best solved using the L-U factorization algorithm. The L-U algorithm is designed to decompose the A matrix into the product of lower and upper triangular matrices, allowing the linear equation to be solved using a combination of backward and forward substitution."
   ]
  },
  {
   "cell_type": "markdown",
   "metadata": {},
   "source": [
    "The L-U factorization algorithm is faster than other linear equation solution methods that are typically presented in elementary linear algebra courses."
   ]
  },
  {
   "cell_type": "code",
   "execution_count": 79,
   "metadata": {},
   "outputs": [
    {
     "name": "stdout",
     "output_type": "stream",
     "text": [
      "A:\n",
      " [[-3.  2.  3.]\n",
      "  [-3.  2.  1.]\n",
      " [ 3.  0.  0.]]\n",
      "b:\n",
      "[10, 8, -3]\n",
      "x0:\n",
      "[1.0, 1.0, 1.0]\n",
      "n:\n",
      "25\n"
     ]
    }
   ],
   "source": [
    "# example problem\n",
    "\n",
    "A = np.array([[-3.0, 2.0, 3.0], [-3.0, 2.0, 1.0], [3.0, 0, 0]])\n",
    "\n",
    "b = [10, 8, -3]\n",
    "\n",
    "x0 = [1.0, 1.0, 1.0]\n",
    "\n",
    "n = 25\n",
    "\n",
    "\n",
    "print( \"A:\")\n",
    "pprint(A)\n",
    "\n",
    "\n",
    "#rint( \"diag(A):\")\n",
    "#print((diag(A)))\n",
    "\n",
    "\n",
    "#rint(\"pprint(diagflat(diag(A)))\")\n",
    "#print(diagflat(diag(A)))\n",
    "\n",
    "print( \"b:\")\n",
    "pprint(b)\n",
    "\n",
    "print( \"x0:\")\n",
    "pprint(x0)\n",
    "\n",
    "print( \"n:\")\n",
    "pprint(n)\n"
   ]
  },
  {
   "cell_type": "markdown",
   "metadata": {},
   "source": [
    "### Using Sympy"
   ]
  },
  {
   "cell_type": "code",
   "execution_count": 80,
   "metadata": {},
   "outputs": [],
   "source": [
    "M = Matrix(A)\n",
    "v = Matrix(b)"
   ]
  },
  {
   "cell_type": "code",
   "execution_count": 81,
   "metadata": {},
   "outputs": [
    {
     "data": {
      "text/latex": [
       "$$\\left[\\begin{matrix}-3.0 & 2.0 & 3.0\\\\-3.0 & 2.0 & 1.0\\\\3.0 & 0.0 & 0.0\\end{matrix}\\right]$$"
      ],
      "text/plain": [
       "⎡-3.0  2.0  3.0⎤\n",
       "⎢              ⎥\n",
       "⎢-3.0  2.0  1.0⎥\n",
       "⎢              ⎥\n",
       "⎣3.0   0.0  0.0⎦"
      ]
     },
     "execution_count": 81,
     "metadata": {},
     "output_type": "execute_result"
    }
   ],
   "source": [
    "M"
   ]
  },
  {
   "cell_type": "code",
   "execution_count": 82,
   "metadata": {},
   "outputs": [
    {
     "data": {
      "text/latex": [
       "$$\\left[\\begin{matrix}10\\\\8\\\\-3\\end{matrix}\\right]$$"
      ],
      "text/plain": [
       "⎡10⎤\n",
       "⎢  ⎥\n",
       "⎢8 ⎥\n",
       "⎢  ⎥\n",
       "⎣-3⎦"
      ]
     },
     "execution_count": 82,
     "metadata": {},
     "output_type": "execute_result"
    }
   ],
   "source": [
    "v"
   ]
  },
  {
   "cell_type": "markdown",
   "metadata": {},
   "source": [
    "http://docs.sympy.org/latest/modules/matrices/matrices.html\n",
    "\n",
    "\n",
    "Returns (L, U, perm) where L is a lower triangular matrix with unit diagonal, U is an upper triangular matrix, and perm is a list of row swap index pairs. If A is the original matrix, then A = (L*U).permuteBkwd(perm), and the row permutation matrix P such that P*A = L*U can be computed by P=eye(A.row).permuteFwd(perm).\n",
    "\n",
    "See documentation for LUCombined for details about the keyword argument rankcheck, iszerofunc, and simpfunc.\n",
    "\n"
   ]
  },
  {
   "cell_type": "code",
   "execution_count": 83,
   "metadata": {},
   "outputs": [
    {
     "data": {
      "text/latex": [
       "$$\\left ( \\left[\\begin{matrix}1 & 0 & 0\\\\-1.0 & 1 & 0\\\\1.0 & 0 & 1\\end{matrix}\\right], \\quad \\left[\\begin{matrix}-3.0 & 2.0 & 3.0\\\\0 & 2.0 & 3.0\\\\0 & 0 & -2.0\\end{matrix}\\right], \\quad \\left [ \\left [ 2, \\quad 1\\right ]\\right ]\\right )$$"
      ],
      "text/plain": [
       "⎛⎡ 1    0  0⎤, ⎡-3.0  2.0  3.0 ⎤, [[2, 1]]⎞\n",
       "⎜⎢          ⎥  ⎢               ⎥          ⎟\n",
       "⎜⎢-1.0  1  0⎥  ⎢ 0    2.0  3.0 ⎥          ⎟\n",
       "⎜⎢          ⎥  ⎢               ⎥          ⎟\n",
       "⎝⎣1.0   0  1⎦  ⎣ 0     0   -2.0⎦          ⎠"
      ]
     },
     "execution_count": 83,
     "metadata": {},
     "output_type": "execute_result"
    }
   ],
   "source": [
    "M.LUdecomposition()"
   ]
  },
  {
   "cell_type": "code",
   "execution_count": 84,
   "metadata": {
    "collapsed": true
   },
   "outputs": [],
   "source": [
    "L,U,perm = M.LUdecomposition()\n",
    "\n"
   ]
  },
  {
   "cell_type": "code",
   "execution_count": 85,
   "metadata": {},
   "outputs": [
    {
     "data": {
      "text/latex": [
       "$$\\left[\\begin{matrix}1 & 0 & 0\\\\-1.0 & 1 & 0\\\\1.0 & 0 & 1\\end{matrix}\\right]$$"
      ],
      "text/plain": [
       "⎡ 1    0  0⎤\n",
       "⎢          ⎥\n",
       "⎢-1.0  1  0⎥\n",
       "⎢          ⎥\n",
       "⎣1.0   0  1⎦"
      ]
     },
     "execution_count": 85,
     "metadata": {},
     "output_type": "execute_result"
    }
   ],
   "source": [
    "L"
   ]
  },
  {
   "cell_type": "code",
   "execution_count": 86,
   "metadata": {},
   "outputs": [
    {
     "data": {
      "text/latex": [
       "$$\\left[\\begin{matrix}-3.0 & 2.0 & 3.0\\\\0 & 2.0 & 3.0\\\\0 & 0 & -2.0\\end{matrix}\\right]$$"
      ],
      "text/plain": [
       "⎡-3.0  2.0  3.0 ⎤\n",
       "⎢               ⎥\n",
       "⎢ 0    2.0  3.0 ⎥\n",
       "⎢               ⎥\n",
       "⎣ 0     0   -2.0⎦"
      ]
     },
     "execution_count": 86,
     "metadata": {},
     "output_type": "execute_result"
    }
   ],
   "source": [
    "U"
   ]
  },
  {
   "cell_type": "code",
   "execution_count": 87,
   "metadata": {},
   "outputs": [
    {
     "data": {
      "image/png": "[encoded data removed]",
      "text/latex": [
       "$$\\left [ \\left [ 2, \\quad 1\\right ]\\right ]$$"
      ],
      "text/plain": [
       "[[2, 1]]"
      ]
     },
     "execution_count": 87,
     "metadata": {},
     "output_type": "execute_result"
    }
   ],
   "source": [
    "perm"
   ]
  },
  {
   "cell_type": "code",
   "execution_count": 88,
   "metadata": {},
   "outputs": [
    {
     "data": {
      "text/latex": [
       "$$\\left[\\begin{matrix}-3.0 & 2.0 & 3.0\\\\3.0 & 0 & 0\\\\-3.0 & 2.0 & 1.0\\end{matrix}\\right]$$"
      ],
      "text/plain": [
       "⎡-3.0  2.0  3.0⎤\n",
       "⎢              ⎥\n",
       "⎢3.0    0    0 ⎥\n",
       "⎢              ⎥\n",
       "⎣-3.0  2.0  1.0⎦"
      ]
     },
     "execution_count": 88,
     "metadata": {},
     "output_type": "execute_result"
    }
   ],
   "source": [
    "L*U"
   ]
  },
  {
   "cell_type": "code",
   "execution_count": 89,
   "metadata": {},
   "outputs": [
    {
     "data": {
      "text/latex": [
       "$$\\left[\\begin{matrix}-3.0 & 2.0 & 3.0\\\\-3.0 & 2.0 & 1.0\\\\3.0 & 0 & 0\\end{matrix}\\right]$$"
      ],
      "text/plain": [
       "⎡-3.0  2.0  3.0⎤\n",
       "⎢              ⎥\n",
       "⎢-3.0  2.0  1.0⎥\n",
       "⎢              ⎥\n",
       "⎣3.0    0    0 ⎦"
      ]
     },
     "execution_count": 89,
     "metadata": {},
     "output_type": "execute_result"
    }
   ],
   "source": [
    "(L*U).permuteBkwd(perm)"
   ]
  },
  {
   "cell_type": "code",
   "execution_count": 90,
   "metadata": {},
   "outputs": [
    {
     "data": {
      "text/latex": [
       "$$\\left[\\begin{matrix}10\\\\-3\\\\8\\end{matrix}\\right]$$"
      ],
      "text/plain": [
       "⎡10⎤\n",
       "⎢  ⎥\n",
       "⎢-3⎥\n",
       "⎢  ⎥\n",
       "⎣8 ⎦"
      ]
     },
     "execution_count": 90,
     "metadata": {},
     "output_type": "execute_result"
    }
   ],
   "source": [
    "v = v.permuteBkwd(perm)\n",
    "v"
   ]
  },
  {
   "cell_type": "markdown",
   "metadata": {},
   "source": [
    "the elements of x can be computed recursively using forward-substitution"
   ]
  },
  {
   "cell_type": "code",
   "execution_count": 91,
   "metadata": {},
   "outputs": [
    {
     "data": {
      "text/latex": [
       "$$\\left[\\begin{matrix}10\\\\7.0\\\\-2.0\\end{matrix}\\right]$$"
      ],
      "text/plain": [
       "⎡ 10 ⎤\n",
       "⎢    ⎥\n",
       "⎢7.0 ⎥\n",
       "⎢    ⎥\n",
       "⎣-2.0⎦"
      ]
     },
     "execution_count": 91,
     "metadata": {},
     "output_type": "execute_result"
    }
   ],
   "source": [
    "L.LUsolve(v)"
   ]
  },
  {
   "cell_type": "code",
   "execution_count": null,
   "metadata": {
    "collapsed": true
   },
   "outputs": [],
   "source": []
  },
  {
   "cell_type": "markdown",
   "metadata": {},
   "source": [
    "If A is an upper triangular matrix, then the elements of x can be computed recursively using backward-substitution."
   ]
  },
  {
   "cell_type": "code",
   "execution_count": 92,
   "metadata": {},
   "outputs": [
    {
     "data": {
      "text/latex": [
       "$$\\left[\\begin{matrix}-1.0\\\\2.0\\\\1.0\\end{matrix}\\right]$$"
      ],
      "text/plain": [
       "⎡-1.0⎤\n",
       "⎢    ⎥\n",
       "⎢2.0 ⎥\n",
       "⎢    ⎥\n",
       "⎣1.0 ⎦"
      ]
     },
     "execution_count": 92,
     "metadata": {},
     "output_type": "execute_result"
    }
   ],
   "source": [
    "U.LUsolve(L.LUsolve(v))"
   ]
  },
  {
   "cell_type": "code",
   "execution_count": null,
   "metadata": {
    "collapsed": true
   },
   "outputs": [],
   "source": []
  },
  {
   "cell_type": "code",
   "execution_count": 93,
   "metadata": {},
   "outputs": [
    {
     "data": {
      "image/png": "[encoded data removed]",
      "text/latex": [
       "$$\\left [ 10, \\quad 7.0, \\quad -2.0\\right ]$$"
      ],
      "text/plain": [
       "[10, 7.0, -2.0]"
      ]
     },
     "execution_count": 93,
     "metadata": {},
     "output_type": "execute_result"
    }
   ],
   "source": [
    "y= b\n",
    "b = [10, -3, 8]\n",
    "y[0] = b[0]/L[0,0]\n",
    "for i in range(len(b)-1):\n",
    "    y[i+1] = (b[i+1] - L[i+1,:i+1].dot(y[:i+1]))/L[i+1,i+1]  \n",
    "    \n",
    "y    "
   ]
  },
  {
   "cell_type": "code",
   "execution_count": null,
   "metadata": {},
   "outputs": [],
   "source": []
  },
  {
   "cell_type": "code",
   "execution_count": 94,
   "metadata": {},
   "outputs": [
    {
     "data": {
      "image/png": "[encoded data removed]",
      "text/latex": [
       "$$\\left [ 10, \\quad -3.0, \\quad 8.0\\right ]$$"
      ],
      "text/plain": [
       "[10, -3.0, 8.0]"
      ]
     },
     "execution_count": 94,
     "metadata": {},
     "output_type": "execute_result"
    }
   ],
   "source": [
    "L.dot([10, 7.0 , -2.0])"
   ]
  },
  {
   "cell_type": "markdown",
   "metadata": {},
   "source": [
    "### Using Numpy\n",
    "\n",
    "\n"
   ]
  },
  {
   "cell_type": "code",
   "execution_count": null,
   "metadata": {
    "collapsed": true
   },
   "outputs": [],
   "source": []
  },
  {
   "cell_type": "code",
   "execution_count": 95,
   "metadata": {},
   "outputs": [],
   "source": [
    "\"\"\"\n",
    "Solve a linear equation by LU-decomposition\n",
    "Comes from LU decomposition of a matrix A s.t. A = LU\n",
    "Then\n",
    "LUx = b => Ux = y => Ly = b\n",
    "\"\"\"\n",
    "p, l, u = lu(A)"
   ]
  },
  {
   "cell_type": "code",
   "execution_count": 96,
   "metadata": {},
   "outputs": [
    {
     "data": {
      "text/plain": [
       "array([[ 1.,  0.,  0.],\n",
       "       [ 0.,  0.,  1.],\n",
       "       [ 0.,  1.,  0.]])"
      ]
     },
     "execution_count": 96,
     "metadata": {},
     "output_type": "execute_result"
    }
   ],
   "source": [
    "p\n"
   ]
  },
  {
   "cell_type": "code",
   "execution_count": 97,
   "metadata": {},
   "outputs": [
    {
     "data": {
      "text/plain": [
       "array([[-3.,  2.,  3.],\n",
       "       [ 3.,  0.,  0.],\n",
       "       [-3.,  2.,  1.]])"
      ]
     },
     "execution_count": 97,
     "metadata": {},
     "output_type": "execute_result"
    }
   ],
   "source": [
    "l@u"
   ]
  },
  {
   "cell_type": "code",
   "execution_count": 98,
   "metadata": {},
   "outputs": [
    {
     "data": {
      "text/plain": [
       "array([[-3.,  2.,  3.],\n",
       "       [-3.,  2.,  1.],\n",
       "       [ 3.,  0.,  0.]])"
      ]
     },
     "execution_count": 98,
     "metadata": {},
     "output_type": "execute_result"
    }
   ],
   "source": [
    "p@l@u"
   ]
  },
  {
   "cell_type": "markdown",
   "metadata": {},
   "source": [
    "Lower triangle matrix"
   ]
  },
  {
   "cell_type": "code",
   "execution_count": 99,
   "metadata": {},
   "outputs": [
    {
     "data": {
      "text/plain": [
       "array([[ 1.,  0.,  0.],\n",
       "       [-1.,  1.,  0.],\n",
       "       [ 1.,  0.,  1.]])"
      ]
     },
     "execution_count": 99,
     "metadata": {},
     "output_type": "execute_result"
    }
   ],
   "source": [
    "l"
   ]
  },
  {
   "cell_type": "code",
   "execution_count": 100,
   "metadata": {},
   "outputs": [
    {
     "data": {
      "text/plain": [
       "array([[ 1.,  0.,  0.],\n",
       "       [ 1.,  0.,  1.],\n",
       "       [-1.,  1.,  0.]])"
      ]
     },
     "execution_count": 100,
     "metadata": {},
     "output_type": "execute_result"
    }
   ],
   "source": [
    "p@l"
   ]
  },
  {
   "cell_type": "code",
   "execution_count": 101,
   "metadata": {},
   "outputs": [
    {
     "data": {
      "text/plain": [
       "array([ 10.,   8.,  -3.])"
      ]
     },
     "execution_count": 101,
     "metadata": {},
     "output_type": "execute_result"
    }
   ],
   "source": [
    "b=p@l.dot([10, 7, -2])\n",
    "b"
   ]
  },
  {
   "cell_type": "markdown",
   "metadata": {},
   "source": [
    "Forward solving"
   ]
  },
  {
   "cell_type": "code",
   "execution_count": 102,
   "metadata": {},
   "outputs": [
    {
     "data": {
      "text/plain": [
       "array([ 10.,   7.,  -2.])"
      ]
     },
     "execution_count": 102,
     "metadata": {},
     "output_type": "execute_result"
    }
   ],
   "source": [
    "y = np.linalg.solve(p@l, b)\n",
    "y   "
   ]
  },
  {
   "cell_type": "markdown",
   "metadata": {},
   "source": [
    "Upper triangle matrix"
   ]
  },
  {
   "cell_type": "markdown",
   "metadata": {},
   "source": [
    "Backward solving"
   ]
  },
  {
   "cell_type": "code",
   "execution_count": 103,
   "metadata": {},
   "outputs": [
    {
     "data": {
      "text/plain": [
       "array([-1.,  2.,  1.])"
      ]
     },
     "execution_count": 103,
     "metadata": {},
     "output_type": "execute_result"
    }
   ],
   "source": [
    "x = np.linalg.solve(u, y)\n",
    "x   "
   ]
  },
  {
   "cell_type": "code",
   "execution_count": 104,
   "metadata": {},
   "outputs": [
    {
     "name": "stdout",
     "output_type": "stream",
     "text": [
      "Left hand side of linear system, matrix A:\n",
      " [[ 54  14 -11   2]\n",
      " [ 14  50  -4  29]\n",
      " [-11  -4  55  22]\n",
      " [  2  29  22  95]]\n",
      "perm matrix:\n",
      " [[ 1.  0.  0.  0.]\n",
      " [ 0.  1.  0.  0.]\n",
      " [ 0.  0.  1.  0.]\n",
      " [ 0.  0.  0.  1.]]\n",
      "Lower matrix:\n",
      " [[ 1.          0.          0.          0.        ]\n",
      " [ 0.25925926  1.          0.          0.        ]\n",
      " [-0.2037037  -0.02476038  1.          0.        ]\n",
      " [ 0.03703704  0.61421725  0.43831321  1.        ]]\n",
      "Upper matrix\n",
      " [[ 54.          14.         -11.           2.        ]\n",
      " [  0.          46.37037037  -1.14814815  28.48148148]\n",
      " [  0.           0.          52.73083067  23.11261981]\n",
      " [  0.           0.           0.          67.30154198]]\n",
      "Right hand side of linear equation system:\n",
      " [1 1 1 1]\n",
      "Intermedia output matrix y:\n",
      " [ 1.          0.74074074  1.22204473 -0.02765113]\n",
      "Solution x:\n",
      " [ 0.01893441  0.01680508  0.02335523 -0.00041085]\n"
     ]
    }
   ],
   "source": [
    "## Other example\n",
    "\n",
    "A = np.array([[54, 14, -11, 2],\n",
    "               [14, 50, -4, 29],\n",
    "               [-11, -4, 55, 22],\n",
    "               [2, 29, 22, 95]])\n",
    "print(\"Left hand side of linear system, matrix A:\\n\", A)\n",
    "b = np.array([1, 1, 1, 1])\n",
    "x0 = [1, 1, 1,1]\n",
    "\n",
    "n = 20\n",
    "\n",
    "p, l, u = lu(A)\n",
    "\n",
    "print(\"perm matrix:\\n\",p)\n",
    "\n",
    "print(\"Lower matrix:\\n\",l)\n",
    "\n",
    "print(\"Upper matrix\\n\",u)\n",
    "\n",
    "print(\"Right hand side of linear equation system:\\n\",b)\n",
    "\n",
    "y = np.linalg.solve(l, b)\n",
    "\n",
    "print(\"Intermedia output matrix y:\\n\",y)    \n",
    "\n",
    "\n",
    "x = np.linalg.solve(u, y)\n",
    "print(\"Solution x:\\n\",x)"
   ]
  },
  {
   "cell_type": "code",
   "execution_count": null,
   "metadata": {
    "collapsed": true
   },
   "outputs": [],
   "source": []
  },
  {
   "cell_type": "code",
   "execution_count": null,
   "metadata": {},
   "outputs": [],
   "source": []
  },
  {
   "cell_type": "markdown",
   "metadata": {},
   "source": [
    "## 2.2 Gaussian Elimination\n",
    "\n",
    "The L-U factors of a matrix A are computed using Gaussian elimination. Gaussian\n",
    "elimination is based on two elementary row operations: subtracting a constant multiple\n",
    "of one row of a linear equation from another row, and interchanging two rows of\n",
    "a linear equation. Either operation may be performed on a linear equation without\n",
    "altering its solution.\n",
    "\n",
    "The Gaussian elimination algorithm begins with matrices L and U initialized as\n",
    "L = I and U = A, where I is the identity matrix. The algorithm then uses elementary\n",
    "row operations to transform U into an upper triangular matrix, while preserving the\n",
    "permuted lower diagonality of L and the factorization A = LU:\n",
    "\n",
    "\n"
   ]
  },
  {
   "cell_type": "code",
   "execution_count": null,
   "metadata": {
    "collapsed": true
   },
   "outputs": [],
   "source": []
  },
  {
   "cell_type": "markdown",
   "metadata": {},
   "source": [
    "## 2.3 Rounding Error\n",
    "\n",
    "\n",
    "In practice, Gaussian elimination performed on a computer can sometimes render\n",
    "inaccurate solutions due to rounding errors. The e\u000b",
    "ects of rounding errors, however,\n",
    "can often be controlled by pivoting.\n",
    "\n",
    "\n"
   ]
  },
  {
   "cell_type": "code",
   "execution_count": null,
   "metadata": {
    "collapsed": true
   },
   "outputs": [],
   "source": []
  },
  {
   "cell_type": "markdown",
   "metadata": {},
   "source": [
    "## 2.4 Ill Conditioning\n",
    "\n",
    "\n",
    "Pivoting cannot cure all the problems caused by rounding error. Some linear equations\n",
    "are inherently diÆcult to solve accurately on a computer, despite pivoting. This\n",
    "occurs when the A matrix is structured in such a way that a small perturbation Æb\n",
    "in the data vector b induces a large change Æx in the solution vector x. In such cases\n",
    "the linear equation or, more generally, the A matrix are said to be **ill-conditioned**.\n",
    "\n"
   ]
  },
  {
   "cell_type": "code",
   "execution_count": null,
   "metadata": {
    "collapsed": true
   },
   "outputs": [],
   "source": []
  },
  {
   "cell_type": "markdown",
   "metadata": {},
   "source": [
    "## 2.5 Special Linear Equations\n",
    "\n",
    "Gaussian elimination can be accelerated for matrices possessing certain special structures.\n",
    "Two such classes arising frequently in computational economic analysis are\n",
    "**symmetric positive deffinite matrices and sparse matrices**.\n",
    "\n",
    "\n"
   ]
  },
  {
   "cell_type": "code",
   "execution_count": null,
   "metadata": {
    "collapsed": true
   },
   "outputs": [],
   "source": []
  },
  {
   "cell_type": "markdown",
   "metadata": {},
   "source": [
    "### Cholesky factorization algorithm\n",
    "\n",
    "\n",
    "\n",
    "A special form\n",
    "of Gaussian elimination, the Cholesky factorization algorithm, may be applied to\n",
    "such linear equations. Cholesky factorization requires only half as many operations\n",
    "as general Gaussian elimination and has the added advantage that it is less vulnerable\n",
    "to rounding error and does not require pivoting.\n",
    "The essential idea underlying Cholesky factorization is that any symmetric positive\n",
    "deffinite matrix A can be uniquely expressed as the product\n",
    "\n",
    "\n",
    "\n",
    "$$\\mathbf {A=U^T U}$$"
   ]
  },
  {
   "cell_type": "markdown",
   "metadata": {},
   "source": [
    "\n",
    "$${\\displaystyle {\\begin{aligned}\\left({\\begin{array}{*{3}{r}}4&12&-16\\\\12&37&-43\\\\-16&-43&98\\\\\\end{array}}\\right)=\\left({\\begin{array}{*{3}{r}}2&0&0\\\\6&1&0\\\\-8&5&3\\\\\\end{array}}\\right)\\left({\\begin{array}{*{3}{r}}2&6&-8\\\\0&1&5\\\\0&0&3\\\\\\end{array}}\\right)\\end{aligned}}}$$\n"
   ]
  },
  {
   "cell_type": "markdown",
   "metadata": {},
   "source": [
    "\n",
    "\n",
    "\n",
    "$$\\mathbf {A s=U^T U x = U^T (U x)     = b}$$\n",
    "\n",
    "\n",
    "may be solved eÆciently by using forward substitution to solve\n",
    "\n",
    "$$\\mathbf { U^T y = b}$$\n",
    "\n",
    "and then using backward substitution to solve\n",
    "\n",
    "$$\\mathbf { U x = y}$$"
   ]
  },
  {
   "cell_type": "code",
   "execution_count": null,
   "metadata": {
    "collapsed": true
   },
   "outputs": [],
   "source": []
  },
  {
   "cell_type": "markdown",
   "metadata": {},
   "source": [
    "\n",
    "https://en.wikipedia.org/wiki/Cholesky_decomposition\n",
    "In linear algebra, the Cholesky decomposition or Cholesky factorization is a decomposition of a Hermitian, positive-definite matrix into the product of a lower triangular matrix and its conjugate transpose, which is useful e.g. for efficient numerical solutions and Monte Carlo simulations. It was discovered by André-Louis Cholesky for real matrices. When it is applicable, the Cholesky decomposition is roughly twice as efficient as the LU decomposition for solving systems of linear equations.\n"
   ]
  },
  {
   "cell_type": "markdown",
   "metadata": {
    "collapsed": true
   },
   "source": [
    "## 2.6 Iterative Methods\n",
    "\n",
    "\n",
    "Algorithms based on Gaussian elimination are called **exact** or, more properly, **direct**\n",
    "methods because they would generate exact solutions for the linear equation $Ax = b$\n",
    "after a finite number of operations, if not for rounding error. Such methods are ideal\n",
    "for moderately-sized linear equations, but may be impractical for large ones. Other\n",
    "methods, called **iterative methods** can often be used to solve large linear equations\n",
    "more efficiently if the A matrix is sparse, that is, if $A$ is composed mostly of zero\n",
    "entries. Iterative methods are designed to generate a sequence of increasingly accurate\n",
    "approximations to the solution of a linear equation, but generally do not yield an exact\n",
    "solution after a prescribed number of steps, even in theory.\n",
    "\n"
   ]
  },
  {
   "cell_type": "markdown",
   "metadata": {},
   "source": [
    "The most widely-used iterative methods for solving a linear equation $Ax = b$ are\n",
    "developed by choosing an easily invertible matrix $Q$ and writing the linear equation\n",
    "in the equivalent form\n",
    "\n",
    "$$Q x = b + (Q - A)x$$\n",
    "\n",
    "or\n",
    "\n",
    "$$x = Q^{-1}b + (I - Q^{-1}A)x.$$\n",
    "\n",
    "This form of the linear equation suggests the iteration rule\n",
    "\n",
    "\n",
    "\n",
    "$$x^{(k+1)} \\leftarrow   Q^{-1}b + (I - Q^{-1}A)x^{(k)}$$"
   ]
  },
  {
   "cell_type": "markdown",
   "metadata": {},
   "source": [
    "Ideally, the so-called splitting matrix Q will satisfy two criteria. First, $Q^{-1}b$ and\n",
    "$Q^{-1}A$ should be relatively easy to compute. This is true if Q is either diagonal or\n",
    "triangular. Second, the iterates should converge quickly to the true solution of the\n",
    "linear equation. If\n",
    "\n",
    "$$||I - Q^{-1}A|| < 1$$\n",
    "\n",
    "in any matrix norm, then the iteration rule is a contraction mapping and is guaranteed\n",
    "to converge to the solution of the linear equation from any initial value."
   ]
  },
  {
   "cell_type": "code",
   "execution_count": null,
   "metadata": {
    "collapsed": true
   },
   "outputs": [],
   "source": []
  },
  {
   "cell_type": "code",
   "execution_count": null,
   "metadata": {
    "collapsed": true
   },
   "outputs": [],
   "source": []
  },
  {
   "cell_type": "markdown",
   "metadata": {},
   "source": [
    "\n",
    "The two most popular iterative methods are the **Gauss-Jacobi** and **Gauss-Seidel**\n",
    "methods. \n",
    "\n",
    " - The Gauss-Jacobi method sets $Q$ equal to the diagonal matrix formed from the diagonal entries of A. \n",
    "\n",
    "\n",
    " - The Gauss-Seidel method sets $Q$ equal to the upper triangular matrix formed from the upper triagonal elements of A.\n",
    "\n"
   ]
  },
  {
   "cell_type": "markdown",
   "metadata": {},
   "source": [
    "### Jacobi-Method\n",
    "\n",
    "Here, the user specifies the data A and b and an initial guess $x$ for the solution of\n",
    "the linear equation, typically the zero vector or $b$. Iteration continues until the norm\n",
    "of the change dx in the iterate falls below the specified convergence tolerance tol or\n",
    "until a specified maximum number of allowable iterations maxit are performed."
   ]
  },
  {
   "cell_type": "code",
   "execution_count": 105,
   "metadata": {},
   "outputs": [
    {
     "name": "stdout",
     "output_type": "stream",
     "text": [
      "x:\n",
      " [ 0.01892514  0.01678369  0.02335003 -0.00042463]\n"
     ]
    }
   ],
   "source": [
    "#p17\n",
    "\n",
    "maxit = 1000\n",
    "tol = 1/10000 \n",
    "x0 = np.array([1,1,1,1])\n",
    "x0= b\n",
    "\n",
    "d = np.diag(np.diag(A))\n",
    "x = x0\n",
    "for it in np.arange(maxit):\n",
    "    dx =  inv(d).dot(b - A.dot(x))\n",
    "    x = x + dx\n",
    "    if np.linalg.norm(dx)<tol:\n",
    "        break\n",
    "\n",
    "print(\"x:\\n\", x)        "
   ]
  },
  {
   "cell_type": "code",
   "execution_count": 106,
   "metadata": {},
   "outputs": [],
   "source": [
    "def gjacobi(A, b, maxit=1000,tol = 1/1000, x0=None):\n",
    "    \"\"\"\n",
    "    Solve a linear equation by the gauss jacobi iteration outlined in the book.\n",
    "    Follows the eq:\n",
    "        x = inv(D)(b - Rx)\n",
    "    Where D is the diagonal matrix of A and R is the remainder s.t D + R = A\n",
    "    \"\"\"\n",
    "    # If we have not provided an initial array for x make a new one\n",
    "    if x0==None:\n",
    "        x = array([1 for _ in range(A.shape[1])])\n",
    "    else:\n",
    "        x = x0\n",
    "    d = np.diag(np.diag(A))\n",
    "    \n",
    "    for it in np.arange(maxit):\n",
    "        dx =  inv(d).dot(b - A.dot(x))\n",
    "        x = x + dx\n",
    "        if np.linalg.norm(dx)<tol:\n",
    "            break\n",
    "\n",
    "    print(\"x:\\n\", x)  "
   ]
  },
  {
   "cell_type": "code",
   "execution_count": 107,
   "metadata": {},
   "outputs": [
    {
     "name": "stdout",
     "output_type": "stream",
     "text": [
      "x:\n",
      " [ 0.01892514  0.01678369  0.02335003 -0.00042463]\n"
     ]
    }
   ],
   "source": [
    "gjacobi(A, b, maxit,tol, x0=None)"
   ]
  },
  {
   "cell_type": "markdown",
   "metadata": {},
   "source": [
    "### Jacobi-Method-1\n",
    "\n",
    "\n",
    "The Jacobi method is a matrix iterative method used to solve the equation $Ax=b$ for a known square matrix A of size n×n and known vector b or length n.\n",
    "\n",
    "$$\\begin{eqnarray*}\n",
    "Ax = b\n",
    "\\end{eqnarray*}$$\n",
    "\n",
    "A is split into the sum of two separate matrices, $D$ and $R$, such that $A=D+R$. $D_{ii}=A_{ii}$, but $D_{ij}=0$, for $i≠j$. $R$ is essentially the opposite. $R_{ii}=0$, but $R-{ij}=A_{ij}$ for $i≠j$. The solution to the equation, i.e. the value of $x$\n",
    "\n",
    ", is given by the following iterative equation:\n",
    "\n",
    "$$\\begin{eqnarray*}\n",
    "x^{(k+1)} = D^{-1}(b-Rx^{(k)}).\n",
    "\\end{eqnarray*}$$\n",
    "\n",
    "\n",
    "\n",
    "\n",
    "\n",
    "https://www.quantstart.com/articles/Jacobi-Method-in-Python-and-NumPy\n",
    "\n",
    "\n",
    "\n",
    "\n",
    "\n"
   ]
  },
  {
   "cell_type": "code",
   "execution_count": 108,
   "metadata": {},
   "outputs": [],
   "source": [
    "def gauss_jacobi(A, b, maxit, x0=None):\n",
    "    \"\"\"\n",
    "    Solve a linear equation by the gauss jacobi iteration outlined in the book.\n",
    "    Follows the eq:\n",
    "        x = inv(D)(b - Rx)\n",
    "    Where D is the diagonal matrix of A and R is the remainder s.t D + R = A\n",
    "    \"\"\"\n",
    "    D = np.diag(np.diag(A))\n",
    "    # Calculate the remainder matrix\n",
    "    R = A - D\n",
    "    # If we have not provided an initial array for x make a new one\n",
    "    if x0==None:\n",
    "        x = array([1 for _ in range(A.shape[1])])\n",
    "    else:\n",
    "        x = x0\n",
    "    for _ in range(maxit):\n",
    "        x = inv(d).dot(b - R.dot(x))\n",
    "    return x\n"
   ]
  },
  {
   "cell_type": "code",
   "execution_count": 109,
   "metadata": {
    "scrolled": true
   },
   "outputs": [
    {
     "name": "stderr",
     "output_type": "stream",
     "text": [
      "/opt/conda/lib/python3.5/site-packages/ipykernel/__main__.py:12: FutureWarning: comparison to `None` will result in an elementwise object comparison in the future.\n"
     ]
    },
    {
     "data": {
      "text/plain": [
       "array([ 0.01893441,  0.01680508,  0.02335523, -0.00041085])"
      ]
     },
     "execution_count": 109,
     "metadata": {},
     "output_type": "execute_result"
    }
   ],
   "source": [
    "gauss_jacobi(A, b, maxit, x0)"
   ]
  },
  {
   "cell_type": "markdown",
   "metadata": {},
   "source": [
    "Check result with direct method"
   ]
  },
  {
   "cell_type": "code",
   "execution_count": 110,
   "metadata": {},
   "outputs": [
    {
     "data": {
      "text/plain": [
       "array([ 0.01893441,  0.01680508,  0.02335523, -0.00041085])"
      ]
     },
     "execution_count": 110,
     "metadata": {},
     "output_type": "execute_result"
    }
   ],
   "source": [
    "np.linalg.solve(A,b)"
   ]
  },
  {
   "cell_type": "markdown",
   "metadata": {
    "collapsed": true
   },
   "source": [
    "\n",
    "### gauss seidel method\n",
    "\n",
    "\n",
    "https://docs.scipy.org/doc/numpy-dev/user/numpy-for-matlab-users.html"
   ]
  },
  {
   "cell_type": "code",
   "execution_count": 111,
   "metadata": {},
   "outputs": [],
   "source": [
    "A = np.array([[3, 1],\n",
    "               [2, 5]])\n",
    "b = np.array([7 , 9])"
   ]
  },
  {
   "cell_type": "code",
   "execution_count": null,
   "metadata": {},
   "outputs": [],
   "source": []
  },
  {
   "cell_type": "code",
   "execution_count": 112,
   "metadata": {},
   "outputs": [
    {
     "name": "stdout",
     "output_type": "stream",
     "text": [
      "x:\n",
      " [ 1.99995232  1.        ]\n"
     ]
    }
   ],
   "source": [
    "Q = np.tril(A)\n",
    "\n",
    "x=b\n",
    "lamb = 1.5\n",
    "\n",
    "for it in np.arange(maxit):\n",
    "    dx = np.linalg.inv(Q).dot(b -A.dot(x))\n",
    "    x = x + lamb*dx\n",
    "    if np.linalg.norm(dx)<tol:\n",
    "        break\n",
    "print(\"x:\\n\", x)     "
   ]
  },
  {
   "cell_type": "code",
   "execution_count": 113,
   "metadata": {},
   "outputs": [
    {
     "name": "stdout",
     "output_type": "stream",
     "text": [
      "x:\n",
      " [ 2.  1.]\n"
     ]
    },
    {
     "data": {
      "text/plain": [
       "array([ 2.,  1.])"
      ]
     },
     "execution_count": 113,
     "metadata": {},
     "output_type": "execute_result"
    }
   ],
   "source": [
    "\n",
    "def gseidel(A, b, maxit=1000, tol=1/1000,lamb =1, x0=None):\n",
    "    \"\"\"\n",
    "    Solve a linear equation by the gauss seidel iteration outlined in the book\n",
    "    Follows the eq:\n",
    "        \n",
    "    \"\"\"\n",
    "    Q = np.tril(A)\n",
    "    # If we have not provided an initial array for x make a new one\n",
    "    if x0 == None:\n",
    "        x = array([1 for _ in range(A.shape[1])])\n",
    "    else:\n",
    "        x = x0\n",
    "    for it in np.arange(maxit):\n",
    "        dx = np.linalg.inv(Q).dot(b -A.dot(x))\n",
    "        x = x + lamb*dx\n",
    "        if np.linalg.norm(dx)<tol:\n",
    "            break\n",
    "    print(\"x:\\n\", x) \n",
    "    return x\n",
    "\n",
    "gseidel(A,b)"
   ]
  },
  {
   "cell_type": "markdown",
   "metadata": {},
   "source": [
    "Here, we have incorporated a so-called over-relaxation parameter, lambda. Instead of using $x + dx$, we use $x + lamb*x$ to compute the next iterate.\n",
    "\n",
    "\n",
    "a value of lambda between 1 and 2 will accelerate convergence of the Gauss-Seidel algorithm."
   ]
  },
  {
   "cell_type": "code",
   "execution_count": null,
   "metadata": {
    "collapsed": true
   },
   "outputs": [],
   "source": []
  },
  {
   "cell_type": "markdown",
   "metadata": {},
   "source": [
    "### gauss seidel method\n",
    "\n",
    "\n",
    "\n",
    "\n",
    "\n",
    "\n",
    "http://austingwalters.com/gauss-seidel-method/\n",
    "\n",
    "\n",
    "\n",
    "\n",
    "Using the Gauss-Seidel Method\n",
    "\n",
    "The method is fairly straight forward, given a standard system of linear equations, Ax = b. Where, A is a matrix (often representing a series of equations), x is a vector of x variables (Gauss-Seidel method is used to solve this vector) and b is the solution vector. In Gauss-Seidel method, we then split the A matrix into Upper (U) and Lower (L) matrices (the lower matrix in this case also contains the diagonal), then iterate using the following method:\n",
    "\n",
    "\n",
    "\n",
    "![](http://108.61.119.12/wp-content/uploads/2014/05/gauss-equation.png)\n"
   ]
  },
  {
   "cell_type": "code",
   "execution_count": 114,
   "metadata": {},
   "outputs": [
    {
     "data": {
      "text/plain": [
       "array([ 2.,  1.])"
      ]
     },
     "execution_count": 114,
     "metadata": {},
     "output_type": "execute_result"
    }
   ],
   "source": [
    "\"\"\"\n",
    "author:  hahnicity\n",
    "https://github.com/hahnicity/ace/blob/master/ace/solvers.py\n",
    "Solve a simple linear equation Ax = b in a particular way\n",
    "\"\"\"\n",
    "\n",
    "\n",
    "def gauss_seidel(A, b, maxit=1000, x0=None):\n",
    "    \"\"\"\n",
    "    Solve a linear equation by the gauss seidel iteration outlined in the book\n",
    "    Follows the eq:\n",
    "        x = inv(L)*(b - U*x)\n",
    "    \"\"\"\n",
    "    l = tril(A)\n",
    "    upper_plus_diagonal = triu(A)\n",
    "    u = upper_plus_diagonal - np.diag(np.diag(A))\n",
    "    # If we have not provided an initial array for x make a new one\n",
    "    if x0 == None:\n",
    "        x = array([1 for _ in range(A.shape[1])])\n",
    "    else:\n",
    "        x = x0\n",
    "\n",
    "    for _ in np.arange(maxit):\n",
    "        x = inv(l).dot(b - u.dot(x))\n",
    "    return x\n",
    "\n",
    "\n",
    "\n",
    "\n",
    "gauss_seidel(A, b)\n",
    "\n",
    "\n"
   ]
  },
  {
   "cell_type": "markdown",
   "metadata": {},
   "source": [
    "The following script solves a linear equation using Gauss-Seidel\n",
    "iteration with default value of 1 for the over-relaxation parameter:"
   ]
  },
  {
   "cell_type": "code",
   "execution_count": 115,
   "metadata": {},
   "outputs": [
    {
     "name": "stdout",
     "output_type": "stream",
     "text": [
      "x:\n",
      " [ 2.  1.]\n"
     ]
    }
   ],
   "source": [
    "A = np.array([[3, 1],\n",
    "               [2, 5]])\n",
    "b = np.array([7 , 9])\n",
    "x = gauss_seidel(A,b,maxit)\n",
    "print(\"x:\\n\",x)"
   ]
  },
  {
   "cell_type": "markdown",
   "metadata": {},
   "source": [
    "When A=[3 2; 4 1], however,\n",
    "the algorithm diverges."
   ]
  },
  {
   "cell_type": "code",
   "execution_count": 116,
   "metadata": {},
   "outputs": [
    {
     "name": "stdout",
     "output_type": "stream",
     "text": [
      "x:\n",
      " [ nan  nan]\n"
     ]
    }
   ],
   "source": [
    "A = np.array([[3, 2],\n",
    "               [4, 1]])\n",
    "b = np.array([7 , 9])\n",
    "x = gauss_seidel(A,b,maxit)\n",
    "print(\"x:\\n\",x)"
   ]
  },
  {
   "cell_type": "markdown",
   "metadata": {
    "collapsed": true
   },
   "source": [
    "A general rule of thumb is that if A is large and sparse, then the linear equation is\n",
    "a good candidate for iterative methods, provided that sparse matrix storage functions\n",
    "are used to reduce storage requirements and computational effort. Iterative methods,\n",
    "however, have some drawbacks. First, iterative methods, in contrast to direct\n",
    "methods, can fail to converge. Furthermore, it is often difficult or computationally\n",
    "costly to check whether a specific problem falls into a class of problems known to\n",
    "be convergent. It is therefore always a good idea to monitor whether the iterations\n",
    "seem to be diverging and try something else if they are. Second, satisfaction of the\n",
    "termination criteria do not necessarily guarantee a similar level of accuracy in the\n",
    "solution, as measured as the deviation of the approximate solution from the true (but\n",
    "unknown) solution."
   ]
  },
  {
   "cell_type": "code",
   "execution_count": null,
   "metadata": {
    "collapsed": true
   },
   "outputs": [],
   "source": []
  },
  {
   "cell_type": "code",
   "execution_count": null,
   "metadata": {
    "collapsed": true
   },
   "outputs": [],
   "source": []
  },
  {
   "cell_type": "code",
   "execution_count": null,
   "metadata": {
    "collapsed": true
   },
   "outputs": [],
   "source": []
  },
  {
   "cell_type": "code",
   "execution_count": null,
   "metadata": {
    "collapsed": true
   },
   "outputs": [],
   "source": []
  },
  {
   "cell_type": "code",
   "execution_count": null,
   "metadata": {
    "collapsed": true
   },
   "outputs": [],
   "source": []
  },
  {
   "cell_type": "code",
   "execution_count": null,
   "metadata": {},
   "outputs": [],
   "source": []
  },
  {
   "cell_type": "code",
   "execution_count": null,
   "metadata": {},
   "outputs": [],
   "source": []
  },
  {
   "cell_type": "code",
   "execution_count": null,
   "metadata": {
    "collapsed": true
   },
   "outputs": [],
   "source": []
  },
  {
   "cell_type": "code",
   "execution_count": null,
   "metadata": {
    "collapsed": true
   },
   "outputs": [],
   "source": []
  },
  {
   "cell_type": "markdown",
   "metadata": {},
   "source": [
    "\n",
    "## 2.1 Computer Arithmetic\n",
    "\n",
    "Some knowledge of how computers perform numerical computations and how programming\n",
    "languages work is useful in applied numerical work, especially if one is to\n",
    "write efficient programs and avoid errors. It often comes as an unpleasant surprise to\n",
    "many people to learn that exact arithmetic and computer arithmetic do not always\n",
    "give the same answers, even in programs without programming errors.\n",
    "\n",
    "Typically, computer languages such as Fortran and C allow several ways of representing\n",
    "a number.\n",
    "\n",
    "The exact details of the representation depends on the hardware but it will\n",
    "suffice for our purposes to suppose that floating point numbers are stored in the form\n",
    "$m2^e$, where m and e are integers with $-2^b <= m <2^b$ and $-2^d <= e < 2^d$.\n",
    "\n",
    "The obvious way of computing this term will result in loss of precision.\n",
    "\n",
    "These arise not only from overflow but from division by 0.\n",
    "\n",
    "In addition,floating point numbers may get set to $NaN$, which stands for not-anumber.\n",
    "\n",
    "Roundoff error is only one of the pitfalls in evaluating mathematical expressions.\n",
    "In numerical computations, error is also introduced by the computer's inherent inability\n",
    "to evaluate certain mathematical expressions exactly. For all its power, a computer\n",
    "can only perform a limited set of operations in evaluating expressions. Essentially this\n",
    "list includes the four arithmetic operations of addition, subtraction, multiplication\n",
    "and division, as well as logical operations of comparison.\n",
    "\n",
    "Other common functions,such as exponential, logarithmic, and trigonometric functions cannot be evaluated directly using computer arithmetic. They can only be evaluated approximately using algorithms based on the four basic arithmetic operations.\n",
    "\n",
    "For the common functions very efficient algorithms typically exist and these are\n",
    "sometimes \"hardwired\" into the computer's processor or coprocessor. An important\n",
    "area of numerical analysis involves determining efficient approximations that can be\n",
    "computed using basic arithmetic operations.\n",
    "\n",
    "\n",
    "\n",
    "$$exp(x) = \\sum^{inf}_{i=0} x^{n}/n!$$\n",
    "\n",
    "Obviously one cannot compute the infinite sum, but one could compute a finite number\n",
    "of these terms, with the hope that one will obtain sufficient accuracy for the\n",
    "purpose at hand. The result, however, will always be inexact."
   ]
  },
  {
   "cell_type": "code",
   "execution_count": null,
   "metadata": {
    "collapsed": true
   },
   "outputs": [],
   "source": []
  },
  {
   "cell_type": "markdown",
   "metadata": {
    "collapsed": true
   },
   "source": [
    "##  Bibliographic Notes\n",
    "\n",
    "\n"
   ]
  },
  {
   "cell_type": "code",
   "execution_count": null,
   "metadata": {
    "collapsed": true
   },
   "outputs": [],
   "source": []
  },
  {
   "cell_type": "code",
   "execution_count": null,
   "metadata": {},
   "outputs": [],
   "source": []
  },
  {
   "cell_type": "code",
   "execution_count": null,
   "metadata": {},
   "outputs": [],
   "source": []
  },
  {
   "cell_type": "code",
   "execution_count": null,
   "metadata": {
    "collapsed": true
   },
   "outputs": [],
   "source": []
  },
  {
   "cell_type": "markdown",
   "metadata": {},
   "source": [
    "https://github.com/mmcky/nyu-econ-370/blob/master/notebooks/notes-linear-algebra.ipynb\n",
    "\n"
   ]
  },
  {
   "cell_type": "markdown",
   "metadata": {},
   "source": [
    "\n",
    "\n",
    "\n",
    "https://www3.nd.edu/~zxu2/acms40390F12/Lec-7.3.pdf\n",
    "\n",
    "http://austingwalters.com/gauss-seidel-method/\n",
    "\n",
    "\n",
    "https://stackoverflow.com/questions/17580666/improving-numpy-speed-for-gauss-seidel-jacobi-solver"
   ]
  }
 ],
 "metadata": {
  "kernelspec": {
   "display_name": "Python 3",
   "language": "python",
   "name": "python3"
  },
  "language_info": {
   "codemirror_mode": {
    "name": "ipython",
    "version": 3
   },
   "file_extension": ".py",
   "mimetype": "text/x-python",
   "name": "python",
   "nbconvert_exporter": "python",
   "pygments_lexer": "ipython3",
   "version": "3.6.3"
  }
 },
 "nbformat": 4,
 "nbformat_minor": 1
}
