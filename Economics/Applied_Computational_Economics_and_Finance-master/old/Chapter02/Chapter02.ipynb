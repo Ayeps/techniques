{
 "cells": [
  {
   "cell_type": "markdown",
   "metadata": {},
   "source": [
    "# 2 Linear Equations and Computer Basics"
   ]
  },
  {
   "cell_type": "code",
   "execution_count": null,
   "metadata": {
    "collapsed": true
   },
   "outputs": [],
   "source": []
  },
  {
   "cell_type": "markdown",
   "metadata": {},
   "source": [
    "\n",
    "\n",
    "\n",
    "## 2.1 Computer Arithmetic\n",
    "\n",
    "Some knowledge of how computers perform numerical computations and how programming\n",
    "languages work is useful in applied numerical work, especially if one is to\n",
    "write efficient programs and avoid errors. It often comes as an unpleasant surprise to\n",
    "many people to learn that exact arithmetic and computer arithmetic do not always\n",
    "give the same answers, even in programs without programming errors.\n",
    "\n",
    "Typically, computer languages such as Fortran and C allow several ways of representing\n",
    "a number.\n",
    "\n",
    "The exact details of the representation depends on the hardware but it will\n",
    "suffice for our purposes to suppose that floating point numbers are stored in the form\n",
    "$m2^e$, where m and e are integers with $-2^b <= m <2^b$ and $-2^d <= e < 2^d$.\n",
    "\n",
    "The obvious way of computing this term will result in loss of precision.\n",
    "\n",
    "These arise not only from overflow but from division by 0.\n",
    "\n",
    "In addition,floating point numbers may get set to $NaN$, which stands for not-anumber.\n",
    "\n",
    "Roundoff error is only one of the pitfalls in evaluating mathematical expressions.\n",
    "In numerical computations, error is also introduced by the computer's inherent inability\n",
    "to evaluate certain mathematical expressions exactly. For all its power, a computer\n",
    "can only perform a limited set of operations in evaluating expressions. Essentially this\n",
    "list includes the four arithmetic operations of addition, subtraction, multiplication\n",
    "and division, as well as logical operations of comparison.\n",
    "\n",
    "Other common functions,such as exponential, logarithmic, and trigonometric functions cannot be evaluated directly using computer arithmetic. They can only be evaluated approximately using algorithms based on the four basic arithmetic operations.\n",
    "\n",
    "For the common functions very efficient algorithms typically exist and these are\n",
    "sometimes \"hardwired\" into the computer's processor or coprocessor. An important\n",
    "area of numerical analysis involves determining efficient approximations that can be\n",
    "computed using basic arithmetic operations.\n",
    "\n",
    "\n",
    "\n",
    "$$exp(x) = \\sum^{inf}_{i=0} x^{n}/n!$$\n",
    "\n",
    "Obviously one cannot compute the infinite sum, but one could compute a finite number\n",
    "of these terms, with the hope that one will obtain sufficient accuracy for the\n",
    "purpose at hand. The result, however, will always be inexact.\n",
    "\n",
    "\n",
    "## 2.3 Linear Equations and the L-U Factorization\n",
    "\n",
    "The linear equation is the most elementary problem that arises in computational\n",
    "economic analysis. In a linear equation, an $n \\times n$ matrix A and an n-vector b are\n",
    "given, and one must compute the n-vector x that satisfies\n",
    "\n",
    "$$A x = b$$\n"
   ]
  },
  {
   "cell_type": "code",
   "execution_count": null,
   "metadata": {
    "collapsed": true
   },
   "outputs": [],
   "source": []
  },
  {
   "cell_type": "markdown",
   "metadata": {},
   "source": [
    "### Jacobi-Method\n",
    "\n",
    "\n",
    "The Jacobi method is a matrix iterative method used to solve the equation Ax=b for a known square matrix A of size n×n and known vector b or length n.\n",
    "\n",
    "$$\\begin{eqnarray*}\n",
    "Ax = b\n",
    "\\end{eqnarray*}$$\n",
    "\n",
    "A is split into the sum of two separate matrices, D and R, such that A=D+R. Dii=Aii, but Dij=0, for i≠j. R is essentially the opposite. Rii=0, but Rij=Aij for i≠j. The solution to the equation, i.e. the value of x\n",
    "\n",
    ", is given by the following iterative equation:\n",
    "\n",
    "$$\\begin{eqnarray*}\n",
    "x^{(k+1)} = D^{-1}(b-Rx^{(k)}).\n",
    "\\end{eqnarray*}$$\n",
    "\n",
    "\n",
    "\n",
    "\n",
    "\n",
    "https://www.quantstart.com/articles/Jacobi-Method-in-Python-and-NumPy\n",
    "\n",
    "\n",
    "\n",
    "\n",
    "\n"
   ]
  },
  {
   "cell_type": "code",
   "execution_count": 2,
   "metadata": {
    "collapsed": false
   },
   "outputs": [
    {
     "name": "stdout",
     "output_type": "stream",
     "text": [
      "A:\n",
      "array([[ 2.,  1.],\n",
      "       [ 5.,  7.]])\n",
      "b:\n",
      "array([ 11.,  13.])\n",
      "x:\n",
      "array([ 7.11110202, -3.22220342])\n"
     ]
    }
   ],
   "source": [
    "\n",
    "from numpy import array, zeros, diag, diagflat, dot\n",
    "\n",
    "def jacobi(A,b,N=25,x=None):\n",
    "    \"\"\"Solves the equation Ax=b via the Jacobi iterative method.\"\"\"\n",
    "    # Create an initial guess if needed                                                                                                                                                            \n",
    "    if x is None:\n",
    "        x = zeros(len(A[0]))\n",
    "\n",
    "    # Create a vector of the diagonal elements of A                                                                                                                                                \n",
    "    # and subtract them from A                                                                                                                                                                     \n",
    "    D = diag(A)\n",
    "    R = A - diagflat(D)\n",
    "\n",
    "    # Iterate for N times                                                                                                                                                                          \n",
    "    for i in range(N):\n",
    "        x = (b - dot(R,x)) / D\n",
    "    return x\n",
    "\n",
    "A = array([[2.0,1.0],[5.0,7.0]])\n",
    "b = array([11.0,13.0])\n",
    "guess = array([1.0,1.0])\n",
    "\n",
    "sol = jacobi(A,b,N=25,x=guess)\n",
    "\n",
    "print( \"A:\")\n",
    "pprint(A)\n",
    "\n",
    "print( \"b:\")\n",
    "pprint(b)\n",
    "\n",
    "print( \"x:\")\n",
    "pprint(sol)"
   ]
  },
  {
   "cell_type": "code",
   "execution_count": 4,
   "metadata": {
    "collapsed": false
   },
   "outputs": [
    {
     "name": "stdout",
     "output_type": "stream",
     "text": [
      "[-0.04109589 -0.28767124  0.5890411 ]\n"
     ]
    }
   ],
   "source": [
    "#http://108.61.119.12/jacobi-method/\n",
    "\n",
    "import numpy as np\n",
    "from scipy.linalg import solve\n",
    "\n",
    "def jacobi(A, b, x, n):\n",
    "\n",
    "    D = np.diag(A)\n",
    "    R = A - np.diagflat(D)\n",
    "    \n",
    "    for i in range(n):\n",
    "        x = (b - np.dot(R,x))/ D\n",
    "    return x\n",
    "\n",
    "\n",
    "\n",
    "A = np.array([[4.0, -2.0, 1.0], [1.0, -3.0, 2.0], [-1.0, 2.0, 6.0]])\n",
    "b = [1.0, 2.0, 3.0]\n",
    "x = [1.0, 1.0, 1.0]\n",
    "n = 25\n",
    "\n",
    "x = jacobi(A, b, x, n)\n",
    "print(x)"
   ]
  },
  {
   "cell_type": "code",
   "execution_count": null,
   "metadata": {
    "collapsed": true
   },
   "outputs": [],
   "source": []
  },
  {
   "cell_type": "code",
   "execution_count": null,
   "metadata": {
    "collapsed": true
   },
   "outputs": [],
   "source": []
  },
  {
   "cell_type": "markdown",
   "metadata": {},
   "source": [
    "### gauss seidel method\n",
    "\n",
    "\n",
    "\n",
    "\n",
    "\n",
    "\n",
    "http://austingwalters.com/gauss-seidel-method/\n",
    "\n",
    "\n",
    "\n",
    "\n",
    "Using the Gauss-Seidel Method\n",
    "\n",
    "The method is fairly straight forward, given a standard system of linear equations, Ax = b. Where, A is a matrix (often representing a series of equations), x is a vector of x variables (Gauss-Seidel method is used to solve this vector) and b is the solution vector. In Gauss-Seidel method, we then split the A matrix into Upper (U) and Lower (L) matrices (the lower matrix in this case also contains the diagonal), then iterate using the following method:\n",
    "\n",
    "\n",
    "\n",
    "![](http://108.61.119.12/wp-content/uploads/2014/05/gauss-equation.png)\n"
   ]
  },
  {
   "cell_type": "code",
   "execution_count": null,
   "metadata": {
    "collapsed": true
   },
   "outputs": [],
   "source": []
  },
  {
   "cell_type": "code",
   "execution_count": null,
   "metadata": {
    "collapsed": true
   },
   "outputs": [],
   "source": []
  },
  {
   "cell_type": "code",
   "execution_count": null,
   "metadata": {
    "collapsed": true
   },
   "outputs": [],
   "source": []
  },
  {
   "cell_type": "code",
   "execution_count": null,
   "metadata": {
    "collapsed": true
   },
   "outputs": [],
   "source": []
  },
  {
   "cell_type": "code",
   "execution_count": null,
   "metadata": {
    "collapsed": true
   },
   "outputs": [],
   "source": []
  },
  {
   "cell_type": "markdown",
   "metadata": {},
   "source": [
    "https://github.com/mmcky/nyu-econ-370/blob/master/notebooks/notes-linear-algebra.ipynb\n",
    "\n"
   ]
  },
  {
   "cell_type": "code",
   "execution_count": null,
   "metadata": {
    "collapsed": true
   },
   "outputs": [],
   "source": []
  },
  {
   "cell_type": "code",
   "execution_count": null,
   "metadata": {
    "collapsed": true
   },
   "outputs": [],
   "source": []
  },
  {
   "cell_type": "code",
   "execution_count": null,
   "metadata": {
    "collapsed": true
   },
   "outputs": [],
   "source": [
    "\"\"\"\n",
    "ace.solvers\n",
    "~~~~~~~~~~~\n",
    "author:  hahnicity\n",
    "https://github.com/hahnicity/ace/blob/master/ace/solvers.py\n",
    "Solve a simple linear equation Ax = b in a particular way\n",
    "\"\"\"\n",
    "from numpy import append, array, diagonal, tril, triu\n",
    "from numpy.linalg import inv, solve\n",
    "from scipy.linalg import lu\n",
    "\n",
    "\n",
    "def lu_decomposition(a, b):\n",
    "    \"\"\"\n",
    "    Solve a linear equation by LU-decomposition\n",
    "    Comes from LU decomposition of a matrix A s.t. A = LU\n",
    "    Then\n",
    "        LUx = b => Ux = y => Ly = b\n",
    "    \"\"\"\n",
    "    _, l, u = lu(a)\n",
    "    y = solve(l, b)\n",
    "    return solve(u, y)\n",
    "\n",
    "\n",
    "def gauss_seidel(a, b, iterations, x=None):\n",
    "    \"\"\"\n",
    "    Solve a linear equation by the gauss seidel iteration outlined in the book\n",
    "    Follows the eq:\n",
    "        x = inv(L)*(b - U*x)\n",
    "    \"\"\"\n",
    "    l = tril(a)\n",
    "    upper_plus_diagonal = triu(a)\n",
    "    u = upper_plus_diagonal - _diagonal_matrix(a)\n",
    "    x = _check_for_initial_guess(a, x)\n",
    "    for _ in xrange(iterations):\n",
    "        x = inv(l).dot(b - u.dot(x))\n",
    "    return x\n",
    "\n",
    "\n",
    "def gauss_jacobi(a, b, iterations, x=None):\n",
    "    \"\"\"\n",
    "    Solve a linear equation by the gauss jacobi iteration outlined in the book.\n",
    "    Follows the eq:\n",
    "        x = inv(D)(b - Rx)\n",
    "    Where D is the diagonal matrix of A and R is the remainder s.t D + R = A\n",
    "    \"\"\"\n",
    "    d = _diagonal_matrix(a)\n",
    "    # Calculate the remainder matrix\n",
    "    r = a - d\n",
    "    x = _check_for_initial_guess(a, x)\n",
    "    for _ in xrange(iterations):\n",
    "        x = inv(d).dot(b - r.dot(x))\n",
    "    return x\n",
    "\n",
    "\n",
    "def _diagonal_matrix(a):\n",
    "    \"\"\"\n",
    "    Given a square, 2D matrix a, create a diagonal matrix from it\n",
    "    \"\"\"\n",
    "    diag = diagonal(a)\n",
    "    # Create first row to initialize the correct shape\n",
    "    first_row = [diag[0]] + [0 for _ in range(len(diag) - 1)]\n",
    "    diag_matrix = array([first_row])\n",
    "    # Construct the remaining rows in the diagonal matrix\n",
    "    for index in range(1, len(diag)):\n",
    "        row = [0 if index != i else diag[i] for i in range(len(diag))]\n",
    "        diag_matrix = append(diag_matrix, [row], axis=0)\n",
    "    return diag_matrix\n",
    "\n",
    "\n",
    "def _check_for_initial_guess(a, x):\n",
    "    \"\"\"\n",
    "    If we have not provided an initial array for x make a new one\n",
    "    \"\"\"\n",
    "    if not x:\n",
    "        x = array([1 for _ in range(a.shape[1])])\n",
    "return x"
   ]
  },
  {
   "cell_type": "code",
   "execution_count": null,
   "metadata": {
    "collapsed": true
   },
   "outputs": [],
   "source": []
  },
  {
   "cell_type": "code",
   "execution_count": null,
   "metadata": {
    "collapsed": true
   },
   "outputs": [],
   "source": []
  },
  {
   "cell_type": "code",
   "execution_count": null,
   "metadata": {
    "collapsed": true
   },
   "outputs": [],
   "source": []
  },
  {
   "cell_type": "code",
   "execution_count": null,
   "metadata": {
    "collapsed": true
   },
   "outputs": [],
   "source": []
  },
  {
   "cell_type": "code",
   "execution_count": null,
   "metadata": {
    "collapsed": true
   },
   "outputs": [],
   "source": []
  },
  {
   "cell_type": "code",
   "execution_count": null,
   "metadata": {
    "collapsed": true
   },
   "outputs": [],
   "source": []
  },
  {
   "cell_type": "markdown",
   "metadata": {},
   "source": [
    "## Reference\n",
    "\n",
    "\n",
    "https://www3.nd.edu/~zxu2/acms40390F12/Lec-7.3.pdf\n",
    "\n",
    "http://austingwalters.com/gauss-seidel-method/\n",
    "\n",
    "\n",
    "https://stackoverflow.com/questions/17580666/improving-numpy-speed-for-gauss-seidel-jacobi-solver"
   ]
  },
  {
   "cell_type": "code",
   "execution_count": null,
   "metadata": {
    "collapsed": true
   },
   "outputs": [],
   "source": []
  }
 ],
 "metadata": {
  "kernelspec": {
   "display_name": "Python 2",
   "language": "python",
   "name": "python2"
  },
  "language_info": {
   "codemirror_mode": {
    "name": "ipython",
    "version": 2
   },
   "file_extension": ".py",
   "mimetype": "text/x-python",
   "name": "python",
   "nbconvert_exporter": "python",
   "pygments_lexer": "ipython2",
   "version": "2.7.13"
  }
 },
 "nbformat": 4,
 "nbformat_minor": 1
}
