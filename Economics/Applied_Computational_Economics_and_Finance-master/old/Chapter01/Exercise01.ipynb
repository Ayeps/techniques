{
 "cells": [
  {
   "cell_type": "code",
   "execution_count": 1,
   "metadata": {
    "collapsed": false
   },
   "outputs": [
    {
     "name": "stdout",
     "output_type": "stream",
     "text": [
      "Populating the interactive namespace from numpy and matplotlib\n"
     ]
    }
   ],
   "source": [
    "# pylab Populating the interactive namespace from numpy and matplotlib\n",
    "# numpy for numerical computation\n",
    "# matplotlib for ploting\n",
    "%pylab inline"
   ]
  },
  {
   "cell_type": "markdown",
   "metadata": {},
   "source": [
    "## Exercise1.1\n",
    "Plot $f(x) = 1 - e ^ (2 * x)$ over $[-1, 1]$ with intervals $.01$"
   ]
  },
  {
   "cell_type": "code",
   "execution_count": 4,
   "metadata": {
    "collapsed": false
   },
   "outputs": [
    {
     "data": {
      "text/plain": [
       "<matplotlib.legend.Legend at 0x846c2e8>"
      ]
     },
     "execution_count": 4,
     "metadata": {},
     "output_type": "execute_result"
    },
    {
     "data": {
      "image/png": "[encoded data removed]",
      "text/plain": [
       "<matplotlib.figure.Figure at 0x846c668>"
      ]
     },
     "metadata": {},
     "output_type": "display_data"
    }
   ],
   "source": [
    "\"\"\"\n",
    "Exercise1.1\n",
    "Plot f(x) = 1 - e ^ (2 * x) over [-1, 1] with intervals .01\n",
    "\"\"\"\n",
    "\n",
    "x_range = arange(-1, 1, .01)\n",
    "y_range = array([1 - exp(2 * x) for x in x_range])\n",
    "plot(x_range, y_range, 'k-', label = \"Exercise1.1\")\n",
    "ylabel(\"y\")\n",
    "xlabel(\"x\")\n",
    "legend(loc='upper right')"
   ]
  },
  {
   "cell_type": "code",
   "execution_count": null,
   "metadata": {
    "collapsed": true
   },
   "outputs": [],
   "source": []
  },
  {
   "cell_type": "markdown",
   "metadata": {},
   "source": [
    "## Exercise1.2\n",
    "Solve matrix multiplication of\n",
    "\n",
    "$$\n",
    "\\left[\\begin{array}{ccc} \n",
    "0 &-1& 2\\\\\n",
    "-2& -1& 4\\\\\n",
    "2& 7& -2\n",
    "\\end{array}\\right]\n",
    "\\left[\\begin{array}{ccc} \n",
    "-7& 1& 1\\\\ \n",
    "7& -3& -2\\\\\n",
    "3& 5& 0\n",
    "\\end{array}\\right]\n",
    "$$ \n",
    "\n",
    "$$y = [3, -1, 2] $$\n",
    "\n",
    "\n",
    "\n",
    "Solve $C = A*B$, \n",
    "\n",
    "$$Cx = y$$.\n",
    "\n"
   ]
  },
  {
   "cell_type": "code",
   "execution_count": null,
   "metadata": {
    "collapsed": true
   },
   "outputs": [],
   "source": []
  },
  {
   "cell_type": "code",
   "execution_count": 9,
   "metadata": {
    "collapsed": false
   },
   "outputs": [
    {
     "name": "stdout",
     "output_type": "stream",
     "text": [
      "standard matrix product C\n",
      "[[ -1  13   2]\n",
      " [ 19  21   0]\n",
      " [ 29 -29 -12]]\n",
      "Matrix multiplication\n",
      "[-1.046875    0.89955357 -4.87053571]\n",
      "\n",
      "element-by-element matrix product C\n",
      "[[  0  -1   2]\n",
      " [-14   3  -8]\n",
      " [  6  35   0]]\n",
      "\n",
      "Element-wise multiplication\n",
      "[-0.79958678  0.19421488  1.59710744]\n"
     ]
    }
   ],
   "source": [
    "\"\"\"\n",
    "Exercise1.2\n",
    "Solve matrix multiplication \n",
    "\"\"\"\n",
    "#from numpy import array, linalg\n",
    "\n",
    "A = array([[0, -1, 2], [-2, -1, 4], [2, 7, -2]])\n",
    "B = array([[-7, 1, 1], [7, -3, -2], [3, 5, 0]])\n",
    "y = array([3, -1, 2])\n",
    "\n",
    "\n",
    "def part_a():\n",
    "    \"\"\"\n",
    "    Solve Cx = y using standard matrix multiplication for A and B\n",
    "    \"\"\"\n",
    "    C = A.dot(B)\n",
    "    x = linalg.solve(C, y)\n",
    "    return x\n",
    "\n",
    "\n",
    "print \"The standard matrix product C\"\n",
    "print A.dot(B)\n",
    "\n",
    "print \"Matrix multiplication\"\n",
    "\n",
    "print part_a()\n",
    "\n",
    "\n"
   ]
  },
  {
   "cell_type": "code",
   "execution_count": null,
   "metadata": {
    "collapsed": true
   },
   "outputs": [],
   "source": [
    "def part_b():\n",
    "    \"\"\"\n",
    "    Solve Cx = y using element-wise multiplication (Hadamard product)\n",
    "    \"\"\"\n",
    "    C = A * B\n",
    "    x = linalg.solve(C, y)\n",
    "    return x\n",
    "\n",
    "print \"\\nThe element-by-element matrix product C\"\n",
    "print A * B\n",
    "\n",
    "print \"\\nElement-wise multiplication\"\n",
    "print part_b()"
   ]
  },
  {
   "cell_type": "code",
   "execution_count": null,
   "metadata": {
    "collapsed": true
   },
   "outputs": [],
   "source": []
  },
  {
   "cell_type": "markdown",
   "metadata": {},
   "source": [
    "## Exercise1.3\n",
    "\n",
    "calculate the time series\n",
    "\n",
    "$$yt = 5 + .05 * t + Et$$ \n",
    "\n",
    "(Where E is epsilon)\n",
    "\n",
    "for years $1960, 1961, ..., 2001$ assuming $Et$ independently and identically distributed with mean $0$ and sigma $0.2$."
   ]
  },
  {
   "cell_type": "code",
   "execution_count": 11,
   "metadata": {
    "collapsed": false
   },
   "outputs": [
    {
     "data": {
      "text/plain": [
       "[<matplotlib.lines.Line2D at 0x92348d0>,\n",
       " <matplotlib.lines.Line2D at 0x92349b0>]"
      ]
     },
     "execution_count": 11,
     "metadata": {},
     "output_type": "execute_result"
    },
    {
     "data": {
      "image/png": "[encoded data removed]",
      "text/plain": [
       "<matplotlib.figure.Figure at 0x917c2e8>"
      ]
     },
     "metadata": {},
     "output_type": "display_data"
    }
   ],
   "source": [
    "\"\"\"\n",
    "Exercise1.3\n",
    "calculate the time series\n",
    "\"\"\"\n",
    "\n",
    "#from numpy import random, array, polyfit, poly1d\n",
    "\n",
    "mu = -0.2\n",
    "sigma = 0.2\n",
    "\n",
    "\n",
    "\"\"\"\n",
    "Create the time series, yt, then perform a regress on yt, plot yt and the its trendline\n",
    "\"\"\"\n",
    "start_year = 1960\n",
    "end_year = 2001\n",
    "\n",
    "t_array = array(range(start_year, end_year + 1))\n",
    "epsilon_t = array(random.normal(mu, sigma,len(t_array)))\n",
    "#https://docs.scipy.org/doc/numpy/reference/generated/numpy.random.normal.html\n",
    "\n",
    "\n",
    "\n",
    "\n",
    "yt = array([5 + .05 * t_i + epsilon_t[i] for i, t_i in enumerate(t_array)])\n",
    "fit = polyfit(t_array, yt, 1)\n",
    "#https://docs.scipy.org/doc/numpy/reference/generated/numpy.polyfit.html\n",
    "\"\"\"\n",
    "Least squares polynomial fit.\n",
    "\n",
    "Fit a polynomial p(x) = p[0] * x**deg + ... + p[deg] of degree deg to points (x, y). \n",
    "\n",
    "Returns a vector of coefficients p that minimises the squared error.\n",
    "\"\"\"\n",
    "\n",
    "fit_func = poly1d(fit)\n",
    "\n",
    "\"\"\"\n",
    "https://docs.scipy.org/doc/numpy/reference/generated/numpy.poly1d.html\n",
    "A one-dimensional polynomial class.\n",
    "\n",
    "A convenience class, \n",
    "used to encapsulate “natural” operations on polynomials \n",
    "so that said operations may take on their customary form in code .\n",
    "\n",
    "\"\"\"\n",
    "\n",
    "\n",
    "# two plots together\n",
    "plot(t_array, yt, \"yo\", t_array, fit_func(t_array), \"--k\")\n"
   ]
  },
  {
   "cell_type": "markdown",
   "metadata": {},
   "source": [
    "## Exercise1.4\n",
    "\n",
    "\n",
    "Consider the original example with the farmer where acreage planted will be\n",
    "\n",
    "$$a = 0.5 + 0.5 * Ep$$ (Ep is expected price)\n",
    "\n",
    "Quantity q is equivalent to\n",
    "\n",
    "$$q = a * y$$ (y is yield)\n",
    "\n",
    "Clearing price p is\n",
    "\n",
    "$$p = 3 - 2 * q$$\n",
    "\n",
    "Assume in our case that yield will be a random two point distribution s.t.\n",
    "\n",
    "```\n",
    "y = array([0.7, 1.3])\n",
    "```\n",
    "\n",
    "\n",
    "\n",
    "Our goal is to compute the variance of this price distribution, otherwise known\n",
    "as $sigma^2$ for part a."
   ]
  },
  {
   "cell_type": "code",
   "execution_count": 12,
   "metadata": {
    "collapsed": false
   },
   "outputs": [
    {
     "name": "stdout",
     "output_type": "stream",
     "text": [
      "acreage 1.0 variance: 0.36 expectation 1.0\n"
     ]
    }
   ],
   "source": [
    "\n",
    "\n",
    "#from math import exp, fabs\n",
    "\n",
    "#from numpy import array, var\n",
    "\n",
    "\n",
    "\n",
    "\n",
    "#part_a():\n",
    "\"\"\"\n",
    "Compute the variance in price\n",
    "\"\"\"\n",
    "a = 1\n",
    "y, w = array([0.7, 1.3]), array([0.5, 0.5])\n",
    "\n",
    "\n",
    "\n",
    "\n",
    "for _ in range(100):\n",
    "    a_previous = a\n",
    "    p = 3 - 2 * a * y\n",
    "    f = w.dot(p)\n",
    "    a = 0.5 + 0.5 * f\n",
    "    if fabs(a_previous - a) < exp(-8):\n",
    "        break\n",
    "print \"acreage\", a, \"variance:\", var(p), \"expectation\", p.dot(w)\n",
    "\n",
    "\n",
    "\n",
    "\n",
    "\n",
    "\n"
   ]
  },
  {
   "cell_type": "code",
   "execution_count": null,
   "metadata": {
    "collapsed": true
   },
   "outputs": [],
   "source": [
    " "
   ]
  }
 ],
 "metadata": {
  "kernelspec": {
   "display_name": "Python 2",
   "language": "python",
   "name": "python2"
  },
  "language_info": {
   "codemirror_mode": {
    "name": "ipython",
    "version": 2
   },
   "file_extension": ".py",
   "mimetype": "text/x-python",
   "name": "python",
   "nbconvert_exporter": "python",
   "pygments_lexer": "ipython2",
   "version": "2.7.13"
  }
 },
 "nbformat": 4,
 "nbformat_minor": 2
}
