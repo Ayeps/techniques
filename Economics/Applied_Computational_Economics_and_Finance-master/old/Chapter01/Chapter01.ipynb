{
 "cells": [
  {
   "cell_type": "markdown",
   "metadata": {},
   "source": [
    "# Introduction\n",
    "\n",
    "\n",
    "## 1.1 Some Apparently Simple Questions\n",
    "\n",
    "## 1.2 An Alternative Analytic Framework\n",
    "\n",
    "Solved to a high degree of accuracy using numerical method"
   ]
  },
  {
   "cell_type": "code",
   "execution_count": 11,
   "metadata": {
    "collapsed": true
   },
   "outputs": [],
   "source": [
    "import numpy as np\n",
    "from quantecon import *\n",
    "from __future__ import division"
   ]
  },
  {
   "cell_type": "markdown",
   "metadata": {},
   "source": [
    "Suppose now that the economist is presented with a  demand function\n",
    "\n",
    "$$q = 0.5* p^{-0.2} + 0.5*p^{-0.5}$$\n",
    "\n",
    "one that is the sum a domestic demand term and an export demand term.\n",
    "\n",
    "suppose that the economist is asked to find the price that clears the\n",
    "market of, say, a quantity of 2 units.\n",
    "\n",
    "\n"
   ]
  },
  {
   "cell_type": "code",
   "execution_count": 5,
   "metadata": {
    "collapsed": false
   },
   "outputs": [
    {
     "name": "stdout",
     "output_type": "stream",
     "text": [
      "Populating the interactive namespace from numpy and matplotlib\n"
     ]
    }
   ],
   "source": [
    "%pylab inline"
   ]
  },
  {
   "cell_type": "code",
   "execution_count": 10,
   "metadata": {
    "collapsed": false
   },
   "outputs": [
    {
     "data": {
      "text/plain": [
       "[<matplotlib.lines.Line2D at 0x882d2b0>]"
      ]
     },
     "execution_count": 10,
     "metadata": {},
     "output_type": "execute_result"
    },
    {
     "data": {
      "image/png": "[encoded data removed]",
      "text/plain": [
       "<matplotlib.figure.Figure at 0x882d358>"
      ]
     },
     "metadata": {},
     "output_type": "display_data"
    }
   ],
   "source": [
    "#http://matplotlib.org/api/pyplot_api.html#matplotlib.pyplot.plot\n",
    "p = np.linspace(0.01,0.5, 100)\n",
    "q = .5 * p **-.2 + .5 * p ** -.5 - 2\n",
    "plot(q,p)\n",
    "x1,x2,y1,y2 = 2, 2, 0, 0.5\n",
    "plot((x1, x2), (y1, y2), 'k-')"
   ]
  },
  {
   "cell_type": "code",
   "execution_count": 4,
   "metadata": {
    "collapsed": false
   },
   "outputs": [
    {
     "name": "stdout",
     "output_type": "stream",
     "text": [
      "The market clean price is 0.15 \n"
     ]
    }
   ],
   "source": [
    "# example 1.2\n",
    "\n",
    "p = 0.25\n",
    "for i in range(100):\n",
    "    deltap = (.5 * p **-.2 + .5 * p ** -.5 - 2)/(.1 * p **-1.2 + .25 * p **-1.5)\n",
    "    p = p + deltap\n",
    "    if abs(deltap) < 1.e-8: #  accuracy\n",
    "        break\n",
    "#https://stackoverflow.com/questions/20457038/python-how-to-round-down-to-2-decimals\n",
    "print('The market clean price is {:0.2f} '.format(p))\n"
   ]
  },
  {
   "cell_type": "markdown",
   "metadata": {},
   "source": [
    "Consider now the rational expectations commodity market model with government\n",
    "intervention. The source of difficulty in solving this problem is the need to\n",
    "evaluate the truncated expectation of a continuous distribution.\n",
    "\n",
    "The economist would replace the original normal yield distribution\n",
    "with a discrete distribution that has identical lower moments, say one that assumes\n",
    "values y1; y2; ... ; yn with probabilities w1; w2; ...; wn."
   ]
  },
  {
   "cell_type": "code",
   "execution_count": null,
   "metadata": {
    "collapsed": true
   },
   "outputs": [],
   "source": [
    "# https://github.com/QuantEcon/QuantEcon.py/blob/master/quantecon/quad.py\n",
    "def qnwnorm(n, mu=None, sig2=None, usesqrtm=False):\n",
    "    \"\"\"\n",
    "    Computes nodes and weights for multivariate normal distribution\n",
    "    Parameters\n",
    "    ----------\n",
    "    n : int or array_like(float)\n",
    "        A length-d iterable of the number of nodes in each dimension\n",
    "    mu : scalar or array_like(float), optional(default=zeros(d))\n",
    "        The means of each dimension of the random variable. If a scalar\n",
    "        is given, that constant is repeated d times, where d is the\n",
    "        number of dimensions\n",
    "    sig2 : array_like(float), optional(default=eye(d))\n",
    "        A d x d array representing the variance-covariance matrix of the\n",
    "        multivariate normal distribution.\n",
    "    Returns\n",
    "    -------\n",
    "    nodes : np.ndarray(dtype=float)\n",
    "        Quadrature nodes\n",
    "    weights : np.ndarray(dtype=float)\n",
    "        Weights for quadrature nodes\n",
    "    Notes\n",
    "    -----\n",
    "    Based of original function ``qnwnorm`` in CompEcon toolbox by\n",
    "    Miranda and Fackler\n",
    "    References\n",
    "    ----------\n",
    "    Miranda, Mario J, and Paul L Fackler. Applied Computational\n",
    "    Economics and Finance, MIT Press, 2002.\n",
    "    \"\"\"\n",
    "    n = np.asarray(n)\n",
    "    d = n.size\n",
    "\n",
    "    if mu is None:\n",
    "        mu = np.zeros((d,1))\n",
    "    else:\n",
    "        mu = np.asarray(mu).reshape(-1, 1)\n",
    "\n",
    "    if sig2 is None:\n",
    "        sig2 = np.eye(d)\n",
    "    else:\n",
    "        sig2 = np.asarray(sig2).reshape(d, d)\n",
    "\n",
    "    if all([x.size == 1 for x in [n, mu, sig2]]):\n",
    "        nodes, weights = _qnwnorm1(n)\n",
    "    else:\n",
    "        nodes = []\n",
    "        weights = []\n",
    "\n",
    "        for i in range(d):\n",
    "            _1d = _qnwnorm1(n[i])\n",
    "            nodes.append(_1d[0])\n",
    "            weights.append(_1d[1])\n",
    "\n",
    "        nodes = gridmake(*nodes)\n",
    "        weights = ckron(*weights[::-1])\n",
    "\n",
    "    if usesqrtm:\n",
    "        new_sig2 = la.sqrtm(sig2)\n",
    "    else:  # cholesky\n",
    "        new_sig2 = la.cholesky(sig2)\n",
    "\n",
    "    if d > 1:\n",
    "        nodes = new_sig2.dot(nodes) + mu  # Broadcast ok\n",
    "    else:  # nodes.dot(sig) will not be aligned in scalar case.\n",
    "        nodes = nodes * new_sig2 + mu\n",
    "\n",
    "return nodes.squeeze(), weights"
   ]
  },
  {
   "cell_type": "code",
   "execution_count": 16,
   "metadata": {
    "collapsed": false
   },
   "outputs": [
    {
     "name": "stdout",
     "output_type": "stream",
     "text": [
      "The rational expectations equilibrium acreage is 1.10. \n",
      "The expected market price is 0.81. \n",
      "The expected effective producer price is 1.19. \n"
     ]
    }
   ],
   "source": [
    "# example 1.2\n",
    "\n",
    "y, w = quad.qnwnorm(10, 1, 0.1)\n",
    "a = 1\n",
    "for it in range(100):\n",
    "    aold = a\n",
    "    p = 3 - 2 * a * y\n",
    "    f = w.dot(np.maximum(p, 1))\n",
    "    a = 0.5 + 0.5 * f\n",
    "    if abs(a - aold) < 1.e-8:\n",
    "        break\n",
    "\n",
    "print('The rational expectations equilibrium acreage is {:0.2f} '.format(a) )\n",
    "print('The expected market price is {:0.2f} '.format(np.dot(w, p)) )\n",
    "print('The expected effective producer price is {:0.2f} '.format(f) )\n",
    "\n"
   ]
  },
  {
   "cell_type": "markdown",
   "metadata": {},
   "source": [
    "The economist has combined Gaussian quadrature techniques and fixed-point function iteration methods to solve the problem."
   ]
  },
  {
   "cell_type": "code",
   "execution_count": null,
   "metadata": {
    "collapsed": true
   },
   "outputs": [],
   "source": []
  },
  {
   "cell_type": "code",
   "execution_count": null,
   "metadata": {
    "collapsed": true
   },
   "outputs": [],
   "source": []
  },
  {
   "cell_type": "code",
   "execution_count": null,
   "metadata": {
    "collapsed": true
   },
   "outputs": [],
   "source": []
  }
 ],
 "metadata": {
  "kernelspec": {
   "display_name": "Python 2",
   "language": "python",
   "name": "python2"
  },
  "language_info": {
   "codemirror_mode": {
    "name": "ipython",
    "version": 2
   },
   "file_extension": ".py",
   "mimetype": "text/x-python",
   "name": "python",
   "nbconvert_exporter": "python",
   "pygments_lexer": "ipython2",
   "version": "2.7.13"
  }
 },
 "nbformat": 4,
 "nbformat_minor": 2
}
