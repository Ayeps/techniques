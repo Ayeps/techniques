{
 "cells": [
  {
   "cell_type": "markdown",
   "metadata": {},
   "source": [
    "# Chapter 5\n",
    "# Numerical Integration and Differentiation"
   ]
  },
  {
   "cell_type": "markdown",
   "metadata": {},
   "source": [
    "In many computational economic applications, one must compute the definite integral\n",
    "of a real-valued function f with respect to a \"weighting\" function w over an interval\n",
    "$I$ of $R^n$:\n",
    "\n",
    "$$\\int_I f(x)w(x) dx$$\n",
    "\n",
    "\n",
    "The weighting function may be the identity, $w = 1$, in which case the integral represents\n",
    "the area under the function f. In other applications, w may be the probability\n",
    "density of a random variable $\\tilde X$\n",
    ", in which case the integral represents the expectation\n",
    "of $f( \\tilde X)$ when $I$ repesents the whole support of $\\tilde X$.\n",
    "\n",
    "\n",
    "\n"
   ]
  },
  {
   "cell_type": "code",
   "execution_count": null,
   "metadata": {
    "collapsed": true
   },
   "outputs": [],
   "source": []
  },
  {
   "cell_type": "markdown",
   "metadata": {},
   "source": [
    "In this chapter, we discuss three classes of numerical integration or numerical\n",
    "quadrature methods<sup>1</sup>. All methods approximate the integral with a weighted sum of\n",
    "function values:\n",
    "\n",
    "$$\\int_I f(x) w(x)dx \\approx \\sum_{i=0}^{n} w_i f(x_i)\\thinspace .$$\n",
    "\n",
    "<sup>1</sup>Quadrature is a historical mathematical term that means calculating area. "
   ]
  },
  {
   "cell_type": "markdown",
   "metadata": {},
   "source": [
    "The methods differ only in how the *quadrature weights* $wi$ and the *quadrature nodes*\n",
    "$xi$ are chosen."
   ]
  },
  {
   "cell_type": "markdown",
   "metadata": {},
   "source": [
    "**Newton-Cotes** methods approximate the integrand f between nodes\n",
    "using low order polynomials, and sum the integrals of the polynomials to estimate\n",
    "the integral of f. Newton-Cotes methods are easy to implement, but are not particularly\n",
    "eÆcient for computing the integral of a smooth function."
   ]
  },
  {
   "cell_type": "markdown",
   "metadata": {},
   "source": [
    "**Gaussian quadrature**\n",
    "methods choose the nodes and weights to satisfy moment matching conditions, and\n",
    "are more powerful than Newton-Cotes methods if the integrand is smooth."
   ]
  },
  {
   "cell_type": "markdown",
   "metadata": {},
   "source": [
    "**Monte Carlo and quasi-Monte Carlo integration** methods use \"random\" or \"equidistributed\"\n",
    "nodes, and are simple to implement and are especially useful if the integration domain\n",
    "is of high dimension or irregularly shaped.\n"
   ]
  },
  {
   "cell_type": "markdown",
   "metadata": {},
   "source": [
    "In this chapter, we also present an overview of how to compute *finite difference*\n",
    "approximations for the derivatives of a real-valued function. \n",
    "\n",
    "As we have seen in\n",
    "previous chapters, it is often desirable to compute derivatives numerically because\n",
    "analytic derivative expressions are difficult or impossible to derive, or expensive to\n",
    "evaluate. \n",
    "\n",
    "Finite difference methods can also be used to solve differential equations,\n",
    "which arise frequently in dynamic economic models, especially models formulated in\n",
    "continuous time. In this chapter, we introduce numerical methods for differential\n",
    "equations and illustrate their application to *initial value problems*."
   ]
  },
  {
   "cell_type": "code",
   "execution_count": 2,
   "metadata": {
    "collapsed": true
   },
   "outputs": [],
   "source": [
    "# https://github.com/QuantEcon/QuantEcon.py/blob/488b7b3b9117cfd9bfc71c187efc87c39fc5b459/quantecon/quad.py\n",
    "\"\"\"\n",
    "Filename: quad.py\n",
    "Authors: Chase Coleman, Spencer Lyon\n",
    "Date: 2014-07-01\n",
    "Defining various quadrature routines.\n",
    "Based on the quadrature routines found in the CompEcon toolbox by\n",
    "Miranda and Fackler.\n",
    "References\n",
    "----------\n",
    "Miranda, Mario J, and Paul L Fackler. Applied Computational Economics\n",
    "and Finance, MIT Press, 2002.\n",
    "\"\"\"\n",
    "\n",
    "from __future__ import division\n",
    "\n",
    "import math\n",
    "import numpy as np\n",
    "import scipy.linalg as la\n",
    "from scipy.special import gammaln\n",
    "import sympy as sym\n",
    "#from .ce_util import ckron, gridmake\n",
    "\n",
    "\n",
    "from functools import reduce"
   ]
  },
  {
   "cell_type": "code",
   "execution_count": 3,
   "metadata": {
    "collapsed": true
   },
   "outputs": [],
   "source": [
    "def ckron(*arrays):\n",
    "    \"\"\"\n",
    "    Repeatedly applies the np.kron function to an arbitrary number of\n",
    "    input arrays\n",
    "    Parameters\n",
    "    ----------\n",
    "    *arrays : tuple/list of np.ndarray\n",
    "    Returns\n",
    "    -------\n",
    "    out : np.ndarray\n",
    "        The result of repeated kronecker products\n",
    "    Notes\n",
    "    -----\n",
    "    Based of original function `ckron` in CompEcon toolbox by Miranda\n",
    "    and Fackler\n",
    "    References\n",
    "    ----------\n",
    "    Miranda, Mario J, and Paul L Fackler. Applied Computational\n",
    "    Economics and Finance, MIT Press, 2002.\n",
    "    \"\"\"\n",
    "    return reduce(np.kron, arrays)\n",
    "\n",
    "def gridmake(*arrays):\n",
    "    \"\"\"\n",
    "    TODO: finish this docstring\n",
    "    Notes\n",
    "    -----\n",
    "    Based of original function ``gridmake`` in CompEcon toolbox by\n",
    "    Miranda and Fackler\n",
    "    References\n",
    "    ----------\n",
    "    Miranda, Mario J, and Paul L Fackler. Applied Computational Economics\n",
    "    and Finance, MIT Press, 2002.\n",
    "    \"\"\"\n",
    "    if all([i.ndim == 1 for i in arrays]):\n",
    "        d = len(arrays)\n",
    "        if d == 2:\n",
    "            out = _gridmake2(*arrays)\n",
    "        else:\n",
    "            out = _gridmake2(arrays[0], arrays[1])\n",
    "            for arr in arrays[2:]:\n",
    "                out = _gridmake2(out, arr)\n",
    "\n",
    "        return out\n",
    "    else:\n",
    "        raise NotImplementedError(\"Come back here\")\n",
    "\n",
    "        \n",
    "def _gridmake2(x1, x2):\n",
    "    \"\"\"\n",
    "    TODO: finish this docstring\n",
    "    Notes\n",
    "    -----\n",
    "    Based of original function ``gridmake2`` in CompEcon toolbox by\n",
    "    Miranda and Fackler\n",
    "    References\n",
    "    ----------\n",
    "    Miranda, Mario J, and Paul L Fackler. Applied Computational Economics\n",
    "    and Finance, MIT Press, 2002.\n",
    "    \"\"\"\n",
    "    if x1.ndim == 1 and x2.ndim == 1:\n",
    "        return np.column_stack([np.tile(x1, x2.shape[0]),\n",
    "                               np.repeat(x2, x1.shape[0])])\n",
    "    elif x1.ndim > 1 and x2.ndim == 1:\n",
    "        first = np.tile(x1, (x2.shape[0], 1))\n",
    "        second = np.repeat(x2, x1.shape[0])\n",
    "        return np.column_stack([first, second])\n",
    "    else:\n",
    "        raise NotImplementedError(\"Come back here\")        \n",
    "\n",
    "def _qnwtrap1(n, a, b):\n",
    "    \"\"\"\n",
    "    Compute univariate trapezoid rule quadrature nodes and weights\n",
    "    Parameters\n",
    "    ----------\n",
    "    n : int\n",
    "        The number of nodes\n",
    "    a : int\n",
    "        The lower endpoint\n",
    "    b : int\n",
    "        The upper endpoint\n",
    "    Returns\n",
    "    -------\n",
    "    nodes : np.ndarray(dtype=float)\n",
    "        An n element array of nodes\n",
    "    nodes : np.ndarray(dtype=float)\n",
    "        An n element array of weights\n",
    "    Notes\n",
    "    -----\n",
    "    Based of original function ``qnwtrap1`` in CompEcon toolbox by\n",
    "    Miranda and Fackler\n",
    "    References\n",
    "    ----------\n",
    "    Miranda, Mario J, and Paul L Fackler. Applied Computational\n",
    "    Economics and Finance, MIT Press, 2002.\n",
    "    \"\"\"\n",
    "    if n < 1:\n",
    "        raise ValueError(\"n must be at least one\")\n",
    "\n",
    "    nodes = np.linspace(a, b, n)\n",
    "    dx = nodes[1] - nodes[0]\n",
    "\n",
    "    weights = dx * np.ones(n)\n",
    "    weights[0] *= 0.5\n",
    "    weights[-1] *= 0.5\n",
    "\n",
    "    return nodes, weights\n",
    "        \n",
    "\n",
    "def _qnwsimp1(n, a, b):\n",
    "    \"\"\"\n",
    "    Compute univariate Simpson quadrature nodes and weights\n",
    "    Parameters\n",
    "    ----------\n",
    "    n : int\n",
    "        The number of nodes\n",
    "    a : int\n",
    "        The lower endpoint\n",
    "    b : int\n",
    "        The upper endpoint\n",
    "    Returns\n",
    "    -------\n",
    "    nodes : np.ndarray(dtype=float)\n",
    "        An n element array of nodes\n",
    "    nodes : np.ndarray(dtype=float)\n",
    "        An n element array of weights\n",
    "    Notes\n",
    "    -----\n",
    "    Based of original function ``qnwsimp1`` in CompEcon toolbox by\n",
    "    Miranda and Fackler\n",
    "    References\n",
    "    ----------\n",
    "    Miranda, Mario J, and Paul L Fackler. Applied Computational\n",
    "    Economics and Finance, MIT Press, 2002.\n",
    "    \"\"\"\n",
    "    if n % 2 == 0:\n",
    "        print(\"WARNING qnwsimp: n must be an odd integer. Increasing by 1\")\n",
    "        n += 1\n",
    "\n",
    "    nodes = np.linspace(a, b, n)\n",
    "    dx = nodes[1] - nodes[0]\n",
    "    weights = np.tile([2.0, 4.0], (n + 1) // 2)\n",
    "    weights = weights[:n]\n",
    "    weights[0] = weights[-1] = 1\n",
    "    weights = (dx / 3.0) * weights\n",
    "\n",
    "    return nodes, weights    \n",
    "    \n",
    "        \n",
    "def _qnwlege1(n, a, b):\n",
    "    \"\"\"\n",
    "    Compute univariate Guass-Legendre quadrature nodes and weights\n",
    "    Parameters\n",
    "    ----------\n",
    "    n : int\n",
    "        The number of nodes\n",
    "    a : int\n",
    "        The lower endpoint\n",
    "    b : int\n",
    "        The upper endpoint\n",
    "    Returns\n",
    "    -------\n",
    "    nodes : np.ndarray(dtype=float)\n",
    "        An n element array of nodes\n",
    "    nodes : np.ndarray(dtype=float)\n",
    "        An n element array of weights\n",
    "    Notes\n",
    "    -----\n",
    "    Based of original function ``qnwlege1`` in CompEcon toolbox by\n",
    "    Miranda and Fackler\n",
    "    References\n",
    "    ----------\n",
    "    Miranda, Mario J, and Paul L Fackler. Applied Computational\n",
    "    Economics and Finance, MIT Press, 2002.\n",
    "    \"\"\"\n",
    "    # import ipdb; ipdb.set_trace()\n",
    "    maxit = 100\n",
    "    m = np.fix((n + 1) / 2.0).astype(int)\n",
    "    xm = 0.5 * (b + a)\n",
    "    xl = 0.5 * (b - a)\n",
    "    nodes = np.zeros(n)\n",
    "\n",
    "    weights = nodes.copy()\n",
    "    i = np.arange(m, dtype='int')\n",
    "\n",
    "    z = np.cos(np.pi * ((i + 1.0) - 0.25) / (n + 0.5))\n",
    "\n",
    "    for its in range(maxit):\n",
    "        p1 = 1.0\n",
    "        p2 = 0.0\n",
    "        for j in range(1, n+1):\n",
    "            p3 = p2\n",
    "            p2 = p1\n",
    "            p1 = ((2 * j - 1) * z * p2 - (j - 1) * p3) / j\n",
    "\n",
    "        pp = n * (z * p1 - p2)/(z * z - 1.0)\n",
    "        z1 = z.copy()\n",
    "        z = z1 - p1/pp\n",
    "        if all(np.abs(z - z1) < 1e-14):\n",
    "            break\n",
    "\n",
    "    if its == maxit - 1:\n",
    "        raise ValueError(\"Maximum iterations in _qnwlege1\")\n",
    "\n",
    "    nodes[i] = xm - xl * z\n",
    "    nodes[- i - 1] = xm + xl * z\n",
    "\n",
    "    weights[i] = 2 * xl / ((1 - z * z) * pp * pp)\n",
    "    weights[- i - 1] = weights[i]\n",
    "\n",
    "    return nodes, weights\n",
    "\n",
    "\n",
    "\n",
    "\n",
    "\n",
    "        \n",
    "def _make_multidim_func(one_d_func, n, *args):\n",
    "    \"\"\"\n",
    "    A helper function to cut down on code repetition. Almost all of the\n",
    "    code in qnwcheb, qnwlege, qnwsimp, qnwtrap is just dealing\n",
    "    various forms of input arguments and then shelling out to the\n",
    "    corresponding 1d version of the function.\n",
    "    This routine does all the argument checking and passes things\n",
    "    through the appropriate 1d function before using a tensor product\n",
    "    to combine weights and nodes.\n",
    "    Parameters\n",
    "    ----------\n",
    "    one_d_func : function\n",
    "        The 1d function to be called along each dimension\n",
    "    n : int or array_like(float)\n",
    "        A length-d iterable of the number of nodes in each dimension\n",
    "    args :\n",
    "        These are the arguments to various qnw____ functions.  For the\n",
    "        majority of the functions this is just a and b, but some differ.\n",
    "    Returns\n",
    "    -------\n",
    "    func : function\n",
    "        The multi-dimensional version of the parameter ``one_d_func``\n",
    "    \"\"\"\n",
    "    args = list(args)\n",
    "    n = np.asarray(n)\n",
    "    args = list(map(np.asarray, args))\n",
    "\n",
    "    if all([x.size == 1 for x in [n] + args]):\n",
    "        return one_d_func(n, *args)\n",
    "\n",
    "    d = n.size\n",
    "\n",
    "    for i in range(len(args)):\n",
    "        if args[i].size == 1:\n",
    "            args[i] = np.repeat(args[i], d)\n",
    "\n",
    "    nodes = []\n",
    "    weights = []\n",
    "\n",
    "    for i in range(d):\n",
    "        ai = [x[i] for x in args]\n",
    "        _1d = one_d_func(n[i], *ai)\n",
    "        nodes.append(_1d[0])\n",
    "        weights.append(_1d[1])\n",
    "\n",
    "    weights = ckron(*weights[::-1])  # reverse ordered tensor product\n",
    "\n",
    "    nodes = gridmake(*nodes)\n",
    "    return nodes, weights    "
   ]
  },
  {
   "cell_type": "markdown",
   "metadata": {},
   "source": [
    "## 5.1 Newton-Cotes Methods\n",
    "\n"
   ]
  },
  {
   "cell_type": "markdown",
   "metadata": {},
   "source": [
    "Newton-Cotes quadrature methods are designed to approximate the integral of a realvalued\n",
    "function $f$ defined on a bounded interval $[a; b]$ of the real line. Newton-Cotes\n",
    "methods approximate the integrand $f$ between nodes using *low order polynomials*,\n",
    "and sum the integrals of the polynomials to form an estimate the integral of f. \n",
    "\n",
    "Two\n",
    "Newton-Cotes rules are widely used in practice: the **trapezoid rule and Simpson's\n",
    "rule**. Both rules are very easy to implement and are typically adequate for computing\n",
    "the area under a continuous function."
   ]
  },
  {
   "cell_type": "code",
   "execution_count": null,
   "metadata": {
    "collapsed": true
   },
   "outputs": [],
   "source": []
  },
  {
   "cell_type": "markdown",
   "metadata": {},
   "source": [
    "The trapezoid rule partitions the interval [a; b] into subintervals of equal length, approximates\n",
    "f over each subinterval using linear interpolants, and then sums the areas under the\n",
    "linear segments. The trapezoid rule draws its name from the fact that the area under f is\n",
    "approximated by a series of trapezoids."
   ]
  },
  {
   "cell_type": "code",
   "execution_count": null,
   "metadata": {
    "collapsed": true
   },
   "outputs": [],
   "source": []
  },
  {
   "cell_type": "markdown",
   "metadata": {},
   "source": [
    "where $x_i = a + (i-1)h$, with $h$ (called the step size) equal to   $ h=(b − a) / (n-1)$. The $w_i$ are called weights."
   ]
  },
  {
   "cell_type": "markdown",
   "metadata": {},
   "source": [
    "$$\\int _{a}^{b}f(x)\\,dx\\approx \\sum _{{i=1}}^{{n-1}}w_{i}\\,f(x_{i}).$$\n",
    "\n",
    "\n",
    "where $w_1 = w_n = h/2$ and $w_i = h$, otherwise.\n"
   ]
  },
  {
   "cell_type": "code",
   "execution_count": 4,
   "metadata": {
    "collapsed": false
   },
   "outputs": [
    {
     "data": {
      "text/latex": [
       "\\begin{align}\n",
       "\\int_a^b f(x)\\,dx &= \\int_{x_0}^{x_1} f(x) dx + \\int_{x_1}^{x_2} f(x) dx + \\ldots + \\int_{x_{n-1}}^{x_n} f(x) dx,     \\nonumber \\\\ \n",
       "                  &\\approx h \\frac{f(x_0) + f(x_1)}{2} +\n",
       "\t\t  h \\frac{f(x_1) + f(x_2)}{2} + \\ldots + \\nonumber \\\\ \n",
       "\t\t  &\\quad h \\frac{f(x_{n-1}) + f(x_n)}{2} \n",
       "\\end{align}"
      ],
      "text/plain": [
       "<IPython.core.display.Latex object>"
      ]
     },
     "metadata": {},
     "output_type": "display_data"
    }
   ],
   "source": [
    "%%latex\n",
    "\\begin{align}\n",
    "\\int_a^b f(x)\\,dx &= \\int_{x_0}^{x_1} f(x) dx + \\int_{x_1}^{x_2} f(x) dx + \\ldots + \\int_{x_{n-1}}^{x_n} f(x) dx,     \\nonumber \\\\ \n",
    "                  &\\approx h \\frac{f(x_0) + f(x_1)}{2} +\n",
    "\t\t  h \\frac{f(x_1) + f(x_2)}{2} + \\ldots + \\nonumber \\\\ \n",
    "\t\t  &\\quad h \\frac{f(x_{n-1}) + f(x_n)}{2} \n",
    "\\end{align}"
   ]
  },
  {
   "cell_type": "markdown",
   "metadata": {},
   "source": [
    "\n",
    "\n",
    "$$\\int_a^b f(x)\\,dx \\approx  \n",
    "\\frac{h}{2}\\left[f(x_0) + 2 f(x_1) + 2 f(x_2) + \\ldots + 2 f(x_{n-1}) + f(x_n)\\right]              \n",
    "$$\n",
    "\n",
    "\n",
    "\n",
    "\n",
    "$$\n",
    "\\int_a^b f(x)\\,dx \\approx h \\left[\\frac{1}{2}f(x_0) + \\sum_{i=1}^{n-1}f(x_i) + \\frac{1}{2}f(x_n) \\right] \\thinspace .\n",
    "$$"
   ]
  },
  {
   "cell_type": "markdown",
   "metadata": {},
   "source": [
    "For example, when $n = 2$\n",
    "\n",
    "\n",
    "$${\\frac  {b-a}{2}}(f_{0}+f_{1})$$"
   ]
  },
  {
   "cell_type": "code",
   "execution_count": null,
   "metadata": {
    "collapsed": true
   },
   "outputs": [],
   "source": [
    "def trapezoidal(f, a, b, n):\n",
    "    h = float(b-a)/n\n",
    "    result = 0.5*f(a) + 0.5*f(b)\n",
    "    for i in range(1, n):\n",
    "        result += f(a + i*h)\n",
    "    result *= h\n",
    "    return result"
   ]
  },
  {
   "cell_type": "code",
   "execution_count": null,
   "metadata": {
    "collapsed": true
   },
   "outputs": [],
   "source": []
  },
  {
   "cell_type": "markdown",
   "metadata": {},
   "source": [
    "The trapezoid rule is simple and robust. It is said to be first order exact because, if\n",
    "not for rounding error, it will exactly compute the integral of any first order polynomial,\n",
    "that is, a line. In general, if the integrand f is smooth, the trapezoid rule will yield an\n",
    "approximation error that is $O(h^2)$, that is, the error shrinks quadratically with the width of\n",
    "the subintervals."
   ]
  },
  {
   "cell_type": "code",
   "execution_count": 4,
   "metadata": {
    "collapsed": true
   },
   "outputs": [],
   "source": [
    "def qnwtrap(n, a, b):\n",
    "    \"\"\"\n",
    "    Computes multivariate trapezoid rule quadrature nodes and weights.\n",
    "    Parameters\n",
    "    ----------\n",
    "    n : int or array_like(float)\n",
    "        A length-d iterable of the number of nodes in each dimension\n",
    "    a : scalar or array_like(float)\n",
    "        A length-d iterable of lower endpoints. If a scalar is given,\n",
    "        that constant is repeated d times, where d is the number of\n",
    "        dimensions\n",
    "    b : scalar or array_like(float)\n",
    "        A length-d iterable of upper endpoints. If a scalar is given,\n",
    "        that constant is repeated d times, where d is the number of\n",
    "        dimensions\n",
    "    Returns\n",
    "    -------\n",
    "    nodes : np.ndarray(dtype=float)\n",
    "        Quadrature nodes\n",
    "    weights : np.ndarray(dtype=float)\n",
    "        Weights for quadrature nodes\n",
    "    Notes\n",
    "    -----\n",
    "    Based of original function ``qnwtrap`` in CompEcon toolbox by\n",
    "    Miranda and Fackler\n",
    "    References\n",
    "    ----------\n",
    "    Miranda, Mario J, and Paul L Fackler. Applied Computational\n",
    "    Economics and Finance, MIT Press, 2002.\n",
    "    \"\"\"\n",
    "    return _make_multidim_func(_qnwtrap1, n, a, b)"
   ]
  },
  {
   "cell_type": "code",
   "execution_count": null,
   "metadata": {
    "collapsed": true
   },
   "outputs": [],
   "source": []
  },
  {
   "cell_type": "code",
   "execution_count": null,
   "metadata": {
    "collapsed": true
   },
   "outputs": [],
   "source": []
  },
  {
   "cell_type": "markdown",
   "metadata": {},
   "source": [
    "Simpson's rule is based on piece-wise quadratic, rather than piece-wise linear, approximations\n",
    "to the integrand $f$."
   ]
  },
  {
   "cell_type": "markdown",
   "metadata": {},
   "source": [
    "$$\\int_a^b f(x)dx \\approx \\sum_{i=0}^{n-1} w_if(x_i)\\thinspace .$$"
   ]
  },
  {
   "cell_type": "markdown",
   "metadata": {},
   "source": [
    "More formally, let $x_i = a + (i - 1)h$ for $i = 1; 2; ... ; n$, where\n",
    "$ h=(b − a) / (n-1)$ and $n$ is odd. The nodes $x_i$ divide the interval $[a; b]$ into an even number\n",
    "$n - 1$ of subintervals of equal length $h$."
   ]
  },
  {
   "cell_type": "code",
   "execution_count": null,
   "metadata": {
    "collapsed": true
   },
   "outputs": [],
   "source": []
  },
  {
   "cell_type": "code",
   "execution_count": null,
   "metadata": {
    "collapsed": true
   },
   "outputs": [],
   "source": [
    "def qnwsimp(n, a, b):\n",
    "    \"\"\"\n",
    "    Computes multivariate Simpson quadrature nodes and weights.\n",
    "    Parameters\n",
    "    ----------\n",
    "    n : int or array_like(float)\n",
    "        A length-d iterable of the number of nodes in each dimension\n",
    "    a : scalar or array_like(float)\n",
    "        A length-d iterable of lower endpoints. If a scalar is given,\n",
    "        that constant is repeated d times, where d is the number of\n",
    "        dimensions\n",
    "    b : scalar or array_like(float)\n",
    "        A length-d iterable of upper endpoints. If a scalar is given,\n",
    "        that constant is repeated d times, where d is the number of\n",
    "        dimensions\n",
    "    Returns\n",
    "    -------\n",
    "    nodes : np.ndarray(dtype=float)\n",
    "        Quadrature nodes\n",
    "    weights : np.ndarray(dtype=float)\n",
    "        Weights for quadrature nodes\n",
    "    Notes\n",
    "    -----\n",
    "    Based of original function ``qnwsimp`` in CompEcon toolbox by\n",
    "    Miranda and Fackler\n",
    "    References\n",
    "    ----------\n",
    "    Miranda, Mario J, and Paul L Fackler. Applied Computational\n",
    "    Economics and Finance, MIT Press, 2002.\n",
    "    \"\"\"\n",
    "    return _make_multidim_func(_qnwsimp1, n, a, b)"
   ]
  },
  {
   "cell_type": "code",
   "execution_count": null,
   "metadata": {
    "collapsed": true
   },
   "outputs": [],
   "source": []
  },
  {
   "cell_type": "code",
   "execution_count": null,
   "metadata": {
    "collapsed": true
   },
   "outputs": [],
   "source": []
  },
  {
   "cell_type": "code",
   "execution_count": null,
   "metadata": {
    "collapsed": true
   },
   "outputs": [],
   "source": []
  },
  {
   "cell_type": "code",
   "execution_count": null,
   "metadata": {
    "collapsed": true
   },
   "outputs": [],
   "source": []
  },
  {
   "cell_type": "code",
   "execution_count": null,
   "metadata": {
    "collapsed": true
   },
   "outputs": [],
   "source": []
  },
  {
   "cell_type": "code",
   "execution_count": null,
   "metadata": {
    "collapsed": true
   },
   "outputs": [],
   "source": []
  },
  {
   "cell_type": "code",
   "execution_count": null,
   "metadata": {
    "collapsed": true
   },
   "outputs": [],
   "source": []
  },
  {
   "cell_type": "code",
   "execution_count": null,
   "metadata": {
    "collapsed": true
   },
   "outputs": [],
   "source": [
    "#https://github.com/birocoles/Disciplina-metodos-computacionais/blob/master/Content/newton-cotes.ipynb\n",
    "\n",
    "\n",
    "\n",
    "\n",
    "# http://nbviewer.jupyter.org/github/sbustamante/ComputationalMethods/blob/master/material/numerical-calculus.ipynb#Numerical-Integration"
   ]
  },
  {
   "cell_type": "code",
   "execution_count": null,
   "metadata": {
    "collapsed": true
   },
   "outputs": [],
   "source": []
  },
  {
   "cell_type": "code",
   "execution_count": null,
   "metadata": {
    "collapsed": true
   },
   "outputs": [],
   "source": []
  },
  {
   "cell_type": "code",
   "execution_count": null,
   "metadata": {
    "collapsed": true
   },
   "outputs": [],
   "source": []
  },
  {
   "cell_type": "markdown",
   "metadata": {
    "collapsed": true
   },
   "source": [
    "## 5.2 Gaussian Quadrature\n",
    "Gaussian quadrature rules are constructed with respect to specific weighting functions.\n",
    "Specifically, for a weighting function $w$ defined on an interval $I \\in R$ of the real\n",
    "line, and for a given order of approximation n, the quadrature nodes $x_1; x_2; ... ; x_n$\n",
    "and quadrature weights $w_1; w_2; ...; w_n$ are chosen so as to satisfy the $2n$ \"momentmatching\"\n",
    "conditions:"
   ]
  },
  {
   "cell_type": "code",
   "execution_count": null,
   "metadata": {
    "collapsed": true
   },
   "outputs": [],
   "source": []
  },
  {
   "cell_type": "code",
   "execution_count": null,
   "metadata": {
    "collapsed": true
   },
   "outputs": [],
   "source": []
  },
  {
   "cell_type": "code",
   "execution_count": null,
   "metadata": {
    "collapsed": true
   },
   "outputs": [],
   "source": []
  },
  {
   "cell_type": "markdown",
   "metadata": {
    "collapsed": true
   },
   "source": [
    "## 5.3 Monte Carlo Integration\n",
    "Monte Carlo integration methods are motivated by the Strong Law of Large Numbers.\n",
    "One version of the Law states that if $x_1; x_2; ... ; x_n$ are independent realizations of a\n",
    "random variable $\\tilde X$\n",
    "and $f$ is a continuous function, then\n",
    "\n"
   ]
  },
  {
   "cell_type": "code",
   "execution_count": null,
   "metadata": {
    "collapsed": true
   },
   "outputs": [],
   "source": []
  },
  {
   "cell_type": "code",
   "execution_count": null,
   "metadata": {
    "collapsed": true
   },
   "outputs": [],
   "source": []
  },
  {
   "cell_type": "markdown",
   "metadata": {},
   "source": [
    "## 5.4 Quasi-Monte Carlo Integration\n",
    "Although Monte-Carlo integration methods originated using insights from probability\n",
    "theory, recent extensions have severed that connection and, in the process, demonstrated\n",
    "ways in which the methods can be improved. Monte-Carlo methods rely on\n",
    "sequences $x_i$ with the property that"
   ]
  },
  {
   "cell_type": "code",
   "execution_count": null,
   "metadata": {
    "collapsed": true
   },
   "outputs": [],
   "source": []
  },
  {
   "cell_type": "code",
   "execution_count": null,
   "metadata": {
    "collapsed": true
   },
   "outputs": [],
   "source": []
  },
  {
   "cell_type": "markdown",
   "metadata": {},
   "source": [
    "## 5.5 An Integration Toolbox\n",
    "The Matlab toolbox accompanying the textbook includes four functions for computing\n",
    "numerical integrals for general functions. Each takes three inputs, n, a, and b and\n",
    "generates appropriate nodes and weights. The functions `qnwtrap` and `qnwsimp` implement the Newton-Cotes trapezoid and Simpson's rule methods, `qnwlege` implements\n",
    "Gauss-Legendre quadrature and `qnwequi` generates nodes and weights associated with\n",
    "either equidistributed or pseudo-random sequences. The calling syntax is the same\n",
    "for each and is illustrated with below with `qnwtrap`.\n",
    "\n",
    "\n"
   ]
  },
  {
   "cell_type": "code",
   "execution_count": null,
   "metadata": {
    "collapsed": true
   },
   "outputs": [],
   "source": [
    "\n",
    "\n",
    "\n",
    "\n",
    "    \n",
    "        \n",
    "\n",
    "\n",
    "\n",
    "\n",
    "\n",
    "\n",
    "\n",
    "def qnwlege(n, a, b):\n",
    "    \"\"\"\n",
    "    Computes multivariate Guass-Legendre  quadrature nodes and weights.\n",
    "    Parameters\n",
    "    ----------\n",
    "    n : int or array_like(float)\n",
    "        A length-d iterable of the number of nodes in each dimension\n",
    "    a : scalar or array_like(float)\n",
    "        A length-d iterable of lower endpoints. If a scalar is given,\n",
    "        that constant is repeated d times, where d is the number of\n",
    "        dimensions\n",
    "    b : scalar or array_like(float)\n",
    "        A length-d iterable of upper endpoints. If a scalar is given,\n",
    "        that constant is repeated d times, where d is the number of\n",
    "        dimensions\n",
    "    Returns\n",
    "    -------\n",
    "    nodes : np.ndarray(dtype=float)\n",
    "        Quadrature nodes\n",
    "    weights : np.ndarray(dtype=float)\n",
    "        Weights for quadrature nodes\n",
    "    Notes\n",
    "    -----\n",
    "    Based of original function ``qnwlege`` in CompEcon toolbox by\n",
    "    Miranda and Fackler\n",
    "    References\n",
    "    ----------\n",
    "    Miranda, Mario J, and Paul L Fackler. Applied Computational\n",
    "    Economics and Finance, MIT Press, 2002.\n",
    "    \"\"\"\n",
    "    return _make_multidim_func(_qnwlege1, n, a, b)\n",
    "\n",
    "\n",
    "\n",
    "def qnwequi(n, a, b, kind=\"N\", equidist_pp=None):\n",
    "    \"\"\"\n",
    "    Generates equidistributed sequences with property that averages\n",
    "    value of integrable function evaluated over the sequence converges\n",
    "    to the integral as n goes to infinity.\n",
    "    Parameters\n",
    "    ----------\n",
    "    n : int\n",
    "        Number of sequence points\n",
    "    a : scalar or array_like(float)\n",
    "        A length-d iterable of lower endpoints. If a scalar is given,\n",
    "        that constant is repeated d times, where d is the number of\n",
    "        dimensions\n",
    "    b : scalar or array_like(float)\n",
    "        A length-d iterable of upper endpoints. If a scalar is given,\n",
    "        that constant is repeated d times, where d is the number of\n",
    "        dimensions\n",
    "    kind : string, optional(default=\"N\")\n",
    "        One of the following:\n",
    "        - N - Neiderreiter (default)\n",
    "        - W - Weyl\n",
    "        - H - Haber\n",
    "        - R - pseudo Random\n",
    "    equidist_pp : array_like, optional(default=None)\n",
    "        TODO: I don't know what this does\n",
    "    Returns\n",
    "    -------\n",
    "    nodes : np.ndarray(dtype=float)\n",
    "        Quadrature nodes\n",
    "    weights : np.ndarray(dtype=float)\n",
    "        Weights for quadrature nodes\n",
    "    Notes\n",
    "    -----\n",
    "    Based of original function ``qnwequi`` in CompEcon toolbox by\n",
    "    Miranda and Fackler\n",
    "    References\n",
    "    ----------\n",
    "    Miranda, Mario J, and Paul L Fackler. Applied Computational\n",
    "    Economics and Finance, MIT Press, 2002.\n",
    "    \"\"\"\n",
    "    if equidist_pp is None:\n",
    "        equidist_pp = np.sqrt(np.array(list(sym.primerange(0, 7920))))\n",
    "\n",
    "    n, a, b = list(map(np.atleast_1d, list(map(np.asarray, [n, a, b]))))\n",
    "\n",
    "    d = max(list(map(len, [n, a, b])))\n",
    "    n = np.prod(n)\n",
    "\n",
    "    if a.size == 1:\n",
    "        a = np.repeat(a, d)\n",
    "\n",
    "    if b.size == 1:\n",
    "        b = np.repeat(b, d)\n",
    "\n",
    "    i = np.arange(1, n + 1)\n",
    "\n",
    "    if kind.upper() == \"N\":  # Neiderreiter\n",
    "        j = 2.0 ** (np.arange(1, d+1) / (d+1))\n",
    "        nodes = np.outer(i, j)\n",
    "        nodes = (nodes - np.fix(nodes)).squeeze()\n",
    "    elif kind.upper() == \"W\":  # Weyl\n",
    "        j = equidist_pp[:d]\n",
    "        nodes = np.outer(i, j)\n",
    "        nodes = (nodes - np.fix(nodes)).squeeze()\n",
    "    elif kind.upper() == \"H\":  # Haber\n",
    "        j = equidist_pp[:d]\n",
    "        nodes = np.outer(i * (i+1) / 2, j)\n",
    "        nodes = (nodes - np.fix(nodes)).squeeze()\n",
    "    elif kind.upper() == \"R\":  # pseudo-random\n",
    "        nodes = np.random.rand(n, d).squeeze()\n",
    "    else:\n",
    "        raise ValueError(\"Unknown sequence requested\")\n",
    "\n",
    "    # compute nodes and weights\n",
    "    r = b - a\n",
    "    nodes = a + nodes * r\n",
    "    weights = (np.prod(r) / n) * np.ones(n)\n",
    "\n",
    "    return nodes, weights\n",
    "\n",
    "\n"
   ]
  },
  {
   "cell_type": "code",
   "execution_count": null,
   "metadata": {
    "collapsed": true
   },
   "outputs": [],
   "source": []
  },
  {
   "cell_type": "code",
   "execution_count": null,
   "metadata": {
    "collapsed": true
   },
   "outputs": [],
   "source": []
  },
  {
   "cell_type": "code",
   "execution_count": null,
   "metadata": {
    "collapsed": true
   },
   "outputs": [],
   "source": []
  },
  {
   "cell_type": "code",
   "execution_count": null,
   "metadata": {
    "collapsed": true
   },
   "outputs": [],
   "source": []
  },
  {
   "cell_type": "markdown",
   "metadata": {},
   "source": [
    "All of the quadrature functions will use tensor products to generate nodes and\n",
    "weights for integration over an arbitrary bounded interval [a; b] in higher dimensional\n",
    "spaces."
   ]
  },
  {
   "cell_type": "code",
   "execution_count": null,
   "metadata": {
    "collapsed": true
   },
   "outputs": [],
   "source": []
  },
  {
   "cell_type": "code",
   "execution_count": null,
   "metadata": {
    "collapsed": true
   },
   "outputs": [],
   "source": []
  },
  {
   "cell_type": "markdown",
   "metadata": {},
   "source": [
    "## 5.6 Numerical Differentiation\n",
    "The most natural way to approximate a derivative is to replace it with a finite difference.\n",
    "The definition of a derivative,\n",
    "\n",
    "\n"
   ]
  },
  {
   "cell_type": "code",
   "execution_count": null,
   "metadata": {
    "collapsed": true
   },
   "outputs": [],
   "source": []
  },
  {
   "cell_type": "code",
   "execution_count": null,
   "metadata": {
    "collapsed": true
   },
   "outputs": [],
   "source": []
  },
  {
   "cell_type": "code",
   "execution_count": null,
   "metadata": {
    "collapsed": true
   },
   "outputs": [],
   "source": []
  },
  {
   "cell_type": "markdown",
   "metadata": {},
   "source": [
    "## 5.7 Initial Value Problems\n",
    "Differential equations pose the problem of inferring a function given information\n",
    "about its derivatives and additional \"boundary\" conditions. Differential equations\n",
    "may characterized as either ordinary differential equations (ODEs), whose solutions\n",
    "are functions of a single argument, and partial differential equations (PDEs), whose\n",
    "solutions are functions of multiple arguments. Both ODEs and PDEs may be solved\n",
    "numerically using finite difference methods."
   ]
  },
  {
   "cell_type": "markdown",
   "metadata": {},
   "source": [
    "From a numerical point of view the distinction between ODEs and PDEs is less\n",
    "important than the distinction between initial value problems (IVPs), which can be\n",
    "solved in a recursive or evolutionary fashion, and boundary value problems (BVPs),\n",
    "which require the entire solution to be computed simultaneously because the solution\n",
    "at one point (in time and/or space) depends on the solution everywhere else. For\n",
    "ODEs, the solution of an IVP is known at some point and the solution near this\n",
    "point can then be (approximately) determined. This, in turn, allows the solution at\n",
    "still other points to be approximated and so forth. BVPs, on the other hand, require\n",
    "simultaneous solution of the differential equation and the boundary conditions. We\n",
    "take up the solution of IVPs in this section, but defer discussion of BVPs until the\n",
    "next chapter (page 164)."
   ]
  },
  {
   "cell_type": "code",
   "execution_count": null,
   "metadata": {
    "collapsed": true
   },
   "outputs": [],
   "source": []
  },
  {
   "cell_type": "code",
   "execution_count": null,
   "metadata": {
    "collapsed": true
   },
   "outputs": [],
   "source": []
  },
  {
   "cell_type": "markdown",
   "metadata": {},
   "source": [
    "There are numerous other approaches and refinements to solving initial value problems.\n",
    "Brie\n",
    "y, these include so-called multi-step algorithms which utilize information\n",
    "from previous steps to determine the current step direction (Runge-Kutta are singlestep\n",
    "methods). Also, any method can adapt the step size to the current behavior\n",
    "of the system by monitoring the truncation error, reducing (increasing) the step size\n",
    "if this error is unacceptably large (small). Adaptive schemes are important if one\n",
    "requires a given level of accuracy."
   ]
  },
  {
   "cell_type": "code",
   "execution_count": null,
   "metadata": {
    "collapsed": true
   },
   "outputs": [],
   "source": []
  },
  {
   "cell_type": "markdown",
   "metadata": {},
   "source": [
    "### Example: Commercial Fishery"
   ]
  },
  {
   "cell_type": "code",
   "execution_count": null,
   "metadata": {
    "collapsed": true
   },
   "outputs": [],
   "source": []
  },
  {
   "cell_type": "code",
   "execution_count": null,
   "metadata": {
    "collapsed": true
   },
   "outputs": [],
   "source": []
  },
  {
   "cell_type": "code",
   "execution_count": null,
   "metadata": {
    "collapsed": true
   },
   "outputs": [],
   "source": []
  },
  {
   "cell_type": "code",
   "execution_count": null,
   "metadata": {
    "collapsed": true
   },
   "outputs": [],
   "source": []
  }
 ],
 "metadata": {
  "kernelspec": {
   "display_name": "Python 3",
   "language": "python",
   "name": "python3"
  },
  "language_info": {
   "codemirror_mode": {
    "name": "ipython",
    "version": 3
   },
   "file_extension": ".py",
   "mimetype": "text/x-python",
   "name": "python",
   "nbconvert_exporter": "python",
   "pygments_lexer": "ipython3",
   "version": "3.5.2"
  }
 },
 "nbformat": 4,
 "nbformat_minor": 1
}
