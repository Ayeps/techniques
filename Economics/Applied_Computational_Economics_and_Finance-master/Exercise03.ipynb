{
 "cells": [
  {
   "cell_type": "markdown",
   "metadata": {
    "collapsed": true
   },
   "source": [
    "# Exercises03\n",
    "\n",
    "## exercise 3.1. \n",
    "\n",
    "\n",
    "If $x = \\sqrt c $ then $x^2 - c = 0$.\n",
    "\n",
    "- a) Use this root condition to construct a Newton's method for determining the\n",
    "square root that uses only simple arithmetic operations (addition, subtraction,\n",
    "multiplication and division).\n",
    "\n",
    "\n",
    "- b) Given an arbitrary value of c > 0, how would you find a starting value to\n",
    "begin Newton's method?\n",
    "\n",
    "\n",
    "- c) Write a python function\n",
    "\n",
    "      function x=newtroot(c)\n",
    "\n",
    "that implements the method. The procedure should be self-contained (i.e., it\n",
    "should not call a generic root-finding algorithm).\n",
    "\n"
   ]
  },
  {
   "cell_type": "code",
   "execution_count": 1,
   "metadata": {
    "collapsed": false
   },
   "outputs": [
    {
     "name": "stdout",
     "output_type": "stream",
     "text": [
      "newtroot(1) = 1\n",
      "newtroot(25) = 5\n",
      "newtroot(49) = 7\n",
      "newtroot(30.25) = 5.5\n",
      "newtroot(100) = 10\n"
     ]
    }
   ],
   "source": [
    "def newtroot(c):\n",
    "    x = c / 2 # a starting value to begin Newton's method\n",
    "    for it in range(150):\n",
    "        fx = x ** 2 - c\n",
    "        if abs(fx) < 1.e-9:\n",
    "            break\n",
    "        else:\n",
    "            x = x - fx / (2 * x) # 2*x is the jacobian\n",
    "\n",
    "    return x\n",
    "\n",
    "# testing with some known values\n",
    "for c in [1.0, 25.0, 49.0, 30.25, 100]:\n",
    "    print('newtroot({:g}) = {:g}'.format(c, newtroot(c)))"
   ]
  },
  {
   "cell_type": "markdown",
   "metadata": {},
   "source": [
    "##  exercise 3.2\n",
    "The computation of $ \\sqrt {1+c^2} - 1$ can fail due to **overflow or underflow**: \n",
    "\n",
    "when $c$ is large, squaring it can exceed the largest representable number (realmax? in Python), whereas when c is small, the addition $1 + c^2$ will be truncated to 1.\n",
    "\n",
    "Noting that $x = \\sqrt{1 + c^2} - 1$ is equivalent to the condition\n",
    "\n",
    "$$(x + 1)^2 - (1 + c^2) = 0$$\n",
    "\n",
    "    f(x) = (x+1)^2 - (1+c^2)\n",
    "\n",
    "Determine the iterations of the Newton method for finding x and a good starting\n",
    "value for the iterations. \n",
    "\n",
    "Write a Python program that accepts c and returns\n",
    "x, using only simple arithmetic operations (i.e., do not use power, log, square\n",
    "root operators). The procedure should be self-contained (i.e., it should not call\n",
    "a generic root-finding algorithm). Be sure to deal with the **overflow problem**.\n",
    "\n",
    "\n"
   ]
  },
  {
   "cell_type": "code",
   "execution_count": 9,
   "metadata": {
    "collapsed": false
   },
   "outputs": [
    {
     "name": "stdout",
     "output_type": "stream",
     "text": [
      "newtroot2(0) = 0\n",
      "newtroot2(1) = 0.414214\n",
      "newtroot2(1e-12) = 1e-12\n"
     ]
    },
    {
     "ename": "OverflowError",
     "evalue": "(34, 'Numerical result out of range')",
     "output_type": "error",
     "traceback": [
      "\u001b[0;31m---------------------------------------------------------------------------\u001b[0m",
      "\u001b[0;31mOverflowError\u001b[0m                             Traceback (most recent call last)",
      "\u001b[0;32m<ipython-input-9-17bace3e65ac>\u001b[0m in \u001b[0;36m<module>\u001b[0;34m()\u001b[0m\n\u001b[1;32m     12\u001b[0m \u001b[0;31m# testing with some extreme values\u001b[0m\u001b[0;34m\u001b[0m\u001b[0;34m\u001b[0m\u001b[0m\n\u001b[1;32m     13\u001b[0m \u001b[0;32mfor\u001b[0m \u001b[0mc\u001b[0m \u001b[0;32min\u001b[0m \u001b[0;34m[\u001b[0m\u001b[0;36m0.0\u001b[0m\u001b[0;34m,\u001b[0m \u001b[0;36m1.0\u001b[0m\u001b[0;34m,\u001b[0m \u001b[0;36m1.e-12\u001b[0m\u001b[0;34m,\u001b[0m \u001b[0;36m1.e250\u001b[0m\u001b[0;34m]\u001b[0m\u001b[0;34m:\u001b[0m\u001b[0;34m\u001b[0m\u001b[0m\n\u001b[0;32m---> 14\u001b[0;31m     \u001b[0mprint\u001b[0m\u001b[0;34m(\u001b[0m\u001b[0;34m'newtroot2({:g}) = {:g}'\u001b[0m\u001b[0;34m.\u001b[0m\u001b[0mformat\u001b[0m\u001b[0;34m(\u001b[0m\u001b[0mc\u001b[0m\u001b[0;34m,\u001b[0m \u001b[0mnewtroot2\u001b[0m\u001b[0;34m(\u001b[0m\u001b[0mc\u001b[0m\u001b[0;34m)\u001b[0m\u001b[0;34m)\u001b[0m\u001b[0;34m)\u001b[0m\u001b[0;34m\u001b[0m\u001b[0m\n\u001b[0m",
      "\u001b[0;32m<ipython-input-9-17bace3e65ac>\u001b[0m in \u001b[0;36mnewtroot2\u001b[0;34m(c)\u001b[0m\n\u001b[1;32m      2\u001b[0m     \u001b[0mx\u001b[0m \u001b[0;34m=\u001b[0m \u001b[0mabs\u001b[0m\u001b[0;34m(\u001b[0m\u001b[0mc\u001b[0m\u001b[0;34m)\u001b[0m \u001b[0;31m# starting value\u001b[0m\u001b[0;34m\u001b[0m\u001b[0m\n\u001b[1;32m      3\u001b[0m     \u001b[0;32mfor\u001b[0m \u001b[0mit\u001b[0m \u001b[0;32min\u001b[0m \u001b[0mrange\u001b[0m\u001b[0;34m(\u001b[0m\u001b[0;36m150\u001b[0m\u001b[0;34m)\u001b[0m\u001b[0;34m:\u001b[0m\u001b[0;34m\u001b[0m\u001b[0m\n\u001b[0;32m----> 4\u001b[0;31m         \u001b[0mstep\u001b[0m \u001b[0;34m=\u001b[0m \u001b[0;34m(\u001b[0m\u001b[0;36m1.0\u001b[0m \u001b[0;34m/\u001b[0m \u001b[0;34m(\u001b[0m\u001b[0;36m2.0\u001b[0m \u001b[0;34m*\u001b[0m \u001b[0mx\u001b[0m \u001b[0;34m+\u001b[0m \u001b[0;36m2.0\u001b[0m\u001b[0;34m)\u001b[0m\u001b[0;34m)\u001b[0m \u001b[0;34m*\u001b[0m \u001b[0;34m(\u001b[0m\u001b[0;34m(\u001b[0m\u001b[0mx\u001b[0m \u001b[0;34m+\u001b[0m \u001b[0;36m1\u001b[0m\u001b[0;34m)\u001b[0m \u001b[0;34m**\u001b[0m \u001b[0;36m2\u001b[0m \u001b[0;34m-\u001b[0m \u001b[0;34m(\u001b[0m\u001b[0;36m1\u001b[0m \u001b[0;34m+\u001b[0m \u001b[0mc\u001b[0m \u001b[0;34m**\u001b[0m \u001b[0;36m2\u001b[0m\u001b[0;34m)\u001b[0m\u001b[0;34m)\u001b[0m \u001b[0;31m# jacobian*f(x)\u001b[0m\u001b[0;34m\u001b[0m\u001b[0m\n\u001b[0m\u001b[1;32m      5\u001b[0m         \u001b[0;32mif\u001b[0m \u001b[0mabs\u001b[0m\u001b[0;34m(\u001b[0m\u001b[0mstep\u001b[0m\u001b[0;34m)\u001b[0m \u001b[0;34m<\u001b[0m \u001b[0;36m1.e-9\u001b[0m\u001b[0;34m:\u001b[0m\u001b[0;34m\u001b[0m\u001b[0m\n\u001b[1;32m      6\u001b[0m             \u001b[0;32mbreak\u001b[0m\u001b[0;34m\u001b[0m\u001b[0m\n",
      "\u001b[0;31mOverflowError\u001b[0m: (34, 'Numerical result out of range')"
     ]
    }
   ],
   "source": [
    "def newtroot2(c):\n",
    "    x = abs(c) # starting value\n",
    "    for it in range(150):\n",
    "        step = (1.0 / (2.0 * x + 2.0)) * ((x + 1) ** 2 - (1 + c ** 2)) # jacobian*f(x)\n",
    "        if abs(step) < 1.e-9:\n",
    "            break\n",
    "        else:\n",
    "            x =x - step\n",
    "\n",
    "    return x\n",
    "\n",
    "# testing with some extreme values, not pass\n",
    "for c in [0.0, 1.0, 1.e-12, 1.e250]:\n",
    "    print('newtroot2({:g}) = {:g}'.format(c, newtroot2(c)))"
   ]
  },
  {
   "cell_type": "code",
   "execution_count": null,
   "metadata": {
    "collapsed": true
   },
   "outputs": [],
   "source": []
  },
  {
   "cell_type": "markdown",
   "metadata": {},
   "source": [
    "    (1.0 / (2.0 * x + 2.0)) * ((x + 1) ** 2 - (1 + c ** 2))\n",
    "\n",
    "$$\\frac{1}{2*( x +1)} * ((x + 1) ^ 2 - (1 + c^ 2))$$\n",
    "\n",
    "\n",
    "whereas when c is small, the addition $1 + c^2$ will be truncated to 1.\n",
    "\n",
    "    step = (x + 1 - ((1 + c) / (1 + x)) * (1 + c) + 2 * (c / (1 + x))) / 2 # trick ?\n",
    "\n",
    "$$\\frac{x + 1 - \\frac{1 + c}{ 1 + x} * (1 + c) + 2 * \\frac{c}{(1 + x)}}{2}$$\n",
    "\n",
    "\n",
    "\n"
   ]
  },
  {
   "cell_type": "markdown",
   "metadata": {},
   "source": [
    "$$ \\frac{1}{2*(x+1) } *  ( (x+1)^2  - (1+c)^2 + 2*c     )  $$"
   ]
  },
  {
   "cell_type": "markdown",
   "metadata": {},
   "source": [
    "\n",
    " \n",
    "The addition $(1 + c)^2 - 2c$ will not be problem anymore.\n",
    "  "
   ]
  },
  {
   "cell_type": "code",
   "execution_count": null,
   "metadata": {
    "collapsed": true
   },
   "outputs": [],
   "source": []
  },
  {
   "cell_type": "code",
   "execution_count": 2,
   "metadata": {
    "collapsed": false
   },
   "outputs": [
    {
     "name": "stdout",
     "output_type": "stream",
     "text": [
      "newtroot2(0) = 0\n",
      "newtroot2(1) = 0.414214\n",
      "newtroot2(1e-12) = 1e-12\n",
      "newtroot2(1e+250) = 1e+250\n"
     ]
    }
   ],
   "source": [
    "def newtroot2(c):\n",
    "    x = abs(c) # starting value\n",
    "    for it in range(150):\n",
    "        step = (x + 1 - ((1 + c) / (1 + x)) * (1 + c) + 2 * (c / (1 + x))) / 2 # trick ?\n",
    "        if abs(step) < 1.e-9:\n",
    "            break\n",
    "        else:\n",
    "            x =x - step\n",
    "\n",
    "    return x\n",
    "\n",
    "# testing with some extreme values\n",
    "for c in [0.0, 1.0, 1.e-12, 1.e250]:\n",
    "    print('newtroot2({:g}) = {:g}'.format(c, newtroot2(c)))"
   ]
  },
  {
   "cell_type": "code",
   "execution_count": null,
   "metadata": {
    "collapsed": true
   },
   "outputs": [],
   "source": []
  },
  {
   "cell_type": "markdown",
   "metadata": {
    "collapsed": true
   },
   "source": [
    "\n"
   ]
  },
  {
   "cell_type": "markdown",
   "metadata": {
    "collapsed": true
   },
   "source": [
    "## exercise 3.3\n",
    "\n",
    "### Black-Scholes Option Pricing Formula\n",
    "\n",
    "The Black-Scholes option pricing formula expresses the value of an option as a\n",
    "function of the current value of the underlying asset, S, the option's strike price\n",
    "K, the time-to-maturity on the option, \u001c",
    " , the current risk-free interest rate, r,\n",
    "a dividend rate, Æ, and the volatility of the the price of the underlying asset, \u001b."
   ]
  },
  {
   "cell_type": "code",
   "execution_count": 7,
   "metadata": {
    "collapsed": true
   },
   "outputs": [],
   "source": [
    "import numpy as np\n",
    "from numpy import log, exp, sqrt\n",
    "\n",
    "from math import fabs\n",
    "from warnings import warn\n",
    "\n",
    "from scipy import stats\n",
    "\n",
    "\n"
   ]
  },
  {
   "cell_type": "code",
   "execution_count": 11,
   "metadata": {
    "collapsed": false
   },
   "outputs": [
    {
     "name": "stdout",
     "output_type": "stream",
     "text": [
      "original sigma =  0.2\n",
      "implied sigma =  0.200000000007\n",
      "market value =  0.166317210914\n"
     ]
    }
   ],
   "source": [
    "Phi = stats.norm.cdf\n",
    "\n",
    "\n",
    "def BSVal(S, K, tau, r, delta, sigma):\n",
    "    edtS = exp(-delta * tau) * S\n",
    "    ertK = exp(-r* tau) * K\n",
    "    sigmat = sigma * sqrt(tau)\n",
    "\n",
    "    d = (log(edtS) - log(ertK)) / sigmat + sigmat / 2\n",
    "    value = edtS * Phi(d) - ertK * Phi(d - sigmat)\n",
    "    value_sigma = edtS * sqrt(tau / (2 * np.pi)) * exp(-0.5 * d ** 2)\n",
    "    return value, value_sigma\n",
    "\n",
    "def ImpVol(S, K, tau, r, delta, V):\n",
    "    sigma = 1.0\n",
    "    for it in range(150):\n",
    "        value, dvalue = BSVal(S, K, tau, r, delta, sigma)\n",
    "        f = V - value\n",
    "        if abs(f) < 1.e-9:\n",
    "            break\n",
    "        else:\n",
    "            step = (V - value) / dvalue\n",
    "            sigma += step\n",
    "\n",
    "    return sigma\n",
    "\n",
    "# Testing the formula with parameters from demfin02\n",
    "S, K, tau, r, delta = 1.12, 1.0, 1, 0.05, 0.03\n",
    "sigma = 0.2\n",
    "\n",
    "market_value = BSVal(S, K, tau, r, delta, sigma)[0]\n",
    "implied_sigma = ImpVol(S, K, tau, r, delta, market_value)\n",
    "print('original sigma = ', sigma)\n",
    "print('implied sigma = ', implied_sigma)\n",
    "print('market value = ', market_value)"
   ]
  },
  {
   "cell_type": "code",
   "execution_count": null,
   "metadata": {
    "collapsed": true
   },
   "outputs": [],
   "source": []
  },
  {
   "cell_type": "markdown",
   "metadata": {
    "collapsed": true
   },
   "source": [
    "## exercise 3.5 \n",
    "\n",
    "Consider the function $f : R^2 -> R^2  $  defined by\n",
    "\n",
    "\n",
    "\n",
    "    fval = [200 * x * (y - x ** 2) - x + 1, 100 * (x ** 2 - y)]\n",
    "    \n",
    "    fjac = [[200 * (y - 3*x**2) - 1, 200*x],\n",
    "            [200 * x, -100]]\n",
    "\n",
    "Write a Python function 'func' that takes a column 2-vector x as input and\n",
    "returns f, a column 2-vector that contains the value of f at x, and d, a 2 by 2\n",
    "matrix that contains the Jacobian of f at x.\n",
    "\n",
    "(a) Compute numerically the root of f via Newton's method.\n",
    "\n",
    "(b) Compute numerically the root of f via Broyden's method.\n"
   ]
  },
  {
   "cell_type": "code",
   "execution_count": 16,
   "metadata": {
    "collapsed": true
   },
   "outputs": [],
   "source": [
    "def func(z):\n",
    "    x, y = z\n",
    "    fval = [200 * x * (y - x ** 2) - x + 1, 100 * (x ** 2 - y)]\n",
    "    fjac = [[200 * (y - 3*x**2) - 1, 200*x],\n",
    "            [200 * x, -100]]\n",
    "    return np.array(fval), np.array(fjac)\n",
    "\n"
   ]
  },
  {
   "cell_type": "code",
   "execution_count": 17,
   "metadata": {
    "collapsed": true
   },
   "outputs": [],
   "source": [
    "def mynewton(f, x0, maxit=1000, tol=1/1000 ):\n",
    "    x = x0\n",
    "    for it in np.arange(maxit):\n",
    "        fval, fjac = f(x)\n",
    "        x = x - np.linalg.inv(fjac).dot(fval)\n",
    "        if np.linalg.norm(fval)<tol:\n",
    "            break\n",
    "    return x    "
   ]
  },
  {
   "cell_type": "code",
   "execution_count": 18,
   "metadata": {
    "collapsed": false
   },
   "outputs": [
    {
     "name": "stdout",
     "output_type": "stream",
     "text": [
      "Solution by Newton: [ 1.          0.99999951]\n"
     ]
    }
   ],
   "source": [
    "x0 = np.array([0.4, 1.4])\n",
    "\n",
    "\n",
    "\n",
    "print('Solution by Newton:', mynewton(func,x0))\n",
    "\n",
    "\n",
    "\n",
    "\n"
   ]
  },
  {
   "cell_type": "code",
   "execution_count": 41,
   "metadata": {
    "collapsed": true
   },
   "outputs": [],
   "source": [
    "f = lambda x: np.array([200 * x[0] * (x[1] - x[0] ** 2) - x[0] + 1, 100 * (x[0] ** 2 - x[1])])"
   ]
  },
  {
   "cell_type": "code",
   "execution_count": 42,
   "metadata": {
    "collapsed": false
   },
   "outputs": [
    {
     "data": {
      "text/plain": [
       "array([ 0.99999477,  0.99998955])"
      ]
     },
     "execution_count": 42,
     "metadata": {},
     "output_type": "execute_result"
    }
   ],
   "source": [
    "from scipy.optimize import fsolve\n",
    "fsolve(func = f, x0 = x0, xtol=1/ 1000)  # without jacobian"
   ]
  },
  {
   "cell_type": "code",
   "execution_count": null,
   "metadata": {
    "collapsed": true
   },
   "outputs": [],
   "source": []
  },
  {
   "cell_type": "code",
   "execution_count": null,
   "metadata": {
    "collapsed": true
   },
   "outputs": [],
   "source": []
  },
  {
   "cell_type": "code",
   "execution_count": null,
   "metadata": {
    "collapsed": true
   },
   "outputs": [],
   "source": []
  },
  {
   "cell_type": "code",
   "execution_count": null,
   "metadata": {
    "collapsed": true
   },
   "outputs": [],
   "source": []
  },
  {
   "cell_type": "code",
   "execution_count": null,
   "metadata": {
    "collapsed": true
   },
   "outputs": [],
   "source": [
    "#https://github.com/randall-romero/CompEcon-python/blob/master/compecon/tools.py\n",
    "# The script also computes an initial guess for the inverse Jacobian by inverting the finite difierence derivative computed\n",
    "# using the toolbox function fdjac, which is discussed in Chapter 5 (page 107).\n",
    "def jacobian(func, x, *args, **kwargs):\n",
    "\n",
    "    # if type(func(x, *args, **kwargs)) is tuple:\n",
    "    #     F = lambda x: func(x, *args, **kwargs)[0]\n",
    "    # else:\n",
    "    #     F = lambda x: func(x, *args, **kwargs)\n",
    "    F = lambda z: func(z, *args, **kwargs)\n",
    "\n",
    "    x = x.flatten()\n",
    "    dx = x.size\n",
    "    f = F(x)\n",
    "    df = f.size\n",
    "    x = x.astype(float)\n",
    "\n",
    "    ''' Compute Jacobian'''\n",
    "    tol = np.spacing(1) ** (1/3)\n",
    "\n",
    "    h = tol * np.maximum(abs(x), 1)\n",
    "    x_minus_h = x - h\n",
    "    x_plus_h = x + h\n",
    "    deltaX = x_plus_h - x_minus_h\n",
    "    fx = np.zeros((dx, df))\n",
    "\n",
    "    for k in range(dx):\n",
    "        xx = x.copy()\n",
    "        xx[k] = x_plus_h[k]\n",
    "        fplus = F(xx)\n",
    "\n",
    "        xx[k] = x_minus_h[k]\n",
    "        fminus = F(xx)\n",
    "\n",
    "        fx[k] = np.squeeze((fplus - fminus) / deltaX[k])  # fixme doing this to deal with broadcasting\n",
    "\n",
    "    return fx.T\n"
   ]
  },
  {
   "cell_type": "code",
   "execution_count": 69,
   "metadata": {
    "collapsed": false
   },
   "outputs": [],
   "source": [
    "def mybroyden(f, x0, maxit = 1000, tol = 1/1000):\n",
    "    \n",
    "    x=x0\n",
    "    A = f(x)\n",
    "    _is_there_jacobian = (type(A) is tuple) and (len(A) == 2)\n",
    "    \n",
    "    if _is_there_jacobian:\n",
    "        print('Jacobian was  provided by user!')\n",
    "        fval,fjac = f(x)\n",
    "    else:    \n",
    "        print('Jacobian was not provided by user!')\n",
    "        fval = f(x)\n",
    "        try:\n",
    "            fjac = jacobian(f,x)\n",
    "        except NameError:\n",
    "            print(\"jacobian function Not in scope!\\n Using identity matrix as jacobian matrix\")\n",
    "            fjac = np.identity(x.size)\n",
    "        else:\n",
    "            print(\"jacobian function In scope!\")\n",
    "            #fjac = jacobian(f,x)  \n",
    "#         return None\n",
    "#     fval = f(x)[0] if _is_there_jacobian else f(x)\n",
    "#     fjac = f(x)[1] if _is_there_jacobian else jacobian(f,x)   # take  one output from f(x)\n",
    "    # using numpy to calculate inversed Jacobian, only for initialize. later, we update it without calculation of new inversed Jacobian.\n",
    "    fjacinv = np.linalg.pinv(np.atleast_2d(fjac))\n",
    "    # or we can use identity matrix as an initiative matrix\n",
    "    #fjacinv = - np.identity(x.size)\n",
    "    for it in range(maxit):\n",
    "        fnorm = np.linalg.norm(fval)\n",
    "        if fnorm<tol: \n",
    "            break \n",
    "        d = -(fjacinv.dot(fval))\n",
    "        # update x\n",
    "        x = x+d\n",
    "        fold = fval\n",
    "        fval = f(x)[0] if _is_there_jacobian else f(x)# two outputs\n",
    "        # update jacobian\n",
    "        u = fjacinv.dot((fval-fold))\n",
    "        fjacinv = fjacinv + np.outer((d-u), np.dot(d.T, fjacinv))/np.dot(d.T,u) ## ? np.outer !!! key\n",
    "    return x   \n"
   ]
  },
  {
   "cell_type": "code",
   "execution_count": 70,
   "metadata": {
    "collapsed": false
   },
   "outputs": [
    {
     "name": "stdout",
     "output_type": "stream",
     "text": [
      "Jacobian was  provided by user!\n",
      "Solution by Broyden: [ 0.99998571  0.99997149]\n"
     ]
    }
   ],
   "source": [
    "print('Solution by Broyden:', mybroyden(func,x0, maxit = 10000, tol = 1/10000))"
   ]
  },
  {
   "cell_type": "code",
   "execution_count": 29,
   "metadata": {
    "collapsed": false
   },
   "outputs": [
    {
     "data": {
      "text/plain": [
       "array([ 1.,  1.])"
      ]
     },
     "execution_count": 29,
     "metadata": {},
     "output_type": "execute_result"
    }
   ],
   "source": [
    "from scipy.optimize import broyden1\n",
    "\n",
    "broyden1(f,x0, iter = 10000 )"
   ]
  },
  {
   "cell_type": "markdown",
   "metadata": {
    "collapsed": true
   },
   "source": [
    "##  exercise 3.6"
   ]
  },
  {
   "cell_type": "markdown",
   "metadata": {},
   "source": [
    "common problem in computation is finding the inverse of a cumulative distribution\n",
    "function (CDF). \n",
    "\n",
    "A CDF is a function, F, that is nondecreasing over\n",
    "some domain [a; b] and for which F(a) = 0 and F(b) = 1. \n",
    "\n",
    "\n",
    "\n",
    "Write a function that\n",
    "uses Newton's method to solve inverse CDF problems. The function should\n",
    "take the following form:\n",
    "\n",
    "    x=icdf(p,F,x0,varargin)\n",
    "\n",
    "\n",
    "where p is a probability value (a real number on [0,1]), F is the name of a\n",
    "function file, and x0 is a starting value for the Newton iterations."
   ]
  },
  {
   "cell_type": "code",
   "execution_count": 8,
   "metadata": {
    "collapsed": false
   },
   "outputs": [
    {
     "name": "stdout",
     "output_type": "stream",
     "text": [
      "icdf(0.01) = -2.32635\n",
      "icdf(0.05) = -1.64485\n",
      "icdf(0.5) = 0\n",
      "icdf(0.95) = 1.64485\n",
      "icdf(0.99) = 2.32635\n"
     ]
    }
   ],
   "source": [
    "\n",
    "def icdf(p, F, x0, *args):\n",
    "    x = x0\n",
    "    for it in range(150):\n",
    "        cdf, pdf = F(x, *args)\n",
    "        if abs(cdf - p) < 1.e-9:\n",
    "            break\n",
    "        else:\n",
    "            x += (p - cdf) / pdf\n",
    "\n",
    "    return x\n",
    "\n",
    "# testing with a normal distribution\n",
    "phi = stats.norm.pdf\n",
    "Phi = stats.norm.cdf\n",
    "\n",
    "def cdfnormal(x, mu, sigma):\n",
    "    z = (x-mu) / sigma\n",
    "    return Phi(z), phi(z)\n",
    "\n",
    "for p in [0.01, 0.05, 0.5, 0.95, 0.99]:\n",
    "    print('icdf({:g}) = {:g}'.format(p, icdf(p, cdfnormal,0.0,0.0,1.0)))"
   ]
  },
  {
   "cell_type": "code",
   "execution_count": 4,
   "metadata": {
    "collapsed": true
   },
   "outputs": [],
   "source": [
    "\n",
    "def icdf(p, func, a, b, tol=1 * 10 ** -6, iterations=100):\n",
    "    \"\"\"\n",
    "    Calculate quantile func using the bisection method\n",
    "    \"\"\"\n",
    "    x = (a + b) / 2.0\n",
    "    d = (b - a) / 2.0\n",
    "    for _ in range(iterations):\n",
    "        result = func(x) - p\n",
    "        d = d / 2\n",
    "        if fabs(result) < tol:\n",
    "            return x\n",
    "        elif result > 0:\n",
    "            x = x - d\n",
    "        else:\n",
    "            x = x + d\n",
    "    else:\n",
    "        warn(\"We were unable to find a value suitably close to {} after {} iterations\"\n",
    "             \"\".format(p, iterations))\n",
    "        return x\n",
    "\n",
    "\n"
   ]
  },
  {
   "cell_type": "code",
   "execution_count": 5,
   "metadata": {
    "collapsed": false
   },
   "outputs": [
    {
     "data": {
      "text/plain": [
       "0.25334835052490234"
      ]
     },
     "execution_count": 5,
     "metadata": {},
     "output_type": "execute_result"
    }
   ],
   "source": [
    "icdf(.6, stats.norm.cdf, -10, 10)"
   ]
  },
  {
   "cell_type": "code",
   "execution_count": null,
   "metadata": {
    "collapsed": true
   },
   "outputs": [],
   "source": []
  }
 ],
 "metadata": {
  "kernelspec": {
   "display_name": "Python 3",
   "language": "python",
   "name": "python3"
  },
  "language_info": {
   "codemirror_mode": {
    "name": "ipython",
    "version": 3
   },
   "file_extension": ".py",
   "mimetype": "text/x-python",
   "name": "python",
   "nbconvert_exporter": "python",
   "pygments_lexer": "ipython3",
   "version": "3.5.2"
  }
 },
 "nbformat": 4,
 "nbformat_minor": 1
}
