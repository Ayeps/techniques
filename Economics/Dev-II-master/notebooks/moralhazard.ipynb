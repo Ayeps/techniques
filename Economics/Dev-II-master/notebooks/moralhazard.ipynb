{
 "cells": [
  {
   "cell_type": "markdown",
   "metadata": {
    "slideshow": {
     "slide_type": "slide"
    }
   },
   "source": [
    "# Moral Hazard models\n",
    "\n",
    "or Hidden Actions model\n",
    "\n",
    "\n",
    "### Risk sharing vs. incentives\n",
    "\n",
    "Stiglitz (1974), Holmstrom (1979), Grossman and Hart (1983)\n"
   ]
  },
  {
   "cell_type": "code",
   "execution_count": 5,
   "metadata": {
    "slideshow": {
     "slide_type": "skip"
    }
   },
   "outputs": [],
   "source": [
    "%matplotlib inline\n",
    "import numpy as np\n",
    "import matplotlib.pyplot as plt\n",
    "from ipywidgets import interact, fixed"
   ]
  },
  {
   "cell_type": "markdown",
   "metadata": {
    "slideshow": {
     "slide_type": "slide"
    }
   },
   "source": [
    "# Risk-sharing review\n",
    "\n",
    "\n",
    "### A simple employment contract\n",
    "\n",
    "Employer hires worker to perform a task that has a stochastic outcome.  Project can either:\n",
    "- with probability $p$ succeed and yield $X_s$\n",
    "- with probability $1-p$ fail and yield $X_f < X_S$\n",
    "\n",
    "Expected return is:\n",
    "\n",
    "$$E(X|p) = p \\cdot X_s + (1-p) \\cdot X_f $$"
   ]
  },
  {
   "cell_type": "markdown",
   "metadata": {
    "slideshow": {
     "slide_type": "subslide"
    }
   },
   "source": [
    "## Example\n",
    "\n",
    "$X_s = 100$\n",
    "\n",
    "$X_f = 0$\n",
    "\n",
    "$p = 0.8$\n",
    "\n",
    "\n",
    "$E(X|p) = 0.8 \\cdot 100 + 0.2 \\cdot 0 = 80 $"
   ]
  },
  {
   "cell_type": "markdown",
   "metadata": {
    "slideshow": {
     "slide_type": "slide"
    }
   },
   "source": [
    "## Risk neutral employer and risk-averse agent\n",
    "\n",
    "Contract design problem: how to allocate claims to stochastic output between:\n",
    "\n",
    "- Principal (Employer):  $(X_s-c_s, X_f-c_f)$ \n",
    "- Agent (worker):  $(c_s, c_f)$"
   ]
  },
  {
   "cell_type": "markdown",
   "metadata": {
    "slideshow": {
     "slide_type": "slide"
    }
   },
   "source": [
    "### Monopoly Contract design Example \n",
    "\n",
    "$$\\max_{c_s,c_f} \\ \\ E(X|p) - E(c|p)$$\n",
    "\n",
    "$$Eu(c|p) \\ge \\bar u$$\n",
    "\n",
    "Lagrangian:\n",
    "$$\\Lambda(c_s, c_f,\\lambda) =  p \\cdot (X_s-c_s) + (1-p) \\cdot (X_f-c_f) \\\\\n",
    "+\\lambda \\left( \\bar u - p \\cdot  u(c_s) - (1-p) u(c_f) \\right)$$\n",
    "\n",
    "FOC again imply:  $c_s = c_f = c^*$"
   ]
  },
  {
   "cell_type": "markdown",
   "metadata": {
    "slideshow": {
     "slide_type": "fragment"
    }
   },
   "source": [
    "Seems unecessary but useful later"
   ]
  },
  {
   "cell_type": "markdown",
   "metadata": {
    "slideshow": {
     "slide_type": "subslide"
    }
   },
   "source": [
    "substitute $c_s = c_f = c^*$ into agent participation: \n",
    "\n",
    "if $u(c) = \\frac{c^{\\alpha}}{\\alpha}$ and $\\alpha=\\frac{1}{2}$ then \n",
    "\n",
    "$2\\sqrt{\\bar c^*} = \\bar u$"
   ]
  },
  {
   "cell_type": "markdown",
   "metadata": {
    "slideshow": {
     "slide_type": "fragment"
    }
   },
   "source": [
    "Monopoly contract: $c^* = \\left (\\frac{\\bar u}{2} \\right )^2$"
   ]
  },
  {
   "cell_type": "markdown",
   "metadata": {
    "slideshow": {
     "slide_type": "fragment"
    }
   },
   "source": [
    "If autarky $\\bar u = 0.8 \\cdot 2 \\sqrt(100) + 0.2 2 \\sqrt(0) = 16$ utils \n",
    "\n",
    "Contract offers: $c_f=c_s=64$"
   ]
  },
  {
   "cell_type": "markdown",
   "metadata": {
    "slideshow": {
     "slide_type": "slide"
    }
   },
   "source": [
    "#### Monopoly FOC \n",
    "\n",
    "for state-contingent claim in state $s$:\n",
    "\n",
    "$$p = p \\cdot \\lambda \\cdot u'(c_s)$$\n",
    "\n",
    "and for $i=s,f$\n",
    "\n",
    "$$ \\frac{1}{u'(c_s)} = \\lambda  = \\frac{1}{u'(c_f)} $$"
   ]
  },
  {
   "cell_type": "markdown",
   "metadata": {
    "slideshow": {
     "slide_type": "subslide"
    }
   },
   "source": [
    "### Competitive Contract design\n",
    "Employers compete for workers: \n",
    "\n",
    "$$\\max_{c_s, c_f}  p \\cdot  u(c_s) + (1-p) u(c_f)$$\n",
    "\n",
    "subject to then employer participation (zero-profit) constraint:\n",
    "\n",
    "$$p \\cdot (X_s-c_s) + (1-p) \\cdot (X_f-c_f) \\geq 0$$"
   ]
  },
  {
   "cell_type": "markdown",
   "metadata": {
    "slideshow": {
     "slide_type": "subslide"
    }
   },
   "source": [
    "### Competitive Contract design Example \n",
    "\n",
    "$$\\Lambda(c_s, c_f,\\lambda) =  p \\cdot  u(c_s) + (1-p) u(c_f) \\\\\n",
    "+\\lambda \\left( p \\cdot (X_s-c_s) - (1-p) \\cdot (X_f-c_f) \\right)$$\n",
    "\n",
    "FOC imply:  $c_s = c_f$\n",
    "\n",
    "substitute into employer participation to get:   $c_f=c_s = E(X|p)$\n",
    "\n",
    "In our example  $c_f=c_s = 80$"
   ]
  },
  {
   "cell_type": "markdown",
   "metadata": {
    "slideshow": {
     "slide_type": "subslide"
    }
   },
   "source": [
    "### Competitive intertemporal financing\n",
    "\n",
    "Suppose agent has access to same stochastic project but can only get it started with lump sum $I$.\n",
    "\n",
    "\n",
    "$$\\max_{c_s, c_f}  p \\cdot  u(c_s) + (1-p) u(c_f)$$\n",
    "\n",
    "subject to then employer participation (zero-profit) constraint:\n",
    "\n",
    "$$p \\cdot (X_s-c_s) + (1-p) \\cdot (X_f-c_f) \\geq I(1+r)$$"
   ]
  },
  {
   "cell_type": "markdown",
   "metadata": {
    "slideshow": {
     "slide_type": "subslide"
    }
   },
   "source": [
    "Lagrangian: \n",
    "\n",
    "$$\\Lambda(c_s, c_f,\\lambda) =  p \\cdot  u(c_s) + (1-p) u(c_f) \\\\\n",
    "+\\lambda \\left( I(1+r) - p \\cdot (X_s-c_s) - (1-p) \\cdot (X_f-c_f) \\right)$$\n",
    "\n",
    "FOC imply contract keeps agent's consumption steady at:  $c_s = c_f = c^*$\n",
    "\n",
    "Bank just breaks even: $E(X|p) - E(c|p) = I(1+r)$"
   ]
  },
  {
   "cell_type": "markdown",
   "metadata": {
    "slideshow": {
     "slide_type": "subslide"
    }
   },
   "source": [
    "**Example:  $I(1+r) = 70$**\n",
    "\n",
    "$$E(c|p) = E(X|p) - I(1+r)$$\n",
    "\n",
    "$$E(c|p) = 80 - 70 = 10$$\n"
   ]
  },
  {
   "cell_type": "markdown",
   "metadata": {
    "slideshow": {
     "slide_type": "fragment"
    }
   },
   "source": [
    "Can think of it as a loan with state-contingent repayments:\n",
    "\n",
    "$X_s - c_s - I(1+r) = 100 - 10 - 70 = 20$\n",
    "\n",
    "$X_f - c_f - I(1+r) =   0 - 10 - 70 = -80$"
   ]
  },
  {
   "cell_type": "markdown",
   "metadata": {
    "slideshow": {
     "slide_type": "fragment"
    }
   },
   "source": [
    "Bank breaks even: $0.8 \\cdot 20 + 0.2 \\cdot (-80) = 0$"
   ]
  },
  {
   "cell_type": "markdown",
   "metadata": {
    "slideshow": {
     "slide_type": "subslide"
    }
   },
   "source": [
    "Can extend to many states of the world:\n",
    "\n",
    "$$E(X|e) = \\sum_i {X_i \\cdot f(X_i|e)}$$"
   ]
  },
  {
   "cell_type": "code",
   "execution_count": 17,
   "metadata": {
    "collapsed": true,
    "slideshow": {
     "slide_type": "skip"
    }
   },
   "outputs": [],
   "source": [
    "alpha = 0.25"
   ]
  },
  {
   "cell_type": "code",
   "execution_count": 18,
   "metadata": {
    "slideshow": {
     "slide_type": "skip"
    }
   },
   "outputs": [],
   "source": [
    "def u(c, alpha=alpha):\n",
    "    return (1/alpha)*c**alpha\n",
    "\n",
    "def E(x,p):\n",
    "    return p*x[1] + (1-p)*x[0]\n",
    "\n",
    "def EU(c, p):\n",
    "    return p*u(c[1]) + (1-p)*u(c[0])\n",
    "\n",
    "def budgetc(c0, p, x):\n",
    "    return E(x,p)/p - ((1-p)/p)*c0\n",
    "\n",
    "def indif(c0, p, ubar):\n",
    "    return (alpha*(ubar-(1-p)*u(c0))/p)**(1/alpha)\n",
    "\n",
    "def IC(c0,p,q,B):\n",
    "    '''incentive compatibility line'''\n",
    "    return (alpha*(u(c0)+B/(p-q)))**(1/alpha)"
   ]
  },
  {
   "cell_type": "code",
   "execution_count": 19,
   "metadata": {
    "collapsed": true,
    "slideshow": {
     "slide_type": "skip"
    }
   },
   "outputs": [],
   "source": [
    "def Bopt(p,x):\n",
    "    '''Bank profit maximum'''\n",
    "    return (alpha*EU(x,p))**(1/alpha)\n",
    "\n",
    "def Copt(p,x):\n",
    "    '''Consumer utility maximum'''\n",
    "    return E(x,p)\n",
    "    \n",
    "    "
   ]
  },
  {
   "cell_type": "code",
   "execution_count": 20,
   "metadata": {
    "collapsed": true,
    "slideshow": {
     "slide_type": "skip"
    }
   },
   "outputs": [],
   "source": [
    "x = [15,90]\n",
    "p = 0.6"
   ]
  },
  {
   "cell_type": "code",
   "execution_count": 11,
   "metadata": {
    "slideshow": {
     "slide_type": "skip"
    }
   },
   "outputs": [
    {
     "data": {
      "text/plain": [
       "9.797958971132712"
      ]
     },
     "execution_count": 11,
     "metadata": {},
     "output_type": "execute_result"
    }
   ],
   "source": [
    "EU([36,36],p)"
   ]
  },
  {
   "cell_type": "markdown",
   "metadata": {
    "slideshow": {
     "slide_type": "slide"
    }
   },
   "source": [
    "# Moral Hazard or Hidden Actions\n",
    "\n",
    "Agent's private benefit from avoiding diligence or effort is B (extra disutility from high vs. low effort).  \n",
    "\n",
    "Effort is non-contractible and $B$ cannot be observed/seized. Effort-contingent contracts not possible.\n",
    "\n",
    "Only outcone-contingent contracts can be used. "
   ]
  },
  {
   "cell_type": "markdown",
   "metadata": {
    "slideshow": {
     "slide_type": "slide"
    }
   },
   "source": [
    "## Hidden actions\n",
    "\n",
    "Now agent's unobserved (or more to the point non-verifiable) effort levels determines success probability: \n",
    " - High  $e_H$  (probability of success $p$).\n",
    " - Low $e_L$ (probability of success $q$).  \n",
    " - Can no longer offer earlier risk-sharing contract ($c=10$) as cnnot be sure success probability is $p$\n",
    "  \n",
    " Example $q=0.6$ versus $p=0.8$\n",
    "     - E(X|p) - E(c|p) - I(1+r) =  80-10-70 = 0 (bank breaks even)\n",
    "     - E(X|q) - E(c|q) - I(1+r) =  60-10-70 = -20 (bank loses money)"
   ]
  },
  {
   "cell_type": "markdown",
   "metadata": {
    "slideshow": {
     "slide_type": "slide"
    }
   },
   "source": [
    "### On the other hand full-residual claimancy contract imposes too much risk\n",
    " \n",
    " - Full residual claimant when fixed repayment $I(1+r)$\n",
    "     - $c_s = 100-70 = 30$\n",
    "     - $c_f = -70 = -70$\n",
    "     - $0.8 (30) + 0.2(-70) = 24 - 14 = 10$\n",
    "\n",
    "- But this imposes a lot of risk  (actually here not even defined since u(-70) is 'catastrophic')\n",
    " \n",
    "- Need to find balance between risk sharing and incentives"
   ]
  },
  {
   "cell_type": "markdown",
   "metadata": {
    "slideshow": {
     "slide_type": "slide"
    }
   },
   "source": [
    "## Incentive compatibility constraint:\n",
    "\n",
    "$$EU(c|p) \\geq EU(c|q) + B$$\n",
    "\n",
    "In 2 outcome case can be re-arranged to:\n",
    "\n",
    "$$u(c_1) \\geq u(c_0) + \\frac{B}{p-q}$$"
   ]
  },
  {
   "cell_type": "markdown",
   "metadata": {
    "slideshow": {
     "slide_type": "skip"
    }
   },
   "source": [
    "## Interactive indifference curve diagram"
   ]
  },
  {
   "cell_type": "code",
   "execution_count": 36,
   "metadata": {
    "collapsed": true,
    "slideshow": {
     "slide_type": "skip"
    }
   },
   "outputs": [],
   "source": [
    "p = 0.5\n",
    "q = 0.4\n",
    "cmax = 100\n",
    "B = 1.5"
   ]
  },
  {
   "cell_type": "code",
   "execution_count": 37,
   "metadata": {
    "slideshow": {
     "slide_type": "skip"
    }
   },
   "outputs": [
    {
     "data": {
      "text/plain": [
       "595.1534438537282"
      ]
     },
     "execution_count": 37,
     "metadata": {},
     "output_type": "execute_result"
    }
   ],
   "source": [
    "IC(2,p,q,B)"
   ]
  },
  {
   "cell_type": "code",
   "execution_count": 38,
   "metadata": {
    "slideshow": {
     "slide_type": "skip"
    }
   },
   "outputs": [],
   "source": [
    "def consume_plot(p,q,B,ic=False):\n",
    "    c0 = np.linspace(0.1,200,num=100)\n",
    "    \n",
    "    #bank optimum\n",
    "    c0e = Bopt(p,x)\n",
    "    c1e = c0e\n",
    "    uebar = EU([c0e,c1e],p)\n",
    "    idfc = indif(c0, p, uebar)\n",
    "    budg = budgetc(c0, p, [c0e,c1e])\n",
    "    \n",
    "    #consumer optimum\n",
    "    c0ee = Copt(p,x)\n",
    "    c1ee = c0ee\n",
    "    uemax = EU([c0ee,c1ee],p)\n",
    "    idfcmax = indif(c0, p, uemax)\n",
    "    zerop = budgetc(c0, p, x)\n",
    "    icline = IC(c0,p,q,B)\n",
    "       \n",
    "    \n",
    "    fig, ax = plt.subplots(figsize=(10,10))\n",
    "    if ic:\n",
    "        ax.plot(c0,icline)\n",
    "    ax.plot(c0, budg, lw=2.5)\n",
    "    ax.plot(c0, zerop, lw=2.5)\n",
    "    ax.plot(c0, idfc, lw=2.5)\n",
    "    #ax.plot(c0, idfcmax, lw=2.5)\n",
    "    ax.plot(c0,c0)\n",
    "    #ax.vlines(c0e,0,c2e, linestyles=\"dashed\")\n",
    "    #ax.hlines(c1e,0,c1e, linestyles=\"dashed\")\n",
    "    ax.plot(c0e,c1e,'ob')\n",
    "    ax.plot(c0ee,c1ee,'ob')\n",
    "    ax.plot(x[0],x[1],'ob')\n",
    "    ax.set_xlim(0, 100)\n",
    "    ax.set_ylim(0, 100)\n",
    "    ax.set_xlabel(r'$c_0$', fontsize=16)\n",
    "    ax.set_ylabel('$c_1$', fontsize=16)\n",
    "    ax.spines['right'].set_visible(False)\n",
    "    ax.spines['top'].set_visible(False)\n",
    "    ax.grid()\n",
    "    plt.show()"
   ]
  },
  {
   "cell_type": "code",
   "execution_count": 40,
   "metadata": {
    "slideshow": {
     "slide_type": "slide"
    }
   },
   "outputs": [
    {
     "data": {
      "application/vnd.jupyter.widget-view+json": {
       "model_id": "015784c14c604ffdba65459c005d1146",
       "version_major": 2,
       "version_minor": 0
      },
      "text/plain": [
       "A Jupyter Widget"
      ]
     },
     "metadata": {},
     "output_type": "display_data"
    }
   ],
   "source": [
    "interact(consume_plot,p=fixed(0.5),q=(0.1,0.5,0.01),B=(0,3,0.1));"
   ]
  },
  {
   "cell_type": "markdown",
   "metadata": {
    "slideshow": {
     "slide_type": "slide"
    }
   },
   "source": [
    "If we set this up and solve it as a Lagrangean (loosely following Holmstrom, 1979) we get a condition like this:"
   ]
  },
  {
   "cell_type": "markdown",
   "metadata": {
    "slideshow": {
     "slide_type": "fragment"
    }
   },
   "source": [
    "$$\\frac{1}{u'(c_i)} = \\lambda + \\mu \\cdot \n",
    "\\left [ {1-\\frac{f(x_i,e_L)}{f(x_i,e_H)}} \\right ]  \\text{ }\\forall i\n",
    "$$"
   ]
  },
  {
   "cell_type": "markdown",
   "metadata": {
    "slideshow": {
     "slide_type": "subslide"
    }
   },
   "source": [
    "In our two outcome case $p=f(x_1|e_H)$ and $q=f(x_1|e_L)$ and this becomes:\n",
    "\n",
    "$$\\frac{1}{u'(c_1)} = \\lambda + \\mu \\cdot \n",
    "\\left [ {1-\\frac{q}{p}} \\right ]  \n",
    "$$\n",
    "\n",
    "$$\\frac{1}{u'(c_0)} = \\lambda + \\mu \\cdot \n",
    "\\left [ {1-\\frac{1-q}{1-p}} \\right ]  \n",
    "$$"
   ]
  },
  {
   "cell_type": "markdown",
   "metadata": {
    "slideshow": {
     "slide_type": "skip"
    }
   },
   "source": [
    "TODO:  \n",
    " - Functions to solve the two outcome cases (closed form possible, substitute IC into binding PC; or 2 FOC plus IC plus PC for $c_0, c_1, \\lambda  \\text{ and } \\mu$).\n",
    " - Function to solve numerically for N outcomes (N FOCs and one participation constraint).\n",
    " - discuss how sensitive to distribution"
   ]
  },
  {
   "cell_type": "markdown",
   "metadata": {
    "slideshow": {
     "slide_type": "slide"
    }
   },
   "source": [
    "Holmstrom's sufficient statistic"
   ]
  },
  {
   "cell_type": "markdown",
   "metadata": {
    "slideshow": {
     "slide_type": "fragment"
    }
   },
   "source": [
    "$$\\frac{1}{u'(c)} = \\lambda + \\mu \\cdot \n",
    "\\left [ {1-\\frac{f(x,y,e_L)}{f(x,y,e_H)}} \\right ]  \\text{ }\\forall i\n",
    "$$"
   ]
  }
 ],
 "metadata": {
  "anaconda-cloud": {},
  "celltoolbar": "Slideshow",
  "kernel_info": {
   "name": "python3"
  },
  "kernelspec": {
   "display_name": "Python 3",
   "language": "python",
   "name": "python3"
  },
  "language_info": {
   "codemirror_mode": {
    "name": "ipython",
    "version": 3
   },
   "file_extension": ".py",
   "mimetype": "text/x-python",
   "name": "python",
   "nbconvert_exporter": "python",
   "pygments_lexer": "ipython3",
   "version": "3.6.2"
  },
  "nteract": {
   "version": "0.2.0"
  },
  "varInspector": {
   "cols": {
    "lenName": 16,
    "lenType": 16,
    "lenVar": 40
   },
   "kernels_config": {
    "python": {
     "delete_cmd_postfix": "",
     "delete_cmd_prefix": "del ",
     "library": "var_list.py",
     "varRefreshCmd": "print(var_dic_list())"
    },
    "r": {
     "delete_cmd_postfix": ") ",
     "delete_cmd_prefix": "rm(",
     "library": "var_list.r",
     "varRefreshCmd": "cat(var_dic_list()) "
    }
   },
   "types_to_exclude": [
    "module",
    "function",
    "builtin_function_or_method",
    "instance",
    "_Feature"
   ],
   "window_display": false
  },
  "widgets": {
   "state": {
    "0a5f68d1c60242c28e195cfc6fac3254": {
     "views": [
      {
       "cell_index": 19
      }
     ]
    }
   },
   "version": "1.2.0"
  }
 },
 "nbformat": 4,
 "nbformat_minor": 1
}
