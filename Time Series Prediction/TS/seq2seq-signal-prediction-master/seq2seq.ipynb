{
 "cells": [
  {
   "cell_type": "markdown",
   "metadata": {},
   "source": [
    "# Sequence to Sequence (seq2seq) Recurrent Neural Network (RNN) for Time Series Prediction\n",
    "\n",
    "The goal of this project of mine is to bring users to try and experiment with the seq2seq neural network architecture. This is done by solving different simple toy problems about signal prediction. Normally, seq2seq architectures may be used for other more sophisticated purposes than for signal prediction, let's say, language modeling, but this project is an interesting tutorial in order to then get to more complicated stuff. \n",
    "\n",
    "In this project are given 4 exercises of gradually increasing difficulty. I take for granted that the public already have at least knowledge of basic RNNs and how can they be shaped into an encoder and a decoder of the most simple form (without attention). To learn more about RNNs in TensorFlow, you may want to visit this other project of mine about that: https://github.com/guillaume-chevalier/LSTM-Human-Activity-Recognition\n",
    "\n",
    "The current project is a series of example I have first built in French, but I haven't got the time to generate all the charts anew with proper English text. I have built this project for the practical part of the third hour of a \"master class\" conference that I gave at the WAQ (Web At Quebec) in March 2017: \n",
    "https://webaquebec.org/classes-de-maitre/deep-learning-avec-tensorflow\n",
    "\n",
    "You can find the French, original, version of this project in the French Git branch: https://github.com/guillaume-chevalier/seq2seq-signal-prediction/tree/francais\n",
    "\n",
    "## How to use this \".ipynb\" Python notebook ?\n",
    "\n",
    "Except the fact I made available an \".py\" Python version of this tutorial within the repository, it is more convenient to run the code inside the notebook. The \".py\" code exported feels a bit raw as an exportation. \n",
    "\n",
    "To run the notebook, you must have installed Jupyter Notebook or iPython Notebook. To open the notebook, you must write `jupyter notebook` or `iPython notebook` in command line (from the folder containing the notebook once downloaded, or a parent folder). It is then that the notebook application (IDE) will open in your browser as a local server and it will be possible to open the `.ipynb` notebook file and to run code cells with `CTRL+ENTER` and `SHIFT+ENTER`, it is also possible to restart the kernel and run all cells at once with the menus. Note that this is interesting since it is possible to make that IDE run as hosted on a cloud server with a lot of GPU power while you code through the browser.\n",
    "\n",
    "## Exercises\n",
    "\n",
    "Note that the dataset changes in function of the exercice. Most of the time, you will have to edit the neural networks' training parameter to succeed in doing the exercise, but at a certain point, changes in the architecture itself will be asked and required. The datasets used for this exercises are found in `datasets.py`.\n",
    "\n",
    "### Exercise 1\n",
    "\n",
    "In theory, it is possible to create a perfect prediction of the signal for this exercise. The neural network's parameters has been set to acceptable values for a first training, so you may pass this exercise by running the code without even a change. Your first training might get predictions like that (in yellow), but it is possible to do a lot better with proper parameters adjustments:\n",
    "\n",
    "<img src=\"images/E1.png\" />\n",
    "\n",
    "Note: the neural network sees only what is to the left of the chart and is trained to predict what is at the right (predictions in yellow). \n",
    "\n",
    "We have 2 time series at once to predict, which are tied together. That means our neural network processes multidimensional data. A simple example would be to receive as an argument the past values of multiple stock market symbols in order to predict the future values of all those symbols with the neural network, which values are evolving together in time. That is what we will do in the exercise 6. \n",
    "\n",
    "\n",
    "### Exercise 2\n",
    "\n",
    "Here, rather than 2 signals in parallel to predict, we have only one, for simplicity. HOWEVER, this signal is a superposition of two sine waves of varying wavelenght and offset (and restricted to a particular min and max limit of wavelengts). \n",
    "\n",
    "In order to finish this exercise properly, you will need to edit the neural network's hyperparameters. As an example, here is what is possible to achieve as a predction with those better (but still unperfect) training hyperparameters: \n",
    "\n",
    "- `nb_iters = 2500`\n",
    "- `batch_size = 50`\n",
    "- `hidden_dim = 35`\n",
    "<img src=\"images/E2.png\" />\n",
    "\n",
    "Here are predictions achieved with a bigger neural networks with 3 stacked recurrent cells and a width of 500 hidden units for each of those cells: \n",
    "\n",
    "<img src=\"images/E2_1.png\" />\n",
    "\n",
    "<img src=\"images/E2_2.png\" />\n",
    "\n",
    "<img src=\"images/E2_3.png\" />\n",
    "\n",
    "<img src=\"images/E2_4.png\" />\n",
    "\n",
    "Note that it would be possible to obtain better results with a smaller neural network, provided better training hyperparameters and a longer training, adding dropout, and on. \n",
    "\n",
    "### Exercise 3\n",
    "\n",
    "This exercise is similar to the previous one, except that the input data given to the encoder is noisy. The expected output is not noisy. This makes the task a bit harder. Here is a good example of what a training example (and a prediction) could now looks like :\n",
    "\n",
    "<img src=\"images/E3.png\" />\n",
    "\n",
    "Therefore the neural network is brought to denoise the signal to interpret its future smooth values. Here are some example of better predictions on this version of the dataset : \n",
    "\n",
    "<img src=\"images/E3_1.png\" />\n",
    "\n",
    "<img src=\"images/E3_2.png\" />\n",
    "\n",
    "<img src=\"images/E3_3.png\" />\n",
    "\n",
    "<img src=\"images/E3_4.png\" />\n",
    "\n",
    "Similarly as I said for the exercise 2, it would be possible here too to obtain better results. Note that it would also have been possible to ask you to predict to reconstruct the denoised signal from the noisy input (and not predict the future values of it). This would have been called a \"denoising autoencoder\", this type of architecture is also useful for data compression, such as manipulating images. \n",
    "\n",
    "### Exercise 4\n",
    "\n",
    "This exercise is much harder than the previous ones and is built more as a suggestion. It is to predict the future value of the Bitcoin's price. We have here some daily market data of the bitcoin's value, that is, BTC/USD and BTC/EUR. This is not enough to build a good predictor, at least having data precise at the minute level, or second level, would be more interesting. Here is a prediction made on the actual future values, the neural network has not been trained on the future values shown here and this is a legitimate prediction, given a well-enough model trained on the task: \n",
    "\n",
    "<img src=\"images/E5.png\" />\n",
    "\n",
    "Disclaimer: this prediction of the future values was really good and you should not expect predictions to be always that good using as few data as actually (side note: the other prediction charts in this project are all \"average\" except this one). Your task for this exercise is to plug the model on more valuable financial data in order to make more accurate predictions. Let me remind you that I provided the code for the datasets in \"datasets.py\", but that should be replaced for predicting accurately the Bitcoin. \n",
    "\n",
    "It would be possible to improve the input dimensions of your model that accepts (BTC/USD and BTC/EUR). As an example, you could create additionnal input dimensions/streams which could contain meteo data and more financial data, such as the S&P 500, the Dow Jones, and on. Other more creative input data could be sine waves (or other-type-shaped waves such as saw waves or triangles or two signals for `cos` and `sin`) representing the fluctuation of minutes, hours, days, weeks, months, years, moon cycles, and on. This could be combined with a Twitter sentiment analysis about the word \"Bitcoin\" in tweets in order to have another input signal which is more human-based and abstract. Actually, some libraries exists to convert text to a sentiment value, and there would also be the neural network end-to-end approach (but that would be a way more complicated setup). It is also interesting to know where is the bitcoin most used: http://images.google.com/search?tbm=isch&q=bitcoin+heatmap+world\n",
    "\n",
    "With all the above-mentionned examples, it would be possible to have all of this as input features, at every time steps: (BTC/USD, BTC/EUR, Dow_Jones, SP_500, hours, days, weeks, months, years, moons, meteo_USA, meteo_EUROPE, Twitter_sentiment). Finally, there could be those two output features, or more: (BTC/USD, BTC/EUR). \n",
    "\n",
    "This prediction concept can apply to many things, such as meteo prediction and other types of shot-term and mid-term statistical predictions. \n",
    "\n",
    "## To change which exercise you are doing, change the value of the following \"exercise\" variable:\n"
   ]
  },
  {
   "cell_type": "code",
   "execution_count": 31,
   "metadata": {},
   "outputs": [],
   "source": [
    "\n",
    "exercise = 2  # Possible values: 1, 2, 3, or 4.\n",
    "\n",
    "from datasets import generate_x_y_data_v1, generate_x_y_data_v2, generate_x_y_data_v3, generate_x_y_data_v4 \n",
    "\n",
    "# We choose which data function to use below, in function of the exericse. \n",
    "if exercise == 1:\n",
    "    generate_x_y_data = generate_x_y_data_v1\n",
    "if exercise == 2:\n",
    "    generate_x_y_data = generate_x_y_data_v2\n",
    "if exercise == 3:\n",
    "    generate_x_y_data = generate_x_y_data_v3\n",
    "if exercise == 4:  \n",
    "    generate_x_y_data = generate_x_y_data_v4\n"
   ]
  },
  {
   "cell_type": "code",
   "execution_count": 32,
   "metadata": {},
   "outputs": [],
   "source": [
    "\n",
    "import tensorflow as tf  # Version 1.0 or 0.12\n",
    "import numpy as np\n",
    "import matplotlib.pyplot as plt\n",
    "\n",
    "# This is for the notebook to generate inline matplotlib \n",
    "# charts rather than to open a new window every time: \n",
    "%matplotlib inline\n"
   ]
  },
  {
   "cell_type": "markdown",
   "metadata": {},
   "source": [
    "## Neural network's hyperparameters"
   ]
  },
  {
   "cell_type": "code",
   "execution_count": 3,
   "metadata": {},
   "outputs": [
    {
     "name": "stdout",
     "output_type": "stream",
     "text": [
      "(43797, 32)\n",
      "(8760, 24) 8760 (8760,)\n",
      "(8760, 3, 8) (8760,) (35037, 3, 8) (35037,)\n"
     ]
    }
   ],
   "source": [
    "from numpy import concatenate\n",
    "from matplotlib import pyplot\n",
    "from pandas import read_csv\n",
    "from pandas import DataFrame\n",
    "from pandas import concat\n",
    "from sklearn.preprocessing import MinMaxScaler\n",
    "from sklearn.preprocessing import LabelEncoder\n",
    "from sklearn.metrics import mean_squared_error\n",
    "\n",
    "# convert series to supervised learning\n",
    "def series_to_supervised(data, n_in=1, n_out=1, dropnan=True):\n",
    "\tn_vars = 1 if type(data) is list else data.shape[1]\n",
    "\tdf = DataFrame(data)\n",
    "\tcols, names = list(), list()\n",
    "\t# input sequence (t-n, ... t-1)\n",
    "\tfor i in range(n_in, 0, -1):\n",
    "\t\tcols.append(df.shift(i))\n",
    "\t\tnames += [('var%d(t-%d)' % (j+1, i)) for j in range(n_vars)]\n",
    "\t# forecast sequence (t, t+1, ... t+n)\n",
    "\tfor i in range(0, n_out):\n",
    "\t\tcols.append(df.shift(-i))\n",
    "\t\tif i == 0:\n",
    "\t\t\tnames += [('var%d(t)' % (j+1)) for j in range(n_vars)]\n",
    "\t\telse:\n",
    "\t\t\tnames += [('var%d(t+%d)' % (j+1, i)) for j in range(n_vars)]\n",
    "\t# put it all together\n",
    "\tagg = concat(cols, axis=1)\n",
    "\tagg.columns = names\n",
    "\t# drop rows with NaN values\n",
    "\tif dropnan:\n",
    "\t\tagg.dropna(inplace=True)\n",
    "\treturn agg\n",
    " \n",
    "# load dataset\n",
    "dataset = read_csv('../pollution.csv', header=0, index_col=0)\n",
    "values = dataset.values\n",
    "# integer encode direction\n",
    "encoder = LabelEncoder()\n",
    "values[:,4] = encoder.fit_transform(values[:,4])\n",
    "# ensure all data is float\n",
    "values = values.astype('float32')\n",
    "# normalize features\n",
    "scaler = MinMaxScaler(feature_range=(0, 1))\n",
    "scaled = scaler.fit_transform(values)\n",
    "# specify the number of lag hours\n",
    "n_hours = 3\n",
    "n_features = 8\n",
    "# frame as supervised learning\n",
    "reframed = series_to_supervised(scaled, n_hours, 1)\n",
    "print(reframed.shape)\n",
    " \n",
    "    \n",
    "    \n",
    "\n",
    "reframed.head()\n",
    "\n",
    "# split into train and test sets\n",
    "values = reframed.values\n",
    "n_train_hours = 365 * 24\n",
    "train = values[:n_train_hours, :]\n",
    "test = values[n_train_hours:, :]\n",
    "# split into input and outputs\n",
    "n_obs = n_hours * n_features\n",
    "train_X, train_y = train[:, :n_obs], train[:, -n_features]\n",
    "test_X, test_y = test[:, :n_obs], test[:, -n_features]\n",
    "print(train_X.shape, len(train_X), train_y.shape)\n",
    "# reshape input to be 3D [samples, timesteps, features]\n",
    "train_X = train_X.reshape((train_X.shape[0], n_hours, n_features))\n",
    "test_X = test_X.reshape((test_X.shape[0], n_hours, n_features))\n",
    "print(train_X.shape, train_y.shape, test_X.shape, test_y.shape)"
   ]
  },
  {
   "cell_type": "code",
   "execution_count": 33,
   "metadata": {},
   "outputs": [
    {
     "name": "stdout",
     "output_type": "stream",
     "text": [
      "Dimensions of the dataset for 3 X and 3 Y training examples : \n",
      "(15, 3, 1)\n",
      "(15, 3, 1)\n",
      "(seq_length, batch_size, output_dim)\n"
     ]
    }
   ],
   "source": [
    "\n",
    "sample_x, sample_y = generate_x_y_data(isTrain=True, batch_size=3)\n",
    "print(\"Dimensions of the dataset for 3 X and 3 Y training examples : \")\n",
    "#sample_x = sample_x[:,:,1:]\n",
    "#sample_y = sample_y[:,:,1:]\n",
    "\n",
    "#sample_x = train_X[:40,:,-1:]\n",
    "#sample_y = train_X[100:140,:,-1:]\n",
    "\n",
    "print(sample_x.shape)\n",
    "print(sample_y.shape)\n",
    "print(\"(seq_length, batch_size, output_dim)\")\n",
    "\n",
    "# Internal neural network parameters\n",
    "seq_length = sample_x.shape[0]  # Time series will have the same past and future (to be predicted) lenght. \n",
    "batch_size = 5  # Low value used for live demo purposes - 100 and 1000 would be possible too, crank that up!\n",
    "\n",
    "output_dim = input_dim = sample_x.shape[-1]  # Output dimension (e.g.: multiple signals at once, tied in time)\n",
    "\n",
    "hidden_dim = 12  # Count of hidden neurons in the recurrent units. \n",
    "layers_stacked_count = 2  # Number of stacked recurrent cells, on the neural depth axis. \n",
    "\n",
    "# Optmizer: \n",
    "learning_rate = 0.007  # Small lr helps not to diverge during training. \n",
    "nb_iters = 150  # How many times we perform a training step (therefore how many times we show a batch). \n",
    "lr_decay = 0.92  # default: 0.9 . Simulated annealing.\n",
    "momentum = 0.5  # default: 0.0 . Momentum technique in weights update\n",
    "lambda_l2_reg = 0.003  # L2 regularization of weights - avoids overfitting\n"
   ]
  },
  {
   "cell_type": "markdown",
   "metadata": {},
   "source": [
    "## Definition of the seq2seq neuronal architecture\n",
    "\n",
    "<img src=\"https://www.tensorflow.org/images/basic_seq2seq.png\" />\n",
    "\n",
    "Comparatively to what we see in the image, our neural network deals with signal rather than letters. Also, we don't have the feedback mechanism yet. "
   ]
  },
  {
   "cell_type": "code",
   "execution_count": 23,
   "metadata": {},
   "outputs": [
    {
     "name": "stdout",
     "output_type": "stream",
     "text": [
      "TensorFlow's version : 1.0 (or more)\n"
     ]
    }
   ],
   "source": [
    "\n",
    "# Backward compatibility for TensorFlow's version 0.12: \n",
    "try:\n",
    "    tf.nn.seq2seq = tf.contrib.legacy_seq2seq\n",
    "    tf.nn.rnn_cell = tf.contrib.rnn\n",
    "    tf.nn.rnn_cell.GRUCell = tf.contrib.rnn.GRUCell\n",
    "    print(\"TensorFlow's version : 1.0 (or more)\")\n",
    "except: \n",
    "    print(\"TensorFlow's version : 0.12\")\n"
   ]
  },
  {
   "cell_type": "code",
   "execution_count": 24,
   "metadata": {},
   "outputs": [
    {
     "name": "stderr",
     "output_type": "stream",
     "text": [
      "/Users/dereksnow/anaconda/envs/py36/lib/python3.6/site-packages/tensorflow/python/client/session.py:1711: UserWarning: An interactive session is already active. This can cause out-of-memory errors in some cases. You must explicitly call `InteractiveSession.close()` to release resources held by the other session(s).\n",
      "  warnings.warn('An interactive session is already active. This can '\n"
     ]
    }
   ],
   "source": [
    "\n",
    "tf.reset_default_graph()\n",
    "#sess.close()\n",
    "sess = tf.InteractiveSession()\n",
    "\n",
    "with tf.variable_scope('Seq2seq'):\n",
    "\n",
    "    # Encoder: inputs\n",
    "    enc_inp = [\n",
    "        tf.placeholder(tf.float32, shape=(None, input_dim), name=\"inp_{}\".format(t))\n",
    "           for t in range(seq_length)\n",
    "    ]\n",
    "\n",
    "    # Decoder: expected outputs\n",
    "    expected_sparse_output = [\n",
    "        tf.placeholder(tf.float32, shape=(None, output_dim), name=\"expected_sparse_output_\".format(t))\n",
    "          for t in range(seq_length)\n",
    "    ]\n",
    "    \n",
    "    # Give a \"GO\" token to the decoder. \n",
    "    # Note: we might want to fill the encoder with zeros or its own feedback rather than with \"+ enc_inp[:-1]\"\n",
    "    dec_inp = [ tf.zeros_like(enc_inp[0], dtype=np.float32, name=\"GO\") ] + enc_inp[:-1]\n",
    "\n",
    "    # Create a `layers_stacked_count` of stacked RNNs (GRU cells here). \n",
    "    cells = []\n",
    "    for i in range(layers_stacked_count):\n",
    "        with tf.variable_scope('RNN_{}'.format(i)):\n",
    "            cells.append(tf.nn.rnn_cell.GRUCell(hidden_dim))\n",
    "            # cells.append(tf.nn.rnn_cell.BasicLSTMCell(...))\n",
    "    cell = tf.nn.rnn_cell.MultiRNNCell(cells)\n",
    "    \n",
    "    # Here, the encoder and the decoder uses the same cell, HOWEVER,\n",
    "    # the weights aren't shared among the encoder and decoder, we have two\n",
    "    # sets of weights created under the hood according to that function's def. \n",
    "    dec_outputs, dec_memory = tf.nn.seq2seq.basic_rnn_seq2seq(\n",
    "        enc_inp, \n",
    "        dec_inp, \n",
    "        cell\n",
    "    )\n",
    "    \n",
    "    # For reshaping the output dimensions of the seq2seq RNN: \n",
    "    w_out = tf.Variable(tf.random_normal([hidden_dim, output_dim]))\n",
    "    b_out = tf.Variable(tf.random_normal([output_dim]))\n",
    "    \n",
    "    # Final outputs: with linear rescaling for enabling possibly large and unrestricted output values.\n",
    "    output_scale_factor = tf.Variable(1.0, name=\"Output_ScaleFactor\")\n",
    "    \n",
    "    reshaped_outputs = [output_scale_factor*(tf.matmul(i, w_out) + b_out) for i in dec_outputs]\n"
   ]
  },
  {
   "cell_type": "code",
   "execution_count": 25,
   "metadata": {},
   "outputs": [],
   "source": [
    "\n",
    "# Training loss and optimizer\n",
    "\n",
    "with tf.variable_scope('Loss'):\n",
    "    # L2 loss\n",
    "    output_loss = 0\n",
    "    for _y, _Y in zip(reshaped_outputs, expected_sparse_output):\n",
    "        output_loss += tf.reduce_mean(tf.nn.l2_loss(_y - _Y))\n",
    "        \n",
    "    # L2 regularization (to avoid overfitting and to have a  better generalization capacity)\n",
    "    reg_loss = 0\n",
    "    for tf_var in tf.trainable_variables():\n",
    "        if not (\"Bias\" in tf_var.name or \"Output_\" in tf_var.name):\n",
    "            reg_loss += tf.reduce_mean(tf.nn.l2_loss(tf_var))\n",
    "            \n",
    "    loss = output_loss + lambda_l2_reg * reg_loss\n",
    "\n",
    "with tf.variable_scope('Optimizer'):\n",
    "    optimizer = tf.train.RMSPropOptimizer(learning_rate, decay=lr_decay, momentum=momentum)\n",
    "    train_op = optimizer.minimize(loss)\n"
   ]
  },
  {
   "cell_type": "markdown",
   "metadata": {},
   "source": [
    "## Training of the neural net"
   ]
  },
  {
   "cell_type": "code",
   "execution_count": 26,
   "metadata": {},
   "outputs": [
    {
     "name": "stdout",
     "output_type": "stream",
     "text": [
      "Step 0/150, train loss: 31.49451446533203, \tTEST loss: 1.989669680595398\n",
      "Step 10/150, train loss: 0.37544405460357666, \tTEST loss: 0.37128207087516785\n",
      "Step 20/150, train loss: 0.36370161175727844, \tTEST loss: 0.3635897934436798\n",
      "Step 30/150, train loss: 0.36258187890052795, \tTEST loss: 0.3624592423439026\n",
      "Step 40/150, train loss: 0.36120468378067017, \tTEST loss: 0.3610435128211975\n",
      "Step 50/150, train loss: 0.35933586955070496, \tTEST loss: 0.359405517578125\n",
      "Step 60/150, train loss: 0.48746779561042786, \tTEST loss: 0.3864668905735016\n",
      "Step 70/150, train loss: 0.3521731197834015, \tTEST loss: 0.3516697585582733\n",
      "Step 80/150, train loss: 0.8409786224365234, \tTEST loss: 0.9864428043365479\n",
      "Step 90/150, train loss: 0.3401426672935486, \tTEST loss: 0.33781149983406067\n",
      "Step 100/150, train loss: 0.327068954706192, \tTEST loss: 0.33183184266090393\n",
      "Step 110/150, train loss: 0.3386012017726898, \tTEST loss: 0.32286959886550903\n",
      "Step 120/150, train loss: 0.28492972254753113, \tTEST loss: 0.2862221896648407\n",
      "Step 130/150, train loss: 0.2534773051738739, \tTEST loss: 0.24757136404514313\n",
      "Step 140/150, train loss: 0.21224026381969452, \tTEST loss: 0.2087986320257187\n",
      "Step 150/150, train loss: 0.19054515659809113, \tTEST loss: 0.17842847108840942\n",
      "Fin. train loss: 0.19054515659809113, \tTEST loss: 0.17842847108840942\n"
     ]
    }
   ],
   "source": [
    "\n",
    "def train_batch(train_X, batch_size):\n",
    "    \"\"\"\n",
    "    Training step that optimizes the weights \n",
    "    provided some batch_size X and Y examples from the dataset. \n",
    "    \"\"\"\n",
    "    X, Y = generate_x_y_data(isTrain=True, batch_size=batch_size)\n",
    "    X = train_X[:100,:,-1:]\n",
    "    Y = train_X[100:140,:,-1:]\n",
    "    feed_dict = {enc_inp[t]: X[t] for t in range(len(enc_inp))}\n",
    "    feed_dict.update({expected_sparse_output[t]: Y[t] for t in range(len(expected_sparse_output))})\n",
    "    _, loss_t = sess.run([train_op, loss], feed_dict)\n",
    "    return loss_t\n",
    "\n",
    "def test_batch(train_X, batch_size):\n",
    "    \"\"\"\n",
    "    Test step, does NOT optimizes. Weights are frozen by not\n",
    "    doing sess.run on the train_op. \n",
    "    \"\"\"\n",
    "    X, Y = generate_x_y_data(isTrain=False, batch_size=batch_size)\n",
    "    X = train_X[:140,:,-1:]\n",
    "    Y = train_X[140:180,:,-1:]\n",
    "    feed_dict = {enc_inp[t]: X[t] for t in range(len(enc_inp))}\n",
    "    feed_dict.update({expected_sparse_output[t]: Y[t] for t in range(len(expected_sparse_output))})\n",
    "    loss_t = sess.run([loss], feed_dict)\n",
    "    return loss_t[0]\n",
    "\n",
    "\n",
    "# Training\n",
    "train_losses = []\n",
    "test_losses = []\n",
    "\n",
    "sess.run(tf.global_variables_initializer())\n",
    "for t in range(nb_iters+1):\n",
    "    train_loss = train_batch(train_X,batch_size)\n",
    "    train_losses.append(train_loss)\n",
    "    \n",
    "    if t % 10 == 0: \n",
    "        # Tester\n",
    "        test_loss = test_batch(train_X,batch_size)\n",
    "        test_losses.append(test_loss)\n",
    "        print(\"Step {}/{}, train loss: {}, \\tTEST loss: {}\".format(t, nb_iters, train_loss, test_loss))\n",
    "\n",
    "print(\"Fin. train loss: {}, \\tTEST loss: {}\".format(train_loss, test_loss))\n"
   ]
  },
  {
   "cell_type": "code",
   "execution_count": 27,
   "metadata": {},
   "outputs": [
    {
     "data": {
      "image/png": "[encoded data removed]",
      "text/plain": [
       "<matplotlib.figure.Figure at 0x1c59f1ee48>"
      ]
     },
     "metadata": {},
     "output_type": "display_data"
    }
   ],
   "source": [
    "\n",
    "# Plot loss over time:\n",
    "plt.figure(figsize=(12, 6))\n",
    "plt.plot(\n",
    "    np.array(range(0, len(test_losses)))/float(len(test_losses)-1)*(len(train_losses)-1), \n",
    "    np.log(test_losses), \n",
    "    label=\"Test loss\"\n",
    ")\n",
    "plt.plot(\n",
    "    np.log(train_losses), \n",
    "    label=\"Train loss\"\n",
    ")\n",
    "plt.title(\"Training errors over time (on a logarithmic scale)\")\n",
    "plt.xlabel('Iteration')\n",
    "plt.ylabel('log(Loss)')\n",
    "plt.legend(loc='best')\n",
    "plt.show()\n"
   ]
  },
  {
   "cell_type": "code",
   "execution_count": 30,
   "metadata": {},
   "outputs": [
    {
     "name": "stdout",
     "output_type": "stream",
     "text": [
      "Let's visualize 5 predictions with our signals:\n"
     ]
    },
    {
     "data": {
      "image/png": "[encoded data removed]",
      "text/plain": [
       "<matplotlib.figure.Figure at 0x1c5a0d4f28>"
      ]
     },
     "metadata": {},
     "output_type": "display_data"
    },
    {
     "data": {
      "image/png": "[encoded data removed]",
      "text/plain": [
       "<matplotlib.figure.Figure at 0x1c508bdb00>"
      ]
     },
     "metadata": {},
     "output_type": "display_data"
    },
    {
     "data": {
      "image/png": "[encoded data removed]",
      "text/plain": [
       "<matplotlib.figure.Figure at 0x1c5a83ffd0>"
      ]
     },
     "metadata": {},
     "output_type": "display_data"
    },
    {
     "ename": "IndexError",
     "evalue": "index 3 is out of bounds for axis 1 with size 3",
     "output_type": "error",
     "traceback": [
      "\u001b[0;31m---------------------------------------------------------------------------\u001b[0m",
      "\u001b[0;31mIndexError\u001b[0m                                Traceback (most recent call last)",
      "\u001b[0;32m<ipython-input-30-82f3c5626a56>\u001b[0m in \u001b[0;36m<module>\u001b[0;34m()\u001b[0m\n\u001b[1;32m     15\u001b[0m \u001b[0;34m\u001b[0m\u001b[0m\n\u001b[1;32m     16\u001b[0m     \u001b[0;32mfor\u001b[0m \u001b[0mk\u001b[0m \u001b[0;32min\u001b[0m \u001b[0mrange\u001b[0m\u001b[0;34m(\u001b[0m\u001b[0moutput_dim\u001b[0m\u001b[0;34m)\u001b[0m\u001b[0;34m:\u001b[0m\u001b[0;34m\u001b[0m\u001b[0m\n\u001b[0;32m---> 17\u001b[0;31m         \u001b[0mpast\u001b[0m \u001b[0;34m=\u001b[0m \u001b[0mX\u001b[0m\u001b[0;34m[\u001b[0m\u001b[0;34m:\u001b[0m\u001b[0;34m,\u001b[0m\u001b[0mj\u001b[0m\u001b[0;34m,\u001b[0m\u001b[0mk\u001b[0m\u001b[0;34m]\u001b[0m\u001b[0;34m\u001b[0m\u001b[0m\n\u001b[0m\u001b[1;32m     18\u001b[0m         \u001b[0mexpected\u001b[0m \u001b[0;34m=\u001b[0m \u001b[0mY\u001b[0m\u001b[0;34m[\u001b[0m\u001b[0;34m:\u001b[0m\u001b[0;34m,\u001b[0m\u001b[0mj\u001b[0m\u001b[0;34m,\u001b[0m\u001b[0mk\u001b[0m\u001b[0;34m]\u001b[0m\u001b[0;34m\u001b[0m\u001b[0m\n\u001b[1;32m     19\u001b[0m         \u001b[0mpred\u001b[0m \u001b[0;34m=\u001b[0m \u001b[0moutputs\u001b[0m\u001b[0;34m[\u001b[0m\u001b[0;34m:\u001b[0m\u001b[0;34m,\u001b[0m\u001b[0mj\u001b[0m\u001b[0;34m,\u001b[0m\u001b[0mk\u001b[0m\u001b[0;34m]\u001b[0m\u001b[0;34m\u001b[0m\u001b[0m\n",
      "\u001b[0;31mIndexError\u001b[0m: index 3 is out of bounds for axis 1 with size 3"
     ]
    },
    {
     "data": {
      "text/plain": [
       "<matplotlib.figure.Figure at 0x1c5a93a588>"
      ]
     },
     "metadata": {},
     "output_type": "display_data"
    }
   ],
   "source": [
    "# Test\n",
    "nb_predictions = 5\n",
    "print(\"Let's visualize {} predictions with our signals:\".format(nb_predictions))\n",
    "\n",
    "X, Y = generate_x_y_data(isTrain=False, batch_size=nb_predictions)\n",
    "X = train_X[:140,:,-1:]\n",
    "Y = train_X[140:180,:,-1:]\n",
    "\n",
    "\n",
    "feed_dict = {enc_inp[t]: X[t] for t in range(seq_length)}\n",
    "outputs = np.array(sess.run([reshaped_outputs], feed_dict)[0])\n",
    "\n",
    "for j in range(nb_predictions): \n",
    "    plt.figure(figsize=(12, 3))\n",
    "    \n",
    "    for k in range(output_dim):\n",
    "        past = X[:,j,k]\n",
    "        expected = Y[:,j,k]\n",
    "        pred = outputs[:,j,k]\n",
    "        \n",
    "        label1 = \"Seen (past) values\" if k==0 else \"_nolegend_\"\n",
    "        label2 = \"True future values\" if k==0 else \"_nolegend_\"\n",
    "        label3 = \"Predictions\" if k==0 else \"_nolegend_\"\n",
    "        plt.plot(range(len(past)), past, \"o--b\", label=label1)\n",
    "        plt.plot(range(len(past), len(expected)+len(past)), expected, \"x--b\", label=label2)\n",
    "        plt.plot(range(len(past), len(pred)+len(past)), pred, \"o--y\", label=label3)\n",
    "    \n",
    "    plt.legend(loc='best')\n",
    "    plt.title(\"Predictions v.s. true values\")\n",
    "    plt.show()\n",
    "\n",
    "print(\"Reminder: the signal can contain many dimensions at once.\")\n",
    "print(\"In that case, signals have the same color.\")\n",
    "print(\"In reality, we could imagine multiple stock market symbols evolving,\")\n",
    "print(\"tied in time together and seen at once by the neural network.\")"
   ]
  },
  {
   "cell_type": "markdown",
   "metadata": {},
   "source": [
    "## Author\n",
    "\n",
    "Guillaume Chevalier\n",
    "- https://ca.linkedin.com/in/chevalierg\n",
    "- https://twitter.com/guillaume_che\n",
    "- https://github.com/guillaume-chevalier/\n",
    "\n",
    "## License\n",
    "\n",
    "This project is free to use according to the [MIT License](https://github.com/guillaume-chevalier/seq2seq-signal-prediction/blob/master/LICENSE) as long as you cite me and the License (read the License for more details). You can cite me by pointing to the following link: \n",
    "- https://github.com/guillaume-chevalier/seq2seq-signal-prediction\n",
    "\n",
    "## Converting notebook to a readme file"
   ]
  },
  {
   "cell_type": "code",
   "execution_count": 10,
   "metadata": {},
   "outputs": [
    {
     "name": "stdout",
     "output_type": "stream",
     "text": [
      "[NbConvertApp] Converting notebook seq2seq.ipynb to markdown\n",
      "[NbConvertApp] Support files will be in seq2seq_files/\n",
      "[NbConvertApp] Making directory seq2seq_files\n",
      "[NbConvertApp] Making directory seq2seq_files\n",
      "[NbConvertApp] Making directory seq2seq_files\n",
      "[NbConvertApp] Making directory seq2seq_files\n",
      "[NbConvertApp] Making directory seq2seq_files\n",
      "[NbConvertApp] Making directory seq2seq_files\n",
      "[NbConvertApp] Writing 21717 bytes to seq2seq.md\n"
     ]
    }
   ],
   "source": [
    "# Let's convert this notebook to a README for the GitHub project's title page:\n",
    "!jupyter nbconvert --to markdown seq2seq.ipynb\n",
    "!mv seq2seq.md README.md"
   ]
  }
 ],
 "metadata": {
  "hide_input": false,
  "kernelspec": {
   "display_name": "Python 3",
   "language": "python",
   "name": "python3"
  },
  "language_info": {
   "codemirror_mode": {
    "name": "ipython",
    "version": 3
   },
   "file_extension": ".py",
   "mimetype": "text/x-python",
   "name": "python",
   "nbconvert_exporter": "python",
   "pygments_lexer": "ipython3",
   "version": "3.6.3"
  }
 },
 "nbformat": 4,
 "nbformat_minor": 2
}
