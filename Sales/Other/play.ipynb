{
 "cells": [
  {
   "cell_type": "code",
   "execution_count": 4,
   "metadata": {},
   "outputs": [],
   "source": [
    "import pandas as pd\n",
    "\n",
    "las = pd.read_csv(\"grocery/sales.csv\",delimiter=\";\")"
   ]
  },
  {
   "cell_type": "code",
   "execution_count": 9,
   "metadata": {},
   "outputs": [],
   "source": [
    "las[\"SalesDate\"] = pd.to_datetime(las[\"SalesDate\"] )"
   ]
  },
  {
   "cell_type": "code",
   "execution_count": 11,
   "metadata": {},
   "outputs": [
    {
     "data": {
      "text/plain": [
       "Timestamp('2018-05-09 23:59:59.400000')"
      ]
     },
     "execution_count": 11,
     "metadata": {},
     "output_type": "execute_result"
    }
   ],
   "source": [
    "las[\"SalesDate\"].max()"
   ]
  },
  {
   "cell_type": "code",
   "execution_count": 16,
   "metadata": {},
   "outputs": [
    {
     "data": {
      "text/plain": [
       "14678"
      ]
     },
     "execution_count": 16,
     "metadata": {},
     "output_type": "execute_result"
    }
   ],
   "source": [
    "las[\"ProductID\"].value_counts().min()"
   ]
  },
  {
   "cell_type": "code",
   "execution_count": 15,
   "metadata": {},
   "outputs": [
    {
     "data": {
      "text/plain": [
       "15357"
      ]
     },
     "execution_count": 15,
     "metadata": {},
     "output_type": "execute_result"
    }
   ],
   "source": [
    "las[\"ProductID\"].value_counts().max()"
   ]
  },
  {
   "cell_type": "code",
   "execution_count": 17,
   "metadata": {},
   "outputs": [
    {
     "data": {
      "text/plain": [
       "18    271335\n",
       "11    271326\n",
       "24    270949\n",
       "16    270925\n",
       "22    270805\n",
       "20    270702\n",
       "6     270618\n",
       "14    270533\n",
       "15    270528\n",
       "5     270499\n",
       "4     270495\n",
       "13    270426\n",
       "17    270377\n",
       "3     270196\n",
       "9     270136\n",
       "8     270084\n",
       "25    270060\n",
       "23    270056\n",
       "19    269942\n",
       "12    269853\n",
       "21    269749\n",
       "1     269694\n",
       "7     269667\n",
       "2     269618\n",
       "10    269552\n",
       "Name: Quantity, dtype: int64"
      ]
     },
     "execution_count": 17,
     "metadata": {},
     "output_type": "execute_result"
    }
   ],
   "source": [
    "las[\"Quantity\"].value_counts()"
   ]
  },
  {
   "cell_type": "code",
   "execution_count": 19,
   "metadata": {},
   "outputs": [
    {
     "data": {
      "text/plain": [
       "0,00    6758125\n",
       "Name: TotalPrice, dtype: int64"
      ]
     },
     "execution_count": 19,
     "metadata": {},
     "output_type": "execute_result"
    }
   ],
   "source": [
    "las[\"TotalPrice\"].value_counts()"
   ]
  },
  {
   "cell_type": "code",
   "execution_count": 5,
   "metadata": {},
   "outputs": [
    {
     "data": {
      "text/html": [
       "<div>\n",
       "<style scoped>\n",
       "    .dataframe tbody tr th:only-of-type {\n",
       "        vertical-align: middle;\n",
       "    }\n",
       "\n",
       "    .dataframe tbody tr th {\n",
       "        vertical-align: top;\n",
       "    }\n",
       "\n",
       "    .dataframe thead th {\n",
       "        text-align: right;\n",
       "    }\n",
       "</style>\n",
       "<table border=\"1\" class=\"dataframe\">\n",
       "  <thead>\n",
       "    <tr style=\"text-align: right;\">\n",
       "      <th></th>\n",
       "      <th>SalesID</th>\n",
       "      <th>SalesPersonID</th>\n",
       "      <th>CustomerID</th>\n",
       "      <th>ProductID</th>\n",
       "      <th>Quantity</th>\n",
       "      <th>Discount</th>\n",
       "      <th>TotalPrice</th>\n",
       "      <th>SalesDate</th>\n",
       "      <th>TransactionNumber</th>\n",
       "    </tr>\n",
       "  </thead>\n",
       "  <tbody>\n",
       "    <tr>\n",
       "      <th>0</th>\n",
       "      <td>1</td>\n",
       "      <td>6</td>\n",
       "      <td>27039</td>\n",
       "      <td>381</td>\n",
       "      <td>7</td>\n",
       "      <td>NaN</td>\n",
       "      <td>0,00</td>\n",
       "      <td>2018-02-05 07:38:25.430</td>\n",
       "      <td>FQL4S94E4ME1EZFTG42G</td>\n",
       "    </tr>\n",
       "    <tr>\n",
       "      <th>1</th>\n",
       "      <td>2</td>\n",
       "      <td>16</td>\n",
       "      <td>25011</td>\n",
       "      <td>61</td>\n",
       "      <td>7</td>\n",
       "      <td>NaN</td>\n",
       "      <td>0,00</td>\n",
       "      <td>2018-02-02 16:03:31.150</td>\n",
       "      <td>12UGLX40DJ1A5DTFBHB8</td>\n",
       "    </tr>\n",
       "    <tr>\n",
       "      <th>2</th>\n",
       "      <td>3</td>\n",
       "      <td>13</td>\n",
       "      <td>94024</td>\n",
       "      <td>23</td>\n",
       "      <td>24</td>\n",
       "      <td>NaN</td>\n",
       "      <td>0,00</td>\n",
       "      <td>2018-05-03 19:31:56.880</td>\n",
       "      <td>5DT8RCPL87KI5EORO7B0</td>\n",
       "    </tr>\n",
       "    <tr>\n",
       "      <th>3</th>\n",
       "      <td>4</td>\n",
       "      <td>8</td>\n",
       "      <td>73966</td>\n",
       "      <td>176</td>\n",
       "      <td>19</td>\n",
       "      <td>0.2</td>\n",
       "      <td>0,00</td>\n",
       "      <td>2018-04-07 14:43:55.420</td>\n",
       "      <td>R3DR9MLD5NR76VO17ULE</td>\n",
       "    </tr>\n",
       "    <tr>\n",
       "      <th>4</th>\n",
       "      <td>5</td>\n",
       "      <td>10</td>\n",
       "      <td>32653</td>\n",
       "      <td>310</td>\n",
       "      <td>9</td>\n",
       "      <td>NaN</td>\n",
       "      <td>0,00</td>\n",
       "      <td>2018-02-12 15:37:03.940</td>\n",
       "      <td>4BGS0Z5OMAZ8NDAFHHP3</td>\n",
       "    </tr>\n",
       "  </tbody>\n",
       "</table>\n",
       "</div>"
      ],
      "text/plain": [
       "   SalesID  SalesPersonID  CustomerID  ProductID  Quantity  Discount  \\\n",
       "0        1              6       27039        381         7       NaN   \n",
       "1        2             16       25011         61         7       NaN   \n",
       "2        3             13       94024         23        24       NaN   \n",
       "3        4              8       73966        176        19       0.2   \n",
       "4        5             10       32653        310         9       NaN   \n",
       "\n",
       "  TotalPrice                SalesDate     TransactionNumber  \n",
       "0       0,00  2018-02-05 07:38:25.430  FQL4S94E4ME1EZFTG42G  \n",
       "1       0,00  2018-02-02 16:03:31.150  12UGLX40DJ1A5DTFBHB8  \n",
       "2       0,00  2018-05-03 19:31:56.880  5DT8RCPL87KI5EORO7B0  \n",
       "3       0,00  2018-04-07 14:43:55.420  R3DR9MLD5NR76VO17ULE  \n",
       "4       0,00  2018-02-12 15:37:03.940  4BGS0Z5OMAZ8NDAFHHP3  "
      ]
     },
     "execution_count": 5,
     "metadata": {},
     "output_type": "execute_result"
    }
   ],
   "source": [
    "las.head()"
   ]
  },
  {
   "cell_type": "code",
   "execution_count": null,
   "metadata": {},
   "outputs": [],
   "source": []
  }
 ],
 "metadata": {
  "kernelspec": {
   "display_name": "py36",
   "language": "python",
   "name": "py36"
  },
  "language_info": {
   "codemirror_mode": {
    "name": "ipython",
    "version": 3
   },
   "file_extension": ".py",
   "mimetype": "text/x-python",
   "name": "python",
   "nbconvert_exporter": "python",
   "pygments_lexer": "ipython3",
   "version": "3.6.3"
  }
 },
 "nbformat": 4,
 "nbformat_minor": 2
}
