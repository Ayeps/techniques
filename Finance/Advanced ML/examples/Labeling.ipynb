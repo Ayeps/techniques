{
 "cells": [
  {
   "cell_type": "markdown",
   "metadata": {},
   "source": [
    "In the first part of the book, the author spends a lot of pages to explain how to prepare features and labels for training ML models. One of the part is about labeling. We briefly go through how to label data with my implementation."
   ]
  },
  {
   "cell_type": "code",
   "execution_count": 1,
   "metadata": {},
   "outputs": [],
   "source": [
    "import pandas as pd\n",
    "\n",
    "df = pd.read_csv('data/MSFT.csv', index_col=0)\n",
    "start = '2000-01-01'\n",
    "end = '2018-01-01'\n",
    "df.index = pd.DatetimeIndex(df.index)\n",
    "df = df.loc[(df.index >= start) & (df.index <= end)]"
   ]
  },
  {
   "cell_type": "code",
   "execution_count": 2,
   "metadata": {},
   "outputs": [
    {
     "data": {
      "text/html": [
       "<div>\n",
       "<style scoped>\n",
       "    .dataframe tbody tr th:only-of-type {\n",
       "        vertical-align: middle;\n",
       "    }\n",
       "\n",
       "    .dataframe tbody tr th {\n",
       "        vertical-align: top;\n",
       "    }\n",
       "\n",
       "    .dataframe thead th {\n",
       "        text-align: right;\n",
       "    }\n",
       "</style>\n",
       "<table border=\"1\" class=\"dataframe\">\n",
       "  <thead>\n",
       "    <tr style=\"text-align: right;\">\n",
       "      <th></th>\n",
       "      <th>Open</th>\n",
       "      <th>High</th>\n",
       "      <th>Low</th>\n",
       "      <th>Close</th>\n",
       "      <th>Volume</th>\n",
       "    </tr>\n",
       "    <tr>\n",
       "      <th>Date</th>\n",
       "      <th></th>\n",
       "      <th></th>\n",
       "      <th></th>\n",
       "      <th></th>\n",
       "      <th></th>\n",
       "    </tr>\n",
       "  </thead>\n",
       "  <tbody>\n",
       "    <tr>\n",
       "      <th>2000-01-03</th>\n",
       "      <td>39.066089</td>\n",
       "      <td>39.482146</td>\n",
       "      <td>37.278708</td>\n",
       "      <td>38.796484</td>\n",
       "      <td>53228400.0</td>\n",
       "    </tr>\n",
       "    <tr>\n",
       "      <th>2000-01-04</th>\n",
       "      <td>37.797947</td>\n",
       "      <td>38.982878</td>\n",
       "      <td>37.361920</td>\n",
       "      <td>37.485073</td>\n",
       "      <td>54119000.0</td>\n",
       "    </tr>\n",
       "    <tr>\n",
       "      <th>2000-01-05</th>\n",
       "      <td>36.985804</td>\n",
       "      <td>38.733244</td>\n",
       "      <td>36.403324</td>\n",
       "      <td>37.881159</td>\n",
       "      <td>64059600.0</td>\n",
       "    </tr>\n",
       "    <tr>\n",
       "      <th>2000-01-06</th>\n",
       "      <td>37.341949</td>\n",
       "      <td>37.901130</td>\n",
       "      <td>36.070479</td>\n",
       "      <td>36.613017</td>\n",
       "      <td>54976600.0</td>\n",
       "    </tr>\n",
       "    <tr>\n",
       "      <th>2000-01-07</th>\n",
       "      <td>36.153690</td>\n",
       "      <td>37.361920</td>\n",
       "      <td>35.717662</td>\n",
       "      <td>37.092315</td>\n",
       "      <td>62013600.0</td>\n",
       "    </tr>\n",
       "  </tbody>\n",
       "</table>\n",
       "</div>"
      ],
      "text/plain": [
       "                 Open       High        Low      Close      Volume\n",
       "Date                                                              \n",
       "2000-01-03  39.066089  39.482146  37.278708  38.796484  53228400.0\n",
       "2000-01-04  37.797947  38.982878  37.361920  37.485073  54119000.0\n",
       "2000-01-05  36.985804  38.733244  36.403324  37.881159  64059600.0\n",
       "2000-01-06  37.341949  37.901130  36.070479  36.613017  54976600.0\n",
       "2000-01-07  36.153690  37.361920  35.717662  37.092315  62013600.0"
      ]
     },
     "execution_count": 2,
     "metadata": {},
     "output_type": "execute_result"
    }
   ],
   "source": [
    "df.head()"
   ]
  },
  {
   "cell_type": "markdown",
   "metadata": {},
   "source": [
    "We use `Close` for labeling."
   ]
  },
  {
   "cell_type": "code",
   "execution_count": 3,
   "metadata": {},
   "outputs": [
    {
     "data": {
      "image/png": "[encoded data removed]",
      "text/plain": [
       "<matplotlib.figure.Figure at 0x7f54a515a6d8>"
      ]
     },
     "metadata": {},
     "output_type": "display_data"
    }
   ],
   "source": [
    "%matplotlib inline\n",
    "close = df['Close']\n",
    "close.plot();"
   ]
  },
  {
   "cell_type": "markdown",
   "metadata": {},
   "source": [
    "By reducing data points, we are able to train more efficiently and effectively. One of the examples is CUSUM Filter. CUSUM Filter samples points when data points deviate from historical means."
   ]
  },
  {
   "cell_type": "code",
   "execution_count": 4,
   "metadata": {},
   "outputs": [
    {
     "name": "stdout",
     "output_type": "stream",
     "text": [
      "DatetimeIndex(['2000-01-12', '2000-01-18', '2000-01-19', '2000-02-08',\n",
      "               '2000-03-06', '2000-03-09', '2000-03-14', '2000-03-22',\n",
      "               '2000-03-23', '2000-03-27',\n",
      "               ...\n",
      "               '2017-09-11', '2017-09-21', '2017-10-05', '2017-10-19',\n",
      "               '2017-11-21', '2017-11-28', '2017-11-29', '2017-12-04',\n",
      "               '2017-12-06', '2017-12-19'],\n",
      "              dtype='datetime64[ns]', length=626, freq=None)\n"
     ]
    },
    {
     "data": {
      "image/png": "[encoded data removed]",
      "text/plain": [
       "<matplotlib.figure.Figure at 0x7f549c365438>"
      ]
     },
     "metadata": {},
     "output_type": "display_data"
    }
   ],
   "source": [
    "from finance_ml.stats import get_daily_vol\n",
    "from finance_ml.labeling import cusum_filter\n",
    "import matplotlib.pyplot as plt\n",
    "\n",
    "h = 2 * close * get_daily_vol(close)\n",
    "timestamps = cusum_filter(close, h)\n",
    "print(timestamps)\n",
    "\n",
    "start = '2016-01-01'\n",
    "end = '2017-01-01'\n",
    "\n",
    "close.loc[(close.index >= start) & (close.index <= end)].plot(color='r');\n",
    "close_ = close.loc[timestamps]\n",
    "close_ = close_.loc[(close_.index >= start) & (close_.index <= end)]\n",
    "plt.scatter(close_.index, close_, color='k');"
   ]
  },
  {
   "cell_type": "markdown",
   "metadata": {},
   "source": [
    "Next, we define triple barriers: 2 horizontal and 1 vertical."
   ]
  },
  {
   "cell_type": "code",
   "execution_count": 6,
   "metadata": {},
   "outputs": [
    {
     "name": "stdout",
     "output_type": "stream",
     "text": [
      "****************************************************************************************************\n",
      "2000-01-12   2000-01-18\n",
      "2000-01-18   2000-01-24\n",
      "2000-01-19   2000-01-24\n",
      "2000-02-08   2000-02-14\n",
      "2000-03-06   2000-03-13\n",
      "Name: Date, dtype: datetime64[ns]\n"
     ]
    },
    {
     "name": "stderr",
     "output_type": "stream",
     "text": [
      "2018-09-16 20:29:49.034228 6.25% get_touch_idx done after 0.0 minutes. Remaining 0.05 minutes.\r",
      "2018-09-16 20:29:49.043360 12.5% get_touch_idx done after 0.0 minutes. Remaining 0.02 minutes.\r",
      "2018-09-16 20:29:49.126557 18.75% get_touch_idx done after 0.0 minutes. Remaining 0.02 minutes.\r",
      "2018-09-16 20:29:49.134742 25.0% get_touch_idx done after 0.0 minutes. Remaining 0.01 minutes.\r",
      "2018-09-16 20:29:49.141955 31.25% get_touch_idx done after 0.0 minutes. Remaining 0.01 minutes.\r",
      "2018-09-16 20:29:49.157976 37.5% get_touch_idx done after 0.01 minutes. Remaining 0.01 minutes.\r",
      "2018-09-16 20:29:49.162010 43.75% get_touch_idx done after 0.01 minutes. Remaining 0.01 minutes.\r",
      "2018-09-16 20:29:49.162707 50.0% get_touch_idx done after 0.01 minutes. Remaining 0.01 minutes.\r",
      "2018-09-16 20:29:49.169782 56.25% get_touch_idx done after 0.01 minutes. Remaining 0.0 minutes.\r",
      "2018-09-16 20:29:49.185689 62.5% get_touch_idx done after 0.01 minutes. Remaining 0.0 minutes.\r",
      "2018-09-16 20:29:49.192310 68.75% get_touch_idx done after 0.01 minutes. Remaining 0.0 minutes.\r",
      "2018-09-16 20:29:49.196979 75.0% get_touch_idx done after 0.01 minutes. Remaining 0.0 minutes.\r",
      "2018-09-16 20:29:49.205756 81.25% get_touch_idx done after 0.01 minutes. Remaining 0.0 minutes.\r",
      "2018-09-16 20:29:49.209836 87.5% get_touch_idx done after 0.01 minutes. Remaining 0.0 minutes.\r",
      "2018-09-16 20:29:49.215865 93.75% get_touch_idx done after 0.01 minutes. Remaining 0.0 minutes.\r",
      "2018-09-16 20:29:49.221209 100.0% get_touch_idx done after 0.01 minutes. Remaining 0.0 minutes.\n"
     ]
    },
    {
     "name": "stdout",
     "output_type": "stream",
     "text": [
      "****************************************************************************************************\n",
      "                   t1      trgt type\n",
      "2000-01-12 2000-01-14  0.020946   pt\n",
      "2000-01-18 2000-01-19  0.026268   sl\n",
      "2000-01-19 2000-01-24  0.033158   sl\n",
      "2000-02-08 2000-02-09  0.029899   sl\n",
      "2000-03-06 2000-03-08  0.027650   pt\n"
     ]
    }
   ],
   "source": [
    "from finance_ml.labeling import get_t1, get_events\n",
    "\n",
    "t1 = get_t1(close, timestamps, 5)\n",
    "print('*' * 100)\n",
    "print(t1.head())\n",
    "vol = get_daily_vol(close)\n",
    "events = get_events(close, timestamps, [1, 1], vol, min_ret=0,\n",
    "                    num_threads=16, t1=t1, side=None)\n",
    "\n",
    "print('*' * 100)\n",
    "print(events.head())"
   ]
  },
  {
   "cell_type": "markdown",
   "metadata": {},
   "source": [
    "Finally, we generate labels."
   ]
  },
  {
   "cell_type": "code",
   "execution_count": 7,
   "metadata": {},
   "outputs": [
    {
     "name": "stdout",
     "output_type": "stream",
     "text": [
      "                 ret  size\n",
      "2000-01-12  0.060864   1.0\n",
      "2000-01-18 -0.072067  -1.0\n",
      "2000-01-19 -0.053738  -1.0\n",
      "2000-02-08 -0.054029  -1.0\n",
      "2000-03-06  0.054513   1.0\n"
     ]
    }
   ],
   "source": [
    "from finance_ml.labeling import get_t1, get_sizes\n",
    "\n",
    "out = get_sizes(close, events, sign_label=False)\n",
    "print(out.head())"
   ]
  },
  {
   "cell_type": "markdown",
   "metadata": {},
   "source": [
    "# Meta Labeling\n",
    "\n",
    "We test metalabeling with randomly sampled sides. Metalabeling is a technique to separate deciding position side and betting size. For example, you can decide sides based on cross moving average and predicting size of betting by ML algorithms."
   ]
  },
  {
   "cell_type": "code",
   "execution_count": 8,
   "metadata": {},
   "outputs": [
    {
     "name": "stderr",
     "output_type": "stream",
     "text": [
      "2018-09-16 20:29:51.340633 6.25% get_touch_idx done after 0.0 minutes. Remaining 0.05 minutes.\r",
      "2018-09-16 20:29:51.351370 12.5% get_touch_idx done after 0.0 minutes. Remaining 0.03 minutes.\r",
      "2018-09-16 20:29:51.354311 18.75% get_touch_idx done after 0.0 minutes. Remaining 0.02 minutes.\r",
      "2018-09-16 20:29:51.367328 25.0% get_touch_idx done after 0.0 minutes. Remaining 0.01 minutes.\r",
      "2018-09-16 20:29:51.388513 31.25% get_touch_idx done after 0.0 minutes. Remaining 0.01 minutes.\r",
      "2018-09-16 20:29:51.411837 37.5% get_touch_idx done after 0.0 minutes. Remaining 0.01 minutes.\r",
      "2018-09-16 20:29:51.420633 43.75% get_touch_idx done after 0.0 minutes. Remaining 0.01 minutes.\r",
      "2018-09-16 20:29:51.439919 50.0% get_touch_idx done after 0.01 minutes. Remaining 0.01 minutes.\r",
      "2018-09-16 20:29:51.451092 56.25% get_touch_idx done after 0.01 minutes. Remaining 0.0 minutes.\r",
      "2018-09-16 20:29:51.457815 62.5% get_touch_idx done after 0.01 minutes. Remaining 0.0 minutes.\r",
      "2018-09-16 20:29:51.458563 68.75% get_touch_idx done after 0.01 minutes. Remaining 0.0 minutes.\r",
      "2018-09-16 20:29:51.463327 75.0% get_touch_idx done after 0.01 minutes. Remaining 0.0 minutes.\r",
      "2018-09-16 20:29:51.466530 81.25% get_touch_idx done after 0.01 minutes. Remaining 0.0 minutes.\r",
      "2018-09-16 20:29:51.471325 87.5% get_touch_idx done after 0.01 minutes. Remaining 0.0 minutes.\r",
      "2018-09-16 20:29:51.482949 93.75% get_touch_idx done after 0.01 minutes. Remaining 0.0 minutes.\r",
      "2018-09-16 20:29:51.490308 100.0% get_touch_idx done after 0.01 minutes. Remaining 0.0 minutes.\n"
     ]
    },
    {
     "name": "stdout",
     "output_type": "stream",
     "text": [
      "                 ret  side  size\n",
      "2000-01-12 -0.060864    -1   0.0\n",
      "2000-01-18  0.072067    -1   1.0\n",
      "2000-01-19 -0.053738     1   0.0\n",
      "2000-02-08 -0.054029     1   0.0\n",
      "2000-03-06  0.054513     1   1.0\n"
     ]
    },
    {
     "name": "stderr",
     "output_type": "stream",
     "text": [
      "/home/tom/anaconda3/lib/python3.6/site-packages/pandas/core/indexing.py:194: SettingWithCopyWarning: \n",
      "A value is trying to be set on a copy of a slice from a DataFrame\n",
      "\n",
      "See the caveats in the documentation: http://pandas.pydata.org/pandas-docs/stable/indexing.html#indexing-view-versus-copy\n",
      "  self._setitem_with_indexer(indexer, value)\n"
     ]
    }
   ],
   "source": [
    "import numpy as np\n",
    "\n",
    "side = pd.Series(np.random.choice([-1, 1], len(close)), index=close.index)\n",
    "\n",
    "t1 = get_t1(close, timestamps, 5)\n",
    "vol = get_daily_vol(close)\n",
    "events = get_events(close, timestamps, [1, 1], vol, min_ret=0,\n",
    "                    num_threads=16, t1=t1, side=side)\n",
    "out = get_sizes(close, events, sign_label=False)\n",
    "print(out.head())"
   ]
  },
  {
   "cell_type": "code",
   "execution_count": 24,
   "metadata": {},
   "outputs": [
    {
     "data": {
      "image/png": "[encoded data removed]",
      "text/plain": [
       "<matplotlib.figure.Figure at 0x7f5495e39278>"
      ]
     },
     "metadata": {},
     "output_type": "display_data"
    }
   ],
   "source": [
    "label = out['size'] * out['side']\n",
    "start = '2016-01-01'\n",
    "end = '2017-01-01'\n",
    "\n",
    "label = label.loc[(label.index >= start) & (label.index <= end)]\n",
    "pos_idx = label.loc[label == 1].index\n",
    "neg_idx = label.loc[label == -1].index\n",
    "zero_idx = label.loc[label == 0].index\n",
    "close.loc[label.index].plot(color='k');\n",
    "plt.scatter(pos_idx, close.loc[pos_idx], color='b');\n",
    "plt.scatter(neg_idx, close.loc[neg_idx], color='r');\n",
    "plt.scatter(zero_idx, close.loc[zero_idx], color='g');"
   ]
  },
  {
   "cell_type": "code",
   "execution_count": null,
   "metadata": {},
   "outputs": [],
   "source": []
  }
 ],
 "metadata": {
  "kernelspec": {
   "display_name": "Python 3",
   "language": "python",
   "name": "python3"
  },
  "language_info": {
   "codemirror_mode": {
    "name": "ipython",
    "version": 3
   },
   "file_extension": ".py",
   "mimetype": "text/x-python",
   "name": "python",
   "nbconvert_exporter": "python",
   "pygments_lexer": "ipython3",
   "version": "3.6.4"
  }
 },
 "nbformat": 4,
 "nbformat_minor": 2
}
