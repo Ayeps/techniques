{
 "cells": [
  {
   "cell_type": "markdown",
   "metadata": {},
   "source": [
    "**The issue with just depleting the p-value or deflating on trials is that they might be realtted and not independent and for that reason, you might be deflating them at too extreme a rate**"
   ]
  },
  {
   "cell_type": "markdown",
   "metadata": {},
   "source": [
    "So you have walk-forward back-tests, which is the back tests you and I know. And then quite naturally, we have backtests on simulated data. \n",
    "\n",
    "I can imagine another type of backtests and that is superimposing signals from prices onto new prices to recreate new prices based on multiple scenarios. \n",
    "\n",
    "Another potential is to have multiple time-series and then to use back-testing as a tool to fit on - it is going to be harder to fit on multiple ones, in the sense that you do cross-validation. \n",
    "\n",
    "Naturally walk forward leads to higher variance, higher variance leads to more false discovery.\n",
    "\n"
   ]
  },
  {
   "cell_type": "markdown",
   "metadata": {},
   "source": [
    "https://github.com/jjakimoto/finance_ml/blob/master/examples/miscellaneous/Ch 3.ipynb"
   ]
  },
  {
   "cell_type": "markdown",
   "metadata": {},
   "source": [
    "From here forward you would like to learn more about Chapter 3"
   ]
  },
  {
   "cell_type": "code",
   "execution_count": 56,
   "metadata": {},
   "outputs": [],
   "source": [
    "import pandas as pd\n",
    "\n",
    "df = pd.read_csv(\"datasets/Google.csv\")\n",
    "df.index = pd.DatetimeIndex(df['Date'].values)\n",
    "close = df[\"Close\"]"
   ]
  },
  {
   "cell_type": "code",
   "execution_count": 57,
   "metadata": {},
   "outputs": [],
   "source": [
    "import numpy as np\n",
    "import pandas as pd\n",
    "\n",
    "### This really gets a moving average of the daily volatility. \n",
    "def get_daily_vol(close, span=100):\n",
    "    # Easy, search the index for where the next index is a day away from previous index\n",
    "    # It will return duplicate indexes, because its relative to before and after\n",
    "    # Returns closest index to another. \n",
    "    # It is a hack - where index should be added to maintain order.\n",
    "    \n",
    "    # The insertion index is the place to add your value to keep the index in sorted order\n",
    "    use_idx = close.index.searchsorted(close.index - pd.Timedelta(days=1))\n",
    "    use_idx = use_idx[use_idx > 0]\n",
    "    # Get rid of duplications in index\n",
    "    use_idx = np.unique(use_idx)\n",
    "    prev_idx = pd.Series(close.index[use_idx - 1], index=close.index[use_idx])\n",
    "    ret = close.loc[prev_idx.index] / close.loc[prev_idx.values].values - 1\n",
    "    # Ewm is an exponentially weighted moving average, various parameters can be tweaked \n",
    "    vol = ret.ewm(span=span).std()\n",
    "    return vol"
   ]
  },
  {
   "cell_type": "code",
   "execution_count": 66,
   "metadata": {},
   "outputs": [],
   "source": [
    "### Time to simplify the formula, to write it in as little code as possible.\n",
    "### This value is slightly better but the formula is better.\n",
    "### I have noticed, this is the gaps, he doesn't take the returns of the\n",
    "### gaps, that is fine with me, I might still wonder about the\n",
    "## justification of that, but it is done. \n",
    "## basically you can ask him why he is leaving out the gap. \n",
    "#### Interesting, my EW takes friday out.\n",
    "#### His takes monday out\n",
    "\n",
    "import numpy as np\n",
    "import pandas as pd\n",
    "\n",
    "### This really gets a moving average of the daily volatility. \n",
    "def daily_moving_vol(close, span=100):\n",
    "    if close.shape[0]==close.index.drop_duplicates().shape[0]:\n",
    "        # Ewm is an exponentially weighted moving average, various parameters can be tweaked like span\n",
    "        vol = ((close/close.shift(-1)-1).drop_duplicates().dropna()).ewm(span=span).std()\n",
    "        return vol\n",
    "    else:\n",
    "        print(\"duplicate indexes - fix\")\n",
    "\n"
   ]
  },
  {
   "cell_type": "code",
   "execution_count": 67,
   "metadata": {},
   "outputs": [],
   "source": [
    "def get_daily_vol_sans_monday(close, span=100):\n",
    "    days = pd.Series(close[1:].index.append(close.index.shift(1,freq=\"D\")[-1:]) - close.index  < pd.Timedelta(days=2))\n",
    "    days = days.shift(1).dropna()\n",
    "    days = days[days==True]\n",
    "\n",
    "    ret = ((close/close.shift(-1)-1).drop_duplicates().dropna())\n",
    "\n",
    "    ew = ret.iloc[days.index].ewm(span=span).std()\n",
    "    return ew"
   ]
  },
  {
   "cell_type": "code",
   "execution_count": 64,
   "metadata": {},
   "outputs": [
    {
     "data": {
      "text/html": [
       "<div>\n",
       "<style scoped>\n",
       "    .dataframe tbody tr th:only-of-type {\n",
       "        vertical-align: middle;\n",
       "    }\n",
       "\n",
       "    .dataframe tbody tr th {\n",
       "        vertical-align: top;\n",
       "    }\n",
       "\n",
       "    .dataframe thead th {\n",
       "        text-align: right;\n",
       "    }\n",
       "</style>\n",
       "<table border=\"1\" class=\"dataframe\">\n",
       "  <thead>\n",
       "    <tr style=\"text-align: right;\">\n",
       "      <th></th>\n",
       "      <th>Close</th>\n",
       "      <th>date</th>\n",
       "      <th>dow</th>\n",
       "    </tr>\n",
       "  </thead>\n",
       "  <tbody>\n",
       "    <tr>\n",
       "      <th>2004-08-23</th>\n",
       "      <td>NaN</td>\n",
       "      <td>2004-08-23</td>\n",
       "      <td>Monday</td>\n",
       "    </tr>\n",
       "    <tr>\n",
       "      <th>2004-08-24</th>\n",
       "      <td>0.036396</td>\n",
       "      <td>2004-08-24</td>\n",
       "      <td>Tuesday</td>\n",
       "    </tr>\n",
       "    <tr>\n",
       "      <th>2004-08-25</th>\n",
       "      <td>0.029930</td>\n",
       "      <td>2004-08-25</td>\n",
       "      <td>Wednesday</td>\n",
       "    </tr>\n",
       "    <tr>\n",
       "      <th>2004-08-26</th>\n",
       "      <td>0.027366</td>\n",
       "      <td>2004-08-26</td>\n",
       "      <td>Thursday</td>\n",
       "    </tr>\n",
       "    <tr>\n",
       "      <th>2004-08-30</th>\n",
       "      <td>0.029365</td>\n",
       "      <td>2004-08-30</td>\n",
       "      <td>Monday</td>\n",
       "    </tr>\n",
       "    <tr>\n",
       "      <th>2004-08-31</th>\n",
       "      <td>0.026605</td>\n",
       "      <td>2004-08-31</td>\n",
       "      <td>Tuesday</td>\n",
       "    </tr>\n",
       "    <tr>\n",
       "      <th>2004-09-01</th>\n",
       "      <td>0.024794</td>\n",
       "      <td>2004-09-01</td>\n",
       "      <td>Wednesday</td>\n",
       "    </tr>\n",
       "    <tr>\n",
       "      <th>2004-09-02</th>\n",
       "      <td>0.024097</td>\n",
       "      <td>2004-09-02</td>\n",
       "      <td>Thursday</td>\n",
       "    </tr>\n",
       "    <tr>\n",
       "      <th>2004-09-07</th>\n",
       "      <td>0.023610</td>\n",
       "      <td>2004-09-07</td>\n",
       "      <td>Tuesday</td>\n",
       "    </tr>\n",
       "    <tr>\n",
       "      <th>2004-09-08</th>\n",
       "      <td>0.022400</td>\n",
       "      <td>2004-09-08</td>\n",
       "      <td>Wednesday</td>\n",
       "    </tr>\n",
       "  </tbody>\n",
       "</table>\n",
       "</div>"
      ],
      "text/plain": [
       "               Close       date        dow\n",
       "2004-08-23       NaN 2004-08-23     Monday\n",
       "2004-08-24  0.036396 2004-08-24    Tuesday\n",
       "2004-08-25  0.029930 2004-08-25  Wednesday\n",
       "2004-08-26  0.027366 2004-08-26   Thursday\n",
       "2004-08-30  0.029365 2004-08-30     Monday\n",
       "2004-08-31  0.026605 2004-08-31    Tuesday\n",
       "2004-09-01  0.024794 2004-09-01  Wednesday\n",
       "2004-09-02  0.024097 2004-09-02   Thursday\n",
       "2004-09-07  0.023610 2004-09-07    Tuesday\n",
       "2004-09-08  0.022400 2004-09-08  Wednesday"
      ]
     },
     "execution_count": 64,
     "metadata": {},
     "output_type": "execute_result"
    }
   ],
   "source": [
    "vol1 = get_daily_vol(close)\n",
    "vol1 = vol1.to_frame()\n",
    "vol1[\"date\"] = list(vol1.index)\n",
    "vol1[\"dow\"] = vol1[\"date\"].dt.day_name()\n",
    "vol1.head(10)"
   ]
  },
  {
   "cell_type": "code",
   "execution_count": 65,
   "metadata": {},
   "outputs": [
    {
     "data": {
      "text/html": [
       "<div>\n",
       "<style scoped>\n",
       "    .dataframe tbody tr th:only-of-type {\n",
       "        vertical-align: middle;\n",
       "    }\n",
       "\n",
       "    .dataframe tbody tr th {\n",
       "        vertical-align: top;\n",
       "    }\n",
       "\n",
       "    .dataframe thead th {\n",
       "        text-align: right;\n",
       "    }\n",
       "</style>\n",
       "<table border=\"1\" class=\"dataframe\">\n",
       "  <thead>\n",
       "    <tr style=\"text-align: right;\">\n",
       "      <th></th>\n",
       "      <th>Close</th>\n",
       "      <th>date</th>\n",
       "      <th>dow</th>\n",
       "    </tr>\n",
       "  </thead>\n",
       "  <tbody>\n",
       "    <tr>\n",
       "      <th>2004-08-19</th>\n",
       "      <td>NaN</td>\n",
       "      <td>2004-08-19</td>\n",
       "      <td>Thursday</td>\n",
       "    </tr>\n",
       "    <tr>\n",
       "      <th>2004-08-20</th>\n",
       "      <td>0.045020</td>\n",
       "      <td>2004-08-20</td>\n",
       "      <td>Friday</td>\n",
       "    </tr>\n",
       "    <tr>\n",
       "      <th>2004-08-23</th>\n",
       "      <td>0.058456</td>\n",
       "      <td>2004-08-23</td>\n",
       "      <td>Monday</td>\n",
       "    </tr>\n",
       "    <tr>\n",
       "      <th>2004-08-24</th>\n",
       "      <td>0.047500</td>\n",
       "      <td>2004-08-24</td>\n",
       "      <td>Tuesday</td>\n",
       "    </tr>\n",
       "    <tr>\n",
       "      <th>2004-08-25</th>\n",
       "      <td>0.041005</td>\n",
       "      <td>2004-08-25</td>\n",
       "      <td>Wednesday</td>\n",
       "    </tr>\n",
       "    <tr>\n",
       "      <th>2004-08-26</th>\n",
       "      <td>0.038556</td>\n",
       "      <td>2004-08-26</td>\n",
       "      <td>Thursday</td>\n",
       "    </tr>\n",
       "    <tr>\n",
       "      <th>2004-08-27</th>\n",
       "      <td>0.039770</td>\n",
       "      <td>2004-08-27</td>\n",
       "      <td>Friday</td>\n",
       "    </tr>\n",
       "    <tr>\n",
       "      <th>2004-08-30</th>\n",
       "      <td>0.036647</td>\n",
       "      <td>2004-08-30</td>\n",
       "      <td>Monday</td>\n",
       "    </tr>\n",
       "    <tr>\n",
       "      <th>2004-08-31</th>\n",
       "      <td>0.034956</td>\n",
       "      <td>2004-08-31</td>\n",
       "      <td>Tuesday</td>\n",
       "    </tr>\n",
       "    <tr>\n",
       "      <th>2004-09-01</th>\n",
       "      <td>0.033110</td>\n",
       "      <td>2004-09-01</td>\n",
       "      <td>Wednesday</td>\n",
       "    </tr>\n",
       "  </tbody>\n",
       "</table>\n",
       "</div>"
      ],
      "text/plain": [
       "               Close       date        dow\n",
       "2004-08-19       NaN 2004-08-19   Thursday\n",
       "2004-08-20  0.045020 2004-08-20     Friday\n",
       "2004-08-23  0.058456 2004-08-23     Monday\n",
       "2004-08-24  0.047500 2004-08-24    Tuesday\n",
       "2004-08-25  0.041005 2004-08-25  Wednesday\n",
       "2004-08-26  0.038556 2004-08-26   Thursday\n",
       "2004-08-27  0.039770 2004-08-27     Friday\n",
       "2004-08-30  0.036647 2004-08-30     Monday\n",
       "2004-08-31  0.034956 2004-08-31    Tuesday\n",
       "2004-09-01  0.033110 2004-09-01  Wednesday"
      ]
     },
     "execution_count": 65,
     "metadata": {},
     "output_type": "execute_result"
    }
   ],
   "source": [
    "vol_m = daily_moving_vol(df[\"Close\"])\n",
    "vol_m = vol_m.to_frame()\n",
    "vol_m[\"date\"] = list(vol_m.index)\n",
    "vol_m[\"dow\"] = vol_m[\"date\"].dt.day_name()\n",
    "vol_m.head(10)"
   ]
  },
  {
   "cell_type": "code",
   "execution_count": 68,
   "metadata": {},
   "outputs": [
    {
     "data": {
      "text/html": [
       "<div>\n",
       "<style scoped>\n",
       "    .dataframe tbody tr th:only-of-type {\n",
       "        vertical-align: middle;\n",
       "    }\n",
       "\n",
       "    .dataframe tbody tr th {\n",
       "        vertical-align: top;\n",
       "    }\n",
       "\n",
       "    .dataframe thead th {\n",
       "        text-align: right;\n",
       "    }\n",
       "</style>\n",
       "<table border=\"1\" class=\"dataframe\">\n",
       "  <thead>\n",
       "    <tr style=\"text-align: right;\">\n",
       "      <th></th>\n",
       "      <th>Close</th>\n",
       "      <th>date</th>\n",
       "      <th>dow</th>\n",
       "    </tr>\n",
       "  </thead>\n",
       "  <tbody>\n",
       "    <tr>\n",
       "      <th>2004-08-20</th>\n",
       "      <td>NaN</td>\n",
       "      <td>2004-08-20</td>\n",
       "      <td>Friday</td>\n",
       "    </tr>\n",
       "    <tr>\n",
       "      <th>2004-08-24</th>\n",
       "      <td>0.000493</td>\n",
       "      <td>2004-08-24</td>\n",
       "      <td>Tuesday</td>\n",
       "    </tr>\n",
       "    <tr>\n",
       "      <th>2004-08-25</th>\n",
       "      <td>0.004299</td>\n",
       "      <td>2004-08-25</td>\n",
       "      <td>Wednesday</td>\n",
       "    </tr>\n",
       "    <tr>\n",
       "      <th>2004-08-26</th>\n",
       "      <td>0.015255</td>\n",
       "      <td>2004-08-26</td>\n",
       "      <td>Thursday</td>\n",
       "    </tr>\n",
       "    <tr>\n",
       "      <th>2004-08-27</th>\n",
       "      <td>0.024609</td>\n",
       "      <td>2004-08-27</td>\n",
       "      <td>Friday</td>\n",
       "    </tr>\n",
       "    <tr>\n",
       "      <th>2004-08-31</th>\n",
       "      <td>0.022998</td>\n",
       "      <td>2004-08-31</td>\n",
       "      <td>Tuesday</td>\n",
       "    </tr>\n",
       "    <tr>\n",
       "      <th>2004-09-01</th>\n",
       "      <td>0.022231</td>\n",
       "      <td>2004-09-01</td>\n",
       "      <td>Wednesday</td>\n",
       "    </tr>\n",
       "    <tr>\n",
       "      <th>2004-09-02</th>\n",
       "      <td>0.020847</td>\n",
       "      <td>2004-09-02</td>\n",
       "      <td>Thursday</td>\n",
       "    </tr>\n",
       "    <tr>\n",
       "      <th>2004-09-03</th>\n",
       "      <td>0.020728</td>\n",
       "      <td>2004-09-03</td>\n",
       "      <td>Friday</td>\n",
       "    </tr>\n",
       "    <tr>\n",
       "      <th>2004-09-08</th>\n",
       "      <td>0.019472</td>\n",
       "      <td>2004-09-08</td>\n",
       "      <td>Wednesday</td>\n",
       "    </tr>\n",
       "  </tbody>\n",
       "</table>\n",
       "</div>"
      ],
      "text/plain": [
       "               Close       date        dow\n",
       "2004-08-20       NaN 2004-08-20     Friday\n",
       "2004-08-24  0.000493 2004-08-24    Tuesday\n",
       "2004-08-25  0.004299 2004-08-25  Wednesday\n",
       "2004-08-26  0.015255 2004-08-26   Thursday\n",
       "2004-08-27  0.024609 2004-08-27     Friday\n",
       "2004-08-31  0.022998 2004-08-31    Tuesday\n",
       "2004-09-01  0.022231 2004-09-01  Wednesday\n",
       "2004-09-02  0.020847 2004-09-02   Thursday\n",
       "2004-09-03  0.020728 2004-09-03     Friday\n",
       "2004-09-08  0.019472 2004-09-08  Wednesday"
      ]
     },
     "execution_count": 68,
     "metadata": {},
     "output_type": "execute_result"
    }
   ],
   "source": [
    "vol_d = get_daily_vol_sans_monday(df[\"Close\"])\n",
    "vol_d = vol_d.to_frame()\n",
    "vol_d[\"date\"] = list(vol_d.index)\n",
    "vol_d[\"dow\"] = vol_d[\"date\"].dt.day_name()\n",
    "vol_d.head(10)"
   ]
  },
  {
   "cell_type": "code",
   "execution_count": 21,
   "metadata": {},
   "outputs": [],
   "source": [
    "########## Okay above, the volume has been delt with."
   ]
  },
  {
   "cell_type": "code",
   "execution_count": null,
   "metadata": {},
   "outputs": [],
   "source": [
    "Isinstance is like is type basically, can include stuff like class too.\n",
    "\n",
    ">>> isinstance('foo', basestring)\n",
    "True\n",
    ">>> isinstance('foo', float)\n",
    "False\n"
   ]
  },
  {
   "cell_type": "markdown",
   "metadata": {},
   "source": [
    "When the CUSUM method is applied to changes in mean, it can be used for step detection of a time series.\n",
    "In statistical quality control, the CUSUM (or cumulative sum control chart) is a sequential analysis technique developed by E. S. Page of the University of Cambridge."
   ]
  },
  {
   "cell_type": "code",
   "execution_count": 69,
   "metadata": {},
   "outputs": [],
   "source": [
    "import numbers\n",
    "# It is basically a cummulative regime shift of more than 10% after\n",
    "# which it essentially gets reset.\n",
    "\n",
    "def cusum_filter(close, h):\n",
    "    # asssum that E y_t = y_{t-1}\n",
    "    t_events = []\n",
    "    s_pos, s_neg = 0, 0\n",
    "    ret = close.pct_change().dropna()\n",
    "    diff = ret.diff().dropna()\n",
    "    # time variant threshold\n",
    "    if isinstance(h, numbers.Number):\n",
    "        h = pd.Series(h, index=diff.index)\n",
    "    h = h.reindex(diff.index, method='bfill')\n",
    "    h = h.dropna()\n",
    "    for t in h.index:\n",
    "        s_pos = max(0, s_pos + diff.loc[t])\n",
    "        s_neg = min(0, s_neg + diff.loc[t])\n",
    "        if s_pos > h.loc[t]:\n",
    "            s_pos = 0\n",
    "            t_events.append(t)\n",
    "        elif s_neg < -h.loc[t]:\n",
    "            s_neg = 0\n",
    "            t_events.append(t)\n",
    "    return pd.DatetimeIndex(t_events)"
   ]
  },
  {
   "cell_type": "code",
   "execution_count": 77,
   "metadata": {},
   "outputs": [],
   "source": [
    "vol = get_daily_vol(close)"
   ]
  },
  {
   "cell_type": "code",
   "execution_count": 78,
   "metadata": {},
   "outputs": [
    {
     "data": {
      "text/plain": [
       "(1513,)"
      ]
     },
     "execution_count": 78,
     "metadata": {},
     "output_type": "execute_result"
    }
   ],
   "source": [
    "## Interesting, you don't want the level of volatility to effect the selection\n",
    "## so instead use it is a threshold of selection.\n",
    "\n",
    "sampled_idx = cusum_filter(close, vol)\n",
    "sampled_idx\n",
    "sampled_idx.shape"
   ]
  },
  {
   "cell_type": "code",
   "execution_count": 82,
   "metadata": {},
   "outputs": [],
   "source": [
    "## This is simply getting time + 1 \n",
    "def get_t1(close, t_events, num_days):\n",
    "    t1 = close.index.searchsorted(t_events + pd.Timedelta(days=num_days))\n",
    "    t1 = t1[t1 < close.shape[0]]\n",
    "    t1 = pd.Series(close.index[t1], index=t_events[:t1.shape[0]])\n",
    "    return t1"
   ]
  },
  {
   "cell_type": "code",
   "execution_count": 83,
   "metadata": {},
   "outputs": [
    {
     "name": "stdout",
     "output_type": "stream",
     "text": [
      "(1513,)\n"
     ]
    },
    {
     "data": {
      "text/plain": [
       "2004-08-24   2004-08-25\n",
       "2004-08-25   2004-08-26\n",
       "2004-08-27   2004-08-30\n",
       "2004-08-31   2004-09-01\n",
       "2004-09-02   2004-09-03\n",
       "dtype: datetime64[ns]"
      ]
     },
     "execution_count": 83,
     "metadata": {},
     "output_type": "execute_result"
    }
   ],
   "source": [
    "t1 = get_t1(close, sampled_idx, num_days=1)\n",
    "print(t1.shape)\n",
    "t1.head()"
   ]
  },
  {
   "cell_type": "code",
   "execution_count": 84,
   "metadata": {},
   "outputs": [],
   "source": [
    "## This simply implements the three barrier method. \n",
    "\n",
    "def apply_ptslt1(close, events, ptsl, molecule):\n",
    "    \"\"\"Return datafram about if price touches the boundary\"\"\"\n",
    "    # Sample a subset with specific indices\n",
    "    _events = events.loc[molecule]\n",
    "    # Time limit\n",
    "    \n",
    "    out = pd.DataFrame(index=_events.index)\n",
    "    # Set Profit Taking and Stop Loss\n",
    "    if ptsl[0] > 0:\n",
    "        pt = ptsl[0] *  _events[\"trgt\"]\n",
    "    else:\n",
    "        # Switch off profit taking\n",
    "        pt = pd.Series(index=_events.index)\n",
    "    if ptsl[1] > 0:\n",
    "        sl = -ptsl[1] * _events[\"trgt\"]\n",
    "    else:\n",
    "        # Switch off stop loss\n",
    "        sl = pd.Series(index=_events.index)\n",
    "    # Replace undifined value with the last time index\n",
    "    time_limits = _events[\"t1\"].fillna(close.index[-1])\n",
    "    for loc, t1 in time_limits.iteritems():\n",
    "        df = close[loc:t1]\n",
    "        # Change the direction depending on the side\n",
    "        df = (df / close[loc] - 1) * _events.at[loc, 'side']\n",
    "        # print(df)\n",
    "        # print(loc, t1, df[df < sl[loc]].index.min(), df[df > pt[loc]].index.min())\n",
    "        out.at[loc, 'sl'] = df[df < sl[loc]].index.min()\n",
    "        out.at[loc, 'pt'] = df[df > pt[loc]].index.min()\n",
    "    out['t1'] = _events['t1'].copy(deep=True)\n",
    "    return out"
   ]
  },
  {
   "cell_type": "code",
   "execution_count": 85,
   "metadata": {},
   "outputs": [],
   "source": [
    "def get_3barriers(close, t_events, ptsl, trgt, min_ret=0, num_threads=1,\n",
    "                  t1=False, side=None):\n",
    "    # Get sampled target values\n",
    "    trgt = trgt.loc[t_events]\n",
    "    trgt = trgt[trgt > min_ret]\n",
    "    # Get time boundary t1\n",
    "    if t1 is False:\n",
    "        t1 = pd.Series(pd.NaT, index=t_events)\n",
    "    # Define the side\n",
    "    if side is None:\n",
    "        _side = pd.Series(1., index=trgt.index)\n",
    "        _ptsl = [ptsl, ptsl]\n",
    "    else:\n",
    "        _side = side.loc[trgt.index]\n",
    "        _ptsl = ptsl[:2]\n",
    "    events = pd.concat({'t1': t1, 'trgt': trgt, 'side': _side}, axis=1)\n",
    "    events = events.dropna(subset=['trgt'])\n",
    "    time_idx = apply_ptslt1(close, events, _ptsl, events.index)\n",
    "    # Skip when all of barrier are not touched\n",
    "    events['t1'] = time_idx.dropna(how='all').min(axis=1)\n",
    "    events = events.drop('side', axis=1)\n",
    "    return events"
   ]
  },
  {
   "cell_type": "code",
   "execution_count": 86,
   "metadata": {},
   "outputs": [
    {
     "name": "stderr",
     "output_type": "stream",
     "text": [
      "/Users/dereksnow/anaconda/envs/py36/lib/python3.6/site-packages/ipykernel/__main__.py:4: FutureWarning: \n",
      "Passing list-likes to .loc or [] with any missing label will raise\n",
      "KeyError in the future, you can use .reindex() as an alternative.\n",
      "\n",
      "See the documentation here:\n",
      "https://pandas.pydata.org/pandas-docs/stable/indexing.html#deprecate-loc-reindex-listlike\n"
     ]
    },
    {
     "data": {
      "text/html": [
       "<div>\n",
       "<style scoped>\n",
       "    .dataframe tbody tr th:only-of-type {\n",
       "        vertical-align: middle;\n",
       "    }\n",
       "\n",
       "    .dataframe tbody tr th {\n",
       "        vertical-align: top;\n",
       "    }\n",
       "\n",
       "    .dataframe thead th {\n",
       "        text-align: right;\n",
       "    }\n",
       "</style>\n",
       "<table border=\"1\" class=\"dataframe\">\n",
       "  <thead>\n",
       "    <tr style=\"text-align: right;\">\n",
       "      <th></th>\n",
       "      <th>t1</th>\n",
       "      <th>trgt</th>\n",
       "    </tr>\n",
       "  </thead>\n",
       "  <tbody>\n",
       "    <tr>\n",
       "      <th>2004-08-24</th>\n",
       "      <td>2004-08-25</td>\n",
       "      <td>0.036396</td>\n",
       "    </tr>\n",
       "    <tr>\n",
       "      <th>2004-08-25</th>\n",
       "      <td>2004-08-26</td>\n",
       "      <td>0.029930</td>\n",
       "    </tr>\n",
       "    <tr>\n",
       "      <th>2004-08-31</th>\n",
       "      <td>2004-09-01</td>\n",
       "      <td>0.026605</td>\n",
       "    </tr>\n",
       "    <tr>\n",
       "      <th>2004-09-02</th>\n",
       "      <td>2004-09-03</td>\n",
       "      <td>0.024097</td>\n",
       "    </tr>\n",
       "    <tr>\n",
       "      <th>2004-09-07</th>\n",
       "      <td>2004-09-08</td>\n",
       "      <td>0.023610</td>\n",
       "    </tr>\n",
       "  </tbody>\n",
       "</table>\n",
       "</div>"
      ],
      "text/plain": [
       "                   t1      trgt\n",
       "2004-08-24 2004-08-25  0.036396\n",
       "2004-08-25 2004-08-26  0.029930\n",
       "2004-08-31 2004-09-01  0.026605\n",
       "2004-09-02 2004-09-03  0.024097\n",
       "2004-09-07 2004-09-08  0.023610"
      ]
     },
     "execution_count": 86,
     "metadata": {},
     "output_type": "execute_result"
    }
   ],
   "source": [
    "trgt = vol\n",
    "events = get_3barriers(close, t_events=sampled_idx, trgt=vol,\n",
    "                       ptsl=1, t1=t1)\n",
    "events.head()"
   ]
  },
  {
   "cell_type": "code",
   "execution_count": 88,
   "metadata": {},
   "outputs": [
    {
     "data": {
      "text/html": [
       "<div>\n",
       "<style scoped>\n",
       "    .dataframe tbody tr th:only-of-type {\n",
       "        vertical-align: middle;\n",
       "    }\n",
       "\n",
       "    .dataframe tbody tr th {\n",
       "        vertical-align: top;\n",
       "    }\n",
       "\n",
       "    .dataframe thead th {\n",
       "        text-align: right;\n",
       "    }\n",
       "</style>\n",
       "<table border=\"1\" class=\"dataframe\">\n",
       "  <thead>\n",
       "    <tr style=\"text-align: right;\">\n",
       "      <th></th>\n",
       "      <th>ret</th>\n",
       "      <th>bin</th>\n",
       "    </tr>\n",
       "  </thead>\n",
       "  <tbody>\n",
       "    <tr>\n",
       "      <th>2004-08-24</th>\n",
       "      <td>0.010775</td>\n",
       "      <td>1.0</td>\n",
       "    </tr>\n",
       "    <tr>\n",
       "      <th>2004-08-25</th>\n",
       "      <td>0.018019</td>\n",
       "      <td>1.0</td>\n",
       "    </tr>\n",
       "    <tr>\n",
       "      <th>2004-08-31</th>\n",
       "      <td>-0.020709</td>\n",
       "      <td>-1.0</td>\n",
       "    </tr>\n",
       "    <tr>\n",
       "      <th>2004-09-02</th>\n",
       "      <td>-0.014777</td>\n",
       "      <td>-1.0</td>\n",
       "    </tr>\n",
       "    <tr>\n",
       "      <th>2004-09-07</th>\n",
       "      <td>0.007088</td>\n",
       "      <td>1.0</td>\n",
       "    </tr>\n",
       "  </tbody>\n",
       "</table>\n",
       "</div>"
      ],
      "text/plain": [
       "                 ret  bin\n",
       "2004-08-24  0.010775  1.0\n",
       "2004-08-25  0.018019  1.0\n",
       "2004-08-31 -0.020709 -1.0\n",
       "2004-09-02 -0.014777 -1.0\n",
       "2004-09-07  0.007088  1.0"
      ]
     },
     "execution_count": 88,
     "metadata": {},
     "output_type": "execute_result"
    }
   ],
   "source": [
    "\n",
    "\n",
    "def get_bins(events, close):\n",
    "    # Prices algined with events\n",
    "    events = events.dropna(subset=['t1'])\n",
    "    px = events.index.union(events['t1'].values).drop_duplicates()\n",
    "    px = close.reindex(px, method='bfill')\n",
    "    # Create out object\n",
    "    out = pd.DataFrame(index=events.index)\n",
    "    out['ret'] = px.loc[events['t1'].values].values / px.loc[events.index] - 1.\n",
    "    if 'side' in events:\n",
    "        out['ret'] *= events['side']\n",
    "    out['bin'] = np.sign(out['ret'])\n",
    "    if 'side' in events:\n",
    "        out.loc[out['ret'] <= 0, 'bin'] = 0\n",
    "    return out\n",
    "\n",
    "\n",
    "\n",
    "\n",
    "bins = get_bins(events, close)\n",
    "bins.head()\n",
    "\n"
   ]
  },
  {
   "cell_type": "code",
   "execution_count": 91,
   "metadata": {},
   "outputs": [
    {
     "data": {
      "text/plain": [
       " 1.0    630\n",
       "-1.0    586\n",
       " 0.0      1\n",
       "Name: bin, dtype: int64"
      ]
     },
     "execution_count": 91,
     "metadata": {},
     "output_type": "execute_result"
    }
   ],
   "source": [
    "bins[\"bin\"].value_counts()"
   ]
  },
  {
   "cell_type": "code",
   "execution_count": 92,
   "metadata": {},
   "outputs": [],
   "source": [
    "def drop_labels(events, min_pct=0.05):\n",
    "    while True:\n",
    "        df = events['bin'].value_counts(normalize=True)\n",
    "        if df.min() > min_pct or df.shape[0] < 3:\n",
    "            break\n",
    "        print('dropped label', df.argmin(), df.min())\n",
    "        events = events[events['bin'] != df.argmin()]\n",
    "    return events"
   ]
  },
  {
   "cell_type": "code",
   "execution_count": 93,
   "metadata": {},
   "outputs": [
    {
     "name": "stdout",
     "output_type": "stream",
     "text": [
      "dropped label 0.0 0.0008216926869350862\n",
      "(1217, 2)\n",
      "(1216, 2)\n"
     ]
    },
    {
     "name": "stderr",
     "output_type": "stream",
     "text": [
      "/Users/dereksnow/anaconda/envs/py36/lib/python3.6/site-packages/ipykernel/__main__.py:6: FutureWarning: 'argmin' is deprecated, use 'idxmin' instead. The behavior of 'argmin'\n",
      "will be corrected to return the positional minimum in the future.\n",
      "Use 'series.values.argmin' to get the position of the minimum now.\n",
      "/Users/dereksnow/anaconda/envs/py36/lib/python3.6/site-packages/ipykernel/__main__.py:7: FutureWarning: 'argmin' is deprecated, use 'idxmin' instead. The behavior of 'argmin'\n",
      "will be corrected to return the positional minimum in the future.\n",
      "Use 'series.values.argmin' to get the position of the minimum now.\n"
     ]
    }
   ],
   "source": [
    "dropped_bins = drop_labels(bins)\n",
    "print(bins.shape)\n",
    "print(dropped_bins.shape)"
   ]
  },
  {
   "cell_type": "code",
   "execution_count": 94,
   "metadata": {},
   "outputs": [],
   "source": [
    "bins = dropped_bins"
   ]
  },
  {
   "cell_type": "code",
   "execution_count": 96,
   "metadata": {},
   "outputs": [],
   "source": [
    "def get_3barriers(close, t_events, ptsl, trgt, min_ret=0, num_threads=1,\n",
    "                  t1=False, side=None):\n",
    "    # Get sampled target values\n",
    "    trgt = trgt.loc[t_events]\n",
    "    trgt = trgt[trgt > min_ret]\n",
    "    # Get time boundary t1\n",
    "    if t1 is False:\n",
    "        t1 = pd.Series(pd.NaT, index=t_events)\n",
    "    # Define the side\n",
    "    if side is None:\n",
    "        _side = pd.Series(1., index=trgt.index)\n",
    "        _ptsl = [ptsl, ptsl]\n",
    "    else:\n",
    "        _side = side.loc[trgt.index]\n",
    "        _ptsl = ptsl[:2]\n",
    "    events = pd.concat({'t1': t1, 'trgt': trgt, 'side': _side}, axis=1)\n",
    "    events = events.dropna(subset=['trgt'])\n",
    "    time_idx = apply_ptslt1(close, events, _ptsl, events.index)\n",
    "    # Skip when all of barrier are not touched\n",
    "    time_idx = time_idx.dropna(how='all')\n",
    "    events['t1_type'] = time_idx.idxmin(axis=1)\n",
    "    events['t1'] = time_idx.min(axis=1)\n",
    "    if side is None:\n",
    "        events = events.drop('side', axis=1)\n",
    "    return events\n",
    "\n",
    "def get_bins(events, close):\n",
    "    # Prices algined with events\n",
    "    events = events.dropna(subset=['t1'])\n",
    "    px = events.index.union(events['t1'].values).drop_duplicates()\n",
    "    px = close.reindex(px, method='bfill')\n",
    "    # Create out object\n",
    "    out = pd.DataFrame(index=events.index)\n",
    "    out['ret'] = px.loc[events['t1'].values].values / px.loc[events.index] - 1.\n",
    "    if 'side' in events:\n",
    "        out['ret'] *= events['side']\n",
    "    out['bin'] = np.sign(out['ret'])\n",
    "    # 0 when touching vertical line\n",
    "    out['bin'].loc[events['t1_type'] == 't1'] = 0\n",
    "    if 'side' in events:\n",
    "        out.loc[out['ret'] <= 0, 'bin'] = 0\n",
    "    return out"
   ]
  },
  {
   "cell_type": "code",
   "execution_count": 97,
   "metadata": {},
   "outputs": [
    {
     "name": "stderr",
     "output_type": "stream",
     "text": [
      "/Users/dereksnow/anaconda/envs/py36/lib/python3.6/site-packages/ipykernel/__main__.py:4: FutureWarning: \n",
      "Passing list-likes to .loc or [] with any missing label will raise\n",
      "KeyError in the future, you can use .reindex() as an alternative.\n",
      "\n",
      "See the documentation here:\n",
      "https://pandas.pydata.org/pandas-docs/stable/indexing.html#deprecate-loc-reindex-listlike\n"
     ]
    },
    {
     "data": {
      "text/html": [
       "<div>\n",
       "<style scoped>\n",
       "    .dataframe tbody tr th:only-of-type {\n",
       "        vertical-align: middle;\n",
       "    }\n",
       "\n",
       "    .dataframe tbody tr th {\n",
       "        vertical-align: top;\n",
       "    }\n",
       "\n",
       "    .dataframe thead th {\n",
       "        text-align: right;\n",
       "    }\n",
       "</style>\n",
       "<table border=\"1\" class=\"dataframe\">\n",
       "  <thead>\n",
       "    <tr style=\"text-align: right;\">\n",
       "      <th></th>\n",
       "      <th>t1</th>\n",
       "      <th>trgt</th>\n",
       "      <th>t1_type</th>\n",
       "    </tr>\n",
       "  </thead>\n",
       "  <tbody>\n",
       "    <tr>\n",
       "      <th>2004-08-24</th>\n",
       "      <td>2004-08-25</td>\n",
       "      <td>0.036396</td>\n",
       "      <td>t1</td>\n",
       "    </tr>\n",
       "    <tr>\n",
       "      <th>2004-08-25</th>\n",
       "      <td>2004-08-26</td>\n",
       "      <td>0.029930</td>\n",
       "      <td>t1</td>\n",
       "    </tr>\n",
       "    <tr>\n",
       "      <th>2004-08-31</th>\n",
       "      <td>2004-09-01</td>\n",
       "      <td>0.026605</td>\n",
       "      <td>t1</td>\n",
       "    </tr>\n",
       "    <tr>\n",
       "      <th>2004-09-02</th>\n",
       "      <td>2004-09-03</td>\n",
       "      <td>0.024097</td>\n",
       "      <td>t1</td>\n",
       "    </tr>\n",
       "    <tr>\n",
       "      <th>2004-09-07</th>\n",
       "      <td>2004-09-08</td>\n",
       "      <td>0.023610</td>\n",
       "      <td>t1</td>\n",
       "    </tr>\n",
       "  </tbody>\n",
       "</table>\n",
       "</div>"
      ],
      "text/plain": [
       "                   t1      trgt t1_type\n",
       "2004-08-24 2004-08-25  0.036396      t1\n",
       "2004-08-25 2004-08-26  0.029930      t1\n",
       "2004-08-31 2004-09-01  0.026605      t1\n",
       "2004-09-02 2004-09-03  0.024097      t1\n",
       "2004-09-07 2004-09-08  0.023610      t1"
      ]
     },
     "execution_count": 97,
     "metadata": {},
     "output_type": "execute_result"
    }
   ],
   "source": [
    "t1 = get_t1(close, sampled_idx, num_days=1)\n",
    "events = get_3barriers(close, t_events=sampled_idx, trgt=trgt,\n",
    "                       ptsl=1, t1=t1)\n",
    "events.head()"
   ]
  },
  {
   "cell_type": "code",
   "execution_count": 99,
   "metadata": {},
   "outputs": [
    {
     "data": {
      "text/plain": [
       "t1    906\n",
       "pt    180\n",
       "sl    131\n",
       "Name: t1_type, dtype: int64"
      ]
     },
     "execution_count": 99,
     "metadata": {},
     "output_type": "execute_result"
    }
   ],
   "source": [
    "## Easy t1 means you collapsed against the verticle.\n",
    "## I think this is where you think about overlap\n",
    "events[\"t1_type\"].value_counts()"
   ]
  },
  {
   "cell_type": "code",
   "execution_count": 100,
   "metadata": {},
   "outputs": [
    {
     "data": {
      "text/html": [
       "<div>\n",
       "<style scoped>\n",
       "    .dataframe tbody tr th:only-of-type {\n",
       "        vertical-align: middle;\n",
       "    }\n",
       "\n",
       "    .dataframe tbody tr th {\n",
       "        vertical-align: top;\n",
       "    }\n",
       "\n",
       "    .dataframe thead th {\n",
       "        text-align: right;\n",
       "    }\n",
       "</style>\n",
       "<table border=\"1\" class=\"dataframe\">\n",
       "  <thead>\n",
       "    <tr style=\"text-align: right;\">\n",
       "      <th></th>\n",
       "      <th>ret</th>\n",
       "      <th>bin</th>\n",
       "    </tr>\n",
       "  </thead>\n",
       "  <tbody>\n",
       "    <tr>\n",
       "      <th>2004-08-24</th>\n",
       "      <td>0.010775</td>\n",
       "      <td>0.0</td>\n",
       "    </tr>\n",
       "    <tr>\n",
       "      <th>2004-08-25</th>\n",
       "      <td>0.018019</td>\n",
       "      <td>0.0</td>\n",
       "    </tr>\n",
       "    <tr>\n",
       "      <th>2004-08-31</th>\n",
       "      <td>-0.020709</td>\n",
       "      <td>0.0</td>\n",
       "    </tr>\n",
       "    <tr>\n",
       "      <th>2004-09-02</th>\n",
       "      <td>-0.014777</td>\n",
       "      <td>0.0</td>\n",
       "    </tr>\n",
       "    <tr>\n",
       "      <th>2004-09-07</th>\n",
       "      <td>0.007088</td>\n",
       "      <td>0.0</td>\n",
       "    </tr>\n",
       "  </tbody>\n",
       "</table>\n",
       "</div>"
      ],
      "text/plain": [
       "                 ret  bin\n",
       "2004-08-24  0.010775  0.0\n",
       "2004-08-25  0.018019  0.0\n",
       "2004-08-31 -0.020709  0.0\n",
       "2004-09-02 -0.014777  0.0\n",
       "2004-09-07  0.007088  0.0"
      ]
     },
     "execution_count": 100,
     "metadata": {},
     "output_type": "execute_result"
    }
   ],
   "source": [
    "bins = get_bins(events, close)\n",
    "bins.head()"
   ]
  },
  {
   "cell_type": "code",
   "execution_count": 101,
   "metadata": {},
   "outputs": [
    {
     "data": {
      "text/plain": [
       " 0.0    906\n",
       " 1.0    180\n",
       "-1.0    131\n",
       "Name: bin, dtype: int64"
      ]
     },
     "execution_count": 101,
     "metadata": {},
     "output_type": "execute_result"
    }
   ],
   "source": [
    "## Well it is easy to gauge what bins are doing.\n",
    "bins[\"bin\"].value_counts()"
   ]
  },
  {
   "cell_type": "code",
   "execution_count": 105,
   "metadata": {},
   "outputs": [],
   "source": [
    "import talib\n",
    "import numpy as np\n",
    "\n",
    "def macd_side(close):\n",
    "    macd, signal, hist = talib.MACD(close.values)\n",
    "    hist = pd.Series(hist).fillna(1).values\n",
    "    return pd.Series(2 * ((hist > 0).astype(float) - 0.5), index=close.index[-len(hist):])"
   ]
  },
  {
   "cell_type": "code",
   "execution_count": 106,
   "metadata": {},
   "outputs": [
    {
     "name": "stderr",
     "output_type": "stream",
     "text": [
      "/Users/dereksnow/anaconda/envs/py36/lib/python3.6/site-packages/ipykernel/__main__.py:4: FutureWarning: \n",
      "Passing list-likes to .loc or [] with any missing label will raise\n",
      "KeyError in the future, you can use .reindex() as an alternative.\n",
      "\n",
      "See the documentation here:\n",
      "https://pandas.pydata.org/pandas-docs/stable/indexing.html#deprecate-loc-reindex-listlike\n"
     ]
    },
    {
     "data": {
      "text/html": [
       "<div>\n",
       "<style scoped>\n",
       "    .dataframe tbody tr th:only-of-type {\n",
       "        vertical-align: middle;\n",
       "    }\n",
       "\n",
       "    .dataframe tbody tr th {\n",
       "        vertical-align: top;\n",
       "    }\n",
       "\n",
       "    .dataframe thead th {\n",
       "        text-align: right;\n",
       "    }\n",
       "</style>\n",
       "<table border=\"1\" class=\"dataframe\">\n",
       "  <thead>\n",
       "    <tr style=\"text-align: right;\">\n",
       "      <th></th>\n",
       "      <th>side</th>\n",
       "      <th>t1</th>\n",
       "      <th>trgt</th>\n",
       "      <th>t1_type</th>\n",
       "    </tr>\n",
       "  </thead>\n",
       "  <tbody>\n",
       "    <tr>\n",
       "      <th>2004-08-24</th>\n",
       "      <td>1.0</td>\n",
       "      <td>2004-08-25</td>\n",
       "      <td>0.036396</td>\n",
       "      <td>t1</td>\n",
       "    </tr>\n",
       "    <tr>\n",
       "      <th>2004-08-25</th>\n",
       "      <td>1.0</td>\n",
       "      <td>2004-08-26</td>\n",
       "      <td>0.029930</td>\n",
       "      <td>t1</td>\n",
       "    </tr>\n",
       "    <tr>\n",
       "      <th>2004-08-31</th>\n",
       "      <td>1.0</td>\n",
       "      <td>2004-09-01</td>\n",
       "      <td>0.026605</td>\n",
       "      <td>t1</td>\n",
       "    </tr>\n",
       "    <tr>\n",
       "      <th>2004-09-02</th>\n",
       "      <td>1.0</td>\n",
       "      <td>2004-09-03</td>\n",
       "      <td>0.024097</td>\n",
       "      <td>t1</td>\n",
       "    </tr>\n",
       "    <tr>\n",
       "      <th>2004-09-07</th>\n",
       "      <td>1.0</td>\n",
       "      <td>2004-09-08</td>\n",
       "      <td>0.023610</td>\n",
       "      <td>t1</td>\n",
       "    </tr>\n",
       "  </tbody>\n",
       "</table>\n",
       "</div>"
      ],
      "text/plain": [
       "            side         t1      trgt t1_type\n",
       "2004-08-24   1.0 2004-08-25  0.036396      t1\n",
       "2004-08-25   1.0 2004-08-26  0.029930      t1\n",
       "2004-08-31   1.0 2004-09-01  0.026605      t1\n",
       "2004-09-02   1.0 2004-09-03  0.024097      t1\n",
       "2004-09-07   1.0 2004-09-08  0.023610      t1"
      ]
     },
     "execution_count": 106,
     "metadata": {},
     "output_type": "execute_result"
    }
   ],
   "source": [
    "import numpy as np\n",
    "\n",
    "vol = get_daily_vol(close)\n",
    "sampled_idx = cusum_filter(close, vol)\n",
    "t1 = get_t1(close, sampled_idx, num_days=1)\n",
    "side =  macd_side(close)\n",
    "events = get_3barriers(close, t_events=sampled_idx, trgt=vol,\n",
    "                       ptsl=[1, 2], t1=t1, side=side)\n",
    "events.head()"
   ]
  },
  {
   "cell_type": "code",
   "execution_count": 107,
   "metadata": {},
   "outputs": [
    {
     "data": {
      "text/html": [
       "<div>\n",
       "<style scoped>\n",
       "    .dataframe tbody tr th:only-of-type {\n",
       "        vertical-align: middle;\n",
       "    }\n",
       "\n",
       "    .dataframe tbody tr th {\n",
       "        vertical-align: top;\n",
       "    }\n",
       "\n",
       "    .dataframe thead th {\n",
       "        text-align: right;\n",
       "    }\n",
       "</style>\n",
       "<table border=\"1\" class=\"dataframe\">\n",
       "  <thead>\n",
       "    <tr style=\"text-align: right;\">\n",
       "      <th></th>\n",
       "      <th>ret</th>\n",
       "      <th>bin</th>\n",
       "    </tr>\n",
       "  </thead>\n",
       "  <tbody>\n",
       "    <tr>\n",
       "      <th>2004-08-24</th>\n",
       "      <td>0.010775</td>\n",
       "      <td>0.0</td>\n",
       "    </tr>\n",
       "    <tr>\n",
       "      <th>2004-08-25</th>\n",
       "      <td>0.018019</td>\n",
       "      <td>0.0</td>\n",
       "    </tr>\n",
       "    <tr>\n",
       "      <th>2004-08-31</th>\n",
       "      <td>-0.020709</td>\n",
       "      <td>0.0</td>\n",
       "    </tr>\n",
       "    <tr>\n",
       "      <th>2004-09-02</th>\n",
       "      <td>-0.014777</td>\n",
       "      <td>0.0</td>\n",
       "    </tr>\n",
       "    <tr>\n",
       "      <th>2004-09-07</th>\n",
       "      <td>0.007088</td>\n",
       "      <td>0.0</td>\n",
       "    </tr>\n",
       "  </tbody>\n",
       "</table>\n",
       "</div>"
      ],
      "text/plain": [
       "                 ret  bin\n",
       "2004-08-24  0.010775  0.0\n",
       "2004-08-25  0.018019  0.0\n",
       "2004-08-31 -0.020709  0.0\n",
       "2004-09-02 -0.014777  0.0\n",
       "2004-09-07  0.007088  0.0"
      ]
     },
     "execution_count": 107,
     "metadata": {},
     "output_type": "execute_result"
    }
   ],
   "source": [
    "bins = get_bins(events, close)\n",
    "bins.head()\n"
   ]
  },
  {
   "cell_type": "code",
   "execution_count": 110,
   "metadata": {},
   "outputs": [
    {
     "data": {
      "text/plain": [
       "0.0    1054\n",
       "1.0     163\n",
       "Name: bin, dtype: int64"
      ]
     },
     "execution_count": 110,
     "metadata": {},
     "output_type": "execute_result"
    }
   ],
   "source": [
    "bins[\"bin\"].value_counts()"
   ]
  },
  {
   "cell_type": "code",
   "execution_count": 112,
   "metadata": {},
   "outputs": [
    {
     "data": {
      "text/plain": [
       "RandomForestClassifier(bootstrap=True, class_weight=None, criterion='gini',\n",
       "            max_depth=None, max_features='auto', max_leaf_nodes=None,\n",
       "            min_impurity_decrease=0.0, min_impurity_split=None,\n",
       "            min_samples_leaf=1, min_samples_split=2,\n",
       "            min_weight_fraction_leaf=0.0, n_estimators=10, n_jobs=1,\n",
       "            oob_score=False, random_state=None, verbose=0,\n",
       "            warm_start=False)"
      ]
     },
     "execution_count": 112,
     "metadata": {},
     "output_type": "execute_result"
    }
   ],
   "source": [
    "from sklearn.ensemble import RandomForestClassifier\n",
    "\n",
    "clf = RandomForestClassifier()\n",
    "x = np.hstack([events['side'].values[:, np.newaxis], close.loc[events.index].values[:, np.newaxis]])\n",
    "y = bins['bin'].values\n",
    "clf.fit(x, y)"
   ]
  },
  {
   "cell_type": "code",
   "execution_count": 116,
   "metadata": {},
   "outputs": [
    {
     "data": {
      "text/plain": [
       "array([0., 0., 0., ..., 0., 0., 0.])"
      ]
     },
     "execution_count": 116,
     "metadata": {},
     "output_type": "execute_result"
    }
   ],
   "source": [
    "\n",
    "\n",
    "clf.predict(x)\n",
    "\n"
   ]
  },
  {
   "cell_type": "code",
   "execution_count": null,
   "metadata": {},
   "outputs": [],
   "source": []
  }
 ],
 "metadata": {
  "kernelspec": {
   "display_name": "Python 3",
   "language": "python",
   "name": "python3"
  },
  "language_info": {
   "codemirror_mode": {
    "name": "ipython",
    "version": 3
   },
   "file_extension": ".py",
   "mimetype": "text/x-python",
   "name": "python",
   "nbconvert_exporter": "python",
   "pygments_lexer": "ipython3",
   "version": "3.6.3"
  }
 },
 "nbformat": 4,
 "nbformat_minor": 2
}
