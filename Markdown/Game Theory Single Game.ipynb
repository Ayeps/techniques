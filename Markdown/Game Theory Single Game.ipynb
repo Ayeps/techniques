{
 "cells": [
  {
   "cell_type": "code",
   "execution_count": 1,
   "metadata": {},
   "outputs": [],
   "source": [
    "import numpy as np\n",
    "import quantecon.game_theory as gt"
   ]
  },
  {
   "cell_type": "markdown",
   "metadata": {},
   "source": [
    "\n",
    "\n",
    "In our module, a normal form game and a player are represented by the classes NormalFormGame and Player, respectively.\n",
    "\n",
    "A Player carries the player's payoff function and implements in particular a method that returns the best response action(s) given an action of the opponent player, or a profile of actions of the opponents if there are more than one.\n",
    "\n",
    "A NormalFormGame is in effect a container of Player instances.\n"
   ]
  },
  {
   "cell_type": "code",
   "execution_count": 6,
   "metadata": {},
   "outputs": [
    {
     "name": "stdout",
     "output_type": "stream",
     "text": [
      "2-player NormalFormGame with payoff profile array:\n",
      "[[[ 1, -1],  [-1,  1]],\n",
      " [[-1,  1],  [ 1, -1]]]\n",
      "Player Instance; \n",
      " Player in a 2-player normal form game with payoff array:\n",
      "[[-1,  1],\n",
      " [ 1, -1]]\n",
      "Player 1's payoff array\n",
      " [[-1  1]\n",
      " [ 1 -1]]\n",
      "payoff profile for action profile (0, 0)\n",
      " [ 1 -1]\n"
     ]
    }
   ],
   "source": [
    "matching_pennies_bimatrix = [[(1, -1), (-1, 1)],\n",
    "                             [(-1, 1), (1, -1)]]\n",
    "g_MP = gt.NormalFormGame(matching_pennies_bimatrix)\n",
    "\n",
    "print(g_MP)\n",
    "print(\"Player Instance; \\n\",g_MP.players[1])  # Player instance for player 1\n",
    "print(\"Player 1's payoff array\\n\",g_MP.players[1].payoff_array)  # Player 1's payoff array\n",
    "print(\"payoff profile for action profile (0, 0)\\n\",g_MP[0, 0])  # payoff profile for action profile (0, 0)\n",
    "\n",
    "\n"
   ]
  },
  {
   "cell_type": "markdown",
   "metadata": {},
   "source": [
    "The game_theory module also supports games with more than two players.\n",
    "\n",
    "Let us consider the following version of N\n",
    "-player Cournot Game."
   ]
  },
  {
   "cell_type": "code",
   "execution_count": 7,
   "metadata": {},
   "outputs": [],
   "source": [
    "from quantecon import cartesian\n",
    "\n",
    "\n",
    "def cournot(a, c, N, q_grid):\n",
    "    \"\"\"\n",
    "    Create a `NormalFormGame` instance for the symmetric N-player Cournot game\n",
    "    with linear inverse demand a - Q and constant marginal cost c.\n",
    "\n",
    "    Parameters\n",
    "    ----------\n",
    "    a : scalar\n",
    "        Intercept of the demand curve\n",
    "\n",
    "    c : scalar\n",
    "        Common constant marginal cost\n",
    "\n",
    "    N : scalar(int)\n",
    "        Number of firms\n",
    "\n",
    "    q_grid : array_like(scalar)\n",
    "        Array containing the set of possible quantities\n",
    "\n",
    "    Returns\n",
    "    -------\n",
    "    NormalFormGame\n",
    "        NormalFormGame instance representing the Cournot game\n",
    "\n",
    "    \"\"\"\n",
    "    q_grid = np.asarray(q_grid)\n",
    "    payoff_array = \\\n",
    "        cartesian([q_grid]*N).sum(axis=-1).reshape([len(q_grid)]*N) * (-1) + \\\n",
    "        (a - c)\n",
    "    payoff_array *= q_grid.reshape([len(q_grid)] + [1]*(N-1))\n",
    "    payoff_array += 0  # To get rid of the minus sign of -0\n",
    "\n",
    "    player = gt.Player(payoff_array)\n",
    "    return gt.NormalFormGame([player for i in range(N)])"
   ]
  },
  {
   "cell_type": "markdown",
   "metadata": {},
   "source": [
    "Here's a simple example with three firms, marginal cost 20, and inverse demand function 80−Q, where the feasible quantity values are assumed to be 10 and 15."
   ]
  },
  {
   "cell_type": "code",
   "execution_count": 8,
   "metadata": {},
   "outputs": [],
   "source": [
    "\n",
    "\n",
    "a, c = 80, 20\n",
    "N = 3\n",
    "q_grid = [10, 15]  # [1/3 of Monopoly quantity, Nash equilibrium quantity]\n",
    "\n",
    "g_Cou = cournot(a, c, N, q_grid)\n",
    "\n"
   ]
  },
  {
   "cell_type": "code",
   "execution_count": 9,
   "metadata": {},
   "outputs": [
    {
     "name": "stdout",
     "output_type": "stream",
     "text": [
      "3-player NormalFormGame with payoff profile array:\n",
      "[[[[300, 300, 300],   [250, 250, 375]],\n",
      "  [[250, 375, 250],   [200, 300, 300]]],\n",
      "\n",
      " [[[375, 250, 250],   [300, 200, 300]],\n",
      "  [[300, 300, 200],   [225, 225, 225]]]]\n"
     ]
    }
   ],
   "source": [
    "print(g_Cou)"
   ]
  },
  {
   "cell_type": "raw",
   "metadata": {},
   "source": [
    "\n",
    "Finding Nash equilibria\n",
    "\n",
    "There are several algorithms implemented to compute Nash equilibria:\n",
    "\n",
    "Brute force\n",
    "Find all pure-action Nash equilibria of an N player game (if any).\n",
    "Sequential best response\n",
    "Find one pure-action Nash equilibrium of an N player game (if any).\n",
    "Support enumeration\n",
    "Find all mixed-action Nash equilibria of a two-player nondegenerate game.\n",
    "Vertex enumeration\n",
    "Find all mixed-action Nash equilibria of a two-player nondegenerate game.\n",
    "Lemke-Howson\n",
    "Find one mixed-action Nash equilibrium of a two-player game.\n",
    "McLennan-Tourky\n",
    "Find one mixed-action Nash equilibrium of an N player game.\n",
    "\n",
    "For more variety of algorithms, one should look at Gambit."
   ]
  },
  {
   "cell_type": "code",
   "execution_count": 11,
   "metadata": {},
   "outputs": [],
   "source": [
    "def print_pure_nash_brute(g):\n",
    "    \"\"\"\n",
    "    Print all pure Nash equilibria of a normal form game found by brute force.\n",
    "    \n",
    "    Parameters\n",
    "    ----------\n",
    "    g : NormalFormGame\n",
    "    \n",
    "    \"\"\"\n",
    "    NEs = gt.pure_nash_brute(g)\n",
    "    num_NEs = len(NEs)\n",
    "    if num_NEs == 0:\n",
    "        msg = 'no pure Nash equilibrium'\n",
    "    elif num_NEs == 1:\n",
    "        msg = '1 pure Nash equilibrium:\\n{0}'.format(NEs)\n",
    "    else:\n",
    "        msg = '{0} pure Nash equilibria:\\n{1}'.format(num_NEs, NEs)\n",
    "\n",
    "    print('The game has ' + msg)"
   ]
  },
  {
   "cell_type": "code",
   "execution_count": 12,
   "metadata": {},
   "outputs": [
    {
     "name": "stdout",
     "output_type": "stream",
     "text": [
      "The game has 1 pure Nash equilibrium:\n",
      "[(1, 1, 1)]\n"
     ]
    }
   ],
   "source": [
    "print_pure_nash_brute(g_Cou)"
   ]
  },
  {
   "cell_type": "code",
   "execution_count": 17,
   "metadata": {},
   "outputs": [],
   "source": [
    "def sequential_best_response(g, init_actions=None, tie_breaking='smallest',\n",
    "                             verbose=True):\n",
    "    \"\"\"\n",
    "    Find a pure Nash equilibrium of a normal form game by sequential best\n",
    "    response.\n",
    "\n",
    "    Parameters\n",
    "    ----------\n",
    "    g : NormalFormGame\n",
    "\n",
    "    init_actions : array_like(int), optional(default=[0, ..., 0])\n",
    "        The initial action profile.\n",
    "\n",
    "    tie_breaking : {'smallest', 'random'}, optional(default='smallest')\n",
    "\n",
    "    verbose: bool, optional(default=True)\n",
    "        If True, print the intermediate process.\n",
    "\n",
    "    \"\"\"\n",
    "    N = g.N  # Number of players\n",
    "    a = np.empty(N, dtype=int)  # Action profile\n",
    "    if init_actions is None:\n",
    "        init_actions = [0] * N\n",
    "    a[:] = init_actions\n",
    "\n",
    "    if verbose:\n",
    "        print('init_actions: {0}'.format(a))\n",
    "\n",
    "    new_a = np.empty(N, dtype=int)\n",
    "    max_iter = np.prod(g.nums_actions)\n",
    "\n",
    "    for t in range(max_iter):\n",
    "        new_a[:] = a\n",
    "        for i, player in enumerate(g.players):\n",
    "            if N == 2:\n",
    "                a_except_i = new_a[1-i]\n",
    "            else:\n",
    "                a_except_i = new_a[np.arange(i+1, i+N) % N]\n",
    "            new_a[i] = player.best_response(a_except_i,\n",
    "                                            tie_breaking=tie_breaking)\n",
    "            if verbose:\n",
    "                print('player {0}: {1}'.format(i, new_a))\n",
    "        if np.array_equal(new_a, a):\n",
    "            return a\n",
    "        else:\n",
    "            a[:] = new_a\n",
    "\n",
    "    print('No pure Nash equilibrium found')\n",
    "    return None"
   ]
  },
  {
   "cell_type": "markdown",
   "metadata": {},
   "source": [
    "A Cournot game with linear demand is known to be a potential game, for which sequential best response converges to a Nash equilibrium.\n",
    "\n",
    "Let us try a bigger instance:\n"
   ]
  },
  {
   "cell_type": "code",
   "execution_count": 18,
   "metadata": {},
   "outputs": [],
   "source": [
    "\n",
    "\n",
    "a, c = 80, 20\n",
    "N = 3\n",
    "q_grid = np.linspace(0, a-c, 13)  # [0, 5, 10, ..., 60]\n",
    "g_Cou = cournot(a, c, N, q_grid)\n",
    "\n"
   ]
  },
  {
   "cell_type": "code",
   "execution_count": 19,
   "metadata": {},
   "outputs": [
    {
     "name": "stdout",
     "output_type": "stream",
     "text": [
      "init_actions: [0 0 0]\n",
      "player 0: [6 0 0]\n",
      "player 1: [6 3 0]\n",
      "player 2: [6 3 1]\n",
      "player 0: [4 3 1]\n",
      "player 1: [4 3 1]\n",
      "player 2: [4 3 2]\n",
      "player 0: [3 3 2]\n",
      "player 1: [3 3 2]\n",
      "player 2: [3 3 3]\n",
      "player 0: [3 3 3]\n",
      "player 1: [3 3 3]\n",
      "player 2: [3 3 3]\n",
      "Nash equilibrium indices: [3 3 3]\n",
      "Nash equilibrium quantities: [15. 15. 15.]\n"
     ]
    }
   ],
   "source": [
    "a_star = sequential_best_response(g_Cou)  # By default, start with (0, 0, 0)\n",
    "print('Nash equilibrium indices: {0}'.format(a_star))\n",
    "print('Nash equilibrium quantities: {0}'.format(q_grid[a_star]))"
   ]
  },
  {
   "cell_type": "code",
   "execution_count": 20,
   "metadata": {},
   "outputs": [
    {
     "name": "stdout",
     "output_type": "stream",
     "text": [
      "init_actions: [12 12 12]\n",
      "player 0: [ 0 12 12]\n",
      "player 1: [ 0  0 12]\n",
      "player 2: [0 0 6]\n",
      "player 0: [3 0 6]\n",
      "player 1: [3 1 6]\n",
      "player 2: [3 1 4]\n",
      "player 0: [3 1 4]\n",
      "player 1: [3 2 4]\n",
      "player 2: [3 2 3]\n",
      "player 0: [3 2 3]\n",
      "player 1: [3 3 3]\n",
      "player 2: [3 3 3]\n",
      "player 0: [3 3 3]\n",
      "player 1: [3 3 3]\n",
      "player 2: [3 3 3]\n"
     ]
    },
    {
     "data": {
      "text/plain": [
       "array([3, 3, 3])"
      ]
     },
     "execution_count": 20,
     "metadata": {},
     "output_type": "execute_result"
    }
   ],
   "source": [
    "\n",
    "\n",
    "# Start with the largest actions (12, 12, 12)\n",
    "sequential_best_response(g_Cou, init_actions=(12, 12, 12))\n",
    "\n"
   ]
  },
  {
   "cell_type": "code",
   "execution_count": 21,
   "metadata": {},
   "outputs": [
    {
     "data": {
      "text/plain": [
       "True"
      ]
     },
     "execution_count": 21,
     "metadata": {},
     "output_type": "execute_result"
    }
   ],
   "source": [
    "# The limit action profile is indeed a Nash equilibrium:\n",
    "g_Cou.is_nash(a_star)"
   ]
  },
  {
   "cell_type": "code",
   "execution_count": 22,
   "metadata": {},
   "outputs": [
    {
     "name": "stdout",
     "output_type": "stream",
     "text": [
      "The game has 7 pure Nash equilibria:\n",
      "[(2, 3, 4), (2, 4, 3), (3, 2, 4), (3, 3, 3), (3, 4, 2), (4, 2, 3), (4, 3, 2)]\n"
     ]
    }
   ],
   "source": [
    "# In fact, the game has other Nash equilibria (because of our choice of grid points and parameter values):\n",
    "\n",
    "print_pure_nash_brute(g_Cou)"
   ]
  },
  {
   "cell_type": "markdown",
   "metadata": {},
   "source": [
    "\n",
    "\n",
    "Next, let us study the All-Pay Acution, where, unlike standard auctions, bidders pay their bids regardless of whether or not they win. Situations modeled as all-pay auctions include job promotion, R&D, and rent seeking competitions, among others.\n",
    "\n",
    "Here we consider a version of All-Pay Auction with complete information, symmetric bidders, discrete bids, bid caps, and \"full dissipation\" (where the prize is materialized if and only if there is only one bidder who makes a highest bid).\n"
   ]
  },
  {
   "cell_type": "code",
   "execution_count": 23,
   "metadata": {},
   "outputs": [],
   "source": [
    "from numba import jit\n",
    "\n",
    "\n",
    "def all_pay_auction(r, c, N, dissipation=True):\n",
    "    \"\"\"\n",
    "    Create a `NormalFormGame` instance for the symmetric N-player\n",
    "    All-Pay Auction game with common reward `r` and common bid cap `e`.\n",
    "\n",
    "    Parameters\n",
    "    ----------\n",
    "    r : scalar(float)\n",
    "        Common reward value.\n",
    "\n",
    "    c : scalar(int)\n",
    "        Common bid cap.\n",
    "\n",
    "    N : scalar(int)\n",
    "        Number of players.\n",
    "\n",
    "    dissipation : bool, optional(default=True)\n",
    "        If True, the prize fully dissipates in case of a tie. If False,\n",
    "        the prize is equally split among the highest bidders (or given\n",
    "        to one of the highest bidders with equal probabilities).\n",
    "\n",
    "    Returns\n",
    "    -------\n",
    "    NormalFormGame\n",
    "        NormalFormGame instance representing the All-Pay Auction game.\n",
    "\n",
    "    \"\"\"\n",
    "    player = gt.Player(np.empty((c+1,)*N))\n",
    "    populate_APA_payoff_array(r, dissipation, player.payoff_array)\n",
    "    return gt.NormalFormGame((player,)*N)\n",
    "\n",
    "\n",
    "@jit(nopython=True)\n",
    "def populate_APA_payoff_array(r, dissipation, out):\n",
    "    \"\"\"\n",
    "    Populate the payoff array for a player in an N-player All-Pay\n",
    "    Auction game.\n",
    "\n",
    "    Parameters\n",
    "    ----------\n",
    "    r : scalar(float)\n",
    "        Reward value.\n",
    "\n",
    "    dissipation : bool, optional(default=True)\n",
    "        If True, the prize fully dissipates in case of a tie. If False,\n",
    "        the prize is equally split among the highest bidders (or given\n",
    "        to one of the highest bidders with equal probabilities).\n",
    "\n",
    "    out : ndarray(float, ndim=N)\n",
    "        NumPy array to store the payoffs. Modified in place.\n",
    "\n",
    "    Returns\n",
    "    -------\n",
    "    out : ndarray(float, ndim=N)\n",
    "        View of `out`.\n",
    "\n",
    "    \"\"\"\n",
    "    nums_actions = out.shape\n",
    "    N = out.ndim\n",
    "    for bids in np.ndindex(nums_actions):\n",
    "        out[bids] = -bids[0]\n",
    "        num_ties = 1\n",
    "        for j in range(1, N):\n",
    "            if bids[j] > bids[0]:\n",
    "                num_ties = 0\n",
    "                break\n",
    "            elif bids[j] == bids[0]:\n",
    "                if dissipation:\n",
    "                    num_ties = 0\n",
    "                    break\n",
    "                else:\n",
    "                    num_ties += 1\n",
    "        if num_ties > 0:\n",
    "            out[bids] += r / num_ties\n",
    "    return out"
   ]
  },
  {
   "cell_type": "code",
   "execution_count": 24,
   "metadata": {},
   "outputs": [
    {
     "name": "stdout",
     "output_type": "stream",
     "text": [
      "2-player NormalFormGame with payoff profile array:\n",
      "[[[ 0.,  0.],  [ 0.,  7.],  [ 0.,  6.],  [ 0.,  5.],  [ 0.,  4.],  [ 0.,  3.]],\n",
      " [[ 7.,  0.],  [-1., -1.],  [-1.,  6.],  [-1.,  5.],  [-1.,  4.],  [-1.,  3.]],\n",
      " [[ 6.,  0.],  [ 6., -1.],  [-2., -2.],  [-2.,  5.],  [-2.,  4.],  [-2.,  3.]],\n",
      " [[ 5.,  0.],  [ 5., -1.],  [ 5., -2.],  [-3., -3.],  [-3.,  4.],  [-3.,  3.]],\n",
      " [[ 4.,  0.],  [ 4., -1.],  [ 4., -2.],  [ 4., -3.],  [-4., -4.],  [-4.,  3.]],\n",
      " [[ 3.,  0.],  [ 3., -1.],  [ 3., -2.],  [ 3., -3.],  [ 3., -4.],  [-5., -5.]]]\n"
     ]
    }
   ],
   "source": [
    "# Consider the two-player case with the following parameter values:\n",
    "\n",
    "N = 2\n",
    "c = 5  # odd\n",
    "r = 8\n",
    "\n",
    "g_APA_odd = all_pay_auction(r, c, N)\n",
    "print(g_APA_odd)"
   ]
  },
  {
   "cell_type": "code",
   "execution_count": 25,
   "metadata": {},
   "outputs": [
    {
     "data": {
      "text/plain": [
       "[]"
      ]
     },
     "execution_count": 25,
     "metadata": {},
     "output_type": "execute_result"
    }
   ],
   "source": [
    "## no pure nash\n",
    "\n",
    "gt.pure_nash_brute(g_APA_odd)"
   ]
  },
  {
   "cell_type": "markdown",
   "metadata": {},
   "source": [
    "As pointed out by Dechenaux et al. (2006), there are three Nash equilibria when the bid cap c is odd (so that there are an even number of actions for each player):"
   ]
  },
  {
   "cell_type": "code",
   "execution_count": 26,
   "metadata": {},
   "outputs": [
    {
     "data": {
      "text/plain": [
       "[(array([0.5 , 0.  , 0.25, 0.  , 0.25, 0.  ]),\n",
       "  array([0.  , 0.25, 0.  , 0.25, 0.  , 0.5 ])),\n",
       " (array([0.  , 0.25, 0.  , 0.25, 0.  , 0.5 ]),\n",
       "  array([0.5 , 0.  , 0.25, 0.  , 0.25, 0.  ])),\n",
       " (array([0.125, 0.125, 0.125, 0.125, 0.125, 0.375]),\n",
       "  array([0.125, 0.125, 0.125, 0.125, 0.125, 0.375]))]"
      ]
     },
     "execution_count": 26,
     "metadata": {},
     "output_type": "execute_result"
    }
   ],
   "source": [
    "gt.support_enumeration(g_APA_odd)\n"
   ]
  },
  {
   "cell_type": "code",
   "execution_count": 27,
   "metadata": {},
   "outputs": [
    {
     "data": {
      "text/plain": [
       "[(array([0.125, 0.125, 0.125, 0.125, 0.125, 0.125, 0.25 ]),\n",
       "  array([0.125, 0.125, 0.125, 0.125, 0.125, 0.125, 0.25 ]))]"
      ]
     },
     "execution_count": 27,
     "metadata": {},
     "output_type": "execute_result"
    }
   ],
   "source": [
    "c = 6  # even\n",
    "g_APA_even = all_pay_auction(r, c, N)\n",
    "gt.support_enumeration(g_APA_even)"
   ]
  },
  {
   "cell_type": "code",
   "execution_count": null,
   "metadata": {},
   "outputs": [],
   "source": []
  }
 ],
 "metadata": {
  "kernelspec": {
   "display_name": "py36",
   "language": "python",
   "name": "py36"
  },
  "language_info": {
   "codemirror_mode": {
    "name": "ipython",
    "version": 3
   },
   "file_extension": ".py",
   "mimetype": "text/x-python",
   "name": "python",
   "nbconvert_exporter": "python",
   "pygments_lexer": "ipython3",
   "version": "3.6.3"
  }
 },
 "nbformat": 4,
 "nbformat_minor": 2
}
