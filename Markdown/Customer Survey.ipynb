{
 "cells": [
  {
   "cell_type": "code",
   "execution_count": 1,
   "metadata": {},
   "outputs": [],
   "source": [
    "%matplotlib inline\n",
    "from sklearn.model_selection import KFold, StratifiedKFold\n",
    "import numpy as np\n",
    "import pandas as pd\n",
    "import lightgbm as lgb\n",
    "from sklearn.metrics import roc_auc_score\n",
    "from lightgbm import LGBMClassifier\n",
    "from lightgbm import cv\n",
    "import gc\n",
    "import random\n",
    "import matplotlib.pyplot as plt\n",
    "### What happens when you don't implement any predictions, but instead focus on non-linear interactions as your..\n",
    "### ..core form of analysis"
   ]
  },
  {
   "cell_type": "code",
   "execution_count": 2,
   "metadata": {},
   "outputs": [],
   "source": [
    "## Machine Learning Benchmarks\n",
    "## In linear models a PCA step can work nicely \n",
    "\n",
    "from sklearn.model_selection import cross_val_score, GridSearchCV, KFold\n",
    "from sklearn.linear_model import LinearRegression\n",
    "from sklearn.linear_model import Ridge\n",
    "from sklearn.linear_model import Lasso\n",
    "from sklearn.ensemble import RandomForestRegressor, GradientBoostingRegressor, ExtraTreesRegressor\n",
    "from sklearn.svm import SVR, LinearSVR\n",
    "from sklearn.linear_model import ElasticNet, SGDRegressor, BayesianRidge\n",
    "from sklearn.kernel_ridge import KernelRidge\n",
    "from xgboost import XGBRegressor\n",
    "from sklearn.linear_model import Ridge, RidgeCV, ElasticNet, LassoCV, LassoLarsCV"
   ]
  },
  {
   "cell_type": "code",
   "execution_count": 240,
   "metadata": {},
   "outputs": [],
   "source": [
    "## Structure Routine Loading and Holdout\n",
    "df = pd.read_excel(\"data/Satisfaction Survey.xlsx\")\n",
    "\n",
    "pickle.dump(df, open(\"data/df_airline.p\", \"wb\"))"
   ]
  },
  {
   "cell_type": "code",
   "execution_count": 171,
   "metadata": {},
   "outputs": [],
   "source": [
    "### to load holdout for preprocessing to be the same as model processing dataframe \n",
    "### df = pickle.load(open(\"holdout_airline.p\", \"rb\"))"
   ]
  },
  {
   "cell_type": "code",
   "execution_count": 100,
   "metadata": {},
   "outputs": [],
   "source": [
    "### Some regression problems have a low cardinality and seems like it might be easier to represent as a\n",
    "### classification problem, instead, I will stick with the regression narrative. \n",
    "### I am sure price sensitivity is a self reported measure as it is a survey. "
   ]
  },
  {
   "cell_type": "raw",
   "metadata": {},
   "source": [
    "### What predictor variables shows the strongest power in predicting:\n",
    "\n",
    "1. Departure Delays\n",
    "2. Arrival Delays\n",
    "3. Cancelations\n",
    "4. Satisfaction\n",
    "\n",
    "### Of course the majority of these prediction tasks are constrained by the data available, ..\n",
    "### the only true prediction excercise is predicting customer satisfaction. "
   ]
  },
  {
   "cell_type": "code",
   "execution_count": 101,
   "metadata": {},
   "outputs": [],
   "source": [
    "pd.options.display.max_columns = None"
   ]
  },
  {
   "cell_type": "code",
   "execution_count": 102,
   "metadata": {},
   "outputs": [
    {
     "data": {
      "text/html": [
       "<div>\n",
       "<style scoped>\n",
       "    .dataframe tbody tr th:only-of-type {\n",
       "        vertical-align: middle;\n",
       "    }\n",
       "\n",
       "    .dataframe tbody tr th {\n",
       "        vertical-align: top;\n",
       "    }\n",
       "\n",
       "    .dataframe thead th {\n",
       "        text-align: right;\n",
       "    }\n",
       "</style>\n",
       "<table border=\"1\" class=\"dataframe\">\n",
       "  <thead>\n",
       "    <tr style=\"text-align: right;\">\n",
       "      <th></th>\n",
       "      <th>Satisfaction</th>\n",
       "      <th>Airline Status</th>\n",
       "      <th>Age</th>\n",
       "      <th>Age Range</th>\n",
       "      <th>Gender</th>\n",
       "      <th>Price Sensitivity</th>\n",
       "      <th>Year of First Flight</th>\n",
       "      <th>No of Flights p.a.</th>\n",
       "      <th>No of Flights p.a. grouped</th>\n",
       "      <th>% of Flight with other Airlines</th>\n",
       "      <th>Type of Travel</th>\n",
       "      <th>No. of other Loyalty Cards</th>\n",
       "      <th>Shopping Amount at Airport</th>\n",
       "      <th>Eating and Drinking at Airport</th>\n",
       "      <th>Class</th>\n",
       "      <th>Day of Month</th>\n",
       "      <th>Flight date</th>\n",
       "      <th>Airline Code</th>\n",
       "      <th>Airline Name</th>\n",
       "      <th>Orgin City</th>\n",
       "      <th>Origin State</th>\n",
       "      <th>Destination City</th>\n",
       "      <th>Destination State</th>\n",
       "      <th>Scheduled Departure Hour</th>\n",
       "      <th>Departure Delay in Minutes</th>\n",
       "      <th>Arrival Delay in Minutes</th>\n",
       "      <th>Flight cancelled</th>\n",
       "      <th>Flight time in minutes</th>\n",
       "      <th>Flight Distance</th>\n",
       "      <th>Arrival Delay greater 5 Mins</th>\n",
       "    </tr>\n",
       "  </thead>\n",
       "  <tbody>\n",
       "    <tr>\n",
       "      <th>0</th>\n",
       "      <td>3.5</td>\n",
       "      <td>Gold</td>\n",
       "      <td>35</td>\n",
       "      <td>30-39</td>\n",
       "      <td>Male</td>\n",
       "      <td>1</td>\n",
       "      <td>2011</td>\n",
       "      <td>14.923291</td>\n",
       "      <td>11 to 20</td>\n",
       "      <td>5</td>\n",
       "      <td>Business travel</td>\n",
       "      <td>0</td>\n",
       "      <td>0</td>\n",
       "      <td>60</td>\n",
       "      <td>Eco</td>\n",
       "      <td>6</td>\n",
       "      <td>2014-03-06</td>\n",
       "      <td>MQ</td>\n",
       "      <td>EnjoyFlying Air Services</td>\n",
       "      <td>Madison, WI</td>\n",
       "      <td>Wisconsin</td>\n",
       "      <td>Dallas/Fort Worth, TX</td>\n",
       "      <td>Texas</td>\n",
       "      <td>6</td>\n",
       "      <td>0.0</td>\n",
       "      <td>0.0</td>\n",
       "      <td>No</td>\n",
       "      <td>119.0</td>\n",
       "      <td>821</td>\n",
       "      <td>no</td>\n",
       "    </tr>\n",
       "    <tr>\n",
       "      <th>1</th>\n",
       "      <td>5</td>\n",
       "      <td>Platinum</td>\n",
       "      <td>46</td>\n",
       "      <td>40-49</td>\n",
       "      <td>Female</td>\n",
       "      <td>1</td>\n",
       "      <td>2012</td>\n",
       "      <td>28.800558</td>\n",
       "      <td>21 to 30</td>\n",
       "      <td>24</td>\n",
       "      <td>Business travel</td>\n",
       "      <td>1</td>\n",
       "      <td>0</td>\n",
       "      <td>75</td>\n",
       "      <td>Eco</td>\n",
       "      <td>15</td>\n",
       "      <td>2014-01-15</td>\n",
       "      <td>MQ</td>\n",
       "      <td>EnjoyFlying Air Services</td>\n",
       "      <td>Milwaukee, WI</td>\n",
       "      <td>Wisconsin</td>\n",
       "      <td>Dallas/Fort Worth, TX</td>\n",
       "      <td>Texas</td>\n",
       "      <td>10</td>\n",
       "      <td>13.0</td>\n",
       "      <td>0.0</td>\n",
       "      <td>No</td>\n",
       "      <td>114.0</td>\n",
       "      <td>853</td>\n",
       "      <td>no</td>\n",
       "    </tr>\n",
       "    <tr>\n",
       "      <th>2</th>\n",
       "      <td>2</td>\n",
       "      <td>Blue</td>\n",
       "      <td>62</td>\n",
       "      <td>60-69</td>\n",
       "      <td>Male</td>\n",
       "      <td>1</td>\n",
       "      <td>2005</td>\n",
       "      <td>63.807531</td>\n",
       "      <td>61 to 70</td>\n",
       "      <td>8</td>\n",
       "      <td>Personal Travel</td>\n",
       "      <td>0</td>\n",
       "      <td>0</td>\n",
       "      <td>30</td>\n",
       "      <td>Eco</td>\n",
       "      <td>24</td>\n",
       "      <td>2014-01-24</td>\n",
       "      <td>MQ</td>\n",
       "      <td>EnjoyFlying Air Services</td>\n",
       "      <td>Milwaukee, WI</td>\n",
       "      <td>Wisconsin</td>\n",
       "      <td>Dallas/Fort Worth, TX</td>\n",
       "      <td>Texas</td>\n",
       "      <td>12</td>\n",
       "      <td>0.0</td>\n",
       "      <td>0.0</td>\n",
       "      <td>No</td>\n",
       "      <td>122.0</td>\n",
       "      <td>853</td>\n",
       "      <td>no</td>\n",
       "    </tr>\n",
       "    <tr>\n",
       "      <th>3</th>\n",
       "      <td>1</td>\n",
       "      <td>Blue</td>\n",
       "      <td>67</td>\n",
       "      <td>60-69</td>\n",
       "      <td>Female</td>\n",
       "      <td>1</td>\n",
       "      <td>2010</td>\n",
       "      <td>41.841004</td>\n",
       "      <td>41 to 50</td>\n",
       "      <td>5</td>\n",
       "      <td>Personal Travel</td>\n",
       "      <td>0</td>\n",
       "      <td>0</td>\n",
       "      <td>60</td>\n",
       "      <td>Eco</td>\n",
       "      <td>6</td>\n",
       "      <td>2014-03-06</td>\n",
       "      <td>MQ</td>\n",
       "      <td>EnjoyFlying Air Services</td>\n",
       "      <td>Milwaukee, WI</td>\n",
       "      <td>Wisconsin</td>\n",
       "      <td>Dallas/Fort Worth, TX</td>\n",
       "      <td>Texas</td>\n",
       "      <td>9</td>\n",
       "      <td>12.0</td>\n",
       "      <td>1.0</td>\n",
       "      <td>No</td>\n",
       "      <td>127.0</td>\n",
       "      <td>853</td>\n",
       "      <td>no</td>\n",
       "    </tr>\n",
       "    <tr>\n",
       "      <th>4</th>\n",
       "      <td>4</td>\n",
       "      <td>Blue</td>\n",
       "      <td>44</td>\n",
       "      <td>40-49</td>\n",
       "      <td>Female</td>\n",
       "      <td>1</td>\n",
       "      <td>2003</td>\n",
       "      <td>12.552301</td>\n",
       "      <td>11 to 20</td>\n",
       "      <td>1</td>\n",
       "      <td>Business travel</td>\n",
       "      <td>0</td>\n",
       "      <td>0</td>\n",
       "      <td>90</td>\n",
       "      <td>Business</td>\n",
       "      <td>20</td>\n",
       "      <td>2014-03-20</td>\n",
       "      <td>MQ</td>\n",
       "      <td>EnjoyFlying Air Services</td>\n",
       "      <td>Madison, WI</td>\n",
       "      <td>Wisconsin</td>\n",
       "      <td>Chicago, IL</td>\n",
       "      <td>Illinois</td>\n",
       "      <td>9</td>\n",
       "      <td>6.0</td>\n",
       "      <td>24.0</td>\n",
       "      <td>No</td>\n",
       "      <td>30.0</td>\n",
       "      <td>108</td>\n",
       "      <td>yes</td>\n",
       "    </tr>\n",
       "  </tbody>\n",
       "</table>\n",
       "</div>"
      ],
      "text/plain": [
       "  Satisfaction Airline Status  Age Age Range  Gender  Price Sensitivity  \\\n",
       "0          3.5           Gold   35     30-39    Male                  1   \n",
       "1            5       Platinum   46     40-49  Female                  1   \n",
       "2            2           Blue   62     60-69    Male                  1   \n",
       "3            1           Blue   67     60-69  Female                  1   \n",
       "4            4           Blue   44     40-49  Female                  1   \n",
       "\n",
       "   Year of First Flight  No of Flights p.a. No of Flights p.a. grouped  \\\n",
       "0                  2011           14.923291                   11 to 20   \n",
       "1                  2012           28.800558                   21 to 30   \n",
       "2                  2005           63.807531                   61 to 70   \n",
       "3                  2010           41.841004                   41 to 50   \n",
       "4                  2003           12.552301                   11 to 20   \n",
       "\n",
       "   % of Flight with other Airlines   Type of Travel  \\\n",
       "0                                5  Business travel   \n",
       "1                               24  Business travel   \n",
       "2                                8  Personal Travel   \n",
       "3                                5  Personal Travel   \n",
       "4                                1  Business travel   \n",
       "\n",
       "   No. of other Loyalty Cards  Shopping Amount at Airport  \\\n",
       "0                           0                           0   \n",
       "1                           1                           0   \n",
       "2                           0                           0   \n",
       "3                           0                           0   \n",
       "4                           0                           0   \n",
       "\n",
       "   Eating and Drinking at Airport     Class  Day of Month Flight date  \\\n",
       "0                              60       Eco             6  2014-03-06   \n",
       "1                              75       Eco            15  2014-01-15   \n",
       "2                              30       Eco            24  2014-01-24   \n",
       "3                              60       Eco             6  2014-03-06   \n",
       "4                              90  Business            20  2014-03-20   \n",
       "\n",
       "  Airline Code              Airline Name     Orgin City Origin State  \\\n",
       "0           MQ  EnjoyFlying Air Services    Madison, WI    Wisconsin   \n",
       "1           MQ  EnjoyFlying Air Services  Milwaukee, WI    Wisconsin   \n",
       "2           MQ  EnjoyFlying Air Services  Milwaukee, WI    Wisconsin   \n",
       "3           MQ  EnjoyFlying Air Services  Milwaukee, WI    Wisconsin   \n",
       "4           MQ  EnjoyFlying Air Services    Madison, WI    Wisconsin   \n",
       "\n",
       "        Destination City Destination State  Scheduled Departure Hour  \\\n",
       "0  Dallas/Fort Worth, TX             Texas                         6   \n",
       "1  Dallas/Fort Worth, TX             Texas                        10   \n",
       "2  Dallas/Fort Worth, TX             Texas                        12   \n",
       "3  Dallas/Fort Worth, TX             Texas                         9   \n",
       "4            Chicago, IL          Illinois                         9   \n",
       "\n",
       "   Departure Delay in Minutes  Arrival Delay in Minutes Flight cancelled  \\\n",
       "0                         0.0                       0.0               No   \n",
       "1                        13.0                       0.0               No   \n",
       "2                         0.0                       0.0               No   \n",
       "3                        12.0                       1.0               No   \n",
       "4                         6.0                      24.0               No   \n",
       "\n",
       "   Flight time in minutes  Flight Distance Arrival Delay greater 5 Mins  \n",
       "0                   119.0              821                           no  \n",
       "1                   114.0              853                           no  \n",
       "2                   122.0              853                           no  \n",
       "3                   127.0              853                           no  \n",
       "4                    30.0              108                          yes  "
      ]
     },
     "execution_count": 102,
     "metadata": {},
     "output_type": "execute_result"
    }
   ],
   "source": [
    "df.head()"
   ]
  },
  {
   "cell_type": "code",
   "execution_count": 412,
   "metadata": {},
   "outputs": [],
   "source": [
    "# Fits should happen on the train and be applied on test and train\n",
    "df = pickle.load(open(\"data/df_airline.p\", \"rb\"))\n",
    "np.random.seed(10)\n",
    "\n",
    "df.loc[38897,\"Satisfaction\"] = 4\n",
    "df.loc[38898,\"Satisfaction\"] = 4\n",
    "df.loc[38899,\"Satisfaction\"] = 4\n",
    "\n",
    "df[\"Satisfaction\"] = pd.to_numeric(df[\"Satisfaction\"])\n",
    "\n",
    "import numpy as np\n",
    "#Keeping 15% for the validation set, thats about 1000 instances to test on\n",
    "\n",
    "from sklearn import preprocessing\n",
    "le = preprocessing.LabelEncoder()\n",
    "\n",
    "for col in df:\n",
    "    if df[col].dtype == 'object':\n",
    "        df[col] = le.fit_transform(df[col])\n",
    "\n",
    "msk = np.random.rand(len(df)) < 0.30\n",
    "df[\"is_test\"] = msk"
   ]
  },
  {
   "cell_type": "code",
   "execution_count": 413,
   "metadata": {},
   "outputs": [
    {
     "name": "stderr",
     "output_type": "stream",
     "text": [
      "/Users/dereksnow/anaconda/envs/py36/lib/python3.6/site-packages/ipykernel/__main__.py:7: SettingWithCopyWarning: \n",
      "A value is trying to be set on a copy of a slice from a DataFrame.\n",
      "Try using .loc[row_indexer,col_indexer] = value instead\n",
      "\n",
      "See the caveats in the documentation: http://pandas.pydata.org/pandas-docs/stable/indexing.html#indexing-view-versus-copy\n"
     ]
    }
   ],
   "source": [
    "X_train = df[df[\"is_test\"]==False].drop(col_drop,axis=1)\n",
    "y_train = df[df[\"is_test\"]==False][\"Satisfaction\"]\n",
    "\n",
    "test_df = df.loc[df.is_test, :]\n",
    "\n",
    "msk = np.random.rand(len(test_df)) < 0.50\n",
    "test_df[\"is_holdout\"] = msk\n",
    "holdout = test_df[test_df[\"is_holdout\"]==True].reset_index(drop=True).drop(\"is_holdout\",axis=1)\n",
    "test_df = test_df[test_df[\"is_holdout\"]==False].reset_index(drop=True).drop(\"is_holdout\",axis=1)\n",
    "\n",
    "X_test = test_df.drop(col_drop, axis=1)\n",
    "y_test = test_df[\"Satisfaction\"]\n",
    "\n",
    "X_hold = holdout.drop(col_drop, axis=1)\n",
    "y_hold = holdout[\"Satisfaction\"]\n",
    "del holdout\n",
    "\n",
    "X_full = pd.concat((df[df[\"is_test\"]==False], test_df),axis=0).drop(col_drop, axis=1)\n",
    "y_full = pd.concat((df[df[\"is_test\"]==False], test_df),axis=0)[\"Satisfaction\"]\n",
    "\n",
    "d_train = lgb.Dataset(X_train, label=y_train)\n",
    "d_test = lgb.Dataset(X_test, label=y_test)\n",
    "d_hold = lgb.Dataset(X_hold, label=y_hold)\n",
    "#d_test = lgb.Dataset(X_test, label=y_test.sample(len(y_test)).reset_index(drop=True)) ## quick bench"
   ]
  },
  {
   "cell_type": "code",
   "execution_count": 414,
   "metadata": {},
   "outputs": [
    {
     "data": {
      "text/plain": [
       "(110343,)"
      ]
     },
     "execution_count": 414,
     "metadata": {},
     "output_type": "execute_result"
    }
   ],
   "source": [
    "y_full.shape"
   ]
  },
  {
   "cell_type": "code",
   "execution_count": 415,
   "metadata": {},
   "outputs": [
    {
     "data": {
      "text/plain": [
       "(110343, 29)"
      ]
     },
     "execution_count": 415,
     "metadata": {},
     "output_type": "execute_result"
    }
   ],
   "source": [
    "X_full.shape"
   ]
  },
  {
   "cell_type": "code",
   "execution_count": 347,
   "metadata": {},
   "outputs": [],
   "source": [
    "### I doubt these parameters can be improved further - the gap between training and valid has decreased.\n",
    "### learning curves should not be used to jusde variance and bias - instead to see if more data will help.\n",
    "params = {\n",
    "    'boosting_type': 'gbdt',\n",
    "    'objective': 'regression',\n",
    "    'metric': 'mae',\n",
    "    'subsample':.80,\n",
    "    'num_leaves':50,\n",
    "    \"seed\":10,\n",
    "    'min_data_in_leaf':180,\n",
    "    'feature_fraction':.80,\n",
    "    \"max_bin\":100,\n",
    "    'max_depth': 6, \n",
    "    'learning_rate': 0.1,\n",
    "    'verbose': 0, }"
   ]
  },
  {
   "cell_type": "markdown",
   "metadata": {},
   "source": [
    "Fast CV"
   ]
  },
  {
   "cell_type": "code",
   "execution_count": 416,
   "metadata": {},
   "outputs": [
    {
     "name": "stderr",
     "output_type": "stream",
     "text": [
      "/Users/dereksnow/anaconda/envs/py36/lib/python3.6/site-packages/lightgbm/engine.py:99: UserWarning: Found `num_boost_round` in params. Will use it instead of argument\n",
      "  warnings.warn(\"Found `{}` in params. Will use it instead of argument\".format(alias))\n"
     ]
    },
    {
     "name": "stdout",
     "output_type": "stream",
     "text": [
      "Training until validation scores don't improve for 103 rounds.\n",
      "[100]\ttraining's l1: 0.505691\tvalid_1's l1: 0.51388\n",
      "Early stopping, best iteration is:\n",
      "[78]\ttraining's l1: 0.507267\tvalid_1's l1: 0.513656\n"
     ]
    }
   ],
   "source": [
    "## Best Score\n",
    "## Only difference is - this is quick and dirty (Rapid Testing)\n",
    "\n",
    "## There is a gap between validation and training, so it is overfitting\n",
    "## Automated is not necessary if you know your parameters - too much of a hastle\n",
    "## Do anything you can to improve validtion score\n",
    "## Remember CV is only there for parameter optimisation and that is what you are using it for.\n",
    "## This is just normal validation and not folder validation\n",
    "model = lgb.train(params,d_train, num_boost_round=10000,valid_sets=[d_train, d_test], early_stopping_rounds=103,verbose_eval=100,)"
   ]
  },
  {
   "cell_type": "markdown",
   "metadata": {},
   "source": [
    "Medium CV"
   ]
  },
  {
   "cell_type": "code",
   "execution_count": 417,
   "metadata": {},
   "outputs": [
    {
     "name": "stdout",
     "output_type": "stream",
     "text": [
      "[20]\tcv_agg's l1: 0.531576 + 0.00124649\n",
      "[40]\tcv_agg's l1: 0.51668 + 0.00128588\n",
      "[60]\tcv_agg's l1: 0.5159 + 0.00137973\n",
      "[80]\tcv_agg's l1: 0.516048 + 0.00141066\n",
      "[100]\tcv_agg's l1: 0.516196 + 0.00134864\n",
      "[120]\tcv_agg's l1: 0.516425 + 0.00133711\n",
      "[140]\tcv_agg's l1: 0.516672 + 0.00123967\n",
      "[160]\tcv_agg's l1: 0.516859 + 0.00126381\n",
      "[180]\tcv_agg's l1: 0.517057 + 0.00117263\n",
      "[200]\tcv_agg's l1: 0.517354 + 0.00125141\n",
      "[220]\tcv_agg's l1: 0.517525 + 0.00128193\n",
      "score:  0.5158844396077821\n"
     ]
    }
   ],
   "source": [
    "## Medium Score\n",
    "## Only difference is - this takes longer but more accurate (Medium Testing)\n",
    "\n",
    "\n",
    "## Holdout set is (long form testing)\n",
    "\n",
    "from lightgbm import cv\n",
    "from lightgbm import Dataset\n",
    "\n",
    "## Here you don't have to provide a validation set as it will cross validae\n",
    "def get_score(X, y, usecols, params,seeder,depther, verbose =20):  \n",
    "     dtrain = Dataset(X[usecols], y)\n",
    "     # params[\"max_depth\"] = depther\n",
    "\n",
    "     eval =  cv(params,\n",
    "             dtrain,\n",
    "             nfold=3,\n",
    "             num_boost_round=20000,\n",
    "             early_stopping_rounds=160, ## After it stopped how long should go on. \n",
    "             verbose_eval=verbose,\n",
    "             stratified=False,  ## by default it is true, so have to set to false\n",
    "             #verbose_eval=-1,\n",
    "             seed = seeder,\n",
    "             show_stdv=True)\n",
    "     #print(eval)\n",
    "     return eval, min(eval['l1-mean']), eval[\"l1-mean\"].index(min(eval[\"l1-mean\"]))\n",
    "  \n",
    "eval, score, seed_best = get_score(X_full,y_full ,list(X_full.columns), params, seeder=10,depther=6)\n",
    "print(\"score: \", score)"
   ]
  },
  {
   "cell_type": "markdown",
   "metadata": {},
   "source": [
    "Ensemble CV"
   ]
  },
  {
   "cell_type": "code",
   "execution_count": 418,
   "metadata": {},
   "outputs": [
    {
     "name": "stdout",
     "output_type": "stream",
     "text": [
      "score:  0.5160619578901716\n"
     ]
    }
   ],
   "source": [
    "## Worst Score\n",
    "## This is a submission CV to identify iterations for the different parameter elections of chosen\n",
    "## ensemble models. \n",
    "\n",
    "random_seeds = [5, 1, 9 ,12, 20]\n",
    "depths = [6,6,6,6,6]\n",
    "\n",
    "seed_dict = {}\n",
    "final_score = 0\n",
    "for seedling, deepling in zip(random_seeds,depths ):  ## Here is where you add parameter adaptions\n",
    "    eval, score, seed_best = get_score(X_full,y_full ,list(X_full.columns), params, seeder=seedling,depther=deepling, verbose=-20)\n",
    "    final_score += score\n",
    "    seed_dict[seedling] = seed_best\n",
    "print(\"score: \", final_score/5)"
   ]
  },
  {
   "cell_type": "markdown",
   "metadata": {},
   "source": [
    "Fast Submission"
   ]
  },
  {
   "cell_type": "code",
   "execution_count": 419,
   "metadata": {},
   "outputs": [
    {
     "data": {
      "text/plain": [
       "0.5135152460923419"
      ]
     },
     "execution_count": 419,
     "metadata": {},
     "output_type": "execute_result"
    }
   ],
   "source": [
    "y_pred = model.predict(X_hold)\n",
    "\n",
    "from sklearn.metrics import mean_absolute_error\n",
    "\n",
    "mean_absolute_error(y_hold, y_pred)"
   ]
  },
  {
   "cell_type": "code",
   "execution_count": 420,
   "metadata": {},
   "outputs": [
    {
     "name": "stdout",
     "output_type": "stream",
     "text": [
      "(110343, 29)\n",
      "(88274, 29)\n",
      "itteration:  100\n",
      "Fold 1 MAE: 0.51615027\n",
      "(110343, 29)\n",
      "(88274, 29)\n",
      "itteration:  100\n",
      "Fold 2 MAE: 0.51819584\n",
      "(110343, 29)\n",
      "(88274, 29)\n",
      "itteration:  100\n",
      "Fold 3 MAE: 0.51731088\n",
      "(110343, 29)\n",
      "(88275, 29)\n",
      "itteration:  100\n",
      "Fold 4 MAE: 0.51331907\n",
      "(110343, 29)\n",
      "(88275, 29)\n",
      "itteration:  100\n",
      "Fold 5 MAE: 0.51443229\n",
      "In Sample MAE score 0.51588171\n",
      "Out of sample MAE:  0.5133541335204654\n",
      "avg iteration:  100.0\n"
     ]
    }
   ],
   "source": [
    "n_splits = 5\n",
    "cvv = KFold(n_splits=n_splits, random_state=42)\n",
    "oof_preds = np.zeros(X_full.shape[0])\n",
    "\n",
    "sub = y_hold.to_frame()\n",
    "\n",
    "sub[\"Target\"] = 0\n",
    "\n",
    "from sklearn.metrics import mean_absolute_error\n",
    "\n",
    "feature_importances = pd.DataFrame()\n",
    "avg_iter = 0\n",
    "\n",
    "for i, (fit_idx, val_idx) in enumerate(cvv.split(X_full, y_full)):\n",
    "\n",
    "    X_fit = X_full.iloc[fit_idx]\n",
    "    y_fit = y_full.iloc[fit_idx]\n",
    "    X_val = X_full.iloc[val_idx]\n",
    "    y_val = y_full.iloc[val_idx]\n",
    "    print(X_full.shape)\n",
    "    print(X_fit.shape)\n",
    "    \n",
    "    model = LGBMRegressor(\n",
    "**params\n",
    "    )\n",
    "\n",
    "    model.fit(\n",
    "        X_fit,\n",
    "        y_fit,\n",
    "        eval_set=[(X_fit, y_fit), (X_val, y_val)],\n",
    "        eval_names=('fit', 'val'),\n",
    "        eval_metric='mae',\n",
    "        early_stopping_rounds=150,\n",
    "        verbose=False\n",
    "    )\n",
    "    \n",
    "    print(\"itteration: \", model.best_iteration_)\n",
    "    avg_iter += model.best_iteration_\n",
    "    oof_preds[val_idx] = model.predict(X_val, num_iteration=model.best_iteration_)\n",
    "    sub['Target'] += model.predict(X_hold, num_iteration=model.best_iteration_)\n",
    "    \n",
    "    fi = pd.DataFrame()\n",
    "    fi[\"feature\"] = X_full.columns\n",
    "    fi[\"importance\"] = model.feature_importances_\n",
    "    fi[\"fold\"] = (i+1)\n",
    "    \n",
    "    feature_importances = pd.concat([feature_importances, fi], axis=0)\n",
    "    \n",
    "    print(\"Fold {} MAE: {:.8f}\".format(i+1, mean_absolute_error(y_val, oof_preds[val_idx])))\n",
    "\n",
    "print('In Sample MAE score %.8f' % mean_absolute_error(y_full, oof_preds)) \n",
    "print('Out of sample MAE: ', mean_absolute_error(y_hold, sub['Target']/n_splits))\n",
    "print(\"avg iteration: \",(avg_iter/n_splits))"
   ]
  },
  {
   "cell_type": "code",
   "execution_count": null,
   "metadata": {},
   "outputs": [],
   "source": [
    "## Naturally you expect this one to perform somewhat better and ineed it does\n",
    "## No rediculous improvement, but improvement all the same."
   ]
  },
  {
   "cell_type": "markdown",
   "metadata": {},
   "source": [
    "Ensemble Submission"
   ]
  },
  {
   "cell_type": "code",
   "execution_count": 421,
   "metadata": {},
   "outputs": [
    {
     "data": {
      "text/plain": [
       "{1: 66, 5: 50, 9: 50, 12: 50, 20: 67}"
      ]
     },
     "execution_count": 421,
     "metadata": {},
     "output_type": "execute_result"
    }
   ],
   "source": [
    "seed_dict"
   ]
  },
  {
   "cell_type": "code",
   "execution_count": 391,
   "metadata": {},
   "outputs": [
    {
     "data": {
      "text/plain": [
       "20"
      ]
     },
     "execution_count": 391,
     "metadata": {},
     "output_type": "execute_result"
    }
   ],
   "source": [
    "random_seeds[4]"
   ]
  },
  {
   "cell_type": "code",
   "execution_count": 386,
   "metadata": {},
   "outputs": [
    {
     "data": {
      "text/plain": [
       "5"
      ]
     },
     "execution_count": 386,
     "metadata": {},
     "output_type": "execute_result"
    }
   ],
   "source": [
    "## Everything worked out exactely as I thought. "
   ]
  },
  {
   "cell_type": "code",
   "execution_count": 428,
   "metadata": {},
   "outputs": [
    {
     "name": "stdout",
     "output_type": "stream",
     "text": [
      "0\n"
     ]
    },
    {
     "name": "stderr",
     "output_type": "stream",
     "text": [
      "/Users/dereksnow/anaconda/envs/py36/lib/python3.6/site-packages/lightgbm/engine.py:99: UserWarning: Found `num_boost_round` in params. Will use it instead of argument\n",
      "  warnings.warn(\"Found `{}` in params. Will use it instead of argument\".format(alias))\n"
     ]
    },
    {
     "name": "stdout",
     "output_type": "stream",
     "text": [
      "1\n"
     ]
    },
    {
     "name": "stderr",
     "output_type": "stream",
     "text": [
      "/Users/dereksnow/anaconda/envs/py36/lib/python3.6/site-packages/lightgbm/engine.py:99: UserWarning: Found `num_boost_round` in params. Will use it instead of argument\n",
      "  warnings.warn(\"Found `{}` in params. Will use it instead of argument\".format(alias))\n"
     ]
    },
    {
     "name": "stdout",
     "output_type": "stream",
     "text": [
      "2\n"
     ]
    },
    {
     "name": "stderr",
     "output_type": "stream",
     "text": [
      "/Users/dereksnow/anaconda/envs/py36/lib/python3.6/site-packages/lightgbm/engine.py:99: UserWarning: Found `num_boost_round` in params. Will use it instead of argument\n",
      "  warnings.warn(\"Found `{}` in params. Will use it instead of argument\".format(alias))\n"
     ]
    },
    {
     "name": "stdout",
     "output_type": "stream",
     "text": [
      "3\n"
     ]
    },
    {
     "name": "stderr",
     "output_type": "stream",
     "text": [
      "/Users/dereksnow/anaconda/envs/py36/lib/python3.6/site-packages/lightgbm/engine.py:99: UserWarning: Found `num_boost_round` in params. Will use it instead of argument\n",
      "  warnings.warn(\"Found `{}` in params. Will use it instead of argument\".format(alias))\n"
     ]
    },
    {
     "name": "stdout",
     "output_type": "stream",
     "text": [
      "4\n"
     ]
    },
    {
     "name": "stderr",
     "output_type": "stream",
     "text": [
      "/Users/dereksnow/anaconda/envs/py36/lib/python3.6/site-packages/lightgbm/engine.py:99: UserWarning: Found `num_boost_round` in params. Will use it instead of argument\n",
      "  warnings.warn(\"Found `{}` in params. Will use it instead of argument\".format(alias))\n"
     ]
    },
    {
     "name": "stdout",
     "output_type": "stream",
     "text": [
      "Out of sample MAE:  0.5129196662064283\n"
     ]
    }
   ],
   "source": [
    "from sklearn.metrics import mean_absolute_error\n",
    "\n",
    "sub = y_hold.to_frame()\n",
    "sub[\"Target\"] = 0\n",
    "\n",
    "feature_importances = pd.DataFrame()\n",
    "avg_iter = 0\n",
    "\n",
    "ba= -1 \n",
    "for i, r in enumerate(range(n_splits)):\n",
    "    print(i)\n",
    "    ba = ba + 1\n",
    "    \n",
    "    params[\"num_boost_round\"] = int(seed_dict[random_seeds[ba]]*1.1)\n",
    "    params[\"seed\"] = random_seeds[ba]\n",
    "    params[\"max_depth\"] = depths[ba] # if you want to customise uncomment\n",
    "    \n",
    "    model = LGBMRegressor(\n",
    "**params\n",
    "    )\n",
    "\n",
    "    model.fit(\n",
    "        X_full,\n",
    "        y_full,\n",
    "        eval_metric='mae',\n",
    "        verbose=False\n",
    "    )\n",
    "    \n",
    "\n",
    "    sub['Target'] += model.predict(X_hold)\n",
    "    \n",
    "    fi = pd.DataFrame()\n",
    "    fi[\"feature\"] = X_full.columns\n",
    "    fi[\"importance\"] = model.feature_importances_\n",
    "    fi[\"fold\"] = (i+1)\n",
    "    \n",
    "    feature_importances = pd.concat([feature_importances, fi], axis=0)\n",
    "    \n",
    "print('Out of sample MAE: ', mean_absolute_error(y_hold, sub['Target']/n_splits))\n",
    "\n"
   ]
  },
  {
   "cell_type": "code",
   "execution_count": null,
   "metadata": {},
   "outputs": [],
   "source": [
    "1.1 Out of sample MAE:  0.5129196662064283\n",
    "    "
   ]
  },
  {
   "cell_type": "code",
   "execution_count": 392,
   "metadata": {},
   "outputs": [
    {
     "name": "stdout",
     "output_type": "stream",
     "text": [
      "0\n"
     ]
    },
    {
     "name": "stderr",
     "output_type": "stream",
     "text": [
      "/Users/dereksnow/anaconda/envs/py36/lib/python3.6/site-packages/lightgbm/engine.py:99: UserWarning: Found `num_boost_round` in params. Will use it instead of argument\n",
      "  warnings.warn(\"Found `{}` in params. Will use it instead of argument\".format(alias))\n"
     ]
    },
    {
     "name": "stdout",
     "output_type": "stream",
     "text": [
      "1\n"
     ]
    },
    {
     "name": "stderr",
     "output_type": "stream",
     "text": [
      "/Users/dereksnow/anaconda/envs/py36/lib/python3.6/site-packages/lightgbm/engine.py:99: UserWarning: Found `num_boost_round` in params. Will use it instead of argument\n",
      "  warnings.warn(\"Found `{}` in params. Will use it instead of argument\".format(alias))\n"
     ]
    },
    {
     "name": "stdout",
     "output_type": "stream",
     "text": [
      "2\n"
     ]
    },
    {
     "name": "stderr",
     "output_type": "stream",
     "text": [
      "/Users/dereksnow/anaconda/envs/py36/lib/python3.6/site-packages/lightgbm/engine.py:99: UserWarning: Found `num_boost_round` in params. Will use it instead of argument\n",
      "  warnings.warn(\"Found `{}` in params. Will use it instead of argument\".format(alias))\n"
     ]
    },
    {
     "name": "stdout",
     "output_type": "stream",
     "text": [
      "3\n"
     ]
    },
    {
     "name": "stderr",
     "output_type": "stream",
     "text": [
      "/Users/dereksnow/anaconda/envs/py36/lib/python3.6/site-packages/lightgbm/engine.py:99: UserWarning: Found `num_boost_round` in params. Will use it instead of argument\n",
      "  warnings.warn(\"Found `{}` in params. Will use it instead of argument\".format(alias))\n"
     ]
    },
    {
     "name": "stdout",
     "output_type": "stream",
     "text": [
      "4\n"
     ]
    },
    {
     "name": "stderr",
     "output_type": "stream",
     "text": [
      "/Users/dereksnow/anaconda/envs/py36/lib/python3.6/site-packages/lightgbm/engine.py:99: UserWarning: Found `num_boost_round` in params. Will use it instead of argument\n",
      "  warnings.warn(\"Found `{}` in params. Will use it instead of argument\".format(alias))\n"
     ]
    },
    {
     "name": "stdout",
     "output_type": "stream",
     "text": [
      "Out of sample MAE:  0.5064183766351881\n"
     ]
    }
   ],
   "source": [
    "from sklearn.metrics import mean_absolute_error\n",
    "\n",
    "sub = y_hold.to_frame()\n",
    "sub[\"Target\"] = 0\n",
    "\n",
    "feature_importances = pd.DataFrame()\n",
    "avg_iter = 0\n",
    "\n",
    "ba= -1 \n",
    "for i, r in enumerate(range(n_splits)):\n",
    "    print(i)\n",
    "    ba = ba + 1\n",
    "    \n",
    "    params[\"num_boost_round\"] = seed_dict[random_seeds[ba]]  \n",
    "    params[\"seed\"] = random_seeds[ba]\n",
    "    params[\"max_depth\"] = depths[ba] # if you want to customise uncomment\n",
    "    \n",
    "    model = LGBMRegressor(\n",
    "**params\n",
    "    )\n",
    "\n",
    "    model.fit(\n",
    "        X_full,\n",
    "        y_full,\n",
    "        eval_metric='mae',\n",
    "        verbose=False\n",
    "    )\n",
    "    \n",
    "\n",
    "    sub['Target'] += model.predict(X_hold)\n",
    "    \n",
    "    fi = pd.DataFrame()\n",
    "    fi[\"feature\"] = X_full.columns\n",
    "    fi[\"importance\"] = model.feature_importances_\n",
    "    fi[\"fold\"] = (i+1)\n",
    "    \n",
    "    feature_importances = pd.concat([feature_importances, fi], axis=0)\n",
    "    \n",
    "print('Out of sample MAE: ', mean_absolute_error(y_hold, sub['Target']/n_splits))\n"
   ]
  },
  {
   "cell_type": "code",
   "execution_count": null,
   "metadata": {},
   "outputs": [],
   "source": [
    "from sklearn.metrics import mean_absolute_error\n",
    "\n",
    "mean_absolute_error(y_hold, y_pred)\n",
    "# 0.5163493564074798"
   ]
  },
  {
   "cell_type": "code",
   "execution_count": 291,
   "metadata": {},
   "outputs": [
    {
     "data": {
      "text/plain": [
       "0.5155678000111037"
      ]
     },
     "execution_count": 291,
     "metadata": {},
     "output_type": "execute_result"
    }
   ],
   "source": [
    "eval['l1-mean'][seed_best]"
   ]
  },
  {
   "cell_type": "code",
   "execution_count": 217,
   "metadata": {},
   "outputs": [],
   "source": [
    "from sklearn.model_selection import learning_curve\n",
    "from lightgbm import LGBMRegressor\n",
    "from sklearn.model_selection import ShuffleSplit\n",
    "\n",
    "\n",
    "def plot_learning_curve(estimator, title, X, y, ylim=None, cv=None,\n",
    "                        n_jobs=1, train_sizes=np.linspace(.1, 1.0, 5)):\n",
    "    \"\"\"\n",
    "    Generate a simple plot of the test and training learning curve.\n",
    "\n",
    "    Parameters\n",
    "    ----------\n",
    "    estimator : object type that implements the \"fit\" and \"predict\" methods\n",
    "        An object of that type which is cloned for each validation.\n",
    "\n",
    "    title : string\n",
    "        Title for the chart.\n",
    "\n",
    "    X : array-like, shape (n_samples, n_features)\n",
    "        Training vector, where n_samples is the number of samples and\n",
    "        n_features is the number of features.\n",
    "\n",
    "    y : array-like, shape (n_samples) or (n_samples, n_features), optional\n",
    "        Target relative to X for classification or regression;\n",
    "        None for unsupervised learning.\n",
    "\n",
    "    ylim : tuple, shape (ymin, ymax), optional\n",
    "        Defines minimum and maximum yvalues plotted.\n",
    "\n",
    "    cv : int, cross-validation generator or an iterable, optional\n",
    "        Determines the cross-validation splitting strategy.\n",
    "        Possible inputs for cv are:\n",
    "          - None, to use the default 3-fold cross-validation,\n",
    "          - integer, to specify the number of folds.\n",
    "          - An object to be used as a cross-validation generator.\n",
    "          - An iterable yielding train/test splits.\n",
    "\n",
    "        For integer/None inputs, if ``y`` is binary or multiclass,\n",
    "        :class:`StratifiedKFold` used. If the estimator is not a classifier\n",
    "        or if ``y`` is neither binary nor multiclass, :class:`KFold` is used.\n",
    "\n",
    "        Refer :ref:`User Guide <cross_validation>` for the various\n",
    "        cross-validators that can be used here.\n",
    "\n",
    "    n_jobs : integer, optional\n",
    "        Number of jobs to run in parallel (default 1).\n",
    "    \"\"\"\n",
    "    plt.figure()\n",
    "    plt.title(title)\n",
    "    if ylim is not None:\n",
    "        plt.ylim(*ylim)\n",
    "    plt.xlabel(\"Training examples\")\n",
    "    plt.ylabel(\"Score\")\n",
    "    train_sizes, train_scores, test_scores = learning_curve(\n",
    "        estimator, X, y, cv=cv, n_jobs=n_jobs, train_sizes=train_sizes)\n",
    "    train_scores_mean = np.mean(train_scores, axis=1)\n",
    "    train_scores_std = np.std(train_scores, axis=1)\n",
    "    test_scores_mean = np.mean(test_scores, axis=1)\n",
    "    test_scores_std = np.std(test_scores, axis=1)\n",
    "    plt.grid()\n",
    "\n",
    "    plt.fill_between(train_sizes, train_scores_mean - train_scores_std,\n",
    "                     train_scores_mean + train_scores_std, alpha=0.1,\n",
    "                     color=\"r\")\n",
    "    plt.fill_between(train_sizes, test_scores_mean - test_scores_std,\n",
    "                     test_scores_mean + test_scores_std, alpha=0.1, color=\"g\")\n",
    "    plt.plot(train_sizes, train_scores_mean, 'o-', color=\"r\",\n",
    "             label=\"Training score\")\n",
    "    plt.plot(train_sizes, test_scores_mean, 'o-', color=\"g\",\n",
    "             label=\"Cross-validation score\")\n",
    "\n",
    "    plt.legend(loc=\"best\")\n",
    "    return plt"
   ]
  },
  {
   "cell_type": "code",
   "execution_count": null,
   "metadata": {},
   "outputs": [],
   "source": [
    "## There is no purpose for CV, I have enough data"
   ]
  },
  {
   "cell_type": "code",
   "execution_count": 201,
   "metadata": {},
   "outputs": [
    {
     "name": "stderr",
     "output_type": "stream",
     "text": [
      "/Users/dereksnow/anaconda/envs/py36/lib/python3.6/site-packages/lightgbm/engine.py:99: UserWarning: Found `num_boost_round` in params. Will use it instead of argument\n",
      "  warnings.warn(\"Found `{}` in params. Will use it instead of argument\".format(alias))\n",
      "/Users/dereksnow/anaconda/envs/py36/lib/python3.6/site-packages/lightgbm/engine.py:99: UserWarning: Found `num_boost_round` in params. Will use it instead of argument\n",
      "  warnings.warn(\"Found `{}` in params. Will use it instead of argument\".format(alias))\n",
      "/Users/dereksnow/anaconda/envs/py36/lib/python3.6/site-packages/lightgbm/engine.py:99: UserWarning: Found `num_boost_round` in params. Will use it instead of argument\n",
      "  warnings.warn(\"Found `{}` in params. Will use it instead of argument\".format(alias))\n",
      "/Users/dereksnow/anaconda/envs/py36/lib/python3.6/site-packages/lightgbm/engine.py:99: UserWarning: Found `num_boost_round` in params. Will use it instead of argument\n",
      "  warnings.warn(\"Found `{}` in params. Will use it instead of argument\".format(alias))\n",
      "/Users/dereksnow/anaconda/envs/py36/lib/python3.6/site-packages/lightgbm/engine.py:99: UserWarning: Found `num_boost_round` in params. Will use it instead of argument\n",
      "  warnings.warn(\"Found `{}` in params. Will use it instead of argument\".format(alias))\n",
      "/Users/dereksnow/anaconda/envs/py36/lib/python3.6/site-packages/lightgbm/engine.py:99: UserWarning: Found `num_boost_round` in params. Will use it instead of argument\n",
      "  warnings.warn(\"Found `{}` in params. Will use it instead of argument\".format(alias))\n",
      "/Users/dereksnow/anaconda/envs/py36/lib/python3.6/site-packages/lightgbm/engine.py:99: UserWarning: Found `num_boost_round` in params. Will use it instead of argument\n",
      "  warnings.warn(\"Found `{}` in params. Will use it instead of argument\".format(alias))\n",
      "/Users/dereksnow/anaconda/envs/py36/lib/python3.6/site-packages/lightgbm/engine.py:99: UserWarning: Found `num_boost_round` in params. Will use it instead of argument\n",
      "  warnings.warn(\"Found `{}` in params. Will use it instead of argument\".format(alias))\n",
      "/Users/dereksnow/anaconda/envs/py36/lib/python3.6/site-packages/lightgbm/engine.py:99: UserWarning: Found `num_boost_round` in params. Will use it instead of argument\n",
      "  warnings.warn(\"Found `{}` in params. Will use it instead of argument\".format(alias))\n",
      "/Users/dereksnow/anaconda/envs/py36/lib/python3.6/site-packages/lightgbm/engine.py:99: UserWarning: Found `num_boost_round` in params. Will use it instead of argument\n",
      "  warnings.warn(\"Found `{}` in params. Will use it instead of argument\".format(alias))\n",
      "/Users/dereksnow/anaconda/envs/py36/lib/python3.6/site-packages/lightgbm/engine.py:99: UserWarning: Found `num_boost_round` in params. Will use it instead of argument\n",
      "  warnings.warn(\"Found `{}` in params. Will use it instead of argument\".format(alias))\n",
      "/Users/dereksnow/anaconda/envs/py36/lib/python3.6/site-packages/lightgbm/engine.py:99: UserWarning: Found `num_boost_round` in params. Will use it instead of argument\n",
      "  warnings.warn(\"Found `{}` in params. Will use it instead of argument\".format(alias))\n",
      "/Users/dereksnow/anaconda/envs/py36/lib/python3.6/site-packages/lightgbm/engine.py:99: UserWarning: Found `num_boost_round` in params. Will use it instead of argument\n",
      "  warnings.warn(\"Found `{}` in params. Will use it instead of argument\".format(alias))\n",
      "/Users/dereksnow/anaconda/envs/py36/lib/python3.6/site-packages/lightgbm/engine.py:99: UserWarning: Found `num_boost_round` in params. Will use it instead of argument\n",
      "  warnings.warn(\"Found `{}` in params. Will use it instead of argument\".format(alias))\n",
      "/Users/dereksnow/anaconda/envs/py36/lib/python3.6/site-packages/lightgbm/engine.py:99: UserWarning: Found `num_boost_round` in params. Will use it instead of argument\n",
      "  warnings.warn(\"Found `{}` in params. Will use it instead of argument\".format(alias))\n"
     ]
    },
    {
     "data": {
      "text/plain": [
       "<module 'matplotlib.pyplot' from '/Users/dereksnow/anaconda/envs/py36/lib/python3.6/site-packages/matplotlib/pyplot.py'>"
      ]
     },
     "execution_count": 201,
     "metadata": {},
     "output_type": "execute_result"
    },
    {
     "data": {
      "image/png": "[encoded data removed]",
      "text/plain": [
       "<matplotlib.figure.Figure at 0x1a172135c0>"
      ]
     },
     "metadata": {},
     "output_type": "display_data"
    }
   ],
   "source": [
    "params[\"num_boost_round\"] = 72\n",
    "### They have converged enough, what this shows is that their is enough data in this task more data != higher score\n",
    "plot_learning_curve(LGBMRegressor(**params), \"Learning\", df.drop(col_drop,axis=1), df[\"Satisfaction\"], ylim=None, cv=None,\n",
    "                        n_jobs=1, train_sizes=np.linspace(.1, 1.0, 5))"
   ]
  },
  {
   "cell_type": "markdown",
   "metadata": {},
   "source": [
    "tl;dr when the score is lower than it should be the bias is an issue it is underfitted, when the score is good for training but bad for validation curve then it is overfitting and has too much variance.\n",
    "\n",
    "Firstly, we should focus on the right side of the plot, where there are sufficient data for evaluation.\n",
    "\n",
    "    If two curves are \"close to each other\" and both of them but have a low score. The model suffer from an under fitting problem (High Bias)\n",
    "\n",
    "    If training curve has a much better score but testing curve has a lower score, i.e., there are large gaps between two curves. Then the model suffer from an over fitting problem (High Variance)\n",
    "\n",
    "\n",
    "All that has to happen is the cross validation score has to increase and eventually somewhat converge oveer time. If it doesn't you are overfitting. \n",
    "\n",
    "I think what you're seeing is normal behaviour:\n",
    "\n",
    "With only few samples (like 2000) it's easy for a model to (over)fit the data - but it doesn't generalize well. So you get high training accuracy, but the model might not work well with new data (i.e. low validation/test accuracy).\n",
    "\n",
    "As you add more samples (like 9000) it becomes harder for the model to fit the data - so you get a lower training accuracy, but the model will work better with new data (i.e. validation/test accuracy starts to rise).\n",
    "\n",
    "So:\n",
    "\n",
    "    As the training dataset increases, the training accuracy is supposed to decrease because more data is harder to fit well.\n",
    "\n",
    "    As the training dataset increases, the validation/test accuracy is supposed to increase as well since less overfitting means better generalization.\n",
    "\n",
    "Andrew Ng has a video about learning curves. Note that he plots the error on the y axis, you have the accuracy on the y axis.. so the y axis is flipped.\n",
    "\n",
    "Also take a look at the second half of the video. It explains high bias and high variance problems.\n",
    "\n",
    "Your model seems to have high variance (due to the big \"gap\" between the two curves) - it's still too complex for the small amount of data you've got. Either getting more data or using a simpler model (or more regularization on the same model) might improve the results.\n"
   ]
  },
  {
   "cell_type": "raw",
   "metadata": {},
   "source": [
    "#First of all, your training accuracy goes down quite a bit when you add more examples. So this could still be high variance. However, I doubt that this is the only explanation as the gap seems to be too big.\n",
    "# I understand that the gap between training and testing score is probably due to high variance(overfitting). "
   ]
  },
  {
   "cell_type": "code",
   "execution_count": 13,
   "metadata": {},
   "outputs": [],
   "source": [
    "## Predicting, mean, median, mode, logistic and a groupby"
   ]
  },
  {
   "cell_type": "markdown",
   "metadata": {},
   "source": [
    "## Metrics\n",
    "Bring in the holdoutset"
   ]
  },
  {
   "cell_type": "code",
   "execution_count": 258,
   "metadata": {},
   "outputs": [
    {
     "data": {
      "text/plain": [
       "0.5170065010722477"
      ]
     },
     "execution_count": 258,
     "metadata": {},
     "output_type": "execute_result"
    }
   ],
   "source": [
    "y_pred = model.predict(X_hold)\n",
    "\n",
    "from sklearn.metrics import mean_absolute_error\n",
    "\n",
    "mean_absolute_error(y_hold, y_pred)\n",
    "# 0.5163493564074798"
   ]
  },
  {
   "cell_type": "code",
   "execution_count": 259,
   "metadata": {},
   "outputs": [
    {
     "name": "stdout",
     "output_type": "stream",
     "text": [
      "Train\n",
      "Mean:  0.8252751318191531 Median:  0.8038245451265399 Mode:  0.8038245451265399 Random 1.0412092160197928\n",
      "Test Peaking\n",
      "Mean:  0.8248216444238886 Median:  0.8038245451265399 Mode:  0.8038245451265399 Random 1.0403587443946187\n"
     ]
    }
   ],
   "source": [
    "## Standard Benchmarks\n",
    "\n",
    "y_mean = y_test.to_frame()\n",
    "y_mean[\"Satisfaction\"] = y_train.mean()\n",
    "\n",
    "\n",
    "y_median = y_test.to_frame()\n",
    "y_median[\"Satisfaction\"] = y_train.median()\n",
    "\n",
    "y_mode = y_test.to_frame()\n",
    "y_mode[\"Satisfaction\"] = y_train.mode().values[0]\n",
    "\n",
    "\n",
    "print(\"Train\")\n",
    "print(\"Mean: \",mean_absolute_error(y_test, y_mean),\n",
    "      \"Median: \",mean_absolute_error(y_test, y_median),\n",
    "      \"Mode: \",mean_absolute_error(y_test, y_mode),\n",
    "      \"Random\",mean_absolute_error(y_test, y_train.sample(len(y_test)))) \n",
    "\n",
    "## Mean Test Distribution Peaking Naive Benchmark (TDPNB)\n",
    "y_mean = y_test.to_frame()\n",
    "y_mean[\"Satisfaction\"] = y_test.mean()\n",
    "\n",
    "\n",
    "# Median TDBPN\n",
    "y_median = y_test.to_frame()\n",
    "y_median[\"Satisfaction\"] = y_test.median()\n",
    "\n",
    "## Mode TDPNB\n",
    "y_mode = y_test.to_frame()\n",
    "y_mode[\"Satisfaction\"] = y_test.mode().values[0]\n",
    "    \n",
    "print(\"Test Peaking\")\n",
    "print(\"Mean: \",mean_absolute_error(y_test, y_mean),\n",
    "      \"Median: \",mean_absolute_error(y_test, y_median),\n",
    "      \"Mode: \",mean_absolute_error(y_test, y_mode),\n",
    "      \"Random\",mean_absolute_error(y_test, y_test.sample(len(y_test)))) "
   ]
  },
  {
   "cell_type": "code",
   "execution_count": 16,
   "metadata": {},
   "outputs": [],
   "source": [
    "## This is going to give Laso some light. "
   ]
  },
  {
   "cell_type": "code",
   "execution_count": 260,
   "metadata": {},
   "outputs": [
    {
     "name": "stdout",
     "output_type": "stream",
     "text": [
      "error_triggered\n",
      "error_triggered\n"
     ]
    }
   ],
   "source": [
    "def rmse_cv(model,X,y):\n",
    "    rmse = np.sqrt(-cross_val_score(model, X, y, scoring=\"neg_mean_squared_error\", cv=5))\n",
    "    return rmse\n",
    "\n",
    "\n",
    "def Standardisation(X_train, X_test, leave_out=None):\n",
    "    from sklearn.preprocessing import StandardScaler\n",
    "    if leave_out:\n",
    "        leave = X_train[leave_out]\n",
    "        X_train = X_train.drop(leave_out,axis=1)\n",
    "\n",
    "        listed = list(X_train)\n",
    "        scaler = StandardScaler()\n",
    "        try:\n",
    "            X_train = scaler.fit_transform(X_train)\n",
    "        except:\n",
    "            print(\"error_triggered\")\n",
    "            X_train = scaler.fit_transform(X_train.fillna(X_train.mean()))\n",
    "            X_test = X_test.fillna(X_test.mean())\n",
    "        \n",
    "        X_test = scaler.transform(X_test)\n",
    "        X_train = pd.DataFrame(X_train)\n",
    "        X_test = pd.DataFrame(X_test)\n",
    "        X_train.columns = listed\n",
    "        X_train = pd.concat((X_train,leave ),axis=1)\n",
    "        X_test.columns = listed\n",
    "        X_test = pd.concat((X_test,leave ),axis=1)\n",
    "    else:\n",
    "        scaler = StandardScaler()\n",
    "        listed = list(X_train)\n",
    "        try:\n",
    "            X_train = scaler.fit_transform(X_train)\n",
    "        except:\n",
    "            print(\"error_triggered\")\n",
    "            X_train = scaler.fit_transform(X_train.fillna(X_train.mean()))\n",
    "            X_test = X_test.fillna(X_test.mean())\n",
    "        X_test = scaler.transform(X_test)\n",
    "        X_test = pd.DataFrame(X_test)\n",
    "        X_test.columns = listed\n",
    "        \n",
    "        X_train = pd.DataFrame(X_train)\n",
    "        X_train.columns = listed\n",
    "        \n",
    "    return X_train, X_test\n",
    "\n",
    "X_train_s, X_test_s = Standardisation(X_train,X_test,[])\n",
    "_, X_hold_s = Standardisation(X_train,X_hold,[])\n",
    "\n"
   ]
  },
  {
   "cell_type": "code",
   "execution_count": 261,
   "metadata": {},
   "outputs": [],
   "source": [
    "## This is a quick and dirty way to do cs for lasso without plotting, but I want to plot the alphas, see below.\n",
    "## Alpha is simply the regularisation term\n",
    "model_lasso = LassoCV(alphas = [1, 0.1, 0.001, 0.0005]).fit(X_train_s, y_train)"
   ]
  },
  {
   "cell_type": "markdown",
   "metadata": {},
   "source": [
    "Below we'll run a ridge regression and see how score varies with different alphas. This will show how picking a different alpha score changes the R2."
   ]
  },
  {
   "cell_type": "markdown",
   "metadata": {},
   "source": [
    "Here, α (alpha) is the parameter which balances the amount of emphasis given to minimizing RSS vs minimizing sum of square of coefficients. α can take various values:\n",
    "\n",
    "    α = 0:\n",
    "        The objective becomes same as simple linear regression.\n",
    "        We’ll get the same coefficients as simple linear regression.\n",
    "    α = ∞:\n",
    "        The coefficients will be zero. Why? Because of infinite weightage on square of coefficients, anything less than zero will make the objective infinite.\n",
    "    0 < α < ∞:\n",
    "        The magnitude of α will decide the weightage given to different parts of objective.\n",
    "        The coefficients will be somewhere between 0 and ones for simple linear regression.\n"
   ]
  },
  {
   "cell_type": "code",
   "execution_count": null,
   "metadata": {},
   "outputs": [],
   "source": [
    "svr = SVR(gamma= 0.0004,kernel='rbf',C=13,epsilon=0.009)\n",
    "#ker = KernelRidge(alpha=0.2 ,kernel='polynomial',degree=3 , coef0=0.8) ## too computationally expensive\n",
    "ela = ElasticNet(alpha=0.005,l1_ratio=0.08,max_iter=10000)\n",
    "bay = BayesianRidge()"
   ]
  },
  {
   "cell_type": "code",
   "execution_count": 23,
   "metadata": {},
   "outputs": [
    {
     "data": {
      "text/plain": [
       "0.5006963184228322"
      ]
     },
     "execution_count": 23,
     "metadata": {},
     "output_type": "execute_result"
    }
   ],
   "source": [
    "## This is a great score without hyper-parametr tampering. \n",
    "svr = ElasticNet(alpha=0.005,l1_ratio=0.08,max_iter=10000).fit(X_train_s, y_train)\n",
    "y_svr = svr.predict(X_test_s)\n",
    "mean_absolute_error(y_test, y_svr)\n",
    "# 0.5006963184228322"
   ]
  },
  {
   "cell_type": "code",
   "execution_count": null,
   "metadata": {},
   "outputs": [],
   "source": [
    "ela = SVR(gamma= 0.0004,kernel='rbf',C=13,epsilon=0.009).fit(X_train_s, y_train)\n",
    "y_ela = ela.predict(X_test_s)\n",
    "mean_absolute_error(y_test, y_ela)"
   ]
  },
  {
   "cell_type": "code",
   "execution_count": null,
   "metadata": {},
   "outputs": [],
   "source": [
    "bay = BayesianRidge().fit(X_train_s, y_train)\n",
    "y_bay = bay.predict(X_test_s)\n",
    "mean_absolute_error(y_test, y_bay)"
   ]
  },
  {
   "cell_type": "code",
   "execution_count": null,
   "metadata": {},
   "outputs": [],
   "source": [
    "score_kernel_ridge = [] \n",
    "alpha_space = np.logspace(-1, 0, 3)\n",
    "for r in alpha_space:\n",
    "    kr = KernelRidge(alpha= r, kernel=\"polynomial\", degree=3).fit(X_train_s, y_train)\n",
    "\n",
    "    y_kr = kr.predict(X_test_s)\n",
    "\n",
    "    score_kernel_ridge.append(mean_absolute_error(y_test, y_kr))"
   ]
  },
  {
   "cell_type": "code",
   "execution_count": null,
   "metadata": {},
   "outputs": [],
   "source": [
    "score_lasso = [] \n",
    "alpha_space = np.logspace(-10, 0, 20)\n",
    "for r in alpha_space:\n",
    "    lasso = Lasso(alpha= r, normalize=True).fit(X_train_s, y_train)\n",
    "\n",
    "    y_lasso = lasso.predict(X_test_s)\n",
    "\n",
    "    score_lasso.append(mean_absolute_error(y_test, y_lasso))"
   ]
  },
  {
   "cell_type": "code",
   "execution_count": null,
   "metadata": {},
   "outputs": [],
   "source": [
    "score_lasso"
   ]
  },
  {
   "cell_type": "code",
   "execution_count": null,
   "metadata": {},
   "outputs": [],
   "source": [
    "score = [] \n",
    "alpha_space = np.logspace(-4, 0, 20)\n",
    "for r in alpha_space:\n",
    "    ridge = Ridge(alpha= r, normalize=True).fit(X_train_s, y_train)\n",
    "\n",
    "    y_ridge = ridge.predict(X_test_s)\n",
    "\n",
    "    score.append(mean_absolute_error(y_test, y_ridge))"
   ]
  },
  {
   "cell_type": "code",
   "execution_count": null,
   "metadata": {},
   "outputs": [],
   "source": [
    "score"
   ]
  },
  {
   "cell_type": "code",
   "execution_count": null,
   "metadata": {},
   "outputs": [],
   "source": [
    "ridge_cv_scores = cross_val_score(ridge, X_scaled, y_train, cv=10)"
   ]
  },
  {
   "cell_type": "code",
   "execution_count": null,
   "metadata": {},
   "outputs": [],
   "source": [
    "ridge_cv_scores"
   ]
  },
  {
   "cell_type": "code",
   "execution_count": null,
   "metadata": {},
   "outputs": [],
   "source": [
    "score"
   ]
  },
  {
   "cell_type": "code",
   "execution_count": null,
   "metadata": {},
   "outputs": [],
   "source": [
    "score"
   ]
  },
  {
   "cell_type": "raw",
   "metadata": {},
   "source": [
    "Below we'll run a ridge regression and see how score varies with different alphas. This will show how picking a different alpha score changes the R2. It is generally best not to run past the elbow. "
   ]
  },
  {
   "cell_type": "code",
   "execution_count": null,
   "metadata": {},
   "outputs": [],
   "source": [
    "from sklearn.linear_model import Ridge\n",
    "\n",
    "# Create an array of alphas and lists to store scores\n",
    "alpha_space = np.logspace(-20, 0, 10)\n",
    "ridge_scores = []\n",
    "ridge_scores_std = []\n",
    "\n",
    "# Create a ridge regressor: ridge\n",
    "ridge = Ridge(normalize=True)\n",
    "\n",
    "# Compute scores over range of alphas\n",
    "for alpha in alpha_space:\n",
    "\n",
    "    # Specify the alpha value to use: ridge.alpha\n",
    "    ridge.alpha = alpha\n",
    "    \n",
    "    # Perform 10-fold CV: ridge_cv_scores\n",
    "    ridge_cv_scores = cross_val_score(ridge, X_scaled, y_train, cv=10)\n",
    "    \n",
    "    # Append the mean of ridge_cv_scores to ridge_scores\n",
    "    ridge_scores.append(np.mean(ridge_cv_scores))\n",
    "    \n",
    "    # Append the std of ridge_cv_scores to ridge_scores_std\n",
    "    ridge_scores_std.append(np.std(ridge_cv_scores))\n",
    "\n",
    "# Use this function to create a plot    \n",
    "def display_plot(cv_scores, cv_scores_std):\n",
    "    fig = plt.figure()\n",
    "    ax = fig.add_subplot(1,1,1)\n",
    "    ax.plot(alpha_space, cv_scores)\n",
    "\n",
    "    std_error = cv_scores_std / np.sqrt(10)\n",
    "\n",
    "    ax.fill_between(alpha_space, cv_scores + std_error, cv_scores - std_error, alpha=0.2)\n",
    "    ax.set_ylabel('CV Score +/- Std Error')\n",
    "    ax.set_xlabel('Alpha')\n",
    "    ax.axhline(np.max(cv_scores), linestyle='--', color='.5')\n",
    "    ax.set_xlim([alpha_space[0], alpha_space[-1]])\n",
    "    ax.set_xscale('log')\n",
    "    plt.show()\n",
    "\n",
    "# Display the plot\n",
    "display_plot(ridge_scores, ridge_scores_std)"
   ]
  },
  {
   "cell_type": "code",
   "execution_count": null,
   "metadata": {},
   "outputs": [],
   "source": [
    "import matplotlib\n",
    "coef = pd.Series(model_lasso.coef_, index = X_train.columns)\n",
    "print(\"Lasso picked \" + str(sum(coef != 0)) + \" variables and eliminated the other \" +  str(sum(coef == 0)) + \" variables\")\n",
    "\n",
    "\n",
    "\n",
    "imp_coef = pd.concat([coef.sort_values().head(10),\n",
    "                     coef.sort_values().tail(10)])\n",
    "\n",
    "\n",
    "\n",
    "matplotlib.rcParams['figure.figsize'] = (8.0, 10.0)\n",
    "imp_coef.plot(kind = \"barh\")\n",
    "plt.title(\"Coefficients in the Lasso Model\")"
   ]
  },
  {
   "cell_type": "code",
   "execution_count": null,
   "metadata": {},
   "outputs": [],
   "source": [
    "df.shape"
   ]
  },
  {
   "cell_type": "code",
   "execution_count": null,
   "metadata": {},
   "outputs": [],
   "source": [
    "## Scaled Data\n",
    "\n",
    "## PCA Data\n",
    "pca = PCA(n_components=410)\n",
    "X_scaled=pca.fit_transform(X_scaled)"
   ]
  },
  {
   "cell_type": "code",
   "execution_count": null,
   "metadata": {},
   "outputs": [],
   "source": [
    "def rmse_cv(model,X,y):\n",
    "    rmse = np.sqrt(-cross_val_score(model, X, y, scoring=\"neg_mean_squared_error\", cv=5))\n",
    "    return rmse\n",
    "\n",
    "\n",
    "def Standardisation(df, leave_out=None):\n",
    "    from sklearn.preprocessing import StandardScaler\n",
    "    if leave_out:\n",
    "        leave = df[leave_out]\n",
    "        df = df.drop(leave_out,axis=1)\n",
    "\n",
    "        listed = list(df)\n",
    "        scaler = StandardScaler()\n",
    "        try:\n",
    "            scaled = scaler.fit_transform(df)\n",
    "        except:\n",
    "            print(\"error_triggered\")\n",
    "            scaled = scaler.fit_transform(df.fillna(df.mean()))\n",
    "        df = pd.DataFrame(scaled)\n",
    "        df.columns = listed\n",
    "        df = pd.concat((df,leave ),axis=1)\n",
    "    else:\n",
    "        scaler = StandardScaler()\n",
    "        listed = list(df)\n",
    "        try:\n",
    "            scaled = scaler.fit_transform(df)\n",
    "        except:\n",
    "            print(\"error_triggered\")\n",
    "            scaled = scaler.fit_transform(df.fillna(df.mean()))\n",
    "        df = pd.DataFrame(scaled)\n",
    "        df.columns = listed\n",
    "    return df\n",
    "\n",
    "\n",
    "\n",
    "X_scaled = Standardisation(X_train,[])"
   ]
  },
  {
   "cell_type": "code",
   "execution_count": null,
   "metadata": {},
   "outputs": [],
   "source": [
    "X_scaled.shape"
   ]
  },
  {
   "cell_type": "code",
   "execution_count": null,
   "metadata": {},
   "outputs": [],
   "source": [
    "y_train.shape"
   ]
  },
  {
   "cell_type": "code",
   "execution_count": null,
   "metadata": {},
   "outputs": [],
   "source": [
    "## Machine Learning Benchmarks\n",
    "## In linear models a PCA step can work nicely \n",
    "\n",
    "from sklearn.model_selection import cross_val_score, GridSearchCV, KFold\n",
    "from sklearn.linear_model import LinearRegression\n",
    "from sklearn.linear_model import Ridge\n",
    "from sklearn.linear_model import Lasso\n",
    "from sklearn.ensemble import RandomForestRegressor, GradientBoostingRegressor, ExtraTreesRegressor\n",
    "from sklearn.svm import SVR, LinearSVR\n",
    "from sklearn.linear_model import ElasticNet, SGDRegressor, BayesianRidge\n",
    "from sklearn.kernel_ridge import KernelRidge\n",
    "from xgboost import XGBRegressor\n",
    "\n",
    "models = [LinearRegression(),Ridge(),Lasso(alpha=0.01,max_iter=10000),RandomForestRegressor(),GradientBoostingRegressor(),SVR(),LinearSVR(),\n",
    "          ElasticNet(alpha=0.001,max_iter=10000),SGDRegressor(max_iter=1000,tol=1e-3),BayesianRidge(),KernelRidge(alpha=0.6, kernel='polynomial', degree=2, coef0=2.5),\n",
    "          ExtraTreesRegressor(),XGBRegressor()]\n",
    "\n",
    "names = [\"LR\", \"Ridge\", \"Lasso\", \"RF\", \"GBR\", \"SVR\", \"LinSVR\", \"Ela\",\"SGD\",\"Bay\",\"Ker\",\"Extra\",\"Xgb\"]\n",
    "for name, model in zip(names, models):\n",
    "    score = rmse_cv(model, X_scaled, y_train.reset_index(drop=True))\n",
    "    print(\"{}: {:.6f}, {:.4f}\".format(name,score.mean(),score.std()))"
   ]
  },
  {
   "cell_type": "code",
   "execution_count": null,
   "metadata": {},
   "outputs": [],
   "source": [
    "1+1"
   ]
  },
  {
   "cell_type": "code",
   "execution_count": null,
   "metadata": {},
   "outputs": [],
   "source": [
    "lasso=Lasso(alpha=0.001)\n",
    "lasso.fit(X_scaled,y_log)\n"
   ]
  },
  {
   "cell_type": "code",
   "execution_count": null,
   "metadata": {},
   "outputs": [],
   "source": [
    "y_pred = model.predict(X_test)\n",
    "\n",
    "from sklearn.metrics import mean_absolute_error\n",
    "\n",
    "mean_absolute_error(y_test, y_pred)"
   ]
  },
  {
   "cell_type": "code",
   "execution_count": null,
   "metadata": {},
   "outputs": [],
   "source": [
    "p_testa"
   ]
  },
  {
   "cell_type": "code",
   "execution_count": null,
   "metadata": {},
   "outputs": [],
   "source": [
    "## It has been a long time sinced I used learning curves, and I think it is worth adding one again, and saying something about how much data is needed"
   ]
  },
  {
   "cell_type": "code",
   "execution_count": null,
   "metadata": {},
   "outputs": [],
   "source": [
    "Learning Curves: If you plot cross-validation (cv) error and training set error rates versus training set size, you can learn a lot. If the two curves approach each other with low error rate, then you are doing well.\n",
    "\n",
    "If it looks like the curves are starting to approach each other and both heading/staying low, then you need more data.\n",
    "\n",
    "If the cv curve remains high, but the training set curve remains low, then you have a high-variance situation. You can either get more data, or use regularization to improve generalization."
   ]
  }
 ],
 "metadata": {
  "kernelspec": {
   "display_name": "py36",
   "language": "python",
   "name": "py36"
  },
  "language_info": {
   "codemirror_mode": {
    "name": "ipython",
    "version": 3
   },
   "file_extension": ".py",
   "mimetype": "text/x-python",
   "name": "python",
   "nbconvert_exporter": "python",
   "pygments_lexer": "ipython3",
   "version": "3.6.3"
  }
 },
 "nbformat": 4,
 "nbformat_minor": 2
}
