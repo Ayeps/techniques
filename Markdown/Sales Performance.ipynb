{
 "cells": [
  {
   "cell_type": "code",
   "execution_count": 1,
   "metadata": {},
   "outputs": [],
   "source": [
    "from bokeh.io import show, output_notebook\n",
    "from bokeh.palettes import PuBu4\n",
    "from bokeh.plotting import figure\n",
    "from bokeh.models import Label"
   ]
  },
  {
   "cell_type": "code",
   "execution_count": 2,
   "metadata": {},
   "outputs": [
    {
     "data": {
      "text/html": [
       "\n",
       "    <div class=\"bk-root\">\n",
       "        <a href=\"https://bokeh.pydata.org\" target=\"_blank\" class=\"bk-logo bk-logo-small bk-logo-notebook\"></a>\n",
       "        <span id=\"a390c47f-10e0-4e58-9dfc-bd71d2e560ba\">Loading BokehJS ...</span>\n",
       "    </div>"
      ]
     },
     "metadata": {},
     "output_type": "display_data"
    },
    {
     "data": {
      "application/javascript": [
       "\n",
       "(function(root) {\n",
       "  function now() {\n",
       "    return new Date();\n",
       "  }\n",
       "\n",
       "  var force = true;\n",
       "\n",
       "  if (typeof (root._bokeh_onload_callbacks) === \"undefined\" || force === true) {\n",
       "    root._bokeh_onload_callbacks = [];\n",
       "    root._bokeh_is_loading = undefined;\n",
       "  }\n",
       "\n",
       "  var JS_MIME_TYPE = 'application/javascript';\n",
       "  var HTML_MIME_TYPE = 'text/html';\n",
       "  var EXEC_MIME_TYPE = 'application/vnd.bokehjs_exec.v0+json';\n",
       "  var CLASS_NAME = 'output_bokeh rendered_html';\n",
       "\n",
       "  /**\n",
       "   * Render data to the DOM node\n",
       "   */\n",
       "  function render(props, node) {\n",
       "    var script = document.createElement(\"script\");\n",
       "    node.appendChild(script);\n",
       "  }\n",
       "\n",
       "  /**\n",
       "   * Handle when an output is cleared or removed\n",
       "   */\n",
       "  function handleClearOutput(event, handle) {\n",
       "    var cell = handle.cell;\n",
       "\n",
       "    var id = cell.output_area._bokeh_element_id;\n",
       "    var server_id = cell.output_area._bokeh_server_id;\n",
       "    // Clean up Bokeh references\n",
       "    if (id !== undefined) {\n",
       "      Bokeh.index[id].model.document.clear();\n",
       "      delete Bokeh.index[id];\n",
       "    }\n",
       "\n",
       "    if (server_id !== undefined) {\n",
       "      // Clean up Bokeh references\n",
       "      var cmd = \"from bokeh.io.state import curstate; print(curstate().uuid_to_server['\" + server_id + \"'].get_sessions()[0].document.roots[0]._id)\";\n",
       "      cell.notebook.kernel.execute(cmd, {\n",
       "        iopub: {\n",
       "          output: function(msg) {\n",
       "            var element_id = msg.content.text.trim();\n",
       "            Bokeh.index[element_id].model.document.clear();\n",
       "            delete Bokeh.index[element_id];\n",
       "          }\n",
       "        }\n",
       "      });\n",
       "      // Destroy server and session\n",
       "      var cmd = \"import bokeh.io.notebook as ion; ion.destroy_server('\" + server_id + \"')\";\n",
       "      cell.notebook.kernel.execute(cmd);\n",
       "    }\n",
       "  }\n",
       "\n",
       "  /**\n",
       "   * Handle when a new output is added\n",
       "   */\n",
       "  function handleAddOutput(event, handle) {\n",
       "    var output_area = handle.output_area;\n",
       "    var output = handle.output;\n",
       "\n",
       "    // limit handleAddOutput to display_data with EXEC_MIME_TYPE content only\n",
       "    if ((output.output_type != \"display_data\") || (!output.data.hasOwnProperty(EXEC_MIME_TYPE))) {\n",
       "      return\n",
       "    }\n",
       "\n",
       "    var toinsert = output_area.element.find(`.${CLASS_NAME.split(' ')[0]}`);\n",
       "\n",
       "    if (output.metadata[EXEC_MIME_TYPE][\"id\"] !== undefined) {\n",
       "      toinsert[0].firstChild.textContent = output.data[JS_MIME_TYPE];\n",
       "      // store reference to embed id on output_area\n",
       "      output_area._bokeh_element_id = output.metadata[EXEC_MIME_TYPE][\"id\"];\n",
       "    }\n",
       "    if (output.metadata[EXEC_MIME_TYPE][\"server_id\"] !== undefined) {\n",
       "      var bk_div = document.createElement(\"div\");\n",
       "      bk_div.innerHTML = output.data[HTML_MIME_TYPE];\n",
       "      var script_attrs = bk_div.children[0].attributes;\n",
       "      for (var i = 0; i < script_attrs.length; i++) {\n",
       "        toinsert[0].firstChild.setAttribute(script_attrs[i].name, script_attrs[i].value);\n",
       "      }\n",
       "      // store reference to server id on output_area\n",
       "      output_area._bokeh_server_id = output.metadata[EXEC_MIME_TYPE][\"server_id\"];\n",
       "    }\n",
       "  }\n",
       "\n",
       "  function register_renderer(events, OutputArea) {\n",
       "\n",
       "    function append_mime(data, metadata, element) {\n",
       "      // create a DOM node to render to\n",
       "      var toinsert = this.create_output_subarea(\n",
       "        metadata,\n",
       "        CLASS_NAME,\n",
       "        EXEC_MIME_TYPE\n",
       "      );\n",
       "      this.keyboard_manager.register_events(toinsert);\n",
       "      // Render to node\n",
       "      var props = {data: data, metadata: metadata[EXEC_MIME_TYPE]};\n",
       "      render(props, toinsert[0]);\n",
       "      element.append(toinsert);\n",
       "      return toinsert\n",
       "    }\n",
       "\n",
       "    /* Handle when an output is cleared or removed */\n",
       "    events.on('clear_output.CodeCell', handleClearOutput);\n",
       "    events.on('delete.Cell', handleClearOutput);\n",
       "\n",
       "    /* Handle when a new output is added */\n",
       "    events.on('output_added.OutputArea', handleAddOutput);\n",
       "\n",
       "    /**\n",
       "     * Register the mime type and append_mime function with output_area\n",
       "     */\n",
       "    OutputArea.prototype.register_mime_type(EXEC_MIME_TYPE, append_mime, {\n",
       "      /* Is output safe? */\n",
       "      safe: true,\n",
       "      /* Index of renderer in `output_area.display_order` */\n",
       "      index: 0\n",
       "    });\n",
       "  }\n",
       "\n",
       "  // register the mime type if in Jupyter Notebook environment and previously unregistered\n",
       "  if (root.Jupyter !== undefined) {\n",
       "    var events = require('base/js/events');\n",
       "    var OutputArea = require('notebook/js/outputarea').OutputArea;\n",
       "\n",
       "    if (OutputArea.prototype.mime_types().indexOf(EXEC_MIME_TYPE) == -1) {\n",
       "      register_renderer(events, OutputArea);\n",
       "    }\n",
       "  }\n",
       "\n",
       "  \n",
       "  if (typeof (root._bokeh_timeout) === \"undefined\" || force === true) {\n",
       "    root._bokeh_timeout = Date.now() + 5000;\n",
       "    root._bokeh_failed_load = false;\n",
       "  }\n",
       "\n",
       "  var NB_LOAD_WARNING = {'data': {'text/html':\n",
       "     \"<div style='background-color: #fdd'>\\n\"+\n",
       "     \"<p>\\n\"+\n",
       "     \"BokehJS does not appear to have successfully loaded. If loading BokehJS from CDN, this \\n\"+\n",
       "     \"may be due to a slow or bad network connection. Possible fixes:\\n\"+\n",
       "     \"</p>\\n\"+\n",
       "     \"<ul>\\n\"+\n",
       "     \"<li>re-rerun `output_notebook()` to attempt to load from CDN again, or</li>\\n\"+\n",
       "     \"<li>use INLINE resources instead, as so:</li>\\n\"+\n",
       "     \"</ul>\\n\"+\n",
       "     \"<code>\\n\"+\n",
       "     \"from bokeh.resources import INLINE\\n\"+\n",
       "     \"output_notebook(resources=INLINE)\\n\"+\n",
       "     \"</code>\\n\"+\n",
       "     \"</div>\"}};\n",
       "\n",
       "  function display_loaded() {\n",
       "    var el = document.getElementById(\"a390c47f-10e0-4e58-9dfc-bd71d2e560ba\");\n",
       "    if (el != null) {\n",
       "      el.textContent = \"BokehJS is loading...\";\n",
       "    }\n",
       "    if (root.Bokeh !== undefined) {\n",
       "      if (el != null) {\n",
       "        el.textContent = \"BokehJS \" + root.Bokeh.version + \" successfully loaded.\";\n",
       "      }\n",
       "    } else if (Date.now() < root._bokeh_timeout) {\n",
       "      setTimeout(display_loaded, 100)\n",
       "    }\n",
       "  }\n",
       "\n",
       "\n",
       "  function run_callbacks() {\n",
       "    try {\n",
       "      root._bokeh_onload_callbacks.forEach(function(callback) { callback() });\n",
       "    }\n",
       "    finally {\n",
       "      delete root._bokeh_onload_callbacks\n",
       "    }\n",
       "    console.info(\"Bokeh: all callbacks have finished\");\n",
       "  }\n",
       "\n",
       "  function load_libs(js_urls, callback) {\n",
       "    root._bokeh_onload_callbacks.push(callback);\n",
       "    if (root._bokeh_is_loading > 0) {\n",
       "      console.log(\"Bokeh: BokehJS is being loaded, scheduling callback at\", now());\n",
       "      return null;\n",
       "    }\n",
       "    if (js_urls == null || js_urls.length === 0) {\n",
       "      run_callbacks();\n",
       "      return null;\n",
       "    }\n",
       "    console.log(\"Bokeh: BokehJS not loaded, scheduling load and callback at\", now());\n",
       "    root._bokeh_is_loading = js_urls.length;\n",
       "    for (var i = 0; i < js_urls.length; i++) {\n",
       "      var url = js_urls[i];\n",
       "      var s = document.createElement('script');\n",
       "      s.src = url;\n",
       "      s.async = false;\n",
       "      s.onreadystatechange = s.onload = function() {\n",
       "        root._bokeh_is_loading--;\n",
       "        if (root._bokeh_is_loading === 0) {\n",
       "          console.log(\"Bokeh: all BokehJS libraries loaded\");\n",
       "          run_callbacks()\n",
       "        }\n",
       "      };\n",
       "      s.onerror = function() {\n",
       "        console.warn(\"failed to load library \" + url);\n",
       "      };\n",
       "      console.log(\"Bokeh: injecting script tag for BokehJS library: \", url);\n",
       "      document.getElementsByTagName(\"head\")[0].appendChild(s);\n",
       "    }\n",
       "  };var element = document.getElementById(\"a390c47f-10e0-4e58-9dfc-bd71d2e560ba\");\n",
       "  if (element == null) {\n",
       "    console.log(\"Bokeh: ERROR: autoload.js configured with elementid 'a390c47f-10e0-4e58-9dfc-bd71d2e560ba' but no matching script tag was found. \")\n",
       "    return false;\n",
       "  }\n",
       "\n",
       "  var js_urls = [\"https://cdn.pydata.org/bokeh/release/bokeh-0.12.10.min.js\", \"https://cdn.pydata.org/bokeh/release/bokeh-widgets-0.12.10.min.js\", \"https://cdn.pydata.org/bokeh/release/bokeh-tables-0.12.10.min.js\", \"https://cdn.pydata.org/bokeh/release/bokeh-gl-0.12.10.min.js\"];\n",
       "\n",
       "  var inline_js = [\n",
       "    function(Bokeh) {\n",
       "      Bokeh.set_log_level(\"info\");\n",
       "    },\n",
       "    \n",
       "    function(Bokeh) {\n",
       "      \n",
       "    },\n",
       "    function(Bokeh) {\n",
       "      console.log(\"Bokeh: injecting CSS: https://cdn.pydata.org/bokeh/release/bokeh-0.12.10.min.css\");\n",
       "      Bokeh.embed.inject_css(\"https://cdn.pydata.org/bokeh/release/bokeh-0.12.10.min.css\");\n",
       "      console.log(\"Bokeh: injecting CSS: https://cdn.pydata.org/bokeh/release/bokeh-widgets-0.12.10.min.css\");\n",
       "      Bokeh.embed.inject_css(\"https://cdn.pydata.org/bokeh/release/bokeh-widgets-0.12.10.min.css\");\n",
       "      console.log(\"Bokeh: injecting CSS: https://cdn.pydata.org/bokeh/release/bokeh-tables-0.12.10.min.css\");\n",
       "      Bokeh.embed.inject_css(\"https://cdn.pydata.org/bokeh/release/bokeh-tables-0.12.10.min.css\");\n",
       "    }\n",
       "  ];\n",
       "\n",
       "  function run_inline_js() {\n",
       "    \n",
       "    if ((root.Bokeh !== undefined) || (force === true)) {\n",
       "      for (var i = 0; i < inline_js.length; i++) {\n",
       "        inline_js[i].call(root, root.Bokeh);\n",
       "      }if (force === true) {\n",
       "        display_loaded();\n",
       "      }} else if (Date.now() < root._bokeh_timeout) {\n",
       "      setTimeout(run_inline_js, 100);\n",
       "    } else if (!root._bokeh_failed_load) {\n",
       "      console.log(\"Bokeh: BokehJS failed to load within specified timeout.\");\n",
       "      root._bokeh_failed_load = true;\n",
       "    } else if (force !== true) {\n",
       "      var cell = $(document.getElementById(\"a390c47f-10e0-4e58-9dfc-bd71d2e560ba\")).parents('.cell').data().cell;\n",
       "      cell.output_area.append_execute_result(NB_LOAD_WARNING)\n",
       "    }\n",
       "\n",
       "  }\n",
       "\n",
       "  if (root._bokeh_is_loading === 0) {\n",
       "    console.log(\"Bokeh: BokehJS loaded, going straight to plotting\");\n",
       "    run_inline_js();\n",
       "  } else {\n",
       "    load_libs(js_urls, function() {\n",
       "      console.log(\"Bokeh: BokehJS plotting callback run at\", now());\n",
       "      run_inline_js();\n",
       "    });\n",
       "  }\n",
       "}(window));"
      ],
      "application/vnd.bokehjs_load.v0+json": "\n(function(root) {\n  function now() {\n    return new Date();\n  }\n\n  var force = true;\n\n  if (typeof (root._bokeh_onload_callbacks) === \"undefined\" || force === true) {\n    root._bokeh_onload_callbacks = [];\n    root._bokeh_is_loading = undefined;\n  }\n\n  \n\n  \n  if (typeof (root._bokeh_timeout) === \"undefined\" || force === true) {\n    root._bokeh_timeout = Date.now() + 5000;\n    root._bokeh_failed_load = false;\n  }\n\n  var NB_LOAD_WARNING = {'data': {'text/html':\n     \"<div style='background-color: #fdd'>\\n\"+\n     \"<p>\\n\"+\n     \"BokehJS does not appear to have successfully loaded. If loading BokehJS from CDN, this \\n\"+\n     \"may be due to a slow or bad network connection. Possible fixes:\\n\"+\n     \"</p>\\n\"+\n     \"<ul>\\n\"+\n     \"<li>re-rerun `output_notebook()` to attempt to load from CDN again, or</li>\\n\"+\n     \"<li>use INLINE resources instead, as so:</li>\\n\"+\n     \"</ul>\\n\"+\n     \"<code>\\n\"+\n     \"from bokeh.resources import INLINE\\n\"+\n     \"output_notebook(resources=INLINE)\\n\"+\n     \"</code>\\n\"+\n     \"</div>\"}};\n\n  function display_loaded() {\n    var el = document.getElementById(\"a390c47f-10e0-4e58-9dfc-bd71d2e560ba\");\n    if (el != null) {\n      el.textContent = \"BokehJS is loading...\";\n    }\n    if (root.Bokeh !== undefined) {\n      if (el != null) {\n        el.textContent = \"BokehJS \" + root.Bokeh.version + \" successfully loaded.\";\n      }\n    } else if (Date.now() < root._bokeh_timeout) {\n      setTimeout(display_loaded, 100)\n    }\n  }\n\n\n  function run_callbacks() {\n    try {\n      root._bokeh_onload_callbacks.forEach(function(callback) { callback() });\n    }\n    finally {\n      delete root._bokeh_onload_callbacks\n    }\n    console.info(\"Bokeh: all callbacks have finished\");\n  }\n\n  function load_libs(js_urls, callback) {\n    root._bokeh_onload_callbacks.push(callback);\n    if (root._bokeh_is_loading > 0) {\n      console.log(\"Bokeh: BokehJS is being loaded, scheduling callback at\", now());\n      return null;\n    }\n    if (js_urls == null || js_urls.length === 0) {\n      run_callbacks();\n      return null;\n    }\n    console.log(\"Bokeh: BokehJS not loaded, scheduling load and callback at\", now());\n    root._bokeh_is_loading = js_urls.length;\n    for (var i = 0; i < js_urls.length; i++) {\n      var url = js_urls[i];\n      var s = document.createElement('script');\n      s.src = url;\n      s.async = false;\n      s.onreadystatechange = s.onload = function() {\n        root._bokeh_is_loading--;\n        if (root._bokeh_is_loading === 0) {\n          console.log(\"Bokeh: all BokehJS libraries loaded\");\n          run_callbacks()\n        }\n      };\n      s.onerror = function() {\n        console.warn(\"failed to load library \" + url);\n      };\n      console.log(\"Bokeh: injecting script tag for BokehJS library: \", url);\n      document.getElementsByTagName(\"head\")[0].appendChild(s);\n    }\n  };var element = document.getElementById(\"a390c47f-10e0-4e58-9dfc-bd71d2e560ba\");\n  if (element == null) {\n    console.log(\"Bokeh: ERROR: autoload.js configured with elementid 'a390c47f-10e0-4e58-9dfc-bd71d2e560ba' but no matching script tag was found. \")\n    return false;\n  }\n\n  var js_urls = [\"https://cdn.pydata.org/bokeh/release/bokeh-0.12.10.min.js\", \"https://cdn.pydata.org/bokeh/release/bokeh-widgets-0.12.10.min.js\", \"https://cdn.pydata.org/bokeh/release/bokeh-tables-0.12.10.min.js\", \"https://cdn.pydata.org/bokeh/release/bokeh-gl-0.12.10.min.js\"];\n\n  var inline_js = [\n    function(Bokeh) {\n      Bokeh.set_log_level(\"info\");\n    },\n    \n    function(Bokeh) {\n      \n    },\n    function(Bokeh) {\n      console.log(\"Bokeh: injecting CSS: https://cdn.pydata.org/bokeh/release/bokeh-0.12.10.min.css\");\n      Bokeh.embed.inject_css(\"https://cdn.pydata.org/bokeh/release/bokeh-0.12.10.min.css\");\n      console.log(\"Bokeh: injecting CSS: https://cdn.pydata.org/bokeh/release/bokeh-widgets-0.12.10.min.css\");\n      Bokeh.embed.inject_css(\"https://cdn.pydata.org/bokeh/release/bokeh-widgets-0.12.10.min.css\");\n      console.log(\"Bokeh: injecting CSS: https://cdn.pydata.org/bokeh/release/bokeh-tables-0.12.10.min.css\");\n      Bokeh.embed.inject_css(\"https://cdn.pydata.org/bokeh/release/bokeh-tables-0.12.10.min.css\");\n    }\n  ];\n\n  function run_inline_js() {\n    \n    if ((root.Bokeh !== undefined) || (force === true)) {\n      for (var i = 0; i < inline_js.length; i++) {\n        inline_js[i].call(root, root.Bokeh);\n      }if (force === true) {\n        display_loaded();\n      }} else if (Date.now() < root._bokeh_timeout) {\n      setTimeout(run_inline_js, 100);\n    } else if (!root._bokeh_failed_load) {\n      console.log(\"Bokeh: BokehJS failed to load within specified timeout.\");\n      root._bokeh_failed_load = true;\n    } else if (force !== true) {\n      var cell = $(document.getElementById(\"a390c47f-10e0-4e58-9dfc-bd71d2e560ba\")).parents('.cell').data().cell;\n      cell.output_area.append_execute_result(NB_LOAD_WARNING)\n    }\n\n  }\n\n  if (root._bokeh_is_loading === 0) {\n    console.log(\"Bokeh: BokehJS loaded, going straight to plotting\");\n    run_inline_js();\n  } else {\n    load_libs(js_urls, function() {\n      console.log(\"Bokeh: BokehJS plotting callback run at\", now());\n      run_inline_js();\n    });\n  }\n}(window));"
     },
     "metadata": {},
     "output_type": "display_data"
    }
   ],
   "source": [
    "output_notebook()"
   ]
  },
  {
   "cell_type": "code",
   "execution_count": 3,
   "metadata": {},
   "outputs": [],
   "source": [
    "# Load in the data\n",
    "data= [(\"John Smith\", 105, 120),\n",
    "       (\"Jane Jones\", 99, 110),\n",
    "       (\"Fred Flintstone\", 109, 125),\n",
    "       (\"Barney Rubble\", 135, 123),\n",
    "       (\"Mr T\", 45, 105)]\n",
    "\n",
    "limits = [0, 20, 60, 100, 160]\n",
    "labels = [\"Poor\", \"OK\", \"Good\", \"Excellent\"]\n",
    "cats = [x[0] for x in data]"
   ]
  },
  {
   "cell_type": "code",
   "execution_count": 4,
   "metadata": {},
   "outputs": [],
   "source": [
    "# Create the base figure\n",
    "p=figure(title=\"Sales Rep Performance\", plot_height=350, plot_width=800, y_range=cats)\n",
    "p.x_range.range_padding = 0\n",
    "p.grid.grid_line_color = None\n",
    "p.xaxis[0].ticker.num_minor_ticks = 0"
   ]
  },
  {
   "cell_type": "code",
   "execution_count": 5,
   "metadata": {},
   "outputs": [
    {
     "name": "stdout",
     "output_type": "stream",
     "text": [
      "[(0, 20, '#f1eef6'), (20, 60, '#bdc9e1'), (60, 100, '#74a9cf'), (100, 160, '#0570b0')]\n"
     ]
    }
   ],
   "source": [
    "# Here's the format of the data we need\n",
    "print(list(zip(limits[:-1], limits[1:], PuBu4[::-1])))"
   ]
  },
  {
   "cell_type": "code",
   "execution_count": 6,
   "metadata": {},
   "outputs": [],
   "source": [
    "for left, right, color in zip(limits[:-1], limits[1:], PuBu4[::-1]):\n",
    "    p.hbar(y=cats, left=left, right=right, height=0.8, color=color)"
   ]
  },
  {
   "cell_type": "code",
   "execution_count": 7,
   "metadata": {},
   "outputs": [
    {
     "data": {
      "text/html": [
       "\n",
       "<div class=\"bk-root\">\n",
       "    <div class=\"bk-plotdiv\" id=\"e912efec-2f32-48be-ab47-688c96f8f8c3\"></div>\n",
       "</div>"
      ]
     },
     "metadata": {},
     "output_type": "display_data"
    },
    {
     "data": {
      "application/javascript": [
       "(function(root) {\n",
       "  function embed_document(root) {\n",
       "    var docs_json = {\"ba534706-6de8-4fe6-91a7-d97e8a7e1361\":{\"roots\":{\"references\":[{\"attributes\":{\"num_minor_ticks\":0},\"id\":\"93ded0c9-c1f0-49f2-82ee-65eec1c7efff\",\"type\":\"BasicTicker\"},{\"attributes\":{\"source\":{\"id\":\"4160fbdb-578a-4870-94dc-d50b991aad92\",\"type\":\"ColumnDataSource\"}},\"id\":\"2b2bcb90-0ffd-462d-b447-2e9de9323acd\",\"type\":\"CDSView\"},{\"attributes\":{},\"id\":\"a728ac38-b842-43d0-b5cd-39e4b45efe80\",\"type\":\"WheelZoomTool\"},{\"attributes\":{\"overlay\":{\"id\":\"8296a01c-ec1e-42c1-a961-72b3d9ab0652\",\"type\":\"BoxAnnotation\"}},\"id\":\"dfb28d64-a44f-4702-88e2-1d1a06a1277d\",\"type\":\"BoxZoomTool\"},{\"attributes\":{},\"id\":\"4a5b15ba-7fcd-4f95-a48d-8cc7dddedc7b\",\"type\":\"LinearScale\"},{\"attributes\":{},\"id\":\"ba92565f-1ccb-46fa-bd9e-92f921364595\",\"type\":\"SaveTool\"},{\"attributes\":{\"callback\":null,\"column_names\":[\"y\"],\"data\":{\"y\":[\"John Smith\",\"Jane Jones\",\"Fred Flintstone\",\"Barney Rubble\",\"Mr T\"]}},\"id\":\"fd2dd0f2-1bb8-4f95-8676-c1ca884cb227\",\"type\":\"ColumnDataSource\"},{\"attributes\":{},\"id\":\"0a99b393-5e05-4257-853e-4946147d8551\",\"type\":\"PanTool\"},{\"attributes\":{},\"id\":\"9d927a83-a003-4502-a81f-7eaf04d23b5d\",\"type\":\"ResetTool\"},{\"attributes\":{},\"id\":\"c120a529-df2f-4baa-8a48-f445c1f6c5c3\",\"type\":\"CategoricalScale\"},{\"attributes\":{},\"id\":\"3c91d880-8f27-4337-9db3-7de27b13d237\",\"type\":\"HelpTool\"},{\"attributes\":{\"fill_color\":{\"value\":\"#f1eef6\"},\"height\":{\"value\":0.8},\"line_color\":{\"value\":\"#f1eef6\"},\"right\":{\"value\":20},\"y\":{\"field\":\"y\"}},\"id\":\"c55d899c-7640-4d5e-b60f-f4c083d7d19e\",\"type\":\"HBar\"},{\"attributes\":{\"fill_alpha\":{\"value\":0.1},\"fill_color\":{\"value\":\"#1f77b4\"},\"height\":{\"value\":0.8},\"line_alpha\":{\"value\":0.1},\"line_color\":{\"value\":\"#1f77b4\"},\"right\":{\"value\":20},\"y\":{\"field\":\"y\"}},\"id\":\"3ec99077-8cee-48e5-a7d5-7f6a12734ae5\",\"type\":\"HBar\"},{\"attributes\":{\"below\":[{\"id\":\"4c007bc3-19e7-4f6c-8878-27f3dd51ca72\",\"type\":\"LinearAxis\"}],\"left\":[{\"id\":\"93b58bfb-7d77-4359-a2e3-576a822a06dc\",\"type\":\"CategoricalAxis\"}],\"plot_height\":350,\"plot_width\":800,\"renderers\":[{\"id\":\"4c007bc3-19e7-4f6c-8878-27f3dd51ca72\",\"type\":\"LinearAxis\"},{\"id\":\"a21e02c1-97c3-4cef-8a18-0f1a95fe1235\",\"type\":\"Grid\"},{\"id\":\"93b58bfb-7d77-4359-a2e3-576a822a06dc\",\"type\":\"CategoricalAxis\"},{\"id\":\"671ca1d8-f9b4-4608-89ac-dd5252390cb8\",\"type\":\"Grid\"},{\"id\":\"8296a01c-ec1e-42c1-a961-72b3d9ab0652\",\"type\":\"BoxAnnotation\"},{\"id\":\"c903b10d-4ccd-4e78-9cdd-7b35516f4cfd\",\"type\":\"GlyphRenderer\"},{\"id\":\"1f503315-7254-4703-bcc9-ea84a5c55fb9\",\"type\":\"GlyphRenderer\"},{\"id\":\"76d26094-1bbf-46dc-8ea3-13209f54f994\",\"type\":\"GlyphRenderer\"},{\"id\":\"4fe20e5f-5a03-485e-8d3a-29f7eb5c11f1\",\"type\":\"GlyphRenderer\"}],\"title\":{\"id\":\"7df0284c-bd60-40b9-aa23-880108cb4cd4\",\"type\":\"Title\"},\"toolbar\":{\"id\":\"eed3741e-24cc-439e-adec-de8fe61b4a0e\",\"type\":\"Toolbar\"},\"x_range\":{\"id\":\"66c3d4db-2b32-47e1-af82-0374025b0e66\",\"type\":\"DataRange1d\"},\"x_scale\":{\"id\":\"4a5b15ba-7fcd-4f95-a48d-8cc7dddedc7b\",\"type\":\"LinearScale\"},\"y_range\":{\"id\":\"7d842b6d-5d42-4b92-a5ac-5648d4d0b9f3\",\"type\":\"FactorRange\"},\"y_scale\":{\"id\":\"c120a529-df2f-4baa-8a48-f445c1f6c5c3\",\"type\":\"CategoricalScale\"}},\"id\":\"0ef88e1c-018c-4834-8709-8312e8b107a6\",\"subtype\":\"Figure\",\"type\":\"Plot\"},{\"attributes\":{\"fill_alpha\":{\"value\":0.1},\"fill_color\":{\"value\":\"#1f77b4\"},\"height\":{\"value\":0.8},\"left\":{\"value\":20},\"line_alpha\":{\"value\":0.1},\"line_color\":{\"value\":\"#1f77b4\"},\"right\":{\"value\":60},\"y\":{\"field\":\"y\"}},\"id\":\"ced5055a-d183-4122-993d-e8fc28a92399\",\"type\":\"HBar\"},{\"attributes\":{\"callback\":null,\"column_names\":[\"y\"],\"data\":{\"y\":[\"John Smith\",\"Jane Jones\",\"Fred Flintstone\",\"Barney Rubble\",\"Mr T\"]}},\"id\":\"c2a98c9f-c709-48b7-8362-6bf44665219c\",\"type\":\"ColumnDataSource\"},{\"attributes\":{\"callback\":null,\"column_names\":[\"y\"],\"data\":{\"y\":[\"John Smith\",\"Jane Jones\",\"Fred Flintstone\",\"Barney Rubble\",\"Mr T\"]}},\"id\":\"92856b50-3b1e-4e82-9652-ebbc1f5f26b1\",\"type\":\"ColumnDataSource\"},{\"attributes\":{\"data_source\":{\"id\":\"fd2dd0f2-1bb8-4f95-8676-c1ca884cb227\",\"type\":\"ColumnDataSource\"},\"glyph\":{\"id\":\"d4704184-3d2e-4e2f-8ea2-7b469ffea67c\",\"type\":\"HBar\"},\"hover_glyph\":null,\"muted_glyph\":null,\"nonselection_glyph\":{\"id\":\"ced5055a-d183-4122-993d-e8fc28a92399\",\"type\":\"HBar\"},\"selection_glyph\":null,\"view\":{\"id\":\"3014bfa1-90b3-446f-b7c4-2519d14bcd51\",\"type\":\"CDSView\"}},\"id\":\"1f503315-7254-4703-bcc9-ea84a5c55fb9\",\"type\":\"GlyphRenderer\"},{\"attributes\":{},\"id\":\"c403efc3-45de-4e34-9741-5a823e83f507\",\"type\":\"BasicTickFormatter\"},{\"attributes\":{},\"id\":\"b8581317-2810-4654-be41-462ad9d7c745\",\"type\":\"CategoricalTickFormatter\"},{\"attributes\":{\"bottom_units\":\"screen\",\"fill_alpha\":{\"value\":0.5},\"fill_color\":{\"value\":\"lightgrey\"},\"left_units\":\"screen\",\"level\":\"overlay\",\"line_alpha\":{\"value\":1.0},\"line_color\":{\"value\":\"black\"},\"line_dash\":[4,4],\"line_width\":{\"value\":2},\"plot\":null,\"render_mode\":\"css\",\"right_units\":\"screen\",\"top_units\":\"screen\"},\"id\":\"8296a01c-ec1e-42c1-a961-72b3d9ab0652\",\"type\":\"BoxAnnotation\"},{\"attributes\":{\"data_source\":{\"id\":\"c2a98c9f-c709-48b7-8362-6bf44665219c\",\"type\":\"ColumnDataSource\"},\"glyph\":{\"id\":\"c55d899c-7640-4d5e-b60f-f4c083d7d19e\",\"type\":\"HBar\"},\"hover_glyph\":null,\"muted_glyph\":null,\"nonselection_glyph\":{\"id\":\"3ec99077-8cee-48e5-a7d5-7f6a12734ae5\",\"type\":\"HBar\"},\"selection_glyph\":null,\"view\":{\"id\":\"b1dc0797-e79e-4e0a-ab85-6870e8c7fc8c\",\"type\":\"CDSView\"}},\"id\":\"c903b10d-4ccd-4e78-9cdd-7b35516f4cfd\",\"type\":\"GlyphRenderer\"},{\"attributes\":{\"plot\":null,\"text\":\"Sales Rep Performance\"},\"id\":\"7df0284c-bd60-40b9-aa23-880108cb4cd4\",\"type\":\"Title\"},{\"attributes\":{\"callback\":null,\"range_padding\":0},\"id\":\"66c3d4db-2b32-47e1-af82-0374025b0e66\",\"type\":\"DataRange1d\"},{\"attributes\":{\"fill_color\":{\"value\":\"#bdc9e1\"},\"height\":{\"value\":0.8},\"left\":{\"value\":20},\"line_color\":{\"value\":\"#bdc9e1\"},\"right\":{\"value\":60},\"y\":{\"field\":\"y\"}},\"id\":\"d4704184-3d2e-4e2f-8ea2-7b469ffea67c\",\"type\":\"HBar\"},{\"attributes\":{\"active_drag\":\"auto\",\"active_inspect\":\"auto\",\"active_scroll\":\"auto\",\"active_tap\":\"auto\",\"tools\":[{\"id\":\"0a99b393-5e05-4257-853e-4946147d8551\",\"type\":\"PanTool\"},{\"id\":\"a728ac38-b842-43d0-b5cd-39e4b45efe80\",\"type\":\"WheelZoomTool\"},{\"id\":\"dfb28d64-a44f-4702-88e2-1d1a06a1277d\",\"type\":\"BoxZoomTool\"},{\"id\":\"ba92565f-1ccb-46fa-bd9e-92f921364595\",\"type\":\"SaveTool\"},{\"id\":\"9d927a83-a003-4502-a81f-7eaf04d23b5d\",\"type\":\"ResetTool\"},{\"id\":\"3c91d880-8f27-4337-9db3-7de27b13d237\",\"type\":\"HelpTool\"}]},\"id\":\"eed3741e-24cc-439e-adec-de8fe61b4a0e\",\"type\":\"Toolbar\"},{\"attributes\":{\"source\":{\"id\":\"c2a98c9f-c709-48b7-8362-6bf44665219c\",\"type\":\"ColumnDataSource\"}},\"id\":\"b1dc0797-e79e-4e0a-ab85-6870e8c7fc8c\",\"type\":\"CDSView\"},{\"attributes\":{\"data_source\":{\"id\":\"4160fbdb-578a-4870-94dc-d50b991aad92\",\"type\":\"ColumnDataSource\"},\"glyph\":{\"id\":\"5ee8728a-2236-4891-b72d-4abfa65dccbd\",\"type\":\"HBar\"},\"hover_glyph\":null,\"muted_glyph\":null,\"nonselection_glyph\":{\"id\":\"a7f4f6c7-33a2-421b-b9d1-d4126ea066ef\",\"type\":\"HBar\"},\"selection_glyph\":null,\"view\":{\"id\":\"2b2bcb90-0ffd-462d-b447-2e9de9323acd\",\"type\":\"CDSView\"}},\"id\":\"4fe20e5f-5a03-485e-8d3a-29f7eb5c11f1\",\"type\":\"GlyphRenderer\"},{\"attributes\":{\"fill_alpha\":{\"value\":0.1},\"fill_color\":{\"value\":\"#1f77b4\"},\"height\":{\"value\":0.8},\"left\":{\"value\":100},\"line_alpha\":{\"value\":0.1},\"line_color\":{\"value\":\"#1f77b4\"},\"right\":{\"value\":160},\"y\":{\"field\":\"y\"}},\"id\":\"a7f4f6c7-33a2-421b-b9d1-d4126ea066ef\",\"type\":\"HBar\"},{\"attributes\":{\"fill_color\":{\"value\":\"#74a9cf\"},\"height\":{\"value\":0.8},\"left\":{\"value\":60},\"line_color\":{\"value\":\"#74a9cf\"},\"right\":{\"value\":100},\"y\":{\"field\":\"y\"}},\"id\":\"a2a28dd3-08d0-4505-aa79-f28e26cab0c7\",\"type\":\"HBar\"},{\"attributes\":{\"callback\":null,\"factors\":[\"John Smith\",\"Jane Jones\",\"Fred Flintstone\",\"Barney Rubble\",\"Mr T\"]},\"id\":\"7d842b6d-5d42-4b92-a5ac-5648d4d0b9f3\",\"type\":\"FactorRange\"},{\"attributes\":{\"fill_color\":{\"value\":\"#0570b0\"},\"height\":{\"value\":0.8},\"left\":{\"value\":100},\"line_color\":{\"value\":\"#0570b0\"},\"right\":{\"value\":160},\"y\":{\"field\":\"y\"}},\"id\":\"5ee8728a-2236-4891-b72d-4abfa65dccbd\",\"type\":\"HBar\"},{\"attributes\":{\"formatter\":{\"id\":\"b8581317-2810-4654-be41-462ad9d7c745\",\"type\":\"CategoricalTickFormatter\"},\"plot\":{\"id\":\"0ef88e1c-018c-4834-8709-8312e8b107a6\",\"subtype\":\"Figure\",\"type\":\"Plot\"},\"ticker\":{\"id\":\"9175cea8-61c3-46e1-a855-fd74db632584\",\"type\":\"CategoricalTicker\"}},\"id\":\"93b58bfb-7d77-4359-a2e3-576a822a06dc\",\"type\":\"CategoricalAxis\"},{\"attributes\":{\"callback\":null,\"column_names\":[\"y\"],\"data\":{\"y\":[\"John Smith\",\"Jane Jones\",\"Fred Flintstone\",\"Barney Rubble\",\"Mr T\"]}},\"id\":\"4160fbdb-578a-4870-94dc-d50b991aad92\",\"type\":\"ColumnDataSource\"},{\"attributes\":{\"source\":{\"id\":\"fd2dd0f2-1bb8-4f95-8676-c1ca884cb227\",\"type\":\"ColumnDataSource\"}},\"id\":\"3014bfa1-90b3-446f-b7c4-2519d14bcd51\",\"type\":\"CDSView\"},{\"attributes\":{},\"id\":\"9175cea8-61c3-46e1-a855-fd74db632584\",\"type\":\"CategoricalTicker\"},{\"attributes\":{\"source\":{\"id\":\"92856b50-3b1e-4e82-9652-ebbc1f5f26b1\",\"type\":\"ColumnDataSource\"}},\"id\":\"8a24afb7-9783-40b5-aa60-db1c4474b834\",\"type\":\"CDSView\"},{\"attributes\":{\"dimension\":1,\"grid_line_color\":{\"value\":null},\"plot\":{\"id\":\"0ef88e1c-018c-4834-8709-8312e8b107a6\",\"subtype\":\"Figure\",\"type\":\"Plot\"},\"ticker\":{\"id\":\"9175cea8-61c3-46e1-a855-fd74db632584\",\"type\":\"CategoricalTicker\"}},\"id\":\"671ca1d8-f9b4-4608-89ac-dd5252390cb8\",\"type\":\"Grid\"},{\"attributes\":{\"fill_alpha\":{\"value\":0.1},\"fill_color\":{\"value\":\"#1f77b4\"},\"height\":{\"value\":0.8},\"left\":{\"value\":60},\"line_alpha\":{\"value\":0.1},\"line_color\":{\"value\":\"#1f77b4\"},\"right\":{\"value\":100},\"y\":{\"field\":\"y\"}},\"id\":\"0a6b1c85-3eb6-4209-99c2-04fd3e1eb042\",\"type\":\"HBar\"},{\"attributes\":{\"formatter\":{\"id\":\"c403efc3-45de-4e34-9741-5a823e83f507\",\"type\":\"BasicTickFormatter\"},\"plot\":{\"id\":\"0ef88e1c-018c-4834-8709-8312e8b107a6\",\"subtype\":\"Figure\",\"type\":\"Plot\"},\"ticker\":{\"id\":\"93ded0c9-c1f0-49f2-82ee-65eec1c7efff\",\"type\":\"BasicTicker\"}},\"id\":\"4c007bc3-19e7-4f6c-8878-27f3dd51ca72\",\"type\":\"LinearAxis\"},{\"attributes\":{\"data_source\":{\"id\":\"92856b50-3b1e-4e82-9652-ebbc1f5f26b1\",\"type\":\"ColumnDataSource\"},\"glyph\":{\"id\":\"a2a28dd3-08d0-4505-aa79-f28e26cab0c7\",\"type\":\"HBar\"},\"hover_glyph\":null,\"muted_glyph\":null,\"nonselection_glyph\":{\"id\":\"0a6b1c85-3eb6-4209-99c2-04fd3e1eb042\",\"type\":\"HBar\"},\"selection_glyph\":null,\"view\":{\"id\":\"8a24afb7-9783-40b5-aa60-db1c4474b834\",\"type\":\"CDSView\"}},\"id\":\"76d26094-1bbf-46dc-8ea3-13209f54f994\",\"type\":\"GlyphRenderer\"},{\"attributes\":{\"grid_line_color\":{\"value\":null},\"plot\":{\"id\":\"0ef88e1c-018c-4834-8709-8312e8b107a6\",\"subtype\":\"Figure\",\"type\":\"Plot\"},\"ticker\":{\"id\":\"93ded0c9-c1f0-49f2-82ee-65eec1c7efff\",\"type\":\"BasicTicker\"}},\"id\":\"a21e02c1-97c3-4cef-8a18-0f1a95fe1235\",\"type\":\"Grid\"}],\"root_ids\":[\"0ef88e1c-018c-4834-8709-8312e8b107a6\"]},\"title\":\"Bokeh Application\",\"version\":\"0.12.10\"}};\n",
       "    var render_items = [{\"docid\":\"ba534706-6de8-4fe6-91a7-d97e8a7e1361\",\"elementid\":\"e912efec-2f32-48be-ab47-688c96f8f8c3\",\"modelid\":\"0ef88e1c-018c-4834-8709-8312e8b107a6\"}];\n",
       "\n",
       "    root.Bokeh.embed.embed_items(docs_json, render_items);\n",
       "  }\n",
       "\n",
       "  if (root.Bokeh !== undefined) {\n",
       "    embed_document(root);\n",
       "  } else {\n",
       "    var attempts = 0;\n",
       "    var timer = setInterval(function(root) {\n",
       "      if (root.Bokeh !== undefined) {\n",
       "        embed_document(root);\n",
       "        clearInterval(timer);\n",
       "      }\n",
       "      attempts++;\n",
       "      if (attempts > 100) {\n",
       "        console.log(\"Bokeh: ERROR: Unable to embed document because BokehJS library is missing\")\n",
       "        clearInterval(timer);\n",
       "      }\n",
       "    }, 10, root)\n",
       "  }\n",
       "})(window);"
      ],
      "application/vnd.bokehjs_exec.v0+json": ""
     },
     "metadata": {
      "application/vnd.bokehjs_exec.v0+json": {
       "id": "0ef88e1c-018c-4834-8709-8312e8b107a6"
      }
     },
     "output_type": "display_data"
    }
   ],
   "source": [
    "show(p)"
   ]
  },
  {
   "cell_type": "code",
   "execution_count": 8,
   "metadata": {},
   "outputs": [
    {
     "data": {
      "text/html": [
       "<div style=\"display: table;\"><div style=\"display: table-row;\"><div style=\"display: table-cell;\"><b title=\"bokeh.models.renderers.GlyphRenderer\">GlyphRenderer</b>(</div><div style=\"display: table-cell;\">id&nbsp;=&nbsp;'e93f5798-f4ae-446b-9f3c-942c68bace00', <span id=\"d67dd6aa-6554-4120-82ae-aa40e0b15eab\" style=\"cursor: pointer;\">&hellip;)</span></div></div><div class=\"b4f46ab0-2a50-471a-9c4e-838f581cb27a\" style=\"display: none;\"><div style=\"display: table-cell;\"></div><div style=\"display: table-cell;\">data_source&nbsp;=&nbsp;ColumnDataSource(id='085e412b-1aaf-43c8-b6e0-139f49f5ffcd', ...),</div></div><div class=\"b4f46ab0-2a50-471a-9c4e-838f581cb27a\" style=\"display: none;\"><div style=\"display: table-cell;\"></div><div style=\"display: table-cell;\">glyph&nbsp;=&nbsp;HBar(id='b92bf553-b73d-48df-a5d1-94c943c7e233', ...),</div></div><div class=\"b4f46ab0-2a50-471a-9c4e-838f581cb27a\" style=\"display: none;\"><div style=\"display: table-cell;\"></div><div style=\"display: table-cell;\">hover_glyph&nbsp;=&nbsp;None,</div></div><div class=\"b4f46ab0-2a50-471a-9c4e-838f581cb27a\" style=\"display: none;\"><div style=\"display: table-cell;\"></div><div style=\"display: table-cell;\">js_event_callbacks&nbsp;=&nbsp;{},</div></div><div class=\"b4f46ab0-2a50-471a-9c4e-838f581cb27a\" style=\"display: none;\"><div style=\"display: table-cell;\"></div><div style=\"display: table-cell;\">js_property_callbacks&nbsp;=&nbsp;{},</div></div><div class=\"b4f46ab0-2a50-471a-9c4e-838f581cb27a\" style=\"display: none;\"><div style=\"display: table-cell;\"></div><div style=\"display: table-cell;\">level&nbsp;=&nbsp;'glyph',</div></div><div class=\"b4f46ab0-2a50-471a-9c4e-838f581cb27a\" style=\"display: none;\"><div style=\"display: table-cell;\"></div><div style=\"display: table-cell;\">muted&nbsp;=&nbsp;False,</div></div><div class=\"b4f46ab0-2a50-471a-9c4e-838f581cb27a\" style=\"display: none;\"><div style=\"display: table-cell;\"></div><div style=\"display: table-cell;\">muted_glyph&nbsp;=&nbsp;None,</div></div><div class=\"b4f46ab0-2a50-471a-9c4e-838f581cb27a\" style=\"display: none;\"><div style=\"display: table-cell;\"></div><div style=\"display: table-cell;\">name&nbsp;=&nbsp;None,</div></div><div class=\"b4f46ab0-2a50-471a-9c4e-838f581cb27a\" style=\"display: none;\"><div style=\"display: table-cell;\"></div><div style=\"display: table-cell;\">nonselection_glyph&nbsp;=&nbsp;HBar(id='927bb98f-15be-42aa-8e52-62b3154cc5a7', ...),</div></div><div class=\"b4f46ab0-2a50-471a-9c4e-838f581cb27a\" style=\"display: none;\"><div style=\"display: table-cell;\"></div><div style=\"display: table-cell;\">selection_glyph&nbsp;=&nbsp;None,</div></div><div class=\"b4f46ab0-2a50-471a-9c4e-838f581cb27a\" style=\"display: none;\"><div style=\"display: table-cell;\"></div><div style=\"display: table-cell;\">subscribed_events&nbsp;=&nbsp;[],</div></div><div class=\"b4f46ab0-2a50-471a-9c4e-838f581cb27a\" style=\"display: none;\"><div style=\"display: table-cell;\"></div><div style=\"display: table-cell;\">tags&nbsp;=&nbsp;[],</div></div><div class=\"b4f46ab0-2a50-471a-9c4e-838f581cb27a\" style=\"display: none;\"><div style=\"display: table-cell;\"></div><div style=\"display: table-cell;\">view&nbsp;=&nbsp;CDSView(id='729fdab5-46e1-493f-971e-2aa7d7432c5f', ...),</div></div><div class=\"b4f46ab0-2a50-471a-9c4e-838f581cb27a\" style=\"display: none;\"><div style=\"display: table-cell;\"></div><div style=\"display: table-cell;\">visible&nbsp;=&nbsp;True,</div></div><div class=\"b4f46ab0-2a50-471a-9c4e-838f581cb27a\" style=\"display: none;\"><div style=\"display: table-cell;\"></div><div style=\"display: table-cell;\">x_range_name&nbsp;=&nbsp;'default',</div></div><div class=\"b4f46ab0-2a50-471a-9c4e-838f581cb27a\" style=\"display: none;\"><div style=\"display: table-cell;\"></div><div style=\"display: table-cell;\">y_range_name&nbsp;=&nbsp;'default')</div></div></div>\n",
       "<script>\n",
       "(function() {\n",
       "  var expanded = false;\n",
       "  var ellipsis = document.getElementById(\"d67dd6aa-6554-4120-82ae-aa40e0b15eab\");\n",
       "  ellipsis.addEventListener(\"click\", function() {\n",
       "    var rows = document.getElementsByClassName(\"b4f46ab0-2a50-471a-9c4e-838f581cb27a\");\n",
       "    for (var i = 0; i < rows.length; i++) {\n",
       "      var el = rows[i];\n",
       "      el.style.display = expanded ? \"none\" : \"table-row\";\n",
       "    }\n",
       "    ellipsis.innerHTML = expanded ? \"&hellip;)\" : \"&lsaquo;&lsaquo;&lsaquo;\";\n",
       "    expanded = !expanded;\n",
       "  });\n",
       "})();\n",
       "</script>\n"
      ],
      "text/plain": [
       "GlyphRenderer(id='e93f5798-f4ae-446b-9f3c-942c68bace00', ...)"
      ]
     },
     "execution_count": 8,
     "metadata": {},
     "output_type": "execute_result"
    }
   ],
   "source": [
    "# Now add the black bars for the actual performance\n",
    "perf = [x[1] for x in data]\n",
    "p.hbar(y=cats, left=0, right=perf, height=0.3, color=\"black\")"
   ]
  },
  {
   "cell_type": "code",
   "execution_count": 9,
   "metadata": {},
   "outputs": [
    {
     "data": {
      "text/html": [
       "\n",
       "<div class=\"bk-root\">\n",
       "    <div class=\"bk-plotdiv\" id=\"0159ae65-dfd1-4490-86fc-2f1cfb53211d\"></div>\n",
       "</div>"
      ]
     },
     "metadata": {},
     "output_type": "display_data"
    },
    {
     "data": {
      "application/javascript": [
       "(function(root) {\n",
       "  function embed_document(root) {\n",
       "    var docs_json = {\"2396372b-11fc-4d28-9539-dd67f7b4fbfe\":{\"roots\":{\"references\":[{\"attributes\":{\"num_minor_ticks\":0},\"id\":\"93ded0c9-c1f0-49f2-82ee-65eec1c7efff\",\"type\":\"BasicTicker\"},{\"attributes\":{\"source\":{\"id\":\"4160fbdb-578a-4870-94dc-d50b991aad92\",\"type\":\"ColumnDataSource\"}},\"id\":\"2b2bcb90-0ffd-462d-b447-2e9de9323acd\",\"type\":\"CDSView\"},{\"attributes\":{},\"id\":\"a728ac38-b842-43d0-b5cd-39e4b45efe80\",\"type\":\"WheelZoomTool\"},{\"attributes\":{\"overlay\":{\"id\":\"8296a01c-ec1e-42c1-a961-72b3d9ab0652\",\"type\":\"BoxAnnotation\"}},\"id\":\"dfb28d64-a44f-4702-88e2-1d1a06a1277d\",\"type\":\"BoxZoomTool\"},{\"attributes\":{\"fill_color\":{\"value\":\"black\"},\"height\":{\"value\":0.3},\"right\":{\"field\":\"right\"},\"y\":{\"field\":\"y\"}},\"id\":\"b92bf553-b73d-48df-a5d1-94c943c7e233\",\"type\":\"HBar\"},{\"attributes\":{},\"id\":\"4a5b15ba-7fcd-4f95-a48d-8cc7dddedc7b\",\"type\":\"LinearScale\"},{\"attributes\":{},\"id\":\"ba92565f-1ccb-46fa-bd9e-92f921364595\",\"type\":\"SaveTool\"},{\"attributes\":{\"callback\":null,\"column_names\":[\"y\"],\"data\":{\"y\":[\"John Smith\",\"Jane Jones\",\"Fred Flintstone\",\"Barney Rubble\",\"Mr T\"]}},\"id\":\"fd2dd0f2-1bb8-4f95-8676-c1ca884cb227\",\"type\":\"ColumnDataSource\"},{\"attributes\":{},\"id\":\"0a99b393-5e05-4257-853e-4946147d8551\",\"type\":\"PanTool\"},{\"attributes\":{},\"id\":\"9d927a83-a003-4502-a81f-7eaf04d23b5d\",\"type\":\"ResetTool\"},{\"attributes\":{},\"id\":\"c120a529-df2f-4baa-8a48-f445c1f6c5c3\",\"type\":\"CategoricalScale\"},{\"attributes\":{},\"id\":\"3c91d880-8f27-4337-9db3-7de27b13d237\",\"type\":\"HelpTool\"},{\"attributes\":{\"fill_color\":{\"value\":\"#f1eef6\"},\"height\":{\"value\":0.8},\"line_color\":{\"value\":\"#f1eef6\"},\"right\":{\"value\":20},\"y\":{\"field\":\"y\"}},\"id\":\"c55d899c-7640-4d5e-b60f-f4c083d7d19e\",\"type\":\"HBar\"},{\"attributes\":{\"fill_alpha\":{\"value\":0.1},\"fill_color\":{\"value\":\"#1f77b4\"},\"height\":{\"value\":0.8},\"line_alpha\":{\"value\":0.1},\"line_color\":{\"value\":\"#1f77b4\"},\"right\":{\"value\":20},\"y\":{\"field\":\"y\"}},\"id\":\"3ec99077-8cee-48e5-a7d5-7f6a12734ae5\",\"type\":\"HBar\"},{\"attributes\":{\"below\":[{\"id\":\"4c007bc3-19e7-4f6c-8878-27f3dd51ca72\",\"type\":\"LinearAxis\"}],\"left\":[{\"id\":\"93b58bfb-7d77-4359-a2e3-576a822a06dc\",\"type\":\"CategoricalAxis\"}],\"plot_height\":350,\"plot_width\":800,\"renderers\":[{\"id\":\"4c007bc3-19e7-4f6c-8878-27f3dd51ca72\",\"type\":\"LinearAxis\"},{\"id\":\"a21e02c1-97c3-4cef-8a18-0f1a95fe1235\",\"type\":\"Grid\"},{\"id\":\"93b58bfb-7d77-4359-a2e3-576a822a06dc\",\"type\":\"CategoricalAxis\"},{\"id\":\"671ca1d8-f9b4-4608-89ac-dd5252390cb8\",\"type\":\"Grid\"},{\"id\":\"8296a01c-ec1e-42c1-a961-72b3d9ab0652\",\"type\":\"BoxAnnotation\"},{\"id\":\"c903b10d-4ccd-4e78-9cdd-7b35516f4cfd\",\"type\":\"GlyphRenderer\"},{\"id\":\"1f503315-7254-4703-bcc9-ea84a5c55fb9\",\"type\":\"GlyphRenderer\"},{\"id\":\"76d26094-1bbf-46dc-8ea3-13209f54f994\",\"type\":\"GlyphRenderer\"},{\"id\":\"4fe20e5f-5a03-485e-8d3a-29f7eb5c11f1\",\"type\":\"GlyphRenderer\"},{\"id\":\"e93f5798-f4ae-446b-9f3c-942c68bace00\",\"type\":\"GlyphRenderer\"}],\"title\":{\"id\":\"7df0284c-bd60-40b9-aa23-880108cb4cd4\",\"type\":\"Title\"},\"toolbar\":{\"id\":\"eed3741e-24cc-439e-adec-de8fe61b4a0e\",\"type\":\"Toolbar\"},\"x_range\":{\"id\":\"66c3d4db-2b32-47e1-af82-0374025b0e66\",\"type\":\"DataRange1d\"},\"x_scale\":{\"id\":\"4a5b15ba-7fcd-4f95-a48d-8cc7dddedc7b\",\"type\":\"LinearScale\"},\"y_range\":{\"id\":\"7d842b6d-5d42-4b92-a5ac-5648d4d0b9f3\",\"type\":\"FactorRange\"},\"y_scale\":{\"id\":\"c120a529-df2f-4baa-8a48-f445c1f6c5c3\",\"type\":\"CategoricalScale\"}},\"id\":\"0ef88e1c-018c-4834-8709-8312e8b107a6\",\"subtype\":\"Figure\",\"type\":\"Plot\"},{\"attributes\":{\"fill_alpha\":{\"value\":0.1},\"fill_color\":{\"value\":\"#1f77b4\"},\"height\":{\"value\":0.8},\"left\":{\"value\":20},\"line_alpha\":{\"value\":0.1},\"line_color\":{\"value\":\"#1f77b4\"},\"right\":{\"value\":60},\"y\":{\"field\":\"y\"}},\"id\":\"ced5055a-d183-4122-993d-e8fc28a92399\",\"type\":\"HBar\"},{\"attributes\":{\"data_source\":{\"id\":\"085e412b-1aaf-43c8-b6e0-139f49f5ffcd\",\"type\":\"ColumnDataSource\"},\"glyph\":{\"id\":\"b92bf553-b73d-48df-a5d1-94c943c7e233\",\"type\":\"HBar\"},\"hover_glyph\":null,\"muted_glyph\":null,\"nonselection_glyph\":{\"id\":\"927bb98f-15be-42aa-8e52-62b3154cc5a7\",\"type\":\"HBar\"},\"selection_glyph\":null,\"view\":{\"id\":\"729fdab5-46e1-493f-971e-2aa7d7432c5f\",\"type\":\"CDSView\"}},\"id\":\"e93f5798-f4ae-446b-9f3c-942c68bace00\",\"type\":\"GlyphRenderer\"},{\"attributes\":{\"callback\":null,\"column_names\":[\"y\"],\"data\":{\"y\":[\"John Smith\",\"Jane Jones\",\"Fred Flintstone\",\"Barney Rubble\",\"Mr T\"]}},\"id\":\"c2a98c9f-c709-48b7-8362-6bf44665219c\",\"type\":\"ColumnDataSource\"},{\"attributes\":{\"callback\":null,\"column_names\":[\"y\"],\"data\":{\"y\":[\"John Smith\",\"Jane Jones\",\"Fred Flintstone\",\"Barney Rubble\",\"Mr T\"]}},\"id\":\"92856b50-3b1e-4e82-9652-ebbc1f5f26b1\",\"type\":\"ColumnDataSource\"},{\"attributes\":{\"data_source\":{\"id\":\"fd2dd0f2-1bb8-4f95-8676-c1ca884cb227\",\"type\":\"ColumnDataSource\"},\"glyph\":{\"id\":\"d4704184-3d2e-4e2f-8ea2-7b469ffea67c\",\"type\":\"HBar\"},\"hover_glyph\":null,\"muted_glyph\":null,\"nonselection_glyph\":{\"id\":\"ced5055a-d183-4122-993d-e8fc28a92399\",\"type\":\"HBar\"},\"selection_glyph\":null,\"view\":{\"id\":\"3014bfa1-90b3-446f-b7c4-2519d14bcd51\",\"type\":\"CDSView\"}},\"id\":\"1f503315-7254-4703-bcc9-ea84a5c55fb9\",\"type\":\"GlyphRenderer\"},{\"attributes\":{\"fill_alpha\":{\"value\":0.1},\"fill_color\":{\"value\":\"#1f77b4\"},\"height\":{\"value\":0.3},\"line_alpha\":{\"value\":0.1},\"line_color\":{\"value\":\"#1f77b4\"},\"right\":{\"field\":\"right\"},\"y\":{\"field\":\"y\"}},\"id\":\"927bb98f-15be-42aa-8e52-62b3154cc5a7\",\"type\":\"HBar\"},{\"attributes\":{},\"id\":\"c403efc3-45de-4e34-9741-5a823e83f507\",\"type\":\"BasicTickFormatter\"},{\"attributes\":{},\"id\":\"b8581317-2810-4654-be41-462ad9d7c745\",\"type\":\"CategoricalTickFormatter\"},{\"attributes\":{\"bottom_units\":\"screen\",\"fill_alpha\":{\"value\":0.5},\"fill_color\":{\"value\":\"lightgrey\"},\"left_units\":\"screen\",\"level\":\"overlay\",\"line_alpha\":{\"value\":1.0},\"line_color\":{\"value\":\"black\"},\"line_dash\":[4,4],\"line_width\":{\"value\":2},\"plot\":null,\"render_mode\":\"css\",\"right_units\":\"screen\",\"top_units\":\"screen\"},\"id\":\"8296a01c-ec1e-42c1-a961-72b3d9ab0652\",\"type\":\"BoxAnnotation\"},{\"attributes\":{\"data_source\":{\"id\":\"c2a98c9f-c709-48b7-8362-6bf44665219c\",\"type\":\"ColumnDataSource\"},\"glyph\":{\"id\":\"c55d899c-7640-4d5e-b60f-f4c083d7d19e\",\"type\":\"HBar\"},\"hover_glyph\":null,\"muted_glyph\":null,\"nonselection_glyph\":{\"id\":\"3ec99077-8cee-48e5-a7d5-7f6a12734ae5\",\"type\":\"HBar\"},\"selection_glyph\":null,\"view\":{\"id\":\"b1dc0797-e79e-4e0a-ab85-6870e8c7fc8c\",\"type\":\"CDSView\"}},\"id\":\"c903b10d-4ccd-4e78-9cdd-7b35516f4cfd\",\"type\":\"GlyphRenderer\"},{\"attributes\":{\"plot\":null,\"text\":\"Sales Rep Performance\"},\"id\":\"7df0284c-bd60-40b9-aa23-880108cb4cd4\",\"type\":\"Title\"},{\"attributes\":{\"callback\":null,\"range_padding\":0},\"id\":\"66c3d4db-2b32-47e1-af82-0374025b0e66\",\"type\":\"DataRange1d\"},{\"attributes\":{\"fill_color\":{\"value\":\"#bdc9e1\"},\"height\":{\"value\":0.8},\"left\":{\"value\":20},\"line_color\":{\"value\":\"#bdc9e1\"},\"right\":{\"value\":60},\"y\":{\"field\":\"y\"}},\"id\":\"d4704184-3d2e-4e2f-8ea2-7b469ffea67c\",\"type\":\"HBar\"},{\"attributes\":{\"active_drag\":\"auto\",\"active_inspect\":\"auto\",\"active_scroll\":\"auto\",\"active_tap\":\"auto\",\"tools\":[{\"id\":\"0a99b393-5e05-4257-853e-4946147d8551\",\"type\":\"PanTool\"},{\"id\":\"a728ac38-b842-43d0-b5cd-39e4b45efe80\",\"type\":\"WheelZoomTool\"},{\"id\":\"dfb28d64-a44f-4702-88e2-1d1a06a1277d\",\"type\":\"BoxZoomTool\"},{\"id\":\"ba92565f-1ccb-46fa-bd9e-92f921364595\",\"type\":\"SaveTool\"},{\"id\":\"9d927a83-a003-4502-a81f-7eaf04d23b5d\",\"type\":\"ResetTool\"},{\"id\":\"3c91d880-8f27-4337-9db3-7de27b13d237\",\"type\":\"HelpTool\"}]},\"id\":\"eed3741e-24cc-439e-adec-de8fe61b4a0e\",\"type\":\"Toolbar\"},{\"attributes\":{\"source\":{\"id\":\"c2a98c9f-c709-48b7-8362-6bf44665219c\",\"type\":\"ColumnDataSource\"}},\"id\":\"b1dc0797-e79e-4e0a-ab85-6870e8c7fc8c\",\"type\":\"CDSView\"},{\"attributes\":{\"callback\":null,\"column_names\":[\"y\",\"right\"],\"data\":{\"right\":[105,99,109,135,45],\"y\":[\"John Smith\",\"Jane Jones\",\"Fred Flintstone\",\"Barney Rubble\",\"Mr T\"]}},\"id\":\"085e412b-1aaf-43c8-b6e0-139f49f5ffcd\",\"type\":\"ColumnDataSource\"},{\"attributes\":{\"data_source\":{\"id\":\"4160fbdb-578a-4870-94dc-d50b991aad92\",\"type\":\"ColumnDataSource\"},\"glyph\":{\"id\":\"5ee8728a-2236-4891-b72d-4abfa65dccbd\",\"type\":\"HBar\"},\"hover_glyph\":null,\"muted_glyph\":null,\"nonselection_glyph\":{\"id\":\"a7f4f6c7-33a2-421b-b9d1-d4126ea066ef\",\"type\":\"HBar\"},\"selection_glyph\":null,\"view\":{\"id\":\"2b2bcb90-0ffd-462d-b447-2e9de9323acd\",\"type\":\"CDSView\"}},\"id\":\"4fe20e5f-5a03-485e-8d3a-29f7eb5c11f1\",\"type\":\"GlyphRenderer\"},{\"attributes\":{\"fill_alpha\":{\"value\":0.1},\"fill_color\":{\"value\":\"#1f77b4\"},\"height\":{\"value\":0.8},\"left\":{\"value\":100},\"line_alpha\":{\"value\":0.1},\"line_color\":{\"value\":\"#1f77b4\"},\"right\":{\"value\":160},\"y\":{\"field\":\"y\"}},\"id\":\"a7f4f6c7-33a2-421b-b9d1-d4126ea066ef\",\"type\":\"HBar\"},{\"attributes\":{\"source\":{\"id\":\"085e412b-1aaf-43c8-b6e0-139f49f5ffcd\",\"type\":\"ColumnDataSource\"}},\"id\":\"729fdab5-46e1-493f-971e-2aa7d7432c5f\",\"type\":\"CDSView\"},{\"attributes\":{\"fill_color\":{\"value\":\"#74a9cf\"},\"height\":{\"value\":0.8},\"left\":{\"value\":60},\"line_color\":{\"value\":\"#74a9cf\"},\"right\":{\"value\":100},\"y\":{\"field\":\"y\"}},\"id\":\"a2a28dd3-08d0-4505-aa79-f28e26cab0c7\",\"type\":\"HBar\"},{\"attributes\":{\"callback\":null,\"factors\":[\"John Smith\",\"Jane Jones\",\"Fred Flintstone\",\"Barney Rubble\",\"Mr T\"]},\"id\":\"7d842b6d-5d42-4b92-a5ac-5648d4d0b9f3\",\"type\":\"FactorRange\"},{\"attributes\":{\"fill_color\":{\"value\":\"#0570b0\"},\"height\":{\"value\":0.8},\"left\":{\"value\":100},\"line_color\":{\"value\":\"#0570b0\"},\"right\":{\"value\":160},\"y\":{\"field\":\"y\"}},\"id\":\"5ee8728a-2236-4891-b72d-4abfa65dccbd\",\"type\":\"HBar\"},{\"attributes\":{\"formatter\":{\"id\":\"b8581317-2810-4654-be41-462ad9d7c745\",\"type\":\"CategoricalTickFormatter\"},\"plot\":{\"id\":\"0ef88e1c-018c-4834-8709-8312e8b107a6\",\"subtype\":\"Figure\",\"type\":\"Plot\"},\"ticker\":{\"id\":\"9175cea8-61c3-46e1-a855-fd74db632584\",\"type\":\"CategoricalTicker\"}},\"id\":\"93b58bfb-7d77-4359-a2e3-576a822a06dc\",\"type\":\"CategoricalAxis\"},{\"attributes\":{\"callback\":null,\"column_names\":[\"y\"],\"data\":{\"y\":[\"John Smith\",\"Jane Jones\",\"Fred Flintstone\",\"Barney Rubble\",\"Mr T\"]}},\"id\":\"4160fbdb-578a-4870-94dc-d50b991aad92\",\"type\":\"ColumnDataSource\"},{\"attributes\":{\"source\":{\"id\":\"fd2dd0f2-1bb8-4f95-8676-c1ca884cb227\",\"type\":\"ColumnDataSource\"}},\"id\":\"3014bfa1-90b3-446f-b7c4-2519d14bcd51\",\"type\":\"CDSView\"},{\"attributes\":{},\"id\":\"9175cea8-61c3-46e1-a855-fd74db632584\",\"type\":\"CategoricalTicker\"},{\"attributes\":{\"source\":{\"id\":\"92856b50-3b1e-4e82-9652-ebbc1f5f26b1\",\"type\":\"ColumnDataSource\"}},\"id\":\"8a24afb7-9783-40b5-aa60-db1c4474b834\",\"type\":\"CDSView\"},{\"attributes\":{\"dimension\":1,\"grid_line_color\":{\"value\":null},\"plot\":{\"id\":\"0ef88e1c-018c-4834-8709-8312e8b107a6\",\"subtype\":\"Figure\",\"type\":\"Plot\"},\"ticker\":{\"id\":\"9175cea8-61c3-46e1-a855-fd74db632584\",\"type\":\"CategoricalTicker\"}},\"id\":\"671ca1d8-f9b4-4608-89ac-dd5252390cb8\",\"type\":\"Grid\"},{\"attributes\":{\"fill_alpha\":{\"value\":0.1},\"fill_color\":{\"value\":\"#1f77b4\"},\"height\":{\"value\":0.8},\"left\":{\"value\":60},\"line_alpha\":{\"value\":0.1},\"line_color\":{\"value\":\"#1f77b4\"},\"right\":{\"value\":100},\"y\":{\"field\":\"y\"}},\"id\":\"0a6b1c85-3eb6-4209-99c2-04fd3e1eb042\",\"type\":\"HBar\"},{\"attributes\":{\"formatter\":{\"id\":\"c403efc3-45de-4e34-9741-5a823e83f507\",\"type\":\"BasicTickFormatter\"},\"plot\":{\"id\":\"0ef88e1c-018c-4834-8709-8312e8b107a6\",\"subtype\":\"Figure\",\"type\":\"Plot\"},\"ticker\":{\"id\":\"93ded0c9-c1f0-49f2-82ee-65eec1c7efff\",\"type\":\"BasicTicker\"}},\"id\":\"4c007bc3-19e7-4f6c-8878-27f3dd51ca72\",\"type\":\"LinearAxis\"},{\"attributes\":{\"data_source\":{\"id\":\"92856b50-3b1e-4e82-9652-ebbc1f5f26b1\",\"type\":\"ColumnDataSource\"},\"glyph\":{\"id\":\"a2a28dd3-08d0-4505-aa79-f28e26cab0c7\",\"type\":\"HBar\"},\"hover_glyph\":null,\"muted_glyph\":null,\"nonselection_glyph\":{\"id\":\"0a6b1c85-3eb6-4209-99c2-04fd3e1eb042\",\"type\":\"HBar\"},\"selection_glyph\":null,\"view\":{\"id\":\"8a24afb7-9783-40b5-aa60-db1c4474b834\",\"type\":\"CDSView\"}},\"id\":\"76d26094-1bbf-46dc-8ea3-13209f54f994\",\"type\":\"GlyphRenderer\"},{\"attributes\":{\"grid_line_color\":{\"value\":null},\"plot\":{\"id\":\"0ef88e1c-018c-4834-8709-8312e8b107a6\",\"subtype\":\"Figure\",\"type\":\"Plot\"},\"ticker\":{\"id\":\"93ded0c9-c1f0-49f2-82ee-65eec1c7efff\",\"type\":\"BasicTicker\"}},\"id\":\"a21e02c1-97c3-4cef-8a18-0f1a95fe1235\",\"type\":\"Grid\"}],\"root_ids\":[\"0ef88e1c-018c-4834-8709-8312e8b107a6\"]},\"title\":\"Bokeh Application\",\"version\":\"0.12.10\"}};\n",
       "    var render_items = [{\"docid\":\"2396372b-11fc-4d28-9539-dd67f7b4fbfe\",\"elementid\":\"0159ae65-dfd1-4490-86fc-2f1cfb53211d\",\"modelid\":\"0ef88e1c-018c-4834-8709-8312e8b107a6\"}];\n",
       "\n",
       "    root.Bokeh.embed.embed_items(docs_json, render_items);\n",
       "  }\n",
       "\n",
       "  if (root.Bokeh !== undefined) {\n",
       "    embed_document(root);\n",
       "  } else {\n",
       "    var attempts = 0;\n",
       "    var timer = setInterval(function(root) {\n",
       "      if (root.Bokeh !== undefined) {\n",
       "        embed_document(root);\n",
       "        clearInterval(timer);\n",
       "      }\n",
       "      attempts++;\n",
       "      if (attempts > 100) {\n",
       "        console.log(\"Bokeh: ERROR: Unable to embed document because BokehJS library is missing\")\n",
       "        clearInterval(timer);\n",
       "      }\n",
       "    }, 10, root)\n",
       "  }\n",
       "})(window);"
      ],
      "application/vnd.bokehjs_exec.v0+json": ""
     },
     "metadata": {
      "application/vnd.bokehjs_exec.v0+json": {
       "id": "0ef88e1c-018c-4834-8709-8312e8b107a6"
      }
     },
     "output_type": "display_data"
    }
   ],
   "source": [
    "show(p)"
   ]
  },
  {
   "cell_type": "code",
   "execution_count": 10,
   "metadata": {},
   "outputs": [
    {
     "data": {
      "text/html": [
       "<div style=\"display: table;\"><div style=\"display: table-row;\"><div style=\"display: table-cell;\"><b title=\"bokeh.models.renderers.GlyphRenderer\">GlyphRenderer</b>(</div><div style=\"display: table-cell;\">id&nbsp;=&nbsp;'ee3ab49b-2855-47a8-96eb-8ebeab7b488b', <span id=\"3d0c87ee-af6f-4f4e-9cdb-5d13bd1d6f8c\" style=\"cursor: pointer;\">&hellip;)</span></div></div><div class=\"ce026221-f668-4d29-b3ec-39cd83489fba\" style=\"display: none;\"><div style=\"display: table-cell;\"></div><div style=\"display: table-cell;\">data_source&nbsp;=&nbsp;ColumnDataSource(id='3d262b3e-9023-44d7-8a83-19c96af775a2', ...),</div></div><div class=\"ce026221-f668-4d29-b3ec-39cd83489fba\" style=\"display: none;\"><div style=\"display: table-cell;\"></div><div style=\"display: table-cell;\">glyph&nbsp;=&nbsp;Segment(id='b354e977-9496-4c93-89a0-e0a2b94e6bbe', ...),</div></div><div class=\"ce026221-f668-4d29-b3ec-39cd83489fba\" style=\"display: none;\"><div style=\"display: table-cell;\"></div><div style=\"display: table-cell;\">hover_glyph&nbsp;=&nbsp;None,</div></div><div class=\"ce026221-f668-4d29-b3ec-39cd83489fba\" style=\"display: none;\"><div style=\"display: table-cell;\"></div><div style=\"display: table-cell;\">js_event_callbacks&nbsp;=&nbsp;{},</div></div><div class=\"ce026221-f668-4d29-b3ec-39cd83489fba\" style=\"display: none;\"><div style=\"display: table-cell;\"></div><div style=\"display: table-cell;\">js_property_callbacks&nbsp;=&nbsp;{},</div></div><div class=\"ce026221-f668-4d29-b3ec-39cd83489fba\" style=\"display: none;\"><div style=\"display: table-cell;\"></div><div style=\"display: table-cell;\">level&nbsp;=&nbsp;'glyph',</div></div><div class=\"ce026221-f668-4d29-b3ec-39cd83489fba\" style=\"display: none;\"><div style=\"display: table-cell;\"></div><div style=\"display: table-cell;\">muted&nbsp;=&nbsp;False,</div></div><div class=\"ce026221-f668-4d29-b3ec-39cd83489fba\" style=\"display: none;\"><div style=\"display: table-cell;\"></div><div style=\"display: table-cell;\">muted_glyph&nbsp;=&nbsp;None,</div></div><div class=\"ce026221-f668-4d29-b3ec-39cd83489fba\" style=\"display: none;\"><div style=\"display: table-cell;\"></div><div style=\"display: table-cell;\">name&nbsp;=&nbsp;None,</div></div><div class=\"ce026221-f668-4d29-b3ec-39cd83489fba\" style=\"display: none;\"><div style=\"display: table-cell;\"></div><div style=\"display: table-cell;\">nonselection_glyph&nbsp;=&nbsp;Segment(id='730690a3-2f7b-4955-b98b-a0144e684e08', ...),</div></div><div class=\"ce026221-f668-4d29-b3ec-39cd83489fba\" style=\"display: none;\"><div style=\"display: table-cell;\"></div><div style=\"display: table-cell;\">selection_glyph&nbsp;=&nbsp;None,</div></div><div class=\"ce026221-f668-4d29-b3ec-39cd83489fba\" style=\"display: none;\"><div style=\"display: table-cell;\"></div><div style=\"display: table-cell;\">subscribed_events&nbsp;=&nbsp;[],</div></div><div class=\"ce026221-f668-4d29-b3ec-39cd83489fba\" style=\"display: none;\"><div style=\"display: table-cell;\"></div><div style=\"display: table-cell;\">tags&nbsp;=&nbsp;[],</div></div><div class=\"ce026221-f668-4d29-b3ec-39cd83489fba\" style=\"display: none;\"><div style=\"display: table-cell;\"></div><div style=\"display: table-cell;\">view&nbsp;=&nbsp;CDSView(id='1aa6760e-9d05-4593-a619-12c85424c44f', ...),</div></div><div class=\"ce026221-f668-4d29-b3ec-39cd83489fba\" style=\"display: none;\"><div style=\"display: table-cell;\"></div><div style=\"display: table-cell;\">visible&nbsp;=&nbsp;True,</div></div><div class=\"ce026221-f668-4d29-b3ec-39cd83489fba\" style=\"display: none;\"><div style=\"display: table-cell;\"></div><div style=\"display: table-cell;\">x_range_name&nbsp;=&nbsp;'default',</div></div><div class=\"ce026221-f668-4d29-b3ec-39cd83489fba\" style=\"display: none;\"><div style=\"display: table-cell;\"></div><div style=\"display: table-cell;\">y_range_name&nbsp;=&nbsp;'default')</div></div></div>\n",
       "<script>\n",
       "(function() {\n",
       "  var expanded = false;\n",
       "  var ellipsis = document.getElementById(\"3d0c87ee-af6f-4f4e-9cdb-5d13bd1d6f8c\");\n",
       "  ellipsis.addEventListener(\"click\", function() {\n",
       "    var rows = document.getElementsByClassName(\"ce026221-f668-4d29-b3ec-39cd83489fba\");\n",
       "    for (var i = 0; i < rows.length; i++) {\n",
       "      var el = rows[i];\n",
       "      el.style.display = expanded ? \"none\" : \"table-row\";\n",
       "    }\n",
       "    ellipsis.innerHTML = expanded ? \"&hellip;)\" : \"&lsaquo;&lsaquo;&lsaquo;\";\n",
       "    expanded = !expanded;\n",
       "  });\n",
       "})();\n",
       "</script>\n"
      ],
      "text/plain": [
       "GlyphRenderer(id='ee3ab49b-2855-47a8-96eb-8ebeab7b488b', ...)"
      ]
     },
     "execution_count": 10,
     "metadata": {},
     "output_type": "execute_result"
    }
   ],
   "source": [
    "# Add the segment for the target\n",
    "comp = [x[2]for x in data]\n",
    "p.segment(x0=comp, y0=[(x, -0.5) for x in cats], x1=comp, \n",
    "          y1=[(x, 0.5) for x in cats], color=\"white\", line_width=2)"
   ]
  },
  {
   "cell_type": "code",
   "execution_count": 11,
   "metadata": {},
   "outputs": [
    {
     "data": {
      "text/html": [
       "\n",
       "<div class=\"bk-root\">\n",
       "    <div class=\"bk-plotdiv\" id=\"24483e63-6f39-4a77-9fd8-491f565fa805\"></div>\n",
       "</div>"
      ]
     },
     "metadata": {},
     "output_type": "display_data"
    },
    {
     "data": {
      "application/javascript": [
       "(function(root) {\n",
       "  function embed_document(root) {\n",
       "    var docs_json = {\"26d7de3b-a6f3-4b57-9e17-47575a8d7a1b\":{\"roots\":{\"references\":[{\"attributes\":{\"num_minor_ticks\":0},\"id\":\"93ded0c9-c1f0-49f2-82ee-65eec1c7efff\",\"type\":\"BasicTicker\"},{\"attributes\":{\"source\":{\"id\":\"4160fbdb-578a-4870-94dc-d50b991aad92\",\"type\":\"ColumnDataSource\"}},\"id\":\"2b2bcb90-0ffd-462d-b447-2e9de9323acd\",\"type\":\"CDSView\"},{\"attributes\":{},\"id\":\"a728ac38-b842-43d0-b5cd-39e4b45efe80\",\"type\":\"WheelZoomTool\"},{\"attributes\":{\"overlay\":{\"id\":\"8296a01c-ec1e-42c1-a961-72b3d9ab0652\",\"type\":\"BoxAnnotation\"}},\"id\":\"dfb28d64-a44f-4702-88e2-1d1a06a1277d\",\"type\":\"BoxZoomTool\"},{\"attributes\":{\"fill_color\":{\"value\":\"black\"},\"height\":{\"value\":0.3},\"right\":{\"field\":\"right\"},\"y\":{\"field\":\"y\"}},\"id\":\"b92bf553-b73d-48df-a5d1-94c943c7e233\",\"type\":\"HBar\"},{\"attributes\":{},\"id\":\"4a5b15ba-7fcd-4f95-a48d-8cc7dddedc7b\",\"type\":\"LinearScale\"},{\"attributes\":{},\"id\":\"ba92565f-1ccb-46fa-bd9e-92f921364595\",\"type\":\"SaveTool\"},{\"attributes\":{\"callback\":null,\"column_names\":[\"y\"],\"data\":{\"y\":[\"John Smith\",\"Jane Jones\",\"Fred Flintstone\",\"Barney Rubble\",\"Mr T\"]}},\"id\":\"fd2dd0f2-1bb8-4f95-8676-c1ca884cb227\",\"type\":\"ColumnDataSource\"},{\"attributes\":{},\"id\":\"0a99b393-5e05-4257-853e-4946147d8551\",\"type\":\"PanTool\"},{\"attributes\":{},\"id\":\"9d927a83-a003-4502-a81f-7eaf04d23b5d\",\"type\":\"ResetTool\"},{\"attributes\":{},\"id\":\"c120a529-df2f-4baa-8a48-f445c1f6c5c3\",\"type\":\"CategoricalScale\"},{\"attributes\":{},\"id\":\"3c91d880-8f27-4337-9db3-7de27b13d237\",\"type\":\"HelpTool\"},{\"attributes\":{\"fill_color\":{\"value\":\"#f1eef6\"},\"height\":{\"value\":0.8},\"line_color\":{\"value\":\"#f1eef6\"},\"right\":{\"value\":20},\"y\":{\"field\":\"y\"}},\"id\":\"c55d899c-7640-4d5e-b60f-f4c083d7d19e\",\"type\":\"HBar\"},{\"attributes\":{\"fill_alpha\":{\"value\":0.1},\"fill_color\":{\"value\":\"#1f77b4\"},\"height\":{\"value\":0.8},\"line_alpha\":{\"value\":0.1},\"line_color\":{\"value\":\"#1f77b4\"},\"right\":{\"value\":20},\"y\":{\"field\":\"y\"}},\"id\":\"3ec99077-8cee-48e5-a7d5-7f6a12734ae5\",\"type\":\"HBar\"},{\"attributes\":{\"below\":[{\"id\":\"4c007bc3-19e7-4f6c-8878-27f3dd51ca72\",\"type\":\"LinearAxis\"}],\"left\":[{\"id\":\"93b58bfb-7d77-4359-a2e3-576a822a06dc\",\"type\":\"CategoricalAxis\"}],\"plot_height\":350,\"plot_width\":800,\"renderers\":[{\"id\":\"4c007bc3-19e7-4f6c-8878-27f3dd51ca72\",\"type\":\"LinearAxis\"},{\"id\":\"a21e02c1-97c3-4cef-8a18-0f1a95fe1235\",\"type\":\"Grid\"},{\"id\":\"93b58bfb-7d77-4359-a2e3-576a822a06dc\",\"type\":\"CategoricalAxis\"},{\"id\":\"671ca1d8-f9b4-4608-89ac-dd5252390cb8\",\"type\":\"Grid\"},{\"id\":\"8296a01c-ec1e-42c1-a961-72b3d9ab0652\",\"type\":\"BoxAnnotation\"},{\"id\":\"c903b10d-4ccd-4e78-9cdd-7b35516f4cfd\",\"type\":\"GlyphRenderer\"},{\"id\":\"1f503315-7254-4703-bcc9-ea84a5c55fb9\",\"type\":\"GlyphRenderer\"},{\"id\":\"76d26094-1bbf-46dc-8ea3-13209f54f994\",\"type\":\"GlyphRenderer\"},{\"id\":\"4fe20e5f-5a03-485e-8d3a-29f7eb5c11f1\",\"type\":\"GlyphRenderer\"},{\"id\":\"e93f5798-f4ae-446b-9f3c-942c68bace00\",\"type\":\"GlyphRenderer\"},{\"id\":\"ee3ab49b-2855-47a8-96eb-8ebeab7b488b\",\"type\":\"GlyphRenderer\"}],\"title\":{\"id\":\"7df0284c-bd60-40b9-aa23-880108cb4cd4\",\"type\":\"Title\"},\"toolbar\":{\"id\":\"eed3741e-24cc-439e-adec-de8fe61b4a0e\",\"type\":\"Toolbar\"},\"x_range\":{\"id\":\"66c3d4db-2b32-47e1-af82-0374025b0e66\",\"type\":\"DataRange1d\"},\"x_scale\":{\"id\":\"4a5b15ba-7fcd-4f95-a48d-8cc7dddedc7b\",\"type\":\"LinearScale\"},\"y_range\":{\"id\":\"7d842b6d-5d42-4b92-a5ac-5648d4d0b9f3\",\"type\":\"FactorRange\"},\"y_scale\":{\"id\":\"c120a529-df2f-4baa-8a48-f445c1f6c5c3\",\"type\":\"CategoricalScale\"}},\"id\":\"0ef88e1c-018c-4834-8709-8312e8b107a6\",\"subtype\":\"Figure\",\"type\":\"Plot\"},{\"attributes\":{\"fill_alpha\":{\"value\":0.1},\"fill_color\":{\"value\":\"#1f77b4\"},\"height\":{\"value\":0.8},\"left\":{\"value\":20},\"line_alpha\":{\"value\":0.1},\"line_color\":{\"value\":\"#1f77b4\"},\"right\":{\"value\":60},\"y\":{\"field\":\"y\"}},\"id\":\"ced5055a-d183-4122-993d-e8fc28a92399\",\"type\":\"HBar\"},{\"attributes\":{\"data_source\":{\"id\":\"085e412b-1aaf-43c8-b6e0-139f49f5ffcd\",\"type\":\"ColumnDataSource\"},\"glyph\":{\"id\":\"b92bf553-b73d-48df-a5d1-94c943c7e233\",\"type\":\"HBar\"},\"hover_glyph\":null,\"muted_glyph\":null,\"nonselection_glyph\":{\"id\":\"927bb98f-15be-42aa-8e52-62b3154cc5a7\",\"type\":\"HBar\"},\"selection_glyph\":null,\"view\":{\"id\":\"729fdab5-46e1-493f-971e-2aa7d7432c5f\",\"type\":\"CDSView\"}},\"id\":\"e93f5798-f4ae-446b-9f3c-942c68bace00\",\"type\":\"GlyphRenderer\"},{\"attributes\":{\"callback\":null,\"column_names\":[\"y\"],\"data\":{\"y\":[\"John Smith\",\"Jane Jones\",\"Fred Flintstone\",\"Barney Rubble\",\"Mr T\"]}},\"id\":\"c2a98c9f-c709-48b7-8362-6bf44665219c\",\"type\":\"ColumnDataSource\"},{\"attributes\":{\"callback\":null,\"column_names\":[\"y\"],\"data\":{\"y\":[\"John Smith\",\"Jane Jones\",\"Fred Flintstone\",\"Barney Rubble\",\"Mr T\"]}},\"id\":\"92856b50-3b1e-4e82-9652-ebbc1f5f26b1\",\"type\":\"ColumnDataSource\"},{\"attributes\":{\"data_source\":{\"id\":\"fd2dd0f2-1bb8-4f95-8676-c1ca884cb227\",\"type\":\"ColumnDataSource\"},\"glyph\":{\"id\":\"d4704184-3d2e-4e2f-8ea2-7b469ffea67c\",\"type\":\"HBar\"},\"hover_glyph\":null,\"muted_glyph\":null,\"nonselection_glyph\":{\"id\":\"ced5055a-d183-4122-993d-e8fc28a92399\",\"type\":\"HBar\"},\"selection_glyph\":null,\"view\":{\"id\":\"3014bfa1-90b3-446f-b7c4-2519d14bcd51\",\"type\":\"CDSView\"}},\"id\":\"1f503315-7254-4703-bcc9-ea84a5c55fb9\",\"type\":\"GlyphRenderer\"},{\"attributes\":{\"fill_alpha\":{\"value\":0.1},\"fill_color\":{\"value\":\"#1f77b4\"},\"height\":{\"value\":0.3},\"line_alpha\":{\"value\":0.1},\"line_color\":{\"value\":\"#1f77b4\"},\"right\":{\"field\":\"right\"},\"y\":{\"field\":\"y\"}},\"id\":\"927bb98f-15be-42aa-8e52-62b3154cc5a7\",\"type\":\"HBar\"},{\"attributes\":{},\"id\":\"c403efc3-45de-4e34-9741-5a823e83f507\",\"type\":\"BasicTickFormatter\"},{\"attributes\":{},\"id\":\"b8581317-2810-4654-be41-462ad9d7c745\",\"type\":\"CategoricalTickFormatter\"},{\"attributes\":{\"bottom_units\":\"screen\",\"fill_alpha\":{\"value\":0.5},\"fill_color\":{\"value\":\"lightgrey\"},\"left_units\":\"screen\",\"level\":\"overlay\",\"line_alpha\":{\"value\":1.0},\"line_color\":{\"value\":\"black\"},\"line_dash\":[4,4],\"line_width\":{\"value\":2},\"plot\":null,\"render_mode\":\"css\",\"right_units\":\"screen\",\"top_units\":\"screen\"},\"id\":\"8296a01c-ec1e-42c1-a961-72b3d9ab0652\",\"type\":\"BoxAnnotation\"},{\"attributes\":{\"data_source\":{\"id\":\"c2a98c9f-c709-48b7-8362-6bf44665219c\",\"type\":\"ColumnDataSource\"},\"glyph\":{\"id\":\"c55d899c-7640-4d5e-b60f-f4c083d7d19e\",\"type\":\"HBar\"},\"hover_glyph\":null,\"muted_glyph\":null,\"nonselection_glyph\":{\"id\":\"3ec99077-8cee-48e5-a7d5-7f6a12734ae5\",\"type\":\"HBar\"},\"selection_glyph\":null,\"view\":{\"id\":\"b1dc0797-e79e-4e0a-ab85-6870e8c7fc8c\",\"type\":\"CDSView\"}},\"id\":\"c903b10d-4ccd-4e78-9cdd-7b35516f4cfd\",\"type\":\"GlyphRenderer\"},{\"attributes\":{\"plot\":null,\"text\":\"Sales Rep Performance\"},\"id\":\"7df0284c-bd60-40b9-aa23-880108cb4cd4\",\"type\":\"Title\"},{\"attributes\":{\"callback\":null,\"range_padding\":0},\"id\":\"66c3d4db-2b32-47e1-af82-0374025b0e66\",\"type\":\"DataRange1d\"},{\"attributes\":{\"fill_color\":{\"value\":\"#bdc9e1\"},\"height\":{\"value\":0.8},\"left\":{\"value\":20},\"line_color\":{\"value\":\"#bdc9e1\"},\"right\":{\"value\":60},\"y\":{\"field\":\"y\"}},\"id\":\"d4704184-3d2e-4e2f-8ea2-7b469ffea67c\",\"type\":\"HBar\"},{\"attributes\":{\"line_alpha\":{\"value\":0.1},\"line_color\":{\"value\":\"#1f77b4\"},\"line_width\":{\"value\":2},\"x0\":{\"field\":\"x0\"},\"x1\":{\"field\":\"x1\"},\"y0\":{\"field\":\"y0\"},\"y1\":{\"field\":\"y1\"}},\"id\":\"730690a3-2f7b-4955-b98b-a0144e684e08\",\"type\":\"Segment\"},{\"attributes\":{\"active_drag\":\"auto\",\"active_inspect\":\"auto\",\"active_scroll\":\"auto\",\"active_tap\":\"auto\",\"tools\":[{\"id\":\"0a99b393-5e05-4257-853e-4946147d8551\",\"type\":\"PanTool\"},{\"id\":\"a728ac38-b842-43d0-b5cd-39e4b45efe80\",\"type\":\"WheelZoomTool\"},{\"id\":\"dfb28d64-a44f-4702-88e2-1d1a06a1277d\",\"type\":\"BoxZoomTool\"},{\"id\":\"ba92565f-1ccb-46fa-bd9e-92f921364595\",\"type\":\"SaveTool\"},{\"id\":\"9d927a83-a003-4502-a81f-7eaf04d23b5d\",\"type\":\"ResetTool\"},{\"id\":\"3c91d880-8f27-4337-9db3-7de27b13d237\",\"type\":\"HelpTool\"}]},\"id\":\"eed3741e-24cc-439e-adec-de8fe61b4a0e\",\"type\":\"Toolbar\"},{\"attributes\":{\"source\":{\"id\":\"c2a98c9f-c709-48b7-8362-6bf44665219c\",\"type\":\"ColumnDataSource\"}},\"id\":\"b1dc0797-e79e-4e0a-ab85-6870e8c7fc8c\",\"type\":\"CDSView\"},{\"attributes\":{\"callback\":null,\"column_names\":[\"y\",\"right\"],\"data\":{\"right\":[105,99,109,135,45],\"y\":[\"John Smith\",\"Jane Jones\",\"Fred Flintstone\",\"Barney Rubble\",\"Mr T\"]}},\"id\":\"085e412b-1aaf-43c8-b6e0-139f49f5ffcd\",\"type\":\"ColumnDataSource\"},{\"attributes\":{\"line_color\":{\"value\":\"white\"},\"line_width\":{\"value\":2},\"x0\":{\"field\":\"x0\"},\"x1\":{\"field\":\"x1\"},\"y0\":{\"field\":\"y0\"},\"y1\":{\"field\":\"y1\"}},\"id\":\"b354e977-9496-4c93-89a0-e0a2b94e6bbe\",\"type\":\"Segment\"},{\"attributes\":{\"callback\":null,\"column_names\":[\"x0\",\"y0\",\"x1\",\"y1\"],\"data\":{\"x0\":[120,110,125,123,105],\"x1\":[120,110,125,123,105],\"y0\":[[\"John Smith\",-0.5],[\"Jane Jones\",-0.5],[\"Fred Flintstone\",-0.5],[\"Barney Rubble\",-0.5],[\"Mr T\",-0.5]],\"y1\":[[\"John Smith\",0.5],[\"Jane Jones\",0.5],[\"Fred Flintstone\",0.5],[\"Barney Rubble\",0.5],[\"Mr T\",0.5]]}},\"id\":\"3d262b3e-9023-44d7-8a83-19c96af775a2\",\"type\":\"ColumnDataSource\"},{\"attributes\":{\"data_source\":{\"id\":\"4160fbdb-578a-4870-94dc-d50b991aad92\",\"type\":\"ColumnDataSource\"},\"glyph\":{\"id\":\"5ee8728a-2236-4891-b72d-4abfa65dccbd\",\"type\":\"HBar\"},\"hover_glyph\":null,\"muted_glyph\":null,\"nonselection_glyph\":{\"id\":\"a7f4f6c7-33a2-421b-b9d1-d4126ea066ef\",\"type\":\"HBar\"},\"selection_glyph\":null,\"view\":{\"id\":\"2b2bcb90-0ffd-462d-b447-2e9de9323acd\",\"type\":\"CDSView\"}},\"id\":\"4fe20e5f-5a03-485e-8d3a-29f7eb5c11f1\",\"type\":\"GlyphRenderer\"},{\"attributes\":{\"fill_alpha\":{\"value\":0.1},\"fill_color\":{\"value\":\"#1f77b4\"},\"height\":{\"value\":0.8},\"left\":{\"value\":100},\"line_alpha\":{\"value\":0.1},\"line_color\":{\"value\":\"#1f77b4\"},\"right\":{\"value\":160},\"y\":{\"field\":\"y\"}},\"id\":\"a7f4f6c7-33a2-421b-b9d1-d4126ea066ef\",\"type\":\"HBar\"},{\"attributes\":{\"source\":{\"id\":\"085e412b-1aaf-43c8-b6e0-139f49f5ffcd\",\"type\":\"ColumnDataSource\"}},\"id\":\"729fdab5-46e1-493f-971e-2aa7d7432c5f\",\"type\":\"CDSView\"},{\"attributes\":{\"fill_color\":{\"value\":\"#74a9cf\"},\"height\":{\"value\":0.8},\"left\":{\"value\":60},\"line_color\":{\"value\":\"#74a9cf\"},\"right\":{\"value\":100},\"y\":{\"field\":\"y\"}},\"id\":\"a2a28dd3-08d0-4505-aa79-f28e26cab0c7\",\"type\":\"HBar\"},{\"attributes\":{\"callback\":null,\"factors\":[\"John Smith\",\"Jane Jones\",\"Fred Flintstone\",\"Barney Rubble\",\"Mr T\"]},\"id\":\"7d842b6d-5d42-4b92-a5ac-5648d4d0b9f3\",\"type\":\"FactorRange\"},{\"attributes\":{\"fill_color\":{\"value\":\"#0570b0\"},\"height\":{\"value\":0.8},\"left\":{\"value\":100},\"line_color\":{\"value\":\"#0570b0\"},\"right\":{\"value\":160},\"y\":{\"field\":\"y\"}},\"id\":\"5ee8728a-2236-4891-b72d-4abfa65dccbd\",\"type\":\"HBar\"},{\"attributes\":{\"formatter\":{\"id\":\"b8581317-2810-4654-be41-462ad9d7c745\",\"type\":\"CategoricalTickFormatter\"},\"plot\":{\"id\":\"0ef88e1c-018c-4834-8709-8312e8b107a6\",\"subtype\":\"Figure\",\"type\":\"Plot\"},\"ticker\":{\"id\":\"9175cea8-61c3-46e1-a855-fd74db632584\",\"type\":\"CategoricalTicker\"}},\"id\":\"93b58bfb-7d77-4359-a2e3-576a822a06dc\",\"type\":\"CategoricalAxis\"},{\"attributes\":{\"callback\":null,\"column_names\":[\"y\"],\"data\":{\"y\":[\"John Smith\",\"Jane Jones\",\"Fred Flintstone\",\"Barney Rubble\",\"Mr T\"]}},\"id\":\"4160fbdb-578a-4870-94dc-d50b991aad92\",\"type\":\"ColumnDataSource\"},{\"attributes\":{\"data_source\":{\"id\":\"3d262b3e-9023-44d7-8a83-19c96af775a2\",\"type\":\"ColumnDataSource\"},\"glyph\":{\"id\":\"b354e977-9496-4c93-89a0-e0a2b94e6bbe\",\"type\":\"Segment\"},\"hover_glyph\":null,\"muted_glyph\":null,\"nonselection_glyph\":{\"id\":\"730690a3-2f7b-4955-b98b-a0144e684e08\",\"type\":\"Segment\"},\"selection_glyph\":null,\"view\":{\"id\":\"1aa6760e-9d05-4593-a619-12c85424c44f\",\"type\":\"CDSView\"}},\"id\":\"ee3ab49b-2855-47a8-96eb-8ebeab7b488b\",\"type\":\"GlyphRenderer\"},{\"attributes\":{\"source\":{\"id\":\"fd2dd0f2-1bb8-4f95-8676-c1ca884cb227\",\"type\":\"ColumnDataSource\"}},\"id\":\"3014bfa1-90b3-446f-b7c4-2519d14bcd51\",\"type\":\"CDSView\"},{\"attributes\":{},\"id\":\"9175cea8-61c3-46e1-a855-fd74db632584\",\"type\":\"CategoricalTicker\"},{\"attributes\":{\"source\":{\"id\":\"3d262b3e-9023-44d7-8a83-19c96af775a2\",\"type\":\"ColumnDataSource\"}},\"id\":\"1aa6760e-9d05-4593-a619-12c85424c44f\",\"type\":\"CDSView\"},{\"attributes\":{\"source\":{\"id\":\"92856b50-3b1e-4e82-9652-ebbc1f5f26b1\",\"type\":\"ColumnDataSource\"}},\"id\":\"8a24afb7-9783-40b5-aa60-db1c4474b834\",\"type\":\"CDSView\"},{\"attributes\":{\"dimension\":1,\"grid_line_color\":{\"value\":null},\"plot\":{\"id\":\"0ef88e1c-018c-4834-8709-8312e8b107a6\",\"subtype\":\"Figure\",\"type\":\"Plot\"},\"ticker\":{\"id\":\"9175cea8-61c3-46e1-a855-fd74db632584\",\"type\":\"CategoricalTicker\"}},\"id\":\"671ca1d8-f9b4-4608-89ac-dd5252390cb8\",\"type\":\"Grid\"},{\"attributes\":{\"fill_alpha\":{\"value\":0.1},\"fill_color\":{\"value\":\"#1f77b4\"},\"height\":{\"value\":0.8},\"left\":{\"value\":60},\"line_alpha\":{\"value\":0.1},\"line_color\":{\"value\":\"#1f77b4\"},\"right\":{\"value\":100},\"y\":{\"field\":\"y\"}},\"id\":\"0a6b1c85-3eb6-4209-99c2-04fd3e1eb042\",\"type\":\"HBar\"},{\"attributes\":{\"formatter\":{\"id\":\"c403efc3-45de-4e34-9741-5a823e83f507\",\"type\":\"BasicTickFormatter\"},\"plot\":{\"id\":\"0ef88e1c-018c-4834-8709-8312e8b107a6\",\"subtype\":\"Figure\",\"type\":\"Plot\"},\"ticker\":{\"id\":\"93ded0c9-c1f0-49f2-82ee-65eec1c7efff\",\"type\":\"BasicTicker\"}},\"id\":\"4c007bc3-19e7-4f6c-8878-27f3dd51ca72\",\"type\":\"LinearAxis\"},{\"attributes\":{\"data_source\":{\"id\":\"92856b50-3b1e-4e82-9652-ebbc1f5f26b1\",\"type\":\"ColumnDataSource\"},\"glyph\":{\"id\":\"a2a28dd3-08d0-4505-aa79-f28e26cab0c7\",\"type\":\"HBar\"},\"hover_glyph\":null,\"muted_glyph\":null,\"nonselection_glyph\":{\"id\":\"0a6b1c85-3eb6-4209-99c2-04fd3e1eb042\",\"type\":\"HBar\"},\"selection_glyph\":null,\"view\":{\"id\":\"8a24afb7-9783-40b5-aa60-db1c4474b834\",\"type\":\"CDSView\"}},\"id\":\"76d26094-1bbf-46dc-8ea3-13209f54f994\",\"type\":\"GlyphRenderer\"},{\"attributes\":{\"grid_line_color\":{\"value\":null},\"plot\":{\"id\":\"0ef88e1c-018c-4834-8709-8312e8b107a6\",\"subtype\":\"Figure\",\"type\":\"Plot\"},\"ticker\":{\"id\":\"93ded0c9-c1f0-49f2-82ee-65eec1c7efff\",\"type\":\"BasicTicker\"}},\"id\":\"a21e02c1-97c3-4cef-8a18-0f1a95fe1235\",\"type\":\"Grid\"}],\"root_ids\":[\"0ef88e1c-018c-4834-8709-8312e8b107a6\"]},\"title\":\"Bokeh Application\",\"version\":\"0.12.10\"}};\n",
       "    var render_items = [{\"docid\":\"26d7de3b-a6f3-4b57-9e17-47575a8d7a1b\",\"elementid\":\"24483e63-6f39-4a77-9fd8-491f565fa805\",\"modelid\":\"0ef88e1c-018c-4834-8709-8312e8b107a6\"}];\n",
       "\n",
       "    root.Bokeh.embed.embed_items(docs_json, render_items);\n",
       "  }\n",
       "\n",
       "  if (root.Bokeh !== undefined) {\n",
       "    embed_document(root);\n",
       "  } else {\n",
       "    var attempts = 0;\n",
       "    var timer = setInterval(function(root) {\n",
       "      if (root.Bokeh !== undefined) {\n",
       "        embed_document(root);\n",
       "        clearInterval(timer);\n",
       "      }\n",
       "      attempts++;\n",
       "      if (attempts > 100) {\n",
       "        console.log(\"Bokeh: ERROR: Unable to embed document because BokehJS library is missing\")\n",
       "        clearInterval(timer);\n",
       "      }\n",
       "    }, 10, root)\n",
       "  }\n",
       "})(window);"
      ],
      "application/vnd.bokehjs_exec.v0+json": ""
     },
     "metadata": {
      "application/vnd.bokehjs_exec.v0+json": {
       "id": "0ef88e1c-018c-4834-8709-8312e8b107a6"
      }
     },
     "output_type": "display_data"
    }
   ],
   "source": [
    "show(p)"
   ]
  },
  {
   "cell_type": "code",
   "execution_count": 12,
   "metadata": {},
   "outputs": [],
   "source": [
    "# Add the labels\n",
    "for start, label in zip(limits[:-1], labels):\n",
    "    p.add_layout(Label(x=start, y=0, text=label, text_font_size=\"10pt\",\n",
    "                       text_color='black', y_offset=5, x_offset=15))"
   ]
  },
  {
   "cell_type": "code",
   "execution_count": 13,
   "metadata": {},
   "outputs": [
    {
     "data": {
      "text/html": [
       "\n",
       "<div class=\"bk-root\">\n",
       "    <div class=\"bk-plotdiv\" id=\"14ed9770-d624-4ebf-a5de-d06fdd72911b\"></div>\n",
       "</div>"
      ]
     },
     "metadata": {},
     "output_type": "display_data"
    },
    {
     "data": {
      "application/javascript": [
       "(function(root) {\n",
       "  function embed_document(root) {\n",
       "    var docs_json = {\"dcb7fd17-3f9b-4b2e-8474-25391974db5a\":{\"roots\":{\"references\":[{\"attributes\":{\"num_minor_ticks\":0},\"id\":\"93ded0c9-c1f0-49f2-82ee-65eec1c7efff\",\"type\":\"BasicTicker\"},{\"attributes\":{\"source\":{\"id\":\"4160fbdb-578a-4870-94dc-d50b991aad92\",\"type\":\"ColumnDataSource\"}},\"id\":\"2b2bcb90-0ffd-462d-b447-2e9de9323acd\",\"type\":\"CDSView\"},{\"attributes\":{},\"id\":\"a728ac38-b842-43d0-b5cd-39e4b45efe80\",\"type\":\"WheelZoomTool\"},{\"attributes\":{\"overlay\":{\"id\":\"8296a01c-ec1e-42c1-a961-72b3d9ab0652\",\"type\":\"BoxAnnotation\"}},\"id\":\"dfb28d64-a44f-4702-88e2-1d1a06a1277d\",\"type\":\"BoxZoomTool\"},{\"attributes\":{\"fill_color\":{\"value\":\"black\"},\"height\":{\"value\":0.3},\"right\":{\"field\":\"right\"},\"y\":{\"field\":\"y\"}},\"id\":\"b92bf553-b73d-48df-a5d1-94c943c7e233\",\"type\":\"HBar\"},{\"attributes\":{},\"id\":\"4a5b15ba-7fcd-4f95-a48d-8cc7dddedc7b\",\"type\":\"LinearScale\"},{\"attributes\":{},\"id\":\"ba92565f-1ccb-46fa-bd9e-92f921364595\",\"type\":\"SaveTool\"},{\"attributes\":{\"callback\":null,\"column_names\":[\"y\"],\"data\":{\"y\":[\"John Smith\",\"Jane Jones\",\"Fred Flintstone\",\"Barney Rubble\",\"Mr T\"]}},\"id\":\"fd2dd0f2-1bb8-4f95-8676-c1ca884cb227\",\"type\":\"ColumnDataSource\"},{\"attributes\":{\"data_source\":{\"id\":\"92856b50-3b1e-4e82-9652-ebbc1f5f26b1\",\"type\":\"ColumnDataSource\"},\"glyph\":{\"id\":\"a2a28dd3-08d0-4505-aa79-f28e26cab0c7\",\"type\":\"HBar\"},\"hover_glyph\":null,\"muted_glyph\":null,\"nonselection_glyph\":{\"id\":\"0a6b1c85-3eb6-4209-99c2-04fd3e1eb042\",\"type\":\"HBar\"},\"selection_glyph\":null,\"view\":{\"id\":\"8a24afb7-9783-40b5-aa60-db1c4474b834\",\"type\":\"CDSView\"}},\"id\":\"76d26094-1bbf-46dc-8ea3-13209f54f994\",\"type\":\"GlyphRenderer\"},{\"attributes\":{},\"id\":\"0a99b393-5e05-4257-853e-4946147d8551\",\"type\":\"PanTool\"},{\"attributes\":{},\"id\":\"9d927a83-a003-4502-a81f-7eaf04d23b5d\",\"type\":\"ResetTool\"},{\"attributes\":{},\"id\":\"c120a529-df2f-4baa-8a48-f445c1f6c5c3\",\"type\":\"CategoricalScale\"},{\"attributes\":{},\"id\":\"3c91d880-8f27-4337-9db3-7de27b13d237\",\"type\":\"HelpTool\"},{\"attributes\":{\"fill_color\":{\"value\":\"#f1eef6\"},\"height\":{\"value\":0.8},\"line_color\":{\"value\":\"#f1eef6\"},\"right\":{\"value\":20},\"y\":{\"field\":\"y\"}},\"id\":\"c55d899c-7640-4d5e-b60f-f4c083d7d19e\",\"type\":\"HBar\"},{\"attributes\":{\"fill_alpha\":{\"value\":0.1},\"fill_color\":{\"value\":\"#1f77b4\"},\"height\":{\"value\":0.8},\"line_alpha\":{\"value\":0.1},\"line_color\":{\"value\":\"#1f77b4\"},\"right\":{\"value\":20},\"y\":{\"field\":\"y\"}},\"id\":\"3ec99077-8cee-48e5-a7d5-7f6a12734ae5\",\"type\":\"HBar\"},{\"attributes\":{\"below\":[{\"id\":\"4c007bc3-19e7-4f6c-8878-27f3dd51ca72\",\"type\":\"LinearAxis\"}],\"left\":[{\"id\":\"93b58bfb-7d77-4359-a2e3-576a822a06dc\",\"type\":\"CategoricalAxis\"}],\"plot_height\":350,\"plot_width\":800,\"renderers\":[{\"id\":\"4c007bc3-19e7-4f6c-8878-27f3dd51ca72\",\"type\":\"LinearAxis\"},{\"id\":\"a21e02c1-97c3-4cef-8a18-0f1a95fe1235\",\"type\":\"Grid\"},{\"id\":\"93b58bfb-7d77-4359-a2e3-576a822a06dc\",\"type\":\"CategoricalAxis\"},{\"id\":\"671ca1d8-f9b4-4608-89ac-dd5252390cb8\",\"type\":\"Grid\"},{\"id\":\"8296a01c-ec1e-42c1-a961-72b3d9ab0652\",\"type\":\"BoxAnnotation\"},{\"id\":\"c903b10d-4ccd-4e78-9cdd-7b35516f4cfd\",\"type\":\"GlyphRenderer\"},{\"id\":\"1f503315-7254-4703-bcc9-ea84a5c55fb9\",\"type\":\"GlyphRenderer\"},{\"id\":\"76d26094-1bbf-46dc-8ea3-13209f54f994\",\"type\":\"GlyphRenderer\"},{\"id\":\"4fe20e5f-5a03-485e-8d3a-29f7eb5c11f1\",\"type\":\"GlyphRenderer\"},{\"id\":\"e93f5798-f4ae-446b-9f3c-942c68bace00\",\"type\":\"GlyphRenderer\"},{\"id\":\"ee3ab49b-2855-47a8-96eb-8ebeab7b488b\",\"type\":\"GlyphRenderer\"},{\"id\":\"ec93b60f-3f2f-436c-abdb-d44d91432dda\",\"type\":\"Label\"},{\"id\":\"f403962e-241e-4da6-8bc6-50e7a4dbda36\",\"type\":\"Label\"},{\"id\":\"17725b63-ce30-43e5-b01a-94a3a1018ca3\",\"type\":\"Label\"},{\"id\":\"b3b89849-9c77-47c0-a543-bea1d18bf485\",\"type\":\"Label\"}],\"title\":{\"id\":\"7df0284c-bd60-40b9-aa23-880108cb4cd4\",\"type\":\"Title\"},\"toolbar\":{\"id\":\"eed3741e-24cc-439e-adec-de8fe61b4a0e\",\"type\":\"Toolbar\"},\"x_range\":{\"id\":\"66c3d4db-2b32-47e1-af82-0374025b0e66\",\"type\":\"DataRange1d\"},\"x_scale\":{\"id\":\"4a5b15ba-7fcd-4f95-a48d-8cc7dddedc7b\",\"type\":\"LinearScale\"},\"y_range\":{\"id\":\"7d842b6d-5d42-4b92-a5ac-5648d4d0b9f3\",\"type\":\"FactorRange\"},\"y_scale\":{\"id\":\"c120a529-df2f-4baa-8a48-f445c1f6c5c3\",\"type\":\"CategoricalScale\"}},\"id\":\"0ef88e1c-018c-4834-8709-8312e8b107a6\",\"subtype\":\"Figure\",\"type\":\"Plot\"},{\"attributes\":{\"fill_alpha\":{\"value\":0.1},\"fill_color\":{\"value\":\"#1f77b4\"},\"height\":{\"value\":0.8},\"left\":{\"value\":20},\"line_alpha\":{\"value\":0.1},\"line_color\":{\"value\":\"#1f77b4\"},\"right\":{\"value\":60},\"y\":{\"field\":\"y\"}},\"id\":\"ced5055a-d183-4122-993d-e8fc28a92399\",\"type\":\"HBar\"},{\"attributes\":{\"data_source\":{\"id\":\"085e412b-1aaf-43c8-b6e0-139f49f5ffcd\",\"type\":\"ColumnDataSource\"},\"glyph\":{\"id\":\"b92bf553-b73d-48df-a5d1-94c943c7e233\",\"type\":\"HBar\"},\"hover_glyph\":null,\"muted_glyph\":null,\"nonselection_glyph\":{\"id\":\"927bb98f-15be-42aa-8e52-62b3154cc5a7\",\"type\":\"HBar\"},\"selection_glyph\":null,\"view\":{\"id\":\"729fdab5-46e1-493f-971e-2aa7d7432c5f\",\"type\":\"CDSView\"}},\"id\":\"e93f5798-f4ae-446b-9f3c-942c68bace00\",\"type\":\"GlyphRenderer\"},{\"attributes\":{\"callback\":null,\"column_names\":[\"y\"],\"data\":{\"y\":[\"John Smith\",\"Jane Jones\",\"Fred Flintstone\",\"Barney Rubble\",\"Mr T\"]}},\"id\":\"c2a98c9f-c709-48b7-8362-6bf44665219c\",\"type\":\"ColumnDataSource\"},{\"attributes\":{\"callback\":null,\"column_names\":[\"y\"],\"data\":{\"y\":[\"John Smith\",\"Jane Jones\",\"Fred Flintstone\",\"Barney Rubble\",\"Mr T\"]}},\"id\":\"92856b50-3b1e-4e82-9652-ebbc1f5f26b1\",\"type\":\"ColumnDataSource\"},{\"attributes\":{\"data_source\":{\"id\":\"fd2dd0f2-1bb8-4f95-8676-c1ca884cb227\",\"type\":\"ColumnDataSource\"},\"glyph\":{\"id\":\"d4704184-3d2e-4e2f-8ea2-7b469ffea67c\",\"type\":\"HBar\"},\"hover_glyph\":null,\"muted_glyph\":null,\"nonselection_glyph\":{\"id\":\"ced5055a-d183-4122-993d-e8fc28a92399\",\"type\":\"HBar\"},\"selection_glyph\":null,\"view\":{\"id\":\"3014bfa1-90b3-446f-b7c4-2519d14bcd51\",\"type\":\"CDSView\"}},\"id\":\"1f503315-7254-4703-bcc9-ea84a5c55fb9\",\"type\":\"GlyphRenderer\"},{\"attributes\":{\"fill_alpha\":{\"value\":0.1},\"fill_color\":{\"value\":\"#1f77b4\"},\"height\":{\"value\":0.3},\"line_alpha\":{\"value\":0.1},\"line_color\":{\"value\":\"#1f77b4\"},\"right\":{\"field\":\"right\"},\"y\":{\"field\":\"y\"}},\"id\":\"927bb98f-15be-42aa-8e52-62b3154cc5a7\",\"type\":\"HBar\"},{\"attributes\":{},\"id\":\"c403efc3-45de-4e34-9741-5a823e83f507\",\"type\":\"BasicTickFormatter\"},{\"attributes\":{},\"id\":\"b8581317-2810-4654-be41-462ad9d7c745\",\"type\":\"CategoricalTickFormatter\"},{\"attributes\":{\"bottom_units\":\"screen\",\"fill_alpha\":{\"value\":0.5},\"fill_color\":{\"value\":\"lightgrey\"},\"left_units\":\"screen\",\"level\":\"overlay\",\"line_alpha\":{\"value\":1.0},\"line_color\":{\"value\":\"black\"},\"line_dash\":[4,4],\"line_width\":{\"value\":2},\"plot\":null,\"render_mode\":\"css\",\"right_units\":\"screen\",\"top_units\":\"screen\"},\"id\":\"8296a01c-ec1e-42c1-a961-72b3d9ab0652\",\"type\":\"BoxAnnotation\"},{\"attributes\":{\"data_source\":{\"id\":\"c2a98c9f-c709-48b7-8362-6bf44665219c\",\"type\":\"ColumnDataSource\"},\"glyph\":{\"id\":\"c55d899c-7640-4d5e-b60f-f4c083d7d19e\",\"type\":\"HBar\"},\"hover_glyph\":null,\"muted_glyph\":null,\"nonselection_glyph\":{\"id\":\"3ec99077-8cee-48e5-a7d5-7f6a12734ae5\",\"type\":\"HBar\"},\"selection_glyph\":null,\"view\":{\"id\":\"b1dc0797-e79e-4e0a-ab85-6870e8c7fc8c\",\"type\":\"CDSView\"}},\"id\":\"c903b10d-4ccd-4e78-9cdd-7b35516f4cfd\",\"type\":\"GlyphRenderer\"},{\"attributes\":{\"plot\":null,\"text\":\"Sales Rep Performance\"},\"id\":\"7df0284c-bd60-40b9-aa23-880108cb4cd4\",\"type\":\"Title\"},{\"attributes\":{\"callback\":null,\"range_padding\":0},\"id\":\"66c3d4db-2b32-47e1-af82-0374025b0e66\",\"type\":\"DataRange1d\"},{\"attributes\":{\"fill_color\":{\"value\":\"#bdc9e1\"},\"height\":{\"value\":0.8},\"left\":{\"value\":20},\"line_color\":{\"value\":\"#bdc9e1\"},\"right\":{\"value\":60},\"y\":{\"field\":\"y\"}},\"id\":\"d4704184-3d2e-4e2f-8ea2-7b469ffea67c\",\"type\":\"HBar\"},{\"attributes\":{\"line_alpha\":{\"value\":0.1},\"line_color\":{\"value\":\"#1f77b4\"},\"line_width\":{\"value\":2},\"x0\":{\"field\":\"x0\"},\"x1\":{\"field\":\"x1\"},\"y0\":{\"field\":\"y0\"},\"y1\":{\"field\":\"y1\"}},\"id\":\"730690a3-2f7b-4955-b98b-a0144e684e08\",\"type\":\"Segment\"},{\"attributes\":{\"active_drag\":\"auto\",\"active_inspect\":\"auto\",\"active_scroll\":\"auto\",\"active_tap\":\"auto\",\"tools\":[{\"id\":\"0a99b393-5e05-4257-853e-4946147d8551\",\"type\":\"PanTool\"},{\"id\":\"a728ac38-b842-43d0-b5cd-39e4b45efe80\",\"type\":\"WheelZoomTool\"},{\"id\":\"dfb28d64-a44f-4702-88e2-1d1a06a1277d\",\"type\":\"BoxZoomTool\"},{\"id\":\"ba92565f-1ccb-46fa-bd9e-92f921364595\",\"type\":\"SaveTool\"},{\"id\":\"9d927a83-a003-4502-a81f-7eaf04d23b5d\",\"type\":\"ResetTool\"},{\"id\":\"3c91d880-8f27-4337-9db3-7de27b13d237\",\"type\":\"HelpTool\"}]},\"id\":\"eed3741e-24cc-439e-adec-de8fe61b4a0e\",\"type\":\"Toolbar\"},{\"attributes\":{\"source\":{\"id\":\"c2a98c9f-c709-48b7-8362-6bf44665219c\",\"type\":\"ColumnDataSource\"}},\"id\":\"b1dc0797-e79e-4e0a-ab85-6870e8c7fc8c\",\"type\":\"CDSView\"},{\"attributes\":{\"callback\":null,\"column_names\":[\"y\",\"right\"],\"data\":{\"right\":[105,99,109,135,45],\"y\":[\"John Smith\",\"Jane Jones\",\"Fred Flintstone\",\"Barney Rubble\",\"Mr T\"]}},\"id\":\"085e412b-1aaf-43c8-b6e0-139f49f5ffcd\",\"type\":\"ColumnDataSource\"},{\"attributes\":{\"line_color\":{\"value\":\"white\"},\"line_width\":{\"value\":2},\"x0\":{\"field\":\"x0\"},\"x1\":{\"field\":\"x1\"},\"y0\":{\"field\":\"y0\"},\"y1\":{\"field\":\"y1\"}},\"id\":\"b354e977-9496-4c93-89a0-e0a2b94e6bbe\",\"type\":\"Segment\"},{\"attributes\":{\"callback\":null,\"column_names\":[\"x0\",\"y0\",\"x1\",\"y1\"],\"data\":{\"x0\":[120,110,125,123,105],\"x1\":[120,110,125,123,105],\"y0\":[[\"John Smith\",-0.5],[\"Jane Jones\",-0.5],[\"Fred Flintstone\",-0.5],[\"Barney Rubble\",-0.5],[\"Mr T\",-0.5]],\"y1\":[[\"John Smith\",0.5],[\"Jane Jones\",0.5],[\"Fred Flintstone\",0.5],[\"Barney Rubble\",0.5],[\"Mr T\",0.5]]}},\"id\":\"3d262b3e-9023-44d7-8a83-19c96af775a2\",\"type\":\"ColumnDataSource\"},{\"attributes\":{\"data_source\":{\"id\":\"4160fbdb-578a-4870-94dc-d50b991aad92\",\"type\":\"ColumnDataSource\"},\"glyph\":{\"id\":\"5ee8728a-2236-4891-b72d-4abfa65dccbd\",\"type\":\"HBar\"},\"hover_glyph\":null,\"muted_glyph\":null,\"nonselection_glyph\":{\"id\":\"a7f4f6c7-33a2-421b-b9d1-d4126ea066ef\",\"type\":\"HBar\"},\"selection_glyph\":null,\"view\":{\"id\":\"2b2bcb90-0ffd-462d-b447-2e9de9323acd\",\"type\":\"CDSView\"}},\"id\":\"4fe20e5f-5a03-485e-8d3a-29f7eb5c11f1\",\"type\":\"GlyphRenderer\"},{\"attributes\":{\"plot\":{\"id\":\"0ef88e1c-018c-4834-8709-8312e8b107a6\",\"subtype\":\"Figure\",\"type\":\"Plot\"},\"text\":\"OK\",\"text_color\":{\"value\":\"black\"},\"text_font_size\":{\"value\":\"10pt\"},\"x\":20,\"x_offset\":15,\"y\":0,\"y_offset\":5},\"id\":\"f403962e-241e-4da6-8bc6-50e7a4dbda36\",\"type\":\"Label\"},{\"attributes\":{\"fill_alpha\":{\"value\":0.1},\"fill_color\":{\"value\":\"#1f77b4\"},\"height\":{\"value\":0.8},\"left\":{\"value\":100},\"line_alpha\":{\"value\":0.1},\"line_color\":{\"value\":\"#1f77b4\"},\"right\":{\"value\":160},\"y\":{\"field\":\"y\"}},\"id\":\"a7f4f6c7-33a2-421b-b9d1-d4126ea066ef\",\"type\":\"HBar\"},{\"attributes\":{\"source\":{\"id\":\"085e412b-1aaf-43c8-b6e0-139f49f5ffcd\",\"type\":\"ColumnDataSource\"}},\"id\":\"729fdab5-46e1-493f-971e-2aa7d7432c5f\",\"type\":\"CDSView\"},{\"attributes\":{\"fill_color\":{\"value\":\"#74a9cf\"},\"height\":{\"value\":0.8},\"left\":{\"value\":60},\"line_color\":{\"value\":\"#74a9cf\"},\"right\":{\"value\":100},\"y\":{\"field\":\"y\"}},\"id\":\"a2a28dd3-08d0-4505-aa79-f28e26cab0c7\",\"type\":\"HBar\"},{\"attributes\":{\"callback\":null,\"factors\":[\"John Smith\",\"Jane Jones\",\"Fred Flintstone\",\"Barney Rubble\",\"Mr T\"]},\"id\":\"7d842b6d-5d42-4b92-a5ac-5648d4d0b9f3\",\"type\":\"FactorRange\"},{\"attributes\":{\"fill_color\":{\"value\":\"#0570b0\"},\"height\":{\"value\":0.8},\"left\":{\"value\":100},\"line_color\":{\"value\":\"#0570b0\"},\"right\":{\"value\":160},\"y\":{\"field\":\"y\"}},\"id\":\"5ee8728a-2236-4891-b72d-4abfa65dccbd\",\"type\":\"HBar\"},{\"attributes\":{\"formatter\":{\"id\":\"b8581317-2810-4654-be41-462ad9d7c745\",\"type\":\"CategoricalTickFormatter\"},\"plot\":{\"id\":\"0ef88e1c-018c-4834-8709-8312e8b107a6\",\"subtype\":\"Figure\",\"type\":\"Plot\"},\"ticker\":{\"id\":\"9175cea8-61c3-46e1-a855-fd74db632584\",\"type\":\"CategoricalTicker\"}},\"id\":\"93b58bfb-7d77-4359-a2e3-576a822a06dc\",\"type\":\"CategoricalAxis\"},{\"attributes\":{\"plot\":{\"id\":\"0ef88e1c-018c-4834-8709-8312e8b107a6\",\"subtype\":\"Figure\",\"type\":\"Plot\"},\"text\":\"Excellent\",\"text_color\":{\"value\":\"black\"},\"text_font_size\":{\"value\":\"10pt\"},\"x\":100,\"x_offset\":15,\"y\":0,\"y_offset\":5},\"id\":\"b3b89849-9c77-47c0-a543-bea1d18bf485\",\"type\":\"Label\"},{\"attributes\":{\"callback\":null,\"column_names\":[\"y\"],\"data\":{\"y\":[\"John Smith\",\"Jane Jones\",\"Fred Flintstone\",\"Barney Rubble\",\"Mr T\"]}},\"id\":\"4160fbdb-578a-4870-94dc-d50b991aad92\",\"type\":\"ColumnDataSource\"},{\"attributes\":{\"data_source\":{\"id\":\"3d262b3e-9023-44d7-8a83-19c96af775a2\",\"type\":\"ColumnDataSource\"},\"glyph\":{\"id\":\"b354e977-9496-4c93-89a0-e0a2b94e6bbe\",\"type\":\"Segment\"},\"hover_glyph\":null,\"muted_glyph\":null,\"nonselection_glyph\":{\"id\":\"730690a3-2f7b-4955-b98b-a0144e684e08\",\"type\":\"Segment\"},\"selection_glyph\":null,\"view\":{\"id\":\"1aa6760e-9d05-4593-a619-12c85424c44f\",\"type\":\"CDSView\"}},\"id\":\"ee3ab49b-2855-47a8-96eb-8ebeab7b488b\",\"type\":\"GlyphRenderer\"},{\"attributes\":{\"plot\":{\"id\":\"0ef88e1c-018c-4834-8709-8312e8b107a6\",\"subtype\":\"Figure\",\"type\":\"Plot\"},\"text\":\"Poor\",\"text_color\":{\"value\":\"black\"},\"text_font_size\":{\"value\":\"10pt\"},\"x\":0,\"x_offset\":15,\"y\":0,\"y_offset\":5},\"id\":\"ec93b60f-3f2f-436c-abdb-d44d91432dda\",\"type\":\"Label\"},{\"attributes\":{\"source\":{\"id\":\"fd2dd0f2-1bb8-4f95-8676-c1ca884cb227\",\"type\":\"ColumnDataSource\"}},\"id\":\"3014bfa1-90b3-446f-b7c4-2519d14bcd51\",\"type\":\"CDSView\"},{\"attributes\":{},\"id\":\"9175cea8-61c3-46e1-a855-fd74db632584\",\"type\":\"CategoricalTicker\"},{\"attributes\":{\"source\":{\"id\":\"3d262b3e-9023-44d7-8a83-19c96af775a2\",\"type\":\"ColumnDataSource\"}},\"id\":\"1aa6760e-9d05-4593-a619-12c85424c44f\",\"type\":\"CDSView\"},{\"attributes\":{\"source\":{\"id\":\"92856b50-3b1e-4e82-9652-ebbc1f5f26b1\",\"type\":\"ColumnDataSource\"}},\"id\":\"8a24afb7-9783-40b5-aa60-db1c4474b834\",\"type\":\"CDSView\"},{\"attributes\":{\"dimension\":1,\"grid_line_color\":{\"value\":null},\"plot\":{\"id\":\"0ef88e1c-018c-4834-8709-8312e8b107a6\",\"subtype\":\"Figure\",\"type\":\"Plot\"},\"ticker\":{\"id\":\"9175cea8-61c3-46e1-a855-fd74db632584\",\"type\":\"CategoricalTicker\"}},\"id\":\"671ca1d8-f9b4-4608-89ac-dd5252390cb8\",\"type\":\"Grid\"},{\"attributes\":{\"fill_alpha\":{\"value\":0.1},\"fill_color\":{\"value\":\"#1f77b4\"},\"height\":{\"value\":0.8},\"left\":{\"value\":60},\"line_alpha\":{\"value\":0.1},\"line_color\":{\"value\":\"#1f77b4\"},\"right\":{\"value\":100},\"y\":{\"field\":\"y\"}},\"id\":\"0a6b1c85-3eb6-4209-99c2-04fd3e1eb042\",\"type\":\"HBar\"},{\"attributes\":{\"formatter\":{\"id\":\"c403efc3-45de-4e34-9741-5a823e83f507\",\"type\":\"BasicTickFormatter\"},\"plot\":{\"id\":\"0ef88e1c-018c-4834-8709-8312e8b107a6\",\"subtype\":\"Figure\",\"type\":\"Plot\"},\"ticker\":{\"id\":\"93ded0c9-c1f0-49f2-82ee-65eec1c7efff\",\"type\":\"BasicTicker\"}},\"id\":\"4c007bc3-19e7-4f6c-8878-27f3dd51ca72\",\"type\":\"LinearAxis\"},{\"attributes\":{\"plot\":{\"id\":\"0ef88e1c-018c-4834-8709-8312e8b107a6\",\"subtype\":\"Figure\",\"type\":\"Plot\"},\"text\":\"Good\",\"text_color\":{\"value\":\"black\"},\"text_font_size\":{\"value\":\"10pt\"},\"x\":60,\"x_offset\":15,\"y\":0,\"y_offset\":5},\"id\":\"17725b63-ce30-43e5-b01a-94a3a1018ca3\",\"type\":\"Label\"},{\"attributes\":{\"grid_line_color\":{\"value\":null},\"plot\":{\"id\":\"0ef88e1c-018c-4834-8709-8312e8b107a6\",\"subtype\":\"Figure\",\"type\":\"Plot\"},\"ticker\":{\"id\":\"93ded0c9-c1f0-49f2-82ee-65eec1c7efff\",\"type\":\"BasicTicker\"}},\"id\":\"a21e02c1-97c3-4cef-8a18-0f1a95fe1235\",\"type\":\"Grid\"}],\"root_ids\":[\"0ef88e1c-018c-4834-8709-8312e8b107a6\"]},\"title\":\"Bokeh Application\",\"version\":\"0.12.10\"}};\n",
       "    var render_items = [{\"docid\":\"dcb7fd17-3f9b-4b2e-8474-25391974db5a\",\"elementid\":\"14ed9770-d624-4ebf-a5de-d06fdd72911b\",\"modelid\":\"0ef88e1c-018c-4834-8709-8312e8b107a6\"}];\n",
       "\n",
       "    root.Bokeh.embed.embed_items(docs_json, render_items);\n",
       "  }\n",
       "\n",
       "  if (root.Bokeh !== undefined) {\n",
       "    embed_document(root);\n",
       "  } else {\n",
       "    var attempts = 0;\n",
       "    var timer = setInterval(function(root) {\n",
       "      if (root.Bokeh !== undefined) {\n",
       "        embed_document(root);\n",
       "        clearInterval(timer);\n",
       "      }\n",
       "      attempts++;\n",
       "      if (attempts > 100) {\n",
       "        console.log(\"Bokeh: ERROR: Unable to embed document because BokehJS library is missing\")\n",
       "        clearInterval(timer);\n",
       "      }\n",
       "    }, 10, root)\n",
       "  }\n",
       "})(window);"
      ],
      "application/vnd.bokehjs_exec.v0+json": ""
     },
     "metadata": {
      "application/vnd.bokehjs_exec.v0+json": {
       "id": "0ef88e1c-018c-4834-8709-8312e8b107a6"
      }
     },
     "output_type": "display_data"
    }
   ],
   "source": [
    "show(p)"
   ]
  },
  {
   "cell_type": "code",
   "execution_count": null,
   "metadata": {},
   "outputs": [],
   "source": []
  }
 ],
 "metadata": {
  "kernelspec": {
   "display_name": "Python 3",
   "language": "python",
   "name": "python3"
  },
  "language_info": {
   "codemirror_mode": {
    "name": "ipython",
    "version": 3
   },
   "file_extension": ".py",
   "mimetype": "text/x-python",
   "name": "python",
   "nbconvert_exporter": "python",
   "pygments_lexer": "ipython3",
   "version": "3.6.3"
  }
 },
 "nbformat": 4,
 "nbformat_minor": 2
}
