{
 "cells": [
  {
   "cell_type": "markdown",
   "metadata": {},
   "source": [
    "##   Remember to Restart Solver Often"
   ]
  },
  {
   "cell_type": "code",
   "execution_count": 1,
   "metadata": {},
   "outputs": [
    {
     "data": {
      "text/html": [
       "<div>\n",
       "<style scoped>\n",
       "    .dataframe tbody tr th:only-of-type {\n",
       "        vertical-align: middle;\n",
       "    }\n",
       "\n",
       "    .dataframe tbody tr th {\n",
       "        vertical-align: top;\n",
       "    }\n",
       "\n",
       "    .dataframe thead th {\n",
       "        text-align: right;\n",
       "    }\n",
       "</style>\n",
       "<table border=\"1\" class=\"dataframe\">\n",
       "  <thead>\n",
       "    <tr style=\"text-align: right;\">\n",
       "      <th></th>\n",
       "      <th>Sales</th>\n",
       "      <th>Cost Per Unit</th>\n",
       "      <th>4 Wk Avg Temp</th>\n",
       "      <th>4 Wk Avg Humidity</th>\n",
       "      <th>Sales M-1 weeks</th>\n",
       "      <th>Sales M-2 weeks</th>\n",
       "      <th>Sales M-3 weeks</th>\n",
       "      <th>Sales M-4 Weeks</th>\n",
       "      <th>Sales M-5 weeks</th>\n",
       "      <th>dmy_Product_11 Down</th>\n",
       "      <th>...</th>\n",
       "      <th>dmy_Product_Koala Kola</th>\n",
       "      <th>dmy_Product_Mr. Popper</th>\n",
       "      <th>dmy_Product_Popsi Kola</th>\n",
       "      <th>dmy_Easter Included_No</th>\n",
       "      <th>dmy_Easter Included_Yes</th>\n",
       "      <th>dmy_Super Bowl Included_No</th>\n",
       "      <th>dmy_Super Bowl Included_Yes</th>\n",
       "      <th>dmy_Christmas Included_No</th>\n",
       "      <th>dmy_Christmas Included_Yes</th>\n",
       "      <th>dmy_Other Holiday_No</th>\n",
       "    </tr>\n",
       "  </thead>\n",
       "  <tbody>\n",
       "    <tr>\n",
       "      <th>0</th>\n",
       "      <td>51.9</td>\n",
       "      <td>1.6625</td>\n",
       "      <td>80.69</td>\n",
       "      <td>69.19</td>\n",
       "      <td>17.0</td>\n",
       "      <td>22.4</td>\n",
       "      <td>13.5</td>\n",
       "      <td>14.5</td>\n",
       "      <td>28.0</td>\n",
       "      <td>1</td>\n",
       "      <td>...</td>\n",
       "      <td>0</td>\n",
       "      <td>0</td>\n",
       "      <td>0</td>\n",
       "      <td>1</td>\n",
       "      <td>0</td>\n",
       "      <td>1</td>\n",
       "      <td>0</td>\n",
       "      <td>0</td>\n",
       "      <td>1</td>\n",
       "      <td>1</td>\n",
       "    </tr>\n",
       "    <tr>\n",
       "      <th>1</th>\n",
       "      <td>55.8</td>\n",
       "      <td>2.2725</td>\n",
       "      <td>80.69</td>\n",
       "      <td>69.19</td>\n",
       "      <td>2.4</td>\n",
       "      <td>2.2</td>\n",
       "      <td>2.0</td>\n",
       "      <td>1.4</td>\n",
       "      <td>0.5</td>\n",
       "      <td>0</td>\n",
       "      <td>...</td>\n",
       "      <td>0</td>\n",
       "      <td>0</td>\n",
       "      <td>0</td>\n",
       "      <td>1</td>\n",
       "      <td>0</td>\n",
       "      <td>1</td>\n",
       "      <td>0</td>\n",
       "      <td>0</td>\n",
       "      <td>1</td>\n",
       "      <td>1</td>\n",
       "    </tr>\n",
       "    <tr>\n",
       "      <th>2</th>\n",
       "      <td>3385.6</td>\n",
       "      <td>1.3475</td>\n",
       "      <td>80.69</td>\n",
       "      <td>69.19</td>\n",
       "      <td>301.8</td>\n",
       "      <td>188.8</td>\n",
       "      <td>101.4</td>\n",
       "      <td>81.6</td>\n",
       "      <td>213.8</td>\n",
       "      <td>0</td>\n",
       "      <td>...</td>\n",
       "      <td>0</td>\n",
       "      <td>0</td>\n",
       "      <td>0</td>\n",
       "      <td>1</td>\n",
       "      <td>0</td>\n",
       "      <td>1</td>\n",
       "      <td>0</td>\n",
       "      <td>0</td>\n",
       "      <td>1</td>\n",
       "      <td>1</td>\n",
       "    </tr>\n",
       "    <tr>\n",
       "      <th>3</th>\n",
       "      <td>63.5</td>\n",
       "      <td>1.6600</td>\n",
       "      <td>80.69</td>\n",
       "      <td>69.19</td>\n",
       "      <td>73.8</td>\n",
       "      <td>69.4</td>\n",
       "      <td>72.8</td>\n",
       "      <td>75.4</td>\n",
       "      <td>57.4</td>\n",
       "      <td>0</td>\n",
       "      <td>...</td>\n",
       "      <td>0</td>\n",
       "      <td>0</td>\n",
       "      <td>0</td>\n",
       "      <td>1</td>\n",
       "      <td>0</td>\n",
       "      <td>1</td>\n",
       "      <td>0</td>\n",
       "      <td>0</td>\n",
       "      <td>1</td>\n",
       "      <td>1</td>\n",
       "    </tr>\n",
       "    <tr>\n",
       "      <th>4</th>\n",
       "      <td>181.1</td>\n",
       "      <td>1.8725</td>\n",
       "      <td>80.69</td>\n",
       "      <td>69.19</td>\n",
       "      <td>23.1</td>\n",
       "      <td>22.6</td>\n",
       "      <td>22.1</td>\n",
       "      <td>19.9</td>\n",
       "      <td>23.2</td>\n",
       "      <td>0</td>\n",
       "      <td>...</td>\n",
       "      <td>0</td>\n",
       "      <td>0</td>\n",
       "      <td>1</td>\n",
       "      <td>1</td>\n",
       "      <td>0</td>\n",
       "      <td>1</td>\n",
       "      <td>0</td>\n",
       "      <td>0</td>\n",
       "      <td>1</td>\n",
       "      <td>1</td>\n",
       "    </tr>\n",
       "  </tbody>\n",
       "</table>\n",
       "<p>5 rows × 25 columns</p>\n",
       "</div>"
      ],
      "text/plain": [
       "    Sales  Cost Per Unit  4 Wk Avg Temp  4 Wk Avg Humidity  Sales M-1 weeks  \\\n",
       "0    51.9         1.6625          80.69              69.19             17.0   \n",
       "1    55.8         2.2725          80.69              69.19              2.4   \n",
       "2  3385.6         1.3475          80.69              69.19            301.8   \n",
       "3    63.5         1.6600          80.69              69.19             73.8   \n",
       "4   181.1         1.8725          80.69              69.19             23.1   \n",
       "\n",
       "   Sales M-2 weeks  Sales M-3 weeks  Sales M-4 Weeks  Sales M-5 weeks  \\\n",
       "0             22.4             13.5             14.5             28.0   \n",
       "1              2.2              2.0              1.4              0.5   \n",
       "2            188.8            101.4             81.6            213.8   \n",
       "3             69.4             72.8             75.4             57.4   \n",
       "4             22.6             22.1             19.9             23.2   \n",
       "\n",
       "   dmy_Product_11 Down          ...           dmy_Product_Koala Kola  \\\n",
       "0                    1          ...                                0   \n",
       "1                    0          ...                                0   \n",
       "2                    0          ...                                0   \n",
       "3                    0          ...                                0   \n",
       "4                    0          ...                                0   \n",
       "\n",
       "   dmy_Product_Mr. Popper  dmy_Product_Popsi Kola  dmy_Easter Included_No  \\\n",
       "0                       0                       0                       1   \n",
       "1                       0                       0                       1   \n",
       "2                       0                       0                       1   \n",
       "3                       0                       0                       1   \n",
       "4                       0                       1                       1   \n",
       "\n",
       "   dmy_Easter Included_Yes  dmy_Super Bowl Included_No  \\\n",
       "0                        0                           1   \n",
       "1                        0                           1   \n",
       "2                        0                           1   \n",
       "3                        0                           1   \n",
       "4                        0                           1   \n",
       "\n",
       "   dmy_Super Bowl Included_Yes  dmy_Christmas Included_No  \\\n",
       "0                            0                          0   \n",
       "1                            0                          0   \n",
       "2                            0                          0   \n",
       "3                            0                          0   \n",
       "4                            0                          0   \n",
       "\n",
       "   dmy_Christmas Included_Yes  dmy_Other Holiday_No  \n",
       "0                           1                     1  \n",
       "1                           1                     1  \n",
       "2                           1                     1  \n",
       "3                           1                     1  \n",
       "4                           1                     1  \n",
       "\n",
       "[5 rows x 25 columns]"
      ]
     },
     "execution_count": 1,
     "metadata": {},
     "output_type": "execute_result"
    }
   ],
   "source": [
    "import pandas\n",
    "df_hist = pandas.read_excel(\"soda_sales_historical_data.xlsx\")\n",
    "df_hist[:5]\n",
    "\n",
    "df_hist[df_hist[\"Product\"]==\"11 Down\"]\n",
    "\n",
    "from pandas import DataFrame, get_dummies\n",
    "categorical_columns = ['Product','Easter Included','Super Bowl Included', \n",
    "                       'Christmas Included', 'Other Holiday']\n",
    "df_hist = get_dummies(df_hist, prefix={k:\"dmy_%s\"%k for k in categorical_columns},\n",
    "                      columns = list(categorical_columns))\n",
    "df_hist[:5]"
   ]
  },
  {
   "cell_type": "code",
   "execution_count": 2,
   "metadata": {},
   "outputs": [],
   "source": [
    "from sklearn.tree import DecisionTreeRegressor\n",
    "from sklearn.ensemble import RandomForestRegressor\n",
    "from sklearn.linear_model import LinearRegression\n",
    "from sklearn.ensemble import BaggingRegressor\n",
    "from sklearn import model_selection\n",
    "experiments = {\"Algorithm\":[\"Ordinary Least Squares\", \"Regression Tree\", \n",
    "                            \"Big Random Forest\", \"Random Forest\", \n",
    "                            \"Bagging\"], \n",
    "               \"Objects\" : [lambda : LinearRegression(), \n",
    "                            lambda : DecisionTreeRegressor(), \n",
    "                            lambda : RandomForestRegressor(n_estimators=100), \n",
    "                            lambda : RandomForestRegressor(), \n",
    "                            lambda : BaggingRegressor()], \n",
    "               \"Predictions\":[[] for _ in range(5)]}\n",
    "actuals = []"
   ]
  },
  {
   "cell_type": "code",
   "execution_count": 3,
   "metadata": {},
   "outputs": [],
   "source": [
    "from sklearn.model_selection import train_test_split\n",
    "for _ in range (4):\n",
    "    train_X, test_X, train_y, test_y = (\n",
    "        train_test_split(df_hist.drop(\"Sales\", axis=1), \n",
    "                         df_hist[\"Sales\"], test_size=0.25))\n",
    "    for i, obj_factory in enumerate(experiments[\"Objects\"]):\n",
    "        obj = obj_factory()\n",
    "        obj.fit(y=train_y,X=train_X)\n",
    "        experiments[\"Predictions\"][i] += list(obj.predict(test_X))\n",
    "    actuals += list(test_y)\n",
    "actuals = pandas.Series(actuals)\n",
    "experiments[\"Predictions\"] = list(map(pandas.Series, experiments[\"Predictions\"]))"
   ]
  },
  {
   "cell_type": "code",
   "execution_count": 4,
   "metadata": {},
   "outputs": [],
   "source": [
    "experiments[\"Results\"] = []\n",
    "for o in experiments[\"Objects\"]:\n",
    "    experiments[\"Results\"].append(\n",
    "        model_selection.cross_val_score(o(), y=df_hist['Sales'], \n",
    "                                        X=df_hist.drop(\"Sales\", axis=1),\n",
    "                                        cv=5).mean())\n",
    "DataFrame(experiments).drop([\"Objects\", \"Predictions\"], \n",
    "                            axis=1).set_index(\"Algorithm\")\n",
    "\n",
    "fitted = (experiments[\"Objects\"]\n",
    "          [experiments[\"Algorithm\"].index(\"Big Random Forest\")]().\n",
    "          fit(y=df_hist[\"Sales\"], X=df_hist.drop(\"Sales\", axis=1)))"
   ]
  },
  {
   "cell_type": "code",
   "execution_count": 5,
   "metadata": {},
   "outputs": [
    {
     "data": {
      "text/plain": [
       "36"
      ]
     },
     "execution_count": 5,
     "metadata": {},
     "output_type": "execute_result"
    }
   ],
   "source": [
    "df_superbowl_original = pandas.read_excel(\"super_bowl_promotion_data.xlsx\")\n",
    "df_superbowl = get_dummies(df_superbowl_original, \n",
    "                           prefix={k:\"dmy_%s\"%k for k in categorical_columns},\n",
    "                           columns = list(categorical_columns))\n",
    "assert \"Sales\" not in df_superbowl.columns \n",
    "assert {\"Sales\"}.union(df_superbowl.columns).issubset(set(df_hist.columns))\n",
    "len(df_superbowl)"
   ]
  },
  {
   "cell_type": "code",
   "execution_count": 6,
   "metadata": {},
   "outputs": [],
   "source": [
    "for fld in set(df_hist.columns).difference(df_superbowl.columns, {\"Sales\"}):\n",
    "    assert fld.startswith(\"dmy_\")\n",
    "    df_superbowl[fld] = 0\n",
    "    \n",
    "df_superbowl = df_superbowl[list(df_hist.drop(\"Sales\", axis=1).columns)]\n",
    "\n",
    "predicted = fitted.predict(df_superbowl)\n"
   ]
  },
  {
   "cell_type": "code",
   "execution_count": 7,
   "metadata": {},
   "outputs": [],
   "source": [
    "forecast_sales = df_superbowl_original[[\"Product\", \"Cost Per Unit\"]].copy()\n",
    "forecast_sales[\"Sales\"] = predicted\n",
    "\n",
    "forecast_sales[\"Sales\"] = (forecast_sales[\"Sales\"]).astype(int)\n",
    "\n",
    "forecast_sales[\"Cost Per Unit\"] = (forecast_sales[\"Cost Per Unit\"]  *1000).astype(int)\n",
    "\n",
    "forecast_sales = forecast_sales.groupby(['Product','Cost Per Unit']).mean()"
   ]
  },
  {
   "cell_type": "code",
   "execution_count": 8,
   "metadata": {},
   "outputs": [
    {
     "data": {
      "text/html": [
       "<div>\n",
       "<style scoped>\n",
       "    .dataframe tbody tr th:only-of-type {\n",
       "        vertical-align: middle;\n",
       "    }\n",
       "\n",
       "    .dataframe tbody tr th {\n",
       "        vertical-align: top;\n",
       "    }\n",
       "\n",
       "    .dataframe thead th {\n",
       "        text-align: right;\n",
       "    }\n",
       "</style>\n",
       "<table border=\"1\" class=\"dataframe\">\n",
       "  <thead>\n",
       "    <tr style=\"text-align: right;\">\n",
       "      <th></th>\n",
       "      <th></th>\n",
       "      <th>Sales</th>\n",
       "    </tr>\n",
       "    <tr>\n",
       "      <th>Product</th>\n",
       "      <th>Cost Per Unit</th>\n",
       "      <th></th>\n",
       "    </tr>\n",
       "  </thead>\n",
       "  <tbody>\n",
       "    <tr>\n",
       "      <th rowspan=\"4\" valign=\"top\">11 Down</th>\n",
       "      <th>1455</th>\n",
       "      <td>258</td>\n",
       "    </tr>\n",
       "    <tr>\n",
       "      <th>1512</th>\n",
       "      <td>236</td>\n",
       "    </tr>\n",
       "    <tr>\n",
       "      <th>1537</th>\n",
       "      <td>201</td>\n",
       "    </tr>\n",
       "    <tr>\n",
       "      <th>1560</th>\n",
       "      <td>151</td>\n",
       "    </tr>\n",
       "    <tr>\n",
       "      <th>AB Root Beer</th>\n",
       "      <th>3730</th>\n",
       "      <td>382</td>\n",
       "    </tr>\n",
       "  </tbody>\n",
       "</table>\n",
       "</div>"
      ],
      "text/plain": [
       "                            Sales\n",
       "Product      Cost Per Unit       \n",
       "11 Down      1455             258\n",
       "             1512             236\n",
       "             1537             201\n",
       "             1560             151\n",
       "AB Root Beer 3730             382"
      ]
     },
     "execution_count": 8,
     "metadata": {},
     "output_type": "execute_result"
    }
   ],
   "source": [
    "forecast_sales.head()"
   ]
  },
  {
   "cell_type": "code",
   "execution_count": 9,
   "metadata": {},
   "outputs": [],
   "source": [
    "from __future__ import print_function\n",
    "from ortools.constraint_solver import pywrapcp as cp\n",
    "\n",
    "soda_family = {'11 Down': 'Clear', 'AB Root Beer': 'Dark', \n",
    "               'Alpine Stream': 'Clear', 'Bright': 'Clear', \n",
    "               'Crisp Clear': 'Clear', 'DC Kola': 'Dark',\n",
    "               'Koala Kola': 'Dark', 'Mr. Popper': 'Dark', \n",
    "               'Popsi Kola': 'Dark'}\n",
    "family  = set(soda_family[j] for j in soda_family)\n",
    "soda    = set(j for j in soda_family)\n",
    "max_prom = {f:2 for f in family}\n",
    "\n",
    "product_prices = set(forecast_sales.index.values)\n",
    "normal_price = {b:0 for b in soda}\n",
    "for b,p in product_prices:\n",
    "    normal_price[b] = max(normal_price[b],p)"
   ]
  },
  {
   "cell_type": "raw",
   "metadata": {},
   "source": [
    "for j in range(num_tasks):\n",
    "    ## This in effect sets constraints on the domain\n",
    "    t.append(solver.IntVar(0, 1, \"x[%i,%i]\" % (i, j)))"
   ]
  },
  {
   "cell_type": "code",
   "execution_count": 10,
   "metadata": {},
   "outputs": [],
   "source": [
    "from ortools.constraint_solver import pywrapcp as cp\n",
    "\n",
    "solver = cp.Solver(\"nothing_fancy\")\n"
   ]
  },
  {
   "cell_type": "raw",
   "metadata": {},
   "source": [
    "from ortools.linear_solver import pywraplp  ## See this is Linear Programming\n",
    "\n",
    "solver = pywraplp.Solver('SolveIntegerProblem',\n",
    "                       pywraplp.Solver.CBC_MIXED_INTEGER_PROGRAMMING)\n",
    "\n",
    "\n",
    "### The thing is, once you use this the X_array looks wrong"
   ]
  },
  {
   "cell_type": "code",
   "execution_count": 11,
   "metadata": {},
   "outputs": [],
   "source": [
    "## More Specific Keys\n",
    "forecast_sales_r =forecast_sales.reset_index()\n",
    "\n",
    "x_array = []\n",
    "\n",
    "\"\"\"x_array[\"Product\", \"Price\"]\"\"\"\n",
    "x_product = []\n",
    "for i, product in enumerate(forecast_sales_r.drop_duplicates(\"Product\")[\"Product\"].values):\n",
    "    t = []\n",
    "    for j, price in enumerate(forecast_sales_r[forecast_sales_r[\"Product\"]==product][\"Cost Per Unit\"].values):\n",
    "        ## This in effect sets constraints on the domain\n",
    "        t.append(solver.BoolVar(\"x[%s,%s]\" % (product, price)))\n",
    "    x_array.extend(t) ## produces a flat array\n",
    "    x_product.append(t)\n",
    "    \n",
    "### Because it occurs in the same order you can also use x_product"
   ]
  },
  {
   "cell_type": "code",
   "execution_count": 12,
   "metadata": {},
   "outputs": [],
   "source": [
    "products = forecast_sales_r.drop_duplicates(\"Product\")[\"Product\"].values"
   ]
  },
  {
   "cell_type": "code",
   "execution_count": 14,
   "metadata": {},
   "outputs": [],
   "source": [
    "### This is the problems with strings, you can't call them like this.\n",
    "### x_array[\"11 Down\"]"
   ]
  },
  {
   "cell_type": "code",
   "execution_count": 15,
   "metadata": {},
   "outputs": [
    {
     "data": {
      "text/plain": [
       "[x[11 Down,1455](0 .. 1),\n",
       " x[11 Down,1512](0 .. 1),\n",
       " x[11 Down,1537](0 .. 1),\n",
       " x[11 Down,1560](0 .. 1)]"
      ]
     },
     "execution_count": 15,
     "metadata": {},
     "output_type": "execute_result"
    }
   ],
   "source": [
    "x_product[0]"
   ]
  },
  {
   "cell_type": "code",
   "execution_count": 16,
   "metadata": {},
   "outputs": [
    {
     "data": {
      "text/plain": [
       "3880"
      ]
     },
     "execution_count": 16,
     "metadata": {},
     "output_type": "execute_result"
    }
   ],
   "source": [
    "int(forecast_sales_r[\"Sales\"].max()+1)"
   ]
  },
  {
   "cell_type": "code",
   "execution_count": 17,
   "metadata": {},
   "outputs": [],
   "source": [
    "forecast_sales_r[\"Revenue\"] = forecast_sales_r[\"Sales\"]*forecast_sales_r[\"Cost Per Unit\"]\n",
    "\n",
    "## x_product, x_array\n",
    "investment = solver.IntVar(0, 350*(1000)*1, \"investment\")\n",
    "sales = solver.IntVar(0, int(forecast_sales_r[\"Sales\"].max()*len(forecast_sales_r)), 'sales')\n",
    "revenue = solver.IntVar(0, int(forecast_sales_r[\"Revenue\"].max()*len(forecast_sales_r)), 'revenue')\n"
   ]
  },
  {
   "cell_type": "code",
   "execution_count": 18,
   "metadata": {},
   "outputs": [],
   "source": [
    "# Total cost\n",
    "solver.Add(sales == solver.Sum(x_array * forecast_sales_r.Sales))"
   ]
  },
  {
   "cell_type": "code",
   "execution_count": 19,
   "metadata": {},
   "outputs": [],
   "source": [
    "solver.Add(revenue == solver.Sum(forecast_sales.Sales[b,p] * p * \n",
    "                                 x_array[i] for i, (b,p) in enumerate(product_prices)))"
   ]
  },
  {
   "cell_type": "code",
   "execution_count": 20,
   "metadata": {},
   "outputs": [],
   "source": [
    "solver.Add(investment == \n",
    "                solver.Sum(max(0,forecast_sales.Sales[b,p] - \n",
    "                            forecast_sales.Sales[b,normal_price[b]]) *\n",
    "                        normal_price[b] * x_array[i] \n",
    "                        for i, (b,p) in enumerate(product_prices)))"
   ]
  },
  {
   "cell_type": "raw",
   "metadata": {},
   "source": [
    "solver.Add((solver.Sum(x_array[i] for i, (b,p) in enumerate(product_prices) if (soda_family[b] == f) and (p != normal_price[b]) ) <= max_prom[f] for f in family))"
   ]
  },
  {
   "cell_type": "code",
   "execution_count": 21,
   "metadata": {},
   "outputs": [
    {
     "data": {
      "text/plain": [
       "{'11 Down',\n",
       " 'AB Root Beer',\n",
       " 'Alpine Stream',\n",
       " 'Bright',\n",
       " 'Crisp Clear',\n",
       " 'DC Kola',\n",
       " 'Koala Kola',\n",
       " 'Mr. Popper',\n",
       " 'Popsi Kola'}"
      ]
     },
     "execution_count": 21,
     "metadata": {},
     "output_type": "execute_result"
    }
   ],
   "source": [
    "soda"
   ]
  },
  {
   "cell_type": "code",
   "execution_count": 22,
   "metadata": {},
   "outputs": [
    {
     "data": {
      "text/plain": [
       "x[11 Down,1455](0 .. 1)"
      ]
     },
     "execution_count": 22,
     "metadata": {},
     "output_type": "execute_result"
    }
   ],
   "source": [
    "x_array[0]"
   ]
  },
  {
   "cell_type": "code",
   "execution_count": 23,
   "metadata": {},
   "outputs": [
    {
     "data": {
      "text/plain": [
       "[[x[11 Down,1455](0 .. 1),\n",
       "  x[11 Down,1512](0 .. 1),\n",
       "  x[11 Down,1537](0 .. 1),\n",
       "  x[11 Down,1560](0 .. 1)],\n",
       " [x[AB Root Beer,3730](0 .. 1),\n",
       "  x[AB Root Beer,3770](0 .. 1),\n",
       "  x[AB Root Beer,3812](0 .. 1),\n",
       "  x[AB Root Beer,3842](0 .. 1)],\n",
       " [x[Alpine Stream,1997](0 .. 1),\n",
       "  x[Alpine Stream,2137](0 .. 1),\n",
       "  x[Alpine Stream,2150](0 .. 1),\n",
       "  x[Alpine Stream,2227](0 .. 1)],\n",
       " [x[Bright,1272](0 .. 1), x[Bright,1282](0 .. 1), x[Bright,1290](0 .. 1)],\n",
       " [x[Crisp Clear,1312](0 .. 1),\n",
       "  x[Crisp Clear,1342](0 .. 1),\n",
       "  x[Crisp Clear,1427](0 .. 1),\n",
       "  x[Crisp Clear,1470](0 .. 1)],\n",
       " [x[DC Kola,1890](0 .. 1),\n",
       "  x[DC Kola,1915](0 .. 1),\n",
       "  x[DC Kola,1925](0 .. 1),\n",
       "  x[DC Kola,1932](0 .. 1)],\n",
       " [x[Koala Kola,2482](0 .. 1),\n",
       "  x[Koala Kola,2535](0 .. 1),\n",
       "  x[Koala Kola,2560](0 .. 1),\n",
       "  x[Koala Kola,2565](0 .. 1)],\n",
       " [x[Mr. Popper,2847](0 .. 1),\n",
       "  x[Mr. Popper,2892](0 .. 1),\n",
       "  x[Mr. Popper,2895](0 .. 1),\n",
       "  x[Mr. Popper,2900](0 .. 1),\n",
       "  x[Mr. Popper,2985](0 .. 1)],\n",
       " [x[Popsi Kola,1672](0 .. 1),\n",
       "  x[Popsi Kola,1712](0 .. 1),\n",
       "  x[Popsi Kola,1727](0 .. 1),\n",
       "  x[Popsi Kola,1750](0 .. 1)]]"
      ]
     },
     "execution_count": 23,
     "metadata": {},
     "output_type": "execute_result"
    }
   ],
   "source": [
    "x_product"
   ]
  },
  {
   "cell_type": "code",
   "execution_count": 24,
   "metadata": {},
   "outputs": [],
   "source": [
    "unique_prod = len(forecast_sales_r.drop_duplicates(\"Product\")[\"Product\"].values)"
   ]
  },
  {
   "cell_type": "code",
   "execution_count": 55,
   "metadata": {},
   "outputs": [
    {
     "data": {
      "text/plain": [
       "array([0, 0, 0, 0, 1, 1, 1, 1, 2, 2, 2, 2, 3, 3, 3, 4, 4, 4, 4, 5, 5, 5,\n",
       "       5, 6, 6, 6, 6, 7, 7, 7, 7, 7, 8, 8, 8, 8])"
      ]
     },
     "execution_count": 55,
     "metadata": {},
     "output_type": "execute_result"
    }
   ],
   "source": [
    "from sklearn import preprocessing\n",
    "le = preprocessing.LabelEncoder()\n",
    "\n"
   ]
  },
  {
   "cell_type": "code",
   "execution_count": 56,
   "metadata": {},
   "outputs": [],
   "source": [
    "forecast_sales_r[\"Product_code\"] = le.fit_transform(forecast_sales_r[\"Product\"])"
   ]
  },
  {
   "cell_type": "code",
   "execution_count": 59,
   "metadata": {},
   "outputs": [],
   "source": [
    "forecast_sales_r[\"Iteration_code\"] = forecast_sales_r.groupby('Product').cumcount()"
   ]
  },
  {
   "cell_type": "code",
   "execution_count": 62,
   "metadata": {},
   "outputs": [
    {
     "data": {
      "text/plain": [
       "[None]"
      ]
     },
     "execution_count": 62,
     "metadata": {},
     "output_type": "execute_result"
    }
   ],
   "source": [
    "## So at three works pretty well but need 4. \n",
    "## Dis moeilik om met die oneweridhedi the deal \n",
    "[solver.Add(solver.Sum(x_product[i][j] for i,j in zip(forecast_sales_r[\"Product_code\"],forecast_sales_r[\"Iteration_code\"] )) <= 1)]\n",
    "\n"
   ]
  },
  {
   "cell_type": "raw",
   "metadata": {},
   "source": [
    "## I have not ide whether this would work\n",
    "## will have to work in  <= 1\n",
    "dap = {}\n",
    "for i, product in enumerate(forecast_sales_r.drop_duplicates(\"Product\")[\"Product\"].values):\n",
    "    dap[product] = len(forecast_sales_r[forecast_sales_r[\"Product\"]==product][\"Cost Per Unit\"].values)"
   ]
  },
  {
   "cell_type": "raw",
   "metadata": {},
   "source": [
    "## So at three works pretty well but need 4. \n",
    "## Dis moeilik om met die oneweridhedi the deal \n",
    "[solver.Add(solver.Sum(x_product[i][j] for i, product in enumerate(forecast_sales_r.drop_duplicates(\"Product\")[\"Product\"].values)) <= 1)\n",
    " for j in range(dap[product])]\n",
    "\n"
   ]
  },
  {
   "cell_type": "raw",
   "metadata": {},
   "source": [
    "## So at three works pretty well but need 4. \n",
    "## Dis moeilik om met die oneweridhedi the deal \n",
    "[solver.Add(solver.Sum(x_product[i][j] for i, product in enumerate(forecast_sales_r.drop_duplicates(\"Product\")[\"Product\"].values)) <= 1)\n",
    " for j in range(len(forecast_sales_r[forecast_sales_r[\"Product\"]==product][\"Cost Per Unit\"]))]\n"
   ]
  },
  {
   "cell_type": "code",
   "execution_count": 27,
   "metadata": {},
   "outputs": [],
   "source": [
    "## This one is important as it sets it in motion. \n",
    "obj = sales\n",
    "#obj = revevue"
   ]
  },
  {
   "cell_type": "code",
   "execution_count": 28,
   "metadata": {},
   "outputs": [],
   "source": [
    "### Eks nog steeds nie seker of jy die regte ding maximiseer nie\n",
    "objective = solver.Maximize(obj, step=1)"
   ]
  },
  {
   "cell_type": "code",
   "execution_count": 29,
   "metadata": {},
   "outputs": [],
   "source": [
    "db = solver.Phase(x_array,\n",
    "                solver.CHOOSE_FIRST_UNBOUND,\n",
    "                solver.ASSIGN_MIN_VALUE)\n"
   ]
  },
  {
   "cell_type": "code",
   "execution_count": 31,
   "metadata": {},
   "outputs": [],
   "source": [
    "collector = solver.LastSolutionCollector()\n",
    "for i in range(len(x_array)):\n",
    "    collector.Add(x_array[i])\n",
    "\n"
   ]
  },
  {
   "cell_type": "code",
   "execution_count": 32,
   "metadata": {},
   "outputs": [
    {
     "data": {
      "text/plain": [
       "True"
      ]
     },
     "execution_count": 32,
     "metadata": {},
     "output_type": "execute_result"
    }
   ],
   "source": [
    "collector.AddObjective(obj)\n",
    "solver.Solve(db, [objective, collector])\n"
   ]
  },
  {
   "cell_type": "code",
   "execution_count": 33,
   "metadata": {},
   "outputs": [
    {
     "data": {
      "text/plain": [
       "x[11 Down,1512](0 .. 1)"
      ]
     },
     "execution_count": 33,
     "metadata": {},
     "output_type": "execute_result"
    }
   ],
   "source": [
    "x_array[1]"
   ]
  },
  {
   "cell_type": "code",
   "execution_count": 34,
   "metadata": {},
   "outputs": [
    {
     "name": "stdout",
     "output_type": "stream",
     "text": [
      "Sales =  11115\n",
      "\n",
      "Item  3\n",
      "Item  7\n",
      "Item  11\n",
      "Item  12\n",
      "Item  13\n",
      "Item  18\n",
      "Item  22\n",
      "Item  25\n",
      "Item  26\n",
      "Item  30\n",
      "Item  31\n",
      "Item  35\n"
     ]
    }
   ],
   "source": [
    "if collector.SolutionCount() > 0:\n",
    "    best_solution = collector.SolutionCount() - 1\n",
    "    print(\"Sales = \", collector.ObjectiveValue(best_solution))\n",
    "    print()\n",
    "    index = []\n",
    "    for i in range(len(x_array)):\n",
    "        if collector.Value(best_solution, x_array[i]) == 1:\n",
    "            print('Item ', i)\n",
    "            index.append(i)\n",
    "\n",
    "\n",
    "# 12943"
   ]
  },
  {
   "cell_type": "code",
   "execution_count": null,
   "metadata": {},
   "outputs": [],
   "source": [
    "revenue = 34660855\n",
    "Sales =  18481\n",
    "\n",
    "Item  0\n",
    "Item  1\n",
    "Item  2\n",
    "Item  4\n",
    "Item  5\n",
    "Item  6\n",
    "Item  7\n",
    "Item  9\n",
    "Item  10\n",
    "Item  12\n",
    "Item  13\n",
    "Item  14\n",
    "Item  15\n",
    "Item  16\n",
    "Item  17\n",
    "Item  19\n",
    "Item  21\n",
    "Item  23\n",
    "Item  24\n",
    "Item  25\n",
    "Item  28\n",
    "Item  30\n",
    "Item  32\n",
    "Item  35"
   ]
  },
  {
   "cell_type": "raw",
   "metadata": {},
   "source": [
    "revenue = 34858584\n",
    "Sales =  18440\n",
    "\n",
    "Item  1\n",
    "Item  6\n",
    "Item  7\n",
    "Item  9\n",
    "Item  10\n",
    "Item  11\n",
    "Item  12\n",
    "Item  13\n",
    "Item  15\n",
    "Item  17\n",
    "Item  18\n",
    "Item  21\n",
    "Item  22\n",
    "Item  23\n",
    "Item  26\n",
    "Item  27\n",
    "Item  28\n",
    "Item  30\n",
    "Item  31\n",
    "Item  32\n",
    "Item  33"
   ]
  },
  {
   "cell_type": "code",
   "execution_count": 35,
   "metadata": {},
   "outputs": [
    {
     "data": {
      "text/html": [
       "<div>\n",
       "<style scoped>\n",
       "    .dataframe tbody tr th:only-of-type {\n",
       "        vertical-align: middle;\n",
       "    }\n",
       "\n",
       "    .dataframe tbody tr th {\n",
       "        vertical-align: top;\n",
       "    }\n",
       "\n",
       "    .dataframe thead th {\n",
       "        text-align: right;\n",
       "    }\n",
       "</style>\n",
       "<table border=\"1\" class=\"dataframe\">\n",
       "  <thead>\n",
       "    <tr style=\"text-align: right;\">\n",
       "      <th></th>\n",
       "      <th>Product</th>\n",
       "      <th>Cost Per Unit</th>\n",
       "      <th>Sales</th>\n",
       "      <th>Revenue</th>\n",
       "    </tr>\n",
       "  </thead>\n",
       "  <tbody>\n",
       "    <tr>\n",
       "      <th>3</th>\n",
       "      <td>11 Down</td>\n",
       "      <td>1560</td>\n",
       "      <td>151</td>\n",
       "      <td>235560</td>\n",
       "    </tr>\n",
       "    <tr>\n",
       "      <th>7</th>\n",
       "      <td>AB Root Beer</td>\n",
       "      <td>3842</td>\n",
       "      <td>376</td>\n",
       "      <td>1444592</td>\n",
       "    </tr>\n",
       "    <tr>\n",
       "      <th>11</th>\n",
       "      <td>Alpine Stream</td>\n",
       "      <td>2227</td>\n",
       "      <td>160</td>\n",
       "      <td>356320</td>\n",
       "    </tr>\n",
       "    <tr>\n",
       "      <th>12</th>\n",
       "      <td>Bright</td>\n",
       "      <td>1272</td>\n",
       "      <td>3879</td>\n",
       "      <td>4934088</td>\n",
       "    </tr>\n",
       "    <tr>\n",
       "      <th>13</th>\n",
       "      <td>Bright</td>\n",
       "      <td>1282</td>\n",
       "      <td>2740</td>\n",
       "      <td>3512680</td>\n",
       "    </tr>\n",
       "    <tr>\n",
       "      <th>18</th>\n",
       "      <td>Crisp Clear</td>\n",
       "      <td>1470</td>\n",
       "      <td>176</td>\n",
       "      <td>258720</td>\n",
       "    </tr>\n",
       "    <tr>\n",
       "      <th>22</th>\n",
       "      <td>DC Kola</td>\n",
       "      <td>1932</td>\n",
       "      <td>457</td>\n",
       "      <td>882924</td>\n",
       "    </tr>\n",
       "    <tr>\n",
       "      <th>25</th>\n",
       "      <td>Koala Kola</td>\n",
       "      <td>2560</td>\n",
       "      <td>1484</td>\n",
       "      <td>3799040</td>\n",
       "    </tr>\n",
       "    <tr>\n",
       "      <th>26</th>\n",
       "      <td>Koala Kola</td>\n",
       "      <td>2565</td>\n",
       "      <td>1484</td>\n",
       "      <td>3806460</td>\n",
       "    </tr>\n",
       "    <tr>\n",
       "      <th>30</th>\n",
       "      <td>Mr. Popper</td>\n",
       "      <td>2900</td>\n",
       "      <td>34</td>\n",
       "      <td>98600</td>\n",
       "    </tr>\n",
       "    <tr>\n",
       "      <th>31</th>\n",
       "      <td>Mr. Popper</td>\n",
       "      <td>2985</td>\n",
       "      <td>30</td>\n",
       "      <td>89550</td>\n",
       "    </tr>\n",
       "    <tr>\n",
       "      <th>35</th>\n",
       "      <td>Popsi Kola</td>\n",
       "      <td>1750</td>\n",
       "      <td>144</td>\n",
       "      <td>252000</td>\n",
       "    </tr>\n",
       "  </tbody>\n",
       "</table>\n",
       "</div>"
      ],
      "text/plain": [
       "          Product  Cost Per Unit  Sales  Revenue\n",
       "3         11 Down           1560    151   235560\n",
       "7    AB Root Beer           3842    376  1444592\n",
       "11  Alpine Stream           2227    160   356320\n",
       "12         Bright           1272   3879  4934088\n",
       "13         Bright           1282   2740  3512680\n",
       "18    Crisp Clear           1470    176   258720\n",
       "22        DC Kola           1932    457   882924\n",
       "25     Koala Kola           2560   1484  3799040\n",
       "26     Koala Kola           2565   1484  3806460\n",
       "30     Mr. Popper           2900     34    98600\n",
       "31     Mr. Popper           2985     30    89550\n",
       "35     Popsi Kola           1750    144   252000"
      ]
     },
     "execution_count": 35,
     "metadata": {},
     "output_type": "execute_result"
    }
   ],
   "source": [
    "forecast_sales_r[forecast_sales_r.index.isin(index)]"
   ]
  },
  {
   "cell_type": "code",
   "execution_count": null,
   "metadata": {},
   "outputs": [],
   "source": [
    "forecast_sales_r[forecast_sales_r.index.isin(index)][\"Sales\"].sum()"
   ]
  },
  {
   "cell_type": "code",
   "execution_count": null,
   "metadata": {},
   "outputs": [],
   "source": [
    "forecast_sales_r"
   ]
  },
  {
   "cell_type": "code",
   "execution_count": null,
   "metadata": {},
   "outputs": [],
   "source": [
    "sol"
   ]
  },
  {
   "cell_type": "code",
   "execution_count": null,
   "metadata": {},
   "outputs": [],
   "source": [
    "sales"
   ]
  },
  {
   "cell_type": "code",
   "execution_count": null,
   "metadata": {},
   "outputs": [],
   "source": [
    "db = solver.Phase(x_array,\n",
    "                solver.CHOOSE_FIRST_UNBOUND, # The VAR strategy\n",
    "                solver.ASSIGN_MIN_VALUE)     # The Value strategy\n",
    "\n",
    "# Create a solution collector.\n",
    "collector = solver.LastSolutionCollector()\n",
    "# Add decision variables\n",
    "#collector.Add(x_array)\n",
    "\n",
    "for i in range(num_workers):\n",
    "    collector.Add(x_worker[i])"
   ]
  },
  {
   "cell_type": "code",
   "execution_count": null,
   "metadata": {},
   "outputs": [],
   "source": [
    "decision_builder = solver.Phase([x, y],\n",
    "                                  solver.CHOOSE_FIRST_UNBOUND,\n",
    "                                  solver.ASSIGN_MIN_VALUE)"
   ]
  },
  {
   "cell_type": "code",
   "execution_count": null,
   "metadata": {},
   "outputs": [],
   "source": []
  },
  {
   "cell_type": "code",
   "execution_count": null,
   "metadata": {},
   "outputs": [],
   "source": []
  },
  {
   "cell_type": "code",
   "execution_count": null,
   "metadata": {},
   "outputs": [],
   "source": []
  },
  {
   "cell_type": "code",
   "execution_count": null,
   "metadata": {},
   "outputs": [],
   "source": []
  },
  {
   "cell_type": "code",
   "execution_count": null,
   "metadata": {},
   "outputs": [],
   "source": []
  },
  {
   "cell_type": "code",
   "execution_count": null,
   "metadata": {},
   "outputs": [],
   "source": []
  }
 ],
 "metadata": {
  "kernelspec": {
   "display_name": "py36",
   "language": "python",
   "name": "py36"
  },
  "language_info": {
   "codemirror_mode": {
    "name": "ipython",
    "version": 3
   },
   "file_extension": ".py",
   "mimetype": "text/x-python",
   "name": "python",
   "nbconvert_exporter": "python",
   "pygments_lexer": "ipython3",
   "version": "3.6.3"
  }
 },
 "nbformat": 4,
 "nbformat_minor": 2
}
