{
 "cells": [
  {
   "cell_type": "markdown",
   "metadata": {},
   "source": [
    "# Simple optimization notebook\n",
    "\n",
    "A demonstration of the ease with which a novice could build experience by building a simple yet functional notebook that combines Python, MIP and `ticdat`. \n",
    "\n",
    "This notebook reads a diet problem data set from the local file \"diet_sample_data.xlsx\". It optimizes the model, and if the solution is feasible, it displays the solution information.\n",
    "\n",
    "Once a notebook like this is working, it should be an easy task to recycle the code into a robust, stand-alone solver such as [this](https://github.com/opalytics/opalytics-ticdat/blob/master/examples/expert_section/gurobi/diet.py)."
   ]
  },
  {
   "cell_type": "code",
   "execution_count": 1,
   "metadata": {
    "collapsed": true
   },
   "outputs": [],
   "source": [
    "from ticdat import TicDatFactory\n",
    "input_schema = TicDatFactory (\n",
    "    categories = [[\"Name\"],[\"Min Nutrition\", \"Max Nutrition\"]],\n",
    "    foods  = [[\"Name\"],[\"Cost\"]],\n",
    "    nutrition_quantities = [[\"Food\", \"Category\"], [\"Quantity\"]])"
   ]
  },
  {
   "cell_type": "code",
   "execution_count": 2,
   "metadata": {
    "collapsed": true
   },
   "outputs": [],
   "source": [
    "dat = input_schema.xls.create_tic_dat(\"diet_sample_data.xlsx\")"
   ]
  },
  {
   "cell_type": "code",
   "execution_count": 3,
   "metadata": {
    "collapsed": true
   },
   "outputs": [],
   "source": [
    "import gurobipy as gu\n",
    "mdl = gu.Model(\"diet\")"
   ]
  },
  {
   "cell_type": "code",
   "execution_count": 4,
   "metadata": {
    "collapsed": false
   },
   "outputs": [],
   "source": [
    "nutrition = {c:mdl.addVar(lb=n[\"Min Nutrition\"], ub=n[\"Max Nutrition\"], name=c)\n",
    "            for c,n in dat.categories.items()}\n",
    "buy = {f:mdl.addVar(name=f) for f in dat.foods}"
   ]
  },
  {
   "cell_type": "code",
   "execution_count": 5,
   "metadata": {
    "collapsed": true
   },
   "outputs": [],
   "source": [
    "for c in dat.categories:\n",
    "    mdl.addConstr(gu.quicksum(dat.nutrition_quantities[f,c][\"Quantity\"] * buy[f]\n",
    "                  for f in dat.foods) == nutrition[c],\n",
    "                  name = c)"
   ]
  },
  {
   "cell_type": "code",
   "execution_count": 6,
   "metadata": {
    "collapsed": false
   },
   "outputs": [
    {
     "name": "stdout",
     "output_type": "stream",
     "text": [
      "Optimize a model with 4 rows, 13 columns and 40 nonzeros\n",
      "Coefficient statistics:\n",
      "  Matrix range     [1e+00, 2e+03]\n",
      "  Objective range  [9e-01, 3e+00]\n",
      "  Bounds range     [6e+01, 2e+03]\n",
      "  RHS range        [0e+00, 0e+00]\n",
      "Presolve removed 0 rows and 3 columns\n",
      "Presolve time: 0.01s\n",
      "Presolved: 4 rows, 10 columns, 37 nonzeros\n",
      "\n",
      "Iteration    Objective       Primal Inf.    Dual Inf.      Time\n",
      "       0    0.0000000e+00   4.601562e+00   0.000000e+00      0s\n",
      "       4    1.1828861e+01   0.000000e+00   0.000000e+00      0s\n",
      "\n",
      "Solved in 4 iterations and 0.01 seconds\n",
      "Optimal objective  1.182886111e+01\n"
     ]
    }
   ],
   "source": [
    "mdl.setObjective(gu.quicksum(buy[f] * c[\"Cost\"] for f,c in dat.foods.items()),\n",
    "                     sense=gu.GRB.MINIMIZE)\n",
    "mdl.optimize()"
   ]
  },
  {
   "cell_type": "code",
   "execution_count": 7,
   "metadata": {
    "collapsed": false
   },
   "outputs": [
    {
     "data": {
      "text/plain": [
       "True"
      ]
     },
     "execution_count": 7,
     "metadata": {},
     "output_type": "execute_result"
    }
   ],
   "source": [
    "mdl.status == gu.GRB.OPTIMAL"
   ]
  },
  {
   "cell_type": "code",
   "execution_count": 8,
   "metadata": {
    "collapsed": false
   },
   "outputs": [
    {
     "name": "stdout",
     "output_type": "stream",
     "text": [
      "hamburger            0.604513888889\n",
      "milk                 6.97013888889\n",
      "ice cream            2.59131944444\n"
     ]
    }
   ],
   "source": [
    "for f,x in buy.items():\n",
    "    if x.x > 0:\n",
    "        print \"%-20s %s\"%(f, x.x)"
   ]
  },
  {
   "cell_type": "code",
   "execution_count": 9,
   "metadata": {
    "collapsed": false
   },
   "outputs": [
    {
     "name": "stdout",
     "output_type": "stream",
     "text": [
      "protein              91.0\n",
      "calories             1800.0\n",
      "fat                  59.0559027778\n",
      "sodium               1779.0\n"
     ]
    }
   ],
   "source": [
    "for c,x in nutrition.items():\n",
    "    print \"%-20s %s\"%(c, x.x)"
   ]
  },
  {
   "cell_type": "code",
   "execution_count": 10,
   "metadata": {
    "collapsed": false
   },
   "outputs": [
    {
     "name": "stdout",
     "output_type": "stream",
     "text": [
      "Total Cost: 11.8288611111\n"
     ]
    }
   ],
   "source": [
    "print \"Total Cost: %s\"%sum(dat.foods[f][\"Cost\"] * x.x for f,x in buy.items())"
   ]
  },
  {
   "cell_type": "code",
   "execution_count": null,
   "metadata": {
    "collapsed": true
   },
   "outputs": [],
   "source": []
  }
 ],
 "metadata": {
  "kernelspec": {
   "display_name": "Python 2",
   "language": "python",
   "name": "python2"
  },
  "language_info": {
   "codemirror_mode": {
    "name": "ipython",
    "version": 2
   },
   "file_extension": ".py",
   "mimetype": "text/x-python",
   "name": "python",
   "nbconvert_exporter": "python",
   "pygments_lexer": "ipython2",
   "version": "2.7.11"
  }
 },
 "nbformat": 4,
 "nbformat_minor": 0
}
