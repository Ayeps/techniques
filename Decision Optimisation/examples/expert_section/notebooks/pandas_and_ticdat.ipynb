{
 "cells": [
  {
   "cell_type": "markdown",
   "metadata": {},
   "source": [
    "## pandas and ticdat"
   ]
  },
  {
   "cell_type": "markdown",
   "metadata": {},
   "source": [
    "`pandas` is arguably the most successful data library in history, not just for Python but across all languages. That said,  in the context of prescriptive analytics in general, and Mixed-Integer-Programming in particular, there are a few reasons to use `pandas.DataFrame` with caution. For one, `DataFrame` might present a level of complexity that is seen as intimidating to novice Python developers. For another, there are common MIP idioms (such as empty slicing returning an empty set) that [aren't supported by `DataFrame`](https://github.com/pydata/pandas/issues/10695). In fact, such \"iterate over indicies and capture slices of other tables\" coding strategies are not likely to be thought of as pandonic (i.e. idiomatic `pandas` code). Last (and also probably not least) a `DataFrame` might not be the most computationally efficient data structure if your primary method of accessing data is via primary-key based slices.  \n",
    "\n",
    "In sum, as [Jeff](https://github.com/jreback) says, \"iterating over values is not idiomatic at all and completely non performant\". This is not a ringing endorsement for a data science community that is used to expressing constraints precisely by iterating over values - either as part of an inner summation or in order to generate a collection of similar constraints.\n",
    "\n",
    "Regardless, `ticdat` wants to stand in solidarity with `pandas`. We all share the same goal - to unify data science with a common high level programming language.  To that end, `ticdat` supports `pandas` in 2 ways - either by creating `TicDat` objects from properly formatted `DataFrame` objects, or by creating a `DataFrame` based copy of a `TicDat` object. \n",
    "\n",
    "This notebook focuses on the latter technique. Here, we dive into the nuances of the `copy_to_pandas` routine.\n",
    "\n",
    "To begin, lets use the `ticdat` testing section to get some data tables. (As always, the testing section is **not** appropriate for production code, but is fine for demonstration code like this)."
   ]
  },
  {
   "cell_type": "code",
   "execution_count": 1,
   "metadata": {
    "collapsed": true
   },
   "outputs": [],
   "source": [
    "import ticdat.testing.testutils as tdu\n",
    "from ticdat import TicDatFactory\n",
    "tdf = TicDatFactory(**tdu.netflowSchema())\n",
    "dat = tdf.copy_tic_dat(tdu.netflowData())"
   ]
  },
  {
   "cell_type": "markdown",
   "metadata": {},
   "source": [
    "Now let's look at a couple of different types of tables, and see what how `copy_to_pandas` handles different types of data. Here is the \"cost\" table both in dict-of-dicts format and the as a `DataFrame`."
   ]
  },
  {
   "cell_type": "code",
   "execution_count": 2,
   "metadata": {
    "collapsed": false
   },
   "outputs": [
    {
     "data": {
      "text/plain": [
       "{('Pencils', 'Denver', 'Boston'): _td:{'cost': 40},\n",
       " ('Pencils', 'Denver', 'New York'): _td:{'cost': 40},\n",
       " ('Pencils', 'Denver', 'Seattle'): _td:{'cost': 30},\n",
       " ('Pencils', 'Detroit', 'Boston'): _td:{'cost': 10},\n",
       " ('Pencils', 'Detroit', 'New York'): _td:{'cost': 20},\n",
       " ('Pencils', 'Detroit', 'Seattle'): _td:{'cost': 60},\n",
       " ('Pens', 'Denver', 'Boston'): _td:{'cost': 60},\n",
       " ('Pens', 'Denver', 'New York'): _td:{'cost': 70},\n",
       " ('Pens', 'Denver', 'Seattle'): _td:{'cost': 30},\n",
       " ('Pens', 'Detroit', 'Boston'): _td:{'cost': 20},\n",
       " ('Pens', 'Detroit', 'New York'): _td:{'cost': 20},\n",
       " ('Pens', 'Detroit', 'Seattle'): _td:{'cost': 80}}"
      ]
     },
     "execution_count": 2,
     "metadata": {},
     "output_type": "execute_result"
    }
   ],
   "source": [
    "dat.cost"
   ]
  },
  {
   "cell_type": "code",
   "execution_count": 3,
   "metadata": {
    "collapsed": false
   },
   "outputs": [
    {
     "data": {
      "text/html": [
       "<div>\n",
       "<table border=\"1\" class=\"dataframe\">\n",
       "  <thead>\n",
       "    <tr style=\"text-align: right;\">\n",
       "      <th></th>\n",
       "      <th></th>\n",
       "      <th></th>\n",
       "      <th>cost</th>\n",
       "    </tr>\n",
       "    <tr>\n",
       "      <th>commodity</th>\n",
       "      <th>source</th>\n",
       "      <th>destination</th>\n",
       "      <th></th>\n",
       "    </tr>\n",
       "  </thead>\n",
       "  <tbody>\n",
       "    <tr>\n",
       "      <th rowspan=\"6\" valign=\"top\">Pencils</th>\n",
       "      <th rowspan=\"3\" valign=\"top\">Denver</th>\n",
       "      <th>Boston</th>\n",
       "      <td>40</td>\n",
       "    </tr>\n",
       "    <tr>\n",
       "      <th>New York</th>\n",
       "      <td>40</td>\n",
       "    </tr>\n",
       "    <tr>\n",
       "      <th>Seattle</th>\n",
       "      <td>30</td>\n",
       "    </tr>\n",
       "    <tr>\n",
       "      <th rowspan=\"3\" valign=\"top\">Detroit</th>\n",
       "      <th>Boston</th>\n",
       "      <td>10</td>\n",
       "    </tr>\n",
       "    <tr>\n",
       "      <th>New York</th>\n",
       "      <td>20</td>\n",
       "    </tr>\n",
       "    <tr>\n",
       "      <th>Seattle</th>\n",
       "      <td>60</td>\n",
       "    </tr>\n",
       "    <tr>\n",
       "      <th rowspan=\"6\" valign=\"top\">Pens</th>\n",
       "      <th rowspan=\"3\" valign=\"top\">Denver</th>\n",
       "      <th>Boston</th>\n",
       "      <td>60</td>\n",
       "    </tr>\n",
       "    <tr>\n",
       "      <th>New York</th>\n",
       "      <td>70</td>\n",
       "    </tr>\n",
       "    <tr>\n",
       "      <th>Seattle</th>\n",
       "      <td>30</td>\n",
       "    </tr>\n",
       "    <tr>\n",
       "      <th rowspan=\"3\" valign=\"top\">Detroit</th>\n",
       "      <th>Boston</th>\n",
       "      <td>20</td>\n",
       "    </tr>\n",
       "    <tr>\n",
       "      <th>New York</th>\n",
       "      <td>20</td>\n",
       "    </tr>\n",
       "    <tr>\n",
       "      <th>Seattle</th>\n",
       "      <td>80</td>\n",
       "    </tr>\n",
       "  </tbody>\n",
       "</table>\n",
       "</div>"
      ],
      "text/plain": [
       "                               cost\n",
       "commodity source  destination      \n",
       "Pencils   Denver  Boston         40\n",
       "                  New York       40\n",
       "                  Seattle        30\n",
       "          Detroit Boston         10\n",
       "                  New York       20\n",
       "                  Seattle        60\n",
       "Pens      Denver  Boston         60\n",
       "                  New York       70\n",
       "                  Seattle        30\n",
       "          Detroit Boston         20\n",
       "                  New York       20\n",
       "                  Seattle        80"
      ]
     },
     "execution_count": 3,
     "metadata": {},
     "output_type": "execute_result"
    }
   ],
   "source": [
    "df_cost = tdf.copy_to_pandas(dat).cost\n",
    "df_cost"
   ]
  },
  {
   "cell_type": "markdown",
   "metadata": {},
   "source": [
    "It's important to emphasize whats happening. The only column in the `DataFrame` is \"cost\". This is because the cost table only has a single data field (also named \"cost\"). The \"commodity\",\"source\",\"destination\" columns are all primary key columns. To avoid redundant data in the `DataFrame`, `copy_to_pandas` includes this information only as part of the index of the `DataFrame`."
   ]
  },
  {
   "cell_type": "code",
   "execution_count": 4,
   "metadata": {
    "collapsed": false
   },
   "outputs": [
    {
     "data": {
      "text/plain": [
       "MultiIndex(levels=[[u'Pencils', u'Pens'], [u'Denver', u'Detroit'], [u'Boston', u'New York', u'Seattle']],\n",
       "           labels=[[0, 0, 0, 0, 0, 0, 1, 1, 1, 1, 1, 1], [0, 0, 0, 1, 1, 1, 0, 0, 0, 1, 1, 1], [0, 1, 2, 0, 1, 2, 0, 1, 2, 0, 1, 2]],\n",
       "           names=[u'commodity', u'source', u'destination'])"
      ]
     },
     "execution_count": 4,
     "metadata": {},
     "output_type": "execute_result"
    }
   ],
   "source": [
    "df_cost.index"
   ]
  },
  {
   "cell_type": "markdown",
   "metadata": {},
   "source": [
    "This is also a good time to point out that asking \"is this row present\" is completely different for the \"dict-of-dicts\" representation than for the `DataFrame` representation. Choices are good - use whatever version will make your code more readable. Personally, I'd be a little worried that someone might forget to include `.index` when looking for row presence in `pandas`, but I also think an experienced `pandas` developer would be pretty unlikely to make that mistake."
   ]
  },
  {
   "cell_type": "code",
   "execution_count": 5,
   "metadata": {
    "collapsed": false
   },
   "outputs": [
    {
     "data": {
      "text/plain": [
       "False"
      ]
     },
     "execution_count": 5,
     "metadata": {},
     "output_type": "execute_result"
    }
   ],
   "source": [
    "('Pens', 'Denver', 'Seattle') in df_cost"
   ]
  },
  {
   "cell_type": "code",
   "execution_count": 6,
   "metadata": {
    "collapsed": false
   },
   "outputs": [
    {
     "data": {
      "text/plain": [
       "True"
      ]
     },
     "execution_count": 6,
     "metadata": {},
     "output_type": "execute_result"
    }
   ],
   "source": [
    "('Pens', 'Denver', 'Seattle') in df_cost.index"
   ]
  },
  {
   "cell_type": "code",
   "execution_count": 7,
   "metadata": {
    "collapsed": false
   },
   "outputs": [
    {
     "data": {
      "text/plain": [
       "True"
      ]
     },
     "execution_count": 7,
     "metadata": {},
     "output_type": "execute_result"
    }
   ],
   "source": [
    "('Pens', 'Denver', 'Seattle') in dat.cost"
   ]
  },
  {
   "cell_type": "markdown",
   "metadata": {},
   "source": [
    "Now, lets look at the `nodes` table."
   ]
  },
  {
   "cell_type": "code",
   "execution_count": 8,
   "metadata": {
    "collapsed": false
   },
   "outputs": [
    {
     "data": {
      "text/plain": [
       "{'Boston': {}, 'Denver': {}, 'Detroit': {}, 'New York': {}, 'Seattle': {}}"
      ]
     },
     "execution_count": 8,
     "metadata": {},
     "output_type": "execute_result"
    }
   ],
   "source": [
    "dat.nodes"
   ]
  },
  {
   "cell_type": "code",
   "execution_count": 9,
   "metadata": {
    "collapsed": false
   },
   "outputs": [
    {
     "data": {
      "text/html": [
       "<div>\n",
       "<table border=\"1\" class=\"dataframe\">\n",
       "  <thead>\n",
       "    <tr style=\"text-align: right;\">\n",
       "      <th></th>\n",
       "      <th>name</th>\n",
       "    </tr>\n",
       "    <tr>\n",
       "      <th>name</th>\n",
       "      <th></th>\n",
       "    </tr>\n",
       "  </thead>\n",
       "  <tbody>\n",
       "    <tr>\n",
       "      <th>Boston</th>\n",
       "      <td>Boston</td>\n",
       "    </tr>\n",
       "    <tr>\n",
       "      <th>Denver</th>\n",
       "      <td>Denver</td>\n",
       "    </tr>\n",
       "    <tr>\n",
       "      <th>Detroit</th>\n",
       "      <td>Detroit</td>\n",
       "    </tr>\n",
       "    <tr>\n",
       "      <th>New York</th>\n",
       "      <td>New York</td>\n",
       "    </tr>\n",
       "    <tr>\n",
       "      <th>Seattle</th>\n",
       "      <td>Seattle</td>\n",
       "    </tr>\n",
       "  </tbody>\n",
       "</table>\n",
       "</div>"
      ],
      "text/plain": [
       "              name\n",
       "name              \n",
       "Boston      Boston\n",
       "Denver      Denver\n",
       "Detroit    Detroit\n",
       "New York  New York\n",
       "Seattle    Seattle"
      ]
     },
     "execution_count": 9,
     "metadata": {},
     "output_type": "execute_result"
    }
   ],
   "source": [
    "tdf.copy_to_pandas(dat).nodes"
   ]
  },
  {
   "cell_type": "markdown",
   "metadata": {},
   "source": [
    "Wait, why is the \"name\" information duplicated here? Shouldn't the primary key just be part of the index? The answer, by default, is it depends. If the table has no data fields, then by default it will duplicate the primary key data in both the `index` of the `DataFrame` and in the column(s) of the `DataFrame`. In other words, by default, `copy_to_pandas` will duplicate data only to avoid having \"no column\" `DataFrame`s. But, you can override this behavior however you want by specifying non-None booleans as the `drop_pk_columns` argument."
   ]
  },
  {
   "cell_type": "code",
   "execution_count": 10,
   "metadata": {
    "collapsed": false
   },
   "outputs": [
    {
     "data": {
      "text/html": [
       "<div>\n",
       "<table border=\"1\" class=\"dataframe\">\n",
       "  <thead>\n",
       "    <tr style=\"text-align: right;\">\n",
       "      <th></th>\n",
       "    </tr>\n",
       "    <tr>\n",
       "      <th>name</th>\n",
       "    </tr>\n",
       "  </thead>\n",
       "  <tbody>\n",
       "    <tr>\n",
       "      <th>Boston</th>\n",
       "    </tr>\n",
       "    <tr>\n",
       "      <th>Denver</th>\n",
       "    </tr>\n",
       "    <tr>\n",
       "      <th>Detroit</th>\n",
       "    </tr>\n",
       "    <tr>\n",
       "      <th>New York</th>\n",
       "    </tr>\n",
       "    <tr>\n",
       "      <th>Seattle</th>\n",
       "    </tr>\n",
       "  </tbody>\n",
       "</table>\n",
       "</div>"
      ],
      "text/plain": [
       "Empty DataFrame\n",
       "Columns: []\n",
       "Index: [Boston, Denver, Detroit, New York, Seattle]"
      ]
     },
     "execution_count": 10,
     "metadata": {},
     "output_type": "execute_result"
    }
   ],
   "source": [
    "tdf.copy_to_pandas(dat, drop_pk_columns=True).nodes"
   ]
  },
  {
   "cell_type": "markdown",
   "metadata": {},
   "source": [
    "This is a `DataFrame` with an `.index` but no column. Seems like a strange thing to have, but you can create it just fine if you want.\n",
    "\n",
    "Here I go back and create a version of the \"cost\" table that doesn't drop the primary key fields from the columns of the `DataFrame`."
   ]
  },
  {
   "cell_type": "code",
   "execution_count": 11,
   "metadata": {
    "collapsed": false
   },
   "outputs": [
    {
     "data": {
      "text/html": [
       "<div>\n",
       "<table border=\"1\" class=\"dataframe\">\n",
       "  <thead>\n",
       "    <tr style=\"text-align: right;\">\n",
       "      <th></th>\n",
       "      <th></th>\n",
       "      <th></th>\n",
       "      <th>commodity</th>\n",
       "      <th>source</th>\n",
       "      <th>destination</th>\n",
       "      <th>cost</th>\n",
       "    </tr>\n",
       "    <tr>\n",
       "      <th>commodity</th>\n",
       "      <th>source</th>\n",
       "      <th>destination</th>\n",
       "      <th></th>\n",
       "      <th></th>\n",
       "      <th></th>\n",
       "      <th></th>\n",
       "    </tr>\n",
       "  </thead>\n",
       "  <tbody>\n",
       "    <tr>\n",
       "      <th rowspan=\"6\" valign=\"top\">Pencils</th>\n",
       "      <th rowspan=\"3\" valign=\"top\">Denver</th>\n",
       "      <th>Boston</th>\n",
       "      <td>Pencils</td>\n",
       "      <td>Denver</td>\n",
       "      <td>Boston</td>\n",
       "      <td>40</td>\n",
       "    </tr>\n",
       "    <tr>\n",
       "      <th>New York</th>\n",
       "      <td>Pencils</td>\n",
       "      <td>Denver</td>\n",
       "      <td>New York</td>\n",
       "      <td>40</td>\n",
       "    </tr>\n",
       "    <tr>\n",
       "      <th>Seattle</th>\n",
       "      <td>Pencils</td>\n",
       "      <td>Denver</td>\n",
       "      <td>Seattle</td>\n",
       "      <td>30</td>\n",
       "    </tr>\n",
       "    <tr>\n",
       "      <th rowspan=\"3\" valign=\"top\">Detroit</th>\n",
       "      <th>Boston</th>\n",
       "      <td>Pencils</td>\n",
       "      <td>Detroit</td>\n",
       "      <td>Boston</td>\n",
       "      <td>10</td>\n",
       "    </tr>\n",
       "    <tr>\n",
       "      <th>New York</th>\n",
       "      <td>Pencils</td>\n",
       "      <td>Detroit</td>\n",
       "      <td>New York</td>\n",
       "      <td>20</td>\n",
       "    </tr>\n",
       "    <tr>\n",
       "      <th>Seattle</th>\n",
       "      <td>Pencils</td>\n",
       "      <td>Detroit</td>\n",
       "      <td>Seattle</td>\n",
       "      <td>60</td>\n",
       "    </tr>\n",
       "    <tr>\n",
       "      <th rowspan=\"6\" valign=\"top\">Pens</th>\n",
       "      <th rowspan=\"3\" valign=\"top\">Denver</th>\n",
       "      <th>Boston</th>\n",
       "      <td>Pens</td>\n",
       "      <td>Denver</td>\n",
       "      <td>Boston</td>\n",
       "      <td>60</td>\n",
       "    </tr>\n",
       "    <tr>\n",
       "      <th>New York</th>\n",
       "      <td>Pens</td>\n",
       "      <td>Denver</td>\n",
       "      <td>New York</td>\n",
       "      <td>70</td>\n",
       "    </tr>\n",
       "    <tr>\n",
       "      <th>Seattle</th>\n",
       "      <td>Pens</td>\n",
       "      <td>Denver</td>\n",
       "      <td>Seattle</td>\n",
       "      <td>30</td>\n",
       "    </tr>\n",
       "    <tr>\n",
       "      <th rowspan=\"3\" valign=\"top\">Detroit</th>\n",
       "      <th>Boston</th>\n",
       "      <td>Pens</td>\n",
       "      <td>Detroit</td>\n",
       "      <td>Boston</td>\n",
       "      <td>20</td>\n",
       "    </tr>\n",
       "    <tr>\n",
       "      <th>New York</th>\n",
       "      <td>Pens</td>\n",
       "      <td>Detroit</td>\n",
       "      <td>New York</td>\n",
       "      <td>20</td>\n",
       "    </tr>\n",
       "    <tr>\n",
       "      <th>Seattle</th>\n",
       "      <td>Pens</td>\n",
       "      <td>Detroit</td>\n",
       "      <td>Seattle</td>\n",
       "      <td>80</td>\n",
       "    </tr>\n",
       "  </tbody>\n",
       "</table>\n",
       "</div>"
      ],
      "text/plain": [
       "                              commodity   source destination  cost\n",
       "commodity source  destination                                     \n",
       "Pencils   Denver  Boston        Pencils   Denver      Boston    40\n",
       "                  New York      Pencils   Denver    New York    40\n",
       "                  Seattle       Pencils   Denver     Seattle    30\n",
       "          Detroit Boston        Pencils  Detroit      Boston    10\n",
       "                  New York      Pencils  Detroit    New York    20\n",
       "                  Seattle       Pencils  Detroit     Seattle    60\n",
       "Pens      Denver  Boston           Pens   Denver      Boston    60\n",
       "                  New York         Pens   Denver    New York    70\n",
       "                  Seattle          Pens   Denver     Seattle    30\n",
       "          Detroit Boston           Pens  Detroit      Boston    20\n",
       "                  New York         Pens  Detroit    New York    20\n",
       "                  Seattle          Pens  Detroit     Seattle    80"
      ]
     },
     "execution_count": 11,
     "metadata": {},
     "output_type": "execute_result"
    }
   ],
   "source": [
    "tdf.copy_to_pandas(dat, drop_pk_columns=False).cost"
   ]
  },
  {
   "cell_type": "markdown",
   "metadata": {},
   "source": [
    "This sort of seems like it was created by the Department of Redundancy Department. However, you might find it handy for performing `.join`, as I did when creating a truly pandonic implementation of a multi commodity network flow model [here](https://github.com/opalytics/opalytics-ticdat/blob/master/examples/cplex/netflow/full_pandas/netflowpandasmodel.py)"
   ]
  }
 ],
 "metadata": {
  "kernelspec": {
   "display_name": "Python 2",
   "language": "python",
   "name": "python2"
  },
  "language_info": {
   "codemirror_mode": {
    "name": "ipython",
    "version": 2
   },
   "file_extension": ".py",
   "mimetype": "text/x-python",
   "name": "python",
   "nbconvert_exporter": "python",
   "pygments_lexer": "ipython2",
   "version": "2.7.11"
  }
 },
 "nbformat": 4,
 "nbformat_minor": 0
}
