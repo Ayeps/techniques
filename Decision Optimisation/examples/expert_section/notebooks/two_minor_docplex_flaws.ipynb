{
 "cells": [
  {
   "cell_type": "markdown",
   "metadata": {},
   "source": [
    "## two minor model writing/reading bugs in docplex "
   ]
  },
  {
   "cell_type": "markdown",
   "metadata": {},
   "source": [
    "Two bugs, both minor but worth reporting.\n",
    " 1. If I build a model with the RHS having `float(\"inf\")` the .lp that is exported is unreadable. \n",
    " 1. When I export a model as a .sav file, it doesn't export into the current directory but uses some funny path instead."
   ]
  },
  {
   "cell_type": "code",
   "execution_count": 1,
   "metadata": {
    "collapsed": false
   },
   "outputs": [],
   "source": [
    "from docplex.mp.model import Model\n",
    "from docplex.mp.model_reader import ModelReader"
   ]
  },
  {
   "cell_type": "code",
   "execution_count": 2,
   "metadata": {
    "collapsed": false
   },
   "outputs": [
    {
     "name": "stdout",
     "output_type": "stream",
     "text": [
      "solution for: has an infinity on rhs\n",
      "objective: 90\n",
      "v1=10.000\n",
      "v2=10.000\n",
      "\n"
     ]
    }
   ],
   "source": [
    "m = Model(\"has an infinity on rhs\")\n",
    "v1 = m.continuous_var(ub = 10, name = \"v1\")\n",
    "v2 = m.continuous_var(ub = 10, name = \"v2\")\n",
    "m.add_constraint(3*v1 + 2*v2 <= float(\"inf\"))\n",
    "m.maximize(5*v1 + 4*v2)\n",
    "print m.solve()"
   ]
  },
  {
   "cell_type": "code",
   "execution_count": 3,
   "metadata": {
    "collapsed": false
   },
   "outputs": [],
   "source": [
    "file1 = m.export_as_lp(\"has_infiniy.lp\")\n",
    "file2 = m.export_as_sav(\"has_infinity.sav\")"
   ]
  },
  {
   "cell_type": "markdown",
   "metadata": {
    "collapsed": false
   },
   "source": [
    "**Bug 1** - the `export_as_sav` doesn't use the current working directory."
   ]
  },
  {
   "cell_type": "code",
   "execution_count": 4,
   "metadata": {
    "collapsed": false
   },
   "outputs": [
    {
     "data": {
      "text/plain": [
       "True"
      ]
     },
     "execution_count": 4,
     "metadata": {},
     "output_type": "execute_result"
    }
   ],
   "source": [
    "import os\n",
    "os.path.exists(os.path.join(os.getcwd(), \"has_infiniy.lp\"))"
   ]
  },
  {
   "cell_type": "code",
   "execution_count": 5,
   "metadata": {
    "collapsed": false
   },
   "outputs": [
    {
     "data": {
      "text/plain": [
       "False"
      ]
     },
     "execution_count": 5,
     "metadata": {},
     "output_type": "execute_result"
    }
   ],
   "source": [
    "os.path.exists(os.path.join(os.getcwd(), \"has_infinity.sav\"))"
   ]
  },
  {
   "cell_type": "code",
   "execution_count": 6,
   "metadata": {
    "collapsed": false
   },
   "outputs": [
    {
     "data": {
      "text/plain": [
       "'/var/folders/k_/2mp70w997hj84hxfxkwtd_jm0000gn/T/has_infinity.sav'"
      ]
     },
     "execution_count": 6,
     "metadata": {},
     "output_type": "execute_result"
    }
   ],
   "source": [
    "file2"
   ]
  },
  {
   "cell_type": "markdown",
   "metadata": {},
   "source": [
    "** Bug 2 ** It can't read the file that was written. The 'inf' is tripping it up."
   ]
  },
  {
   "cell_type": "code",
   "execution_count": 7,
   "metadata": {
    "collapsed": false
   },
   "outputs": [
    {
     "name": "stdout",
     "output_type": "stream",
     "text": [
      "*CPLEX error CPLEX Error  1615: Line 8: Expected number, found 'i'.\n",
      " reading file has_infiniy.lp - exiting\n"
     ]
    }
   ],
   "source": [
    "mr =ModelReader()\n",
    "mr.read_model(file1)"
   ]
  },
  {
   "cell_type": "markdown",
   "metadata": {},
   "source": [
    "The save format does work here."
   ]
  },
  {
   "cell_type": "code",
   "execution_count": 8,
   "metadata": {
    "collapsed": false
   },
   "outputs": [],
   "source": [
    "m2 = mr.read_model(file2)"
   ]
  },
  {
   "cell_type": "code",
   "execution_count": 9,
   "metadata": {
    "collapsed": false
   },
   "outputs": [
    {
     "data": {
      "text/plain": [
       "docplex.mp.linear.LinearConstraint[_c1](3v1+2v2,LE,100000000000000000000)"
      ]
     },
     "execution_count": 9,
     "metadata": {},
     "output_type": "execute_result"
    }
   ],
   "source": [
    "m2.get_constraint_by_index(0)"
   ]
  },
  {
   "cell_type": "markdown",
   "metadata": {},
   "source": [
    "Just to make this totally clear, if I remove the infinity, then the .lp file writing/reading works."
   ]
  },
  {
   "cell_type": "code",
   "execution_count": 10,
   "metadata": {
    "collapsed": false
   },
   "outputs": [
    {
     "name": "stdout",
     "output_type": "stream",
     "text": [
      "solution for: no infinity\n",
      "objective: 90\n",
      "v1=10.000\n",
      "v2=10.000\n",
      "\n"
     ]
    }
   ],
   "source": [
    "m = Model(\"no infinity\")\n",
    "v1 = m.continuous_var(ub = 10, name = \"v1\")\n",
    "v2 = m.continuous_var(ub = 10, name = \"v2\")\n",
    "m.add_constraint(3*v1 + 2*v2 <= 10000)\n",
    "m.maximize(5*v1 + 4*v2)\n",
    "print m.solve()"
   ]
  },
  {
   "cell_type": "code",
   "execution_count": 11,
   "metadata": {
    "collapsed": true
   },
   "outputs": [],
   "source": [
    "file1 = m.export_as_lp(\"no_infiniy.lp\")"
   ]
  },
  {
   "cell_type": "code",
   "execution_count": 12,
   "metadata": {
    "collapsed": true
   },
   "outputs": [],
   "source": [
    "m2 = mr.read_model(file1)"
   ]
  },
  {
   "cell_type": "code",
   "execution_count": null,
   "metadata": {
    "collapsed": true
   },
   "outputs": [],
   "source": []
  }
 ],
 "metadata": {
  "kernelspec": {
   "display_name": "Python 2",
   "language": "python",
   "name": "python2"
  },
  "language_info": {
   "codemirror_mode": {
    "name": "ipython",
    "version": 2
   },
   "file_extension": ".py",
   "mimetype": "text/x-python",
   "name": "python",
   "nbconvert_exporter": "python",
   "pygments_lexer": "ipython2",
   "version": "2.7.11"
  }
 },
 "nbformat": 4,
 "nbformat_minor": 0
}
