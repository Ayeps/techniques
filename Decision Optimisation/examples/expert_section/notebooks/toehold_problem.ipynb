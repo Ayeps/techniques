{
 "cells": [
  {
   "cell_type": "markdown",
   "metadata": {},
   "source": [
    "## The toehold problem"
   ]
  },
  {
   "cell_type": "markdown",
   "metadata": {},
   "source": [
    "The \"toehold problem\" is named after a tech support response. The nature of the problem is that in order to take advantage of the algebraic constraint modeling provided by `docplex`, then the `Model.add_constraint` function needs a \"toehold\" with which to build a `LinearConstraint`.  \n",
    "\n",
    "Or, at least that's what I thought I'd find. Turns out the `docplex` guys outfoxed me, and anticipated this problem. But lets go through the notebook anyway.\n",
    "\n",
    "(Note that `LinearConstraint` is not part of the public package. You shouldn't try to build it directly, but instead let `docplex` create it for you as part of writing out algebraic constraints).\n",
    "\n",
    "So what do I mean, specifically? To begin, let's make a function that captures exceptions, since I'm going to be making mistakes and deliberately throwing exceptions."
   ]
  },
  {
   "cell_type": "code",
   "execution_count": 1,
   "metadata": {
    "collapsed": true
   },
   "outputs": [],
   "source": [
    "def exception_thrown(f):\n",
    "    try:\n",
    "        f()\n",
    "    except Exception as e:\n",
    "        return str(e)"
   ]
  },
  {
   "cell_type": "markdown",
   "metadata": {},
   "source": [
    "Let's make a constraint without creating any problems. (You'll need to understand `lambda` to understand this code)."
   ]
  },
  {
   "cell_type": "code",
   "execution_count": 2,
   "metadata": {
    "collapsed": false
   },
   "outputs": [],
   "source": [
    "from docplex.mp.model import Model\n",
    "m = Model()\n",
    "v = m.continuous_var(name = \"goodstuff\")\n",
    "exception_thrown(lambda : m.add_constraint(v <= 100, ctname = \"c1\"))"
   ]
  },
  {
   "cell_type": "code",
   "execution_count": 4,
   "metadata": {
    "collapsed": false
   },
   "outputs": [
    {
     "data": {
      "text/plain": [
       "docplex.mp.linear.LinearConstraint[c1](goodstuff,LE,100)"
      ]
     },
     "execution_count": 4,
     "metadata": {},
     "output_type": "execute_result"
    }
   ],
   "source": [
    "m.get_constraint_by_index(0)"
   ]
  },
  {
   "cell_type": "markdown",
   "metadata": {},
   "source": [
    "Ok, now let's screw up and make a bad constraint. This might happen to you, so pay attention please."
   ]
  },
  {
   "cell_type": "code",
   "execution_count": 5,
   "metadata": {
    "collapsed": false
   },
   "outputs": [],
   "source": [
    "exception_thrown(lambda : m.add_constraint(0 <= 300, ctname = \"not_going_to_be_added_to_model\"))"
   ]
  },
  {
   "cell_type": "markdown",
   "metadata": {},
   "source": [
    "Hey wait! It didn't throw an exception. What happened?"
   ]
  },
  {
   "cell_type": "code",
   "execution_count": 6,
   "metadata": {
    "collapsed": false
   },
   "outputs": [
    {
     "data": {
      "text/plain": [
       "[docplex.mp.linear.LinearConstraint[c1](goodstuff,LE,100),\n",
       " docplex.mp.linear.LinearConstraint._TrivialFeasible]"
      ]
     },
     "execution_count": 6,
     "metadata": {},
     "output_type": "execute_result"
    }
   ],
   "source": [
    "[m.get_constraint_by_index(_) for _ in range(2)]"
   ]
  },
  {
   "cell_type": "markdown",
   "metadata": {},
   "source": [
    "Hey, this is cool! It looks like it's really in the model! Let's double check."
   ]
  },
  {
   "cell_type": "code",
   "execution_count": 7,
   "metadata": {
    "collapsed": false
   },
   "outputs": [
    {
     "data": {
      "text/plain": [
       "docplex.mp.linear.LinearConstraint._TrivialFeasible"
      ]
     },
     "execution_count": 7,
     "metadata": {},
     "output_type": "execute_result"
    }
   ],
   "source": [
    "m.get_constraint_by_name(\"not_going_to_be_added_to_model\")"
   ]
  },
  {
   "cell_type": "markdown",
   "metadata": {},
   "source": [
    "Well, never mind then. The toehold problem doesn't exist if you're using `docplex`. Good job, `docplex` developers!"
   ]
  }
 ],
 "metadata": {
  "kernelspec": {
   "display_name": "Python 2",
   "language": "python",
   "name": "python2"
  },
  "language_info": {
   "codemirror_mode": {
    "name": "ipython",
    "version": 2
   },
   "file_extension": ".py",
   "mimetype": "text/x-python",
   "name": "python",
   "nbconvert_exporter": "python",
   "pygments_lexer": "ipython2",
   "version": "2.7.11"
  }
 },
 "nbformat": 4,
 "nbformat_minor": 0
}
