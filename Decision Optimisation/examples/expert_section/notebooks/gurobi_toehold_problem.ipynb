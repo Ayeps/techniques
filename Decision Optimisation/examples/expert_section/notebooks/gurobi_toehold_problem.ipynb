{
 "cells": [
  {
   "cell_type": "markdown",
   "metadata": {},
   "source": [
    "## The toehold problem"
   ]
  },
  {
   "cell_type": "markdown",
   "metadata": {},
   "source": [
    "The \"toehold problem\" is named after a tech support response from Gurobi. The nature of the problem is that in order to take advantage of the algebraic constraint modeling provided by `gurobipy`, then the `Model.addConstr` function needs a \"toehold\" with which to build a `Constr`. \n",
    "\n",
    "(Note that `Constr` is not part of the public package. You shouldn't try to build it directly, but instead let `gurobipy` create it for you as part of writing out algebraic constraints).\n",
    "\n",
    "So what do I mean, specifically? To begin, let's make a function that captures exceptions, since I'm going to be making mistakes and deliberately throwing exceptions."
   ]
  },
  {
   "cell_type": "code",
   "execution_count": 1,
   "metadata": {
    "collapsed": true
   },
   "outputs": [],
   "source": [
    "def exception_thrown(f):\n",
    "    try:\n",
    "        f()\n",
    "    except Exception as e:\n",
    "        return str(e)"
   ]
  },
  {
   "cell_type": "markdown",
   "metadata": {},
   "source": [
    "Let's make a constraint without creating any problems. (You'll need to understand `lambda` to understand this code)."
   ]
  },
  {
   "cell_type": "code",
   "execution_count": 2,
   "metadata": {
    "collapsed": false
   },
   "outputs": [],
   "source": [
    "import gurobipy as gu\n",
    "m = gu.Model()\n",
    "v = m.addVar(name = \"goodstuff\")\n",
    "m.update()\n",
    "exception_thrown(lambda : m.addConstr(v <= 100, name = \"c1\"))"
   ]
  },
  {
   "cell_type": "code",
   "execution_count": 3,
   "metadata": {
    "collapsed": false
   },
   "outputs": [
    {
     "data": {
      "text/plain": [
       "[<gurobi.Constr c1>]"
      ]
     },
     "execution_count": 3,
     "metadata": {},
     "output_type": "execute_result"
    }
   ],
   "source": [
    "m.update()\n",
    "m.getConstrs()"
   ]
  },
  {
   "cell_type": "markdown",
   "metadata": {},
   "source": [
    "Ok, now let's screw up and make a bad constraint. This might happen to you, so pay attention please."
   ]
  },
  {
   "cell_type": "code",
   "execution_count": 4,
   "metadata": {
    "collapsed": false
   },
   "outputs": [
    {
     "data": {
      "text/plain": [
       "\"unsupported operand type(s) for -: 'bool' and 'NoneType'\""
      ]
     },
     "execution_count": 4,
     "metadata": {},
     "output_type": "execute_result"
    }
   ],
   "source": [
    "exception_thrown(lambda : m.addConstr(0 <= 300, name = \"not_going_to_be_added_to_model\"))"
   ]
  },
  {
   "cell_type": "markdown",
   "metadata": {},
   "source": [
    "The numbers and constraint type aren't important."
   ]
  },
  {
   "cell_type": "code",
   "execution_count": 5,
   "metadata": {
    "collapsed": false
   },
   "outputs": [
    {
     "data": {
      "text/plain": [
       "\"unsupported operand type(s) for -: 'bool' and 'NoneType'\""
      ]
     },
     "execution_count": 5,
     "metadata": {},
     "output_type": "execute_result"
    }
   ],
   "source": [
    "exception_thrown(lambda : m.addConstr(10 == 30, name = \"not_going_to_be_added_to_model\"))"
   ]
  },
  {
   "cell_type": "markdown",
   "metadata": {},
   "source": [
    "Now, why would you ever try to write a dumb constraint like that? Well, it happens naturally in the real world quite easily. Suppose you were summing over a set of variables that happened to be empty as part of building a constraint."
   ]
  },
  {
   "cell_type": "code",
   "execution_count": 6,
   "metadata": {
    "collapsed": false
   },
   "outputs": [
    {
     "data": {
      "text/plain": [
       "\"unsupported operand type(s) for -: 'bool' and 'NoneType'\""
      ]
     },
     "execution_count": 6,
     "metadata": {},
     "output_type": "execute_result"
    }
   ],
   "source": [
    "exception_thrown(lambda : m.addConstr(sum(_ for x in m.getVars() if \"bad\" in x.VarName.lower()) \n",
    "                                     <= 100, name = \"not_going_to_be_added_either\"))"
   ]
  },
  {
   "cell_type": "markdown",
   "metadata": {},
   "source": [
    "How did this happen? It's because we used `sum`. This returns the number zero if it is passed an empty sequence."
   ]
  },
  {
   "cell_type": "code",
   "execution_count": 7,
   "metadata": {
    "collapsed": false
   },
   "outputs": [
    {
     "data": {
      "text/plain": [
       "[]"
      ]
     },
     "execution_count": 7,
     "metadata": {},
     "output_type": "execute_result"
    }
   ],
   "source": [
    "[_ for x in m.getVars() if \"bad\" in x.VarName.lower()]"
   ]
  },
  {
   "cell_type": "code",
   "execution_count": 8,
   "metadata": {
    "collapsed": false
   },
   "outputs": [
    {
     "data": {
      "text/plain": [
       "0"
      ]
     },
     "execution_count": 8,
     "metadata": {},
     "output_type": "execute_result"
    }
   ],
   "source": [
    "sum(_ for x in m.getVars() if \"bad\" in x.VarName.lower())"
   ]
  },
  {
   "cell_type": "markdown",
   "metadata": {},
   "source": [
    "So what's the solution? Usually, it just involves using `gurobipy.quicksum`."
   ]
  },
  {
   "cell_type": "code",
   "execution_count": 9,
   "metadata": {
    "collapsed": false
   },
   "outputs": [
    {
     "data": {
      "text/plain": [
       "<gurobi.LinExpr: 0.0>"
      ]
     },
     "execution_count": 9,
     "metadata": {},
     "output_type": "execute_result"
    }
   ],
   "source": [
    "gu.quicksum(_ for x in m.getVars() if \"bad\" in x.VarName.lower())"
   ]
  },
  {
   "cell_type": "markdown",
   "metadata": {},
   "source": [
    "See what happened there? `gu.quicksum` will give us a toehold. It's not just faster than `sum`, it's smarter too. So when we use `quicksum`, the constraint can be added."
   ]
  },
  {
   "cell_type": "code",
   "execution_count": 10,
   "metadata": {
    "collapsed": true
   },
   "outputs": [],
   "source": [
    "exception_thrown(lambda : m.addConstr(gu.quicksum(_ for x in m.getVars() \n",
    "                                                  if \"bad\" in x.VarName.lower()) \n",
    "                                     <= 100, name = \"c2\"))"
   ]
  },
  {
   "cell_type": "code",
   "execution_count": 11,
   "metadata": {
    "collapsed": false
   },
   "outputs": [
    {
     "data": {
      "text/plain": [
       "[<gurobi.Constr c1>, <gurobi.Constr c2>]"
      ]
     },
     "execution_count": 11,
     "metadata": {},
     "output_type": "execute_result"
    }
   ],
   "source": [
    "m.update()\n",
    "m.getConstrs()"
   ]
  },
  {
   "cell_type": "markdown",
   "metadata": {},
   "source": [
    "### Summary\n",
    "\n",
    "Use `quicksum` instead of `sum` when building constraints. If you get an exception throw when building constraints that involves a message like `\"unsupported operand type(s) for -: 'bool' and 'NoneType'\"`, suspect the toehold problem."
   ]
  }
 ],
 "metadata": {
  "kernelspec": {
   "display_name": "Python 2",
   "language": "python",
   "name": "python2"
  },
  "language_info": {
   "codemirror_mode": {
    "name": "ipython",
    "version": 2
   },
   "file_extension": ".py",
   "mimetype": "text/x-python",
   "name": "python",
   "nbconvert_exporter": "python",
   "pygments_lexer": "ipython2",
   "version": "2.7.11"
  }
 },
 "nbformat": 4,
 "nbformat_minor": 0
}
