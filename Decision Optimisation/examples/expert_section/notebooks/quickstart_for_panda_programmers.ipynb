{
 "cells": [
  {
   "cell_type": "markdown",
   "metadata": {},
   "source": [
    "### Basic orienatation to `ticdat`, `pandas` and developing engines for Opalytics"
   ]
  },
  {
   "cell_type": "markdown",
   "metadata": {},
   "source": [
    "One of the advantages of Python is that it has \"batteries included\". That is to say, there is a rich set of libraries available for installation. Of course, with such a large collection of libraries to choose from, it's natural to wonder how different libraries relate to each other, and which to choose for a given situation.\n",
    "\n",
    "This notebook addresses the `ticdat` and `pandas` libraries. It is a good starting point if you are a pythonic and pandonic programmer who wishes to develop Opalytics-ready data science engines as quickly as possible.\n",
    "\n",
    "`ticdat` was developed to promote modular solve engine development. It facilitates the pattern under which a `solve` function publishes its input and output data formats. \n",
    "\n",
    "Specifically, a solve engine creates two `TicDatFactory` objects. One defines the input schema and the other the output schema. Although you are encouraged to add as many data integrity rules as possible to these objects (particularly the input object), you only need to specify the table and field names, and to organize the fields into primary key fields and data fields.\n",
    "\n",
    "For example, in the `diet` example, the `dietmodel.py` file has the following lines."
   ]
  },
  {
   "cell_type": "code",
   "execution_count": 1,
   "metadata": {
    "collapsed": false
   },
   "outputs": [],
   "source": [
    "from ticdat import TicDatFactory, freeze_me"
   ]
  },
  {
   "cell_type": "code",
   "execution_count": 2,
   "metadata": {
    "collapsed": false
   },
   "outputs": [],
   "source": [
    "dataFactory = TicDatFactory (\n",
    "     categories = [[\"name\"],[\"minNutrition\", \"maxNutrition\"]],\n",
    "     foods  = [[\"name\"],[\"cost\"]],\n",
    "     nutritionQuantities = [[\"food\", \"category\"], [\"qty\"]])\n"
   ]
  },
  {
   "cell_type": "markdown",
   "metadata": {},
   "source": [
    "Here, the `dataFactory` object defines an input schema. This schema has three tables (categories, foods, and nutritionQuantities). The categories table is indexed by a single field (name) and has two data fields (minNutrition and maxNutrition). The nutritionQuantities table is indexed by two fields (food and category) and has one data field (qty).\n",
    "\n",
    "Any code wishing to run the `solve` function can learn what type of data object to pass as input by examining the `dataFactory` object. The `dietcsvdata.py`, `dietstaticdata.py` and `dietxls.py` scripts demonstrate this pattern by sourcing data from a sub-directory of csv files, a static data instance, and an xls file, respectively. Were Opalytics to deploy `dietmodel`, it would perform work roughly analogous to that performed by these three files, except Opalytics would source the input data from the Opalytics Cloud Platform. \n",
    "\n",
    "Let's examine what a `TicDat` object created by `dataFactory` looks like. To do this, we're going to pull in some sample testing data hard coded in the `ticdat` testing code."
   ]
  },
  {
   "cell_type": "code",
   "execution_count": 3,
   "metadata": {
    "collapsed": false
   },
   "outputs": [],
   "source": [
    "import ticdat.testing.ticdattestutils as tictest\n",
    "_tmp = tictest.dietData()\n",
    "dietData = dataFactory.TicDat(categories = _tmp.categories, foods = _tmp.foods, \n",
    "                              nutritionQuantities = _tmp.nutritionQuantities)"
   ]
  },
  {
   "cell_type": "markdown",
   "metadata": {},
   "source": [
    "`dietData` is a `TicDat` object. It is an instance of the schema defined by `dataFactory`. By default, it stores its data in a \"dict of dicts\" format.  "
   ]
  },
  {
   "cell_type": "code",
   "execution_count": 4,
   "metadata": {
    "collapsed": false
   },
   "outputs": [
    {
     "data": {
      "text/plain": [
       "{'calories': _td:{'minNutrition': 1800, 'maxNutrition': 2200},\n",
       " 'fat': _td:{'minNutrition': 0, 'maxNutrition': 65},\n",
       " 'protein': _td:{'minNutrition': 91, 'maxNutrition': inf},\n",
       " 'sodium': _td:{'minNutrition': 0, 'maxNutrition': 1779}}"
      ]
     },
     "execution_count": 4,
     "metadata": {},
     "output_type": "execute_result"
    }
   ],
   "source": [
    "dietData.categories"
   ]
  },
  {
   "cell_type": "code",
   "execution_count": 5,
   "metadata": {
    "collapsed": false
   },
   "outputs": [
    {
     "data": {
      "text/plain": [
       "{('chicken', 'calories'): _td:{'qty': 420},\n",
       " ('chicken', 'fat'): _td:{'qty': 10},\n",
       " ('chicken', 'protein'): _td:{'qty': 32},\n",
       " ('chicken', 'sodium'): _td:{'qty': 1190},\n",
       " ('fries', 'calories'): _td:{'qty': 380},\n",
       " ('fries', 'fat'): _td:{'qty': 19},\n",
       " ('fries', 'protein'): _td:{'qty': 4},\n",
       " ('fries', 'sodium'): _td:{'qty': 270},\n",
       " ('hamburger', 'calories'): _td:{'qty': 410},\n",
       " ('hamburger', 'fat'): _td:{'qty': 26},\n",
       " ('hamburger', 'protein'): _td:{'qty': 24},\n",
       " ('hamburger', 'sodium'): _td:{'qty': 730},\n",
       " ('hot dog', 'calories'): _td:{'qty': 560},\n",
       " ('hot dog', 'fat'): _td:{'qty': 32},\n",
       " ('hot dog', 'protein'): _td:{'qty': 20},\n",
       " ('hot dog', 'sodium'): _td:{'qty': 1800},\n",
       " ('ice cream', 'calories'): _td:{'qty': 330},\n",
       " ('ice cream', 'fat'): _td:{'qty': 10},\n",
       " ('ice cream', 'protein'): _td:{'qty': 8},\n",
       " ('ice cream', 'sodium'): _td:{'qty': 180},\n",
       " ('macaroni', 'calories'): _td:{'qty': 320},\n",
       " ('macaroni', 'fat'): _td:{'qty': 10},\n",
       " ('macaroni', 'protein'): _td:{'qty': 12},\n",
       " ('macaroni', 'sodium'): _td:{'qty': 930},\n",
       " ('milk', 'calories'): _td:{'qty': 100},\n",
       " ('milk', 'fat'): _td:{'qty': 2.5},\n",
       " ('milk', 'protein'): _td:{'qty': 8},\n",
       " ('milk', 'sodium'): _td:{'qty': 125},\n",
       " ('pizza', 'calories'): _td:{'qty': 320},\n",
       " ('pizza', 'fat'): _td:{'qty': 12},\n",
       " ('pizza', 'protein'): _td:{'qty': 15},\n",
       " ('pizza', 'sodium'): _td:{'qty': 820},\n",
       " ('salad', 'calories'): _td:{'qty': 320},\n",
       " ('salad', 'fat'): _td:{'qty': 12},\n",
       " ('salad', 'protein'): _td:{'qty': 31},\n",
       " ('salad', 'sodium'): _td:{'qty': 1230}}"
      ]
     },
     "execution_count": 5,
     "metadata": {},
     "output_type": "execute_result"
    }
   ],
   "source": [
    "dietData.nutritionQuantities"
   ]
  },
  {
   "cell_type": "markdown",
   "metadata": {},
   "source": [
    "However, since you are pandonic, you might prefer to have a copy of this data in `pandas` format. This is easy to do.\n"
   ]
  },
  {
   "cell_type": "code",
   "execution_count": 6,
   "metadata": {
    "collapsed": false
   },
   "outputs": [],
   "source": [
    "panDiet = dataFactory.copy_to_pandas(dietData)"
   ]
  },
  {
   "cell_type": "code",
   "execution_count": 7,
   "metadata": {
    "collapsed": false
   },
   "outputs": [
    {
     "data": {
      "text/html": [
       "<div style=\"max-width:1500px;overflow:auto;\">\n",
       "<table border=\"1\" class=\"dataframe\">\n",
       "  <thead>\n",
       "    <tr style=\"text-align: right;\">\n",
       "      <th></th>\n",
       "      <th>minNutrition</th>\n",
       "      <th>maxNutrition</th>\n",
       "    </tr>\n",
       "    <tr>\n",
       "      <th>name</th>\n",
       "      <th></th>\n",
       "      <th></th>\n",
       "    </tr>\n",
       "  </thead>\n",
       "  <tbody>\n",
       "    <tr>\n",
       "      <th>calories</th>\n",
       "      <td>1800</td>\n",
       "      <td>2200.000000</td>\n",
       "    </tr>\n",
       "    <tr>\n",
       "      <th>fat</th>\n",
       "      <td>0</td>\n",
       "      <td>65.000000</td>\n",
       "    </tr>\n",
       "    <tr>\n",
       "      <th>protein</th>\n",
       "      <td>91</td>\n",
       "      <td>inf</td>\n",
       "    </tr>\n",
       "    <tr>\n",
       "      <th>sodium</th>\n",
       "      <td>0</td>\n",
       "      <td>1779.000000</td>\n",
       "    </tr>\n",
       "  </tbody>\n",
       "</table>\n",
       "</div>"
      ],
      "text/plain": [
       "          minNutrition  maxNutrition\n",
       "name                                \n",
       "calories          1800   2200.000000\n",
       "fat                  0     65.000000\n",
       "protein             91           inf\n",
       "sodium               0   1779.000000"
      ]
     },
     "execution_count": 7,
     "metadata": {},
     "output_type": "execute_result"
    }
   ],
   "source": [
    "panDiet.categories"
   ]
  },
  {
   "cell_type": "code",
   "execution_count": 8,
   "metadata": {
    "collapsed": false
   },
   "outputs": [
    {
     "data": {
      "text/html": [
       "<div style=\"max-width:1500px;overflow:auto;\">\n",
       "<table border=\"1\" class=\"dataframe\">\n",
       "  <thead>\n",
       "    <tr style=\"text-align: right;\">\n",
       "      <th></th>\n",
       "      <th></th>\n",
       "      <th>qty</th>\n",
       "    </tr>\n",
       "    <tr>\n",
       "      <th>food</th>\n",
       "      <th>category</th>\n",
       "      <th></th>\n",
       "    </tr>\n",
       "  </thead>\n",
       "  <tbody>\n",
       "    <tr>\n",
       "      <th rowspan=\"4\" valign=\"top\">chicken</th>\n",
       "      <th>calories</th>\n",
       "      <td>420.0</td>\n",
       "    </tr>\n",
       "    <tr>\n",
       "      <th>fat</th>\n",
       "      <td>10.0</td>\n",
       "    </tr>\n",
       "    <tr>\n",
       "      <th>protein</th>\n",
       "      <td>32.0</td>\n",
       "    </tr>\n",
       "    <tr>\n",
       "      <th>sodium</th>\n",
       "      <td>1190.0</td>\n",
       "    </tr>\n",
       "    <tr>\n",
       "      <th rowspan=\"4\" valign=\"top\">fries</th>\n",
       "      <th>calories</th>\n",
       "      <td>380.0</td>\n",
       "    </tr>\n",
       "    <tr>\n",
       "      <th>fat</th>\n",
       "      <td>19.0</td>\n",
       "    </tr>\n",
       "    <tr>\n",
       "      <th>protein</th>\n",
       "      <td>4.0</td>\n",
       "    </tr>\n",
       "    <tr>\n",
       "      <th>sodium</th>\n",
       "      <td>270.0</td>\n",
       "    </tr>\n",
       "    <tr>\n",
       "      <th rowspan=\"4\" valign=\"top\">hamburger</th>\n",
       "      <th>calories</th>\n",
       "      <td>410.0</td>\n",
       "    </tr>\n",
       "    <tr>\n",
       "      <th>fat</th>\n",
       "      <td>26.0</td>\n",
       "    </tr>\n",
       "    <tr>\n",
       "      <th>protein</th>\n",
       "      <td>24.0</td>\n",
       "    </tr>\n",
       "    <tr>\n",
       "      <th>sodium</th>\n",
       "      <td>730.0</td>\n",
       "    </tr>\n",
       "    <tr>\n",
       "      <th rowspan=\"4\" valign=\"top\">hot dog</th>\n",
       "      <th>calories</th>\n",
       "      <td>560.0</td>\n",
       "    </tr>\n",
       "    <tr>\n",
       "      <th>fat</th>\n",
       "      <td>32.0</td>\n",
       "    </tr>\n",
       "    <tr>\n",
       "      <th>protein</th>\n",
       "      <td>20.0</td>\n",
       "    </tr>\n",
       "    <tr>\n",
       "      <th>sodium</th>\n",
       "      <td>1800.0</td>\n",
       "    </tr>\n",
       "    <tr>\n",
       "      <th rowspan=\"4\" valign=\"top\">ice cream</th>\n",
       "      <th>calories</th>\n",
       "      <td>330.0</td>\n",
       "    </tr>\n",
       "    <tr>\n",
       "      <th>fat</th>\n",
       "      <td>10.0</td>\n",
       "    </tr>\n",
       "    <tr>\n",
       "      <th>protein</th>\n",
       "      <td>8.0</td>\n",
       "    </tr>\n",
       "    <tr>\n",
       "      <th>sodium</th>\n",
       "      <td>180.0</td>\n",
       "    </tr>\n",
       "    <tr>\n",
       "      <th rowspan=\"4\" valign=\"top\">macaroni</th>\n",
       "      <th>calories</th>\n",
       "      <td>320.0</td>\n",
       "    </tr>\n",
       "    <tr>\n",
       "      <th>fat</th>\n",
       "      <td>10.0</td>\n",
       "    </tr>\n",
       "    <tr>\n",
       "      <th>protein</th>\n",
       "      <td>12.0</td>\n",
       "    </tr>\n",
       "    <tr>\n",
       "      <th>sodium</th>\n",
       "      <td>930.0</td>\n",
       "    </tr>\n",
       "    <tr>\n",
       "      <th rowspan=\"4\" valign=\"top\">milk</th>\n",
       "      <th>calories</th>\n",
       "      <td>100.0</td>\n",
       "    </tr>\n",
       "    <tr>\n",
       "      <th>fat</th>\n",
       "      <td>2.5</td>\n",
       "    </tr>\n",
       "    <tr>\n",
       "      <th>protein</th>\n",
       "      <td>8.0</td>\n",
       "    </tr>\n",
       "    <tr>\n",
       "      <th>sodium</th>\n",
       "      <td>125.0</td>\n",
       "    </tr>\n",
       "    <tr>\n",
       "      <th rowspan=\"4\" valign=\"top\">pizza</th>\n",
       "      <th>calories</th>\n",
       "      <td>320.0</td>\n",
       "    </tr>\n",
       "    <tr>\n",
       "      <th>fat</th>\n",
       "      <td>12.0</td>\n",
       "    </tr>\n",
       "    <tr>\n",
       "      <th>protein</th>\n",
       "      <td>15.0</td>\n",
       "    </tr>\n",
       "    <tr>\n",
       "      <th>sodium</th>\n",
       "      <td>820.0</td>\n",
       "    </tr>\n",
       "    <tr>\n",
       "      <th rowspan=\"4\" valign=\"top\">salad</th>\n",
       "      <th>calories</th>\n",
       "      <td>320.0</td>\n",
       "    </tr>\n",
       "    <tr>\n",
       "      <th>fat</th>\n",
       "      <td>12.0</td>\n",
       "    </tr>\n",
       "    <tr>\n",
       "      <th>protein</th>\n",
       "      <td>31.0</td>\n",
       "    </tr>\n",
       "    <tr>\n",
       "      <th>sodium</th>\n",
       "      <td>1230.0</td>\n",
       "    </tr>\n",
       "  </tbody>\n",
       "</table>\n",
       "</div>"
      ],
      "text/plain": [
       "                       qty\n",
       "food      category        \n",
       "chicken   calories   420.0\n",
       "          fat         10.0\n",
       "          protein     32.0\n",
       "          sodium    1190.0\n",
       "fries     calories   380.0\n",
       "          fat         19.0\n",
       "          protein      4.0\n",
       "          sodium     270.0\n",
       "hamburger calories   410.0\n",
       "          fat         26.0\n",
       "          protein     24.0\n",
       "          sodium     730.0\n",
       "hot dog   calories   560.0\n",
       "          fat         32.0\n",
       "          protein     20.0\n",
       "          sodium    1800.0\n",
       "ice cream calories   330.0\n",
       "          fat         10.0\n",
       "          protein      8.0\n",
       "          sodium     180.0\n",
       "macaroni  calories   320.0\n",
       "          fat         10.0\n",
       "          protein     12.0\n",
       "          sodium     930.0\n",
       "milk      calories   100.0\n",
       "          fat          2.5\n",
       "          protein      8.0\n",
       "          sodium     125.0\n",
       "pizza     calories   320.0\n",
       "          fat         12.0\n",
       "          protein     15.0\n",
       "          sodium     820.0\n",
       "salad     calories   320.0\n",
       "          fat         12.0\n",
       "          protein     31.0\n",
       "          sodium    1230.0"
      ]
     },
     "execution_count": 8,
     "metadata": {},
     "output_type": "execute_result"
    }
   ],
   "source": [
    "panDiet.nutritionQuantities"
   ]
  },
  {
   "cell_type": "markdown",
   "metadata": {},
   "source": [
    "Note that these aren't \"raw\" `DataFrame` objects. Intead, `ticdat` has inferred sensible indexes for you from the primary key field designations in `dataFactory`. The nutritionQuantities table has a `MultiIndex` and the  foods and categories table each have a simple index. \n",
    "\n",
    "By default, `copy_to_pandas` will drop the columns that are used to populate the index, unless doing so would result in a `DataFrame` with no columns at all. However, if you wish for no columns to be dropped under any circumstances, you can use the optional `drop_pk_columns` argument. This is illustrated below."
   ]
  },
  {
   "cell_type": "code",
   "execution_count": 9,
   "metadata": {
    "collapsed": false
   },
   "outputs": [
    {
     "data": {
      "text/html": [
       "<div style=\"max-width:1500px;overflow:auto;\">\n",
       "<table border=\"1\" class=\"dataframe\">\n",
       "  <thead>\n",
       "    <tr style=\"text-align: right;\">\n",
       "      <th></th>\n",
       "      <th>name</th>\n",
       "      <th>minNutrition</th>\n",
       "      <th>maxNutrition</th>\n",
       "    </tr>\n",
       "    <tr>\n",
       "      <th>name</th>\n",
       "      <th></th>\n",
       "      <th></th>\n",
       "      <th></th>\n",
       "    </tr>\n",
       "  </thead>\n",
       "  <tbody>\n",
       "    <tr>\n",
       "      <th>calories</th>\n",
       "      <td>calories</td>\n",
       "      <td>1800</td>\n",
       "      <td>2200.000000</td>\n",
       "    </tr>\n",
       "    <tr>\n",
       "      <th>fat</th>\n",
       "      <td>fat</td>\n",
       "      <td>0</td>\n",
       "      <td>65.000000</td>\n",
       "    </tr>\n",
       "    <tr>\n",
       "      <th>protein</th>\n",
       "      <td>protein</td>\n",
       "      <td>91</td>\n",
       "      <td>inf</td>\n",
       "    </tr>\n",
       "    <tr>\n",
       "      <th>sodium</th>\n",
       "      <td>sodium</td>\n",
       "      <td>0</td>\n",
       "      <td>1779.000000</td>\n",
       "    </tr>\n",
       "  </tbody>\n",
       "</table>\n",
       "</div>"
      ],
      "text/plain": [
       "              name  minNutrition  maxNutrition\n",
       "name                                          \n",
       "calories  calories          1800   2200.000000\n",
       "fat            fat             0     65.000000\n",
       "protein    protein            91           inf\n",
       "sodium      sodium             0   1779.000000"
      ]
     },
     "execution_count": 9,
     "metadata": {},
     "output_type": "execute_result"
    }
   ],
   "source": [
    "panDietNoDrop = dataFactory.copy_to_pandas(dietData, drop_pk_columns=False)\n",
    "panDietNoDrop.categories"
   ]
  },
  {
   "cell_type": "markdown",
   "metadata": {},
   "source": [
    "Let's review.\n",
    "\n",
    "  * `dataFactory` describes the input schema\n",
    "  * The `solve` function doesn't know where its input data is coming from. It only knows that is will conform to the schema defined by `dataFactory`. (All of my examples include at least one `assert` statement double checking this assumption).\n",
    "  * By default, the input tables will be in the default \"dict of dicts\" format. However, its easy to create a copy of the data which creates a `DataFrame` for each table. \n",
    "  \n",
    "This summarizes how a `solve` function can specify its input data and reformat this data as needed. Let's now examine how `solve` will return data.\n",
    "\n",
    "The following code specifies a return schema."
   ]
  },
  {
   "cell_type": "code",
   "execution_count": 10,
   "metadata": {
    "collapsed": false
   },
   "outputs": [],
   "source": [
    "solutionFactory = TicDatFactory(\n",
    "        parameters = [[],[\"totalCost\"]],\n",
    "        buyFood = [[\"food\"],[\"qty\"]],\n",
    "        consumeNutrition = [[\"category\"],[\"qty\"]])"
   ]
  },
  {
   "cell_type": "markdown",
   "metadata": {},
   "source": [
    "This schema has three tables (parameters, buyFood, consumeNutrition). The parameters table has no primary key fields at all, and just a single data field. (It is assumed that this table will have at most one record). The buyFood table is indexed by the food field, and has a single data field indicating how much of that food is to be consumed. consumeNutrition is similar, except it defines the quantity consumed for each nutrition type.\n",
    "\n",
    "(As an aside, only the buyFood table is really needed. The total cost and the quantities of nutrition consumed for each nutrition type can be inferred from the consumption of food and the input data. However, it often makes good sense for the `solve` routine to compute mathematically redundant tables purely for reporting purposes).\n",
    "\n",
    "How can the `solve` code return an object of this type? The easiest way is to create an empty `TicDat` object, and populate it row by row. This is particularly easy for this schema because all the tables have but one data field. (We're going to skip populating the parameters table because \"no primary key\" tables are a little different)."
   ]
  },
  {
   "cell_type": "code",
   "execution_count": 11,
   "metadata": {
    "collapsed": false
   },
   "outputs": [],
   "source": [
    "soln = solutionFactory.TicDat()\n",
    "soln.buyFood[\"hamburger\"] = 0.6045138888888888\n",
    "soln.buyFood[\"ice cream\"] = 2.591319444444\n",
    "soln.buyFood[\"milk\"] = 6.9701388888\n",
    "soln.consumeNutrition[\"calories\"]= 1800.0\n",
    "soln.consumeNutrition[\"fat\"]=59.0559\n",
    "soln.consumeNutrition[\"protein\"]=91.\n",
    "soln.consumeNutrition[\"sodium\"]=1779."
   ]
  },
  {
   "cell_type": "markdown",
   "metadata": {},
   "source": [
    "`ticdat` overrides `__setitem__` for single data field tables so as to create the following."
   ]
  },
  {
   "cell_type": "code",
   "execution_count": 12,
   "metadata": {
    "collapsed": false
   },
   "outputs": [
    {
     "data": {
      "text/plain": [
       "{'hamburger': _td:{'qty': 0.6045138888888888},\n",
       " 'ice cream': _td:{'qty': 2.591319444444},\n",
       " 'milk': _td:{'qty': 6.9701388888}}"
      ]
     },
     "execution_count": 12,
     "metadata": {},
     "output_type": "execute_result"
    }
   ],
   "source": [
    "soln.buyFood"
   ]
  },
  {
   "cell_type": "code",
   "execution_count": 13,
   "metadata": {
    "collapsed": false
   },
   "outputs": [
    {
     "data": {
      "text/plain": [
       "{'calories': _td:{'qty': 1800.0},\n",
       " 'fat': _td:{'qty': 59.0559},\n",
       " 'protein': _td:{'qty': 91.0},\n",
       " 'sodium': _td:{'qty': 1779.0}}"
      ]
     },
     "execution_count": 13,
     "metadata": {},
     "output_type": "execute_result"
    }
   ],
   "source": [
    "soln.consumeNutrition"
   ]
  },
  {
   "cell_type": "markdown",
   "metadata": {},
   "source": [
    "Here are a couple of other, equivalent ways to populate these seven records."
   ]
  },
  {
   "cell_type": "code",
   "execution_count": 14,
   "metadata": {
    "collapsed": false
   },
   "outputs": [],
   "source": [
    "soln = solutionFactory.TicDat()\n",
    "soln.buyFood[\"hamburger\"][\"qty\"] = 0.6045138888888888\n",
    "soln.buyFood[\"ice cream\"][\"qty\"] = 2.591319444444\n",
    "soln.buyFood[\"milk\"][\"qty\"] = 6.9701388888\n",
    "soln.consumeNutrition[\"calories\"][\"qty\"] = 1800.0\n",
    "soln.consumeNutrition[\"fat\"][\"qty\"] = 59.0559\n",
    "soln.consumeNutrition[\"protein\"][\"qty\"] = 91.\n",
    "soln.consumeNutrition[\"sodium\"][\"qty\"] = 1779."
   ]
  },
  {
   "cell_type": "code",
   "execution_count": 15,
   "metadata": {
    "collapsed": false
   },
   "outputs": [],
   "source": [
    "soln = solutionFactory.TicDat()\n",
    "soln.buyFood[\"hamburger\"] = {\"qty\" : 0.6045138888888888}\n",
    "soln.buyFood[\"ice cream\"] = {\"qty\" : 2.591319444444}\n",
    "soln.buyFood[\"milk\"] = {\"qty\" : 6.9701388888}\n",
    "soln.consumeNutrition[\"calories\"] = {\"qty\" : 1800.0}\n",
    "soln.consumeNutrition[\"fat\"] = {\"qty\" : 59.0559}\n",
    "soln.consumeNutrition[\"protein\"] = {\"qty\" : 91.}\n",
    "soln.consumeNutrition[\"sodium\"] = {\"qty\" : 1779.}"
   ]
  },
  {
   "cell_type": "markdown",
   "metadata": {},
   "source": [
    "But wait! You're pandonic! Fair enough. Here are a few ways to initialize a `TicDat` object with `Series` and `DataFrame` objects.\n",
    "\n",
    "First, lets make two `DataFrames` for the two output tables."
   ]
  },
  {
   "cell_type": "code",
   "execution_count": 16,
   "metadata": {
    "collapsed": false
   },
   "outputs": [],
   "source": [
    "from pandas import Series, DataFrame\n",
    "buyDf = DataFrame({\"food\":['hamburger', 'ice cream', 'milk'], \n",
    "                   \"qty\":[0.6045138888888888, 2.591319444444, 6.9701388888]}).set_index(\"food\")\n",
    "consumeDf = DataFrame({\"category\" : [\"calories\", \"fat\", \"protein\", \"sodium\"], \n",
    "                       \"qty\": [1800.0, 59.0559, 91., 1779.]}).set_index(\"category\")"
   ]
  },
  {
   "cell_type": "markdown",
   "metadata": {},
   "source": [
    "As you can see, these `DataFrames` are consistent with the format expected by `solutionFactory`."
   ]
  },
  {
   "cell_type": "code",
   "execution_count": 17,
   "metadata": {
    "collapsed": false
   },
   "outputs": [
    {
     "data": {
      "text/html": [
       "<div style=\"max-width:1500px;overflow:auto;\">\n",
       "<table border=\"1\" class=\"dataframe\">\n",
       "  <thead>\n",
       "    <tr style=\"text-align: right;\">\n",
       "      <th></th>\n",
       "      <th>qty</th>\n",
       "    </tr>\n",
       "    <tr>\n",
       "      <th>food</th>\n",
       "      <th></th>\n",
       "    </tr>\n",
       "  </thead>\n",
       "  <tbody>\n",
       "    <tr>\n",
       "      <th>hamburger</th>\n",
       "      <td>0.604514</td>\n",
       "    </tr>\n",
       "    <tr>\n",
       "      <th>ice cream</th>\n",
       "      <td>2.591319</td>\n",
       "    </tr>\n",
       "    <tr>\n",
       "      <th>milk</th>\n",
       "      <td>6.970139</td>\n",
       "    </tr>\n",
       "  </tbody>\n",
       "</table>\n",
       "</div>"
      ],
      "text/plain": [
       "                qty\n",
       "food               \n",
       "hamburger  0.604514\n",
       "ice cream  2.591319\n",
       "milk       6.970139"
      ]
     },
     "execution_count": 17,
     "metadata": {},
     "output_type": "execute_result"
    }
   ],
   "source": [
    "buyDf"
   ]
  },
  {
   "cell_type": "code",
   "execution_count": 18,
   "metadata": {
    "collapsed": false
   },
   "outputs": [
    {
     "data": {
      "text/html": [
       "<div style=\"max-width:1500px;overflow:auto;\">\n",
       "<table border=\"1\" class=\"dataframe\">\n",
       "  <thead>\n",
       "    <tr style=\"text-align: right;\">\n",
       "      <th></th>\n",
       "      <th>qty</th>\n",
       "    </tr>\n",
       "    <tr>\n",
       "      <th>category</th>\n",
       "      <th></th>\n",
       "    </tr>\n",
       "  </thead>\n",
       "  <tbody>\n",
       "    <tr>\n",
       "      <th>calories</th>\n",
       "      <td>1800.0000</td>\n",
       "    </tr>\n",
       "    <tr>\n",
       "      <th>fat</th>\n",
       "      <td>59.0559</td>\n",
       "    </tr>\n",
       "    <tr>\n",
       "      <th>protein</th>\n",
       "      <td>91.0000</td>\n",
       "    </tr>\n",
       "    <tr>\n",
       "      <th>sodium</th>\n",
       "      <td>1779.0000</td>\n",
       "    </tr>\n",
       "  </tbody>\n",
       "</table>\n",
       "</div>"
      ],
      "text/plain": [
       "                qty\n",
       "category           \n",
       "calories  1800.0000\n",
       "fat         59.0559\n",
       "protein     91.0000\n",
       "sodium    1779.0000"
      ]
     },
     "execution_count": 18,
     "metadata": {},
     "output_type": "execute_result"
    }
   ],
   "source": [
    "consumeDf"
   ]
  },
  {
   "cell_type": "markdown",
   "metadata": {},
   "source": [
    "As a result, they can be used to create a `solutionFactory.TicDat` object. Just pass the `DataFrame` objects as the correct named arguments when creating the `TicDat`."
   ]
  },
  {
   "cell_type": "code",
   "execution_count": 19,
   "metadata": {
    "collapsed": false
   },
   "outputs": [
    {
     "data": {
      "text/plain": [
       "{'hamburger': _td:{'qty': 0.6045138888888888},\n",
       " 'ice cream': _td:{'qty': 2.5913194444440002},\n",
       " 'milk': _td:{'qty': 6.9701388888000002}}"
      ]
     },
     "execution_count": 19,
     "metadata": {},
     "output_type": "execute_result"
    }
   ],
   "source": [
    "soln = solutionFactory.TicDat(buyFood = buyDf, consumeNutrition = consumeDf)\n",
    "soln.buyFood"
   ]
  },
  {
   "cell_type": "markdown",
   "metadata": {},
   "source": [
    "But wait! There's even more. Because the data tables here have but a single data field, they can accept properly formatted `Series` objects as well."
   ]
  },
  {
   "cell_type": "code",
   "execution_count": 20,
   "metadata": {
    "collapsed": false
   },
   "outputs": [
    {
     "data": {
      "text/plain": [
       "{'calories': _td:{'qty': 1800.0},\n",
       " 'fat': _td:{'qty': 59.055900000000001},\n",
       " 'protein': _td:{'qty': 91.0},\n",
       " 'sodium': _td:{'qty': 1779.0}}"
      ]
     },
     "execution_count": 20,
     "metadata": {},
     "output_type": "execute_result"
    }
   ],
   "source": [
    "buyS = buyDf.qty\n",
    "consumeS = consumeDf.qty\n",
    "assert isinstance(buyS, Series) and isinstance(consumeS, Series)\n",
    "soln = solutionFactory.TicDat(buyFood = buyS, consumeNutrition = consumeS)\n",
    "soln.consumeNutrition"
   ]
  },
  {
   "cell_type": "markdown",
   "metadata": {},
   "source": [
    "Thanks for reading! "
   ]
  }
 ],
 "metadata": {
  "kernelspec": {
   "display_name": "Python 2",
   "language": "python",
   "name": "python2"
  },
  "language_info": {
   "codemirror_mode": {
    "name": "ipython",
    "version": 2
   },
   "file_extension": ".py",
   "mimetype": "text/x-python",
   "name": "python",
   "nbconvert_exporter": "python",
   "pygments_lexer": "ipython2",
   "version": "2.7.11"
  }
 },
 "nbformat": 4,
 "nbformat_minor": 0
}
