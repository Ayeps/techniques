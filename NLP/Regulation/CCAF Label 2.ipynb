{
 "cells": [
  {
   "cell_type": "raw",
   "metadata": {},
   "source": [
    "#### For reporting purpose:\n",
    "2 hours of work "
   ]
  },
  {
   "cell_type": "code",
   "execution_count": 167,
   "metadata": {},
   "outputs": [
    {
     "name": "stdout",
     "output_type": "stream",
     "text": [
      "148.0\n"
     ]
    }
   ],
   "source": [
    "import gc\n",
    "import numpy as np\n",
    "import pandas as pd\n",
    "import os\n",
    "\n",
    "from sklearn.feature_extraction.text import TfidfVectorizer\n",
    "from sklearn.metrics import roc_auc_score\n",
    "from sklearn.model_selection import KFold, RepeatedKFold\n",
    "from sklearn.preprocessing import LabelEncoder\n",
    "\n",
    "from tqdm import tqdm\n",
    "import lightgbm as lgb\n",
    "\n",
    "df = pd.read_csv(\"regulation_cleaned.csv\")\n",
    "\n",
    "del df[\"label\"]\n",
    "\n",
    "df[\"class\"] = df[\"class\"].map(str.strip)  ## remove excess whitespace \n",
    "\n",
    "print(df[\"class\"].value_counts().median()) ### 148 Perfect\n",
    "\n",
    "## Makes sure that there are at least five samples per label\n",
    "count_class = 5  ## all are above 5 in this case \n",
    "list_two = list(df[\"class\"].value_counts()[df[\"class\"].value_counts()>count_class].index.values)\n",
    "df = df[df[\"class\"].isin(list_two)].reset_index(drop=True)\n",
    "\n",
    "from sklearn import preprocessing\n",
    "le = preprocessing.LabelEncoder()\n",
    "df['class'] = le.fit_transform(df['class'])  \n"
   ]
  },
  {
   "cell_type": "markdown",
   "metadata": {},
   "source": [
    "I quickly created a test for punctuation, stop words, spelling, stemming, lemmatisation and combinations. Stem and lem together seems to lead to the best performance. All other combinations seem to be inferior. "
   ]
  },
  {
   "cell_type": "code",
   "execution_count": 168,
   "metadata": {},
   "outputs": [],
   "source": [
    "def test_preprocessing(data, punct=False, stop=False, stem=False, lem=False, stem_lem=False, spell_before=False, spell_after=False):\n",
    "    import pandas as pd\n",
    "    from bs4 import BeautifulSoup\n",
    "    from nltk.corpus import stopwords\n",
    "    import re\n",
    "    import string\n",
    "    from nltk.stem import PorterStemmer\n",
    "    from nltk.stem import WordNetLemmatizer\n",
    "    from autocorrect import spell\n",
    "\n",
    "    def removePunctuation(x):\n",
    "        # Lowercasing all words\n",
    "        x = x.lower()\n",
    "        # Removing non ASCII chars\n",
    "        x = re.sub(r'[^\\x00-\\x7f]',r' ',x)\n",
    "        # Removing (replacing with empty spaces actually) all the punctuations\n",
    "        return re.sub(\"[\"+string.punctuation+\"]\", \" \", x)\n",
    "\n",
    "    stops = set(stopwords.words(\"english\"))\n",
    "    def removeStopwords(x):\n",
    "        # Removing all the stopwords\n",
    "        filtered_words = [word for word in x.split() if word not in stops]\n",
    "        return \" \".join(filtered_words)\n",
    "    \n",
    "    p = PorterStemmer()\n",
    "    def Stemmer(sentence):\n",
    "        return ' '.join([p.stem(x.lower()) for x in re.split('\\W', sentence) if len(x) >= 1])\n",
    "\n",
    "    L = WordNetLemmatizer()\n",
    "    def Lemma(sentence):\n",
    "        return ' '.join([L.lemmatize(x.lower()) for x in re.split('\\W', sentence) if len(x) > 1])\n",
    "\n",
    "    p = PorterStemmer()\n",
    "    L = WordNetLemmatizer()\n",
    "    def StemAndLem(sentence):\n",
    "        return ' '.join([p.stem(L.lemmatize(x.lower())) for x in re.split('\\W', sentence) if len(x) > 1])\n",
    "\n",
    "    def Spelling(sentence):\n",
    "        return ' '.join([spell(x.lower()) for x in re.split('\\W', sentence) if len(x) > 1])\n",
    "\n",
    "    if spell_before:\n",
    "        data[\"documents\"] = data[\"documents\"].map(Spelling)\n",
    "    if punct:\n",
    "        data[\"documents\"] = data[\"documents\"].map(removePunctuation)\n",
    "    if stop:\n",
    "        data[\"documents\"] = data[\"documents\"].map(removeStopwords)\n",
    "    if stem:\n",
    "        data[\"documents\"] = data[\"documents\"].map(Stemmer)\n",
    "    if lem:\n",
    "        data[\"documents\"] = data[\"documents\"].map(Lemma)\n",
    "    if stem_lem:\n",
    "        data[\"documents\"] = data[\"documents\"].map(StemAndLem)\n",
    "    if spell_after:\n",
    "        data[\"documents\"] = data[\"documents\"].map(Spelling)\n",
    "        \n",
    "    from sklearn.model_selection import train_test_split\n",
    "\n",
    "    train, test, y_train, y_test = train_test_split(data.drop([\"class\"],axis=1), data[\"class\"], test_size=0.4, random_state=0, stratify= data[\"class\"])\n",
    "\n",
    "    print(train.head())\n",
    "    # print(test.head())\n",
    "    print(train.shape, test.shape)\n",
    "\n",
    "\n",
    "    # Extract features\n",
    "    def extract_features(data):\n",
    "        data['documents_len'] = data['documents'].apply(lambda x: len(str(x)))\n",
    "        data['documents_wc'] = data['documents'].apply(lambda x: len(str(x).split(' ')))\n",
    "\n",
    "    extract_features(train)\n",
    "    extract_features(test)\n",
    "\n",
    "\n",
    "    df_all = pd.concat([train, test], axis=0)\n",
    "    gc.collect()\n",
    "\n",
    "    df_all.head()\n",
    "\n",
    "    # Preprocess text\n",
    "    print('Preprocessing text...')\n",
    "    cols = [\n",
    "        'documents', \n",
    "    ]\n",
    "    n_features = [\n",
    "        240, \n",
    "    ]\n",
    "\n",
    "    for c_i, c in tqdm(enumerate(cols)):\n",
    "        tfidf = TfidfVectorizer(\n",
    "            max_features=n_features[c_i],\n",
    "            norm='l2',\n",
    "            )\n",
    "        tfidf.fit(df_all[c])\n",
    "        tfidf_train = np.array(tfidf.transform(train[c]).toarray(), dtype=np.float16)\n",
    "        tfidf_test = np.array(tfidf.transform(test[c]).toarray(), dtype=np.float16)\n",
    "\n",
    "        for i in range(n_features[c_i]):\n",
    "            train[c + '_tfidf_' + str(i)] = tfidf_train[:, i]\n",
    "            test[c + '_tfidf_' + str(i)] = tfidf_test[:, i]\n",
    "\n",
    "        del tfidf, tfidf_train, tfidf_test\n",
    "        gc.collect()\n",
    "\n",
    "    print('Done.')\n",
    "    del df_all\n",
    "    gc.collect()\n",
    "\n",
    "    # Prepare data\n",
    "\n",
    "    cols_to_drop = [\n",
    "        'class',\n",
    "        'documents',\n",
    "        'is_test',\n",
    "        'index'\n",
    "    ]\n",
    "    X = train.drop(cols_to_drop, axis=1, errors='ignore').reset_index(drop=True)\n",
    "\n",
    "    y = y_train.reset_index(drop=True)\n",
    "    X_test = test.drop(cols_to_drop, axis=1, errors='ignore').reset_index(drop=True)\n",
    "\n",
    "    ## drop is_test\n",
    "\n",
    "    pd.options.display.max_columns = None\n",
    "\n",
    "    X.head()\n",
    "\n",
    "    print(len(y.unique()), len(y_test.unique()))\n",
    "\n",
    "    from sklearn.metrics import confusion_matrix\n",
    "    from sklearn.metrics import classification_report\n",
    "    import pandas as pd\n",
    "    from sklearn.metrics import precision_recall_fscore_support\n",
    "\n",
    "\n",
    "    id_test = test.index.values\n",
    "    feature_names = list(X.columns)\n",
    "    print(X.shape, X_test.shape)\n",
    "\n",
    "    #del train, test\n",
    "    gc.collect()\n",
    "\n",
    "    # Build the model\n",
    "    cnt = 0\n",
    "    p_buf = []\n",
    "    n_splits = 3\n",
    "    n_repeats = 1\n",
    "    kf = RepeatedKFold(\n",
    "        n_splits=n_splits, \n",
    "        n_repeats=n_repeats, \n",
    "        random_state=0)\n",
    "    auc_buf = []   \n",
    "\n",
    "    for train_index, valid_index in kf.split(X):\n",
    "        print('Fold {}/{}'.format(cnt + 1, n_splits))\n",
    "        params = {\n",
    "            'boosting_type': 'gbdt',\n",
    "            'objective': 'multiclass',\n",
    "            #'objective': 'multiclassova',\n",
    "            'num_class': 46, #len(y.unique())\n",
    "            # 'metric': ['multi_logloss'],\n",
    "            'metric': ['multi_error'],## \n",
    "            'max_depth': 14,\n",
    "            'num_leaves': 31,\n",
    "            'learning_rate': 0.025,\n",
    "            'feature_fraction': 0.85,\n",
    "            'bagging_fraction': 0.85,\n",
    "            'bagging_freq': 5,\n",
    "            'verbose': 0,\n",
    "            'num_threads': 1,\n",
    "            'lambda_l2': 1.0,\n",
    "            'min_gain_to_split': 0,\n",
    "        }  \n",
    "\n",
    "        lgb_train = lgb.Dataset(\n",
    "            X.loc[train_index], \n",
    "            y.loc[train_index], \n",
    "            feature_name=feature_names,\n",
    "            )\n",
    "        lgb_train.raw_data = None\n",
    "\n",
    "        lgb_valid = lgb.Dataset(\n",
    "            X.loc[valid_index], \n",
    "            y.loc[valid_index],\n",
    "            )\n",
    "        lgb_valid.raw_data = None\n",
    "\n",
    "        model = lgb.train(\n",
    "            params,\n",
    "            lgb_train,\n",
    "            num_boost_round=10000,\n",
    "            valid_sets=[lgb_train, lgb_valid],\n",
    "            early_stopping_rounds=100,\n",
    "            verbose_eval=100,\n",
    "        )\n",
    "\n",
    "        if cnt == 0:\n",
    "            importance = model.feature_importance()\n",
    "            model_fnames = model.feature_name()\n",
    "            tuples = sorted(zip(model_fnames, importance), key=lambda x: x[1])[::-1]\n",
    "            tuples = [x for x in tuples if x[1] > 0]\n",
    "            print('Important features:')\n",
    "            for i in range(60):\n",
    "                if i < len(tuples):\n",
    "                    print(tuples[i])\n",
    "                else:\n",
    "                    break\n",
    "\n",
    "            del importance, model_fnames, tuples\n",
    "\n",
    "        y_pred = model.predict(X.loc[valid_index], num_iteration=model.best_iteration)\n",
    "\n",
    "        pred_class = [np.argmax(line) for line in y_pred]\n",
    "\n",
    "        #cm = confusion_matrix(y.loc[valid_index], pred_class)\n",
    "\n",
    "        cm = classification_report(y.loc[valid_index], pred_class, target_names=list(le.inverse_transform(y.loc[valid_index].sort_values().unique())))\n",
    "        print(cm)\n",
    "\n",
    "        report = pd.DataFrame(list(precision_recall_fscore_support(y.loc[valid_index], pred_class)),\n",
    "                    index=['Precision', 'Recall', 'F1-score', 'Support']).T\n",
    "\n",
    "        # Now add the 'Avg/Total' row\n",
    "        report.loc['Avg/Total', :] = precision_recall_fscore_support(y.loc[valid_index], pred_class,\n",
    "            average='weighted')\n",
    "        report.loc['Avg/Total', 'Support'] = report['Support'].sum()\n",
    "\n",
    "        p = model.predict(X_test, num_iteration=model.best_iteration)\n",
    "        if len(p_buf) == 0:\n",
    "            p_buf = np.array(p, dtype=np.float16)\n",
    "        else:\n",
    "            p_buf += np.array(p, dtype=np.float16)\n",
    "\n",
    "        cnt += 1\n",
    "        if cnt > 0: # Comment this to run several folds\n",
    "            break\n",
    "\n",
    "        del model, lgb_train, lgb_valid, p\n",
    "        gc.collect\n",
    "\n",
    "    preds = p_buf/cnt\n",
    "\n",
    "    preds = [np.argmax(line) for line in preds]\n",
    "\n",
    "    # Prepare submission\n",
    "    subm = pd.DataFrame()\n",
    "    subm['id'] = id_test\n",
    "    subm['label'] = preds\n",
    "    subm.to_csv('submission.csv', index=False)\n",
    "\n",
    "\n",
    "\n",
    "    list_ind = list(le.inverse_transform(y.loc[valid_index].sort_values().unique()))\n",
    "\n",
    "    list_ind.append(\"Avg/Total\")\n",
    "\n",
    "    report.index = list_ind\n",
    "\n",
    "    return report\n"
   ]
  },
  {
   "cell_type": "code",
   "execution_count": 169,
   "metadata": {},
   "outputs": [
    {
     "name": "stdout",
     "output_type": "stream",
     "text": [
      "                                             documents\n",
      "164  Governing payment institutions and registered ...\n",
      "882               27 Dealings by Employees of a Dealer\n",
      "846  Directive 2006/43/EC of the European Parliamen...\n",
      "824                                          Murabahah\n",
      "481  Royal Decree Regulating on Electronic Payment ...\n",
      "(739, 1) (494, 1)\n"
     ]
    },
    {
     "name": "stderr",
     "output_type": "stream",
     "text": [
      "\r",
      "0it [00:00, ?it/s]"
     ]
    },
    {
     "name": "stdout",
     "output_type": "stream",
     "text": [
      "Preprocessing text...\n"
     ]
    },
    {
     "name": "stderr",
     "output_type": "stream",
     "text": [
      "1it [00:00,  1.34it/s]\n"
     ]
    },
    {
     "name": "stdout",
     "output_type": "stream",
     "text": [
      "Done.\n",
      "6 6\n",
      "(739, 242) (494, 242)\n",
      "Fold 1/3\n",
      "Training until validation scores don't improve for 100 rounds.\n",
      "[100]\ttraining's multi_error: 0.252033\tvalid_1's multi_error: 0.392713\n",
      "[200]\ttraining's multi_error: 0.182927\tvalid_1's multi_error: 0.392713\n",
      "[300]\ttraining's multi_error: 0.132114\tvalid_1's multi_error: 0.384615\n",
      "Early stopping, best iteration is:\n",
      "[229]\ttraining's multi_error: 0.164634\tvalid_1's multi_error: 0.384615\n",
      "Important features:\n",
      "('documents_len', 4999)\n",
      "('documents_wc', 2058)\n",
      "('documents_tfidf_161', 1483)\n",
      "('documents_tfidf_163', 1309)\n",
      "('documents_tfidf_32', 1057)\n",
      "('documents_tfidf_26', 814)\n",
      "('documents_tfidf_102', 725)\n",
      "('documents_tfidf_159', 608)\n",
      "('documents_tfidf_228', 450)\n",
      "('documents_tfidf_229', 429)\n",
      "('documents_tfidf_192', 346)\n",
      "('documents_tfidf_208', 295)\n",
      "('documents_tfidf_118', 262)\n",
      "('documents_tfidf_127', 260)\n",
      "('documents_tfidf_176', 221)\n",
      "('documents_tfidf_130', 202)\n",
      "('documents_tfidf_48', 155)\n",
      "('documents_tfidf_99', 139)\n",
      "('documents_tfidf_172', 138)\n",
      "('documents_tfidf_122', 113)\n",
      "('documents_tfidf_126', 109)\n",
      "('documents_tfidf_49', 100)\n",
      "('documents_tfidf_78', 22)\n",
      "('documents_tfidf_149', 16)\n",
      "('documents_tfidf_69', 14)\n",
      "('documents_tfidf_153', 4)\n",
      "('documents_tfidf_59', 2)\n"
     ]
    },
    {
     "name": "stderr",
     "output_type": "stream",
     "text": [
      "/Users/dereksnow/anaconda/envs/py36/lib/python3.6/site-packages/sklearn/preprocessing/label.py:151: DeprecationWarning: The truth value of an empty array is ambiguous. Returning False, but in future this will result in an error. Use `array.size > 0` to check that an array is not empty.\n",
      "  if diff:\n"
     ]
    },
    {
     "name": "stdout",
     "output_type": "stream",
     "text": [
      "             precision    recall  f1-score   support\n",
      "\n",
      "    banking       0.64      0.78      0.71       100\n",
      "  companies       0.42      0.36      0.39        36\n",
      "      funds       0.41      0.28      0.33        25\n",
      "  insurance       0.69      0.66      0.67        44\n",
      "    payment       0.78      0.44      0.56        16\n",
      " securities       0.67      0.69      0.68        26\n",
      "\n",
      "avg / total       0.61      0.62      0.60       247\n",
      "\n"
     ]
    },
    {
     "name": "stderr",
     "output_type": "stream",
     "text": [
      "/Users/dereksnow/anaconda/envs/py36/lib/python3.6/site-packages/sklearn/preprocessing/label.py:151: DeprecationWarning: The truth value of an empty array is ambiguous. Returning False, but in future this will result in an error. Use `array.size > 0` to check that an array is not empty.\n",
      "  if diff:\n"
     ]
    },
    {
     "name": "stdout",
     "output_type": "stream",
     "text": [
      "                                             documents\n",
      "164  governing payment institutions and registered ...\n",
      "882               27 dealings by employees of a dealer\n",
      "846  directive 2006 43 ec of the european parliamen...\n",
      "824                                          murabahah\n",
      "481  royal decree regulating on electronic payment ...\n",
      "(739, 1) (494, 1)\n"
     ]
    },
    {
     "name": "stderr",
     "output_type": "stream",
     "text": [
      "\r",
      "0it [00:00, ?it/s]"
     ]
    },
    {
     "name": "stdout",
     "output_type": "stream",
     "text": [
      "Preprocessing text...\n"
     ]
    },
    {
     "name": "stderr",
     "output_type": "stream",
     "text": [
      "1it [00:00,  1.49it/s]\n"
     ]
    },
    {
     "name": "stdout",
     "output_type": "stream",
     "text": [
      "Done.\n",
      "6 6\n",
      "(739, 242) (494, 242)\n",
      "Fold 1/3\n",
      "Training until validation scores don't improve for 100 rounds.\n",
      "[100]\ttraining's multi_error: 0.25813\tvalid_1's multi_error: 0.404858\n",
      "[200]\ttraining's multi_error: 0.182927\tvalid_1's multi_error: 0.396761\n",
      "[300]\ttraining's multi_error: 0.130081\tvalid_1's multi_error: 0.380567\n",
      "Early stopping, best iteration is:\n",
      "[263]\ttraining's multi_error: 0.148374\tvalid_1's multi_error: 0.376518\n",
      "Important features:\n",
      "('documents_len', 5413)\n",
      "('documents_wc', 3347)\n",
      "('documents_tfidf_161', 1631)\n",
      "('documents_tfidf_163', 1380)\n",
      "('documents_tfidf_31', 1196)\n",
      "('documents_tfidf_25', 824)\n",
      "('documents_tfidf_102', 752)\n",
      "('documents_tfidf_159', 650)\n",
      "('documents_tfidf_228', 518)\n",
      "('documents_tfidf_229', 487)\n",
      "('documents_tfidf_192', 329)\n",
      "('documents_tfidf_208', 317)\n",
      "('documents_tfidf_118', 292)\n",
      "('documents_tfidf_127', 283)\n",
      "('documents_tfidf_176', 233)\n",
      "('documents_tfidf_130', 221)\n",
      "('documents_tfidf_48', 193)\n",
      "('documents_tfidf_99', 161)\n",
      "('documents_tfidf_126', 160)\n",
      "('documents_tfidf_172', 148)\n",
      "('documents_tfidf_49', 123)\n",
      "('documents_tfidf_122', 116)\n",
      "('documents_tfidf_78', 27)\n",
      "('documents_tfidf_149', 15)\n",
      "('documents_tfidf_69', 13)\n",
      "('documents_tfidf_153', 4)\n",
      "('documents_tfidf_59', 1)\n"
     ]
    },
    {
     "name": "stderr",
     "output_type": "stream",
     "text": [
      "/Users/dereksnow/anaconda/envs/py36/lib/python3.6/site-packages/sklearn/preprocessing/label.py:151: DeprecationWarning: The truth value of an empty array is ambiguous. Returning False, but in future this will result in an error. Use `array.size > 0` to check that an array is not empty.\n",
      "  if diff:\n"
     ]
    },
    {
     "name": "stdout",
     "output_type": "stream",
     "text": [
      "             precision    recall  f1-score   support\n",
      "\n",
      "    banking       0.66      0.79      0.72       100\n",
      "  companies       0.44      0.42      0.43        36\n",
      "      funds       0.40      0.24      0.30        25\n",
      "  insurance       0.68      0.64      0.66        44\n",
      "    payment       0.78      0.44      0.56        16\n",
      " securities       0.66      0.73      0.69        26\n",
      "\n",
      "avg / total       0.61      0.62      0.61       247\n",
      "\n"
     ]
    },
    {
     "name": "stderr",
     "output_type": "stream",
     "text": [
      "/Users/dereksnow/anaconda/envs/py36/lib/python3.6/site-packages/sklearn/preprocessing/label.py:151: DeprecationWarning: The truth value of an empty array is ambiguous. Returning False, but in future this will result in an error. Use `array.size > 0` to check that an array is not empty.\n",
      "  if diff:\n"
     ]
    },
    {
     "name": "stdout",
     "output_type": "stream",
     "text": [
      "                                             documents\n",
      "164  governing payment institutions registered paym...\n",
      "882                       27 dealings employees dealer\n",
      "846  directive 2006 43 ec european parliament counc...\n",
      "824                                          murabahah\n",
      "481  royal decree regulating electronic payment ser...\n",
      "(739, 1)"
     ]
    },
    {
     "name": "stderr",
     "output_type": "stream",
     "text": [
      "\r",
      "0it [00:00, ?it/s]"
     ]
    },
    {
     "name": "stdout",
     "output_type": "stream",
     "text": [
      " (494, 1)\n",
      "Preprocessing text...\n"
     ]
    },
    {
     "name": "stderr",
     "output_type": "stream",
     "text": [
      "1it [00:00,  1.30it/s]\n"
     ]
    },
    {
     "name": "stdout",
     "output_type": "stream",
     "text": [
      "Done.\n",
      "6 6\n",
      "(739, 242) (494, 242)\n",
      "Fold 1/3\n",
      "Training until validation scores don't improve for 100 rounds.\n",
      "[100]\ttraining's multi_error: 0.286585\tvalid_1's multi_error: 0.417004\n",
      "Early stopping, best iteration is:\n",
      "[7]\ttraining's multi_error: 0.424797\tvalid_1's multi_error: 0.404858\n",
      "Important features:\n",
      "('documents_len', 137)\n",
      "('documents_wc', 79)\n",
      "('documents_tfidf_28', 39)\n",
      "('documents_tfidf_163', 26)\n",
      "('documents_tfidf_177', 21)\n",
      "('documents_tfidf_212', 15)\n",
      "('documents_tfidf_133', 14)\n",
      "('documents_tfidf_130', 14)\n",
      "('documents_tfidf_122', 13)\n",
      "('documents_tfidf_194', 10)\n",
      "('documents_tfidf_48', 7)\n",
      "('documents_tfidf_129', 5)\n",
      "('documents_tfidf_103', 4)\n",
      "('documents_tfidf_49', 1)\n",
      "             precision    recall  f1-score   support\n",
      "\n",
      "    banking       0.54      0.91      0.68       100\n",
      "  companies       0.55      0.31      0.39        36\n",
      "      funds       0.56      0.20      0.29        25\n",
      "  insurance       0.93      0.57      0.70        44\n",
      "    payment       0.00      0.00      0.00        16\n",
      " securities       0.68      0.58      0.62        26\n",
      "\n",
      "avg / total       0.59      0.60      0.55       247\n",
      "\n"
     ]
    },
    {
     "name": "stderr",
     "output_type": "stream",
     "text": [
      "/Users/dereksnow/anaconda/envs/py36/lib/python3.6/site-packages/sklearn/preprocessing/label.py:151: DeprecationWarning: The truth value of an empty array is ambiguous. Returning False, but in future this will result in an error. Use `array.size > 0` to check that an array is not empty.\n",
      "  if diff:\n",
      "/Users/dereksnow/anaconda/envs/py36/lib/python3.6/site-packages/sklearn/metrics/classification.py:1135: UndefinedMetricWarning: Precision and F-score are ill-defined and being set to 0.0 in labels with no predicted samples.\n",
      "  'precision', 'predicted', average, warn_for)\n",
      "/Users/dereksnow/anaconda/envs/py36/lib/python3.6/site-packages/sklearn/preprocessing/label.py:151: DeprecationWarning: The truth value of an empty array is ambiguous. Returning False, but in future this will result in an error. Use `array.size > 0` to check that an array is not empty.\n",
      "  if diff:\n"
     ]
    },
    {
     "name": "stdout",
     "output_type": "stream",
     "text": [
      "                                             documents\n",
      "164  governing payment institutions registered paym...\n",
      "882                       27 dealings employees dealer\n",
      "846  directive 2006 43 ec european parliament counc...\n",
      "824                                          murabahah\n",
      "481  royal decree regulating electronic payment ser...\n",
      "(739, 1) (494, 1)"
     ]
    },
    {
     "name": "stderr",
     "output_type": "stream",
     "text": [
      "\r",
      "0it [00:00, ?it/s]"
     ]
    },
    {
     "name": "stdout",
     "output_type": "stream",
     "text": [
      "\n",
      "Preprocessing text...\n"
     ]
    },
    {
     "name": "stderr",
     "output_type": "stream",
     "text": [
      "1it [00:00,  2.00it/s]\n"
     ]
    },
    {
     "name": "stdout",
     "output_type": "stream",
     "text": [
      "Done.\n",
      "6 6\n",
      "(739, 242) (494, 242)\n",
      "Fold 1/3\n",
      "Training until validation scores don't improve for 100 rounds.\n",
      "[100]\ttraining's multi_error: 0.286585\tvalid_1's multi_error: 0.417004\n",
      "Early stopping, best iteration is:\n",
      "[7]\ttraining's multi_error: 0.424797\tvalid_1's multi_error: 0.404858\n",
      "Important features:\n",
      "('documents_len', 137)\n",
      "('documents_wc', 79)\n",
      "('documents_tfidf_28', 39)\n",
      "('documents_tfidf_163', 26)\n",
      "('documents_tfidf_177', 21)\n",
      "('documents_tfidf_212', 15)\n",
      "('documents_tfidf_133', 14)\n",
      "('documents_tfidf_130', 14)\n",
      "('documents_tfidf_122', 13)\n",
      "('documents_tfidf_194', 10)\n",
      "('documents_tfidf_48', 7)\n",
      "('documents_tfidf_129', 5)\n",
      "('documents_tfidf_103', 4)\n",
      "('documents_tfidf_49', 1)\n",
      "             precision    recall  f1-score   support\n",
      "\n",
      "    banking       0.54      0.91      0.68       100\n",
      "  companies       0.55      0.31      0.39        36\n",
      "      funds       0.56      0.20      0.29        25\n",
      "  insurance       0.93      0.57      0.70        44\n",
      "    payment       0.00      0.00      0.00        16\n",
      " securities       0.68      0.58      0.62        26\n",
      "\n",
      "avg / total       0.59      0.60      0.55       247\n",
      "\n"
     ]
    },
    {
     "name": "stderr",
     "output_type": "stream",
     "text": [
      "/Users/dereksnow/anaconda/envs/py36/lib/python3.6/site-packages/sklearn/preprocessing/label.py:151: DeprecationWarning: The truth value of an empty array is ambiguous. Returning False, but in future this will result in an error. Use `array.size > 0` to check that an array is not empty.\n",
      "  if diff:\n",
      "/Users/dereksnow/anaconda/envs/py36/lib/python3.6/site-packages/sklearn/preprocessing/label.py:151: DeprecationWarning: The truth value of an empty array is ambiguous. Returning False, but in future this will result in an error. Use `array.size > 0` to check that an array is not empty.\n",
      "  if diff:\n"
     ]
    },
    {
     "name": "stdout",
     "output_type": "stream",
     "text": [
      "                                             documents\n",
      "164  govern payment institut regist payment servic ...\n",
      "882                             27 deal employe dealer\n",
      "846  direct 2006 43 ec european parliament council ...\n",
      "824                                          murabahah\n",
      "481  royal decre regul electron payment servic spec...\n",
      "(739, 1) (494, 1)\n"
     ]
    },
    {
     "name": "stderr",
     "output_type": "stream",
     "text": [
      "\r",
      "0it [00:00, ?it/s]"
     ]
    },
    {
     "name": "stdout",
     "output_type": "stream",
     "text": [
      "Preprocessing text...\n"
     ]
    },
    {
     "name": "stderr",
     "output_type": "stream",
     "text": [
      "1it [00:00,  2.09it/s]\n"
     ]
    },
    {
     "name": "stdout",
     "output_type": "stream",
     "text": [
      "Done.\n",
      "6 6\n",
      "(739, 242) (494, 242)\n",
      "Fold 1/3\n",
      "Training until validation scores don't improve for 100 rounds.\n",
      "[100]\ttraining's multi_error: 0.243902\tvalid_1's multi_error: 0.340081\n",
      "Early stopping, best iteration is:\n",
      "[40]\ttraining's multi_error: 0.292683\tvalid_1's multi_error: 0.327935\n",
      "Important features:\n",
      "('documents_len', 924)\n",
      "('documents_wc', 307)\n",
      "('documents_tfidf_158', 121)\n",
      "('documents_tfidf_113', 115)\n",
      "('documents_tfidf_27', 114)\n",
      "('documents_tfidf_194', 90)\n",
      "('documents_tfidf_210', 81)\n",
      "('documents_tfidf_122', 76)\n",
      "('documents_tfidf_45', 60)\n",
      "('documents_tfidf_174', 59)\n",
      "('documents_tfidf_125', 44)\n",
      "('documents_tfidf_162', 40)\n",
      "('documents_tfidf_106', 39)\n",
      "('documents_tfidf_100', 33)\n",
      "('documents_tfidf_66', 31)\n",
      "('documents_tfidf_169', 22)\n",
      "('documents_tfidf_120', 9)\n",
      "('documents_tfidf_83', 9)\n",
      "('documents_tfidf_31', 2)\n",
      "             precision    recall  f1-score   support\n",
      "\n",
      "    banking       0.63      0.87      0.73       100\n",
      "  companies       0.67      0.39      0.49        36\n",
      "      funds       0.60      0.48      0.53        25\n",
      "  insurance       0.88      0.68      0.77        44\n",
      "    payment       0.67      0.38      0.48        16\n",
      " securities       0.71      0.65      0.68        26\n",
      "\n",
      "avg / total       0.69      0.67      0.66       247\n",
      "\n"
     ]
    },
    {
     "name": "stderr",
     "output_type": "stream",
     "text": [
      "/Users/dereksnow/anaconda/envs/py36/lib/python3.6/site-packages/sklearn/preprocessing/label.py:151: DeprecationWarning: The truth value of an empty array is ambiguous. Returning False, but in future this will result in an error. Use `array.size > 0` to check that an array is not empty.\n",
      "  if diff:\n",
      "/Users/dereksnow/anaconda/envs/py36/lib/python3.6/site-packages/sklearn/preprocessing/label.py:151: DeprecationWarning: The truth value of an empty array is ambiguous. Returning False, but in future this will result in an error. Use `array.size > 0` to check that an array is not empty.\n",
      "  if diff:\n"
     ]
    },
    {
     "name": "stdout",
     "output_type": "stream",
     "text": [
      "                                             documents\n",
      "164  govern payment institut regist payment servic ...\n",
      "882                             27 deal employe dealer\n",
      "846  direct 2006 43 ec european parliament council ...\n",
      "824                                          murabahah\n",
      "481  royal decre regul electron payment servic spec...\n",
      "(739, 1) (494, 1)\n"
     ]
    },
    {
     "name": "stderr",
     "output_type": "stream",
     "text": [
      "\r",
      "0it [00:00, ?it/s]"
     ]
    },
    {
     "name": "stdout",
     "output_type": "stream",
     "text": [
      "Preprocessing text...\n"
     ]
    },
    {
     "name": "stderr",
     "output_type": "stream",
     "text": [
      "1it [00:00,  1.97it/s]\n"
     ]
    },
    {
     "name": "stdout",
     "output_type": "stream",
     "text": [
      "Done.\n",
      "6 6\n",
      "(739, 242) (494, 242)\n",
      "Fold 1/3\n",
      "Training until validation scores don't improve for 100 rounds.\n",
      "[100]\ttraining's multi_error: 0.252033\tvalid_1's multi_error: 0.34413\n",
      "Early stopping, best iteration is:\n",
      "[28]\ttraining's multi_error: 0.29878\tvalid_1's multi_error: 0.331984\n",
      "Important features:\n",
      "('documents_len', 546)\n",
      "('documents_wc', 194)\n",
      "('documents_tfidf_28', 93)\n",
      "('documents_tfidf_159', 91)\n",
      "('documents_tfidf_114', 75)\n",
      "('documents_tfidf_194', 64)\n",
      "('documents_tfidf_124', 63)\n",
      "('documents_tfidf_208', 54)\n",
      "('documents_tfidf_174', 50)\n",
      "('documents_tfidf_46', 40)\n",
      "('documents_tfidf_127', 33)\n",
      "('documents_tfidf_163', 28)\n",
      "('documents_tfidf_107', 27)\n",
      "('documents_tfidf_169', 23)\n",
      "('documents_tfidf_101', 23)\n",
      "('documents_tfidf_66', 23)\n",
      "('documents_tfidf_122', 6)\n",
      "('documents_tfidf_83', 1)\n"
     ]
    },
    {
     "name": "stderr",
     "output_type": "stream",
     "text": [
      "/Users/dereksnow/anaconda/envs/py36/lib/python3.6/site-packages/sklearn/preprocessing/label.py:151: DeprecationWarning: The truth value of an empty array is ambiguous. Returning False, but in future this will result in an error. Use `array.size > 0` to check that an array is not empty.\n",
      "  if diff:\n",
      "/Users/dereksnow/anaconda/envs/py36/lib/python3.6/site-packages/sklearn/preprocessing/label.py:151: DeprecationWarning: The truth value of an empty array is ambiguous. Returning False, but in future this will result in an error. Use `array.size > 0` to check that an array is not empty.\n",
      "  if diff:\n"
     ]
    },
    {
     "name": "stdout",
     "output_type": "stream",
     "text": [
      "             precision    recall  f1-score   support\n",
      "\n",
      "    banking       0.61      0.86      0.71       100\n",
      "  companies       0.64      0.39      0.48        36\n",
      "      funds       0.67      0.48      0.56        25\n",
      "  insurance       0.91      0.68      0.78        44\n",
      "    payment       0.67      0.38      0.48        16\n",
      " securities       0.71      0.65      0.68        26\n",
      "\n",
      "avg / total       0.69      0.67      0.66       247\n",
      "\n",
      "                                             documents\n",
      "164  govern payment institut regist payment servic ...\n",
      "882                              27 deal employ dealer\n",
      "846  direct 2006 43 ec european parliament council ...\n",
      "824                                          murabahah\n",
      "481  royal decr regul electron payment servic speci...\n",
      "(739, 1) (494, 1)\n"
     ]
    },
    {
     "name": "stderr",
     "output_type": "stream",
     "text": [
      "\r",
      "0it [00:00, ?it/s]"
     ]
    },
    {
     "name": "stdout",
     "output_type": "stream",
     "text": [
      "Preprocessing text...\n"
     ]
    },
    {
     "name": "stderr",
     "output_type": "stream",
     "text": [
      "1it [00:00,  2.12it/s]\n"
     ]
    },
    {
     "name": "stdout",
     "output_type": "stream",
     "text": [
      "Done.\n",
      "6 6\n",
      "(739, 242) (494, 242)\n",
      "Fold 1/3\n",
      "Training until validation scores don't improve for 100 rounds.\n",
      "[100]\ttraining's multi_error: 0.247967\tvalid_1's multi_error: 0.331984\n",
      "[200]\ttraining's multi_error: 0.211382\tvalid_1's multi_error: 0.319838\n",
      "Early stopping, best iteration is:\n",
      "[199]\ttraining's multi_error: 0.213415\tvalid_1's multi_error: 0.315789\n",
      "Important features:\n",
      "('documents_len', 5275)\n",
      "('documents_wc', 1858)\n",
      "('documents_tfidf_27', 722)\n",
      "('documents_tfidf_157', 703)\n",
      "('documents_tfidf_113', 507)\n",
      "('documents_tfidf_194', 497)\n",
      "('documents_tfidf_208', 362)\n",
      "('documents_tfidf_100', 352)\n",
      "('documents_tfidf_45', 331)\n",
      "('documents_tfidf_174', 316)\n",
      "('documents_tfidf_122', 276)\n",
      "('documents_tfidf_125', 263)\n",
      "('documents_tfidf_106', 195)\n",
      "('documents_tfidf_161', 188)\n",
      "('documents_tfidf_121', 158)\n",
      "('documents_tfidf_66', 144)\n",
      "('documents_tfidf_168', 141)\n",
      "('documents_tfidf_84', 84)\n",
      "('documents_tfidf_77', 79)\n",
      "('documents_tfidf_32', 77)\n",
      "('documents_tfidf_226', 12)\n",
      "('documents_tfidf_141', 10)\n",
      "('documents_tfidf_197', 5)\n",
      "('documents_tfidf_53', 2)\n",
      "             precision    recall  f1-score   support\n",
      "\n",
      "    banking       0.66      0.82      0.73       100\n",
      "  companies       0.65      0.47      0.55        36\n",
      "      funds       0.65      0.60      0.63        25\n",
      "  insurance       0.78      0.70      0.74        44\n",
      "    payment       0.70      0.44      0.54        16\n",
      " securities       0.74      0.65      0.69        26\n",
      "\n",
      "avg / total       0.69      0.68      0.68       247\n",
      "\n"
     ]
    },
    {
     "name": "stderr",
     "output_type": "stream",
     "text": [
      "/Users/dereksnow/anaconda/envs/py36/lib/python3.6/site-packages/sklearn/preprocessing/label.py:151: DeprecationWarning: The truth value of an empty array is ambiguous. Returning False, but in future this will result in an error. Use `array.size > 0` to check that an array is not empty.\n",
      "  if diff:\n",
      "/Users/dereksnow/anaconda/envs/py36/lib/python3.6/site-packages/sklearn/preprocessing/label.py:151: DeprecationWarning: The truth value of an empty array is ambiguous. Returning False, but in future this will result in an error. Use `array.size > 0` to check that an array is not empty.\n",
      "  if diff:\n"
     ]
    },
    {
     "name": "stdout",
     "output_type": "stream",
     "text": [
      "                                             documents\n",
      "164  govern payment institut regist payment servic ...\n",
      "882                              27 deal employ dealer\n",
      "846  direct 2006 43 ec european parliament council ...\n",
      "824                                          murabahah\n",
      "481  royal decr regul electron payment servic speci...\n",
      "(739, 1) (494, 1)\n"
     ]
    },
    {
     "name": "stderr",
     "output_type": "stream",
     "text": [
      "\r",
      "0it [00:00, ?it/s]"
     ]
    },
    {
     "name": "stdout",
     "output_type": "stream",
     "text": [
      "Preprocessing text...\n"
     ]
    },
    {
     "name": "stderr",
     "output_type": "stream",
     "text": [
      "1it [00:00,  2.23it/s]\n"
     ]
    },
    {
     "name": "stdout",
     "output_type": "stream",
     "text": [
      "Done.\n",
      "6 6\n",
      "(739, 242) (494, 242)\n",
      "Fold 1/3\n",
      "Training until validation scores don't improve for 100 rounds.\n",
      "[100]\ttraining's multi_error: 0.25813\tvalid_1's multi_error: 0.348178\n",
      "[200]\ttraining's multi_error: 0.211382\tvalid_1's multi_error: 0.327935\n",
      "Early stopping, best iteration is:\n",
      "[197]\ttraining's multi_error: 0.215447\tvalid_1's multi_error: 0.327935\n",
      "Important features:\n",
      "('documents_len', 5344)\n",
      "('documents_wc', 1726)\n",
      "('documents_tfidf_27', 731)\n",
      "('documents_tfidf_156', 682)\n",
      "('documents_tfidf_112', 501)\n",
      "('documents_tfidf_191', 443)\n",
      "('documents_tfidf_207', 373)\n",
      "('documents_tfidf_99', 328)\n",
      "('documents_tfidf_43', 328)\n",
      "('documents_tfidf_171', 323)\n",
      "('documents_tfidf_124', 279)\n",
      "('documents_tfidf_121', 278)\n",
      "('documents_tfidf_105', 186)\n",
      "('documents_tfidf_160', 184)\n",
      "('documents_tfidf_119', 163)\n",
      "('documents_tfidf_65', 151)\n",
      "('documents_tfidf_166', 137)\n",
      "('documents_tfidf_82', 90)\n",
      "('documents_tfidf_31', 72)\n",
      "('documents_tfidf_75', 64)\n",
      "('documents_tfidf_225', 10)\n",
      "('documents_tfidf_194', 4)\n",
      "('documents_tfidf_195', 1)\n",
      "('documents_tfidf_94', 1)\n",
      "('documents_tfidf_52', 1)\n",
      "             precision    recall  f1-score   support\n",
      "\n",
      "    banking       0.66      0.80      0.72       100\n",
      "  companies       0.64      0.44      0.52        36\n",
      "      funds       0.56      0.60      0.58        25\n",
      "  insurance       0.78      0.70      0.74        44\n",
      "    payment       0.70      0.44      0.54        16\n",
      " securities       0.74      0.65      0.69        26\n",
      "\n",
      "avg / total       0.68      0.67      0.67       247\n",
      "\n"
     ]
    },
    {
     "name": "stderr",
     "output_type": "stream",
     "text": [
      "/Users/dereksnow/anaconda/envs/py36/lib/python3.6/site-packages/sklearn/preprocessing/label.py:151: DeprecationWarning: The truth value of an empty array is ambiguous. Returning False, but in future this will result in an error. Use `array.size > 0` to check that an array is not empty.\n",
      "  if diff:\n",
      "/Users/dereksnow/anaconda/envs/py36/lib/python3.6/site-packages/sklearn/preprocessing/label.py:151: DeprecationWarning: The truth value of an empty array is ambiguous. Returning False, but in future this will result in an error. Use `array.size > 0` to check that an array is not empty.\n",
      "  if diff:\n"
     ]
    },
    {
     "name": "stdout",
     "output_type": "stream",
     "text": [
      "                                             documents\n",
      "164  govern payment institut resist payment servic ...\n",
      "882                              of deal employ dealer\n",
      "846  direct 2006 of ec european parliament council ...\n",
      "824                                          murabahah\n",
      "481  royal dear regal electron payment servic speci...\n",
      "(739, 1) (494, 1)\n"
     ]
    },
    {
     "name": "stderr",
     "output_type": "stream",
     "text": [
      "\r",
      "0it [00:00, ?it/s]"
     ]
    },
    {
     "name": "stdout",
     "output_type": "stream",
     "text": [
      "Preprocessing text...\n"
     ]
    },
    {
     "name": "stderr",
     "output_type": "stream",
     "text": [
      "1it [00:00,  1.93it/s]\n"
     ]
    },
    {
     "name": "stdout",
     "output_type": "stream",
     "text": [
      "Done.\n",
      "6 6\n",
      "(739, 242) (494, 242)\n",
      "Fold 1/3\n",
      "Training until validation scores don't improve for 100 rounds.\n",
      "[100]\ttraining's multi_error: 0.237805\tvalid_1's multi_error: 0.352227\n",
      "Early stopping, best iteration is:\n",
      "[17]\ttraining's multi_error: 0.317073\tvalid_1's multi_error: 0.336032\n",
      "Important features:\n",
      "('documents_len', 316)\n",
      "('documents_wc', 90)\n",
      "('documents_tfidf_152', 54)\n",
      "('documents_tfidf_105', 52)\n",
      "('documents_tfidf_20', 52)\n",
      "('documents_tfidf_186', 35)\n",
      "('documents_tfidf_204', 32)\n",
      "('documents_tfidf_166', 32)\n",
      "('documents_tfidf_116', 30)\n",
      "('documents_tfidf_119', 25)\n",
      "('documents_tfidf_92', 21)\n",
      "('documents_tfidf_153', 20)\n",
      "('documents_tfidf_37', 20)\n",
      "('documents_tfidf_98', 19)\n",
      "('documents_tfidf_163', 15)\n",
      "('documents_tfidf_156', 14)\n",
      "('documents_tfidf_57', 14)\n",
      "('documents_tfidf_114', 4)\n",
      "('documents_tfidf_68', 1)\n",
      "             precision    recall  f1-score   support\n",
      "\n",
      "    banking       0.60      0.89      0.72       100\n",
      "  companies       0.72      0.36      0.48        36\n",
      "      funds       0.65      0.44      0.52        25\n",
      "  insurance       0.91      0.68      0.78        44\n",
      "    payment       0.67      0.38      0.48        16\n",
      " securities       0.68      0.58      0.62        26\n",
      "\n",
      "avg / total       0.69      0.66      0.65       247\n",
      "\n"
     ]
    },
    {
     "name": "stderr",
     "output_type": "stream",
     "text": [
      "/Users/dereksnow/anaconda/envs/py36/lib/python3.6/site-packages/sklearn/preprocessing/label.py:151: DeprecationWarning: The truth value of an empty array is ambiguous. Returning False, but in future this will result in an error. Use `array.size > 0` to check that an array is not empty.\n",
      "  if diff:\n",
      "/Users/dereksnow/anaconda/envs/py36/lib/python3.6/site-packages/sklearn/preprocessing/label.py:151: DeprecationWarning: The truth value of an empty array is ambiguous. Returning False, but in future this will result in an error. Use `array.size > 0` to check that an array is not empty.\n",
      "  if diff:\n"
     ]
    },
    {
     "name": "stdout",
     "output_type": "stream",
     "text": [
      "                                             documents\n",
      "164  govern payment institute resist payment servic...\n",
      "882                              of deal employ dealer\n",
      "846  direct 2006 of ec european parliament council ...\n",
      "824                                          murabahah\n",
      "481  royal dear regal electron payment service spec...\n",
      "(739, 1) (494, 1)\n"
     ]
    },
    {
     "name": "stderr",
     "output_type": "stream",
     "text": [
      "\r",
      "0it [00:00, ?it/s]"
     ]
    },
    {
     "name": "stdout",
     "output_type": "stream",
     "text": [
      "Preprocessing text...\n"
     ]
    },
    {
     "name": "stderr",
     "output_type": "stream",
     "text": [
      "1it [00:00,  2.11it/s]\n"
     ]
    },
    {
     "name": "stdout",
     "output_type": "stream",
     "text": [
      "Done.\n",
      "6 6\n",
      "(739, 242) (494, 242)\n",
      "Fold 1/3\n",
      "Training until validation scores don't improve for 100 rounds.\n",
      "[100]\ttraining's multi_error: 0.243902\tvalid_1's multi_error: 0.348178\n",
      "Early stopping, best iteration is:\n",
      "[17]\ttraining's multi_error: 0.313008\tvalid_1's multi_error: 0.336032\n",
      "Important features:\n",
      "('documents_len', 322)\n",
      "('documents_wc', 98)\n",
      "('documents_tfidf_152', 55)\n",
      "('documents_tfidf_104', 53)\n",
      "('documents_tfidf_20', 53)\n",
      "('documents_tfidf_204', 33)\n",
      "('documents_tfidf_186', 33)\n",
      "('documents_tfidf_115', 32)\n",
      "('documents_tfidf_166', 30)\n",
      "('documents_tfidf_118', 25)\n",
      "('documents_tfidf_91', 22)\n",
      "('documents_tfidf_37', 20)\n",
      "('documents_tfidf_153', 19)\n",
      "('documents_tfidf_97', 18)\n",
      "('documents_tfidf_163', 15)\n",
      "('documents_tfidf_156', 14)\n",
      "('documents_tfidf_58', 14)\n",
      "('documents_tfidf_113', 3)\n",
      "('documents_tfidf_68', 1)\n",
      "             precision    recall  f1-score   support\n",
      "\n",
      "    banking       0.60      0.89      0.72       100\n",
      "  companies       0.72      0.36      0.48        36\n",
      "      funds       0.61      0.44      0.51        25\n",
      "  insurance       0.91      0.68      0.78        44\n",
      "    payment       0.67      0.38      0.48        16\n",
      " securities       0.71      0.58      0.64        26\n",
      "\n",
      "avg / total       0.69      0.66      0.65       247\n",
      "\n"
     ]
    },
    {
     "name": "stderr",
     "output_type": "stream",
     "text": [
      "/Users/dereksnow/anaconda/envs/py36/lib/python3.6/site-packages/sklearn/preprocessing/label.py:151: DeprecationWarning: The truth value of an empty array is ambiguous. Returning False, but in future this will result in an error. Use `array.size > 0` to check that an array is not empty.\n",
      "  if diff:\n",
      "/Users/dereksnow/anaconda/envs/py36/lib/python3.6/site-packages/sklearn/preprocessing/label.py:151: DeprecationWarning: The truth value of an empty array is ambiguous. Returning False, but in future this will result in an error. Use `array.size > 0` to check that an array is not empty.\n",
      "  if diff:\n"
     ]
    }
   ],
   "source": [
    "report_dict= {}\n",
    "## spell takes very long, be cautious when running \n",
    "report_dict[\"normal\"] = test_preprocessing(df)\n",
    "report_dict[\"punct\"] = test_preprocessing(df, punct=True)\n",
    "report_dict[\"stop\"] = test_preprocessing(df, stop=True)\n",
    "report_dict[\"punct and stop\"] = test_preprocessing(df, punct= True, stop=True)\n",
    "report_dict[\"stem\"] = test_preprocessing(df, stem= True)\n",
    "report_dict[\"lem\"] = test_preprocessing(df, lem= True)\n",
    "report_dict[\"stem_lem\"] = test_preprocessing(df, stem_lem = True)\n",
    "report_dict[\"stop and stem\"] = test_preprocessing(df, stem = True, stop=True)\n",
    "report_dict[\"stem spell before\"] = test_preprocessing(df, stem= True, spell_before=True)\n",
    "report_dict[\"stem spell after\"] = test_preprocessing(df, stem= True, spell_after=True)\n",
    "\n",
    "### See lest detailed output in the next codeblock."
   ]
  },
  {
   "cell_type": "code",
   "execution_count": 171,
   "metadata": {},
   "outputs": [
    {
     "name": "stdout",
     "output_type": "stream",
     "text": [
      "                                             documents\n",
      "164  govern payment institut resist payment servic ...\n",
      "882                                 deal employ dealer\n",
      "846  direct 2006 ec european parliament council may...\n",
      "824                                          murabahah\n",
      "481  royal dear regal electron payment servic speci...\n",
      "(739, 1) (494, 1)\n"
     ]
    },
    {
     "name": "stderr",
     "output_type": "stream",
     "text": [
      "\r",
      "0it [00:00, ?it/s]"
     ]
    },
    {
     "name": "stdout",
     "output_type": "stream",
     "text": [
      "Preprocessing text...\n"
     ]
    },
    {
     "name": "stderr",
     "output_type": "stream",
     "text": [
      "1it [00:00,  3.05it/s]\n"
     ]
    },
    {
     "name": "stdout",
     "output_type": "stream",
     "text": [
      "Done.\n",
      "6 6\n",
      "(739, 242) (494, 242)\n",
      "Fold 1/3\n",
      "Training until validation scores don't improve for 100 rounds.\n",
      "[100]\ttraining's multi_error: 0.25\tvalid_1's multi_error: 0.331984\n",
      "Early stopping, best iteration is:\n",
      "[29]\ttraining's multi_error: 0.284553\tvalid_1's multi_error: 0.323887\n",
      "Important features:\n",
      "('documents_len', 682)\n",
      "('documents_wc', 195)\n",
      "('documents_tfidf_20', 106)\n",
      "('documents_tfidf_153', 92)\n",
      "('documents_tfidf_106', 81)\n",
      "('documents_tfidf_117', 57)\n",
      "('documents_tfidf_187', 54)\n",
      "('documents_tfidf_167', 52)\n",
      "('documents_tfidf_38', 50)\n",
      "('documents_tfidf_204', 42)\n",
      "('documents_tfidf_120', 41)\n",
      "('documents_tfidf_156', 29)\n",
      "('documents_tfidf_58', 28)\n",
      "('documents_tfidf_93', 27)\n",
      "('documents_tfidf_99', 26)\n",
      "('documents_tfidf_163', 19)\n",
      "('documents_tfidf_115', 11)\n",
      "('documents_tfidf_26', 7)\n",
      "             precision    recall  f1-score   support\n",
      "\n",
      "    banking       0.62      0.90      0.73       100\n",
      "  companies       0.67      0.33      0.44        36\n",
      "      funds       0.63      0.48      0.55        25\n",
      "  insurance       0.88      0.68      0.77        44\n",
      "    payment       0.67      0.38      0.48        16\n",
      " securities       0.77      0.65      0.71        26\n",
      "\n",
      "avg / total       0.69      0.68      0.66       247\n",
      "\n"
     ]
    },
    {
     "name": "stderr",
     "output_type": "stream",
     "text": [
      "/Users/dereksnow/anaconda/envs/py36/lib/python3.6/site-packages/sklearn/preprocessing/label.py:151: DeprecationWarning: The truth value of an empty array is ambiguous. Returning False, but in future this will result in an error. Use `array.size > 0` to check that an array is not empty.\n",
      "  if diff:\n",
      "/Users/dereksnow/anaconda/envs/py36/lib/python3.6/site-packages/sklearn/preprocessing/label.py:151: DeprecationWarning: The truth value of an empty array is ambiguous. Returning False, but in future this will result in an error. Use `array.size > 0` to check that an array is not empty.\n",
      "  if diff:\n"
     ]
    },
    {
     "name": "stdout",
     "output_type": "stream",
     "text": [
      "                                             documents\n",
      "164  govern payment institut resist payment servic ...\n",
      "882                                 deal employ dealer\n",
      "846  direct 2006 ec european parliament council may...\n",
      "824                                          murabahah\n",
      "481  royal dear regal electron payment servic speci...\n",
      "(739, 1) (494, 1)\n"
     ]
    },
    {
     "name": "stderr",
     "output_type": "stream",
     "text": [
      "\r",
      "0it [00:00, ?it/s]"
     ]
    },
    {
     "name": "stdout",
     "output_type": "stream",
     "text": [
      "Preprocessing text...\n"
     ]
    },
    {
     "name": "stderr",
     "output_type": "stream",
     "text": [
      "1it [00:00,  3.24it/s]\n"
     ]
    },
    {
     "name": "stdout",
     "output_type": "stream",
     "text": [
      "Done.\n",
      "6 6\n",
      "(739, 242) (494, 242)\n",
      "Fold 1/3\n",
      "Training until validation scores don't improve for 100 rounds.\n",
      "[100]\ttraining's multi_error: 0.25\tvalid_1's multi_error: 0.331984\n",
      "Early stopping, best iteration is:\n",
      "[19]\ttraining's multi_error: 0.300813\tvalid_1's multi_error: 0.327935\n",
      "Important features:\n",
      "('documents_len', 436)\n",
      "('documents_wc', 132)\n",
      "('documents_tfidf_20', 70)\n",
      "('documents_tfidf_153', 62)\n",
      "('documents_tfidf_106', 52)\n",
      "('documents_tfidf_117', 38)\n",
      "('documents_tfidf_167', 36)\n",
      "('documents_tfidf_38', 29)\n",
      "('documents_tfidf_187', 26)\n",
      "('documents_tfidf_120', 25)\n",
      "('documents_tfidf_204', 24)\n",
      "('documents_tfidf_99', 19)\n",
      "('documents_tfidf_58', 19)\n",
      "('documents_tfidf_156', 18)\n",
      "('documents_tfidf_93', 17)\n",
      "('documents_tfidf_163', 14)\n",
      "('documents_tfidf_115', 8)\n",
      "('documents_tfidf_26', 6)\n",
      "             precision    recall  f1-score   support\n",
      "\n",
      "    banking       0.62      0.89      0.73       100\n",
      "  companies       0.67      0.33      0.44        36\n",
      "      funds       0.57      0.48      0.52        25\n",
      "  insurance       0.91      0.68      0.78        44\n",
      "    payment       0.67      0.38      0.48        16\n",
      " securities       0.74      0.65      0.69        26\n",
      "\n",
      "avg / total       0.69      0.67      0.66       247\n",
      "\n"
     ]
    },
    {
     "name": "stderr",
     "output_type": "stream",
     "text": [
      "/Users/dereksnow/anaconda/envs/py36/lib/python3.6/site-packages/sklearn/preprocessing/label.py:151: DeprecationWarning: The truth value of an empty array is ambiguous. Returning False, but in future this will result in an error. Use `array.size > 0` to check that an array is not empty.\n",
      "  if diff:\n",
      "/Users/dereksnow/anaconda/envs/py36/lib/python3.6/site-packages/sklearn/preprocessing/label.py:151: DeprecationWarning: The truth value of an empty array is ambiguous. Returning False, but in future this will result in an error. Use `array.size > 0` to check that an array is not empty.\n",
      "  if diff:\n"
     ]
    }
   ],
   "source": [
    "report_dict[\"stem_lem_stop\"] = test_preprocessing(df, stem_lem= True, stop=True)\n",
    "report_dict[\"stem_lem_punct\"] = test_preprocessing(df, stem_lem= True, punct=True)"
   ]
  },
  {
   "cell_type": "code",
   "execution_count": 172,
   "metadata": {},
   "outputs": [
    {
     "name": "stdout",
     "output_type": "stream",
     "text": [
      "normal :\n",
      "_________________________\n",
      "Precision      0.607338\n",
      "Recall         0.615385\n",
      "F1-score       0.603994\n",
      "Support      247.000000\n",
      "Name: Avg/Total, dtype: float64\n",
      "=========================\n",
      "punct :\n",
      "_________________________\n",
      "Precision      0.614561\n",
      "Recall         0.623482\n",
      "F1-score       0.611282\n",
      "Support      247.000000\n",
      "Name: Avg/Total, dtype: float64\n",
      "=========================\n",
      "stop :\n",
      "_________________________\n",
      "Precision      0.591105\n",
      "Recall         0.595142\n",
      "F1-score       0.552185\n",
      "Support      247.000000\n",
      "Name: Avg/Total, dtype: float64\n",
      "=========================\n",
      "punct and stop :\n",
      "_________________________\n",
      "Precision      0.591105\n",
      "Recall         0.595142\n",
      "F1-score       0.552185\n",
      "Support      247.000000\n",
      "Name: Avg/Total, dtype: float64\n",
      "=========================\n",
      "stem :\n",
      "_________________________\n",
      "Precision      0.686222\n",
      "Recall         0.672065\n",
      "F1-score       0.660029\n",
      "Support      247.000000\n",
      "Name: Avg/Total, dtype: float64\n",
      "=========================\n",
      "lem :\n",
      "_________________________\n",
      "Precision      0.686850\n",
      "Recall         0.668016\n",
      "F1-score       0.657279\n",
      "Support      247.000000\n",
      "Name: Avg/Total, dtype: float64\n",
      "=========================\n",
      "stem_lem :\n",
      "_________________________\n",
      "Precision      0.688098\n",
      "Recall         0.684211\n",
      "F1-score       0.677685\n",
      "Support      247.000000\n",
      "Name: Avg/Total, dtype: float64\n",
      "=========================\n",
      "stop and stem :\n",
      "_________________________\n",
      "Precision      0.676195\n",
      "Recall         0.672065\n",
      "F1-score       0.666044\n",
      "Support      247.000000\n",
      "Name: Avg/Total, dtype: float64\n",
      "=========================\n",
      "stem spell before :\n",
      "_________________________\n",
      "Precision      0.691116\n",
      "Recall         0.663968\n",
      "F1-score       0.649468\n",
      "Support      247.000000\n",
      "Name: Avg/Total, dtype: float64\n",
      "=========================\n",
      "stem spell after :\n",
      "_________________________\n",
      "Precision      0.690895\n",
      "Recall         0.663968\n",
      "F1-score       0.649634\n",
      "Support      247.000000\n",
      "Name: Avg/Total, dtype: float64\n",
      "=========================\n",
      "stem_lem_stop :\n",
      "_________________________\n",
      "Precision      0.694087\n",
      "Recall         0.676113\n",
      "F1-score       0.660116\n",
      "Support      247.000000\n",
      "Name: Avg/Total, dtype: float64\n",
      "=========================\n",
      "stem_lem_punct :\n",
      "_________________________\n",
      "Precision      0.689909\n",
      "Recall         0.672065\n",
      "F1-score       0.657089\n",
      "Support      247.000000\n",
      "Name: Avg/Total, dtype: float64\n",
      "=========================\n"
     ]
    }
   ],
   "source": [
    "### For this dataset a simple stem and lem performs the best. \n",
    "\n",
    "for key in report_dict.keys():\n",
    "    print(key,\":\")\n",
    "    print(\"_________________________\")\n",
    "    print(report_dict[key].iloc[-1,:])\n",
    "    print(\"=========================\")"
   ]
  },
  {
   "cell_type": "code",
   "execution_count": 173,
   "metadata": {},
   "outputs": [
    {
     "name": "stdout",
     "output_type": "stream",
     "text": [
      "normal :\n",
      "_________________________\n",
      "            Precision    Recall  F1-score  Support\n",
      "banking      0.644628  0.780000  0.705882    100.0\n",
      "companies    0.419355  0.361111  0.388060     36.0\n",
      "funds        0.411765  0.280000  0.333333     25.0\n",
      "insurance    0.690476  0.659091  0.674419     44.0\n",
      "payment      0.777778  0.437500  0.560000     16.0\n",
      "securities   0.666667  0.692308  0.679245     26.0\n",
      "Avg/Total    0.607338  0.615385  0.603994    247.0\n",
      "=========================\n",
      "punct :\n",
      "_________________________\n",
      "            Precision    Recall  F1-score  Support\n",
      "banking      0.663866  0.790000  0.721461    100.0\n",
      "companies    0.441176  0.416667  0.428571     36.0\n",
      "funds        0.400000  0.240000  0.300000     25.0\n",
      "insurance    0.682927  0.636364  0.658824     44.0\n",
      "payment      0.777778  0.437500  0.560000     16.0\n",
      "securities   0.655172  0.730769  0.690909     26.0\n",
      "Avg/Total    0.614561  0.623482  0.611282    247.0\n",
      "=========================\n",
      "stop :\n",
      "_________________________\n",
      "            Precision    Recall  F1-score  Support\n",
      "banking      0.538462  0.910000  0.676580    100.0\n",
      "companies    0.550000  0.305556  0.392857     36.0\n",
      "funds        0.555556  0.200000  0.294118     25.0\n",
      "insurance    0.925926  0.568182  0.704225     44.0\n",
      "payment      0.000000  0.000000  0.000000     16.0\n",
      "securities   0.681818  0.576923  0.625000     26.0\n",
      "Avg/Total    0.591105  0.595142  0.552185    247.0\n",
      "=========================\n",
      "punct and stop :\n",
      "_________________________\n",
      "            Precision    Recall  F1-score  Support\n",
      "banking      0.538462  0.910000  0.676580    100.0\n",
      "companies    0.550000  0.305556  0.392857     36.0\n",
      "funds        0.555556  0.200000  0.294118     25.0\n",
      "insurance    0.925926  0.568182  0.704225     44.0\n",
      "payment      0.000000  0.000000  0.000000     16.0\n",
      "securities   0.681818  0.576923  0.625000     26.0\n",
      "Avg/Total    0.591105  0.595142  0.552185    247.0\n",
      "=========================\n",
      "stem :\n",
      "_________________________\n",
      "            Precision    Recall  F1-score  Support\n",
      "banking      0.625899  0.870000  0.728033    100.0\n",
      "companies    0.666667  0.388889  0.491228     36.0\n",
      "funds        0.600000  0.480000  0.533333     25.0\n",
      "insurance    0.882353  0.681818  0.769231     44.0\n",
      "payment      0.666667  0.375000  0.480000     16.0\n",
      "securities   0.708333  0.653846  0.680000     26.0\n",
      "Avg/Total    0.686222  0.672065  0.660029    247.0\n",
      "=========================\n",
      "lem :\n",
      "_________________________\n",
      "            Precision    Recall  F1-score  Support\n",
      "banking      0.609929  0.860000  0.713693    100.0\n",
      "companies    0.636364  0.388889  0.482759     36.0\n",
      "funds        0.666667  0.480000  0.558140     25.0\n",
      "insurance    0.909091  0.681818  0.779221     44.0\n",
      "payment      0.666667  0.375000  0.480000     16.0\n",
      "securities   0.708333  0.653846  0.680000     26.0\n",
      "Avg/Total    0.686850  0.668016  0.657279    247.0\n",
      "=========================\n",
      "stem_lem :\n",
      "_________________________\n",
      "            Precision    Recall  F1-score  Support\n",
      "banking      0.656000  0.820000  0.728889    100.0\n",
      "companies    0.653846  0.472222  0.548387     36.0\n",
      "funds        0.652174  0.600000  0.625000     25.0\n",
      "insurance    0.775000  0.704545  0.738095     44.0\n",
      "payment      0.700000  0.437500  0.538462     16.0\n",
      "securities   0.739130  0.653846  0.693878     26.0\n",
      "Avg/Total    0.688098  0.684211  0.677685    247.0\n",
      "=========================\n",
      "stop and stem :\n",
      "_________________________\n",
      "            Precision    Recall  F1-score  Support\n",
      "banking      0.655738  0.800000  0.720721    100.0\n",
      "companies    0.640000  0.444444  0.524590     36.0\n",
      "funds        0.555556  0.600000  0.576923     25.0\n",
      "insurance    0.775000  0.704545  0.738095     44.0\n",
      "payment      0.700000  0.437500  0.538462     16.0\n",
      "securities   0.739130  0.653846  0.693878     26.0\n",
      "Avg/Total    0.676195  0.672065  0.666044    247.0\n",
      "=========================\n",
      "stem spell before :\n",
      "_________________________\n",
      "            Precision    Recall  F1-score  Support\n",
      "banking      0.601351  0.890000  0.717742    100.0\n",
      "companies    0.722222  0.361111  0.481481     36.0\n",
      "funds        0.647059  0.440000  0.523810     25.0\n",
      "insurance    0.909091  0.681818  0.779221     44.0\n",
      "payment      0.666667  0.375000  0.480000     16.0\n",
      "securities   0.681818  0.576923  0.625000     26.0\n",
      "Avg/Total    0.691116  0.663968  0.649468    247.0\n",
      "=========================\n",
      "stem spell after :\n",
      "_________________________\n",
      "            Precision    Recall  F1-score  Support\n",
      "banking      0.601351  0.890000  0.717742    100.0\n",
      "companies    0.722222  0.361111  0.481481     36.0\n",
      "funds        0.611111  0.440000  0.511628     25.0\n",
      "insurance    0.909091  0.681818  0.779221     44.0\n",
      "payment      0.666667  0.375000  0.480000     16.0\n",
      "securities   0.714286  0.576923  0.638298     26.0\n",
      "Avg/Total    0.690895  0.663968  0.649634    247.0\n",
      "=========================\n",
      "stem_lem_stop :\n",
      "_________________________\n",
      "            Precision    Recall  F1-score  Support\n",
      "banking      0.620690  0.900000  0.734694    100.0\n",
      "companies    0.666667  0.333333  0.444444     36.0\n",
      "funds        0.631579  0.480000  0.545455     25.0\n",
      "insurance    0.882353  0.681818  0.769231     44.0\n",
      "payment      0.666667  0.375000  0.480000     16.0\n",
      "securities   0.772727  0.653846  0.708333     26.0\n",
      "Avg/Total    0.694087  0.676113  0.660116    247.0\n",
      "=========================\n",
      "stem_lem_punct :\n",
      "_________________________\n",
      "            Precision    Recall  F1-score  Support\n",
      "banking      0.622378  0.890000  0.732510    100.0\n",
      "companies    0.666667  0.333333  0.444444     36.0\n",
      "funds        0.571429  0.480000  0.521739     25.0\n",
      "insurance    0.909091  0.681818  0.779221     44.0\n",
      "payment      0.666667  0.375000  0.480000     16.0\n",
      "securities   0.739130  0.653846  0.693878     26.0\n",
      "Avg/Total    0.689909  0.672065  0.657089    247.0\n",
      "=========================\n"
     ]
    }
   ],
   "source": [
    "## Full Analysis  \n",
    "for key in report_dict.keys():\n",
    "    print(key,\":\")\n",
    "    print(\"_________________________\")\n",
    "    print(report_dict[key])\n",
    "    print(\"=========================\")"
   ]
  }
 ],
 "metadata": {
  "kernelspec": {
   "display_name": "py36",
   "language": "python",
   "name": "py36"
  },
  "language_info": {
   "codemirror_mode": {
    "name": "ipython",
    "version": 3
   },
   "file_extension": ".py",
   "mimetype": "text/x-python",
   "name": "python",
   "nbconvert_exporter": "python",
   "pygments_lexer": "ipython3",
   "version": "3.6.3"
  }
 },
 "nbformat": 4,
 "nbformat_minor": 2
}
