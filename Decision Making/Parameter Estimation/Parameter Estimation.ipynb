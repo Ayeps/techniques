{
 "cells": [
  {
   "cell_type": "code",
   "execution_count": 93,
   "metadata": {},
   "outputs": [],
   "source": [
    "import pandas as pd\n",
    "\n",
    "df = pd.read_csv(\"param.csv\")"
   ]
  },
  {
   "cell_type": "code",
   "execution_count": 94,
   "metadata": {},
   "outputs": [
    {
     "data": {
      "text/html": [
       "<div>\n",
       "<style scoped>\n",
       "    .dataframe tbody tr th:only-of-type {\n",
       "        vertical-align: middle;\n",
       "    }\n",
       "\n",
       "    .dataframe tbody tr th {\n",
       "        vertical-align: top;\n",
       "    }\n",
       "\n",
       "    .dataframe thead th {\n",
       "        text-align: right;\n",
       "    }\n",
       "</style>\n",
       "<table border=\"1\" class=\"dataframe\">\n",
       "  <thead>\n",
       "    <tr style=\"text-align: right;\">\n",
       "      <th></th>\n",
       "      <th>Year</th>\n",
       "      <th>It</th>\n",
       "      <th>It/Kt</th>\n",
       "    </tr>\n",
       "  </thead>\n",
       "  <tbody>\n",
       "    <tr>\n",
       "      <th>0</th>\n",
       "      <td>1947</td>\n",
       "      <td>1.238212</td>\n",
       "      <td>0.451769</td>\n",
       "    </tr>\n",
       "    <tr>\n",
       "      <th>1</th>\n",
       "      <td>1948</td>\n",
       "      <td>0.839717</td>\n",
       "      <td>0.404152</td>\n",
       "    </tr>\n",
       "    <tr>\n",
       "      <th>2</th>\n",
       "      <td>1949</td>\n",
       "      <td>0.543115</td>\n",
       "      <td>0.300106</td>\n",
       "    </tr>\n",
       "    <tr>\n",
       "      <th>3</th>\n",
       "      <td>1950</td>\n",
       "      <td>0.199822</td>\n",
       "      <td>0.109397</td>\n",
       "    </tr>\n",
       "    <tr>\n",
       "      <th>4</th>\n",
       "      <td>1951</td>\n",
       "      <td>0.276243</td>\n",
       "      <td>0.152660</td>\n",
       "    </tr>\n",
       "  </tbody>\n",
       "</table>\n",
       "</div>"
      ],
      "text/plain": [
       "   Year        It     It/Kt\n",
       "0  1947  1.238212  0.451769\n",
       "1  1948  0.839717  0.404152\n",
       "2  1949  0.543115  0.300106\n",
       "3  1950  0.199822  0.109397\n",
       "4  1951  0.276243  0.152660"
      ]
     },
     "execution_count": 94,
     "metadata": {},
     "output_type": "execute_result"
    }
   ],
   "source": [
    "df.head()"
   ]
  },
  {
   "cell_type": "code",
   "execution_count": 95,
   "metadata": {},
   "outputs": [],
   "source": [
    "df[\"Kt\"] = df[\"It/Kt\"]/df[\"It\"]   # Create Separate Variables"
   ]
  },
  {
   "cell_type": "code",
   "execution_count": 96,
   "metadata": {},
   "outputs": [],
   "source": [
    "alpha = 13.22  # Initialisation values\n",
    "mp = 0.16"
   ]
  },
  {
   "cell_type": "code",
   "execution_count": 97,
   "metadata": {},
   "outputs": [],
   "source": [
    "ar = [mp, alpha] # initialisation array"
   ]
  },
  {
   "cell_type": "code",
   "execution_count": 98,
   "metadata": {},
   "outputs": [],
   "source": [
    "## The version dulani prefers\n",
    "## (0.9*(mp+(1+alpha*(It/Kt)**3)/((1-(1.5*alpha)*(It/Kt)**2))*(1-(1.5*alpha)*(It.shift(-1)/Kt.shift(-1))**2))).mean()\n",
    "\n",
    "## The version I prefer\n",
    "## (0.9*(mp+(1+alpha*(It.shift(-1)/Kt.shift(-1))**3)/((1-(1.5*alpha*(It.shift(-1)/Kt.shift(-1))**2))))*(1-(1.5*alpha*(It/Kt)**2))).mean()"
   ]
  },
  {
   "cell_type": "code",
   "execution_count": 105,
   "metadata": {},
   "outputs": [],
   "source": [
    "import scipy.optimize as optimize\n",
    "\n",
    "# This defines the function to be optimised\n",
    "def f(ar):\n",
    "    It = df[\"It\"]\n",
    "    Kt = df[\"Kt\"]\n",
    "    mp, alpha = ar  ## Here I load the parameters from the array\n",
    "    \n",
    "    return (0.9*(mp+(1+alpha*(It/Kt)**3)/((1-(1.5*alpha)*(It/Kt)**2))*(1-(1.5*alpha)*(It.shift(-1)/Kt.shift(-1))**2))).mean()"
   ]
  },
  {
   "cell_type": "code",
   "execution_count": 106,
   "metadata": {},
   "outputs": [],
   "source": [
    "def conmean(ar):\n",
    "    It = df[\"It\"]\n",
    "    Kt = df[\"Kt\"]\n",
    "    mp, alpha = ar\n",
    "    ## here you set the equality with mean\n",
    "    return (0.9*(mp+(1+alpha*(It/Kt)**3)/((1-(1.5*alpha)*(It/Kt)**2))*(1-(1.5*alpha)*(It.shift(-1)/Kt.shift(-1))**2))).mean() - 0.0089"
   ]
  },
  {
   "cell_type": "code",
   "execution_count": 107,
   "metadata": {},
   "outputs": [],
   "source": [
    "def consd(ar):\n",
    "    It = df[\"It\"]\n",
    "    Kt = df[\"Kt\"]\n",
    "    mp, alpha = ar\n",
    "    ## here you set the equality with sd\n",
    "    return (0.9*(mp+(1+alpha*(It/Kt)**3)/((1-(1.5*alpha)*(It/Kt)**2))*(1-(1.5*alpha)*(It.shift(-1)/Kt.shift(-1))**2))).std() - 0.026387549"
   ]
  },
  {
   "cell_type": "code",
   "execution_count": 108,
   "metadata": {},
   "outputs": [],
   "source": [
    "cons = ({'type':'eq', 'fun': conmean},   ## Add constraints here\n",
    "       {'type':'eq', 'fun': consd})"
   ]
  },
  {
   "cell_type": "code",
   "execution_count": 110,
   "metadata": {},
   "outputs": [],
   "source": [
    "import scipy\n",
    "x0 = [0.16, 13.22]  ## add initialisation here\n",
    "\n",
    "res = scipy.optimize.minimize(f,x0, constraints=cons)"
   ]
  },
  {
   "cell_type": "code",
   "execution_count": 113,
   "metadata": {},
   "outputs": [
    {
     "data": {
      "text/plain": [
       "     fun: -4712541557.682465\n",
       "     jac: array([ 0.00000000e+00, -3.56481856e+08])\n",
       " message: 'Optimization terminated successfully.'\n",
       "    nfev: 52\n",
       "     nit: 12\n",
       "    njev: 8\n",
       "  status: 0\n",
       " success: True\n",
       "       x: array([-466.79651676,   13.22      ])"
      ]
     },
     "execution_count": 113,
     "metadata": {},
     "output_type": "execute_result"
    }
   ],
   "source": [
    "res"
   ]
  },
  {
   "cell_type": "code",
   "execution_count": 114,
   "metadata": {},
   "outputs": [
    {
     "data": {
      "text/plain": [
       "-466.7965167606627"
      ]
     },
     "execution_count": 114,
     "metadata": {},
     "output_type": "execute_result"
    }
   ],
   "source": [
    "## mp\n",
    "res[\"x\"][0] "
   ]
  },
  {
   "cell_type": "code",
   "execution_count": 115,
   "metadata": {},
   "outputs": [
    {
     "data": {
      "text/plain": [
       "13.219999997356032"
      ]
     },
     "execution_count": 115,
     "metadata": {},
     "output_type": "execute_result"
    }
   ],
   "source": [
    "## alpha\n",
    "res[\"x\"][1] "
   ]
  },
  {
   "cell_type": "code",
   "execution_count": null,
   "metadata": {},
   "outputs": [],
   "source": []
  }
 ],
 "metadata": {
  "kernelspec": {
   "display_name": "py36",
   "language": "python",
   "name": "py36"
  },
  "language_info": {
   "codemirror_mode": {
    "name": "ipython",
    "version": 3
   },
   "file_extension": ".py",
   "mimetype": "text/x-python",
   "name": "python",
   "nbconvert_exporter": "python",
   "pygments_lexer": "ipython3",
   "version": "3.6.3"
  }
 },
 "nbformat": 4,
 "nbformat_minor": 2
}
